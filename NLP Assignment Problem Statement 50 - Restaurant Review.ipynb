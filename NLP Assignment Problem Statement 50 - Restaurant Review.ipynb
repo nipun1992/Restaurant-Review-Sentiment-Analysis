{
  "cells": [
    {
      "cell_type": "markdown",
      "metadata": {
        "id": "-1glbD8hUG0H"
      },
      "source": [
        "### Group Members:\n",
        "    \n",
        " - Aiswarya S Parvathy\n",
        " - Vengadesh S\n",
        " - Nipun Gupta   "
      ]
    },
    {
      "cell_type": "markdown",
      "metadata": {
        "id": "ri_cZFTkUG0L"
      },
      "source": [
        "### Objective: \n",
        "\n",
        "Build a prediction model to predict whether a review on the restaurant is positive or negative."
      ]
    },
    {
      "cell_type": "markdown",
      "metadata": {
        "id": "49zKzmoRUG0M"
      },
      "source": [
        "### Importing pandas"
      ]
    },
    {
      "cell_type": "code",
      "execution_count": 1,
      "metadata": {
        "id": "3dQA3srOUG0M"
      },
      "outputs": [],
      "source": [
        "import pandas as pd\n",
        "import numpy as np"
      ]
    },
    {
      "cell_type": "markdown",
      "metadata": {
        "id": "HpT_Av-BUG0O"
      },
      "source": [
        "Reading the csv dataset as a pandas dataframe"
      ]
    },
    {
      "cell_type": "code",
      "execution_count": 2,
      "metadata": {
        "id": "A0fZvfpHUG0O"
      },
      "outputs": [],
      "source": [
        "Rest_rev = pd.read_csv('RestaurantReview.csv')"
      ]
    },
    {
      "cell_type": "code",
      "execution_count": 3,
      "metadata": {
        "colab": {
          "base_uri": "https://localhost:8080/"
        },
        "id": "92Lp9VYdUG0P",
        "outputId": "f6b3f34f-eccc-4e82-cc9e-3ec3d203acb8"
      },
      "outputs": [
        {
          "output_type": "stream",
          "name": "stderr",
          "text": [
            "<ipython-input-3-0891b765a168>:1: FutureWarning: Passing a negative integer is deprecated in version 1.0 and will not be supported in future version. Instead, use None to not limit the column width.\n",
            "  pd.set_option('display.max_colwidth', -1)\n"
          ]
        }
      ],
      "source": [
        "pd.set_option('display.max_colwidth', -1)"
      ]
    },
    {
      "cell_type": "code",
      "execution_count": 4,
      "metadata": {
        "colab": {
          "base_uri": "https://localhost:8080/",
          "height": 206
        },
        "id": "_REkiZBTUG0P",
        "outputId": "23dc9da8-1c08-41ee-afd9-ce772065e5ce"
      },
      "outputs": [
        {
          "output_type": "execute_result",
          "data": {
            "text/plain": [
              "                                                                                    Review  \\\n",
              "0  Wow... Loved this place.                                                                  \n",
              "1  Crust is not good.                                                                        \n",
              "2  Not tasty and the texture was just nasty.                                                 \n",
              "3  Stopped by during the late May bank holiday off Rick Steve recommendation and loved it.   \n",
              "4  The selection on the menu was great and so were the prices.                               \n",
              "\n",
              "   Liked  \n",
              "0  1      \n",
              "1  0      \n",
              "2  0      \n",
              "3  1      \n",
              "4  1      "
            ],
            "text/html": [
              "\n",
              "  <div id=\"df-f55963a8-50d5-4911-a17f-43418f9c4faf\">\n",
              "    <div class=\"colab-df-container\">\n",
              "      <div>\n",
              "<style scoped>\n",
              "    .dataframe tbody tr th:only-of-type {\n",
              "        vertical-align: middle;\n",
              "    }\n",
              "\n",
              "    .dataframe tbody tr th {\n",
              "        vertical-align: top;\n",
              "    }\n",
              "\n",
              "    .dataframe thead th {\n",
              "        text-align: right;\n",
              "    }\n",
              "</style>\n",
              "<table border=\"1\" class=\"dataframe\">\n",
              "  <thead>\n",
              "    <tr style=\"text-align: right;\">\n",
              "      <th></th>\n",
              "      <th>Review</th>\n",
              "      <th>Liked</th>\n",
              "    </tr>\n",
              "  </thead>\n",
              "  <tbody>\n",
              "    <tr>\n",
              "      <th>0</th>\n",
              "      <td>Wow... Loved this place.</td>\n",
              "      <td>1</td>\n",
              "    </tr>\n",
              "    <tr>\n",
              "      <th>1</th>\n",
              "      <td>Crust is not good.</td>\n",
              "      <td>0</td>\n",
              "    </tr>\n",
              "    <tr>\n",
              "      <th>2</th>\n",
              "      <td>Not tasty and the texture was just nasty.</td>\n",
              "      <td>0</td>\n",
              "    </tr>\n",
              "    <tr>\n",
              "      <th>3</th>\n",
              "      <td>Stopped by during the late May bank holiday off Rick Steve recommendation and loved it.</td>\n",
              "      <td>1</td>\n",
              "    </tr>\n",
              "    <tr>\n",
              "      <th>4</th>\n",
              "      <td>The selection on the menu was great and so were the prices.</td>\n",
              "      <td>1</td>\n",
              "    </tr>\n",
              "  </tbody>\n",
              "</table>\n",
              "</div>\n",
              "      <button class=\"colab-df-convert\" onclick=\"convertToInteractive('df-f55963a8-50d5-4911-a17f-43418f9c4faf')\"\n",
              "              title=\"Convert this dataframe to an interactive table.\"\n",
              "              style=\"display:none;\">\n",
              "        \n",
              "  <svg xmlns=\"http://www.w3.org/2000/svg\" height=\"24px\"viewBox=\"0 0 24 24\"\n",
              "       width=\"24px\">\n",
              "    <path d=\"M0 0h24v24H0V0z\" fill=\"none\"/>\n",
              "    <path d=\"M18.56 5.44l.94 2.06.94-2.06 2.06-.94-2.06-.94-.94-2.06-.94 2.06-2.06.94zm-11 1L8.5 8.5l.94-2.06 2.06-.94-2.06-.94L8.5 2.5l-.94 2.06-2.06.94zm10 10l.94 2.06.94-2.06 2.06-.94-2.06-.94-.94-2.06-.94 2.06-2.06.94z\"/><path d=\"M17.41 7.96l-1.37-1.37c-.4-.4-.92-.59-1.43-.59-.52 0-1.04.2-1.43.59L10.3 9.45l-7.72 7.72c-.78.78-.78 2.05 0 2.83L4 21.41c.39.39.9.59 1.41.59.51 0 1.02-.2 1.41-.59l7.78-7.78 2.81-2.81c.8-.78.8-2.07 0-2.86zM5.41 20L4 18.59l7.72-7.72 1.47 1.35L5.41 20z\"/>\n",
              "  </svg>\n",
              "      </button>\n",
              "      \n",
              "  <style>\n",
              "    .colab-df-container {\n",
              "      display:flex;\n",
              "      flex-wrap:wrap;\n",
              "      gap: 12px;\n",
              "    }\n",
              "\n",
              "    .colab-df-convert {\n",
              "      background-color: #E8F0FE;\n",
              "      border: none;\n",
              "      border-radius: 50%;\n",
              "      cursor: pointer;\n",
              "      display: none;\n",
              "      fill: #1967D2;\n",
              "      height: 32px;\n",
              "      padding: 0 0 0 0;\n",
              "      width: 32px;\n",
              "    }\n",
              "\n",
              "    .colab-df-convert:hover {\n",
              "      background-color: #E2EBFA;\n",
              "      box-shadow: 0px 1px 2px rgba(60, 64, 67, 0.3), 0px 1px 3px 1px rgba(60, 64, 67, 0.15);\n",
              "      fill: #174EA6;\n",
              "    }\n",
              "\n",
              "    [theme=dark] .colab-df-convert {\n",
              "      background-color: #3B4455;\n",
              "      fill: #D2E3FC;\n",
              "    }\n",
              "\n",
              "    [theme=dark] .colab-df-convert:hover {\n",
              "      background-color: #434B5C;\n",
              "      box-shadow: 0px 1px 3px 1px rgba(0, 0, 0, 0.15);\n",
              "      filter: drop-shadow(0px 1px 2px rgba(0, 0, 0, 0.3));\n",
              "      fill: #FFFFFF;\n",
              "    }\n",
              "  </style>\n",
              "\n",
              "      <script>\n",
              "        const buttonEl =\n",
              "          document.querySelector('#df-f55963a8-50d5-4911-a17f-43418f9c4faf button.colab-df-convert');\n",
              "        buttonEl.style.display =\n",
              "          google.colab.kernel.accessAllowed ? 'block' : 'none';\n",
              "\n",
              "        async function convertToInteractive(key) {\n",
              "          const element = document.querySelector('#df-f55963a8-50d5-4911-a17f-43418f9c4faf');\n",
              "          const dataTable =\n",
              "            await google.colab.kernel.invokeFunction('convertToInteractive',\n",
              "                                                     [key], {});\n",
              "          if (!dataTable) return;\n",
              "\n",
              "          const docLinkHtml = 'Like what you see? Visit the ' +\n",
              "            '<a target=\"_blank\" href=https://colab.research.google.com/notebooks/data_table.ipynb>data table notebook</a>'\n",
              "            + ' to learn more about interactive tables.';\n",
              "          element.innerHTML = '';\n",
              "          dataTable['output_type'] = 'display_data';\n",
              "          await google.colab.output.renderOutput(dataTable, element);\n",
              "          const docLink = document.createElement('div');\n",
              "          docLink.innerHTML = docLinkHtml;\n",
              "          element.appendChild(docLink);\n",
              "        }\n",
              "      </script>\n",
              "    </div>\n",
              "  </div>\n",
              "  "
            ]
          },
          "metadata": {},
          "execution_count": 4
        }
      ],
      "source": [
        "Rest_rev.head()"
      ]
    },
    {
      "cell_type": "markdown",
      "metadata": {
        "id": "lZhFEpvHUG0R"
      },
      "source": [
        "Checking details of the dataframe"
      ]
    },
    {
      "cell_type": "code",
      "execution_count": 5,
      "metadata": {
        "colab": {
          "base_uri": "https://localhost:8080/"
        },
        "id": "N2IX3f_9UG0S",
        "outputId": "6957616b-f8d9-48d0-e5fe-f6ea3dc9f5c8"
      },
      "outputs": [
        {
          "output_type": "stream",
          "name": "stdout",
          "text": [
            "<class 'pandas.core.frame.DataFrame'>\n",
            "RangeIndex: 1000 entries, 0 to 999\n",
            "Data columns (total 2 columns):\n",
            " #   Column   Non-Null Count  Dtype \n",
            "---  ------   --------------  ----- \n",
            " 0    Review  1000 non-null   object\n",
            " 1   Liked    1000 non-null   int64 \n",
            "dtypes: int64(1), object(1)\n",
            "memory usage: 15.8+ KB\n"
          ]
        }
      ],
      "source": [
        "Rest_rev.info()"
      ]
    },
    {
      "cell_type": "code",
      "execution_count": 6,
      "metadata": {
        "colab": {
          "base_uri": "https://localhost:8080/"
        },
        "id": "cqBZV9xiUG0S",
        "outputId": "957ef5a8-5fc3-4f9d-cf89-581c9bddd43e"
      },
      "outputs": [
        {
          "output_type": "execute_result",
          "data": {
            "text/plain": [
              "Index([' Review', 'Liked'], dtype='object')"
            ]
          },
          "metadata": {},
          "execution_count": 6
        }
      ],
      "source": [
        "Rest_rev.columns"
      ]
    },
    {
      "cell_type": "markdown",
      "metadata": {
        "id": "PvW_t1dTUG0T"
      },
      "source": [
        "The column **Review** has a leading space in its name. So we can rename the column to remove this leading space"
      ]
    },
    {
      "cell_type": "code",
      "execution_count": 7,
      "metadata": {
        "id": "XJLGrY_xUG0T"
      },
      "outputs": [],
      "source": [
        "Rest_rev = Rest_rev.rename(columns={' Review':'Review'})"
      ]
    },
    {
      "cell_type": "code",
      "execution_count": 8,
      "metadata": {
        "colab": {
          "base_uri": "https://localhost:8080/"
        },
        "id": "tHVRQAcdUG0U",
        "outputId": "b08b4be8-641a-4fae-97af-b66a7d474ce6"
      },
      "outputs": [
        {
          "output_type": "execute_result",
          "data": {
            "text/plain": [
              "Index(['Review', 'Liked'], dtype='object')"
            ]
          },
          "metadata": {},
          "execution_count": 8
        }
      ],
      "source": [
        "Rest_rev.columns"
      ]
    },
    {
      "cell_type": "markdown",
      "metadata": {
        "id": "-IeqlzXnUG0V"
      },
      "source": [
        "The leading space has been removed from the **Review** column"
      ]
    },
    {
      "cell_type": "markdown",
      "metadata": {
        "id": "7PKc3Ws9UG0V"
      },
      "source": [
        "Checking for presence of missing values"
      ]
    },
    {
      "cell_type": "code",
      "execution_count": 9,
      "metadata": {
        "colab": {
          "base_uri": "https://localhost:8080/"
        },
        "id": "YmA31ij1UG0W",
        "outputId": "661e3cde-7146-45d4-f573-a2c6a6f73018"
      },
      "outputs": [
        {
          "output_type": "execute_result",
          "data": {
            "text/plain": [
              "Review    0\n",
              "Liked     0\n",
              "dtype: int64"
            ]
          },
          "metadata": {},
          "execution_count": 9
        }
      ],
      "source": [
        "Rest_rev.isnull().sum()"
      ]
    },
    {
      "cell_type": "markdown",
      "metadata": {
        "id": "n0U-Cg-fUG0W"
      },
      "source": [
        "There are no missing values in the dataframe"
      ]
    },
    {
      "cell_type": "markdown",
      "metadata": {
        "id": "QDVyjhszUG0X"
      },
      "source": [
        "Checking for presence of duplicates"
      ]
    },
    {
      "cell_type": "code",
      "execution_count": 10,
      "metadata": {
        "colab": {
          "base_uri": "https://localhost:8080/"
        },
        "id": "wQ6hZ1MiUG0X",
        "outputId": "a96b5939-6ddf-48e7-bca1-20a53af0d0da"
      },
      "outputs": [
        {
          "output_type": "execute_result",
          "data": {
            "text/plain": [
              "4"
            ]
          },
          "metadata": {},
          "execution_count": 10
        }
      ],
      "source": [
        "Rest_rev.duplicated(subset=None, keep='first').sum()"
      ]
    },
    {
      "cell_type": "markdown",
      "metadata": {
        "id": "JVQs3TkIUG0X"
      },
      "source": [
        "There are 4 duplicate records in the dataframe"
      ]
    },
    {
      "cell_type": "code",
      "execution_count": 11,
      "metadata": {
        "colab": {
          "base_uri": "https://localhost:8080/"
        },
        "id": "4kMsCOEzUG0Y",
        "outputId": "1f17da43-cb50-4e93-f932-5bd5b2ecc86f"
      },
      "outputs": [
        {
          "output_type": "execute_result",
          "data": {
            "text/plain": [
              "(1000, 2)"
            ]
          },
          "metadata": {},
          "execution_count": 11
        }
      ],
      "source": [
        "Rest_rev.shape"
      ]
    },
    {
      "cell_type": "markdown",
      "metadata": {
        "id": "oRjeXcZUUG0Z"
      },
      "source": [
        "Removing the duplicate records"
      ]
    },
    {
      "cell_type": "code",
      "execution_count": 12,
      "metadata": {
        "id": "58Nj9H2sUG0Z"
      },
      "outputs": [],
      "source": [
        "Rest_rev = Rest_rev[Rest_rev.duplicated(Rest_rev.columns.tolist(), keep='first')==False]"
      ]
    },
    {
      "cell_type": "code",
      "execution_count": 13,
      "metadata": {
        "colab": {
          "base_uri": "https://localhost:8080/"
        },
        "id": "L1pYaQ6ZUG0a",
        "outputId": "62d7e4c8-d369-45e0-a300-c5d08c61c73e"
      },
      "outputs": [
        {
          "output_type": "execute_result",
          "data": {
            "text/plain": [
              "0"
            ]
          },
          "metadata": {},
          "execution_count": 13
        }
      ],
      "source": [
        "Rest_rev.duplicated(subset=None, keep='first').sum()"
      ]
    },
    {
      "cell_type": "code",
      "execution_count": 14,
      "metadata": {
        "colab": {
          "base_uri": "https://localhost:8080/"
        },
        "id": "BbXLg7GBUG0a",
        "outputId": "f06914ba-05d1-4796-af21-2ae6b6642bdf"
      },
      "outputs": [
        {
          "output_type": "execute_result",
          "data": {
            "text/plain": [
              "(996, 2)"
            ]
          },
          "metadata": {},
          "execution_count": 14
        }
      ],
      "source": [
        "Rest_rev.shape"
      ]
    },
    {
      "cell_type": "markdown",
      "metadata": {
        "id": "TYhULLHoUG0b"
      },
      "source": [
        "Duplicate records have been removed from the dataframe"
      ]
    },
    {
      "cell_type": "code",
      "execution_count": 15,
      "metadata": {
        "id": "aPHvovs7UG0b"
      },
      "outputs": [],
      "source": [
        "Rest_rev.reset_index(inplace = True, drop = True)"
      ]
    },
    {
      "cell_type": "markdown",
      "metadata": {
        "id": "rBcbZDlwUG0b"
      },
      "source": [
        "Indices have been reset"
      ]
    },
    {
      "cell_type": "code",
      "execution_count": 16,
      "metadata": {
        "colab": {
          "base_uri": "https://localhost:8080/",
          "height": 175
        },
        "id": "SN8oKcuZUG0c",
        "outputId": "7cf5d591-2454-4f7c-9f43-63c019d8f06b"
      },
      "outputs": [
        {
          "output_type": "execute_result",
          "data": {
            "text/plain": [
              "      Review                                      \n",
              "       count unique                       top freq\n",
              "Liked                                             \n",
              "0      497    497    Crust is not good.        1  \n",
              "1      499    499    Wow... Loved this place.  1  "
            ],
            "text/html": [
              "\n",
              "  <div id=\"df-6df675ef-2f0b-4181-906b-689b22ff9073\">\n",
              "    <div class=\"colab-df-container\">\n",
              "      <div>\n",
              "<style scoped>\n",
              "    .dataframe tbody tr th:only-of-type {\n",
              "        vertical-align: middle;\n",
              "    }\n",
              "\n",
              "    .dataframe tbody tr th {\n",
              "        vertical-align: top;\n",
              "    }\n",
              "\n",
              "    .dataframe thead tr th {\n",
              "        text-align: left;\n",
              "    }\n",
              "\n",
              "    .dataframe thead tr:last-of-type th {\n",
              "        text-align: right;\n",
              "    }\n",
              "</style>\n",
              "<table border=\"1\" class=\"dataframe\">\n",
              "  <thead>\n",
              "    <tr>\n",
              "      <th></th>\n",
              "      <th colspan=\"4\" halign=\"left\">Review</th>\n",
              "    </tr>\n",
              "    <tr>\n",
              "      <th></th>\n",
              "      <th>count</th>\n",
              "      <th>unique</th>\n",
              "      <th>top</th>\n",
              "      <th>freq</th>\n",
              "    </tr>\n",
              "    <tr>\n",
              "      <th>Liked</th>\n",
              "      <th></th>\n",
              "      <th></th>\n",
              "      <th></th>\n",
              "      <th></th>\n",
              "    </tr>\n",
              "  </thead>\n",
              "  <tbody>\n",
              "    <tr>\n",
              "      <th>0</th>\n",
              "      <td>497</td>\n",
              "      <td>497</td>\n",
              "      <td>Crust is not good.</td>\n",
              "      <td>1</td>\n",
              "    </tr>\n",
              "    <tr>\n",
              "      <th>1</th>\n",
              "      <td>499</td>\n",
              "      <td>499</td>\n",
              "      <td>Wow... Loved this place.</td>\n",
              "      <td>1</td>\n",
              "    </tr>\n",
              "  </tbody>\n",
              "</table>\n",
              "</div>\n",
              "      <button class=\"colab-df-convert\" onclick=\"convertToInteractive('df-6df675ef-2f0b-4181-906b-689b22ff9073')\"\n",
              "              title=\"Convert this dataframe to an interactive table.\"\n",
              "              style=\"display:none;\">\n",
              "        \n",
              "  <svg xmlns=\"http://www.w3.org/2000/svg\" height=\"24px\"viewBox=\"0 0 24 24\"\n",
              "       width=\"24px\">\n",
              "    <path d=\"M0 0h24v24H0V0z\" fill=\"none\"/>\n",
              "    <path d=\"M18.56 5.44l.94 2.06.94-2.06 2.06-.94-2.06-.94-.94-2.06-.94 2.06-2.06.94zm-11 1L8.5 8.5l.94-2.06 2.06-.94-2.06-.94L8.5 2.5l-.94 2.06-2.06.94zm10 10l.94 2.06.94-2.06 2.06-.94-2.06-.94-.94-2.06-.94 2.06-2.06.94z\"/><path d=\"M17.41 7.96l-1.37-1.37c-.4-.4-.92-.59-1.43-.59-.52 0-1.04.2-1.43.59L10.3 9.45l-7.72 7.72c-.78.78-.78 2.05 0 2.83L4 21.41c.39.39.9.59 1.41.59.51 0 1.02-.2 1.41-.59l7.78-7.78 2.81-2.81c.8-.78.8-2.07 0-2.86zM5.41 20L4 18.59l7.72-7.72 1.47 1.35L5.41 20z\"/>\n",
              "  </svg>\n",
              "      </button>\n",
              "      \n",
              "  <style>\n",
              "    .colab-df-container {\n",
              "      display:flex;\n",
              "      flex-wrap:wrap;\n",
              "      gap: 12px;\n",
              "    }\n",
              "\n",
              "    .colab-df-convert {\n",
              "      background-color: #E8F0FE;\n",
              "      border: none;\n",
              "      border-radius: 50%;\n",
              "      cursor: pointer;\n",
              "      display: none;\n",
              "      fill: #1967D2;\n",
              "      height: 32px;\n",
              "      padding: 0 0 0 0;\n",
              "      width: 32px;\n",
              "    }\n",
              "\n",
              "    .colab-df-convert:hover {\n",
              "      background-color: #E2EBFA;\n",
              "      box-shadow: 0px 1px 2px rgba(60, 64, 67, 0.3), 0px 1px 3px 1px rgba(60, 64, 67, 0.15);\n",
              "      fill: #174EA6;\n",
              "    }\n",
              "\n",
              "    [theme=dark] .colab-df-convert {\n",
              "      background-color: #3B4455;\n",
              "      fill: #D2E3FC;\n",
              "    }\n",
              "\n",
              "    [theme=dark] .colab-df-convert:hover {\n",
              "      background-color: #434B5C;\n",
              "      box-shadow: 0px 1px 3px 1px rgba(0, 0, 0, 0.15);\n",
              "      filter: drop-shadow(0px 1px 2px rgba(0, 0, 0, 0.3));\n",
              "      fill: #FFFFFF;\n",
              "    }\n",
              "  </style>\n",
              "\n",
              "      <script>\n",
              "        const buttonEl =\n",
              "          document.querySelector('#df-6df675ef-2f0b-4181-906b-689b22ff9073 button.colab-df-convert');\n",
              "        buttonEl.style.display =\n",
              "          google.colab.kernel.accessAllowed ? 'block' : 'none';\n",
              "\n",
              "        async function convertToInteractive(key) {\n",
              "          const element = document.querySelector('#df-6df675ef-2f0b-4181-906b-689b22ff9073');\n",
              "          const dataTable =\n",
              "            await google.colab.kernel.invokeFunction('convertToInteractive',\n",
              "                                                     [key], {});\n",
              "          if (!dataTable) return;\n",
              "\n",
              "          const docLinkHtml = 'Like what you see? Visit the ' +\n",
              "            '<a target=\"_blank\" href=https://colab.research.google.com/notebooks/data_table.ipynb>data table notebook</a>'\n",
              "            + ' to learn more about interactive tables.';\n",
              "          element.innerHTML = '';\n",
              "          dataTable['output_type'] = 'display_data';\n",
              "          await google.colab.output.renderOutput(dataTable, element);\n",
              "          const docLink = document.createElement('div');\n",
              "          docLink.innerHTML = docLinkHtml;\n",
              "          element.appendChild(docLink);\n",
              "        }\n",
              "      </script>\n",
              "    </div>\n",
              "  </div>\n",
              "  "
            ]
          },
          "metadata": {},
          "execution_count": 16
        }
      ],
      "source": [
        "Rest_rev.groupby('Liked').describe()"
      ]
    },
    {
      "cell_type": "markdown",
      "metadata": {
        "id": "Wv3u8ZD8UG0c"
      },
      "source": [
        "The following conclusions can be drawn from the above result:\n",
        "\n",
        " - The count of negative reviews is 497\n",
        " - The count of positive reviews is 499"
      ]
    },
    {
      "cell_type": "markdown",
      "metadata": {
        "id": "YzwrRXJWUG0d"
      },
      "source": [
        "Let's create a new column to detect how long the text messages are"
      ]
    },
    {
      "cell_type": "code",
      "execution_count": 17,
      "metadata": {
        "id": "UV_um9hnUG0d"
      },
      "outputs": [],
      "source": [
        "Rest_rev['Length'] = Rest_rev['Review'].apply(len)"
      ]
    },
    {
      "cell_type": "code",
      "execution_count": 18,
      "metadata": {
        "colab": {
          "base_uri": "https://localhost:8080/",
          "height": 363
        },
        "id": "oK3KB4VoUG0d",
        "outputId": "d6217361-80cb-46d0-becb-f91bab4fda86"
      },
      "outputs": [
        {
          "output_type": "execute_result",
          "data": {
            "text/plain": [
              "                                                                                                            Review  \\\n",
              "0  Wow... Loved this place.                                                                                          \n",
              "1  Crust is not good.                                                                                                \n",
              "2  Not tasty and the texture was just nasty.                                                                         \n",
              "3  Stopped by during the late May bank holiday off Rick Steve recommendation and loved it.                           \n",
              "4  The selection on the menu was great and so were the prices.                                                       \n",
              "5  Now I am getting angry and I want my damn pho.                                                                    \n",
              "6  Honeslty it didn't taste THAT fresh.)                                                                             \n",
              "7  The potatoes were like rubber and you could tell they had been made up ahead of time being kept under a warmer.   \n",
              "8  The fries were great too.                                                                                         \n",
              "9  A great touch.                                                                                                    \n",
              "\n",
              "   Liked  Length  \n",
              "0  1      24      \n",
              "1  0      18      \n",
              "2  0      41      \n",
              "3  1      87      \n",
              "4  1      59      \n",
              "5  0      46      \n",
              "6  0      37      \n",
              "7  0      111     \n",
              "8  1      25      \n",
              "9  1      14      "
            ],
            "text/html": [
              "\n",
              "  <div id=\"df-184afe69-7319-4fbc-afbe-65de56541abb\">\n",
              "    <div class=\"colab-df-container\">\n",
              "      <div>\n",
              "<style scoped>\n",
              "    .dataframe tbody tr th:only-of-type {\n",
              "        vertical-align: middle;\n",
              "    }\n",
              "\n",
              "    .dataframe tbody tr th {\n",
              "        vertical-align: top;\n",
              "    }\n",
              "\n",
              "    .dataframe thead th {\n",
              "        text-align: right;\n",
              "    }\n",
              "</style>\n",
              "<table border=\"1\" class=\"dataframe\">\n",
              "  <thead>\n",
              "    <tr style=\"text-align: right;\">\n",
              "      <th></th>\n",
              "      <th>Review</th>\n",
              "      <th>Liked</th>\n",
              "      <th>Length</th>\n",
              "    </tr>\n",
              "  </thead>\n",
              "  <tbody>\n",
              "    <tr>\n",
              "      <th>0</th>\n",
              "      <td>Wow... Loved this place.</td>\n",
              "      <td>1</td>\n",
              "      <td>24</td>\n",
              "    </tr>\n",
              "    <tr>\n",
              "      <th>1</th>\n",
              "      <td>Crust is not good.</td>\n",
              "      <td>0</td>\n",
              "      <td>18</td>\n",
              "    </tr>\n",
              "    <tr>\n",
              "      <th>2</th>\n",
              "      <td>Not tasty and the texture was just nasty.</td>\n",
              "      <td>0</td>\n",
              "      <td>41</td>\n",
              "    </tr>\n",
              "    <tr>\n",
              "      <th>3</th>\n",
              "      <td>Stopped by during the late May bank holiday off Rick Steve recommendation and loved it.</td>\n",
              "      <td>1</td>\n",
              "      <td>87</td>\n",
              "    </tr>\n",
              "    <tr>\n",
              "      <th>4</th>\n",
              "      <td>The selection on the menu was great and so were the prices.</td>\n",
              "      <td>1</td>\n",
              "      <td>59</td>\n",
              "    </tr>\n",
              "    <tr>\n",
              "      <th>5</th>\n",
              "      <td>Now I am getting angry and I want my damn pho.</td>\n",
              "      <td>0</td>\n",
              "      <td>46</td>\n",
              "    </tr>\n",
              "    <tr>\n",
              "      <th>6</th>\n",
              "      <td>Honeslty it didn't taste THAT fresh.)</td>\n",
              "      <td>0</td>\n",
              "      <td>37</td>\n",
              "    </tr>\n",
              "    <tr>\n",
              "      <th>7</th>\n",
              "      <td>The potatoes were like rubber and you could tell they had been made up ahead of time being kept under a warmer.</td>\n",
              "      <td>0</td>\n",
              "      <td>111</td>\n",
              "    </tr>\n",
              "    <tr>\n",
              "      <th>8</th>\n",
              "      <td>The fries were great too.</td>\n",
              "      <td>1</td>\n",
              "      <td>25</td>\n",
              "    </tr>\n",
              "    <tr>\n",
              "      <th>9</th>\n",
              "      <td>A great touch.</td>\n",
              "      <td>1</td>\n",
              "      <td>14</td>\n",
              "    </tr>\n",
              "  </tbody>\n",
              "</table>\n",
              "</div>\n",
              "      <button class=\"colab-df-convert\" onclick=\"convertToInteractive('df-184afe69-7319-4fbc-afbe-65de56541abb')\"\n",
              "              title=\"Convert this dataframe to an interactive table.\"\n",
              "              style=\"display:none;\">\n",
              "        \n",
              "  <svg xmlns=\"http://www.w3.org/2000/svg\" height=\"24px\"viewBox=\"0 0 24 24\"\n",
              "       width=\"24px\">\n",
              "    <path d=\"M0 0h24v24H0V0z\" fill=\"none\"/>\n",
              "    <path d=\"M18.56 5.44l.94 2.06.94-2.06 2.06-.94-2.06-.94-.94-2.06-.94 2.06-2.06.94zm-11 1L8.5 8.5l.94-2.06 2.06-.94-2.06-.94L8.5 2.5l-.94 2.06-2.06.94zm10 10l.94 2.06.94-2.06 2.06-.94-2.06-.94-.94-2.06-.94 2.06-2.06.94z\"/><path d=\"M17.41 7.96l-1.37-1.37c-.4-.4-.92-.59-1.43-.59-.52 0-1.04.2-1.43.59L10.3 9.45l-7.72 7.72c-.78.78-.78 2.05 0 2.83L4 21.41c.39.39.9.59 1.41.59.51 0 1.02-.2 1.41-.59l7.78-7.78 2.81-2.81c.8-.78.8-2.07 0-2.86zM5.41 20L4 18.59l7.72-7.72 1.47 1.35L5.41 20z\"/>\n",
              "  </svg>\n",
              "      </button>\n",
              "      \n",
              "  <style>\n",
              "    .colab-df-container {\n",
              "      display:flex;\n",
              "      flex-wrap:wrap;\n",
              "      gap: 12px;\n",
              "    }\n",
              "\n",
              "    .colab-df-convert {\n",
              "      background-color: #E8F0FE;\n",
              "      border: none;\n",
              "      border-radius: 50%;\n",
              "      cursor: pointer;\n",
              "      display: none;\n",
              "      fill: #1967D2;\n",
              "      height: 32px;\n",
              "      padding: 0 0 0 0;\n",
              "      width: 32px;\n",
              "    }\n",
              "\n",
              "    .colab-df-convert:hover {\n",
              "      background-color: #E2EBFA;\n",
              "      box-shadow: 0px 1px 2px rgba(60, 64, 67, 0.3), 0px 1px 3px 1px rgba(60, 64, 67, 0.15);\n",
              "      fill: #174EA6;\n",
              "    }\n",
              "\n",
              "    [theme=dark] .colab-df-convert {\n",
              "      background-color: #3B4455;\n",
              "      fill: #D2E3FC;\n",
              "    }\n",
              "\n",
              "    [theme=dark] .colab-df-convert:hover {\n",
              "      background-color: #434B5C;\n",
              "      box-shadow: 0px 1px 3px 1px rgba(0, 0, 0, 0.15);\n",
              "      filter: drop-shadow(0px 1px 2px rgba(0, 0, 0, 0.3));\n",
              "      fill: #FFFFFF;\n",
              "    }\n",
              "  </style>\n",
              "\n",
              "      <script>\n",
              "        const buttonEl =\n",
              "          document.querySelector('#df-184afe69-7319-4fbc-afbe-65de56541abb button.colab-df-convert');\n",
              "        buttonEl.style.display =\n",
              "          google.colab.kernel.accessAllowed ? 'block' : 'none';\n",
              "\n",
              "        async function convertToInteractive(key) {\n",
              "          const element = document.querySelector('#df-184afe69-7319-4fbc-afbe-65de56541abb');\n",
              "          const dataTable =\n",
              "            await google.colab.kernel.invokeFunction('convertToInteractive',\n",
              "                                                     [key], {});\n",
              "          if (!dataTable) return;\n",
              "\n",
              "          const docLinkHtml = 'Like what you see? Visit the ' +\n",
              "            '<a target=\"_blank\" href=https://colab.research.google.com/notebooks/data_table.ipynb>data table notebook</a>'\n",
              "            + ' to learn more about interactive tables.';\n",
              "          element.innerHTML = '';\n",
              "          dataTable['output_type'] = 'display_data';\n",
              "          await google.colab.output.renderOutput(dataTable, element);\n",
              "          const docLink = document.createElement('div');\n",
              "          docLink.innerHTML = docLinkHtml;\n",
              "          element.appendChild(docLink);\n",
              "        }\n",
              "      </script>\n",
              "    </div>\n",
              "  </div>\n",
              "  "
            ]
          },
          "metadata": {},
          "execution_count": 18
        }
      ],
      "source": [
        "Rest_rev.head(10)"
      ]
    },
    {
      "cell_type": "markdown",
      "metadata": {
        "id": "Sevcr5LuUG0e"
      },
      "source": [
        "As we can observe that there is no specific pattern of length that determines whether a review is positive or negative, so the legnth of a review does not help much in determining the sentiment of the review for this use case"
      ]
    },
    {
      "cell_type": "markdown",
      "metadata": {
        "id": "if7JyUCjUG0e"
      },
      "source": [
        "## Data Visualization"
      ]
    },
    {
      "cell_type": "code",
      "execution_count": 19,
      "metadata": {
        "id": "Zg3X41JLUG0f"
      },
      "outputs": [],
      "source": [
        "from matplotlib import pyplot as plt\n",
        "import seaborn as sns\n",
        "\n",
        "%matplotlib inline"
      ]
    },
    {
      "cell_type": "markdown",
      "metadata": {
        "id": "IX3KL9tdUG0f"
      },
      "source": [
        "#### Plotting histogram"
      ]
    },
    {
      "cell_type": "code",
      "execution_count": 20,
      "metadata": {
        "colab": {
          "base_uri": "https://localhost:8080/",
          "height": 296
        },
        "id": "G5hUsn-RUG0f",
        "outputId": "70b2dfac-6f53-429b-c5e5-6d3911dac071"
      },
      "outputs": [
        {
          "output_type": "execute_result",
          "data": {
            "text/plain": [
              "Text(0.5, 0, 'Length of Review')"
            ]
          },
          "metadata": {},
          "execution_count": 20
        },
        {
          "output_type": "display_data",
          "data": {
            "text/plain": [
              "<Figure size 432x288 with 1 Axes>"
            ],
            "image/png": "[encoded data removed]"
          },
          "metadata": {
            "needs_background": "light"
          }
        }
      ],
      "source": [
        "Rest_rev['Length'].plot(bins=100, kind='hist')\n",
        "plt.xlabel('Length of Review')"
      ]
    },
    {
      "cell_type": "code",
      "execution_count": 21,
      "metadata": {
        "colab": {
          "base_uri": "https://localhost:8080/",
          "height": 378
        },
        "id": "57C3W0j3UG0g",
        "outputId": "1656f03f-923f-44a6-9418-25a9ca7b4525"
      },
      "outputs": [
        {
          "output_type": "execute_result",
          "data": {
            "text/plain": [
              "array([<Axes: title={'center': '0'}>, <Axes: title={'center': '1'}>],\n",
              "      dtype=object)"
            ]
          },
          "metadata": {},
          "execution_count": 21
        },
        {
          "output_type": "display_data",
          "data": {
            "text/plain": [
              "<Figure size 1080x360 with 2 Axes>"
            ],
            "image/png": "[encoded data removed]"
          },
          "metadata": {
            "needs_background": "light"
          }
        }
      ],
      "source": [
        "Rest_rev.hist(column='Length', by='Liked', bins=50, figsize=(15,5))"
      ]
    },
    {
      "cell_type": "markdown",
      "metadata": {
        "id": "2TPkFtDAUG0g"
      },
      "source": [
        "It can be observed from the above histogram that most of the Reviews are having lengths ranging from **20** to **60**"
      ]
    },
    {
      "cell_type": "code",
      "execution_count": 22,
      "metadata": {
        "colab": {
          "base_uri": "https://localhost:8080/"
        },
        "id": "7grNyPv6UG0h",
        "outputId": "7f0c6123-c478-4cff-f126-093510f92a50"
      },
      "outputs": [
        {
          "output_type": "execute_result",
          "data": {
            "text/plain": [
              "count    996.000000\n",
              "mean     58.459839 \n",
              "std      32.341292 \n",
              "min      11.000000 \n",
              "25%      33.000000 \n",
              "50%      51.000000 \n",
              "75%      80.000000 \n",
              "max      149.000000\n",
              "Name: Length, dtype: float64"
            ]
          },
          "metadata": {},
          "execution_count": 22
        }
      ],
      "source": [
        "Rest_rev.Length.describe()"
      ]
    },
    {
      "cell_type": "markdown",
      "metadata": {
        "id": "-vhtxPPPUG0h"
      },
      "source": [
        "The following conclusions can be drawn from the above result:\n",
        "\n",
        " - The mean length of reviews is 58\n",
        " - The minimum length of a reviews is 11\n",
        " - The maximum length of a review is 149"
      ]
    },
    {
      "cell_type": "markdown",
      "metadata": {
        "id": "uaMuqtvzUG0h"
      },
      "source": [
        "#### Plotting countplot"
      ]
    },
    {
      "cell_type": "code",
      "execution_count": 23,
      "metadata": {
        "colab": {
          "base_uri": "https://localhost:8080/",
          "height": 366
        },
        "id": "HRCCYF5OUG0i",
        "outputId": "a16c9b70-c0b4-4956-ec83-f1e3e4d852b1"
      },
      "outputs": [
        {
          "output_type": "stream",
          "name": "stdout",
          "text": [
            "Value count for feature Liked\n",
            "1    499\n",
            "0    497\n",
            "Name: Liked, dtype: int64\n"
          ]
        },
        {
          "output_type": "execute_result",
          "data": {
            "text/plain": [
              "<Axes: xlabel='Liked', ylabel='count'>"
            ]
          },
          "metadata": {},
          "execution_count": 23
        },
        {
          "output_type": "display_data",
          "data": {
            "text/plain": [
              "<Figure size 288x288 with 1 Axes>"
            ],
            "image/png": "[encoded data removed]"
          },
          "metadata": {
            "needs_background": "light"
          }
        }
      ],
      "source": [
        "plt.figure(figsize=(4,4))\n",
        "print(\"Value count for feature Liked\")\n",
        "print(Rest_rev['Liked'].value_counts())\n",
        "sns.countplot(x='Liked',data=Rest_rev)"
      ]
    },
    {
      "cell_type": "markdown",
      "metadata": {
        "id": "CbcrCDnNUG0i"
      },
      "source": [
        "It can be observed that the dataframe is balanced"
      ]
    },
    {
      "cell_type": "markdown",
      "metadata": {
        "id": "VT--yOUYUG0j"
      },
      "source": [
        "**Cleaning the punctuation marks**"
      ]
    },
    {
      "cell_type": "code",
      "execution_count": 24,
      "metadata": {
        "id": "qO-o-Y-QUG0j"
      },
      "outputs": [],
      "source": [
        "import re\n",
        "import string"
      ]
    },
    {
      "cell_type": "markdown",
      "metadata": {
        "id": "MEfM0x6JUG0j"
      },
      "source": [
        "List of punctuation marks to be removed"
      ]
    },
    {
      "cell_type": "code",
      "execution_count": 25,
      "metadata": {
        "colab": {
          "base_uri": "https://localhost:8080/"
        },
        "id": "kKsAAR-PUG0k",
        "outputId": "f33fe4a6-7a7e-4df0-8cc1-396ee52e9a1c"
      },
      "outputs": [
        {
          "output_type": "stream",
          "name": "stdout",
          "text": [
            "['!', '\"', '#', '$', '%', '&', \"'\", '(', ')', '*', '+', ',', '-', '.', '/', ':', ';', '<', '=', '>', '?', '@', '[', '\\\\', ']', '^', '_', '`', '{', '|', '}', '~']\n"
          ]
        }
      ],
      "source": [
        "print(list(string.punctuation))"
      ]
    },
    {
      "cell_type": "code",
      "execution_count": 26,
      "metadata": {
        "id": "Nfuli-ClUG0k"
      },
      "outputs": [],
      "source": [
        "def remove_punctuation(text):\n",
        "    no_punct = \"\".join([c if c not in string.punctuation else \" \" for c in text])\n",
        "    return no_punct"
      ]
    },
    {
      "cell_type": "code",
      "execution_count": 27,
      "metadata": {
        "id": "ME4hw-OxUG0l"
      },
      "outputs": [],
      "source": [
        "Rest_rev['Review'] = Rest_rev['Review'].apply(lambda x: remove_punctuation(x))"
      ]
    },
    {
      "cell_type": "markdown",
      "metadata": {
        "id": "CLJ099g1UG0l"
      },
      "source": [
        "Converting all uppercase characters to lowercase"
      ]
    },
    {
      "cell_type": "code",
      "execution_count": 28,
      "metadata": {
        "id": "5QBIjkDtUG0l"
      },
      "outputs": [],
      "source": [
        "Rest_rev['Review'] = Rest_rev['Review'].str.lower()"
      ]
    },
    {
      "cell_type": "markdown",
      "metadata": {
        "id": "LFfFb2ivUG0l"
      },
      "source": [
        "Eliminating the numbers from the **Review** column as they do not contribute in predicting the sentiment of a review"
      ]
    },
    {
      "cell_type": "code",
      "execution_count": 29,
      "metadata": {
        "id": "T--8CymPUG0m"
      },
      "outputs": [],
      "source": [
        "Rest_rev['Review'] = [re.sub('\\d+', '', e) for e in Rest_rev['Review']]"
      ]
    },
    {
      "cell_type": "markdown",
      "metadata": {
        "id": "q08kJYTZUG0m"
      },
      "source": [
        "Removing unnecessary spaces from the text"
      ]
    },
    {
      "cell_type": "code",
      "execution_count": 30,
      "metadata": {
        "id": "ooEffQv_UG0m"
      },
      "outputs": [],
      "source": [
        "Rest_rev['Review'] = [re.sub('\\s+', ' ', e) for e in Rest_rev['Review']]"
      ]
    },
    {
      "cell_type": "markdown",
      "metadata": {
        "id": "3-X0c_ViUG0n"
      },
      "source": [
        "Removing leading or trailing spaces from the text"
      ]
    },
    {
      "cell_type": "code",
      "execution_count": 31,
      "metadata": {
        "id": "HpEF0hZcUG0n"
      },
      "outputs": [],
      "source": [
        "Rest_rev['Review'] = Rest_rev['Review'].str.strip()"
      ]
    },
    {
      "cell_type": "markdown",
      "metadata": {
        "id": "LrQR7j3XUG0n"
      },
      "source": [
        "#### Importing nltk"
      ]
    },
    {
      "cell_type": "code",
      "execution_count": 32,
      "metadata": {
        "colab": {
          "base_uri": "https://localhost:8080/"
        },
        "id": "HYoVmoeXUG0o",
        "outputId": "893909f4-fcce-4ca7-c913-22f1653b50f4"
      },
      "outputs": [
        {
          "output_type": "stream",
          "name": "stderr",
          "text": [
            "[nltk_data] Downloading package punkt to /root/nltk_data...\n",
            "[nltk_data]   Package punkt is already up-to-date!\n"
          ]
        },
        {
          "output_type": "execute_result",
          "data": {
            "text/plain": [
              "True"
            ]
          },
          "metadata": {},
          "execution_count": 32
        }
      ],
      "source": [
        "import nltk\n",
        "nltk.download('punkt')"
      ]
    },
    {
      "cell_type": "markdown",
      "metadata": {
        "id": "NbTkTcS8UG0o"
      },
      "source": [
        "#### Tokenization"
      ]
    },
    {
      "cell_type": "code",
      "execution_count": 33,
      "metadata": {
        "id": "CNFE72rcUG0o"
      },
      "outputs": [],
      "source": [
        "from nltk.tokenize import word_tokenize"
      ]
    },
    {
      "cell_type": "code",
      "execution_count": 34,
      "metadata": {
        "id": "ITm3_S-IUG0p"
      },
      "outputs": [],
      "source": [
        "Rest_rev['Review'] = Rest_rev['Review'].apply(word_tokenize)"
      ]
    },
    {
      "cell_type": "code",
      "execution_count": 35,
      "metadata": {
        "colab": {
          "base_uri": "https://localhost:8080/",
          "height": 206
        },
        "id": "IFQLuBUrUG0p",
        "outputId": "45c1be9f-410d-48a6-b52a-0f0bf2a47496"
      },
      "outputs": [
        {
          "output_type": "execute_result",
          "data": {
            "text/plain": [
              "                                                                                                   Review  \\\n",
              "0  [wow, loved, this, place]                                                                                \n",
              "1  [crust, is, not, good]                                                                                   \n",
              "2  [not, tasty, and, the, texture, was, just, nasty]                                                        \n",
              "3  [stopped, by, during, the, late, may, bank, holiday, off, rick, steve, recommendation, and, loved, it]   \n",
              "4  [the, selection, on, the, menu, was, great, and, so, were, the, prices]                                  \n",
              "\n",
              "   Liked  Length  \n",
              "0  1      24      \n",
              "1  0      18      \n",
              "2  0      41      \n",
              "3  1      87      \n",
              "4  1      59      "
            ],
            "text/html": [
              "\n",
              "  <div id=\"df-5cddfba4-8d0a-4da4-bc0c-da3677619c80\">\n",
              "    <div class=\"colab-df-container\">\n",
              "      <div>\n",
              "<style scoped>\n",
              "    .dataframe tbody tr th:only-of-type {\n",
              "        vertical-align: middle;\n",
              "    }\n",
              "\n",
              "    .dataframe tbody tr th {\n",
              "        vertical-align: top;\n",
              "    }\n",
              "\n",
              "    .dataframe thead th {\n",
              "        text-align: right;\n",
              "    }\n",
              "</style>\n",
              "<table border=\"1\" class=\"dataframe\">\n",
              "  <thead>\n",
              "    <tr style=\"text-align: right;\">\n",
              "      <th></th>\n",
              "      <th>Review</th>\n",
              "      <th>Liked</th>\n",
              "      <th>Length</th>\n",
              "    </tr>\n",
              "  </thead>\n",
              "  <tbody>\n",
              "    <tr>\n",
              "      <th>0</th>\n",
              "      <td>[wow, loved, this, place]</td>\n",
              "      <td>1</td>\n",
              "      <td>24</td>\n",
              "    </tr>\n",
              "    <tr>\n",
              "      <th>1</th>\n",
              "      <td>[crust, is, not, good]</td>\n",
              "      <td>0</td>\n",
              "      <td>18</td>\n",
              "    </tr>\n",
              "    <tr>\n",
              "      <th>2</th>\n",
              "      <td>[not, tasty, and, the, texture, was, just, nasty]</td>\n",
              "      <td>0</td>\n",
              "      <td>41</td>\n",
              "    </tr>\n",
              "    <tr>\n",
              "      <th>3</th>\n",
              "      <td>[stopped, by, during, the, late, may, bank, holiday, off, rick, steve, recommendation, and, loved, it]</td>\n",
              "      <td>1</td>\n",
              "      <td>87</td>\n",
              "    </tr>\n",
              "    <tr>\n",
              "      <th>4</th>\n",
              "      <td>[the, selection, on, the, menu, was, great, and, so, were, the, prices]</td>\n",
              "      <td>1</td>\n",
              "      <td>59</td>\n",
              "    </tr>\n",
              "  </tbody>\n",
              "</table>\n",
              "</div>\n",
              "      <button class=\"colab-df-convert\" onclick=\"convertToInteractive('df-5cddfba4-8d0a-4da4-bc0c-da3677619c80')\"\n",
              "              title=\"Convert this dataframe to an interactive table.\"\n",
              "              style=\"display:none;\">\n",
              "        \n",
              "  <svg xmlns=\"http://www.w3.org/2000/svg\" height=\"24px\"viewBox=\"0 0 24 24\"\n",
              "       width=\"24px\">\n",
              "    <path d=\"M0 0h24v24H0V0z\" fill=\"none\"/>\n",
              "    <path d=\"M18.56 5.44l.94 2.06.94-2.06 2.06-.94-2.06-.94-.94-2.06-.94 2.06-2.06.94zm-11 1L8.5 8.5l.94-2.06 2.06-.94-2.06-.94L8.5 2.5l-.94 2.06-2.06.94zm10 10l.94 2.06.94-2.06 2.06-.94-2.06-.94-.94-2.06-.94 2.06-2.06.94z\"/><path d=\"M17.41 7.96l-1.37-1.37c-.4-.4-.92-.59-1.43-.59-.52 0-1.04.2-1.43.59L10.3 9.45l-7.72 7.72c-.78.78-.78 2.05 0 2.83L4 21.41c.39.39.9.59 1.41.59.51 0 1.02-.2 1.41-.59l7.78-7.78 2.81-2.81c.8-.78.8-2.07 0-2.86zM5.41 20L4 18.59l7.72-7.72 1.47 1.35L5.41 20z\"/>\n",
              "  </svg>\n",
              "      </button>\n",
              "      \n",
              "  <style>\n",
              "    .colab-df-container {\n",
              "      display:flex;\n",
              "      flex-wrap:wrap;\n",
              "      gap: 12px;\n",
              "    }\n",
              "\n",
              "    .colab-df-convert {\n",
              "      background-color: #E8F0FE;\n",
              "      border: none;\n",
              "      border-radius: 50%;\n",
              "      cursor: pointer;\n",
              "      display: none;\n",
              "      fill: #1967D2;\n",
              "      height: 32px;\n",
              "      padding: 0 0 0 0;\n",
              "      width: 32px;\n",
              "    }\n",
              "\n",
              "    .colab-df-convert:hover {\n",
              "      background-color: #E2EBFA;\n",
              "      box-shadow: 0px 1px 2px rgba(60, 64, 67, 0.3), 0px 1px 3px 1px rgba(60, 64, 67, 0.15);\n",
              "      fill: #174EA6;\n",
              "    }\n",
              "\n",
              "    [theme=dark] .colab-df-convert {\n",
              "      background-color: #3B4455;\n",
              "      fill: #D2E3FC;\n",
              "    }\n",
              "\n",
              "    [theme=dark] .colab-df-convert:hover {\n",
              "      background-color: #434B5C;\n",
              "      box-shadow: 0px 1px 3px 1px rgba(0, 0, 0, 0.15);\n",
              "      filter: drop-shadow(0px 1px 2px rgba(0, 0, 0, 0.3));\n",
              "      fill: #FFFFFF;\n",
              "    }\n",
              "  </style>\n",
              "\n",
              "      <script>\n",
              "        const buttonEl =\n",
              "          document.querySelector('#df-5cddfba4-8d0a-4da4-bc0c-da3677619c80 button.colab-df-convert');\n",
              "        buttonEl.style.display =\n",
              "          google.colab.kernel.accessAllowed ? 'block' : 'none';\n",
              "\n",
              "        async function convertToInteractive(key) {\n",
              "          const element = document.querySelector('#df-5cddfba4-8d0a-4da4-bc0c-da3677619c80');\n",
              "          const dataTable =\n",
              "            await google.colab.kernel.invokeFunction('convertToInteractive',\n",
              "                                                     [key], {});\n",
              "          if (!dataTable) return;\n",
              "\n",
              "          const docLinkHtml = 'Like what you see? Visit the ' +\n",
              "            '<a target=\"_blank\" href=https://colab.research.google.com/notebooks/data_table.ipynb>data table notebook</a>'\n",
              "            + ' to learn more about interactive tables.';\n",
              "          element.innerHTML = '';\n",
              "          dataTable['output_type'] = 'display_data';\n",
              "          await google.colab.output.renderOutput(dataTable, element);\n",
              "          const docLink = document.createElement('div');\n",
              "          docLink.innerHTML = docLinkHtml;\n",
              "          element.appendChild(docLink);\n",
              "        }\n",
              "      </script>\n",
              "    </div>\n",
              "  </div>\n",
              "  "
            ]
          },
          "metadata": {},
          "execution_count": 35
        }
      ],
      "source": [
        "Rest_rev.head()"
      ]
    },
    {
      "cell_type": "markdown",
      "metadata": {
        "id": "hG4iDxsvUG0q"
      },
      "source": [
        "The **Review** column has been tokenized i.e. split into tokens/pieces"
      ]
    },
    {
      "cell_type": "markdown",
      "metadata": {
        "id": "-wz1BpxmUG0r"
      },
      "source": [
        "#### Removing the stopwords"
      ]
    },
    {
      "cell_type": "code",
      "execution_count": 36,
      "metadata": {
        "colab": {
          "base_uri": "https://localhost:8080/"
        },
        "id": "fwW-zNy0UG0r",
        "outputId": "bd411cdf-d46e-48b1-9d73-fcdbea2f93ec"
      },
      "outputs": [
        {
          "output_type": "stream",
          "name": "stderr",
          "text": [
            "[nltk_data] Downloading package stopwords to /root/nltk_data...\n",
            "[nltk_data]   Package stopwords is already up-to-date!\n"
          ]
        }
      ],
      "source": [
        "nltk.download('stopwords')\n",
        "from nltk.corpus import stopwords"
      ]
    },
    {
      "cell_type": "markdown",
      "metadata": {
        "id": "zgY2ZXEwUG0s"
      },
      "source": [
        "Loading the **English** language stopwords"
      ]
    },
    {
      "cell_type": "code",
      "execution_count": 37,
      "metadata": {
        "id": "pH1tRK4NUG0s"
      },
      "outputs": [],
      "source": [
        "stopwords_english = stopwords.words('english')"
      ]
    },
    {
      "cell_type": "markdown",
      "metadata": {
        "id": "kPEkQHHOUG0s"
      },
      "source": [
        "List of english stopwords"
      ]
    },
    {
      "cell_type": "code",
      "execution_count": 38,
      "metadata": {
        "colab": {
          "base_uri": "https://localhost:8080/"
        },
        "id": "G3ZMtLtlUG0t",
        "outputId": "1bcc68c7-8595-4b75-89bf-7987f3ce4eea"
      },
      "outputs": [
        {
          "output_type": "stream",
          "name": "stdout",
          "text": [
            "['i', 'me', 'my', 'myself', 'we', 'our', 'ours', 'ourselves', 'you', \"you're\", \"you've\", \"you'll\", \"you'd\", 'your', 'yours', 'yourself', 'yourselves', 'he', 'him', 'his', 'himself', 'she', \"she's\", 'her', 'hers', 'herself', 'it', \"it's\", 'its', 'itself', 'they', 'them', 'their', 'theirs', 'themselves', 'what', 'which', 'who', 'whom', 'this', 'that', \"that'll\", 'these', 'those', 'am', 'is', 'are', 'was', 'were', 'be', 'been', 'being', 'have', 'has', 'had', 'having', 'do', 'does', 'did', 'doing', 'a', 'an', 'the', 'and', 'but', 'if', 'or', 'because', 'as', 'until', 'while', 'of', 'at', 'by', 'for', 'with', 'about', 'against', 'between', 'into', 'through', 'during', 'before', 'after', 'above', 'below', 'to', 'from', 'up', 'down', 'in', 'out', 'on', 'off', 'over', 'under', 'again', 'further', 'then', 'once', 'here', 'there', 'when', 'where', 'why', 'how', 'all', 'any', 'both', 'each', 'few', 'more', 'most', 'other', 'some', 'such', 'no', 'nor', 'not', 'only', 'own', 'same', 'so', 'than', 'too', 'very', 's', 't', 'can', 'will', 'just', 'don', \"don't\", 'should', \"should've\", 'now', 'd', 'll', 'm', 'o', 're', 've', 'y', 'ain', 'aren', \"aren't\", 'couldn', \"couldn't\", 'didn', \"didn't\", 'doesn', \"doesn't\", 'hadn', \"hadn't\", 'hasn', \"hasn't\", 'haven', \"haven't\", 'isn', \"isn't\", 'ma', 'mightn', \"mightn't\", 'mustn', \"mustn't\", 'needn', \"needn't\", 'shan', \"shan't\", 'shouldn', \"shouldn't\", 'wasn', \"wasn't\", 'weren', \"weren't\", 'won', \"won't\", 'wouldn', \"wouldn't\"]\n"
          ]
        }
      ],
      "source": [
        "print(stopwords_english)"
      ]
    },
    {
      "cell_type": "markdown",
      "metadata": {
        "id": "WIr3zR4-UG0t"
      },
      "source": [
        "Certain words in the above including **not**, **until**, **while**, **against** etc may contribute to the sentiment of a review. So they may need to be retained in the review and thus need to be removed from the above list"
      ]
    },
    {
      "cell_type": "code",
      "execution_count": 39,
      "metadata": {
        "id": "OKP0oV8vUG0t"
      },
      "outputs": [],
      "source": [
        "stopwords_english_set = set(stopwords_english)"
      ]
    },
    {
      "cell_type": "code",
      "execution_count": 40,
      "metadata": {
        "id": "7yFEh4eLUG0u"
      },
      "outputs": [],
      "source": [
        "stopwords_english_set = stopwords_english_set.difference({'until', 'while', 'against', 'between', 'during', 'before', 'after', 'above', 'below', 'not'})"
      ]
    },
    {
      "cell_type": "code",
      "execution_count": 41,
      "metadata": {
        "id": "tuSp6pwuUG0u"
      },
      "outputs": [],
      "source": [
        "stopwords_english = list(stopwords_english_set)"
      ]
    },
    {
      "cell_type": "code",
      "execution_count": 42,
      "metadata": {
        "colab": {
          "base_uri": "https://localhost:8080/"
        },
        "id": "-rUT58ndUG0u",
        "outputId": "8e8030bc-3fcd-4b23-8d34-cdf3f278d798"
      },
      "outputs": [
        {
          "output_type": "stream",
          "name": "stdout",
          "text": [
            "['are', 'don', 'own', \"couldn't\", \"mustn't\", 'him', 'ourselves', \"it's\", 'most', 'mightn', 'or', 'few', 'each', 'than', \"needn't\", 'how', 'aren', 'does', 'some', 'such', 'for', 'what', 'once', 'can', 'o', 'again', 'up', 'by', 'other', 'just', 'me', 'didn', 'to', 'where', 'doing', 'myself', 'hers', 'an', \"you'd\", \"doesn't\", 'at', \"wouldn't\", 'yourselves', 'and', 'no', 'this', 'm', 'the', \"didn't\", 'it', \"you've\", 'was', 'yours', \"haven't\", 'who', 'over', 'we', 'out', 'they', 'been', 'under', 'that', 'ma', \"she's\", 'through', 'these', 'shouldn', 'you', 'but', 'll', 'so', 'were', 'because', \"won't\", 'both', 'all', \"shan't\", 'there', 'its', 'themselves', \"mightn't\", \"should've\", 'then', 't', 'being', 'yourself', 'in', 'nor', 'only', 'mustn', 'his', 'he', 'more', 's', \"you'll\", 'couldn', 'weren', 'wouldn', 'down', 'herself', 'them', 'shan', 'hasn', 'isn', \"aren't\", \"shouldn't\", 'from', 're', 'she', \"that'll\", \"hadn't\", \"isn't\", 'is', 'whom', 'won', 'y', 'my', 'your', 'now', 'am', 'will', 'their', \"don't\", \"wasn't\", 'which', 'did', 'very', \"weren't\", 'have', 'i', 'ain', 'be', 'on', 'needn', 'theirs', 'same', 'itself', 'hadn', 'why', 'too', 'ours', 'if', 'wasn', 'doesn', 'having', 'had', 'do', 'any', 've', 'here', \"you're\", 'of', 'a', 'further', 'himself', 'haven', 'her', 'with', 'into', 'our', 'as', 'd', 'has', 'when', 'about', 'should', 'those', \"hasn't\", 'off']\n"
          ]
        }
      ],
      "source": [
        "print(stopwords_english)"
      ]
    },
    {
      "cell_type": "code",
      "execution_count": 43,
      "metadata": {
        "id": "NAqjxJ_fUG0v"
      },
      "outputs": [],
      "source": [
        "def remove_stopwords(text):        \n",
        "    words = [w for w in text if w not in stopwords_english]\n",
        "    return words"
      ]
    },
    {
      "cell_type": "code",
      "execution_count": 44,
      "metadata": {
        "id": "IjwN6zm4UG0v"
      },
      "outputs": [],
      "source": [
        "Rest_rev['Review'] = Rest_rev['Review'].apply(lambda x: remove_stopwords(x))"
      ]
    },
    {
      "cell_type": "code",
      "execution_count": 45,
      "metadata": {
        "colab": {
          "base_uri": "https://localhost:8080/",
          "height": 206
        },
        "id": "hoz1ayl4UG0v",
        "outputId": "61abb97d-5ffd-4cd0-96e5-74ab2a8c1edc"
      },
      "outputs": [
        {
          "output_type": "execute_result",
          "data": {
            "text/plain": [
              "                                                                            Review  \\\n",
              "0  [wow, loved, place]                                                               \n",
              "1  [crust, not, good]                                                                \n",
              "2  [not, tasty, texture, nasty]                                                      \n",
              "3  [stopped, during, late, may, bank, holiday, rick, steve, recommendation, loved]   \n",
              "4  [selection, menu, great, prices]                                                  \n",
              "\n",
              "   Liked  Length  \n",
              "0  1      24      \n",
              "1  0      18      \n",
              "2  0      41      \n",
              "3  1      87      \n",
              "4  1      59      "
            ],
            "text/html": [
              "\n",
              "  <div id=\"df-780e63e8-016a-4b91-9475-a947ed72f3b0\">\n",
              "    <div class=\"colab-df-container\">\n",
              "      <div>\n",
              "<style scoped>\n",
              "    .dataframe tbody tr th:only-of-type {\n",
              "        vertical-align: middle;\n",
              "    }\n",
              "\n",
              "    .dataframe tbody tr th {\n",
              "        vertical-align: top;\n",
              "    }\n",
              "\n",
              "    .dataframe thead th {\n",
              "        text-align: right;\n",
              "    }\n",
              "</style>\n",
              "<table border=\"1\" class=\"dataframe\">\n",
              "  <thead>\n",
              "    <tr style=\"text-align: right;\">\n",
              "      <th></th>\n",
              "      <th>Review</th>\n",
              "      <th>Liked</th>\n",
              "      <th>Length</th>\n",
              "    </tr>\n",
              "  </thead>\n",
              "  <tbody>\n",
              "    <tr>\n",
              "      <th>0</th>\n",
              "      <td>[wow, loved, place]</td>\n",
              "      <td>1</td>\n",
              "      <td>24</td>\n",
              "    </tr>\n",
              "    <tr>\n",
              "      <th>1</th>\n",
              "      <td>[crust, not, good]</td>\n",
              "      <td>0</td>\n",
              "      <td>18</td>\n",
              "    </tr>\n",
              "    <tr>\n",
              "      <th>2</th>\n",
              "      <td>[not, tasty, texture, nasty]</td>\n",
              "      <td>0</td>\n",
              "      <td>41</td>\n",
              "    </tr>\n",
              "    <tr>\n",
              "      <th>3</th>\n",
              "      <td>[stopped, during, late, may, bank, holiday, rick, steve, recommendation, loved]</td>\n",
              "      <td>1</td>\n",
              "      <td>87</td>\n",
              "    </tr>\n",
              "    <tr>\n",
              "      <th>4</th>\n",
              "      <td>[selection, menu, great, prices]</td>\n",
              "      <td>1</td>\n",
              "      <td>59</td>\n",
              "    </tr>\n",
              "  </tbody>\n",
              "</table>\n",
              "</div>\n",
              "      <button class=\"colab-df-convert\" onclick=\"convertToInteractive('df-780e63e8-016a-4b91-9475-a947ed72f3b0')\"\n",
              "              title=\"Convert this dataframe to an interactive table.\"\n",
              "              style=\"display:none;\">\n",
              "        \n",
              "  <svg xmlns=\"http://www.w3.org/2000/svg\" height=\"24px\"viewBox=\"0 0 24 24\"\n",
              "       width=\"24px\">\n",
              "    <path d=\"M0 0h24v24H0V0z\" fill=\"none\"/>\n",
              "    <path d=\"M18.56 5.44l.94 2.06.94-2.06 2.06-.94-2.06-.94-.94-2.06-.94 2.06-2.06.94zm-11 1L8.5 8.5l.94-2.06 2.06-.94-2.06-.94L8.5 2.5l-.94 2.06-2.06.94zm10 10l.94 2.06.94-2.06 2.06-.94-2.06-.94-.94-2.06-.94 2.06-2.06.94z\"/><path d=\"M17.41 7.96l-1.37-1.37c-.4-.4-.92-.59-1.43-.59-.52 0-1.04.2-1.43.59L10.3 9.45l-7.72 7.72c-.78.78-.78 2.05 0 2.83L4 21.41c.39.39.9.59 1.41.59.51 0 1.02-.2 1.41-.59l7.78-7.78 2.81-2.81c.8-.78.8-2.07 0-2.86zM5.41 20L4 18.59l7.72-7.72 1.47 1.35L5.41 20z\"/>\n",
              "  </svg>\n",
              "      </button>\n",
              "      \n",
              "  <style>\n",
              "    .colab-df-container {\n",
              "      display:flex;\n",
              "      flex-wrap:wrap;\n",
              "      gap: 12px;\n",
              "    }\n",
              "\n",
              "    .colab-df-convert {\n",
              "      background-color: #E8F0FE;\n",
              "      border: none;\n",
              "      border-radius: 50%;\n",
              "      cursor: pointer;\n",
              "      display: none;\n",
              "      fill: #1967D2;\n",
              "      height: 32px;\n",
              "      padding: 0 0 0 0;\n",
              "      width: 32px;\n",
              "    }\n",
              "\n",
              "    .colab-df-convert:hover {\n",
              "      background-color: #E2EBFA;\n",
              "      box-shadow: 0px 1px 2px rgba(60, 64, 67, 0.3), 0px 1px 3px 1px rgba(60, 64, 67, 0.15);\n",
              "      fill: #174EA6;\n",
              "    }\n",
              "\n",
              "    [theme=dark] .colab-df-convert {\n",
              "      background-color: #3B4455;\n",
              "      fill: #D2E3FC;\n",
              "    }\n",
              "\n",
              "    [theme=dark] .colab-df-convert:hover {\n",
              "      background-color: #434B5C;\n",
              "      box-shadow: 0px 1px 3px 1px rgba(0, 0, 0, 0.15);\n",
              "      filter: drop-shadow(0px 1px 2px rgba(0, 0, 0, 0.3));\n",
              "      fill: #FFFFFF;\n",
              "    }\n",
              "  </style>\n",
              "\n",
              "      <script>\n",
              "        const buttonEl =\n",
              "          document.querySelector('#df-780e63e8-016a-4b91-9475-a947ed72f3b0 button.colab-df-convert');\n",
              "        buttonEl.style.display =\n",
              "          google.colab.kernel.accessAllowed ? 'block' : 'none';\n",
              "\n",
              "        async function convertToInteractive(key) {\n",
              "          const element = document.querySelector('#df-780e63e8-016a-4b91-9475-a947ed72f3b0');\n",
              "          const dataTable =\n",
              "            await google.colab.kernel.invokeFunction('convertToInteractive',\n",
              "                                                     [key], {});\n",
              "          if (!dataTable) return;\n",
              "\n",
              "          const docLinkHtml = 'Like what you see? Visit the ' +\n",
              "            '<a target=\"_blank\" href=https://colab.research.google.com/notebooks/data_table.ipynb>data table notebook</a>'\n",
              "            + ' to learn more about interactive tables.';\n",
              "          element.innerHTML = '';\n",
              "          dataTable['output_type'] = 'display_data';\n",
              "          await google.colab.output.renderOutput(dataTable, element);\n",
              "          const docLink = document.createElement('div');\n",
              "          docLink.innerHTML = docLinkHtml;\n",
              "          element.appendChild(docLink);\n",
              "        }\n",
              "      </script>\n",
              "    </div>\n",
              "  </div>\n",
              "  "
            ]
          },
          "metadata": {},
          "execution_count": 45
        }
      ],
      "source": [
        "Rest_rev.head()"
      ]
    },
    {
      "cell_type": "markdown",
      "metadata": {
        "id": "ykhtYm6NUG0w"
      },
      "source": [
        "The stopwords have been removed from the **Review** column"
      ]
    },
    {
      "cell_type": "markdown",
      "metadata": {
        "id": "BRaME7eFUG0w"
      },
      "source": [
        "#### Lemmatization of Reviews"
      ]
    },
    {
      "cell_type": "markdown",
      "metadata": {
        "id": "RfuR8gP4UG0w"
      },
      "source": [
        "**Lemmatization** shorten words back to their root form. **Lemmatizing** maps common words into one base. It returns a proper word that can be found in the dictionary"
      ]
    },
    {
      "cell_type": "markdown",
      "metadata": {
        "id": "84fw8NTnUG0x"
      },
      "source": [
        "To implement Lemmatization using NLTK, we require **wordnet** and **WordNetLemmatizer**"
      ]
    },
    {
      "cell_type": "code",
      "execution_count": 46,
      "metadata": {
        "colab": {
          "base_uri": "https://localhost:8080/"
        },
        "id": "VLWiMQbEUG0x",
        "outputId": "abb809fa-93eb-4f96-82aa-b97a16f327bf"
      },
      "outputs": [
        {
          "output_type": "stream",
          "name": "stderr",
          "text": [
            "[nltk_data] Downloading package wordnet to /root/nltk_data...\n",
            "[nltk_data]   Package wordnet is already up-to-date!\n"
          ]
        },
        {
          "output_type": "execute_result",
          "data": {
            "text/plain": [
              "True"
            ]
          },
          "metadata": {},
          "execution_count": 46
        }
      ],
      "source": [
        "nltk.download('wordnet')"
      ]
    },
    {
      "cell_type": "code",
      "execution_count": 47,
      "metadata": {
        "id": "KtvK3QeNUG0x"
      },
      "outputs": [],
      "source": [
        "from nltk.stem import WordNetLemmatizer"
      ]
    },
    {
      "cell_type": "code",
      "execution_count": 48,
      "metadata": {
        "id": "4DVKy1cQUG0y"
      },
      "outputs": [],
      "source": [
        "lemmatizer = WordNetLemmatizer()"
      ]
    },
    {
      "cell_type": "code",
      "execution_count": 49,
      "metadata": {
        "id": "8nMgVaIbUG0y"
      },
      "outputs": [],
      "source": [
        "def word_lemmatizer(text):\n",
        "    lem_text = [lemmatizer.lemmatize(i) for i in text]\n",
        "    return lem_text"
      ]
    },
    {
      "cell_type": "code",
      "execution_count": 50,
      "metadata": {
        "id": "es3VdzUVUG0y"
      },
      "outputs": [],
      "source": [
        "Rest_rev['Review'] = Rest_rev['Review'].apply(lambda x: word_lemmatizer(x))"
      ]
    },
    {
      "cell_type": "code",
      "execution_count": 51,
      "metadata": {
        "colab": {
          "base_uri": "https://localhost:8080/",
          "height": 206
        },
        "id": "rCHc81-bUG0z",
        "outputId": "04151c21-ee08-478c-8c2a-90532fc1710c"
      },
      "outputs": [
        {
          "output_type": "execute_result",
          "data": {
            "text/plain": [
              "                                                                            Review  \\\n",
              "0  [wow, loved, place]                                                               \n",
              "1  [crust, not, good]                                                                \n",
              "2  [not, tasty, texture, nasty]                                                      \n",
              "3  [stopped, during, late, may, bank, holiday, rick, steve, recommendation, loved]   \n",
              "4  [selection, menu, great, price]                                                   \n",
              "\n",
              "   Liked  Length  \n",
              "0  1      24      \n",
              "1  0      18      \n",
              "2  0      41      \n",
              "3  1      87      \n",
              "4  1      59      "
            ],
            "text/html": [
              "\n",
              "  <div id=\"df-0e7e3984-b600-4980-8903-858a38d187c2\">\n",
              "    <div class=\"colab-df-container\">\n",
              "      <div>\n",
              "<style scoped>\n",
              "    .dataframe tbody tr th:only-of-type {\n",
              "        vertical-align: middle;\n",
              "    }\n",
              "\n",
              "    .dataframe tbody tr th {\n",
              "        vertical-align: top;\n",
              "    }\n",
              "\n",
              "    .dataframe thead th {\n",
              "        text-align: right;\n",
              "    }\n",
              "</style>\n",
              "<table border=\"1\" class=\"dataframe\">\n",
              "  <thead>\n",
              "    <tr style=\"text-align: right;\">\n",
              "      <th></th>\n",
              "      <th>Review</th>\n",
              "      <th>Liked</th>\n",
              "      <th>Length</th>\n",
              "    </tr>\n",
              "  </thead>\n",
              "  <tbody>\n",
              "    <tr>\n",
              "      <th>0</th>\n",
              "      <td>[wow, loved, place]</td>\n",
              "      <td>1</td>\n",
              "      <td>24</td>\n",
              "    </tr>\n",
              "    <tr>\n",
              "      <th>1</th>\n",
              "      <td>[crust, not, good]</td>\n",
              "      <td>0</td>\n",
              "      <td>18</td>\n",
              "    </tr>\n",
              "    <tr>\n",
              "      <th>2</th>\n",
              "      <td>[not, tasty, texture, nasty]</td>\n",
              "      <td>0</td>\n",
              "      <td>41</td>\n",
              "    </tr>\n",
              "    <tr>\n",
              "      <th>3</th>\n",
              "      <td>[stopped, during, late, may, bank, holiday, rick, steve, recommendation, loved]</td>\n",
              "      <td>1</td>\n",
              "      <td>87</td>\n",
              "    </tr>\n",
              "    <tr>\n",
              "      <th>4</th>\n",
              "      <td>[selection, menu, great, price]</td>\n",
              "      <td>1</td>\n",
              "      <td>59</td>\n",
              "    </tr>\n",
              "  </tbody>\n",
              "</table>\n",
              "</div>\n",
              "      <button class=\"colab-df-convert\" onclick=\"convertToInteractive('df-0e7e3984-b600-4980-8903-858a38d187c2')\"\n",
              "              title=\"Convert this dataframe to an interactive table.\"\n",
              "              style=\"display:none;\">\n",
              "        \n",
              "  <svg xmlns=\"http://www.w3.org/2000/svg\" height=\"24px\"viewBox=\"0 0 24 24\"\n",
              "       width=\"24px\">\n",
              "    <path d=\"M0 0h24v24H0V0z\" fill=\"none\"/>\n",
              "    <path d=\"M18.56 5.44l.94 2.06.94-2.06 2.06-.94-2.06-.94-.94-2.06-.94 2.06-2.06.94zm-11 1L8.5 8.5l.94-2.06 2.06-.94-2.06-.94L8.5 2.5l-.94 2.06-2.06.94zm10 10l.94 2.06.94-2.06 2.06-.94-2.06-.94-.94-2.06-.94 2.06-2.06.94z\"/><path d=\"M17.41 7.96l-1.37-1.37c-.4-.4-.92-.59-1.43-.59-.52 0-1.04.2-1.43.59L10.3 9.45l-7.72 7.72c-.78.78-.78 2.05 0 2.83L4 21.41c.39.39.9.59 1.41.59.51 0 1.02-.2 1.41-.59l7.78-7.78 2.81-2.81c.8-.78.8-2.07 0-2.86zM5.41 20L4 18.59l7.72-7.72 1.47 1.35L5.41 20z\"/>\n",
              "  </svg>\n",
              "      </button>\n",
              "      \n",
              "  <style>\n",
              "    .colab-df-container {\n",
              "      display:flex;\n",
              "      flex-wrap:wrap;\n",
              "      gap: 12px;\n",
              "    }\n",
              "\n",
              "    .colab-df-convert {\n",
              "      background-color: #E8F0FE;\n",
              "      border: none;\n",
              "      border-radius: 50%;\n",
              "      cursor: pointer;\n",
              "      display: none;\n",
              "      fill: #1967D2;\n",
              "      height: 32px;\n",
              "      padding: 0 0 0 0;\n",
              "      width: 32px;\n",
              "    }\n",
              "\n",
              "    .colab-df-convert:hover {\n",
              "      background-color: #E2EBFA;\n",
              "      box-shadow: 0px 1px 2px rgba(60, 64, 67, 0.3), 0px 1px 3px 1px rgba(60, 64, 67, 0.15);\n",
              "      fill: #174EA6;\n",
              "    }\n",
              "\n",
              "    [theme=dark] .colab-df-convert {\n",
              "      background-color: #3B4455;\n",
              "      fill: #D2E3FC;\n",
              "    }\n",
              "\n",
              "    [theme=dark] .colab-df-convert:hover {\n",
              "      background-color: #434B5C;\n",
              "      box-shadow: 0px 1px 3px 1px rgba(0, 0, 0, 0.15);\n",
              "      filter: drop-shadow(0px 1px 2px rgba(0, 0, 0, 0.3));\n",
              "      fill: #FFFFFF;\n",
              "    }\n",
              "  </style>\n",
              "\n",
              "      <script>\n",
              "        const buttonEl =\n",
              "          document.querySelector('#df-0e7e3984-b600-4980-8903-858a38d187c2 button.colab-df-convert');\n",
              "        buttonEl.style.display =\n",
              "          google.colab.kernel.accessAllowed ? 'block' : 'none';\n",
              "\n",
              "        async function convertToInteractive(key) {\n",
              "          const element = document.querySelector('#df-0e7e3984-b600-4980-8903-858a38d187c2');\n",
              "          const dataTable =\n",
              "            await google.colab.kernel.invokeFunction('convertToInteractive',\n",
              "                                                     [key], {});\n",
              "          if (!dataTable) return;\n",
              "\n",
              "          const docLinkHtml = 'Like what you see? Visit the ' +\n",
              "            '<a target=\"_blank\" href=https://colab.research.google.com/notebooks/data_table.ipynb>data table notebook</a>'\n",
              "            + ' to learn more about interactive tables.';\n",
              "          element.innerHTML = '';\n",
              "          dataTable['output_type'] = 'display_data';\n",
              "          await google.colab.output.renderOutput(dataTable, element);\n",
              "          const docLink = document.createElement('div');\n",
              "          docLink.innerHTML = docLinkHtml;\n",
              "          element.appendChild(docLink);\n",
              "        }\n",
              "      </script>\n",
              "    </div>\n",
              "  </div>\n",
              "  "
            ]
          },
          "metadata": {},
          "execution_count": 51
        }
      ],
      "source": [
        "Rest_rev.head()"
      ]
    },
    {
      "cell_type": "markdown",
      "metadata": {
        "id": "gCShYpqxUG0z"
      },
      "source": [
        "Renaming the preprocessed Review to **cleaned_Review**"
      ]
    },
    {
      "cell_type": "code",
      "execution_count": 52,
      "metadata": {
        "id": "ZvHcz5xjUG0z"
      },
      "outputs": [],
      "source": [
        "Rest_rev = Rest_rev.rename(columns={'Review':'cleaned_Review'})"
      ]
    },
    {
      "cell_type": "code",
      "execution_count": 53,
      "metadata": {
        "colab": {
          "base_uri": "https://localhost:8080/"
        },
        "id": "n8_uaUpSUG00",
        "outputId": "30059278-a23b-4e45-80a6-d4e8c68c7a03"
      },
      "outputs": [
        {
          "output_type": "execute_result",
          "data": {
            "text/plain": [
              "Index(['cleaned_Review', 'Liked', 'Length'], dtype='object')"
            ]
          },
          "metadata": {},
          "execution_count": 53
        }
      ],
      "source": [
        "Rest_rev.columns"
      ]
    },
    {
      "cell_type": "code",
      "execution_count": 54,
      "metadata": {
        "id": "4toaJR8-UG00"
      },
      "outputs": [],
      "source": [
        "Rest_rev.to_csv('Rest_rev_1.csv', index=False)"
      ]
    },
    {
      "cell_type": "code",
      "execution_count": 55,
      "metadata": {
        "id": "XHAi0JFHUG00"
      },
      "outputs": [],
      "source": [
        "Rest_rev = pd.read_csv('Rest_rev_1.csv')"
      ]
    },
    {
      "cell_type": "markdown",
      "metadata": {
        "id": "w0E6cjHSUG01"
      },
      "source": [
        "#### WorldCloud"
      ]
    },
    {
      "cell_type": "code",
      "execution_count": 55,
      "metadata": {
        "id": "3o8APc0JUG01"
      },
      "outputs": [],
      "source": []
    },
    {
      "cell_type": "code",
      "execution_count": 55,
      "metadata": {
        "id": "AkVHU1X4UG02"
      },
      "outputs": [],
      "source": []
    },
    {
      "cell_type": "markdown",
      "metadata": {
        "id": "zvr2c7NKUG02"
      },
      "source": [
        "#### Train Test split"
      ]
    },
    {
      "cell_type": "markdown",
      "metadata": {
        "id": "xKqDcBOqUG02"
      },
      "source": [
        "Splitting the dataframe into train and test"
      ]
    },
    {
      "cell_type": "code",
      "execution_count": 56,
      "metadata": {
        "id": "rHQ-7zaXUG03"
      },
      "outputs": [],
      "source": [
        "from sklearn.model_selection import train_test_split, StratifiedShuffleSplit\n",
        "df_train, df_test = train_test_split(Rest_rev, test_size = 0.3, random_state = 42, shuffle=True)"
      ]
    },
    {
      "cell_type": "markdown",
      "metadata": {
        "id": "MAX8KavHUG03"
      },
      "source": [
        "Resetting the indices of the training and testing dataframes"
      ]
    },
    {
      "cell_type": "code",
      "execution_count": 57,
      "metadata": {
        "id": "YFsOnC1bUG03"
      },
      "outputs": [],
      "source": [
        "df_train.reset_index(inplace = True, drop = True)"
      ]
    },
    {
      "cell_type": "code",
      "execution_count": 58,
      "metadata": {
        "id": "Yz5pmvHEUG03"
      },
      "outputs": [],
      "source": [
        "df_test.reset_index(inplace = True, drop = True)"
      ]
    },
    {
      "cell_type": "code",
      "execution_count": 59,
      "metadata": {
        "colab": {
          "base_uri": "https://localhost:8080/",
          "height": 206
        },
        "id": "_No8u9mzUG04",
        "outputId": "f9910fc8-a7ea-4c78-a87d-d113177c117a"
      },
      "outputs": [
        {
          "output_type": "execute_result",
          "data": {
            "text/plain": [
              "                                                                    cleaned_Review  \\\n",
              "0  ['disappointed', 'ordered', 'big', 'bay', 'plater']                               \n",
              "1  ['every', 'time', 'eat', 'see', 'caring', 'teamwork', 'professional', 'degree']   \n",
              "2  ['food', 'par', 'denny', 'say', 'not', 'good']                                    \n",
              "3  ['interesting', 'part', 'town', 'place', 'amazing']                               \n",
              "4  ['not', 'good', 'stretch', 'imagination']                                         \n",
              "\n",
              "   Liked  Length  \n",
              "0  0      54      \n",
              "1  1      70      \n",
              "2  0      72      \n",
              "3  1      54      \n",
              "4  0      43      "
            ],
            "text/html": [
              "\n",
              "  <div id=\"df-86f5594b-5f38-4d4e-8433-4f6d30daa215\">\n",
              "    <div class=\"colab-df-container\">\n",
              "      <div>\n",
              "<style scoped>\n",
              "    .dataframe tbody tr th:only-of-type {\n",
              "        vertical-align: middle;\n",
              "    }\n",
              "\n",
              "    .dataframe tbody tr th {\n",
              "        vertical-align: top;\n",
              "    }\n",
              "\n",
              "    .dataframe thead th {\n",
              "        text-align: right;\n",
              "    }\n",
              "</style>\n",
              "<table border=\"1\" class=\"dataframe\">\n",
              "  <thead>\n",
              "    <tr style=\"text-align: right;\">\n",
              "      <th></th>\n",
              "      <th>cleaned_Review</th>\n",
              "      <th>Liked</th>\n",
              "      <th>Length</th>\n",
              "    </tr>\n",
              "  </thead>\n",
              "  <tbody>\n",
              "    <tr>\n",
              "      <th>0</th>\n",
              "      <td>['disappointed', 'ordered', 'big', 'bay', 'plater']</td>\n",
              "      <td>0</td>\n",
              "      <td>54</td>\n",
              "    </tr>\n",
              "    <tr>\n",
              "      <th>1</th>\n",
              "      <td>['every', 'time', 'eat', 'see', 'caring', 'teamwork', 'professional', 'degree']</td>\n",
              "      <td>1</td>\n",
              "      <td>70</td>\n",
              "    </tr>\n",
              "    <tr>\n",
              "      <th>2</th>\n",
              "      <td>['food', 'par', 'denny', 'say', 'not', 'good']</td>\n",
              "      <td>0</td>\n",
              "      <td>72</td>\n",
              "    </tr>\n",
              "    <tr>\n",
              "      <th>3</th>\n",
              "      <td>['interesting', 'part', 'town', 'place', 'amazing']</td>\n",
              "      <td>1</td>\n",
              "      <td>54</td>\n",
              "    </tr>\n",
              "    <tr>\n",
              "      <th>4</th>\n",
              "      <td>['not', 'good', 'stretch', 'imagination']</td>\n",
              "      <td>0</td>\n",
              "      <td>43</td>\n",
              "    </tr>\n",
              "  </tbody>\n",
              "</table>\n",
              "</div>\n",
              "      <button class=\"colab-df-convert\" onclick=\"convertToInteractive('df-86f5594b-5f38-4d4e-8433-4f6d30daa215')\"\n",
              "              title=\"Convert this dataframe to an interactive table.\"\n",
              "              style=\"display:none;\">\n",
              "        \n",
              "  <svg xmlns=\"http://www.w3.org/2000/svg\" height=\"24px\"viewBox=\"0 0 24 24\"\n",
              "       width=\"24px\">\n",
              "    <path d=\"M0 0h24v24H0V0z\" fill=\"none\"/>\n",
              "    <path d=\"M18.56 5.44l.94 2.06.94-2.06 2.06-.94-2.06-.94-.94-2.06-.94 2.06-2.06.94zm-11 1L8.5 8.5l.94-2.06 2.06-.94-2.06-.94L8.5 2.5l-.94 2.06-2.06.94zm10 10l.94 2.06.94-2.06 2.06-.94-2.06-.94-.94-2.06-.94 2.06-2.06.94z\"/><path d=\"M17.41 7.96l-1.37-1.37c-.4-.4-.92-.59-1.43-.59-.52 0-1.04.2-1.43.59L10.3 9.45l-7.72 7.72c-.78.78-.78 2.05 0 2.83L4 21.41c.39.39.9.59 1.41.59.51 0 1.02-.2 1.41-.59l7.78-7.78 2.81-2.81c.8-.78.8-2.07 0-2.86zM5.41 20L4 18.59l7.72-7.72 1.47 1.35L5.41 20z\"/>\n",
              "  </svg>\n",
              "      </button>\n",
              "      \n",
              "  <style>\n",
              "    .colab-df-container {\n",
              "      display:flex;\n",
              "      flex-wrap:wrap;\n",
              "      gap: 12px;\n",
              "    }\n",
              "\n",
              "    .colab-df-convert {\n",
              "      background-color: #E8F0FE;\n",
              "      border: none;\n",
              "      border-radius: 50%;\n",
              "      cursor: pointer;\n",
              "      display: none;\n",
              "      fill: #1967D2;\n",
              "      height: 32px;\n",
              "      padding: 0 0 0 0;\n",
              "      width: 32px;\n",
              "    }\n",
              "\n",
              "    .colab-df-convert:hover {\n",
              "      background-color: #E2EBFA;\n",
              "      box-shadow: 0px 1px 2px rgba(60, 64, 67, 0.3), 0px 1px 3px 1px rgba(60, 64, 67, 0.15);\n",
              "      fill: #174EA6;\n",
              "    }\n",
              "\n",
              "    [theme=dark] .colab-df-convert {\n",
              "      background-color: #3B4455;\n",
              "      fill: #D2E3FC;\n",
              "    }\n",
              "\n",
              "    [theme=dark] .colab-df-convert:hover {\n",
              "      background-color: #434B5C;\n",
              "      box-shadow: 0px 1px 3px 1px rgba(0, 0, 0, 0.15);\n",
              "      filter: drop-shadow(0px 1px 2px rgba(0, 0, 0, 0.3));\n",
              "      fill: #FFFFFF;\n",
              "    }\n",
              "  </style>\n",
              "\n",
              "      <script>\n",
              "        const buttonEl =\n",
              "          document.querySelector('#df-86f5594b-5f38-4d4e-8433-4f6d30daa215 button.colab-df-convert');\n",
              "        buttonEl.style.display =\n",
              "          google.colab.kernel.accessAllowed ? 'block' : 'none';\n",
              "\n",
              "        async function convertToInteractive(key) {\n",
              "          const element = document.querySelector('#df-86f5594b-5f38-4d4e-8433-4f6d30daa215');\n",
              "          const dataTable =\n",
              "            await google.colab.kernel.invokeFunction('convertToInteractive',\n",
              "                                                     [key], {});\n",
              "          if (!dataTable) return;\n",
              "\n",
              "          const docLinkHtml = 'Like what you see? Visit the ' +\n",
              "            '<a target=\"_blank\" href=https://colab.research.google.com/notebooks/data_table.ipynb>data table notebook</a>'\n",
              "            + ' to learn more about interactive tables.';\n",
              "          element.innerHTML = '';\n",
              "          dataTable['output_type'] = 'display_data';\n",
              "          await google.colab.output.renderOutput(dataTable, element);\n",
              "          const docLink = document.createElement('div');\n",
              "          docLink.innerHTML = docLinkHtml;\n",
              "          element.appendChild(docLink);\n",
              "        }\n",
              "      </script>\n",
              "    </div>\n",
              "  </div>\n",
              "  "
            ]
          },
          "metadata": {},
          "execution_count": 59
        }
      ],
      "source": [
        "df_train.head()"
      ]
    },
    {
      "cell_type": "code",
      "execution_count": 60,
      "metadata": {
        "colab": {
          "base_uri": "https://localhost:8080/",
          "height": 206
        },
        "id": "bf9sH4JlUG04",
        "outputId": "bf093f93-196a-4ddd-996d-b6940ded101a"
      },
      "outputs": [
        {
          "output_type": "execute_result",
          "data": {
            "text/plain": [
              "                                                           cleaned_Review  \\\n",
              "0  ['excellent']                                                            \n",
              "1  ['server', 'suck', 'wait', 'correction', 'server', 'heimer', 'sucked']   \n",
              "2  ['back']                                                                 \n",
              "3  ['hate', 'thing', 'much', 'cheap', 'quality', 'black', 'olive']          \n",
              "4  ['think', 'going', 'back', 'anytime', 'soon']                            \n",
              "\n",
              "   Liked  Length  \n",
              "0  1      20      \n",
              "1  0      62      \n",
              "2  1      19      \n",
              "3  0      58      \n",
              "4  0      47      "
            ],
            "text/html": [
              "\n",
              "  <div id=\"df-181d2047-4466-42c4-8038-b6da2ad6329a\">\n",
              "    <div class=\"colab-df-container\">\n",
              "      <div>\n",
              "<style scoped>\n",
              "    .dataframe tbody tr th:only-of-type {\n",
              "        vertical-align: middle;\n",
              "    }\n",
              "\n",
              "    .dataframe tbody tr th {\n",
              "        vertical-align: top;\n",
              "    }\n",
              "\n",
              "    .dataframe thead th {\n",
              "        text-align: right;\n",
              "    }\n",
              "</style>\n",
              "<table border=\"1\" class=\"dataframe\">\n",
              "  <thead>\n",
              "    <tr style=\"text-align: right;\">\n",
              "      <th></th>\n",
              "      <th>cleaned_Review</th>\n",
              "      <th>Liked</th>\n",
              "      <th>Length</th>\n",
              "    </tr>\n",
              "  </thead>\n",
              "  <tbody>\n",
              "    <tr>\n",
              "      <th>0</th>\n",
              "      <td>['excellent']</td>\n",
              "      <td>1</td>\n",
              "      <td>20</td>\n",
              "    </tr>\n",
              "    <tr>\n",
              "      <th>1</th>\n",
              "      <td>['server', 'suck', 'wait', 'correction', 'server', 'heimer', 'sucked']</td>\n",
              "      <td>0</td>\n",
              "      <td>62</td>\n",
              "    </tr>\n",
              "    <tr>\n",
              "      <th>2</th>\n",
              "      <td>['back']</td>\n",
              "      <td>1</td>\n",
              "      <td>19</td>\n",
              "    </tr>\n",
              "    <tr>\n",
              "      <th>3</th>\n",
              "      <td>['hate', 'thing', 'much', 'cheap', 'quality', 'black', 'olive']</td>\n",
              "      <td>0</td>\n",
              "      <td>58</td>\n",
              "    </tr>\n",
              "    <tr>\n",
              "      <th>4</th>\n",
              "      <td>['think', 'going', 'back', 'anytime', 'soon']</td>\n",
              "      <td>0</td>\n",
              "      <td>47</td>\n",
              "    </tr>\n",
              "  </tbody>\n",
              "</table>\n",
              "</div>\n",
              "      <button class=\"colab-df-convert\" onclick=\"convertToInteractive('df-181d2047-4466-42c4-8038-b6da2ad6329a')\"\n",
              "              title=\"Convert this dataframe to an interactive table.\"\n",
              "              style=\"display:none;\">\n",
              "        \n",
              "  <svg xmlns=\"http://www.w3.org/2000/svg\" height=\"24px\"viewBox=\"0 0 24 24\"\n",
              "       width=\"24px\">\n",
              "    <path d=\"M0 0h24v24H0V0z\" fill=\"none\"/>\n",
              "    <path d=\"M18.56 5.44l.94 2.06.94-2.06 2.06-.94-2.06-.94-.94-2.06-.94 2.06-2.06.94zm-11 1L8.5 8.5l.94-2.06 2.06-.94-2.06-.94L8.5 2.5l-.94 2.06-2.06.94zm10 10l.94 2.06.94-2.06 2.06-.94-2.06-.94-.94-2.06-.94 2.06-2.06.94z\"/><path d=\"M17.41 7.96l-1.37-1.37c-.4-.4-.92-.59-1.43-.59-.52 0-1.04.2-1.43.59L10.3 9.45l-7.72 7.72c-.78.78-.78 2.05 0 2.83L4 21.41c.39.39.9.59 1.41.59.51 0 1.02-.2 1.41-.59l7.78-7.78 2.81-2.81c.8-.78.8-2.07 0-2.86zM5.41 20L4 18.59l7.72-7.72 1.47 1.35L5.41 20z\"/>\n",
              "  </svg>\n",
              "      </button>\n",
              "      \n",
              "  <style>\n",
              "    .colab-df-container {\n",
              "      display:flex;\n",
              "      flex-wrap:wrap;\n",
              "      gap: 12px;\n",
              "    }\n",
              "\n",
              "    .colab-df-convert {\n",
              "      background-color: #E8F0FE;\n",
              "      border: none;\n",
              "      border-radius: 50%;\n",
              "      cursor: pointer;\n",
              "      display: none;\n",
              "      fill: #1967D2;\n",
              "      height: 32px;\n",
              "      padding: 0 0 0 0;\n",
              "      width: 32px;\n",
              "    }\n",
              "\n",
              "    .colab-df-convert:hover {\n",
              "      background-color: #E2EBFA;\n",
              "      box-shadow: 0px 1px 2px rgba(60, 64, 67, 0.3), 0px 1px 3px 1px rgba(60, 64, 67, 0.15);\n",
              "      fill: #174EA6;\n",
              "    }\n",
              "\n",
              "    [theme=dark] .colab-df-convert {\n",
              "      background-color: #3B4455;\n",
              "      fill: #D2E3FC;\n",
              "    }\n",
              "\n",
              "    [theme=dark] .colab-df-convert:hover {\n",
              "      background-color: #434B5C;\n",
              "      box-shadow: 0px 1px 3px 1px rgba(0, 0, 0, 0.15);\n",
              "      filter: drop-shadow(0px 1px 2px rgba(0, 0, 0, 0.3));\n",
              "      fill: #FFFFFF;\n",
              "    }\n",
              "  </style>\n",
              "\n",
              "      <script>\n",
              "        const buttonEl =\n",
              "          document.querySelector('#df-181d2047-4466-42c4-8038-b6da2ad6329a button.colab-df-convert');\n",
              "        buttonEl.style.display =\n",
              "          google.colab.kernel.accessAllowed ? 'block' : 'none';\n",
              "\n",
              "        async function convertToInteractive(key) {\n",
              "          const element = document.querySelector('#df-181d2047-4466-42c4-8038-b6da2ad6329a');\n",
              "          const dataTable =\n",
              "            await google.colab.kernel.invokeFunction('convertToInteractive',\n",
              "                                                     [key], {});\n",
              "          if (!dataTable) return;\n",
              "\n",
              "          const docLinkHtml = 'Like what you see? Visit the ' +\n",
              "            '<a target=\"_blank\" href=https://colab.research.google.com/notebooks/data_table.ipynb>data table notebook</a>'\n",
              "            + ' to learn more about interactive tables.';\n",
              "          element.innerHTML = '';\n",
              "          dataTable['output_type'] = 'display_data';\n",
              "          await google.colab.output.renderOutput(dataTable, element);\n",
              "          const docLink = document.createElement('div');\n",
              "          docLink.innerHTML = docLinkHtml;\n",
              "          element.appendChild(docLink);\n",
              "        }\n",
              "      </script>\n",
              "    </div>\n",
              "  </div>\n",
              "  "
            ]
          },
          "metadata": {},
          "execution_count": 60
        }
      ],
      "source": [
        "df_test.head()"
      ]
    },
    {
      "cell_type": "markdown",
      "metadata": {
        "id": "eqFxu0e3UG04"
      },
      "source": [
        "The indices have been reset"
      ]
    },
    {
      "cell_type": "markdown",
      "metadata": {
        "id": "gkOr1lD2UG05"
      },
      "source": [
        "#### Creating a TF-IDF object"
      ]
    },
    {
      "cell_type": "markdown",
      "metadata": {
        "id": "3NtTdKJlUG05"
      },
      "source": [
        "We will create an object for **TfidfVectorizer** to convert the text data into a numeric representation/vector representation"
      ]
    },
    {
      "cell_type": "code",
      "execution_count": 61,
      "metadata": {
        "id": "JGwrRYeCUG05"
      },
      "outputs": [],
      "source": [
        "from sklearn.feature_extraction.text import TfidfVectorizer"
      ]
    },
    {
      "cell_type": "markdown",
      "metadata": {
        "id": "2qW1Fd-dUG06"
      },
      "source": [
        "Multinomial classifiers are quite useful when working with text data. Since **Multinomial Naive Bayes** algorithm is  useful for discrete counts, we can use **MultinomialNB**"
      ]
    },
    {
      "cell_type": "code",
      "execution_count": 62,
      "metadata": {
        "id": "5LIKxfDlUG06"
      },
      "outputs": [],
      "source": [
        "from sklearn.naive_bayes import MultinomialNB"
      ]
    },
    {
      "cell_type": "code",
      "execution_count": 63,
      "metadata": {
        "id": "1xjHF3gBUG07"
      },
      "outputs": [],
      "source": [
        "from sklearn.pipeline import make_pipeline"
      ]
    },
    {
      "cell_type": "markdown",
      "metadata": {
        "id": "485zYG6oUG07"
      },
      "source": [
        "We have set some parameters in the TfidfVectorizer. **max_df=0.15** means that only the words whose frequency of occurrence in the documents is a maximum of 0.15 will be considered whereas the words having frequency higher than 0.15 will not be considered as they will not matter much since they are commonly occurring in the document."
      ]
    },
    {
      "cell_type": "code",
      "execution_count": 64,
      "metadata": {
        "id": "_A3k7wlwUG07"
      },
      "outputs": [],
      "source": [
        "vectorizer_tf = TfidfVectorizer(max_df=0.15, min_df=0, max_features=10000, use_idf=False,norm=None)"
      ]
    },
    {
      "cell_type": "markdown",
      "metadata": {
        "id": "azPTeOUAUG08"
      },
      "source": [
        "We can use **make_pipeline()** function to take the output of **TfidfVectorizer()** and push that to the **MultinomialNB()**."
      ]
    },
    {
      "cell_type": "code",
      "execution_count": 65,
      "metadata": {
        "id": "r6cTczzZUG08"
      },
      "outputs": [],
      "source": [
        "model = make_pipeline(vectorizer_tf, MultinomialNB())"
      ]
    },
    {
      "cell_type": "markdown",
      "metadata": {
        "id": "sABUBzRIUG08"
      },
      "source": [
        "Training the model"
      ]
    },
    {
      "cell_type": "code",
      "execution_count": 66,
      "metadata": {
        "colab": {
          "base_uri": "https://localhost:8080/",
          "height": 126
        },
        "id": "k9_RpHwgUG08",
        "outputId": "90c12f81-8c6a-4957-8226-1889ebbf912d"
      },
      "outputs": [
        {
          "output_type": "execute_result",
          "data": {
            "text/plain": [
              "Pipeline(steps=[('tfidfvectorizer',\n",
              "                 TfidfVectorizer(max_df=0.15, max_features=10000, min_df=0,\n",
              "                                 norm=None, use_idf=False)),\n",
              "                ('multinomialnb', MultinomialNB())])"
            ],
            "text/html": [
              "<style>#sk-container-id-1 {color: black;background-color: white;}#sk-container-id-1 pre{padding: 0;}#sk-container-id-1 div.sk-toggleable {background-color: white;}#sk-container-id-1 label.sk-toggleable__label {cursor: pointer;display: block;width: 100%;margin-bottom: 0;padding: 0.3em;box-sizing: border-box;text-align: center;}#sk-container-id-1 label.sk-toggleable__label-arrow:before {content: \"▸\";float: left;margin-right: 0.25em;color: #696969;}#sk-container-id-1 label.sk-toggleable__label-arrow:hover:before {color: black;}#sk-container-id-1 div.sk-estimator:hover label.sk-toggleable__label-arrow:before {color: black;}#sk-container-id-1 div.sk-toggleable__content {max-height: 0;max-width: 0;overflow: hidden;text-align: left;background-color: #f0f8ff;}#sk-container-id-1 div.sk-toggleable__content pre {margin: 0.2em;color: black;border-radius: 0.25em;background-color: #f0f8ff;}#sk-container-id-1 input.sk-toggleable__control:checked~div.sk-toggleable__content {max-height: 200px;max-width: 100%;overflow: auto;}#sk-container-id-1 input.sk-toggleable__control:checked~label.sk-toggleable__label-arrow:before {content: \"▾\";}#sk-container-id-1 div.sk-estimator input.sk-toggleable__control:checked~label.sk-toggleable__label {background-color: #d4ebff;}#sk-container-id-1 div.sk-label input.sk-toggleable__control:checked~label.sk-toggleable__label {background-color: #d4ebff;}#sk-container-id-1 input.sk-hidden--visually {border: 0;clip: rect(1px 1px 1px 1px);clip: rect(1px, 1px, 1px, 1px);height: 1px;margin: -1px;overflow: hidden;padding: 0;position: absolute;width: 1px;}#sk-container-id-1 div.sk-estimator {font-family: monospace;background-color: #f0f8ff;border: 1px dotted black;border-radius: 0.25em;box-sizing: border-box;margin-bottom: 0.5em;}#sk-container-id-1 div.sk-estimator:hover {background-color: #d4ebff;}#sk-container-id-1 div.sk-parallel-item::after {content: \"\";width: 100%;border-bottom: 1px solid gray;flex-grow: 1;}#sk-container-id-1 div.sk-label:hover label.sk-toggleable__label {background-color: #d4ebff;}#sk-container-id-1 div.sk-serial::before {content: \"\";position: absolute;border-left: 1px solid gray;box-sizing: border-box;top: 0;bottom: 0;left: 50%;z-index: 0;}#sk-container-id-1 div.sk-serial {display: flex;flex-direction: column;align-items: center;background-color: white;padding-right: 0.2em;padding-left: 0.2em;position: relative;}#sk-container-id-1 div.sk-item {position: relative;z-index: 1;}#sk-container-id-1 div.sk-parallel {display: flex;align-items: stretch;justify-content: center;background-color: white;position: relative;}#sk-container-id-1 div.sk-item::before, #sk-container-id-1 div.sk-parallel-item::before {content: \"\";position: absolute;border-left: 1px solid gray;box-sizing: border-box;top: 0;bottom: 0;left: 50%;z-index: -1;}#sk-container-id-1 div.sk-parallel-item {display: flex;flex-direction: column;z-index: 1;position: relative;background-color: white;}#sk-container-id-1 div.sk-parallel-item:first-child::after {align-self: flex-end;width: 50%;}#sk-container-id-1 div.sk-parallel-item:last-child::after {align-self: flex-start;width: 50%;}#sk-container-id-1 div.sk-parallel-item:only-child::after {width: 0;}#sk-container-id-1 div.sk-dashed-wrapped {border: 1px dashed gray;margin: 0 0.4em 0.5em 0.4em;box-sizing: border-box;padding-bottom: 0.4em;background-color: white;}#sk-container-id-1 div.sk-label label {font-family: monospace;font-weight: bold;display: inline-block;line-height: 1.2em;}#sk-container-id-1 div.sk-label-container {text-align: center;}#sk-container-id-1 div.sk-container {/* jupyter's `normalize.less` sets `[hidden] { display: none; }` but bootstrap.min.css set `[hidden] { display: none !important; }` so we also need the `!important` here to be able to override the default hidden behavior on the sphinx rendered scikit-learn.org. See: https://github.com/scikit-learn/scikit-learn/issues/21755 */display: inline-block !important;position: relative;}#sk-container-id-1 div.sk-text-repr-fallback {display: none;}</style><div id=\"sk-container-id-1\" class=\"sk-top-container\"><div class=\"sk-text-repr-fallback\"><pre>Pipeline(steps=[(&#x27;tfidfvectorizer&#x27;,\n",
              "                 TfidfVectorizer(max_df=0.15, max_features=10000, min_df=0,\n",
              "                                 norm=None, use_idf=False)),\n",
              "                (&#x27;multinomialnb&#x27;, MultinomialNB())])</pre><b>In a Jupyter environment, please rerun this cell to show the HTML representation or trust the notebook. <br />On GitHub, the HTML representation is unable to render, please try loading this page with nbviewer.org.</b></div><div class=\"sk-container\" hidden><div class=\"sk-item sk-dashed-wrapped\"><div class=\"sk-label-container\"><div class=\"sk-label sk-toggleable\"><input class=\"sk-toggleable__control sk-hidden--visually\" id=\"sk-estimator-id-1\" type=\"checkbox\" ><label for=\"sk-estimator-id-1\" class=\"sk-toggleable__label sk-toggleable__label-arrow\">Pipeline</label><div class=\"sk-toggleable__content\"><pre>Pipeline(steps=[(&#x27;tfidfvectorizer&#x27;,\n",
              "                 TfidfVectorizer(max_df=0.15, max_features=10000, min_df=0,\n",
              "                                 norm=None, use_idf=False)),\n",
              "                (&#x27;multinomialnb&#x27;, MultinomialNB())])</pre></div></div></div><div class=\"sk-serial\"><div class=\"sk-item\"><div class=\"sk-estimator sk-toggleable\"><input class=\"sk-toggleable__control sk-hidden--visually\" id=\"sk-estimator-id-2\" type=\"checkbox\" ><label for=\"sk-estimator-id-2\" class=\"sk-toggleable__label sk-toggleable__label-arrow\">TfidfVectorizer</label><div class=\"sk-toggleable__content\"><pre>TfidfVectorizer(max_df=0.15, max_features=10000, min_df=0, norm=None,\n",
              "                use_idf=False)</pre></div></div></div><div class=\"sk-item\"><div class=\"sk-estimator sk-toggleable\"><input class=\"sk-toggleable__control sk-hidden--visually\" id=\"sk-estimator-id-3\" type=\"checkbox\" ><label for=\"sk-estimator-id-3\" class=\"sk-toggleable__label sk-toggleable__label-arrow\">MultinomialNB</label><div class=\"sk-toggleable__content\"><pre>MultinomialNB()</pre></div></div></div></div></div></div></div>"
            ]
          },
          "metadata": {},
          "execution_count": 66
        }
      ],
      "source": [
        "model.fit(df_train.cleaned_Review, df_train.Liked)"
      ]
    },
    {
      "cell_type": "markdown",
      "metadata": {
        "id": "Qoq9ioGYUG09"
      },
      "source": [
        "Making predictions on the testing dataset"
      ]
    },
    {
      "cell_type": "code",
      "execution_count": 67,
      "metadata": {
        "id": "VFqG-pNWUG09"
      },
      "outputs": [],
      "source": [
        "labels = model.predict(df_test.cleaned_Review)"
      ]
    },
    {
      "cell_type": "markdown",
      "metadata": {
        "id": "wk-Qgai3UG09"
      },
      "source": [
        "Plotting a **confusion matrix**"
      ]
    },
    {
      "cell_type": "code",
      "execution_count": 68,
      "metadata": {
        "id": "DIFcJLhwUG0-"
      },
      "outputs": [],
      "source": [
        "from sklearn.metrics import confusion_matrix, classification_report, accuracy_score"
      ]
    },
    {
      "cell_type": "code",
      "execution_count": 69,
      "metadata": {
        "id": "XxUWnghHUG0-"
      },
      "outputs": [],
      "source": [
        "mat = confusion_matrix(df_test.Liked, labels)"
      ]
    },
    {
      "cell_type": "code",
      "execution_count": 70,
      "metadata": {
        "colab": {
          "base_uri": "https://localhost:8080/",
          "height": 296
        },
        "id": "a-5E9_vGUG0-",
        "outputId": "13618f76-6394-4a03-f50a-80497fffbb73"
      },
      "outputs": [
        {
          "output_type": "execute_result",
          "data": {
            "text/plain": [
              "Text(91.68, 0.5, 'Predicted label')"
            ]
          },
          "metadata": {},
          "execution_count": 70
        },
        {
          "output_type": "display_data",
          "data": {
            "text/plain": [
              "<Figure size 432x288 with 1 Axes>"
            ],
            "image/png": "[encoded data removed]"
          },
          "metadata": {
            "needs_background": "light"
          }
        }
      ],
      "source": [
        "sns.heatmap(mat.T, square=True, annot=True, fmt='d', cbar=False)\n",
        "plt.xlabel('True label')\n",
        "plt.ylabel('Predicted label')"
      ]
    },
    {
      "cell_type": "markdown",
      "metadata": {
        "id": "Rn3Um8O9UG0_"
      },
      "source": [
        "The following observations can be concluded about the performance:\n",
        "    \n",
        " - 128 is the number of true positives i.e. The number of actual negative reviews that were predicted negatively be the model\n",
        " - 109 is the number of true negatives i.e. The number of actual positive reviews that were predicted positively be the model\n",
        " - 27 is the number of false positives i.e. The number of actual negative reviews that were predicted positively be the model\n",
        " - 35 is the number of false negatives i.e. The number of actual positive reviews that were predicted negatively be the model"
      ]
    },
    {
      "cell_type": "code",
      "execution_count": 71,
      "metadata": {
        "id": "KarIeZXQUG0_"
      },
      "outputs": [],
      "source": [
        "score = accuracy_score(df_test.Liked, labels)"
      ]
    },
    {
      "cell_type": "code",
      "execution_count": 72,
      "metadata": {
        "colab": {
          "base_uri": "https://localhost:8080/"
        },
        "id": "TLC77x_EUG0_",
        "outputId": "ac29f98b-7a38-480a-837a-8e410d4f442e"
      },
      "outputs": [
        {
          "output_type": "execute_result",
          "data": {
            "text/plain": [
              "0.7926421404682275"
            ]
          },
          "metadata": {},
          "execution_count": 72
        }
      ],
      "source": [
        "score"
      ]
    },
    {
      "cell_type": "markdown",
      "metadata": {
        "id": "6znFEl6LUG1A"
      },
      "source": [
        "The accuracy score of the **MultinomialNB** model is 79.26%"
      ]
    },
    {
      "cell_type": "code",
      "execution_count": 73,
      "metadata": {
        "id": "W-AHoAaJUG1A"
      },
      "outputs": [],
      "source": [
        "report = classification_report(df_test.Liked, labels)"
      ]
    },
    {
      "cell_type": "code",
      "execution_count": 74,
      "metadata": {
        "colab": {
          "base_uri": "https://localhost:8080/"
        },
        "id": "tyRkKogEUG1A",
        "outputId": "79c8d643-b16f-4ba6-b659-d3db066db530"
      },
      "outputs": [
        {
          "output_type": "stream",
          "name": "stdout",
          "text": [
            "              precision    recall  f1-score   support\n",
            "\n",
            "           0       0.79      0.83      0.81       155\n",
            "           1       0.80      0.76      0.78       144\n",
            "\n",
            "    accuracy                           0.79       299\n",
            "   macro avg       0.79      0.79      0.79       299\n",
            "weighted avg       0.79      0.79      0.79       299\n",
            "\n"
          ]
        }
      ],
      "source": [
        "print(report)"
      ]
    },
    {
      "cell_type": "markdown",
      "metadata": {
        "id": "oG9FeFm2UG1B"
      },
      "source": [
        "#### Creating a Word2Vec object"
      ]
    },
    {
      "cell_type": "markdown",
      "metadata": {
        "id": "JXgza0lIUG1B"
      },
      "source": [
        "Using TfIdf, we will not get much semantic information about the text. To overcome this drawback, we will use the concept of word embeddings. **Word2Vec** is a word embedding technique"
      ]
    },
    {
      "cell_type": "code",
      "execution_count": 75,
      "metadata": {
        "id": "LrnR7qFCUG1B"
      },
      "outputs": [],
      "source": [
        "import gensim"
      ]
    },
    {
      "cell_type": "code",
      "execution_count": 76,
      "metadata": {
        "id": "1dcQCtuAUG1B"
      },
      "outputs": [],
      "source": [
        "from gensim.models import  Word2Vec"
      ]
    },
    {
      "cell_type": "code",
      "execution_count": 77,
      "metadata": {
        "colab": {
          "base_uri": "https://localhost:8080/",
          "height": 206
        },
        "id": "V6rYOTJ5k-ob",
        "outputId": "56fce954-0e80-47df-aa1a-bf88e9a662b1"
      },
      "outputs": [
        {
          "output_type": "execute_result",
          "data": {
            "text/plain": [
              "                                                                                        cleaned_Review  \\\n",
              "0  ['wow', 'loved', 'place']                                                                             \n",
              "1  ['crust', 'not', 'good']                                                                              \n",
              "2  ['not', 'tasty', 'texture', 'nasty']                                                                  \n",
              "3  ['stopped', 'during', 'late', 'may', 'bank', 'holiday', 'rick', 'steve', 'recommendation', 'loved']   \n",
              "4  ['selection', 'menu', 'great', 'price']                                                               \n",
              "\n",
              "   Liked  Length  \n",
              "0  1      24      \n",
              "1  0      18      \n",
              "2  0      41      \n",
              "3  1      87      \n",
              "4  1      59      "
            ],
            "text/html": [
              "\n",
              "  <div id=\"df-3571e634-5572-4ffc-b77a-7dc6885d4c9f\">\n",
              "    <div class=\"colab-df-container\">\n",
              "      <div>\n",
              "<style scoped>\n",
              "    .dataframe tbody tr th:only-of-type {\n",
              "        vertical-align: middle;\n",
              "    }\n",
              "\n",
              "    .dataframe tbody tr th {\n",
              "        vertical-align: top;\n",
              "    }\n",
              "\n",
              "    .dataframe thead th {\n",
              "        text-align: right;\n",
              "    }\n",
              "</style>\n",
              "<table border=\"1\" class=\"dataframe\">\n",
              "  <thead>\n",
              "    <tr style=\"text-align: right;\">\n",
              "      <th></th>\n",
              "      <th>cleaned_Review</th>\n",
              "      <th>Liked</th>\n",
              "      <th>Length</th>\n",
              "    </tr>\n",
              "  </thead>\n",
              "  <tbody>\n",
              "    <tr>\n",
              "      <th>0</th>\n",
              "      <td>['wow', 'loved', 'place']</td>\n",
              "      <td>1</td>\n",
              "      <td>24</td>\n",
              "    </tr>\n",
              "    <tr>\n",
              "      <th>1</th>\n",
              "      <td>['crust', 'not', 'good']</td>\n",
              "      <td>0</td>\n",
              "      <td>18</td>\n",
              "    </tr>\n",
              "    <tr>\n",
              "      <th>2</th>\n",
              "      <td>['not', 'tasty', 'texture', 'nasty']</td>\n",
              "      <td>0</td>\n",
              "      <td>41</td>\n",
              "    </tr>\n",
              "    <tr>\n",
              "      <th>3</th>\n",
              "      <td>['stopped', 'during', 'late', 'may', 'bank', 'holiday', 'rick', 'steve', 'recommendation', 'loved']</td>\n",
              "      <td>1</td>\n",
              "      <td>87</td>\n",
              "    </tr>\n",
              "    <tr>\n",
              "      <th>4</th>\n",
              "      <td>['selection', 'menu', 'great', 'price']</td>\n",
              "      <td>1</td>\n",
              "      <td>59</td>\n",
              "    </tr>\n",
              "  </tbody>\n",
              "</table>\n",
              "</div>\n",
              "      <button class=\"colab-df-convert\" onclick=\"convertToInteractive('df-3571e634-5572-4ffc-b77a-7dc6885d4c9f')\"\n",
              "              title=\"Convert this dataframe to an interactive table.\"\n",
              "              style=\"display:none;\">\n",
              "        \n",
              "  <svg xmlns=\"http://www.w3.org/2000/svg\" height=\"24px\"viewBox=\"0 0 24 24\"\n",
              "       width=\"24px\">\n",
              "    <path d=\"M0 0h24v24H0V0z\" fill=\"none\"/>\n",
              "    <path d=\"M18.56 5.44l.94 2.06.94-2.06 2.06-.94-2.06-.94-.94-2.06-.94 2.06-2.06.94zm-11 1L8.5 8.5l.94-2.06 2.06-.94-2.06-.94L8.5 2.5l-.94 2.06-2.06.94zm10 10l.94 2.06.94-2.06 2.06-.94-2.06-.94-.94-2.06-.94 2.06-2.06.94z\"/><path d=\"M17.41 7.96l-1.37-1.37c-.4-.4-.92-.59-1.43-.59-.52 0-1.04.2-1.43.59L10.3 9.45l-7.72 7.72c-.78.78-.78 2.05 0 2.83L4 21.41c.39.39.9.59 1.41.59.51 0 1.02-.2 1.41-.59l7.78-7.78 2.81-2.81c.8-.78.8-2.07 0-2.86zM5.41 20L4 18.59l7.72-7.72 1.47 1.35L5.41 20z\"/>\n",
              "  </svg>\n",
              "      </button>\n",
              "      \n",
              "  <style>\n",
              "    .colab-df-container {\n",
              "      display:flex;\n",
              "      flex-wrap:wrap;\n",
              "      gap: 12px;\n",
              "    }\n",
              "\n",
              "    .colab-df-convert {\n",
              "      background-color: #E8F0FE;\n",
              "      border: none;\n",
              "      border-radius: 50%;\n",
              "      cursor: pointer;\n",
              "      display: none;\n",
              "      fill: #1967D2;\n",
              "      height: 32px;\n",
              "      padding: 0 0 0 0;\n",
              "      width: 32px;\n",
              "    }\n",
              "\n",
              "    .colab-df-convert:hover {\n",
              "      background-color: #E2EBFA;\n",
              "      box-shadow: 0px 1px 2px rgba(60, 64, 67, 0.3), 0px 1px 3px 1px rgba(60, 64, 67, 0.15);\n",
              "      fill: #174EA6;\n",
              "    }\n",
              "\n",
              "    [theme=dark] .colab-df-convert {\n",
              "      background-color: #3B4455;\n",
              "      fill: #D2E3FC;\n",
              "    }\n",
              "\n",
              "    [theme=dark] .colab-df-convert:hover {\n",
              "      background-color: #434B5C;\n",
              "      box-shadow: 0px 1px 3px 1px rgba(0, 0, 0, 0.15);\n",
              "      filter: drop-shadow(0px 1px 2px rgba(0, 0, 0, 0.3));\n",
              "      fill: #FFFFFF;\n",
              "    }\n",
              "  </style>\n",
              "\n",
              "      <script>\n",
              "        const buttonEl =\n",
              "          document.querySelector('#df-3571e634-5572-4ffc-b77a-7dc6885d4c9f button.colab-df-convert');\n",
              "        buttonEl.style.display =\n",
              "          google.colab.kernel.accessAllowed ? 'block' : 'none';\n",
              "\n",
              "        async function convertToInteractive(key) {\n",
              "          const element = document.querySelector('#df-3571e634-5572-4ffc-b77a-7dc6885d4c9f');\n",
              "          const dataTable =\n",
              "            await google.colab.kernel.invokeFunction('convertToInteractive',\n",
              "                                                     [key], {});\n",
              "          if (!dataTable) return;\n",
              "\n",
              "          const docLinkHtml = 'Like what you see? Visit the ' +\n",
              "            '<a target=\"_blank\" href=https://colab.research.google.com/notebooks/data_table.ipynb>data table notebook</a>'\n",
              "            + ' to learn more about interactive tables.';\n",
              "          element.innerHTML = '';\n",
              "          dataTable['output_type'] = 'display_data';\n",
              "          await google.colab.output.renderOutput(dataTable, element);\n",
              "          const docLink = document.createElement('div');\n",
              "          docLink.innerHTML = docLinkHtml;\n",
              "          element.appendChild(docLink);\n",
              "        }\n",
              "      </script>\n",
              "    </div>\n",
              "  </div>\n",
              "  "
            ]
          },
          "metadata": {},
          "execution_count": 77
        }
      ],
      "source": [
        "Rest_rev.head()"
      ]
    },
    {
      "cell_type": "code",
      "execution_count": 78,
      "metadata": {
        "id": "4pVc1a5qtO5D"
      },
      "outputs": [],
      "source": [
        "Rest_rev['cleaned_Review_processed'] = Rest_rev['cleaned_Review'].apply(eval)"
      ]
    },
    {
      "cell_type": "code",
      "execution_count": 79,
      "metadata": {
        "id": "Z6wWVPeEEzHj"
      },
      "outputs": [],
      "source": [
        "sentences = []\n",
        "for i in Rest_rev['cleaned_Review_processed']:\n",
        "  sentences.append(i)"
      ]
    },
    {
      "cell_type": "code",
      "execution_count": 80,
      "metadata": {
        "colab": {
          "base_uri": "https://localhost:8080/"
        },
        "id": "hz7zi8H-FMge",
        "outputId": "0a83db1f-124f-4c50-b800-055e850805f2"
      },
      "outputs": [
        {
          "output_type": "execute_result",
          "data": {
            "text/plain": [
              "996"
            ]
          },
          "metadata": {},
          "execution_count": 80
        }
      ],
      "source": [
        "len(sentences)"
      ]
    },
    {
      "cell_type": "code",
      "execution_count": 81,
      "metadata": {
        "colab": {
          "base_uri": "https://localhost:8080/"
        },
        "id": "pN1z66Z9kL5v",
        "outputId": "3d6b18e5-e9d7-447c-a0e4-b66bb6ddbfbb"
      },
      "outputs": [
        {
          "output_type": "execute_result",
          "data": {
            "text/plain": [
              "[['wow', 'loved', 'place'],\n",
              " ['crust', 'not', 'good'],\n",
              " ['not', 'tasty', 'texture', 'nasty'],\n",
              " ['stopped',\n",
              "  'during',\n",
              "  'late',\n",
              "  'may',\n",
              "  'bank',\n",
              "  'holiday',\n",
              "  'rick',\n",
              "  'steve',\n",
              "  'recommendation',\n",
              "  'loved'],\n",
              " ['selection', 'menu', 'great', 'price']]"
            ]
          },
          "metadata": {},
          "execution_count": 81
        }
      ],
      "source": [
        "sentences[:5]"
      ]
    },
    {
      "cell_type": "code",
      "execution_count": 82,
      "metadata": {
        "colab": {
          "base_uri": "https://localhost:8080/"
        },
        "id": "bF09F_E2z8iB",
        "outputId": "8555218b-8557-471a-802d-b11c1a9d1791"
      },
      "outputs": [
        {
          "output_type": "stream",
          "name": "stdout",
          "text": [
            "4.3.1\n"
          ]
        }
      ],
      "source": [
        "print(gensim.__version__)"
      ]
    },
    {
      "cell_type": "code",
      "execution_count": 83,
      "metadata": {
        "id": "3X1DgKTRz8rZ"
      },
      "outputs": [],
      "source": [
        "# upgrade gensim library if the version is lower\n",
        "if gensim.__version__ != '4.3.1':\n",
        "  !pip install --upgrade gensim"
      ]
    },
    {
      "cell_type": "code",
      "execution_count": 84,
      "metadata": {
        "id": "R4Tjv2c1W7Sm"
      },
      "outputs": [],
      "source": [
        "embedding_size = 58\n",
        "# If there is error while instantiating Word2Vec model, then try restarting the runtime and running entire code again \n",
        "model_Word2Vec = Word2Vec(sentences, vector_size = embedding_size, window=10, min_count=2, sg=0, workers=4)"
      ]
    },
    {
      "cell_type": "code",
      "execution_count": 85,
      "metadata": {
        "colab": {
          "base_uri": "https://localhost:8080/"
        },
        "id": "_zR1yCJEpt-S",
        "outputId": "022562bc-a835-4842-c3f4-c86cde27b1fb"
      },
      "outputs": [
        {
          "output_type": "stream",
          "name": "stdout",
          "text": [
            "Word2Vec<vocab=750, vector_size=58, alpha=0.025>\n"
          ]
        }
      ],
      "source": [
        "print(model_Word2Vec)"
      ]
    },
    {
      "cell_type": "code",
      "execution_count": 86,
      "metadata": {
        "colab": {
          "base_uri": "https://localhost:8080/"
        },
        "id": "jNvvW2BWEf-k",
        "outputId": "97b0c9bd-6ebf-413b-ab54-ad3f999f20b7"
      },
      "outputs": [
        {
          "output_type": "stream",
          "name": "stdout",
          "text": [
            "dict_keys(['food', 'not', 'place', 'good', 'service', 'great', 'back', 'time', 'like', 'go', 'really', 'best', 'would', 'restaurant', 'ever', 'one', 'friendly', 'also', 'never', 'nice', 'amazing', 'delicious', 'vega', 'pretty', 'came', 'experience', 'get', 'even', 'disappointed', 'u', 'definitely', 'eat', 'staff', 'minute', 'love', 'server', 'bad', 'going', 'got', 'chicken', 'steak', 'pizza', 'much', 'star', 'first', 'salad', 'price', 'made', 'say', 'dish', 'better', 'could', 'way', 'menu', 'burger', 'think', 'well', 'always', 'worst', 'wait', 'flavor', 'meal', 'table', 'fresh', 'want', 'ordered', 'quality', 'went', 'feel', 'thing', 'sushi', 'order', 'taste', 'fantastic', 'awesome', 'selection', 'enough', 'night', 'everything', 'after', 'buffet', 'still', 'fry', 'know', 'atmosphere', 'bland', 'slow', 'next', 'come', 'sauce', 'tasty', 'perfect', 'sandwich', 'side', 'waited', 'another', 'recommend', 'coming', 'loved', 'meat', 'breakfast', 'worth', 'little', 'lunch', 'excellent', 'probably', 'hot', 'day', 'many', 'bar', 'give', 'spot', 'bit', 'soon', 'cold', 'terrible', 'people', 'before', 'friend', 'clean', 'potato', 'lot', 'every', 'waitress', 'right', 'beer', 'two', 'eating', 'customer', 'owner', 'absolutely', 'tasted', 'impressed', 'quite', 'felt', 'happy', 'said', 'rude', 'getting', 'try', 'dining', 'chip', 'took', 'overall', 'while', 'hour', 'drink', 'since', 'dessert', 'spicy', 'around', 'make', 'special', 'take', 'sure', 'inside', 'warm', 'portion', 'need', 'waiter', 'nothing', 'ambiance', 'cooked', 'super', 'area', 'far', 'tender', 'tried', 'must', 'check', 'attentive', 'dinner', 'found', 'family', 'deal', 'seriously', 'wonderful', 'overpriced', 'town', 'pho', 'hit', 'mediocre', 'management', 'review', 'last', 'poor', 'authentic', 'see', 'hard', 'either', 'done', 'small', 'twice', 'shrimp', 'left', 'horrible', 'enjoy', 'served', 'pasta', 'money', 'taco', 'tell', 'old', 'home', 'kept', 'bread', 'thought', 'year', 'fast', 'egg', 'away', 'disappointing', 'barely', 'eaten', 'asked', 'chef', 'waiting', 'wine', 'thai', 'business', 'trip', 'wrong', 'fish', 'waste', 'tasteless', 'full', 'avoid', 'seafood', 'new', 'heart', 'soup', 'huge', 'suck', 'talk', 'may', 'outside', 'extremely', 'anytime', 'during', 'seated', 'bathroom', 'beef', 'enjoyed', 'sick', 'hand', 'real', 'reasonable', 'fried', 'expect', 'bring', 'ice', 'bacon', 'return', 'quick', 'long', 'zero', 'look', 'sat', 'sweet', 'bay', 'though', 'phoenix', 'highly', 'pay', 'thumb', 'incredible', 'sucked', 'something', 'unfortunately', 'piece', 'pork', 'damn', 'kind', 'average', 'wing', 'hope', 'drive', 'leave', 'cream', 'live', 'sad', 'fact', 'lady', 'thin', 'today', 'yummy', 'bean', 'green', 'running', 'everyone', 'large', 'ask', 'job', 'tea', 'party', 'salmon', 'location', 'close', 'manager', 'gave', 'least', 'visit', 'rice', 'bite', 'high', 'house', 'vegetable', 'dirty', 'considering', 'mouth', 'roll', 'dry', 'possible', 'someone', 'disappointment', 'folk', 'establishment', 'beat', 'fun', 'helpful', 'husband', 'couple', 'elsewhere', 'option', 'wall', 'rare', 'second', 'appetizer', 'greek', 'dressing', 'moist', 'pita', 'texture', 'cheese', 'water', 'hummus', 'checked', 'amount', 'perfectly', 'delight', 'duck', 'empty', 'flat', 'subway', 'nasty', 'ate', 'recommendation', 'top', 'lover', 'salt', 'brought', 'arrived', 'quickly', 'cafe', 'wife', 'liked', 'although', 'bartender', 'tip', 'recommended', 'ambience', 'beautiful', 'music', 'let', 'busy', 'fine', 'guy', 'melt', 'honest', 'chewy', 'expected', 'delish', 'min', 'belly', 'guess', 'strip', 'oh', 'sashimi', 'totally', 'word', 'break', 'walked', 'care', 'frozen', 'wow', 'setting', 'ok', 'half', 'big', 'list', 'world', 'vibe', 'stop', 'favorite', 'edible', 'none', 'course', 'seating', 'biscuit', 'especially', 'unless', 'work', 'mom', 'soggy', 'pleasant', 'pleased', 'white', 'until', 'mean', 'paper', 'regular', 'wanted', 'patio', 'gone', 'homemade', 'boyfriend', 'room', 'maybe', 'generous', 'pulled', 'please', 'believe', 'worse', 'received', 'par', 'stay', 'flavorful', 'point', 'bill', 'rather', 'boy', 'yet', 'group', 'brunch', 'lobster', 'literally', 'total', 'door', 'cool', 'salsa', 'vegetarian', 'used', 'else', 'treated', 'find', 'priced', 'immediately', 'awful', 'ago', 'several', 'deserves', 'stomach', 'different', 'kid', 'stale', 'told', 'lacked', 'watched', 'style', 'outstanding', 'healthy', 'interesting', 'insulted', 'equally', 'dog', 'pancake', 'gyro', 'lacking', 'butter', 'decor', 'crowd', 'impeccable', 'end', 'dont', 'week', 'nicest', 'mistake', 'worker', 'bunch', 'mall', 'filling', 'stuffed', 'char', 'driest', 'favor', 'familiar', 'anyone', 'completely', 'lovely', 'seems', 'judge', 'behind', 'blow', 'shop', 'anyway', 'inexpensive', 'grossed', 'cow', 'simply', 'assure', 'professional', 'tot', 'paid', 'acknowledged', 'whole', 'note', 'margarita', 'disappoint', 'trying', 'flower', 'perfection', 'combination', 'pop', 'crab', 'leg', 'sliced', 'become', 'decorated', 'decent', 'touch', 'mid', 'spice', 'complain', 'anything', 'chinese', 'fly', 'classic', 'simple', 'choose', 'longer', 'serving', 'needle', 'cashier', 'plate', 'fail', 'staying', 'definately', 'low', 'bother', 'offer', 'lost', 'crust', 'spend', 'three', 'started', 'heat', 'head', 'stopped', 'late', 'employee', 'fell', 'tribute', 'crazy', 'nacho', 'flavorless', 'ended', 'legit', 'italian', 'car', 'mexican', 'fan', 'guest', 'recently', 'helped', 'disgusting', 'baby', 'vinegrette', 'tapa', 'however', 'overwhelmed', 'recent', 'actually', 'combo', 'entree', 'rated', 'cheap', 'mmmm', 'presentation', 'promise', 'human', 'hair', 'sign', 'focused', 'non', 'grilled', 'satisfying', 'cute', 'fairly', 'sitting', 'red', 'cake', 'stuff', 'color', 'front', 'ten', 'realized', 'playing', 'cheeseburger', 'mary', 'double', 'dealing', 'main', 'date', 'cook', 'pepper', 'given', 'needed', 'filet', 'bisque', 'passed', 'between', 'mind', 'shower', 'single', 'picture', 'extra', 'added', 'mood', 'set', 'dark', 'building', 'bye', 'almost', 'stayed', 'honestly', 'mayo', 'serf', 'yum', 'event', 'roasted', 'garlic', 'marrow', 'gross', 'bug', 'die', 'cut', 'overcooked', 'tuna', 'hip', 'bagel', 'looking', 'reasonably', 'bakery', 'dine', 'puree', 'rarely', 'joint', 'highlight', 'curry', 'undercooked', 'greeted', 'cover', 'wrap', 'crispy', 'charcoal', 'decided', 'gold', 'mushroom', 'stepped', 'preparing', 'indian', 'boot', 'disrespected', 'bowl', 'valley', 'feeling', 'watch', 'reason', 'station', 'dirt', 'looked', 'sub', 'creamy', 'happened', 'black', 'refill', 'brick', 'omg', 'cocktail', 'seen', 'glad', 'serve', 'doubt', 'above', 'without', 'heard', 'pricing', 'batter', 'fare', 'joke', 'basically', 'oven', 'multiple', 'pace', 'ripped', 'part', 'attitude', 'towards', 'eggplant', 'comfortable', 'lukewarm', 'attack', 'grill', 'downtown', 'excuse', 'life', 'evening', 'treat', 'scallop', 'finally', 'finish', 'beyond', 'similar', 'grease', 'underwhelming', 'boba', 'person', 'cant', 'coffee', 'buck', 'plus', 'others', 'toasted', 'roast', 'tap', 'sugary', 'six', 'stick', 'peanut', 'complaint', 'company', 'bachi', 'opportunity', 'hate', 'delightful', 'summer', 'meh', 'box', 'stir', 'known', 'use', 'third', 'value', 'soooo', 'seasoned', 'convenient', 'neighborhood', 'later', 'wasting', 'seemed'])\n"
          ]
        }
      ],
      "source": [
        "print(model_Word2Vec.wv.key_to_index.keys())"
      ]
    },
    {
      "cell_type": "code",
      "execution_count": 87,
      "metadata": {
        "colab": {
          "base_uri": "https://localhost:8080/"
        },
        "id": "iw6TRaltMiWV",
        "outputId": "a06a50b2-0178-431b-b89c-2ee6f3adfa0f"
      },
      "outputs": [
        {
          "output_type": "execute_result",
          "data": {
            "text/plain": [
              "750"
            ]
          },
          "metadata": {},
          "execution_count": 87
        }
      ],
      "source": [
        "len(model_Word2Vec.wv.index_to_key)"
      ]
    },
    {
      "cell_type": "code",
      "execution_count": 88,
      "metadata": {
        "colab": {
          "base_uri": "https://localhost:8080/"
        },
        "id": "rzxxNck-HuPl",
        "outputId": "9d6f8cef-8720-4f78-f9ae-97c17a48f68d"
      },
      "outputs": [
        {
          "output_type": "execute_result",
          "data": {
            "text/plain": [
              "array([ 0.01514115, -0.00961324, -0.00660453,  0.00603276,  0.01852614,\n",
              "       -0.01069007,  0.01285774,  0.02042692, -0.01465452,  0.00351323,\n",
              "        0.00599983, -0.00313249, -0.00995846, -0.00843316,  0.00095628,\n",
              "       -0.00433648,  0.01034943, -0.00972805,  0.00560699,  0.0055531 ,\n",
              "        0.00647502, -0.00054925, -0.0134326 , -0.01639961,  0.00751316,\n",
              "        0.00944268, -0.00824922, -0.02143599, -0.01703957,  0.00579688,\n",
              "       -0.00285452,  0.01546   , -0.00699451,  0.01531813, -0.00690597,\n",
              "        0.01197001,  0.00191412, -0.01845955, -0.00562164,  0.00045019,\n",
              "       -0.00959364,  0.00189218, -0.01729416,  0.00124275,  0.01724606,\n",
              "        0.00382173, -0.0099143 ,  0.00651468,  0.01528347, -0.01314945,\n",
              "       -0.00945721, -0.00932372,  0.01733777, -0.00129032, -0.01784691,\n",
              "       -0.00743761,  0.02301976, -0.01067937], dtype=float32)"
            ]
          },
          "metadata": {},
          "execution_count": 88
        }
      ],
      "source": [
        "model_Word2Vec.wv.get_vector('would')"
      ]
    },
    {
      "cell_type": "code",
      "execution_count": 89,
      "metadata": {
        "colab": {
          "base_uri": "https://localhost:8080/"
        },
        "id": "dk_3OrvhIanU",
        "outputId": "3110cddf-2470-4780-8537-66d6e8a5e1b7"
      },
      "outputs": [
        {
          "output_type": "execute_result",
          "data": {
            "text/plain": [
              "array([ 0.00613442, -0.00694826, -0.010933  ,  0.01257101,  0.00759333,\n",
              "       -0.01254189, -0.00170843,  0.00350105, -0.00418407, -0.01087684,\n",
              "        0.01156552,  0.0064156 ,  0.01249212,  0.01029224, -0.00549632,\n",
              "        0.00261995,  0.00111417, -0.02277492,  0.01981442,  0.01808374,\n",
              "        0.01515407, -0.00744275, -0.01657623,  0.008225  , -0.00618441,\n",
              "        0.01213085, -0.00571582,  0.00431126,  0.00705072, -0.00470236,\n",
              "        0.00030822,  0.00631908,  0.02162053, -0.0120799 ,  0.00083495,\n",
              "        0.00241429,  0.01215491,  0.00419304, -0.00693927,  0.00854627,\n",
              "       -0.0072486 ,  0.00977073,  0.00980621,  0.0027151 , -0.00606677,\n",
              "        0.00263634,  0.00513194,  0.01712318,  0.01063962, -0.00830426,\n",
              "       -0.000441  , -0.01533537, -0.00621262,  0.00222831, -0.0132033 ,\n",
              "       -0.0168477 ,  0.0209992 ,  0.01839776], dtype=float32)"
            ]
          },
          "metadata": {},
          "execution_count": 89
        }
      ],
      "source": [
        "model_Word2Vec.wv.get_vector('burger')"
      ]
    },
    {
      "cell_type": "code",
      "execution_count": 90,
      "metadata": {
        "colab": {
          "base_uri": "https://localhost:8080/"
        },
        "id": "CYmZfmZihpp-",
        "outputId": "794d4e7d-cb7c-470e-94e1-79e3118221fc"
      },
      "outputs": [
        {
          "output_type": "execute_result",
          "data": {
            "text/plain": [
              "996"
            ]
          },
          "metadata": {},
          "execution_count": 90
        }
      ],
      "source": [
        "model_Word2Vec.corpus_count"
      ]
    },
    {
      "cell_type": "code",
      "execution_count": 91,
      "metadata": {
        "colab": {
          "base_uri": "https://localhost:8080/"
        },
        "id": "_iTdgdWRhptd",
        "outputId": "e08f2502-7122-4708-afae-2300d5fa87e7"
      },
      "outputs": [
        {
          "output_type": "execute_result",
          "data": {
            "text/plain": [
              "5"
            ]
          },
          "metadata": {},
          "execution_count": 91
        }
      ],
      "source": [
        "model_Word2Vec.epochs"
      ]
    },
    {
      "cell_type": "code",
      "execution_count": 92,
      "metadata": {
        "id": "ZP6L6xQXHuU8"
      },
      "outputs": [],
      "source": [
        "def document_vector(doc):\n",
        "  #Create document vectors by averaging the word vectors. Remove the out of vocabulary words\n",
        "  doc1 = [word for word in doc if word in model_Word2Vec.wv.index_to_key]\n",
        "  #So essentially, doc1 is a collection of those words which are a part of the vocab\n",
        "\n",
        "  wv1 = []\n",
        "\n",
        "  for word in doc1:\n",
        "    wv1.append(model_Word2Vec.wv.get_vector(word))\n",
        "  wv1 = np.array(wv1) #Converting wv1 into a numpy array\n",
        "  wv1_mean = wv1.mean(axis = 0)\n",
        "  return wv1_mean"
      ]
    },
    {
      "cell_type": "code",
      "execution_count": 93,
      "metadata": {
        "colab": {
          "base_uri": "https://localhost:8080/"
        },
        "id": "MYQGZS1BLUR9",
        "outputId": "dcd54d53-f857-46db-ee9e-d2312cb31a57"
      },
      "outputs": [
        {
          "output_type": "stream",
          "name": "stderr",
          "text": [
            "<ipython-input-92-f15024310f4b>:11: RuntimeWarning: Mean of empty slice.\n",
            "  wv1_mean = wv1.mean(axis = 0)\n"
          ]
        }
      ],
      "source": [
        "# Generate word vectors for the documents\n",
        "Review_temp = Rest_rev['cleaned_Review_processed'].apply(document_vector)"
      ]
    },
    {
      "cell_type": "code",
      "execution_count": 94,
      "metadata": {
        "id": "dnSyGzc-Qo-f"
      },
      "outputs": [],
      "source": [
        "Review_vec = np.ones((len(Review_temp), embedding_size))*np.nan"
      ]
    },
    {
      "cell_type": "code",
      "execution_count": 95,
      "metadata": {
        "id": "RURtLq2yQpBS"
      },
      "outputs": [],
      "source": [
        "for i in range(Review_vec.shape[0]):\n",
        "  Review_vec[i,:] = Review_temp.iloc[i]"
      ]
    },
    {
      "cell_type": "code",
      "execution_count": 96,
      "metadata": {
        "colab": {
          "base_uri": "https://localhost:8080/"
        },
        "id": "2Ai2m-StQpDv",
        "outputId": "8ca95d7c-ae1e-42bd-cb7e-140af2a4b75f"
      },
      "outputs": [
        {
          "output_type": "execute_result",
          "data": {
            "text/plain": [
              "(996, 58)"
            ]
          },
          "metadata": {},
          "execution_count": 96
        }
      ],
      "source": [
        "Review_vec.shape"
      ]
    },
    {
      "cell_type": "code",
      "execution_count": 97,
      "metadata": {
        "id": "xPxiW8J2R1Gf"
      },
      "outputs": [],
      "source": [
        "Rest_rev_vectorized = pd.DataFrame(Review_vec)"
      ]
    },
    {
      "cell_type": "code",
      "execution_count": 98,
      "metadata": {
        "id": "xXVmY2C1R1JK"
      },
      "outputs": [],
      "source": [
        "Rest_rev_vectorized['Target'] = Rest_rev['Liked']"
      ]
    },
    {
      "cell_type": "code",
      "execution_count": 99,
      "metadata": {
        "id": "g-0NMIdhUx31"
      },
      "outputs": [],
      "source": [
        "Rest_rev_vectorized.dropna(how='any', axis=0, inplace=True)"
      ]
    },
    {
      "cell_type": "code",
      "execution_count": 100,
      "metadata": {
        "colab": {
          "base_uri": "https://localhost:8080/",
          "height": 300
        },
        "id": "zmYrbP2HR1Lk",
        "outputId": "15cc0896-01ab-495e-d6b2-5b2984e78118"
      },
      "outputs": [
        {
          "output_type": "execute_result",
          "data": {
            "text/plain": [
              "          0         1         2         3         4         5         6  \\\n",
              "0  0.003592  0.006200 -0.013609 -0.004918  0.000450 -0.004865  0.004152   \n",
              "1  0.002502  0.001749 -0.006505 -0.005505  0.004584 -0.012269 -0.009285   \n",
              "2 -0.001049  0.011581  0.001636 -0.007049  0.001204 -0.006640 -0.002933   \n",
              "3 -0.003374 -0.000343 -0.002204  0.002629  0.000738 -0.001872 -0.001381   \n",
              "4  0.000676  0.006174 -0.000149  0.000358  0.011925 -0.000339  0.000089   \n",
              "\n",
              "          7         8         9  ...        49        50        51        52  \\\n",
              "0  0.003265 -0.001836  0.000402  ...  0.001226  0.013196 -0.012292  0.008281   \n",
              "1  0.004965 -0.008709  0.007086  ...  0.000537  0.001469 -0.005735  0.005812   \n",
              "2  0.006772 -0.002908  0.008271  ...  0.004912 -0.006462 -0.014360 -0.000134   \n",
              "3  0.006825  0.000895  0.001059  ...  0.002622  0.003508  0.001383  0.001170   \n",
              "4 -0.003297  0.002364  0.004042  ... -0.002201  0.002006  0.002768  0.001092   \n",
              "\n",
              "         53        54        55        56        57  Target  \n",
              "0 -0.006230 -0.002041 -0.006412  0.004471  0.001397  1       \n",
              "1 -0.001860 -0.010096  0.006853  0.010440  0.003866  0       \n",
              "2 -0.003848 -0.006394  0.001559  0.003041 -0.000569  0       \n",
              "3 -0.008589 -0.001474 -0.000349  0.007294  0.002740  1       \n",
              "4  0.007932 -0.000372  0.003050  0.007874  0.000308  1       \n",
              "\n",
              "[5 rows x 59 columns]"
            ],
            "text/html": [
              "\n",
              "  <div id=\"df-704abeab-7e4d-4bbd-9d20-fa218dc2abd4\">\n",
              "    <div class=\"colab-df-container\">\n",
              "      <div>\n",
              "<style scoped>\n",
              "    .dataframe tbody tr th:only-of-type {\n",
              "        vertical-align: middle;\n",
              "    }\n",
              "\n",
              "    .dataframe tbody tr th {\n",
              "        vertical-align: top;\n",
              "    }\n",
              "\n",
              "    .dataframe thead th {\n",
              "        text-align: right;\n",
              "    }\n",
              "</style>\n",
              "<table border=\"1\" class=\"dataframe\">\n",
              "  <thead>\n",
              "    <tr style=\"text-align: right;\">\n",
              "      <th></th>\n",
              "      <th>0</th>\n",
              "      <th>1</th>\n",
              "      <th>2</th>\n",
              "      <th>3</th>\n",
              "      <th>4</th>\n",
              "      <th>5</th>\n",
              "      <th>6</th>\n",
              "      <th>7</th>\n",
              "      <th>8</th>\n",
              "      <th>9</th>\n",
              "      <th>...</th>\n",
              "      <th>49</th>\n",
              "      <th>50</th>\n",
              "      <th>51</th>\n",
              "      <th>52</th>\n",
              "      <th>53</th>\n",
              "      <th>54</th>\n",
              "      <th>55</th>\n",
              "      <th>56</th>\n",
              "      <th>57</th>\n",
              "      <th>Target</th>\n",
              "    </tr>\n",
              "  </thead>\n",
              "  <tbody>\n",
              "    <tr>\n",
              "      <th>0</th>\n",
              "      <td>0.003592</td>\n",
              "      <td>0.006200</td>\n",
              "      <td>-0.013609</td>\n",
              "      <td>-0.004918</td>\n",
              "      <td>0.000450</td>\n",
              "      <td>-0.004865</td>\n",
              "      <td>0.004152</td>\n",
              "      <td>0.003265</td>\n",
              "      <td>-0.001836</td>\n",
              "      <td>0.000402</td>\n",
              "      <td>...</td>\n",
              "      <td>0.001226</td>\n",
              "      <td>0.013196</td>\n",
              "      <td>-0.012292</td>\n",
              "      <td>0.008281</td>\n",
              "      <td>-0.006230</td>\n",
              "      <td>-0.002041</td>\n",
              "      <td>-0.006412</td>\n",
              "      <td>0.004471</td>\n",
              "      <td>0.001397</td>\n",
              "      <td>1</td>\n",
              "    </tr>\n",
              "    <tr>\n",
              "      <th>1</th>\n",
              "      <td>0.002502</td>\n",
              "      <td>0.001749</td>\n",
              "      <td>-0.006505</td>\n",
              "      <td>-0.005505</td>\n",
              "      <td>0.004584</td>\n",
              "      <td>-0.012269</td>\n",
              "      <td>-0.009285</td>\n",
              "      <td>0.004965</td>\n",
              "      <td>-0.008709</td>\n",
              "      <td>0.007086</td>\n",
              "      <td>...</td>\n",
              "      <td>0.000537</td>\n",
              "      <td>0.001469</td>\n",
              "      <td>-0.005735</td>\n",
              "      <td>0.005812</td>\n",
              "      <td>-0.001860</td>\n",
              "      <td>-0.010096</td>\n",
              "      <td>0.006853</td>\n",
              "      <td>0.010440</td>\n",
              "      <td>0.003866</td>\n",
              "      <td>0</td>\n",
              "    </tr>\n",
              "    <tr>\n",
              "      <th>2</th>\n",
              "      <td>-0.001049</td>\n",
              "      <td>0.011581</td>\n",
              "      <td>0.001636</td>\n",
              "      <td>-0.007049</td>\n",
              "      <td>0.001204</td>\n",
              "      <td>-0.006640</td>\n",
              "      <td>-0.002933</td>\n",
              "      <td>0.006772</td>\n",
              "      <td>-0.002908</td>\n",
              "      <td>0.008271</td>\n",
              "      <td>...</td>\n",
              "      <td>0.004912</td>\n",
              "      <td>-0.006462</td>\n",
              "      <td>-0.014360</td>\n",
              "      <td>-0.000134</td>\n",
              "      <td>-0.003848</td>\n",
              "      <td>-0.006394</td>\n",
              "      <td>0.001559</td>\n",
              "      <td>0.003041</td>\n",
              "      <td>-0.000569</td>\n",
              "      <td>0</td>\n",
              "    </tr>\n",
              "    <tr>\n",
              "      <th>3</th>\n",
              "      <td>-0.003374</td>\n",
              "      <td>-0.000343</td>\n",
              "      <td>-0.002204</td>\n",
              "      <td>0.002629</td>\n",
              "      <td>0.000738</td>\n",
              "      <td>-0.001872</td>\n",
              "      <td>-0.001381</td>\n",
              "      <td>0.006825</td>\n",
              "      <td>0.000895</td>\n",
              "      <td>0.001059</td>\n",
              "      <td>...</td>\n",
              "      <td>0.002622</td>\n",
              "      <td>0.003508</td>\n",
              "      <td>0.001383</td>\n",
              "      <td>0.001170</td>\n",
              "      <td>-0.008589</td>\n",
              "      <td>-0.001474</td>\n",
              "      <td>-0.000349</td>\n",
              "      <td>0.007294</td>\n",
              "      <td>0.002740</td>\n",
              "      <td>1</td>\n",
              "    </tr>\n",
              "    <tr>\n",
              "      <th>4</th>\n",
              "      <td>0.000676</td>\n",
              "      <td>0.006174</td>\n",
              "      <td>-0.000149</td>\n",
              "      <td>0.000358</td>\n",
              "      <td>0.011925</td>\n",
              "      <td>-0.000339</td>\n",
              "      <td>0.000089</td>\n",
              "      <td>-0.003297</td>\n",
              "      <td>0.002364</td>\n",
              "      <td>0.004042</td>\n",
              "      <td>...</td>\n",
              "      <td>-0.002201</td>\n",
              "      <td>0.002006</td>\n",
              "      <td>0.002768</td>\n",
              "      <td>0.001092</td>\n",
              "      <td>0.007932</td>\n",
              "      <td>-0.000372</td>\n",
              "      <td>0.003050</td>\n",
              "      <td>0.007874</td>\n",
              "      <td>0.000308</td>\n",
              "      <td>1</td>\n",
              "    </tr>\n",
              "  </tbody>\n",
              "</table>\n",
              "<p>5 rows × 59 columns</p>\n",
              "</div>\n",
              "      <button class=\"colab-df-convert\" onclick=\"convertToInteractive('df-704abeab-7e4d-4bbd-9d20-fa218dc2abd4')\"\n",
              "              title=\"Convert this dataframe to an interactive table.\"\n",
              "              style=\"display:none;\">\n",
              "        \n",
              "  <svg xmlns=\"http://www.w3.org/2000/svg\" height=\"24px\"viewBox=\"0 0 24 24\"\n",
              "       width=\"24px\">\n",
              "    <path d=\"M0 0h24v24H0V0z\" fill=\"none\"/>\n",
              "    <path d=\"M18.56 5.44l.94 2.06.94-2.06 2.06-.94-2.06-.94-.94-2.06-.94 2.06-2.06.94zm-11 1L8.5 8.5l.94-2.06 2.06-.94-2.06-.94L8.5 2.5l-.94 2.06-2.06.94zm10 10l.94 2.06.94-2.06 2.06-.94-2.06-.94-.94-2.06-.94 2.06-2.06.94z\"/><path d=\"M17.41 7.96l-1.37-1.37c-.4-.4-.92-.59-1.43-.59-.52 0-1.04.2-1.43.59L10.3 9.45l-7.72 7.72c-.78.78-.78 2.05 0 2.83L4 21.41c.39.39.9.59 1.41.59.51 0 1.02-.2 1.41-.59l7.78-7.78 2.81-2.81c.8-.78.8-2.07 0-2.86zM5.41 20L4 18.59l7.72-7.72 1.47 1.35L5.41 20z\"/>\n",
              "  </svg>\n",
              "      </button>\n",
              "      \n",
              "  <style>\n",
              "    .colab-df-container {\n",
              "      display:flex;\n",
              "      flex-wrap:wrap;\n",
              "      gap: 12px;\n",
              "    }\n",
              "\n",
              "    .colab-df-convert {\n",
              "      background-color: #E8F0FE;\n",
              "      border: none;\n",
              "      border-radius: 50%;\n",
              "      cursor: pointer;\n",
              "      display: none;\n",
              "      fill: #1967D2;\n",
              "      height: 32px;\n",
              "      padding: 0 0 0 0;\n",
              "      width: 32px;\n",
              "    }\n",
              "\n",
              "    .colab-df-convert:hover {\n",
              "      background-color: #E2EBFA;\n",
              "      box-shadow: 0px 1px 2px rgba(60, 64, 67, 0.3), 0px 1px 3px 1px rgba(60, 64, 67, 0.15);\n",
              "      fill: #174EA6;\n",
              "    }\n",
              "\n",
              "    [theme=dark] .colab-df-convert {\n",
              "      background-color: #3B4455;\n",
              "      fill: #D2E3FC;\n",
              "    }\n",
              "\n",
              "    [theme=dark] .colab-df-convert:hover {\n",
              "      background-color: #434B5C;\n",
              "      box-shadow: 0px 1px 3px 1px rgba(0, 0, 0, 0.15);\n",
              "      filter: drop-shadow(0px 1px 2px rgba(0, 0, 0, 0.3));\n",
              "      fill: #FFFFFF;\n",
              "    }\n",
              "  </style>\n",
              "\n",
              "      <script>\n",
              "        const buttonEl =\n",
              "          document.querySelector('#df-704abeab-7e4d-4bbd-9d20-fa218dc2abd4 button.colab-df-convert');\n",
              "        buttonEl.style.display =\n",
              "          google.colab.kernel.accessAllowed ? 'block' : 'none';\n",
              "\n",
              "        async function convertToInteractive(key) {\n",
              "          const element = document.querySelector('#df-704abeab-7e4d-4bbd-9d20-fa218dc2abd4');\n",
              "          const dataTable =\n",
              "            await google.colab.kernel.invokeFunction('convertToInteractive',\n",
              "                                                     [key], {});\n",
              "          if (!dataTable) return;\n",
              "\n",
              "          const docLinkHtml = 'Like what you see? Visit the ' +\n",
              "            '<a target=\"_blank\" href=https://colab.research.google.com/notebooks/data_table.ipynb>data table notebook</a>'\n",
              "            + ' to learn more about interactive tables.';\n",
              "          element.innerHTML = '';\n",
              "          dataTable['output_type'] = 'display_data';\n",
              "          await google.colab.output.renderOutput(dataTable, element);\n",
              "          const docLink = document.createElement('div');\n",
              "          docLink.innerHTML = docLinkHtml;\n",
              "          element.appendChild(docLink);\n",
              "        }\n",
              "      </script>\n",
              "    </div>\n",
              "  </div>\n",
              "  "
            ]
          },
          "metadata": {},
          "execution_count": 100
        }
      ],
      "source": [
        "Rest_rev_vectorized.head()"
      ]
    },
    {
      "cell_type": "code",
      "execution_count": 101,
      "metadata": {
        "id": "i5vXkaeW5U7Q"
      },
      "outputs": [],
      "source": [
        "from sklearn.model_selection import train_test_split, StratifiedShuffleSplit\n",
        "df_train1, df_test1 = train_test_split(Rest_rev_vectorized, test_size = 0.3, random_state = 42, shuffle=True)"
      ]
    },
    {
      "cell_type": "code",
      "execution_count": 102,
      "metadata": {
        "id": "ycbYBd1p5jG_"
      },
      "outputs": [],
      "source": [
        "df_train1.reset_index(inplace = True, drop = True)"
      ]
    },
    {
      "cell_type": "code",
      "execution_count": 103,
      "metadata": {
        "id": "n2p5fPFb5jKY"
      },
      "outputs": [],
      "source": [
        "df_test1.reset_index(inplace = True, drop = True)"
      ]
    },
    {
      "cell_type": "code",
      "execution_count": 104,
      "metadata": {
        "colab": {
          "base_uri": "https://localhost:8080/",
          "height": 300
        },
        "id": "olm3CM5bR1Rx",
        "outputId": "ac1a0c39-5938-4694-f0fd-e30a091e431a"
      },
      "outputs": [
        {
          "output_type": "execute_result",
          "data": {
            "text/plain": [
              "          0         1         2         3         4         5         6  \\\n",
              "0  0.001032  0.000390  0.001382 -0.003552  0.005591 -0.004969 -0.011877   \n",
              "1  0.005230 -0.002319 -0.002827  0.001890  0.006555 -0.002547 -0.003673   \n",
              "2 -0.007387  0.006124 -0.004123  0.002820 -0.003838 -0.000205  0.003008   \n",
              "3 -0.008482  0.006125 -0.016140 -0.006167 -0.001760  0.008758 -0.003195   \n",
              "4  0.006600 -0.006189 -0.002084  0.003585 -0.006431 -0.014261 -0.006165   \n",
              "\n",
              "          7         8         9  ...        49        50        51        52  \\\n",
              "0  0.002960 -0.003761 -0.001058  ... -0.002032  0.003055 -0.005942  0.000138   \n",
              "1  0.005552  0.003718 -0.000349  ... -0.006174  0.004742 -0.012183  0.011720   \n",
              "2  0.004009  0.002874  0.011969  ... -0.000128  0.001440 -0.005287 -0.003074   \n",
              "3  0.001279 -0.002795 -0.004910  ... -0.010779 -0.013375  0.003109 -0.005776   \n",
              "4  0.007689 -0.003996  0.012511  ... -0.002441  0.003541 -0.004319  0.004384   \n",
              "\n",
              "         53        54        55        56        57  Target  \n",
              "0 -0.001429 -0.000574 -0.002846  0.004050  0.002850  1       \n",
              "1 -0.001388 -0.008966 -0.000782  0.009274 -0.009748  1       \n",
              "2 -0.014477  0.003678 -0.000405  0.014824  0.010847  0       \n",
              "3 -0.009384 -0.011742 -0.001631  0.016312  0.000684  0       \n",
              "4 -0.001213  0.002344 -0.002915  0.007891  0.008054  1       \n",
              "\n",
              "[5 rows x 59 columns]"
            ],
            "text/html": [
              "\n",
              "  <div id=\"df-2de42f05-e74d-492f-8e51-cb8259d91c33\">\n",
              "    <div class=\"colab-df-container\">\n",
              "      <div>\n",
              "<style scoped>\n",
              "    .dataframe tbody tr th:only-of-type {\n",
              "        vertical-align: middle;\n",
              "    }\n",
              "\n",
              "    .dataframe tbody tr th {\n",
              "        vertical-align: top;\n",
              "    }\n",
              "\n",
              "    .dataframe thead th {\n",
              "        text-align: right;\n",
              "    }\n",
              "</style>\n",
              "<table border=\"1\" class=\"dataframe\">\n",
              "  <thead>\n",
              "    <tr style=\"text-align: right;\">\n",
              "      <th></th>\n",
              "      <th>0</th>\n",
              "      <th>1</th>\n",
              "      <th>2</th>\n",
              "      <th>3</th>\n",
              "      <th>4</th>\n",
              "      <th>5</th>\n",
              "      <th>6</th>\n",
              "      <th>7</th>\n",
              "      <th>8</th>\n",
              "      <th>9</th>\n",
              "      <th>...</th>\n",
              "      <th>49</th>\n",
              "      <th>50</th>\n",
              "      <th>51</th>\n",
              "      <th>52</th>\n",
              "      <th>53</th>\n",
              "      <th>54</th>\n",
              "      <th>55</th>\n",
              "      <th>56</th>\n",
              "      <th>57</th>\n",
              "      <th>Target</th>\n",
              "    </tr>\n",
              "  </thead>\n",
              "  <tbody>\n",
              "    <tr>\n",
              "      <th>0</th>\n",
              "      <td>0.001032</td>\n",
              "      <td>0.000390</td>\n",
              "      <td>0.001382</td>\n",
              "      <td>-0.003552</td>\n",
              "      <td>0.005591</td>\n",
              "      <td>-0.004969</td>\n",
              "      <td>-0.011877</td>\n",
              "      <td>0.002960</td>\n",
              "      <td>-0.003761</td>\n",
              "      <td>-0.001058</td>\n",
              "      <td>...</td>\n",
              "      <td>-0.002032</td>\n",
              "      <td>0.003055</td>\n",
              "      <td>-0.005942</td>\n",
              "      <td>0.000138</td>\n",
              "      <td>-0.001429</td>\n",
              "      <td>-0.000574</td>\n",
              "      <td>-0.002846</td>\n",
              "      <td>0.004050</td>\n",
              "      <td>0.002850</td>\n",
              "      <td>1</td>\n",
              "    </tr>\n",
              "    <tr>\n",
              "      <th>1</th>\n",
              "      <td>0.005230</td>\n",
              "      <td>-0.002319</td>\n",
              "      <td>-0.002827</td>\n",
              "      <td>0.001890</td>\n",
              "      <td>0.006555</td>\n",
              "      <td>-0.002547</td>\n",
              "      <td>-0.003673</td>\n",
              "      <td>0.005552</td>\n",
              "      <td>0.003718</td>\n",
              "      <td>-0.000349</td>\n",
              "      <td>...</td>\n",
              "      <td>-0.006174</td>\n",
              "      <td>0.004742</td>\n",
              "      <td>-0.012183</td>\n",
              "      <td>0.011720</td>\n",
              "      <td>-0.001388</td>\n",
              "      <td>-0.008966</td>\n",
              "      <td>-0.000782</td>\n",
              "      <td>0.009274</td>\n",
              "      <td>-0.009748</td>\n",
              "      <td>1</td>\n",
              "    </tr>\n",
              "    <tr>\n",
              "      <th>2</th>\n",
              "      <td>-0.007387</td>\n",
              "      <td>0.006124</td>\n",
              "      <td>-0.004123</td>\n",
              "      <td>0.002820</td>\n",
              "      <td>-0.003838</td>\n",
              "      <td>-0.000205</td>\n",
              "      <td>0.003008</td>\n",
              "      <td>0.004009</td>\n",
              "      <td>0.002874</td>\n",
              "      <td>0.011969</td>\n",
              "      <td>...</td>\n",
              "      <td>-0.000128</td>\n",
              "      <td>0.001440</td>\n",
              "      <td>-0.005287</td>\n",
              "      <td>-0.003074</td>\n",
              "      <td>-0.014477</td>\n",
              "      <td>0.003678</td>\n",
              "      <td>-0.000405</td>\n",
              "      <td>0.014824</td>\n",
              "      <td>0.010847</td>\n",
              "      <td>0</td>\n",
              "    </tr>\n",
              "    <tr>\n",
              "      <th>3</th>\n",
              "      <td>-0.008482</td>\n",
              "      <td>0.006125</td>\n",
              "      <td>-0.016140</td>\n",
              "      <td>-0.006167</td>\n",
              "      <td>-0.001760</td>\n",
              "      <td>0.008758</td>\n",
              "      <td>-0.003195</td>\n",
              "      <td>0.001279</td>\n",
              "      <td>-0.002795</td>\n",
              "      <td>-0.004910</td>\n",
              "      <td>...</td>\n",
              "      <td>-0.010779</td>\n",
              "      <td>-0.013375</td>\n",
              "      <td>0.003109</td>\n",
              "      <td>-0.005776</td>\n",
              "      <td>-0.009384</td>\n",
              "      <td>-0.011742</td>\n",
              "      <td>-0.001631</td>\n",
              "      <td>0.016312</td>\n",
              "      <td>0.000684</td>\n",
              "      <td>0</td>\n",
              "    </tr>\n",
              "    <tr>\n",
              "      <th>4</th>\n",
              "      <td>0.006600</td>\n",
              "      <td>-0.006189</td>\n",
              "      <td>-0.002084</td>\n",
              "      <td>0.003585</td>\n",
              "      <td>-0.006431</td>\n",
              "      <td>-0.014261</td>\n",
              "      <td>-0.006165</td>\n",
              "      <td>0.007689</td>\n",
              "      <td>-0.003996</td>\n",
              "      <td>0.012511</td>\n",
              "      <td>...</td>\n",
              "      <td>-0.002441</td>\n",
              "      <td>0.003541</td>\n",
              "      <td>-0.004319</td>\n",
              "      <td>0.004384</td>\n",
              "      <td>-0.001213</td>\n",
              "      <td>0.002344</td>\n",
              "      <td>-0.002915</td>\n",
              "      <td>0.007891</td>\n",
              "      <td>0.008054</td>\n",
              "      <td>1</td>\n",
              "    </tr>\n",
              "  </tbody>\n",
              "</table>\n",
              "<p>5 rows × 59 columns</p>\n",
              "</div>\n",
              "      <button class=\"colab-df-convert\" onclick=\"convertToInteractive('df-2de42f05-e74d-492f-8e51-cb8259d91c33')\"\n",
              "              title=\"Convert this dataframe to an interactive table.\"\n",
              "              style=\"display:none;\">\n",
              "        \n",
              "  <svg xmlns=\"http://www.w3.org/2000/svg\" height=\"24px\"viewBox=\"0 0 24 24\"\n",
              "       width=\"24px\">\n",
              "    <path d=\"M0 0h24v24H0V0z\" fill=\"none\"/>\n",
              "    <path d=\"M18.56 5.44l.94 2.06.94-2.06 2.06-.94-2.06-.94-.94-2.06-.94 2.06-2.06.94zm-11 1L8.5 8.5l.94-2.06 2.06-.94-2.06-.94L8.5 2.5l-.94 2.06-2.06.94zm10 10l.94 2.06.94-2.06 2.06-.94-2.06-.94-.94-2.06-.94 2.06-2.06.94z\"/><path d=\"M17.41 7.96l-1.37-1.37c-.4-.4-.92-.59-1.43-.59-.52 0-1.04.2-1.43.59L10.3 9.45l-7.72 7.72c-.78.78-.78 2.05 0 2.83L4 21.41c.39.39.9.59 1.41.59.51 0 1.02-.2 1.41-.59l7.78-7.78 2.81-2.81c.8-.78.8-2.07 0-2.86zM5.41 20L4 18.59l7.72-7.72 1.47 1.35L5.41 20z\"/>\n",
              "  </svg>\n",
              "      </button>\n",
              "      \n",
              "  <style>\n",
              "    .colab-df-container {\n",
              "      display:flex;\n",
              "      flex-wrap:wrap;\n",
              "      gap: 12px;\n",
              "    }\n",
              "\n",
              "    .colab-df-convert {\n",
              "      background-color: #E8F0FE;\n",
              "      border: none;\n",
              "      border-radius: 50%;\n",
              "      cursor: pointer;\n",
              "      display: none;\n",
              "      fill: #1967D2;\n",
              "      height: 32px;\n",
              "      padding: 0 0 0 0;\n",
              "      width: 32px;\n",
              "    }\n",
              "\n",
              "    .colab-df-convert:hover {\n",
              "      background-color: #E2EBFA;\n",
              "      box-shadow: 0px 1px 2px rgba(60, 64, 67, 0.3), 0px 1px 3px 1px rgba(60, 64, 67, 0.15);\n",
              "      fill: #174EA6;\n",
              "    }\n",
              "\n",
              "    [theme=dark] .colab-df-convert {\n",
              "      background-color: #3B4455;\n",
              "      fill: #D2E3FC;\n",
              "    }\n",
              "\n",
              "    [theme=dark] .colab-df-convert:hover {\n",
              "      background-color: #434B5C;\n",
              "      box-shadow: 0px 1px 3px 1px rgba(0, 0, 0, 0.15);\n",
              "      filter: drop-shadow(0px 1px 2px rgba(0, 0, 0, 0.3));\n",
              "      fill: #FFFFFF;\n",
              "    }\n",
              "  </style>\n",
              "\n",
              "      <script>\n",
              "        const buttonEl =\n",
              "          document.querySelector('#df-2de42f05-e74d-492f-8e51-cb8259d91c33 button.colab-df-convert');\n",
              "        buttonEl.style.display =\n",
              "          google.colab.kernel.accessAllowed ? 'block' : 'none';\n",
              "\n",
              "        async function convertToInteractive(key) {\n",
              "          const element = document.querySelector('#df-2de42f05-e74d-492f-8e51-cb8259d91c33');\n",
              "          const dataTable =\n",
              "            await google.colab.kernel.invokeFunction('convertToInteractive',\n",
              "                                                     [key], {});\n",
              "          if (!dataTable) return;\n",
              "\n",
              "          const docLinkHtml = 'Like what you see? Visit the ' +\n",
              "            '<a target=\"_blank\" href=https://colab.research.google.com/notebooks/data_table.ipynb>data table notebook</a>'\n",
              "            + ' to learn more about interactive tables.';\n",
              "          element.innerHTML = '';\n",
              "          dataTable['output_type'] = 'display_data';\n",
              "          await google.colab.output.renderOutput(dataTable, element);\n",
              "          const docLink = document.createElement('div');\n",
              "          docLink.innerHTML = docLinkHtml;\n",
              "          element.appendChild(docLink);\n",
              "        }\n",
              "      </script>\n",
              "    </div>\n",
              "  </div>\n",
              "  "
            ]
          },
          "metadata": {},
          "execution_count": 104
        }
      ],
      "source": [
        "df_train1.head()"
      ]
    },
    {
      "cell_type": "code",
      "execution_count": 105,
      "metadata": {
        "colab": {
          "base_uri": "https://localhost:8080/",
          "height": 300
        },
        "id": "9cvlFwiPQpHR",
        "outputId": "477614cd-da8f-4402-c3fe-f649ab89c2af"
      },
      "outputs": [
        {
          "output_type": "execute_result",
          "data": {
            "text/plain": [
              "          0         1         2         3         4         5         6  \\\n",
              "0  0.009019  0.015043 -0.001697  0.003527  0.004379 -0.004334 -0.001727   \n",
              "1  0.003830  0.007007 -0.003462 -0.013122  0.013055 -0.005710 -0.003722   \n",
              "2 -0.005493  0.007423 -0.009414 -0.001704  0.004094  0.002563  0.000903   \n",
              "3 -0.001423  0.001791 -0.011134  0.006362  0.007273  0.003615  0.008489   \n",
              "4  0.000536  0.009768 -0.010319  0.001572 -0.000409 -0.007702 -0.007633   \n",
              "\n",
              "          7         8         9  ...        49        50        51        52  \\\n",
              "0  0.017681 -0.005322  0.007757  ... -0.003315  0.016576  0.003404 -0.016255   \n",
              "1  0.008124 -0.001790 -0.011298  ...  0.005368  0.007101 -0.007117  0.002455   \n",
              "2  0.008062 -0.009580  0.018646  ...  0.004868  0.008023 -0.001219  0.006014   \n",
              "3  0.003788 -0.013533  0.006854  ...  0.006743  0.004705  0.001386  0.010047   \n",
              "4 -0.001926 -0.008482  0.005568  ... -0.004592  0.004905 -0.004906  0.000526   \n",
              "\n",
              "         53        54        55        56        57  Target  \n",
              "0 -0.006841 -0.010042  0.003220 -0.004463  0.008135  0       \n",
              "1 -0.010168  0.011496 -0.009973  0.013363 -0.000836  1       \n",
              "2 -0.001435 -0.006654  0.002052  0.004817 -0.005159  1       \n",
              "3 -0.007717 -0.004867  0.002452  0.010315 -0.000554  1       \n",
              "4 -0.007790 -0.001776 -0.008898  0.015796  0.007979  0       \n",
              "\n",
              "[5 rows x 59 columns]"
            ],
            "text/html": [
              "\n",
              "  <div id=\"df-7ab4ede8-923c-4eaf-a062-6f31fd392447\">\n",
              "    <div class=\"colab-df-container\">\n",
              "      <div>\n",
              "<style scoped>\n",
              "    .dataframe tbody tr th:only-of-type {\n",
              "        vertical-align: middle;\n",
              "    }\n",
              "\n",
              "    .dataframe tbody tr th {\n",
              "        vertical-align: top;\n",
              "    }\n",
              "\n",
              "    .dataframe thead th {\n",
              "        text-align: right;\n",
              "    }\n",
              "</style>\n",
              "<table border=\"1\" class=\"dataframe\">\n",
              "  <thead>\n",
              "    <tr style=\"text-align: right;\">\n",
              "      <th></th>\n",
              "      <th>0</th>\n",
              "      <th>1</th>\n",
              "      <th>2</th>\n",
              "      <th>3</th>\n",
              "      <th>4</th>\n",
              "      <th>5</th>\n",
              "      <th>6</th>\n",
              "      <th>7</th>\n",
              "      <th>8</th>\n",
              "      <th>9</th>\n",
              "      <th>...</th>\n",
              "      <th>49</th>\n",
              "      <th>50</th>\n",
              "      <th>51</th>\n",
              "      <th>52</th>\n",
              "      <th>53</th>\n",
              "      <th>54</th>\n",
              "      <th>55</th>\n",
              "      <th>56</th>\n",
              "      <th>57</th>\n",
              "      <th>Target</th>\n",
              "    </tr>\n",
              "  </thead>\n",
              "  <tbody>\n",
              "    <tr>\n",
              "      <th>0</th>\n",
              "      <td>0.009019</td>\n",
              "      <td>0.015043</td>\n",
              "      <td>-0.001697</td>\n",
              "      <td>0.003527</td>\n",
              "      <td>0.004379</td>\n",
              "      <td>-0.004334</td>\n",
              "      <td>-0.001727</td>\n",
              "      <td>0.017681</td>\n",
              "      <td>-0.005322</td>\n",
              "      <td>0.007757</td>\n",
              "      <td>...</td>\n",
              "      <td>-0.003315</td>\n",
              "      <td>0.016576</td>\n",
              "      <td>0.003404</td>\n",
              "      <td>-0.016255</td>\n",
              "      <td>-0.006841</td>\n",
              "      <td>-0.010042</td>\n",
              "      <td>0.003220</td>\n",
              "      <td>-0.004463</td>\n",
              "      <td>0.008135</td>\n",
              "      <td>0</td>\n",
              "    </tr>\n",
              "    <tr>\n",
              "      <th>1</th>\n",
              "      <td>0.003830</td>\n",
              "      <td>0.007007</td>\n",
              "      <td>-0.003462</td>\n",
              "      <td>-0.013122</td>\n",
              "      <td>0.013055</td>\n",
              "      <td>-0.005710</td>\n",
              "      <td>-0.003722</td>\n",
              "      <td>0.008124</td>\n",
              "      <td>-0.001790</td>\n",
              "      <td>-0.011298</td>\n",
              "      <td>...</td>\n",
              "      <td>0.005368</td>\n",
              "      <td>0.007101</td>\n",
              "      <td>-0.007117</td>\n",
              "      <td>0.002455</td>\n",
              "      <td>-0.010168</td>\n",
              "      <td>0.011496</td>\n",
              "      <td>-0.009973</td>\n",
              "      <td>0.013363</td>\n",
              "      <td>-0.000836</td>\n",
              "      <td>1</td>\n",
              "    </tr>\n",
              "    <tr>\n",
              "      <th>2</th>\n",
              "      <td>-0.005493</td>\n",
              "      <td>0.007423</td>\n",
              "      <td>-0.009414</td>\n",
              "      <td>-0.001704</td>\n",
              "      <td>0.004094</td>\n",
              "      <td>0.002563</td>\n",
              "      <td>0.000903</td>\n",
              "      <td>0.008062</td>\n",
              "      <td>-0.009580</td>\n",
              "      <td>0.018646</td>\n",
              "      <td>...</td>\n",
              "      <td>0.004868</td>\n",
              "      <td>0.008023</td>\n",
              "      <td>-0.001219</td>\n",
              "      <td>0.006014</td>\n",
              "      <td>-0.001435</td>\n",
              "      <td>-0.006654</td>\n",
              "      <td>0.002052</td>\n",
              "      <td>0.004817</td>\n",
              "      <td>-0.005159</td>\n",
              "      <td>1</td>\n",
              "    </tr>\n",
              "    <tr>\n",
              "      <th>3</th>\n",
              "      <td>-0.001423</td>\n",
              "      <td>0.001791</td>\n",
              "      <td>-0.011134</td>\n",
              "      <td>0.006362</td>\n",
              "      <td>0.007273</td>\n",
              "      <td>0.003615</td>\n",
              "      <td>0.008489</td>\n",
              "      <td>0.003788</td>\n",
              "      <td>-0.013533</td>\n",
              "      <td>0.006854</td>\n",
              "      <td>...</td>\n",
              "      <td>0.006743</td>\n",
              "      <td>0.004705</td>\n",
              "      <td>0.001386</td>\n",
              "      <td>0.010047</td>\n",
              "      <td>-0.007717</td>\n",
              "      <td>-0.004867</td>\n",
              "      <td>0.002452</td>\n",
              "      <td>0.010315</td>\n",
              "      <td>-0.000554</td>\n",
              "      <td>1</td>\n",
              "    </tr>\n",
              "    <tr>\n",
              "      <th>4</th>\n",
              "      <td>0.000536</td>\n",
              "      <td>0.009768</td>\n",
              "      <td>-0.010319</td>\n",
              "      <td>0.001572</td>\n",
              "      <td>-0.000409</td>\n",
              "      <td>-0.007702</td>\n",
              "      <td>-0.007633</td>\n",
              "      <td>-0.001926</td>\n",
              "      <td>-0.008482</td>\n",
              "      <td>0.005568</td>\n",
              "      <td>...</td>\n",
              "      <td>-0.004592</td>\n",
              "      <td>0.004905</td>\n",
              "      <td>-0.004906</td>\n",
              "      <td>0.000526</td>\n",
              "      <td>-0.007790</td>\n",
              "      <td>-0.001776</td>\n",
              "      <td>-0.008898</td>\n",
              "      <td>0.015796</td>\n",
              "      <td>0.007979</td>\n",
              "      <td>0</td>\n",
              "    </tr>\n",
              "  </tbody>\n",
              "</table>\n",
              "<p>5 rows × 59 columns</p>\n",
              "</div>\n",
              "      <button class=\"colab-df-convert\" onclick=\"convertToInteractive('df-7ab4ede8-923c-4eaf-a062-6f31fd392447')\"\n",
              "              title=\"Convert this dataframe to an interactive table.\"\n",
              "              style=\"display:none;\">\n",
              "        \n",
              "  <svg xmlns=\"http://www.w3.org/2000/svg\" height=\"24px\"viewBox=\"0 0 24 24\"\n",
              "       width=\"24px\">\n",
              "    <path d=\"M0 0h24v24H0V0z\" fill=\"none\"/>\n",
              "    <path d=\"M18.56 5.44l.94 2.06.94-2.06 2.06-.94-2.06-.94-.94-2.06-.94 2.06-2.06.94zm-11 1L8.5 8.5l.94-2.06 2.06-.94-2.06-.94L8.5 2.5l-.94 2.06-2.06.94zm10 10l.94 2.06.94-2.06 2.06-.94-2.06-.94-.94-2.06-.94 2.06-2.06.94z\"/><path d=\"M17.41 7.96l-1.37-1.37c-.4-.4-.92-.59-1.43-.59-.52 0-1.04.2-1.43.59L10.3 9.45l-7.72 7.72c-.78.78-.78 2.05 0 2.83L4 21.41c.39.39.9.59 1.41.59.51 0 1.02-.2 1.41-.59l7.78-7.78 2.81-2.81c.8-.78.8-2.07 0-2.86zM5.41 20L4 18.59l7.72-7.72 1.47 1.35L5.41 20z\"/>\n",
              "  </svg>\n",
              "      </button>\n",
              "      \n",
              "  <style>\n",
              "    .colab-df-container {\n",
              "      display:flex;\n",
              "      flex-wrap:wrap;\n",
              "      gap: 12px;\n",
              "    }\n",
              "\n",
              "    .colab-df-convert {\n",
              "      background-color: #E8F0FE;\n",
              "      border: none;\n",
              "      border-radius: 50%;\n",
              "      cursor: pointer;\n",
              "      display: none;\n",
              "      fill: #1967D2;\n",
              "      height: 32px;\n",
              "      padding: 0 0 0 0;\n",
              "      width: 32px;\n",
              "    }\n",
              "\n",
              "    .colab-df-convert:hover {\n",
              "      background-color: #E2EBFA;\n",
              "      box-shadow: 0px 1px 2px rgba(60, 64, 67, 0.3), 0px 1px 3px 1px rgba(60, 64, 67, 0.15);\n",
              "      fill: #174EA6;\n",
              "    }\n",
              "\n",
              "    [theme=dark] .colab-df-convert {\n",
              "      background-color: #3B4455;\n",
              "      fill: #D2E3FC;\n",
              "    }\n",
              "\n",
              "    [theme=dark] .colab-df-convert:hover {\n",
              "      background-color: #434B5C;\n",
              "      box-shadow: 0px 1px 3px 1px rgba(0, 0, 0, 0.15);\n",
              "      filter: drop-shadow(0px 1px 2px rgba(0, 0, 0, 0.3));\n",
              "      fill: #FFFFFF;\n",
              "    }\n",
              "  </style>\n",
              "\n",
              "      <script>\n",
              "        const buttonEl =\n",
              "          document.querySelector('#df-7ab4ede8-923c-4eaf-a062-6f31fd392447 button.colab-df-convert');\n",
              "        buttonEl.style.display =\n",
              "          google.colab.kernel.accessAllowed ? 'block' : 'none';\n",
              "\n",
              "        async function convertToInteractive(key) {\n",
              "          const element = document.querySelector('#df-7ab4ede8-923c-4eaf-a062-6f31fd392447');\n",
              "          const dataTable =\n",
              "            await google.colab.kernel.invokeFunction('convertToInteractive',\n",
              "                                                     [key], {});\n",
              "          if (!dataTable) return;\n",
              "\n",
              "          const docLinkHtml = 'Like what you see? Visit the ' +\n",
              "            '<a target=\"_blank\" href=https://colab.research.google.com/notebooks/data_table.ipynb>data table notebook</a>'\n",
              "            + ' to learn more about interactive tables.';\n",
              "          element.innerHTML = '';\n",
              "          dataTable['output_type'] = 'display_data';\n",
              "          await google.colab.output.renderOutput(dataTable, element);\n",
              "          const docLink = document.createElement('div');\n",
              "          docLink.innerHTML = docLinkHtml;\n",
              "          element.appendChild(docLink);\n",
              "        }\n",
              "      </script>\n",
              "    </div>\n",
              "  </div>\n",
              "  "
            ]
          },
          "metadata": {},
          "execution_count": 105
        }
      ],
      "source": [
        "df_test1.head()"
      ]
    },
    {
      "cell_type": "code",
      "execution_count": 106,
      "metadata": {
        "id": "PMoY1GkQq5z_"
      },
      "outputs": [],
      "source": [
        "from sklearn.preprocessing import MinMaxScaler"
      ]
    },
    {
      "cell_type": "code",
      "execution_count": 107,
      "metadata": {
        "id": "BIOin0ih1acU"
      },
      "outputs": [],
      "source": [
        "scaling = MinMaxScaler()"
      ]
    },
    {
      "cell_type": "code",
      "execution_count": 108,
      "metadata": {
        "id": "4wCZPC5q1afl"
      },
      "outputs": [],
      "source": [
        "X_train_scaled = scaling.fit_transform(df_train1.iloc[:,:-1])"
      ]
    },
    {
      "cell_type": "code",
      "execution_count": 109,
      "metadata": {
        "colab": {
          "base_uri": "https://localhost:8080/"
        },
        "id": "AjXtoUSn2aPi",
        "outputId": "eea368ac-0021-4a2a-db9f-53c7e7a7eac7"
      },
      "outputs": [
        {
          "output_type": "execute_result",
          "data": {
            "text/plain": [
              "array([[0.51681022, 0.46763097, 0.59490307, ..., 0.49267784, 0.52354291,\n",
              "        0.5325493 ],\n",
              "       [0.641503  , 0.37921436, 0.47610182, ..., 0.54751041, 0.66580144,\n",
              "        0.14907117],\n",
              "       [0.26678274, 0.65475835, 0.43952469, ..., 0.55751479, 0.81694325,\n",
              "        0.77598058],\n",
              "       ...,\n",
              "       [0.59761232, 0.61961108, 0.38828027, ..., 0.48725735, 0.45972414,\n",
              "        0.38627663],\n",
              "       [0.6586812 , 0.47895685, 0.33018522, ..., 0.43757887, 0.51753602,\n",
              "        0.6012719 ],\n",
              "       [0.15488892, 0.46586378, 0.41969748, ..., 0.37702902, 0.52662433,\n",
              "        0.8685595 ]])"
            ]
          },
          "metadata": {},
          "execution_count": 109
        }
      ],
      "source": [
        "X_train_scaled"
      ]
    },
    {
      "cell_type": "code",
      "execution_count": 110,
      "metadata": {
        "id": "WBlxYGSW2aTG"
      },
      "outputs": [],
      "source": [
        "X_train = pd.DataFrame(X_train_scaled, columns=df_train1.iloc[:,:-1].columns)"
      ]
    },
    {
      "cell_type": "code",
      "execution_count": 111,
      "metadata": {
        "colab": {
          "base_uri": "https://localhost:8080/",
          "height": 394
        },
        "id": "E5zaVlLY2mVi",
        "outputId": "6c8bdae1-9dd7-4e9c-e1cf-1b88ebc2ac26"
      },
      "outputs": [
        {
          "output_type": "execute_result",
          "data": {
            "text/plain": [
              "                0           1           2           3           4           5  \\\n",
              "count  689.000000  689.000000  689.000000  689.000000  689.000000  689.000000   \n",
              "mean   0.493095    0.494255    0.467464    0.467679    0.514273    0.476407     \n",
              "std    0.167996    0.180231    0.158565    0.155456    0.162337    0.173584     \n",
              "min    0.000000    0.000000    0.000000    0.000000    0.000000    0.000000     \n",
              "25%    0.386356    0.383975    0.366251    0.377531    0.417618    0.363713     \n",
              "50%    0.490479    0.481472    0.464605    0.462261    0.515578    0.482198     \n",
              "75%    0.593468    0.601580    0.566336    0.562467    0.608813    0.578854     \n",
              "max    1.000000    1.000000    1.000000    1.000000    1.000000    1.000000     \n",
              "\n",
              "                6           7           8           9  ...          48  \\\n",
              "count  689.000000  689.000000  689.000000  689.000000  ...  689.000000   \n",
              "mean   0.492299    0.540088    0.490577    0.514733    ...  0.506383     \n",
              "std    0.161383    0.161204    0.144130    0.165502    ...  0.170196     \n",
              "min    0.000000    0.000000    0.000000    0.000000    ...  0.000000     \n",
              "25%    0.383336    0.438431    0.405580    0.413134    ...  0.397416     \n",
              "50%    0.500242    0.543169    0.488084    0.517013    ...  0.508203     \n",
              "75%    0.591660    0.639159    0.573482    0.622491    ...  0.613577     \n",
              "max    1.000000    1.000000    1.000000    1.000000    ...  1.000000     \n",
              "\n",
              "               49          50          51          52          53          54  \\\n",
              "count  689.000000  689.000000  689.000000  689.000000  689.000000  689.000000   \n",
              "mean   0.508575    0.516051    0.480887    0.524188    0.511395    0.438265     \n",
              "std    0.165241    0.180016    0.151625    0.179950    0.161857    0.172894     \n",
              "min    0.000000    0.000000    0.000000    0.000000    0.000000    0.000000     \n",
              "25%    0.414723    0.405120    0.391830    0.412235    0.410329    0.325690     \n",
              "50%    0.510063    0.523770    0.477151    0.528353    0.517584    0.431397     \n",
              "75%    0.601143    0.626816    0.567983    0.638207    0.620202    0.541332     \n",
              "max    1.000000    1.000000    1.000000    1.000000    1.000000    1.000000     \n",
              "\n",
              "               55          56          57  \n",
              "count  689.000000  689.000000  689.000000  \n",
              "mean   0.459840    0.572664    0.488643    \n",
              "std    0.151611    0.165650    0.173621    \n",
              "min    0.000000    0.000000    0.000000    \n",
              "25%    0.359768    0.472707    0.372150    \n",
              "50%    0.458741    0.578423    0.487890    \n",
              "75%    0.557412    0.685402    0.602742    \n",
              "max    1.000000    1.000000    1.000000    \n",
              "\n",
              "[8 rows x 58 columns]"
            ],
            "text/html": [
              "\n",
              "  <div id=\"df-2189a296-1664-443e-81c8-5e8b15332a4e\">\n",
              "    <div class=\"colab-df-container\">\n",
              "      <div>\n",
              "<style scoped>\n",
              "    .dataframe tbody tr th:only-of-type {\n",
              "        vertical-align: middle;\n",
              "    }\n",
              "\n",
              "    .dataframe tbody tr th {\n",
              "        vertical-align: top;\n",
              "    }\n",
              "\n",
              "    .dataframe thead th {\n",
              "        text-align: right;\n",
              "    }\n",
              "</style>\n",
              "<table border=\"1\" class=\"dataframe\">\n",
              "  <thead>\n",
              "    <tr style=\"text-align: right;\">\n",
              "      <th></th>\n",
              "      <th>0</th>\n",
              "      <th>1</th>\n",
              "      <th>2</th>\n",
              "      <th>3</th>\n",
              "      <th>4</th>\n",
              "      <th>5</th>\n",
              "      <th>6</th>\n",
              "      <th>7</th>\n",
              "      <th>8</th>\n",
              "      <th>9</th>\n",
              "      <th>...</th>\n",
              "      <th>48</th>\n",
              "      <th>49</th>\n",
              "      <th>50</th>\n",
              "      <th>51</th>\n",
              "      <th>52</th>\n",
              "      <th>53</th>\n",
              "      <th>54</th>\n",
              "      <th>55</th>\n",
              "      <th>56</th>\n",
              "      <th>57</th>\n",
              "    </tr>\n",
              "  </thead>\n",
              "  <tbody>\n",
              "    <tr>\n",
              "      <th>count</th>\n",
              "      <td>689.000000</td>\n",
              "      <td>689.000000</td>\n",
              "      <td>689.000000</td>\n",
              "      <td>689.000000</td>\n",
              "      <td>689.000000</td>\n",
              "      <td>689.000000</td>\n",
              "      <td>689.000000</td>\n",
              "      <td>689.000000</td>\n",
              "      <td>689.000000</td>\n",
              "      <td>689.000000</td>\n",
              "      <td>...</td>\n",
              "      <td>689.000000</td>\n",
              "      <td>689.000000</td>\n",
              "      <td>689.000000</td>\n",
              "      <td>689.000000</td>\n",
              "      <td>689.000000</td>\n",
              "      <td>689.000000</td>\n",
              "      <td>689.000000</td>\n",
              "      <td>689.000000</td>\n",
              "      <td>689.000000</td>\n",
              "      <td>689.000000</td>\n",
              "    </tr>\n",
              "    <tr>\n",
              "      <th>mean</th>\n",
              "      <td>0.493095</td>\n",
              "      <td>0.494255</td>\n",
              "      <td>0.467464</td>\n",
              "      <td>0.467679</td>\n",
              "      <td>0.514273</td>\n",
              "      <td>0.476407</td>\n",
              "      <td>0.492299</td>\n",
              "      <td>0.540088</td>\n",
              "      <td>0.490577</td>\n",
              "      <td>0.514733</td>\n",
              "      <td>...</td>\n",
              "      <td>0.506383</td>\n",
              "      <td>0.508575</td>\n",
              "      <td>0.516051</td>\n",
              "      <td>0.480887</td>\n",
              "      <td>0.524188</td>\n",
              "      <td>0.511395</td>\n",
              "      <td>0.438265</td>\n",
              "      <td>0.459840</td>\n",
              "      <td>0.572664</td>\n",
              "      <td>0.488643</td>\n",
              "    </tr>\n",
              "    <tr>\n",
              "      <th>std</th>\n",
              "      <td>0.167996</td>\n",
              "      <td>0.180231</td>\n",
              "      <td>0.158565</td>\n",
              "      <td>0.155456</td>\n",
              "      <td>0.162337</td>\n",
              "      <td>0.173584</td>\n",
              "      <td>0.161383</td>\n",
              "      <td>0.161204</td>\n",
              "      <td>0.144130</td>\n",
              "      <td>0.165502</td>\n",
              "      <td>...</td>\n",
              "      <td>0.170196</td>\n",
              "      <td>0.165241</td>\n",
              "      <td>0.180016</td>\n",
              "      <td>0.151625</td>\n",
              "      <td>0.179950</td>\n",
              "      <td>0.161857</td>\n",
              "      <td>0.172894</td>\n",
              "      <td>0.151611</td>\n",
              "      <td>0.165650</td>\n",
              "      <td>0.173621</td>\n",
              "    </tr>\n",
              "    <tr>\n",
              "      <th>min</th>\n",
              "      <td>0.000000</td>\n",
              "      <td>0.000000</td>\n",
              "      <td>0.000000</td>\n",
              "      <td>0.000000</td>\n",
              "      <td>0.000000</td>\n",
              "      <td>0.000000</td>\n",
              "      <td>0.000000</td>\n",
              "      <td>0.000000</td>\n",
              "      <td>0.000000</td>\n",
              "      <td>0.000000</td>\n",
              "      <td>...</td>\n",
              "      <td>0.000000</td>\n",
              "      <td>0.000000</td>\n",
              "      <td>0.000000</td>\n",
              "      <td>0.000000</td>\n",
              "      <td>0.000000</td>\n",
              "      <td>0.000000</td>\n",
              "      <td>0.000000</td>\n",
              "      <td>0.000000</td>\n",
              "      <td>0.000000</td>\n",
              "      <td>0.000000</td>\n",
              "    </tr>\n",
              "    <tr>\n",
              "      <th>25%</th>\n",
              "      <td>0.386356</td>\n",
              "      <td>0.383975</td>\n",
              "      <td>0.366251</td>\n",
              "      <td>0.377531</td>\n",
              "      <td>0.417618</td>\n",
              "      <td>0.363713</td>\n",
              "      <td>0.383336</td>\n",
              "      <td>0.438431</td>\n",
              "      <td>0.405580</td>\n",
              "      <td>0.413134</td>\n",
              "      <td>...</td>\n",
              "      <td>0.397416</td>\n",
              "      <td>0.414723</td>\n",
              "      <td>0.405120</td>\n",
              "      <td>0.391830</td>\n",
              "      <td>0.412235</td>\n",
              "      <td>0.410329</td>\n",
              "      <td>0.325690</td>\n",
              "      <td>0.359768</td>\n",
              "      <td>0.472707</td>\n",
              "      <td>0.372150</td>\n",
              "    </tr>\n",
              "    <tr>\n",
              "      <th>50%</th>\n",
              "      <td>0.490479</td>\n",
              "      <td>0.481472</td>\n",
              "      <td>0.464605</td>\n",
              "      <td>0.462261</td>\n",
              "      <td>0.515578</td>\n",
              "      <td>0.482198</td>\n",
              "      <td>0.500242</td>\n",
              "      <td>0.543169</td>\n",
              "      <td>0.488084</td>\n",
              "      <td>0.517013</td>\n",
              "      <td>...</td>\n",
              "      <td>0.508203</td>\n",
              "      <td>0.510063</td>\n",
              "      <td>0.523770</td>\n",
              "      <td>0.477151</td>\n",
              "      <td>0.528353</td>\n",
              "      <td>0.517584</td>\n",
              "      <td>0.431397</td>\n",
              "      <td>0.458741</td>\n",
              "      <td>0.578423</td>\n",
              "      <td>0.487890</td>\n",
              "    </tr>\n",
              "    <tr>\n",
              "      <th>75%</th>\n",
              "      <td>0.593468</td>\n",
              "      <td>0.601580</td>\n",
              "      <td>0.566336</td>\n",
              "      <td>0.562467</td>\n",
              "      <td>0.608813</td>\n",
              "      <td>0.578854</td>\n",
              "      <td>0.591660</td>\n",
              "      <td>0.639159</td>\n",
              "      <td>0.573482</td>\n",
              "      <td>0.622491</td>\n",
              "      <td>...</td>\n",
              "      <td>0.613577</td>\n",
              "      <td>0.601143</td>\n",
              "      <td>0.626816</td>\n",
              "      <td>0.567983</td>\n",
              "      <td>0.638207</td>\n",
              "      <td>0.620202</td>\n",
              "      <td>0.541332</td>\n",
              "      <td>0.557412</td>\n",
              "      <td>0.685402</td>\n",
              "      <td>0.602742</td>\n",
              "    </tr>\n",
              "    <tr>\n",
              "      <th>max</th>\n",
              "      <td>1.000000</td>\n",
              "      <td>1.000000</td>\n",
              "      <td>1.000000</td>\n",
              "      <td>1.000000</td>\n",
              "      <td>1.000000</td>\n",
              "      <td>1.000000</td>\n",
              "      <td>1.000000</td>\n",
              "      <td>1.000000</td>\n",
              "      <td>1.000000</td>\n",
              "      <td>1.000000</td>\n",
              "      <td>...</td>\n",
              "      <td>1.000000</td>\n",
              "      <td>1.000000</td>\n",
              "      <td>1.000000</td>\n",
              "      <td>1.000000</td>\n",
              "      <td>1.000000</td>\n",
              "      <td>1.000000</td>\n",
              "      <td>1.000000</td>\n",
              "      <td>1.000000</td>\n",
              "      <td>1.000000</td>\n",
              "      <td>1.000000</td>\n",
              "    </tr>\n",
              "  </tbody>\n",
              "</table>\n",
              "<p>8 rows × 58 columns</p>\n",
              "</div>\n",
              "      <button class=\"colab-df-convert\" onclick=\"convertToInteractive('df-2189a296-1664-443e-81c8-5e8b15332a4e')\"\n",
              "              title=\"Convert this dataframe to an interactive table.\"\n",
              "              style=\"display:none;\">\n",
              "        \n",
              "  <svg xmlns=\"http://www.w3.org/2000/svg\" height=\"24px\"viewBox=\"0 0 24 24\"\n",
              "       width=\"24px\">\n",
              "    <path d=\"M0 0h24v24H0V0z\" fill=\"none\"/>\n",
              "    <path d=\"M18.56 5.44l.94 2.06.94-2.06 2.06-.94-2.06-.94-.94-2.06-.94 2.06-2.06.94zm-11 1L8.5 8.5l.94-2.06 2.06-.94-2.06-.94L8.5 2.5l-.94 2.06-2.06.94zm10 10l.94 2.06.94-2.06 2.06-.94-2.06-.94-.94-2.06-.94 2.06-2.06.94z\"/><path d=\"M17.41 7.96l-1.37-1.37c-.4-.4-.92-.59-1.43-.59-.52 0-1.04.2-1.43.59L10.3 9.45l-7.72 7.72c-.78.78-.78 2.05 0 2.83L4 21.41c.39.39.9.59 1.41.59.51 0 1.02-.2 1.41-.59l7.78-7.78 2.81-2.81c.8-.78.8-2.07 0-2.86zM5.41 20L4 18.59l7.72-7.72 1.47 1.35L5.41 20z\"/>\n",
              "  </svg>\n",
              "      </button>\n",
              "      \n",
              "  <style>\n",
              "    .colab-df-container {\n",
              "      display:flex;\n",
              "      flex-wrap:wrap;\n",
              "      gap: 12px;\n",
              "    }\n",
              "\n",
              "    .colab-df-convert {\n",
              "      background-color: #E8F0FE;\n",
              "      border: none;\n",
              "      border-radius: 50%;\n",
              "      cursor: pointer;\n",
              "      display: none;\n",
              "      fill: #1967D2;\n",
              "      height: 32px;\n",
              "      padding: 0 0 0 0;\n",
              "      width: 32px;\n",
              "    }\n",
              "\n",
              "    .colab-df-convert:hover {\n",
              "      background-color: #E2EBFA;\n",
              "      box-shadow: 0px 1px 2px rgba(60, 64, 67, 0.3), 0px 1px 3px 1px rgba(60, 64, 67, 0.15);\n",
              "      fill: #174EA6;\n",
              "    }\n",
              "\n",
              "    [theme=dark] .colab-df-convert {\n",
              "      background-color: #3B4455;\n",
              "      fill: #D2E3FC;\n",
              "    }\n",
              "\n",
              "    [theme=dark] .colab-df-convert:hover {\n",
              "      background-color: #434B5C;\n",
              "      box-shadow: 0px 1px 3px 1px rgba(0, 0, 0, 0.15);\n",
              "      filter: drop-shadow(0px 1px 2px rgba(0, 0, 0, 0.3));\n",
              "      fill: #FFFFFF;\n",
              "    }\n",
              "  </style>\n",
              "\n",
              "      <script>\n",
              "        const buttonEl =\n",
              "          document.querySelector('#df-2189a296-1664-443e-81c8-5e8b15332a4e button.colab-df-convert');\n",
              "        buttonEl.style.display =\n",
              "          google.colab.kernel.accessAllowed ? 'block' : 'none';\n",
              "\n",
              "        async function convertToInteractive(key) {\n",
              "          const element = document.querySelector('#df-2189a296-1664-443e-81c8-5e8b15332a4e');\n",
              "          const dataTable =\n",
              "            await google.colab.kernel.invokeFunction('convertToInteractive',\n",
              "                                                     [key], {});\n",
              "          if (!dataTable) return;\n",
              "\n",
              "          const docLinkHtml = 'Like what you see? Visit the ' +\n",
              "            '<a target=\"_blank\" href=https://colab.research.google.com/notebooks/data_table.ipynb>data table notebook</a>'\n",
              "            + ' to learn more about interactive tables.';\n",
              "          element.innerHTML = '';\n",
              "          dataTable['output_type'] = 'display_data';\n",
              "          await google.colab.output.renderOutput(dataTable, element);\n",
              "          const docLink = document.createElement('div');\n",
              "          docLink.innerHTML = docLinkHtml;\n",
              "          element.appendChild(docLink);\n",
              "        }\n",
              "      </script>\n",
              "    </div>\n",
              "  </div>\n",
              "  "
            ]
          },
          "metadata": {},
          "execution_count": 111
        }
      ],
      "source": [
        "X_train.describe()"
      ]
    },
    {
      "cell_type": "code",
      "execution_count": 112,
      "metadata": {
        "id": "8oAhBBkm3G-H"
      },
      "outputs": [],
      "source": [
        "X_test_scaled = scaling.transform(df_test1.iloc[:,:-1])"
      ]
    },
    {
      "cell_type": "code",
      "execution_count": 113,
      "metadata": {
        "colab": {
          "base_uri": "https://localhost:8080/"
        },
        "id": "H3eZ29wp3Xt7",
        "outputId": "bf3fde0a-d4d3-41e1-d692-83e38e73c69e"
      },
      "outputs": [
        {
          "output_type": "execute_result",
          "data": {
            "text/plain": [
              "array([[0.75402157, 0.9458886 , 0.50801467, ..., 0.65379303, 0.29170694,\n",
              "        0.69343529],\n",
              "       [0.59992005, 0.68360172, 0.45819925, ..., 0.30343271, 0.77714285,\n",
              "        0.42033882],\n",
              "       [0.32303755, 0.69715977, 0.29021555, ..., 0.62276702, 0.5444268 ,\n",
              "        0.28876062],\n",
              "       ...,\n",
              "       [0.52005987, 0.32140266, 0.16719212, ..., 0.20049495, 0.41825626,\n",
              "        0.63874064],\n",
              "       [0.35338588, 0.52073912, 0.22854911, ..., 0.48947047, 0.83519096,\n",
              "        0.51175943],\n",
              "       [0.57108973, 0.52090187, 0.47862047, ..., 0.32458553, 0.61641789,\n",
              "        0.56514428]])"
            ]
          },
          "metadata": {},
          "execution_count": 113
        }
      ],
      "source": [
        "X_test_scaled"
      ]
    },
    {
      "cell_type": "code",
      "execution_count": 114,
      "metadata": {
        "id": "sXezeq1a3XxL"
      },
      "outputs": [],
      "source": [
        "X_test = pd.DataFrame(X_test_scaled, columns=df_train1.iloc[:,:-1].columns)"
      ]
    },
    {
      "cell_type": "code",
      "execution_count": 115,
      "metadata": {
        "colab": {
          "base_uri": "https://localhost:8080/",
          "height": 394
        },
        "id": "NMdHANxo3i4a",
        "outputId": "e6d8ba7a-fa8a-44da-d285-860d8228a4be"
      },
      "outputs": [
        {
          "output_type": "execute_result",
          "data": {
            "text/plain": [
              "                0           1           2           3           4           5  \\\n",
              "count  296.000000  296.000000  296.000000  296.000000  296.000000  296.000000   \n",
              "mean   0.516190    0.479272    0.465672    0.473248    0.533564    0.458844     \n",
              "std    0.159394    0.168352    0.160981    0.148442    0.157342    0.181053     \n",
              "min    0.019049   -0.077006    0.034007    0.064865    0.069312    0.008035     \n",
              "25%    0.414192    0.360258    0.358895    0.378706    0.426496    0.332731     \n",
              "50%    0.514090    0.497264    0.465055    0.477490    0.535445    0.457063     \n",
              "75%    0.622681    0.587121    0.557916    0.553843    0.634251    0.572080     \n",
              "max    0.974539    0.952005    0.925816    0.948974    1.039311    0.972211     \n",
              "\n",
              "                6           7           8           9  ...          48  \\\n",
              "count  296.000000  296.000000  296.000000  296.000000  ...  296.000000   \n",
              "mean   0.517777    0.556777    0.491669    0.527948    ...  0.517624     \n",
              "std    0.158411    0.151474    0.135121    0.150576    ...  0.158643     \n",
              "min    0.000000    0.109029    0.096779    0.103037    ... -0.002794     \n",
              "25%    0.414334    0.469459    0.407027    0.428280    ...  0.426146     \n",
              "50%    0.505978    0.561958    0.490367    0.528682    ...  0.507108     \n",
              "75%    0.625585    0.641616    0.584497    0.619458    ...  0.615576     \n",
              "max    0.998720    1.085131    0.878757    0.992447    ...  1.021676     \n",
              "\n",
              "               49          50          51          52          53          54  \\\n",
              "count  296.000000  296.000000  296.000000  296.000000  296.000000  296.000000   \n",
              "mean   0.518915    0.533480    0.472798    0.523421    0.528594    0.428886     \n",
              "std    0.162443    0.187791    0.152313    0.183069    0.154337    0.165382     \n",
              "min    0.077274    0.015066    0.072505   -0.037527    0.074766    0.012883     \n",
              "25%    0.426549    0.431658    0.372683    0.408917    0.445052    0.317799     \n",
              "50%    0.516027    0.526989    0.477351    0.525785    0.525574    0.424633     \n",
              "75%    0.619526    0.643984    0.574948    0.629758    0.624998    0.522122     \n",
              "max    1.006643    1.017826    0.898883    0.986562    1.060956    0.841535     \n",
              "\n",
              "               55          56          57  \n",
              "count  296.000000  296.000000  296.000000  \n",
              "mean   0.452530    0.575969    0.496070    \n",
              "std    0.141032    0.162539    0.164490    \n",
              "min   -0.081519    0.027873    0.102033    \n",
              "25%    0.370312    0.479149    0.395303    \n",
              "50%    0.462759    0.571142    0.490835    \n",
              "75%    0.538195    0.678873    0.595240    \n",
              "max    0.956969    0.992691    0.936492    \n",
              "\n",
              "[8 rows x 58 columns]"
            ],
            "text/html": [
              "\n",
              "  <div id=\"df-bdec82b2-7472-4e5d-9463-4493b3152219\">\n",
              "    <div class=\"colab-df-container\">\n",
              "      <div>\n",
              "<style scoped>\n",
              "    .dataframe tbody tr th:only-of-type {\n",
              "        vertical-align: middle;\n",
              "    }\n",
              "\n",
              "    .dataframe tbody tr th {\n",
              "        vertical-align: top;\n",
              "    }\n",
              "\n",
              "    .dataframe thead th {\n",
              "        text-align: right;\n",
              "    }\n",
              "</style>\n",
              "<table border=\"1\" class=\"dataframe\">\n",
              "  <thead>\n",
              "    <tr style=\"text-align: right;\">\n",
              "      <th></th>\n",
              "      <th>0</th>\n",
              "      <th>1</th>\n",
              "      <th>2</th>\n",
              "      <th>3</th>\n",
              "      <th>4</th>\n",
              "      <th>5</th>\n",
              "      <th>6</th>\n",
              "      <th>7</th>\n",
              "      <th>8</th>\n",
              "      <th>9</th>\n",
              "      <th>...</th>\n",
              "      <th>48</th>\n",
              "      <th>49</th>\n",
              "      <th>50</th>\n",
              "      <th>51</th>\n",
              "      <th>52</th>\n",
              "      <th>53</th>\n",
              "      <th>54</th>\n",
              "      <th>55</th>\n",
              "      <th>56</th>\n",
              "      <th>57</th>\n",
              "    </tr>\n",
              "  </thead>\n",
              "  <tbody>\n",
              "    <tr>\n",
              "      <th>count</th>\n",
              "      <td>296.000000</td>\n",
              "      <td>296.000000</td>\n",
              "      <td>296.000000</td>\n",
              "      <td>296.000000</td>\n",
              "      <td>296.000000</td>\n",
              "      <td>296.000000</td>\n",
              "      <td>296.000000</td>\n",
              "      <td>296.000000</td>\n",
              "      <td>296.000000</td>\n",
              "      <td>296.000000</td>\n",
              "      <td>...</td>\n",
              "      <td>296.000000</td>\n",
              "      <td>296.000000</td>\n",
              "      <td>296.000000</td>\n",
              "      <td>296.000000</td>\n",
              "      <td>296.000000</td>\n",
              "      <td>296.000000</td>\n",
              "      <td>296.000000</td>\n",
              "      <td>296.000000</td>\n",
              "      <td>296.000000</td>\n",
              "      <td>296.000000</td>\n",
              "    </tr>\n",
              "    <tr>\n",
              "      <th>mean</th>\n",
              "      <td>0.516190</td>\n",
              "      <td>0.479272</td>\n",
              "      <td>0.465672</td>\n",
              "      <td>0.473248</td>\n",
              "      <td>0.533564</td>\n",
              "      <td>0.458844</td>\n",
              "      <td>0.517777</td>\n",
              "      <td>0.556777</td>\n",
              "      <td>0.491669</td>\n",
              "      <td>0.527948</td>\n",
              "      <td>...</td>\n",
              "      <td>0.517624</td>\n",
              "      <td>0.518915</td>\n",
              "      <td>0.533480</td>\n",
              "      <td>0.472798</td>\n",
              "      <td>0.523421</td>\n",
              "      <td>0.528594</td>\n",
              "      <td>0.428886</td>\n",
              "      <td>0.452530</td>\n",
              "      <td>0.575969</td>\n",
              "      <td>0.496070</td>\n",
              "    </tr>\n",
              "    <tr>\n",
              "      <th>std</th>\n",
              "      <td>0.159394</td>\n",
              "      <td>0.168352</td>\n",
              "      <td>0.160981</td>\n",
              "      <td>0.148442</td>\n",
              "      <td>0.157342</td>\n",
              "      <td>0.181053</td>\n",
              "      <td>0.158411</td>\n",
              "      <td>0.151474</td>\n",
              "      <td>0.135121</td>\n",
              "      <td>0.150576</td>\n",
              "      <td>...</td>\n",
              "      <td>0.158643</td>\n",
              "      <td>0.162443</td>\n",
              "      <td>0.187791</td>\n",
              "      <td>0.152313</td>\n",
              "      <td>0.183069</td>\n",
              "      <td>0.154337</td>\n",
              "      <td>0.165382</td>\n",
              "      <td>0.141032</td>\n",
              "      <td>0.162539</td>\n",
              "      <td>0.164490</td>\n",
              "    </tr>\n",
              "    <tr>\n",
              "      <th>min</th>\n",
              "      <td>0.019049</td>\n",
              "      <td>-0.077006</td>\n",
              "      <td>0.034007</td>\n",
              "      <td>0.064865</td>\n",
              "      <td>0.069312</td>\n",
              "      <td>0.008035</td>\n",
              "      <td>0.000000</td>\n",
              "      <td>0.109029</td>\n",
              "      <td>0.096779</td>\n",
              "      <td>0.103037</td>\n",
              "      <td>...</td>\n",
              "      <td>-0.002794</td>\n",
              "      <td>0.077274</td>\n",
              "      <td>0.015066</td>\n",
              "      <td>0.072505</td>\n",
              "      <td>-0.037527</td>\n",
              "      <td>0.074766</td>\n",
              "      <td>0.012883</td>\n",
              "      <td>-0.081519</td>\n",
              "      <td>0.027873</td>\n",
              "      <td>0.102033</td>\n",
              "    </tr>\n",
              "    <tr>\n",
              "      <th>25%</th>\n",
              "      <td>0.414192</td>\n",
              "      <td>0.360258</td>\n",
              "      <td>0.358895</td>\n",
              "      <td>0.378706</td>\n",
              "      <td>0.426496</td>\n",
              "      <td>0.332731</td>\n",
              "      <td>0.414334</td>\n",
              "      <td>0.469459</td>\n",
              "      <td>0.407027</td>\n",
              "      <td>0.428280</td>\n",
              "      <td>...</td>\n",
              "      <td>0.426146</td>\n",
              "      <td>0.426549</td>\n",
              "      <td>0.431658</td>\n",
              "      <td>0.372683</td>\n",
              "      <td>0.408917</td>\n",
              "      <td>0.445052</td>\n",
              "      <td>0.317799</td>\n",
              "      <td>0.370312</td>\n",
              "      <td>0.479149</td>\n",
              "      <td>0.395303</td>\n",
              "    </tr>\n",
              "    <tr>\n",
              "      <th>50%</th>\n",
              "      <td>0.514090</td>\n",
              "      <td>0.497264</td>\n",
              "      <td>0.465055</td>\n",
              "      <td>0.477490</td>\n",
              "      <td>0.535445</td>\n",
              "      <td>0.457063</td>\n",
              "      <td>0.505978</td>\n",
              "      <td>0.561958</td>\n",
              "      <td>0.490367</td>\n",
              "      <td>0.528682</td>\n",
              "      <td>...</td>\n",
              "      <td>0.507108</td>\n",
              "      <td>0.516027</td>\n",
              "      <td>0.526989</td>\n",
              "      <td>0.477351</td>\n",
              "      <td>0.525785</td>\n",
              "      <td>0.525574</td>\n",
              "      <td>0.424633</td>\n",
              "      <td>0.462759</td>\n",
              "      <td>0.571142</td>\n",
              "      <td>0.490835</td>\n",
              "    </tr>\n",
              "    <tr>\n",
              "      <th>75%</th>\n",
              "      <td>0.622681</td>\n",
              "      <td>0.587121</td>\n",
              "      <td>0.557916</td>\n",
              "      <td>0.553843</td>\n",
              "      <td>0.634251</td>\n",
              "      <td>0.572080</td>\n",
              "      <td>0.625585</td>\n",
              "      <td>0.641616</td>\n",
              "      <td>0.584497</td>\n",
              "      <td>0.619458</td>\n",
              "      <td>...</td>\n",
              "      <td>0.615576</td>\n",
              "      <td>0.619526</td>\n",
              "      <td>0.643984</td>\n",
              "      <td>0.574948</td>\n",
              "      <td>0.629758</td>\n",
              "      <td>0.624998</td>\n",
              "      <td>0.522122</td>\n",
              "      <td>0.538195</td>\n",
              "      <td>0.678873</td>\n",
              "      <td>0.595240</td>\n",
              "    </tr>\n",
              "    <tr>\n",
              "      <th>max</th>\n",
              "      <td>0.974539</td>\n",
              "      <td>0.952005</td>\n",
              "      <td>0.925816</td>\n",
              "      <td>0.948974</td>\n",
              "      <td>1.039311</td>\n",
              "      <td>0.972211</td>\n",
              "      <td>0.998720</td>\n",
              "      <td>1.085131</td>\n",
              "      <td>0.878757</td>\n",
              "      <td>0.992447</td>\n",
              "      <td>...</td>\n",
              "      <td>1.021676</td>\n",
              "      <td>1.006643</td>\n",
              "      <td>1.017826</td>\n",
              "      <td>0.898883</td>\n",
              "      <td>0.986562</td>\n",
              "      <td>1.060956</td>\n",
              "      <td>0.841535</td>\n",
              "      <td>0.956969</td>\n",
              "      <td>0.992691</td>\n",
              "      <td>0.936492</td>\n",
              "    </tr>\n",
              "  </tbody>\n",
              "</table>\n",
              "<p>8 rows × 58 columns</p>\n",
              "</div>\n",
              "      <button class=\"colab-df-convert\" onclick=\"convertToInteractive('df-bdec82b2-7472-4e5d-9463-4493b3152219')\"\n",
              "              title=\"Convert this dataframe to an interactive table.\"\n",
              "              style=\"display:none;\">\n",
              "        \n",
              "  <svg xmlns=\"http://www.w3.org/2000/svg\" height=\"24px\"viewBox=\"0 0 24 24\"\n",
              "       width=\"24px\">\n",
              "    <path d=\"M0 0h24v24H0V0z\" fill=\"none\"/>\n",
              "    <path d=\"M18.56 5.44l.94 2.06.94-2.06 2.06-.94-2.06-.94-.94-2.06-.94 2.06-2.06.94zm-11 1L8.5 8.5l.94-2.06 2.06-.94-2.06-.94L8.5 2.5l-.94 2.06-2.06.94zm10 10l.94 2.06.94-2.06 2.06-.94-2.06-.94-.94-2.06-.94 2.06-2.06.94z\"/><path d=\"M17.41 7.96l-1.37-1.37c-.4-.4-.92-.59-1.43-.59-.52 0-1.04.2-1.43.59L10.3 9.45l-7.72 7.72c-.78.78-.78 2.05 0 2.83L4 21.41c.39.39.9.59 1.41.59.51 0 1.02-.2 1.41-.59l7.78-7.78 2.81-2.81c.8-.78.8-2.07 0-2.86zM5.41 20L4 18.59l7.72-7.72 1.47 1.35L5.41 20z\"/>\n",
              "  </svg>\n",
              "      </button>\n",
              "      \n",
              "  <style>\n",
              "    .colab-df-container {\n",
              "      display:flex;\n",
              "      flex-wrap:wrap;\n",
              "      gap: 12px;\n",
              "    }\n",
              "\n",
              "    .colab-df-convert {\n",
              "      background-color: #E8F0FE;\n",
              "      border: none;\n",
              "      border-radius: 50%;\n",
              "      cursor: pointer;\n",
              "      display: none;\n",
              "      fill: #1967D2;\n",
              "      height: 32px;\n",
              "      padding: 0 0 0 0;\n",
              "      width: 32px;\n",
              "    }\n",
              "\n",
              "    .colab-df-convert:hover {\n",
              "      background-color: #E2EBFA;\n",
              "      box-shadow: 0px 1px 2px rgba(60, 64, 67, 0.3), 0px 1px 3px 1px rgba(60, 64, 67, 0.15);\n",
              "      fill: #174EA6;\n",
              "    }\n",
              "\n",
              "    [theme=dark] .colab-df-convert {\n",
              "      background-color: #3B4455;\n",
              "      fill: #D2E3FC;\n",
              "    }\n",
              "\n",
              "    [theme=dark] .colab-df-convert:hover {\n",
              "      background-color: #434B5C;\n",
              "      box-shadow: 0px 1px 3px 1px rgba(0, 0, 0, 0.15);\n",
              "      filter: drop-shadow(0px 1px 2px rgba(0, 0, 0, 0.3));\n",
              "      fill: #FFFFFF;\n",
              "    }\n",
              "  </style>\n",
              "\n",
              "      <script>\n",
              "        const buttonEl =\n",
              "          document.querySelector('#df-bdec82b2-7472-4e5d-9463-4493b3152219 button.colab-df-convert');\n",
              "        buttonEl.style.display =\n",
              "          google.colab.kernel.accessAllowed ? 'block' : 'none';\n",
              "\n",
              "        async function convertToInteractive(key) {\n",
              "          const element = document.querySelector('#df-bdec82b2-7472-4e5d-9463-4493b3152219');\n",
              "          const dataTable =\n",
              "            await google.colab.kernel.invokeFunction('convertToInteractive',\n",
              "                                                     [key], {});\n",
              "          if (!dataTable) return;\n",
              "\n",
              "          const docLinkHtml = 'Like what you see? Visit the ' +\n",
              "            '<a target=\"_blank\" href=https://colab.research.google.com/notebooks/data_table.ipynb>data table notebook</a>'\n",
              "            + ' to learn more about interactive tables.';\n",
              "          element.innerHTML = '';\n",
              "          dataTable['output_type'] = 'display_data';\n",
              "          await google.colab.output.renderOutput(dataTable, element);\n",
              "          const docLink = document.createElement('div');\n",
              "          docLink.innerHTML = docLinkHtml;\n",
              "          element.appendChild(docLink);\n",
              "        }\n",
              "      </script>\n",
              "    </div>\n",
              "  </div>\n",
              "  "
            ]
          },
          "metadata": {},
          "execution_count": 115
        }
      ],
      "source": [
        "X_test.describe()"
      ]
    },
    {
      "cell_type": "code",
      "execution_count": 116,
      "metadata": {
        "id": "Hny5obZv1uyC"
      },
      "outputs": [],
      "source": [
        "mnb = MultinomialNB()"
      ]
    },
    {
      "cell_type": "code",
      "execution_count": 117,
      "metadata": {
        "colab": {
          "base_uri": "https://localhost:8080/",
          "height": 75
        },
        "id": "oIITxDwZoWmq",
        "outputId": "0acda5dd-ca9e-499a-e7ba-1c952e2d9c47"
      },
      "outputs": [
        {
          "output_type": "execute_result",
          "data": {
            "text/plain": [
              "MultinomialNB()"
            ],
            "text/html": [
              "<style>#sk-container-id-2 {color: black;background-color: white;}#sk-container-id-2 pre{padding: 0;}#sk-container-id-2 div.sk-toggleable {background-color: white;}#sk-container-id-2 label.sk-toggleable__label {cursor: pointer;display: block;width: 100%;margin-bottom: 0;padding: 0.3em;box-sizing: border-box;text-align: center;}#sk-container-id-2 label.sk-toggleable__label-arrow:before {content: \"▸\";float: left;margin-right: 0.25em;color: #696969;}#sk-container-id-2 label.sk-toggleable__label-arrow:hover:before {color: black;}#sk-container-id-2 div.sk-estimator:hover label.sk-toggleable__label-arrow:before {color: black;}#sk-container-id-2 div.sk-toggleable__content {max-height: 0;max-width: 0;overflow: hidden;text-align: left;background-color: #f0f8ff;}#sk-container-id-2 div.sk-toggleable__content pre {margin: 0.2em;color: black;border-radius: 0.25em;background-color: #f0f8ff;}#sk-container-id-2 input.sk-toggleable__control:checked~div.sk-toggleable__content {max-height: 200px;max-width: 100%;overflow: auto;}#sk-container-id-2 input.sk-toggleable__control:checked~label.sk-toggleable__label-arrow:before {content: \"▾\";}#sk-container-id-2 div.sk-estimator input.sk-toggleable__control:checked~label.sk-toggleable__label {background-color: #d4ebff;}#sk-container-id-2 div.sk-label input.sk-toggleable__control:checked~label.sk-toggleable__label {background-color: #d4ebff;}#sk-container-id-2 input.sk-hidden--visually {border: 0;clip: rect(1px 1px 1px 1px);clip: rect(1px, 1px, 1px, 1px);height: 1px;margin: -1px;overflow: hidden;padding: 0;position: absolute;width: 1px;}#sk-container-id-2 div.sk-estimator {font-family: monospace;background-color: #f0f8ff;border: 1px dotted black;border-radius: 0.25em;box-sizing: border-box;margin-bottom: 0.5em;}#sk-container-id-2 div.sk-estimator:hover {background-color: #d4ebff;}#sk-container-id-2 div.sk-parallel-item::after {content: \"\";width: 100%;border-bottom: 1px solid gray;flex-grow: 1;}#sk-container-id-2 div.sk-label:hover label.sk-toggleable__label {background-color: #d4ebff;}#sk-container-id-2 div.sk-serial::before {content: \"\";position: absolute;border-left: 1px solid gray;box-sizing: border-box;top: 0;bottom: 0;left: 50%;z-index: 0;}#sk-container-id-2 div.sk-serial {display: flex;flex-direction: column;align-items: center;background-color: white;padding-right: 0.2em;padding-left: 0.2em;position: relative;}#sk-container-id-2 div.sk-item {position: relative;z-index: 1;}#sk-container-id-2 div.sk-parallel {display: flex;align-items: stretch;justify-content: center;background-color: white;position: relative;}#sk-container-id-2 div.sk-item::before, #sk-container-id-2 div.sk-parallel-item::before {content: \"\";position: absolute;border-left: 1px solid gray;box-sizing: border-box;top: 0;bottom: 0;left: 50%;z-index: -1;}#sk-container-id-2 div.sk-parallel-item {display: flex;flex-direction: column;z-index: 1;position: relative;background-color: white;}#sk-container-id-2 div.sk-parallel-item:first-child::after {align-self: flex-end;width: 50%;}#sk-container-id-2 div.sk-parallel-item:last-child::after {align-self: flex-start;width: 50%;}#sk-container-id-2 div.sk-parallel-item:only-child::after {width: 0;}#sk-container-id-2 div.sk-dashed-wrapped {border: 1px dashed gray;margin: 0 0.4em 0.5em 0.4em;box-sizing: border-box;padding-bottom: 0.4em;background-color: white;}#sk-container-id-2 div.sk-label label {font-family: monospace;font-weight: bold;display: inline-block;line-height: 1.2em;}#sk-container-id-2 div.sk-label-container {text-align: center;}#sk-container-id-2 div.sk-container {/* jupyter's `normalize.less` sets `[hidden] { display: none; }` but bootstrap.min.css set `[hidden] { display: none !important; }` so we also need the `!important` here to be able to override the default hidden behavior on the sphinx rendered scikit-learn.org. See: https://github.com/scikit-learn/scikit-learn/issues/21755 */display: inline-block !important;position: relative;}#sk-container-id-2 div.sk-text-repr-fallback {display: none;}</style><div id=\"sk-container-id-2\" class=\"sk-top-container\"><div class=\"sk-text-repr-fallback\"><pre>MultinomialNB()</pre><b>In a Jupyter environment, please rerun this cell to show the HTML representation or trust the notebook. <br />On GitHub, the HTML representation is unable to render, please try loading this page with nbviewer.org.</b></div><div class=\"sk-container\" hidden><div class=\"sk-item\"><div class=\"sk-estimator sk-toggleable\"><input class=\"sk-toggleable__control sk-hidden--visually\" id=\"sk-estimator-id-4\" type=\"checkbox\" checked><label for=\"sk-estimator-id-4\" class=\"sk-toggleable__label sk-toggleable__label-arrow\">MultinomialNB</label><div class=\"sk-toggleable__content\"><pre>MultinomialNB()</pre></div></div></div></div></div>"
            ]
          },
          "metadata": {},
          "execution_count": 117
        }
      ],
      "source": [
        "mnb.fit(X_train, df_train1.Target)"
      ]
    },
    {
      "cell_type": "code",
      "execution_count": 118,
      "metadata": {
        "id": "YGUdpgX830Y1"
      },
      "outputs": [],
      "source": [
        "labels1 = mnb.predict(X_test)"
      ]
    },
    {
      "cell_type": "code",
      "execution_count": 119,
      "metadata": {
        "colab": {
          "base_uri": "https://localhost:8080/"
        },
        "id": "NZxjV6DJ4bSv",
        "outputId": "d1ee5e31-e747-4906-c32a-46925b3457cb"
      },
      "outputs": [
        {
          "output_type": "execute_result",
          "data": {
            "text/plain": [
              "296"
            ]
          },
          "metadata": {},
          "execution_count": 119
        }
      ],
      "source": [
        "len(labels1)"
      ]
    },
    {
      "cell_type": "code",
      "execution_count": 120,
      "metadata": {
        "colab": {
          "base_uri": "https://localhost:8080/"
        },
        "id": "r9Pcghm45Gxq",
        "outputId": "7801b3f6-eaa6-465f-da91-befbbd910e18"
      },
      "outputs": [
        {
          "output_type": "execute_result",
          "data": {
            "text/plain": [
              "296"
            ]
          },
          "metadata": {},
          "execution_count": 120
        }
      ],
      "source": [
        "len(df_test1.Target)"
      ]
    },
    {
      "cell_type": "code",
      "execution_count": 121,
      "metadata": {
        "id": "iLN_rHA430a6"
      },
      "outputs": [],
      "source": [
        "mat1 = confusion_matrix(df_test1.Target, labels1)"
      ]
    },
    {
      "cell_type": "code",
      "source": [
        "sns.heatmap(mat1.T, square=True, annot=True, fmt='d', cbar=False)\n",
        "plt.xlabel('True label')\n",
        "plt.ylabel('Predicted label')"
      ],
      "metadata": {
        "colab": {
          "base_uri": "https://localhost:8080/",
          "height": 296
        },
        "id": "vFutZ1ZbFb31",
        "outputId": "01ee1547-6925-4056-9596-6c6cc3f92d71"
      },
      "execution_count": 122,
      "outputs": [
        {
          "output_type": "execute_result",
          "data": {
            "text/plain": [
              "Text(91.68, 0.5, 'Predicted label')"
            ]
          },
          "metadata": {},
          "execution_count": 122
        },
        {
          "output_type": "display_data",
          "data": {
            "text/plain": [
              "<Figure size 432x288 with 1 Axes>"
            ],
            "image/png": "[encoded data removed]"
          },
          "metadata": {
            "needs_background": "light"
          }
        }
      ]
    },
    {
      "cell_type": "markdown",
      "source": [
        "The following observations can be concluded about the performance:\n",
        "\n",
        " - 39 is the number of true positives i.e. The number of actual negative reviews that were predicted negatively be the model\n",
        "\n",
        " - 125 is the number of true negatives i.e. The number of actual positive reviews that were predicted positively be the model\n",
        "\n",
        " - 116 is the number of false positives i.e. The number of actual negative reviews that were predicted positively be the model\n",
        "\n",
        " - 16 is the number of false negatives i.e. The number of actual positive reviews that were predicted negatively be the model"
      ],
      "metadata": {
        "id": "i28l0VdUFvQn"
      }
    },
    {
      "cell_type": "code",
      "source": [
        "score = accuracy_score(df_test1.Target, labels1)"
      ],
      "metadata": {
        "id": "4vrWjpXxFb6D"
      },
      "execution_count": 123,
      "outputs": []
    },
    {
      "cell_type": "code",
      "source": [
        "score"
      ],
      "metadata": {
        "colab": {
          "base_uri": "https://localhost:8080/"
        },
        "id": "MLmksHjaFb9z",
        "outputId": "a6d6d9cf-ed0b-480a-873e-87757b5ea400"
      },
      "execution_count": 124,
      "outputs": [
        {
          "output_type": "execute_result",
          "data": {
            "text/plain": [
              "0.5540540540540541"
            ]
          },
          "metadata": {},
          "execution_count": 124
        }
      ]
    },
    {
      "cell_type": "code",
      "source": [
        "report = classification_report(df_test1.Target, labels1)"
      ],
      "metadata": {
        "id": "Qjv8L_m6GRar"
      },
      "execution_count": 125,
      "outputs": []
    },
    {
      "cell_type": "code",
      "source": [
        "print(report)"
      ],
      "metadata": {
        "colab": {
          "base_uri": "https://localhost:8080/"
        },
        "id": "8S0P60f0GRcR",
        "outputId": "7fab158b-fd90-4d0b-cd7a-3ece1fe8a291"
      },
      "execution_count": 126,
      "outputs": [
        {
          "output_type": "stream",
          "name": "stdout",
          "text": [
            "              precision    recall  f1-score   support\n",
            "\n",
            "           0       0.71      0.25      0.37       155\n",
            "           1       0.52      0.89      0.65       141\n",
            "\n",
            "    accuracy                           0.55       296\n",
            "   macro avg       0.61      0.57      0.51       296\n",
            "weighted avg       0.62      0.55      0.51       296\n",
            "\n"
          ]
        }
      ]
    }
  ],
  "metadata": {
    "colab": {
      "provenance": []
    },
    "kernelspec": {
      "display_name": "Python 3",
      "language": "python",
      "name": "python3"
    },
    "language_info": {
      "codemirror_mode": {
        "name": "ipython",
        "version": 3
      },
      "file_extension": ".py",
      "mimetype": "text/x-python",
      "name": "python",
      "nbconvert_exporter": "python",
      "pygments_lexer": "ipython3",
      "version": "3.6.5"
    }
  },
  "nbformat": 4,
  "nbformat_minor": 0
}