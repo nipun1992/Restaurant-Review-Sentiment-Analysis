{
 "cells": [
  {
   "cell_type": "markdown",
   "metadata": {
    "id": "-1glbD8hUG0H"
   },
   "source": [
    "### Group Members:\n",
    "    \n",
    " - Aiswarya S Parvathy\n",
    " - Vengadesh S\n",
    " - Nipun Gupta   "
   ]
  },
  {
   "cell_type": "markdown",
   "metadata": {
    "id": "ri_cZFTkUG0L"
   },
   "source": [
    "### Objective: \n",
    "\n",
    "Build a prediction model to predict whether a review on the restaurant is positive or negative."
   ]
  },
  {
   "cell_type": "markdown",
   "metadata": {
    "id": "49zKzmoRUG0M"
   },
   "source": [
    "### Importing pandas"
   ]
  },
  {
   "cell_type": "code",
   "execution_count": 1,
   "metadata": {
    "id": "3dQA3srOUG0M"
   },
   "outputs": [],
   "source": [
    "import pandas as pd\n",
    "import numpy as np"
   ]
  },
  {
   "cell_type": "markdown",
   "metadata": {
    "id": "HpT_Av-BUG0O"
   },
   "source": [
    "Reading the csv dataset as a pandas dataframe"
   ]
  },
  {
   "cell_type": "code",
   "execution_count": 2,
   "metadata": {
    "id": "A0fZvfpHUG0O"
   },
   "outputs": [],
   "source": [
    "Rest_rev = pd.read_csv('RestaurantReview.csv')"
   ]
  },
  {
   "cell_type": "code",
   "execution_count": 3,
   "metadata": {
    "colab": {
     "base_uri": "https://localhost:8080/"
    },
    "id": "92Lp9VYdUG0P",
    "outputId": "71b2b945-5f05-4857-815e-22b8cc7226da"
   },
   "outputs": [
    {
     "name": "stderr",
     "output_type": "stream",
     "text": [
      "<ipython-input-3-0891b765a168>:1: FutureWarning: Passing a negative integer is deprecated in version 1.0 and will not be supported in future version. Instead, use None to not limit the column width.\n",
      "  pd.set_option('display.max_colwidth', -1)\n"
     ]
    }
   ],
   "source": [
    "pd.set_option('display.max_colwidth', -1)"
   ]
  },
  {
   "cell_type": "code",
   "execution_count": 4,
   "metadata": {
    "colab": {
     "base_uri": "https://localhost:8080/",
     "height": 206
    },
    "id": "_REkiZBTUG0P",
    "outputId": "d0790327-5d51-46eb-a54e-0b1cbf6a20ba"
   },
   "outputs": [
    {
     "data": {
      "text/html": [
       "\n",
       "  <div id=\"df-98c1e75f-bcf9-486e-a90a-2ea3a747577a\">\n",
       "    <div class=\"colab-df-container\">\n",
       "      <div>\n",
       "<style scoped>\n",
       "    .dataframe tbody tr th:only-of-type {\n",
       "        vertical-align: middle;\n",
       "    }\n",
       "\n",
       "    .dataframe tbody tr th {\n",
       "        vertical-align: top;\n",
       "    }\n",
       "\n",
       "    .dataframe thead th {\n",
       "        text-align: right;\n",
       "    }\n",
       "</style>\n",
       "<table border=\"1\" class=\"dataframe\">\n",
       "  <thead>\n",
       "    <tr style=\"text-align: right;\">\n",
       "      <th></th>\n",
       "      <th>Review</th>\n",
       "      <th>Liked</th>\n",
       "    </tr>\n",
       "  </thead>\n",
       "  <tbody>\n",
       "    <tr>\n",
       "      <th>0</th>\n",
       "      <td>Wow... Loved this place.</td>\n",
       "      <td>1</td>\n",
       "    </tr>\n",
       "    <tr>\n",
       "      <th>1</th>\n",
       "      <td>Crust is not good.</td>\n",
       "      <td>0</td>\n",
       "    </tr>\n",
       "    <tr>\n",
       "      <th>2</th>\n",
       "      <td>Not tasty and the texture was just nasty.</td>\n",
       "      <td>0</td>\n",
       "    </tr>\n",
       "    <tr>\n",
       "      <th>3</th>\n",
       "      <td>Stopped by during the late May bank holiday off Rick Steve recommendation and loved it.</td>\n",
       "      <td>1</td>\n",
       "    </tr>\n",
       "    <tr>\n",
       "      <th>4</th>\n",
       "      <td>The selection on the menu was great and so were the prices.</td>\n",
       "      <td>1</td>\n",
       "    </tr>\n",
       "  </tbody>\n",
       "</table>\n",
       "</div>\n",
       "      <button class=\"colab-df-convert\" onclick=\"convertToInteractive('df-98c1e75f-bcf9-486e-a90a-2ea3a747577a')\"\n",
       "              title=\"Convert this dataframe to an interactive table.\"\n",
       "              style=\"display:none;\">\n",
       "        \n",
       "  <svg xmlns=\"http://www.w3.org/2000/svg\" height=\"24px\"viewBox=\"0 0 24 24\"\n",
       "       width=\"24px\">\n",
       "    <path d=\"M0 0h24v24H0V0z\" fill=\"none\"/>\n",
       "    <path d=\"M18.56 5.44l.94 2.06.94-2.06 2.06-.94-2.06-.94-.94-2.06-.94 2.06-2.06.94zm-11 1L8.5 8.5l.94-2.06 2.06-.94-2.06-.94L8.5 2.5l-.94 2.06-2.06.94zm10 10l.94 2.06.94-2.06 2.06-.94-2.06-.94-.94-2.06-.94 2.06-2.06.94z\"/><path d=\"M17.41 7.96l-1.37-1.37c-.4-.4-.92-.59-1.43-.59-.52 0-1.04.2-1.43.59L10.3 9.45l-7.72 7.72c-.78.78-.78 2.05 0 2.83L4 21.41c.39.39.9.59 1.41.59.51 0 1.02-.2 1.41-.59l7.78-7.78 2.81-2.81c.8-.78.8-2.07 0-2.86zM5.41 20L4 18.59l7.72-7.72 1.47 1.35L5.41 20z\"/>\n",
       "  </svg>\n",
       "      </button>\n",
       "      \n",
       "  <style>\n",
       "    .colab-df-container {\n",
       "      display:flex;\n",
       "      flex-wrap:wrap;\n",
       "      gap: 12px;\n",
       "    }\n",
       "\n",
       "    .colab-df-convert {\n",
       "      background-color: #E8F0FE;\n",
       "      border: none;\n",
       "      border-radius: 50%;\n",
       "      cursor: pointer;\n",
       "      display: none;\n",
       "      fill: #1967D2;\n",
       "      height: 32px;\n",
       "      padding: 0 0 0 0;\n",
       "      width: 32px;\n",
       "    }\n",
       "\n",
       "    .colab-df-convert:hover {\n",
       "      background-color: #E2EBFA;\n",
       "      box-shadow: 0px 1px 2px rgba(60, 64, 67, 0.3), 0px 1px 3px 1px rgba(60, 64, 67, 0.15);\n",
       "      fill: #174EA6;\n",
       "    }\n",
       "\n",
       "    [theme=dark] .colab-df-convert {\n",
       "      background-color: #3B4455;\n",
       "      fill: #D2E3FC;\n",
       "    }\n",
       "\n",
       "    [theme=dark] .colab-df-convert:hover {\n",
       "      background-color: #434B5C;\n",
       "      box-shadow: 0px 1px 3px 1px rgba(0, 0, 0, 0.15);\n",
       "      filter: drop-shadow(0px 1px 2px rgba(0, 0, 0, 0.3));\n",
       "      fill: #FFFFFF;\n",
       "    }\n",
       "  </style>\n",
       "\n",
       "      <script>\n",
       "        const buttonEl =\n",
       "          document.querySelector('#df-98c1e75f-bcf9-486e-a90a-2ea3a747577a button.colab-df-convert');\n",
       "        buttonEl.style.display =\n",
       "          google.colab.kernel.accessAllowed ? 'block' : 'none';\n",
       "\n",
       "        async function convertToInteractive(key) {\n",
       "          const element = document.querySelector('#df-98c1e75f-bcf9-486e-a90a-2ea3a747577a');\n",
       "          const dataTable =\n",
       "            await google.colab.kernel.invokeFunction('convertToInteractive',\n",
       "                                                     [key], {});\n",
       "          if (!dataTable) return;\n",
       "\n",
       "          const docLinkHtml = 'Like what you see? Visit the ' +\n",
       "            '<a target=\"_blank\" href=https://colab.research.google.com/notebooks/data_table.ipynb>data table notebook</a>'\n",
       "            + ' to learn more about interactive tables.';\n",
       "          element.innerHTML = '';\n",
       "          dataTable['output_type'] = 'display_data';\n",
       "          await google.colab.output.renderOutput(dataTable, element);\n",
       "          const docLink = document.createElement('div');\n",
       "          docLink.innerHTML = docLinkHtml;\n",
       "          element.appendChild(docLink);\n",
       "        }\n",
       "      </script>\n",
       "    </div>\n",
       "  </div>\n",
       "  "
      ],
      "text/plain": [
       "                                                                                    Review  \\\n",
       "0  Wow... Loved this place.                                                                  \n",
       "1  Crust is not good.                                                                        \n",
       "2  Not tasty and the texture was just nasty.                                                 \n",
       "3  Stopped by during the late May bank holiday off Rick Steve recommendation and loved it.   \n",
       "4  The selection on the menu was great and so were the prices.                               \n",
       "\n",
       "   Liked  \n",
       "0  1      \n",
       "1  0      \n",
       "2  0      \n",
       "3  1      \n",
       "4  1      "
      ]
     },
     "execution_count": 4,
     "metadata": {},
     "output_type": "execute_result"
    }
   ],
   "source": [
    "Rest_rev.head()"
   ]
  },
  {
   "cell_type": "markdown",
   "metadata": {
    "id": "lZhFEpvHUG0R"
   },
   "source": [
    "Checking details of the dataframe"
   ]
  },
  {
   "cell_type": "code",
   "execution_count": 5,
   "metadata": {
    "colab": {
     "base_uri": "https://localhost:8080/"
    },
    "id": "N2IX3f_9UG0S",
    "outputId": "46a327cd-baaf-4e4a-fee4-f3e91ce123d7"
   },
   "outputs": [
    {
     "name": "stdout",
     "output_type": "stream",
     "text": [
      "<class 'pandas.core.frame.DataFrame'>\n",
      "RangeIndex: 1000 entries, 0 to 999\n",
      "Data columns (total 2 columns):\n",
      " #   Column   Non-Null Count  Dtype \n",
      "---  ------   --------------  ----- \n",
      " 0    Review  1000 non-null   object\n",
      " 1   Liked    1000 non-null   int64 \n",
      "dtypes: int64(1), object(1)\n",
      "memory usage: 15.8+ KB\n"
     ]
    }
   ],
   "source": [
    "Rest_rev.info()"
   ]
  },
  {
   "cell_type": "code",
   "execution_count": 6,
   "metadata": {
    "colab": {
     "base_uri": "https://localhost:8080/"
    },
    "id": "cqBZV9xiUG0S",
    "outputId": "39ca9a31-0e41-4be3-f9af-6b3f4b52c346"
   },
   "outputs": [
    {
     "data": {
      "text/plain": [
       "Index([' Review', 'Liked'], dtype='object')"
      ]
     },
     "execution_count": 6,
     "metadata": {},
     "output_type": "execute_result"
    }
   ],
   "source": [
    "Rest_rev.columns"
   ]
  },
  {
   "cell_type": "markdown",
   "metadata": {
    "id": "PvW_t1dTUG0T"
   },
   "source": [
    "The column **Review** has a leading space in its name. So we can rename the column to remove this leading space"
   ]
  },
  {
   "cell_type": "code",
   "execution_count": 7,
   "metadata": {
    "id": "XJLGrY_xUG0T"
   },
   "outputs": [],
   "source": [
    "Rest_rev = Rest_rev.rename(columns={' Review':'Review'})"
   ]
  },
  {
   "cell_type": "code",
   "execution_count": 8,
   "metadata": {
    "colab": {
     "base_uri": "https://localhost:8080/"
    },
    "id": "tHVRQAcdUG0U",
    "outputId": "388dfd04-95af-4f1a-8918-82e09b55037f"
   },
   "outputs": [
    {
     "data": {
      "text/plain": [
       "Index(['Review', 'Liked'], dtype='object')"
      ]
     },
     "execution_count": 8,
     "metadata": {},
     "output_type": "execute_result"
    }
   ],
   "source": [
    "Rest_rev.columns"
   ]
  },
  {
   "cell_type": "markdown",
   "metadata": {
    "id": "-IeqlzXnUG0V"
   },
   "source": [
    "The leading space has been removed from the **Review** column"
   ]
  },
  {
   "cell_type": "markdown",
   "metadata": {
    "id": "7PKc3Ws9UG0V"
   },
   "source": [
    "Checking for presence of missing values"
   ]
  },
  {
   "cell_type": "code",
   "execution_count": 9,
   "metadata": {
    "colab": {
     "base_uri": "https://localhost:8080/"
    },
    "id": "YmA31ij1UG0W",
    "outputId": "232e6bb3-2d2c-48ca-a9a2-672f87b35ce2"
   },
   "outputs": [
    {
     "data": {
      "text/plain": [
       "Review    0\n",
       "Liked     0\n",
       "dtype: int64"
      ]
     },
     "execution_count": 9,
     "metadata": {},
     "output_type": "execute_result"
    }
   ],
   "source": [
    "Rest_rev.isnull().sum()"
   ]
  },
  {
   "cell_type": "markdown",
   "metadata": {
    "id": "n0U-Cg-fUG0W"
   },
   "source": [
    "There are no missing values in the dataframe"
   ]
  },
  {
   "cell_type": "markdown",
   "metadata": {
    "id": "QDVyjhszUG0X"
   },
   "source": [
    "Checking for presence of duplicates"
   ]
  },
  {
   "cell_type": "code",
   "execution_count": 10,
   "metadata": {
    "colab": {
     "base_uri": "https://localhost:8080/"
    },
    "id": "wQ6hZ1MiUG0X",
    "outputId": "a7213742-5859-4c77-927b-bffdd886b02c"
   },
   "outputs": [
    {
     "data": {
      "text/plain": [
       "4"
      ]
     },
     "execution_count": 10,
     "metadata": {},
     "output_type": "execute_result"
    }
   ],
   "source": [
    "Rest_rev.duplicated(subset=None, keep='first').sum()"
   ]
  },
  {
   "cell_type": "markdown",
   "metadata": {
    "id": "JVQs3TkIUG0X"
   },
   "source": [
    "There are 4 duplicate records in the dataframe"
   ]
  },
  {
   "cell_type": "code",
   "execution_count": 11,
   "metadata": {
    "colab": {
     "base_uri": "https://localhost:8080/"
    },
    "id": "4kMsCOEzUG0Y",
    "outputId": "ff377fcf-e6da-46a7-c1c0-16edaedefa89"
   },
   "outputs": [
    {
     "data": {
      "text/plain": [
       "(1000, 2)"
      ]
     },
     "execution_count": 11,
     "metadata": {},
     "output_type": "execute_result"
    }
   ],
   "source": [
    "Rest_rev.shape"
   ]
  },
  {
   "cell_type": "markdown",
   "metadata": {
    "id": "oRjeXcZUUG0Z"
   },
   "source": [
    "Removing the duplicate records"
   ]
  },
  {
   "cell_type": "code",
   "execution_count": 12,
   "metadata": {
    "id": "58Nj9H2sUG0Z"
   },
   "outputs": [],
   "source": [
    "Rest_rev = Rest_rev[Rest_rev.duplicated(Rest_rev.columns.tolist(), keep='first')==False]"
   ]
  },
  {
   "cell_type": "code",
   "execution_count": 13,
   "metadata": {
    "colab": {
     "base_uri": "https://localhost:8080/"
    },
    "id": "L1pYaQ6ZUG0a",
    "outputId": "bc5be422-2ef3-4a17-ddc4-bcc20cf09836"
   },
   "outputs": [
    {
     "data": {
      "text/plain": [
       "0"
      ]
     },
     "execution_count": 13,
     "metadata": {},
     "output_type": "execute_result"
    }
   ],
   "source": [
    "Rest_rev.duplicated(subset=None, keep='first').sum()"
   ]
  },
  {
   "cell_type": "code",
   "execution_count": 14,
   "metadata": {
    "colab": {
     "base_uri": "https://localhost:8080/"
    },
    "id": "BbXLg7GBUG0a",
    "outputId": "4085baac-e44d-4e41-9364-58e8c16579f5"
   },
   "outputs": [
    {
     "data": {
      "text/plain": [
       "(996, 2)"
      ]
     },
     "execution_count": 14,
     "metadata": {},
     "output_type": "execute_result"
    }
   ],
   "source": [
    "Rest_rev.shape"
   ]
  },
  {
   "cell_type": "markdown",
   "metadata": {
    "id": "TYhULLHoUG0b"
   },
   "source": [
    "Duplicate records have been removed from the dataframe"
   ]
  },
  {
   "cell_type": "code",
   "execution_count": 15,
   "metadata": {
    "id": "aPHvovs7UG0b"
   },
   "outputs": [],
   "source": [
    "Rest_rev.reset_index(inplace = True, drop = True)"
   ]
  },
  {
   "cell_type": "markdown",
   "metadata": {
    "id": "rBcbZDlwUG0b"
   },
   "source": [
    "Indices have been reset"
   ]
  },
  {
   "cell_type": "code",
   "execution_count": 16,
   "metadata": {
    "colab": {
     "base_uri": "https://localhost:8080/",
     "height": 175
    },
    "id": "SN8oKcuZUG0c",
    "outputId": "ca28e14e-a2d6-4654-a4b6-77cac971930f"
   },
   "outputs": [
    {
     "data": {
      "text/html": [
       "\n",
       "  <div id=\"df-1b9903b5-843e-49a7-8be8-1552ae9e20f5\">\n",
       "    <div class=\"colab-df-container\">\n",
       "      <div>\n",
       "<style scoped>\n",
       "    .dataframe tbody tr th:only-of-type {\n",
       "        vertical-align: middle;\n",
       "    }\n",
       "\n",
       "    .dataframe tbody tr th {\n",
       "        vertical-align: top;\n",
       "    }\n",
       "\n",
       "    .dataframe thead tr th {\n",
       "        text-align: left;\n",
       "    }\n",
       "\n",
       "    .dataframe thead tr:last-of-type th {\n",
       "        text-align: right;\n",
       "    }\n",
       "</style>\n",
       "<table border=\"1\" class=\"dataframe\">\n",
       "  <thead>\n",
       "    <tr>\n",
       "      <th></th>\n",
       "      <th colspan=\"4\" halign=\"left\">Review</th>\n",
       "    </tr>\n",
       "    <tr>\n",
       "      <th></th>\n",
       "      <th>count</th>\n",
       "      <th>unique</th>\n",
       "      <th>top</th>\n",
       "      <th>freq</th>\n",
       "    </tr>\n",
       "    <tr>\n",
       "      <th>Liked</th>\n",
       "      <th></th>\n",
       "      <th></th>\n",
       "      <th></th>\n",
       "      <th></th>\n",
       "    </tr>\n",
       "  </thead>\n",
       "  <tbody>\n",
       "    <tr>\n",
       "      <th>0</th>\n",
       "      <td>497</td>\n",
       "      <td>497</td>\n",
       "      <td>Crust is not good.</td>\n",
       "      <td>1</td>\n",
       "    </tr>\n",
       "    <tr>\n",
       "      <th>1</th>\n",
       "      <td>499</td>\n",
       "      <td>499</td>\n",
       "      <td>Wow... Loved this place.</td>\n",
       "      <td>1</td>\n",
       "    </tr>\n",
       "  </tbody>\n",
       "</table>\n",
       "</div>\n",
       "      <button class=\"colab-df-convert\" onclick=\"convertToInteractive('df-1b9903b5-843e-49a7-8be8-1552ae9e20f5')\"\n",
       "              title=\"Convert this dataframe to an interactive table.\"\n",
       "              style=\"display:none;\">\n",
       "        \n",
       "  <svg xmlns=\"http://www.w3.org/2000/svg\" height=\"24px\"viewBox=\"0 0 24 24\"\n",
       "       width=\"24px\">\n",
       "    <path d=\"M0 0h24v24H0V0z\" fill=\"none\"/>\n",
       "    <path d=\"M18.56 5.44l.94 2.06.94-2.06 2.06-.94-2.06-.94-.94-2.06-.94 2.06-2.06.94zm-11 1L8.5 8.5l.94-2.06 2.06-.94-2.06-.94L8.5 2.5l-.94 2.06-2.06.94zm10 10l.94 2.06.94-2.06 2.06-.94-2.06-.94-.94-2.06-.94 2.06-2.06.94z\"/><path d=\"M17.41 7.96l-1.37-1.37c-.4-.4-.92-.59-1.43-.59-.52 0-1.04.2-1.43.59L10.3 9.45l-7.72 7.72c-.78.78-.78 2.05 0 2.83L4 21.41c.39.39.9.59 1.41.59.51 0 1.02-.2 1.41-.59l7.78-7.78 2.81-2.81c.8-.78.8-2.07 0-2.86zM5.41 20L4 18.59l7.72-7.72 1.47 1.35L5.41 20z\"/>\n",
       "  </svg>\n",
       "      </button>\n",
       "      \n",
       "  <style>\n",
       "    .colab-df-container {\n",
       "      display:flex;\n",
       "      flex-wrap:wrap;\n",
       "      gap: 12px;\n",
       "    }\n",
       "\n",
       "    .colab-df-convert {\n",
       "      background-color: #E8F0FE;\n",
       "      border: none;\n",
       "      border-radius: 50%;\n",
       "      cursor: pointer;\n",
       "      display: none;\n",
       "      fill: #1967D2;\n",
       "      height: 32px;\n",
       "      padding: 0 0 0 0;\n",
       "      width: 32px;\n",
       "    }\n",
       "\n",
       "    .colab-df-convert:hover {\n",
       "      background-color: #E2EBFA;\n",
       "      box-shadow: 0px 1px 2px rgba(60, 64, 67, 0.3), 0px 1px 3px 1px rgba(60, 64, 67, 0.15);\n",
       "      fill: #174EA6;\n",
       "    }\n",
       "\n",
       "    [theme=dark] .colab-df-convert {\n",
       "      background-color: #3B4455;\n",
       "      fill: #D2E3FC;\n",
       "    }\n",
       "\n",
       "    [theme=dark] .colab-df-convert:hover {\n",
       "      background-color: #434B5C;\n",
       "      box-shadow: 0px 1px 3px 1px rgba(0, 0, 0, 0.15);\n",
       "      filter: drop-shadow(0px 1px 2px rgba(0, 0, 0, 0.3));\n",
       "      fill: #FFFFFF;\n",
       "    }\n",
       "  </style>\n",
       "\n",
       "      <script>\n",
       "        const buttonEl =\n",
       "          document.querySelector('#df-1b9903b5-843e-49a7-8be8-1552ae9e20f5 button.colab-df-convert');\n",
       "        buttonEl.style.display =\n",
       "          google.colab.kernel.accessAllowed ? 'block' : 'none';\n",
       "\n",
       "        async function convertToInteractive(key) {\n",
       "          const element = document.querySelector('#df-1b9903b5-843e-49a7-8be8-1552ae9e20f5');\n",
       "          const dataTable =\n",
       "            await google.colab.kernel.invokeFunction('convertToInteractive',\n",
       "                                                     [key], {});\n",
       "          if (!dataTable) return;\n",
       "\n",
       "          const docLinkHtml = 'Like what you see? Visit the ' +\n",
       "            '<a target=\"_blank\" href=https://colab.research.google.com/notebooks/data_table.ipynb>data table notebook</a>'\n",
       "            + ' to learn more about interactive tables.';\n",
       "          element.innerHTML = '';\n",
       "          dataTable['output_type'] = 'display_data';\n",
       "          await google.colab.output.renderOutput(dataTable, element);\n",
       "          const docLink = document.createElement('div');\n",
       "          docLink.innerHTML = docLinkHtml;\n",
       "          element.appendChild(docLink);\n",
       "        }\n",
       "      </script>\n",
       "    </div>\n",
       "  </div>\n",
       "  "
      ],
      "text/plain": [
       "      Review                                      \n",
       "       count unique                       top freq\n",
       "Liked                                             \n",
       "0      497    497    Crust is not good.        1  \n",
       "1      499    499    Wow... Loved this place.  1  "
      ]
     },
     "execution_count": 16,
     "metadata": {},
     "output_type": "execute_result"
    }
   ],
   "source": [
    "Rest_rev.groupby('Liked').describe()"
   ]
  },
  {
   "cell_type": "markdown",
   "metadata": {
    "id": "Wv3u8ZD8UG0c"
   },
   "source": [
    "The following conclusions can be drawn from the above result:\n",
    "\n",
    " - The count of negative reviews is 497\n",
    " - The count of positive reviews is 499"
   ]
  },
  {
   "cell_type": "markdown",
   "metadata": {
    "id": "YzwrRXJWUG0d"
   },
   "source": [
    "Let's create a new column to detect how long the text messages are"
   ]
  },
  {
   "cell_type": "code",
   "execution_count": 17,
   "metadata": {
    "colab": {
     "base_uri": "https://localhost:8080/"
    },
    "id": "UV_um9hnUG0d",
    "outputId": "79507dfd-2b87-4588-a916-9e708f088e79"
   },
   "outputs": [
    {
     "name": "stderr",
     "output_type": "stream",
     "text": [
      "<ipython-input-17-b94721c73b2e>:1: SettingWithCopyWarning: \n",
      "A value is trying to be set on a copy of a slice from a DataFrame.\n",
      "Try using .loc[row_indexer,col_indexer] = value instead\n",
      "\n",
      "See the caveats in the documentation: https://pandas.pydata.org/pandas-docs/stable/user_guide/indexing.html#returning-a-view-versus-a-copy\n",
      "  Rest_rev['Length'] = Rest_rev['Review'].apply(len)\n"
     ]
    }
   ],
   "source": [
    "Rest_rev['Length'] = Rest_rev['Review'].apply(len)"
   ]
  },
  {
   "cell_type": "code",
   "execution_count": 18,
   "metadata": {
    "colab": {
     "base_uri": "https://localhost:8080/",
     "height": 363
    },
    "id": "oK3KB4VoUG0d",
    "outputId": "d6c1558a-34ea-46a2-dd1f-fad723278e4d"
   },
   "outputs": [
    {
     "data": {
      "text/html": [
       "\n",
       "  <div id=\"df-dd3a3589-a035-4b13-96e0-5f3e5a060f6c\">\n",
       "    <div class=\"colab-df-container\">\n",
       "      <div>\n",
       "<style scoped>\n",
       "    .dataframe tbody tr th:only-of-type {\n",
       "        vertical-align: middle;\n",
       "    }\n",
       "\n",
       "    .dataframe tbody tr th {\n",
       "        vertical-align: top;\n",
       "    }\n",
       "\n",
       "    .dataframe thead th {\n",
       "        text-align: right;\n",
       "    }\n",
       "</style>\n",
       "<table border=\"1\" class=\"dataframe\">\n",
       "  <thead>\n",
       "    <tr style=\"text-align: right;\">\n",
       "      <th></th>\n",
       "      <th>Review</th>\n",
       "      <th>Liked</th>\n",
       "      <th>Length</th>\n",
       "    </tr>\n",
       "  </thead>\n",
       "  <tbody>\n",
       "    <tr>\n",
       "      <th>0</th>\n",
       "      <td>Wow... Loved this place.</td>\n",
       "      <td>1</td>\n",
       "      <td>24</td>\n",
       "    </tr>\n",
       "    <tr>\n",
       "      <th>1</th>\n",
       "      <td>Crust is not good.</td>\n",
       "      <td>0</td>\n",
       "      <td>18</td>\n",
       "    </tr>\n",
       "    <tr>\n",
       "      <th>2</th>\n",
       "      <td>Not tasty and the texture was just nasty.</td>\n",
       "      <td>0</td>\n",
       "      <td>41</td>\n",
       "    </tr>\n",
       "    <tr>\n",
       "      <th>3</th>\n",
       "      <td>Stopped by during the late May bank holiday off Rick Steve recommendation and loved it.</td>\n",
       "      <td>1</td>\n",
       "      <td>87</td>\n",
       "    </tr>\n",
       "    <tr>\n",
       "      <th>4</th>\n",
       "      <td>The selection on the menu was great and so were the prices.</td>\n",
       "      <td>1</td>\n",
       "      <td>59</td>\n",
       "    </tr>\n",
       "    <tr>\n",
       "      <th>5</th>\n",
       "      <td>Now I am getting angry and I want my damn pho.</td>\n",
       "      <td>0</td>\n",
       "      <td>46</td>\n",
       "    </tr>\n",
       "    <tr>\n",
       "      <th>6</th>\n",
       "      <td>Honeslty it didn't taste THAT fresh.)</td>\n",
       "      <td>0</td>\n",
       "      <td>37</td>\n",
       "    </tr>\n",
       "    <tr>\n",
       "      <th>7</th>\n",
       "      <td>The potatoes were like rubber and you could tell they had been made up ahead of time being kept under a warmer.</td>\n",
       "      <td>0</td>\n",
       "      <td>111</td>\n",
       "    </tr>\n",
       "    <tr>\n",
       "      <th>8</th>\n",
       "      <td>The fries were great too.</td>\n",
       "      <td>1</td>\n",
       "      <td>25</td>\n",
       "    </tr>\n",
       "    <tr>\n",
       "      <th>9</th>\n",
       "      <td>A great touch.</td>\n",
       "      <td>1</td>\n",
       "      <td>14</td>\n",
       "    </tr>\n",
       "  </tbody>\n",
       "</table>\n",
       "</div>\n",
       "      <button class=\"colab-df-convert\" onclick=\"convertToInteractive('df-dd3a3589-a035-4b13-96e0-5f3e5a060f6c')\"\n",
       "              title=\"Convert this dataframe to an interactive table.\"\n",
       "              style=\"display:none;\">\n",
       "        \n",
       "  <svg xmlns=\"http://www.w3.org/2000/svg\" height=\"24px\"viewBox=\"0 0 24 24\"\n",
       "       width=\"24px\">\n",
       "    <path d=\"M0 0h24v24H0V0z\" fill=\"none\"/>\n",
       "    <path d=\"M18.56 5.44l.94 2.06.94-2.06 2.06-.94-2.06-.94-.94-2.06-.94 2.06-2.06.94zm-11 1L8.5 8.5l.94-2.06 2.06-.94-2.06-.94L8.5 2.5l-.94 2.06-2.06.94zm10 10l.94 2.06.94-2.06 2.06-.94-2.06-.94-.94-2.06-.94 2.06-2.06.94z\"/><path d=\"M17.41 7.96l-1.37-1.37c-.4-.4-.92-.59-1.43-.59-.52 0-1.04.2-1.43.59L10.3 9.45l-7.72 7.72c-.78.78-.78 2.05 0 2.83L4 21.41c.39.39.9.59 1.41.59.51 0 1.02-.2 1.41-.59l7.78-7.78 2.81-2.81c.8-.78.8-2.07 0-2.86zM5.41 20L4 18.59l7.72-7.72 1.47 1.35L5.41 20z\"/>\n",
       "  </svg>\n",
       "      </button>\n",
       "      \n",
       "  <style>\n",
       "    .colab-df-container {\n",
       "      display:flex;\n",
       "      flex-wrap:wrap;\n",
       "      gap: 12px;\n",
       "    }\n",
       "\n",
       "    .colab-df-convert {\n",
       "      background-color: #E8F0FE;\n",
       "      border: none;\n",
       "      border-radius: 50%;\n",
       "      cursor: pointer;\n",
       "      display: none;\n",
       "      fill: #1967D2;\n",
       "      height: 32px;\n",
       "      padding: 0 0 0 0;\n",
       "      width: 32px;\n",
       "    }\n",
       "\n",
       "    .colab-df-convert:hover {\n",
       "      background-color: #E2EBFA;\n",
       "      box-shadow: 0px 1px 2px rgba(60, 64, 67, 0.3), 0px 1px 3px 1px rgba(60, 64, 67, 0.15);\n",
       "      fill: #174EA6;\n",
       "    }\n",
       "\n",
       "    [theme=dark] .colab-df-convert {\n",
       "      background-color: #3B4455;\n",
       "      fill: #D2E3FC;\n",
       "    }\n",
       "\n",
       "    [theme=dark] .colab-df-convert:hover {\n",
       "      background-color: #434B5C;\n",
       "      box-shadow: 0px 1px 3px 1px rgba(0, 0, 0, 0.15);\n",
       "      filter: drop-shadow(0px 1px 2px rgba(0, 0, 0, 0.3));\n",
       "      fill: #FFFFFF;\n",
       "    }\n",
       "  </style>\n",
       "\n",
       "      <script>\n",
       "        const buttonEl =\n",
       "          document.querySelector('#df-dd3a3589-a035-4b13-96e0-5f3e5a060f6c button.colab-df-convert');\n",
       "        buttonEl.style.display =\n",
       "          google.colab.kernel.accessAllowed ? 'block' : 'none';\n",
       "\n",
       "        async function convertToInteractive(key) {\n",
       "          const element = document.querySelector('#df-dd3a3589-a035-4b13-96e0-5f3e5a060f6c');\n",
       "          const dataTable =\n",
       "            await google.colab.kernel.invokeFunction('convertToInteractive',\n",
       "                                                     [key], {});\n",
       "          if (!dataTable) return;\n",
       "\n",
       "          const docLinkHtml = 'Like what you see? Visit the ' +\n",
       "            '<a target=\"_blank\" href=https://colab.research.google.com/notebooks/data_table.ipynb>data table notebook</a>'\n",
       "            + ' to learn more about interactive tables.';\n",
       "          element.innerHTML = '';\n",
       "          dataTable['output_type'] = 'display_data';\n",
       "          await google.colab.output.renderOutput(dataTable, element);\n",
       "          const docLink = document.createElement('div');\n",
       "          docLink.innerHTML = docLinkHtml;\n",
       "          element.appendChild(docLink);\n",
       "        }\n",
       "      </script>\n",
       "    </div>\n",
       "  </div>\n",
       "  "
      ],
      "text/plain": [
       "                                                                                                            Review  \\\n",
       "0  Wow... Loved this place.                                                                                          \n",
       "1  Crust is not good.                                                                                                \n",
       "2  Not tasty and the texture was just nasty.                                                                         \n",
       "3  Stopped by during the late May bank holiday off Rick Steve recommendation and loved it.                           \n",
       "4  The selection on the menu was great and so were the prices.                                                       \n",
       "5  Now I am getting angry and I want my damn pho.                                                                    \n",
       "6  Honeslty it didn't taste THAT fresh.)                                                                             \n",
       "7  The potatoes were like rubber and you could tell they had been made up ahead of time being kept under a warmer.   \n",
       "8  The fries were great too.                                                                                         \n",
       "9  A great touch.                                                                                                    \n",
       "\n",
       "   Liked  Length  \n",
       "0  1      24      \n",
       "1  0      18      \n",
       "2  0      41      \n",
       "3  1      87      \n",
       "4  1      59      \n",
       "5  0      46      \n",
       "6  0      37      \n",
       "7  0      111     \n",
       "8  1      25      \n",
       "9  1      14      "
      ]
     },
     "execution_count": 18,
     "metadata": {},
     "output_type": "execute_result"
    }
   ],
   "source": [
    "Rest_rev.head(10)"
   ]
  },
  {
   "cell_type": "markdown",
   "metadata": {
    "id": "Sevcr5LuUG0e"
   },
   "source": [
    "As we can observe that there is no specific pattern of length that determines whether a review is positive or negative, so the legnth of a review does not help much in determining the sentiment of the review for this use case"
   ]
  },
  {
   "cell_type": "markdown",
   "metadata": {
    "id": "if7JyUCjUG0e"
   },
   "source": [
    "## Data Visualization"
   ]
  },
  {
   "cell_type": "code",
   "execution_count": 19,
   "metadata": {
    "id": "Zg3X41JLUG0f"
   },
   "outputs": [],
   "source": [
    "from matplotlib import pyplot as plt\n",
    "import seaborn as sns\n",
    "\n",
    "%matplotlib inline"
   ]
  },
  {
   "cell_type": "markdown",
   "metadata": {
    "id": "IX3KL9tdUG0f"
   },
   "source": [
    "#### Plotting histogram"
   ]
  },
  {
   "cell_type": "code",
   "execution_count": 20,
   "metadata": {
    "colab": {
     "base_uri": "https://localhost:8080/",
     "height": 296
    },
    "id": "G5hUsn-RUG0f",
    "outputId": "c84d3d75-b899-4f88-ec4f-9b12e721998f"
   },
   "outputs": [
    {
     "data": {
      "text/plain": [
       "Text(0.5, 0, 'Length of Review')"
      ]
     },
     "execution_count": 20,
     "metadata": {},
     "output_type": "execute_result"
    },
    {
     "data": {
      "image/png": "[encoded data removed]",
      "text/plain": [
       "<Figure size 432x288 with 1 Axes>"
      ]
     },
     "metadata": {
      "needs_background": "light"
     },
     "output_type": "display_data"
    }
   ],
   "source": [
    "Rest_rev['Length'].plot(bins=100, kind='hist')\n",
    "plt.xlabel('Length of Review')"
   ]
  },
  {
   "cell_type": "code",
   "execution_count": 21,
   "metadata": {
    "colab": {
     "base_uri": "https://localhost:8080/",
     "height": 378
    },
    "id": "57C3W0j3UG0g",
    "outputId": "cb93d169-f5c2-4ea2-bac3-292ac8aaed36"
   },
   "outputs": [
    {
     "data": {
      "text/plain": [
       "array([<Axes: title={'center': '0'}>, <Axes: title={'center': '1'}>],\n",
       "      dtype=object)"
      ]
     },
     "execution_count": 21,
     "metadata": {},
     "output_type": "execute_result"
    },
    {
     "data": {
      "image/png": "[encoded data removed]",
      "text/plain": [
       "<Figure size 1080x360 with 2 Axes>"
      ]
     },
     "metadata": {
      "needs_background": "light"
     },
     "output_type": "display_data"
    }
   ],
   "source": [
    "Rest_rev.hist(column='Length', by='Liked', bins=50, figsize=(15,5))"
   ]
  },
  {
   "cell_type": "markdown",
   "metadata": {
    "id": "2TPkFtDAUG0g"
   },
   "source": [
    "It can be observed from the above histogram that most of the Reviews are having lengths ranging from **20** to **60**"
   ]
  },
  {
   "cell_type": "code",
   "execution_count": 22,
   "metadata": {
    "colab": {
     "base_uri": "https://localhost:8080/"
    },
    "id": "7grNyPv6UG0h",
    "outputId": "e6998bdd-8892-4b99-81f6-a05e4b335b82"
   },
   "outputs": [
    {
     "data": {
      "text/plain": [
       "count    996.000000\n",
       "mean     58.459839 \n",
       "std      32.341292 \n",
       "min      11.000000 \n",
       "25%      33.000000 \n",
       "50%      51.000000 \n",
       "75%      80.000000 \n",
       "max      149.000000\n",
       "Name: Length, dtype: float64"
      ]
     },
     "execution_count": 22,
     "metadata": {},
     "output_type": "execute_result"
    }
   ],
   "source": [
    "Rest_rev.Length.describe()"
   ]
  },
  {
   "cell_type": "markdown",
   "metadata": {
    "id": "-vhtxPPPUG0h"
   },
   "source": [
    "The following conclusions can be drawn from the above result:\n",
    "\n",
    " - The mean length of reviews is 58\n",
    " - The minimum length of a reviews is 11\n",
    " - The maximum length of a review is 149"
   ]
  },
  {
   "cell_type": "markdown",
   "metadata": {
    "id": "uaMuqtvzUG0h"
   },
   "source": [
    "#### Plotting countplot"
   ]
  },
  {
   "cell_type": "code",
   "execution_count": 23,
   "metadata": {
    "colab": {
     "base_uri": "https://localhost:8080/",
     "height": 366
    },
    "id": "HRCCYF5OUG0i",
    "outputId": "fdaaa9a9-a008-4073-e2d7-c5eaa439d616"
   },
   "outputs": [
    {
     "name": "stdout",
     "output_type": "stream",
     "text": [
      "Value count for feature Liked\n",
      "1    499\n",
      "0    497\n",
      "Name: Liked, dtype: int64\n"
     ]
    },
    {
     "data": {
      "text/plain": [
       "<Axes: xlabel='Liked', ylabel='count'>"
      ]
     },
     "execution_count": 23,
     "metadata": {},
     "output_type": "execute_result"
    },
    {
     "data": {
      "image/png": "[encoded data removed]",
      "text/plain": [
       "<Figure size 288x288 with 1 Axes>"
      ]
     },
     "metadata": {
      "needs_background": "light"
     },
     "output_type": "display_data"
    }
   ],
   "source": [
    "plt.figure(figsize=(4,4))\n",
    "print(\"Value count for feature Liked\")\n",
    "print(Rest_rev['Liked'].value_counts())\n",
    "sns.countplot(x='Liked',data=Rest_rev)"
   ]
  },
  {
   "cell_type": "markdown",
   "metadata": {
    "id": "CbcrCDnNUG0i"
   },
   "source": [
    "It can be observed that the dataframe is balanced"
   ]
  },
  {
   "cell_type": "markdown",
   "metadata": {
    "id": "VT--yOUYUG0j"
   },
   "source": [
    "**Cleaning the punctuation marks**"
   ]
  },
  {
   "cell_type": "code",
   "execution_count": 24,
   "metadata": {
    "id": "qO-o-Y-QUG0j"
   },
   "outputs": [],
   "source": [
    "import re\n",
    "import string"
   ]
  },
  {
   "cell_type": "markdown",
   "metadata": {
    "id": "MEfM0x6JUG0j"
   },
   "source": [
    "List of punctuation marks to be removed"
   ]
  },
  {
   "cell_type": "code",
   "execution_count": 25,
   "metadata": {
    "colab": {
     "base_uri": "https://localhost:8080/"
    },
    "id": "kKsAAR-PUG0k",
    "outputId": "e7670ae9-d4ed-4181-e492-95ec729debaa"
   },
   "outputs": [
    {
     "name": "stdout",
     "output_type": "stream",
     "text": [
      "['!', '\"', '#', '$', '%', '&', \"'\", '(', ')', '*', '+', ',', '-', '.', '/', ':', ';', '<', '=', '>', '?', '@', '[', '\\\\', ']', '^', '_', '`', '{', '|', '}', '~']\n"
     ]
    }
   ],
   "source": [
    "print(list(string.punctuation))"
   ]
  },
  {
   "cell_type": "code",
   "execution_count": 26,
   "metadata": {
    "id": "Nfuli-ClUG0k"
   },
   "outputs": [],
   "source": [
    "def remove_punctuation(text):\n",
    "    no_punct = \"\".join([c if c not in string.punctuation else \" \" for c in text])\n",
    "    return no_punct"
   ]
  },
  {
   "cell_type": "code",
   "execution_count": 27,
   "metadata": {
    "id": "ME4hw-OxUG0l"
   },
   "outputs": [],
   "source": [
    "Rest_rev['Review'] = Rest_rev['Review'].apply(lambda x: remove_punctuation(x))"
   ]
  },
  {
   "cell_type": "markdown",
   "metadata": {
    "id": "CLJ099g1UG0l"
   },
   "source": [
    "Converting all uppercase characters to lowercase"
   ]
  },
  {
   "cell_type": "code",
   "execution_count": 28,
   "metadata": {
    "id": "5QBIjkDtUG0l"
   },
   "outputs": [],
   "source": [
    "Rest_rev['Review'] = Rest_rev['Review'].str.lower()"
   ]
  },
  {
   "cell_type": "markdown",
   "metadata": {
    "id": "LFfFb2ivUG0l"
   },
   "source": [
    "Eliminating the numbers from the **Review** column as they do not contribute in predicting the sentiment of a review"
   ]
  },
  {
   "cell_type": "code",
   "execution_count": 29,
   "metadata": {
    "id": "T--8CymPUG0m"
   },
   "outputs": [],
   "source": [
    "Rest_rev['Review'] = [re.sub('\\d+', '', e) for e in Rest_rev['Review']]"
   ]
  },
  {
   "cell_type": "markdown",
   "metadata": {
    "id": "q08kJYTZUG0m"
   },
   "source": [
    "Removing unnecessary spaces from the text"
   ]
  },
  {
   "cell_type": "code",
   "execution_count": 30,
   "metadata": {
    "id": "ooEffQv_UG0m"
   },
   "outputs": [],
   "source": [
    "Rest_rev['Review'] = [re.sub('\\s+', ' ', e) for e in Rest_rev['Review']]"
   ]
  },
  {
   "cell_type": "markdown",
   "metadata": {
    "id": "3-X0c_ViUG0n"
   },
   "source": [
    "Removing leading or trailing spaces from the text"
   ]
  },
  {
   "cell_type": "code",
   "execution_count": 31,
   "metadata": {
    "id": "HpEF0hZcUG0n"
   },
   "outputs": [],
   "source": [
    "Rest_rev['Review'] = Rest_rev['Review'].str.strip()"
   ]
  },
  {
   "cell_type": "markdown",
   "metadata": {
    "id": "LrQR7j3XUG0n"
   },
   "source": [
    "#### Importing nltk"
   ]
  },
  {
   "cell_type": "code",
   "execution_count": 32,
   "metadata": {
    "colab": {
     "base_uri": "https://localhost:8080/"
    },
    "id": "HYoVmoeXUG0o",
    "outputId": "92a0454a-4c60-4795-ede2-d5cbf6d328eb"
   },
   "outputs": [
    {
     "name": "stderr",
     "output_type": "stream",
     "text": [
      "[nltk_data] Downloading package punkt to /root/nltk_data...\n",
      "[nltk_data]   Unzipping tokenizers/punkt.zip.\n"
     ]
    },
    {
     "data": {
      "text/plain": [
       "True"
      ]
     },
     "execution_count": 32,
     "metadata": {},
     "output_type": "execute_result"
    }
   ],
   "source": [
    "import nltk\n",
    "nltk.download('punkt')"
   ]
  },
  {
   "cell_type": "markdown",
   "metadata": {
    "id": "NbTkTcS8UG0o"
   },
   "source": [
    "#### Tokenization"
   ]
  },
  {
   "cell_type": "code",
   "execution_count": 33,
   "metadata": {
    "id": "CNFE72rcUG0o"
   },
   "outputs": [],
   "source": [
    "from nltk.tokenize import word_tokenize"
   ]
  },
  {
   "cell_type": "code",
   "execution_count": 34,
   "metadata": {
    "id": "ITm3_S-IUG0p"
   },
   "outputs": [],
   "source": [
    "Rest_rev['Review'] = Rest_rev['Review'].apply(word_tokenize)"
   ]
  },
  {
   "cell_type": "code",
   "execution_count": 35,
   "metadata": {
    "colab": {
     "base_uri": "https://localhost:8080/",
     "height": 206
    },
    "id": "IFQLuBUrUG0p",
    "outputId": "fee80e46-28c9-4ff0-9286-67e0a038f944"
   },
   "outputs": [
    {
     "data": {
      "text/html": [
       "\n",
       "  <div id=\"df-67f2cef8-d6c8-4cd2-a28c-fee210c7403c\">\n",
       "    <div class=\"colab-df-container\">\n",
       "      <div>\n",
       "<style scoped>\n",
       "    .dataframe tbody tr th:only-of-type {\n",
       "        vertical-align: middle;\n",
       "    }\n",
       "\n",
       "    .dataframe tbody tr th {\n",
       "        vertical-align: top;\n",
       "    }\n",
       "\n",
       "    .dataframe thead th {\n",
       "        text-align: right;\n",
       "    }\n",
       "</style>\n",
       "<table border=\"1\" class=\"dataframe\">\n",
       "  <thead>\n",
       "    <tr style=\"text-align: right;\">\n",
       "      <th></th>\n",
       "      <th>Review</th>\n",
       "      <th>Liked</th>\n",
       "      <th>Length</th>\n",
       "    </tr>\n",
       "  </thead>\n",
       "  <tbody>\n",
       "    <tr>\n",
       "      <th>0</th>\n",
       "      <td>[wow, loved, this, place]</td>\n",
       "      <td>1</td>\n",
       "      <td>24</td>\n",
       "    </tr>\n",
       "    <tr>\n",
       "      <th>1</th>\n",
       "      <td>[crust, is, not, good]</td>\n",
       "      <td>0</td>\n",
       "      <td>18</td>\n",
       "    </tr>\n",
       "    <tr>\n",
       "      <th>2</th>\n",
       "      <td>[not, tasty, and, the, texture, was, just, nasty]</td>\n",
       "      <td>0</td>\n",
       "      <td>41</td>\n",
       "    </tr>\n",
       "    <tr>\n",
       "      <th>3</th>\n",
       "      <td>[stopped, by, during, the, late, may, bank, holiday, off, rick, steve, recommendation, and, loved, it]</td>\n",
       "      <td>1</td>\n",
       "      <td>87</td>\n",
       "    </tr>\n",
       "    <tr>\n",
       "      <th>4</th>\n",
       "      <td>[the, selection, on, the, menu, was, great, and, so, were, the, prices]</td>\n",
       "      <td>1</td>\n",
       "      <td>59</td>\n",
       "    </tr>\n",
       "  </tbody>\n",
       "</table>\n",
       "</div>\n",
       "      <button class=\"colab-df-convert\" onclick=\"convertToInteractive('df-67f2cef8-d6c8-4cd2-a28c-fee210c7403c')\"\n",
       "              title=\"Convert this dataframe to an interactive table.\"\n",
       "              style=\"display:none;\">\n",
       "        \n",
       "  <svg xmlns=\"http://www.w3.org/2000/svg\" height=\"24px\"viewBox=\"0 0 24 24\"\n",
       "       width=\"24px\">\n",
       "    <path d=\"M0 0h24v24H0V0z\" fill=\"none\"/>\n",
       "    <path d=\"M18.56 5.44l.94 2.06.94-2.06 2.06-.94-2.06-.94-.94-2.06-.94 2.06-2.06.94zm-11 1L8.5 8.5l.94-2.06 2.06-.94-2.06-.94L8.5 2.5l-.94 2.06-2.06.94zm10 10l.94 2.06.94-2.06 2.06-.94-2.06-.94-.94-2.06-.94 2.06-2.06.94z\"/><path d=\"M17.41 7.96l-1.37-1.37c-.4-.4-.92-.59-1.43-.59-.52 0-1.04.2-1.43.59L10.3 9.45l-7.72 7.72c-.78.78-.78 2.05 0 2.83L4 21.41c.39.39.9.59 1.41.59.51 0 1.02-.2 1.41-.59l7.78-7.78 2.81-2.81c.8-.78.8-2.07 0-2.86zM5.41 20L4 18.59l7.72-7.72 1.47 1.35L5.41 20z\"/>\n",
       "  </svg>\n",
       "      </button>\n",
       "      \n",
       "  <style>\n",
       "    .colab-df-container {\n",
       "      display:flex;\n",
       "      flex-wrap:wrap;\n",
       "      gap: 12px;\n",
       "    }\n",
       "\n",
       "    .colab-df-convert {\n",
       "      background-color: #E8F0FE;\n",
       "      border: none;\n",
       "      border-radius: 50%;\n",
       "      cursor: pointer;\n",
       "      display: none;\n",
       "      fill: #1967D2;\n",
       "      height: 32px;\n",
       "      padding: 0 0 0 0;\n",
       "      width: 32px;\n",
       "    }\n",
       "\n",
       "    .colab-df-convert:hover {\n",
       "      background-color: #E2EBFA;\n",
       "      box-shadow: 0px 1px 2px rgba(60, 64, 67, 0.3), 0px 1px 3px 1px rgba(60, 64, 67, 0.15);\n",
       "      fill: #174EA6;\n",
       "    }\n",
       "\n",
       "    [theme=dark] .colab-df-convert {\n",
       "      background-color: #3B4455;\n",
       "      fill: #D2E3FC;\n",
       "    }\n",
       "\n",
       "    [theme=dark] .colab-df-convert:hover {\n",
       "      background-color: #434B5C;\n",
       "      box-shadow: 0px 1px 3px 1px rgba(0, 0, 0, 0.15);\n",
       "      filter: drop-shadow(0px 1px 2px rgba(0, 0, 0, 0.3));\n",
       "      fill: #FFFFFF;\n",
       "    }\n",
       "  </style>\n",
       "\n",
       "      <script>\n",
       "        const buttonEl =\n",
       "          document.querySelector('#df-67f2cef8-d6c8-4cd2-a28c-fee210c7403c button.colab-df-convert');\n",
       "        buttonEl.style.display =\n",
       "          google.colab.kernel.accessAllowed ? 'block' : 'none';\n",
       "\n",
       "        async function convertToInteractive(key) {\n",
       "          const element = document.querySelector('#df-67f2cef8-d6c8-4cd2-a28c-fee210c7403c');\n",
       "          const dataTable =\n",
       "            await google.colab.kernel.invokeFunction('convertToInteractive',\n",
       "                                                     [key], {});\n",
       "          if (!dataTable) return;\n",
       "\n",
       "          const docLinkHtml = 'Like what you see? Visit the ' +\n",
       "            '<a target=\"_blank\" href=https://colab.research.google.com/notebooks/data_table.ipynb>data table notebook</a>'\n",
       "            + ' to learn more about interactive tables.';\n",
       "          element.innerHTML = '';\n",
       "          dataTable['output_type'] = 'display_data';\n",
       "          await google.colab.output.renderOutput(dataTable, element);\n",
       "          const docLink = document.createElement('div');\n",
       "          docLink.innerHTML = docLinkHtml;\n",
       "          element.appendChild(docLink);\n",
       "        }\n",
       "      </script>\n",
       "    </div>\n",
       "  </div>\n",
       "  "
      ],
      "text/plain": [
       "                                                                                                   Review  \\\n",
       "0  [wow, loved, this, place]                                                                                \n",
       "1  [crust, is, not, good]                                                                                   \n",
       "2  [not, tasty, and, the, texture, was, just, nasty]                                                        \n",
       "3  [stopped, by, during, the, late, may, bank, holiday, off, rick, steve, recommendation, and, loved, it]   \n",
       "4  [the, selection, on, the, menu, was, great, and, so, were, the, prices]                                  \n",
       "\n",
       "   Liked  Length  \n",
       "0  1      24      \n",
       "1  0      18      \n",
       "2  0      41      \n",
       "3  1      87      \n",
       "4  1      59      "
      ]
     },
     "execution_count": 35,
     "metadata": {},
     "output_type": "execute_result"
    }
   ],
   "source": [
    "Rest_rev.head()"
   ]
  },
  {
   "cell_type": "markdown",
   "metadata": {
    "id": "hG4iDxsvUG0q"
   },
   "source": [
    "The **Review** column has been tokenized i.e. split into tokens/pieces"
   ]
  },
  {
   "cell_type": "markdown",
   "metadata": {
    "id": "-wz1BpxmUG0r"
   },
   "source": [
    "#### Removing the stopwords"
   ]
  },
  {
   "cell_type": "code",
   "execution_count": 36,
   "metadata": {
    "colab": {
     "base_uri": "https://localhost:8080/"
    },
    "id": "fwW-zNy0UG0r",
    "outputId": "7a8435bd-2576-4e53-8c82-f5047ed63524"
   },
   "outputs": [
    {
     "name": "stderr",
     "output_type": "stream",
     "text": [
      "[nltk_data] Downloading package stopwords to /root/nltk_data...\n",
      "[nltk_data]   Unzipping corpora/stopwords.zip.\n"
     ]
    }
   ],
   "source": [
    "nltk.download('stopwords')\n",
    "from nltk.corpus import stopwords"
   ]
  },
  {
   "cell_type": "markdown",
   "metadata": {
    "id": "zgY2ZXEwUG0s"
   },
   "source": [
    "Loading the **English** language stopwords"
   ]
  },
  {
   "cell_type": "code",
   "execution_count": 37,
   "metadata": {
    "id": "pH1tRK4NUG0s"
   },
   "outputs": [],
   "source": [
    "stopwords_english = stopwords.words('english')"
   ]
  },
  {
   "cell_type": "markdown",
   "metadata": {
    "id": "kPEkQHHOUG0s"
   },
   "source": [
    "List of english stopwords"
   ]
  },
  {
   "cell_type": "code",
   "execution_count": 38,
   "metadata": {
    "colab": {
     "base_uri": "https://localhost:8080/"
    },
    "id": "G3ZMtLtlUG0t",
    "outputId": "d49e20f5-40a5-4dd0-9c01-c81ae333e7e1"
   },
   "outputs": [
    {
     "name": "stdout",
     "output_type": "stream",
     "text": [
      "['i', 'me', 'my', 'myself', 'we', 'our', 'ours', 'ourselves', 'you', \"you're\", \"you've\", \"you'll\", \"you'd\", 'your', 'yours', 'yourself', 'yourselves', 'he', 'him', 'his', 'himself', 'she', \"she's\", 'her', 'hers', 'herself', 'it', \"it's\", 'its', 'itself', 'they', 'them', 'their', 'theirs', 'themselves', 'what', 'which', 'who', 'whom', 'this', 'that', \"that'll\", 'these', 'those', 'am', 'is', 'are', 'was', 'were', 'be', 'been', 'being', 'have', 'has', 'had', 'having', 'do', 'does', 'did', 'doing', 'a', 'an', 'the', 'and', 'but', 'if', 'or', 'because', 'as', 'until', 'while', 'of', 'at', 'by', 'for', 'with', 'about', 'against', 'between', 'into', 'through', 'during', 'before', 'after', 'above', 'below', 'to', 'from', 'up', 'down', 'in', 'out', 'on', 'off', 'over', 'under', 'again', 'further', 'then', 'once', 'here', 'there', 'when', 'where', 'why', 'how', 'all', 'any', 'both', 'each', 'few', 'more', 'most', 'other', 'some', 'such', 'no', 'nor', 'not', 'only', 'own', 'same', 'so', 'than', 'too', 'very', 's', 't', 'can', 'will', 'just', 'don', \"don't\", 'should', \"should've\", 'now', 'd', 'll', 'm', 'o', 're', 've', 'y', 'ain', 'aren', \"aren't\", 'couldn', \"couldn't\", 'didn', \"didn't\", 'doesn', \"doesn't\", 'hadn', \"hadn't\", 'hasn', \"hasn't\", 'haven', \"haven't\", 'isn', \"isn't\", 'ma', 'mightn', \"mightn't\", 'mustn', \"mustn't\", 'needn', \"needn't\", 'shan', \"shan't\", 'shouldn', \"shouldn't\", 'wasn', \"wasn't\", 'weren', \"weren't\", 'won', \"won't\", 'wouldn', \"wouldn't\"]\n"
     ]
    }
   ],
   "source": [
    "print(stopwords_english)"
   ]
  },
  {
   "cell_type": "markdown",
   "metadata": {
    "id": "WIr3zR4-UG0t"
   },
   "source": [
    "Certain words in the above including **not**, **until**, **while**, **against** etc may contribute to the sentiment of a review. So they may need to be retained in the review and thus need to be removed from the above list"
   ]
  },
  {
   "cell_type": "code",
   "execution_count": 39,
   "metadata": {
    "id": "OKP0oV8vUG0t"
   },
   "outputs": [],
   "source": [
    "stopwords_english_set = set(stopwords_english)"
   ]
  },
  {
   "cell_type": "code",
   "execution_count": 40,
   "metadata": {
    "id": "7yFEh4eLUG0u"
   },
   "outputs": [],
   "source": [
    "stopwords_english_set = stopwords_english_set.difference({'until', 'while', 'against', 'between', 'during', 'before', 'after', 'above', 'below', 'not'})"
   ]
  },
  {
   "cell_type": "code",
   "execution_count": 41,
   "metadata": {
    "id": "tuSp6pwuUG0u"
   },
   "outputs": [],
   "source": [
    "stopwords_english = list(stopwords_english_set)"
   ]
  },
  {
   "cell_type": "code",
   "execution_count": 42,
   "metadata": {
    "colab": {
     "base_uri": "https://localhost:8080/"
    },
    "id": "-rUT58ndUG0u",
    "outputId": "72970b34-9928-4ac6-f016-bd8493b7dd91"
   },
   "outputs": [
    {
     "name": "stdout",
     "output_type": "stream",
     "text": [
      "['all', 'you', 'she', 'again', 'under', 'm', 'in', 'myself', 'yourself', 'only', 'was', 'each', 'other', 'down', 'theirs', 'further', 'mustn', 'we', 'any', 'is', 'yours', \"doesn't\", 'his', 'yourselves', 'on', \"hadn't\", \"you'd\", 'most', 'am', \"it's\", 'll', 'which', \"shouldn't\", 'they', 'few', 'hasn', 'very', 'who', 'having', 'why', 'wouldn', 'shouldn', 'if', 'couldn', 'about', 'herself', \"wasn't\", 'does', 're', 'once', 'ma', 'hadn', \"weren't\", 'itself', \"isn't\", \"needn't\", 'over', \"you've\", 'that', 'an', 'of', 'do', 'them', 'were', 'through', \"didn't\", 'me', 'than', 'nor', 'same', 'y', \"she's\", 'where', 'won', 'shan', 'now', 'he', 'but', 'both', 'her', 'because', 'its', 'doing', \"you're\", 'wasn', 'your', 'their', 'didn', 'has', 'will', 'with', \"that'll\", 'up', 'those', 'some', 'needn', \"haven't\", 'from', 'ain', 'so', 'o', 'into', 'haven', 'when', 'being', 'how', 'then', 'been', 'more', 'aren', 'it', 'too', 'as', 'these', 'him', 'out', \"you'll\", 'such', 'don', 'i', 'are', 'themselves', 'have', 'hers', 'had', 't', 'isn', \"mightn't\", \"couldn't\", 'off', 'should', \"shan't\", 'and', 's', 'by', 'just', 'whom', \"don't\", \"hasn't\", 'or', 'at', 'there', \"wouldn't\", 'what', 'ours', 'for', 'my', 'can', 've', 'own', 'our', 'this', 'weren', 'a', 'mightn', \"aren't\", \"won't\", \"should've\", 'here', 'no', 'did', 'himself', 'doesn', 'the', 'to', 'ourselves', 'd', \"mustn't\", 'be']\n"
     ]
    }
   ],
   "source": [
    "print(stopwords_english)"
   ]
  },
  {
   "cell_type": "code",
   "execution_count": 43,
   "metadata": {
    "id": "NAqjxJ_fUG0v"
   },
   "outputs": [],
   "source": [
    "def remove_stopwords(text):        \n",
    "    words = [w for w in text if w not in stopwords_english]\n",
    "    return words"
   ]
  },
  {
   "cell_type": "code",
   "execution_count": 44,
   "metadata": {
    "id": "IjwN6zm4UG0v"
   },
   "outputs": [],
   "source": [
    "Rest_rev['Review'] = Rest_rev['Review'].apply(lambda x: remove_stopwords(x))"
   ]
  },
  {
   "cell_type": "code",
   "execution_count": 45,
   "metadata": {
    "colab": {
     "base_uri": "https://localhost:8080/",
     "height": 206
    },
    "id": "hoz1ayl4UG0v",
    "outputId": "df2634fa-3889-403e-b9cc-fd04ba958c44"
   },
   "outputs": [
    {
     "data": {
      "text/html": [
       "\n",
       "  <div id=\"df-06054850-fdfd-49f2-9f28-c6102baf86f9\">\n",
       "    <div class=\"colab-df-container\">\n",
       "      <div>\n",
       "<style scoped>\n",
       "    .dataframe tbody tr th:only-of-type {\n",
       "        vertical-align: middle;\n",
       "    }\n",
       "\n",
       "    .dataframe tbody tr th {\n",
       "        vertical-align: top;\n",
       "    }\n",
       "\n",
       "    .dataframe thead th {\n",
       "        text-align: right;\n",
       "    }\n",
       "</style>\n",
       "<table border=\"1\" class=\"dataframe\">\n",
       "  <thead>\n",
       "    <tr style=\"text-align: right;\">\n",
       "      <th></th>\n",
       "      <th>Review</th>\n",
       "      <th>Liked</th>\n",
       "      <th>Length</th>\n",
       "    </tr>\n",
       "  </thead>\n",
       "  <tbody>\n",
       "    <tr>\n",
       "      <th>0</th>\n",
       "      <td>[wow, loved, place]</td>\n",
       "      <td>1</td>\n",
       "      <td>24</td>\n",
       "    </tr>\n",
       "    <tr>\n",
       "      <th>1</th>\n",
       "      <td>[crust, not, good]</td>\n",
       "      <td>0</td>\n",
       "      <td>18</td>\n",
       "    </tr>\n",
       "    <tr>\n",
       "      <th>2</th>\n",
       "      <td>[not, tasty, texture, nasty]</td>\n",
       "      <td>0</td>\n",
       "      <td>41</td>\n",
       "    </tr>\n",
       "    <tr>\n",
       "      <th>3</th>\n",
       "      <td>[stopped, during, late, may, bank, holiday, rick, steve, recommendation, loved]</td>\n",
       "      <td>1</td>\n",
       "      <td>87</td>\n",
       "    </tr>\n",
       "    <tr>\n",
       "      <th>4</th>\n",
       "      <td>[selection, menu, great, prices]</td>\n",
       "      <td>1</td>\n",
       "      <td>59</td>\n",
       "    </tr>\n",
       "  </tbody>\n",
       "</table>\n",
       "</div>\n",
       "      <button class=\"colab-df-convert\" onclick=\"convertToInteractive('df-06054850-fdfd-49f2-9f28-c6102baf86f9')\"\n",
       "              title=\"Convert this dataframe to an interactive table.\"\n",
       "              style=\"display:none;\">\n",
       "        \n",
       "  <svg xmlns=\"http://www.w3.org/2000/svg\" height=\"24px\"viewBox=\"0 0 24 24\"\n",
       "       width=\"24px\">\n",
       "    <path d=\"M0 0h24v24H0V0z\" fill=\"none\"/>\n",
       "    <path d=\"M18.56 5.44l.94 2.06.94-2.06 2.06-.94-2.06-.94-.94-2.06-.94 2.06-2.06.94zm-11 1L8.5 8.5l.94-2.06 2.06-.94-2.06-.94L8.5 2.5l-.94 2.06-2.06.94zm10 10l.94 2.06.94-2.06 2.06-.94-2.06-.94-.94-2.06-.94 2.06-2.06.94z\"/><path d=\"M17.41 7.96l-1.37-1.37c-.4-.4-.92-.59-1.43-.59-.52 0-1.04.2-1.43.59L10.3 9.45l-7.72 7.72c-.78.78-.78 2.05 0 2.83L4 21.41c.39.39.9.59 1.41.59.51 0 1.02-.2 1.41-.59l7.78-7.78 2.81-2.81c.8-.78.8-2.07 0-2.86zM5.41 20L4 18.59l7.72-7.72 1.47 1.35L5.41 20z\"/>\n",
       "  </svg>\n",
       "      </button>\n",
       "      \n",
       "  <style>\n",
       "    .colab-df-container {\n",
       "      display:flex;\n",
       "      flex-wrap:wrap;\n",
       "      gap: 12px;\n",
       "    }\n",
       "\n",
       "    .colab-df-convert {\n",
       "      background-color: #E8F0FE;\n",
       "      border: none;\n",
       "      border-radius: 50%;\n",
       "      cursor: pointer;\n",
       "      display: none;\n",
       "      fill: #1967D2;\n",
       "      height: 32px;\n",
       "      padding: 0 0 0 0;\n",
       "      width: 32px;\n",
       "    }\n",
       "\n",
       "    .colab-df-convert:hover {\n",
       "      background-color: #E2EBFA;\n",
       "      box-shadow: 0px 1px 2px rgba(60, 64, 67, 0.3), 0px 1px 3px 1px rgba(60, 64, 67, 0.15);\n",
       "      fill: #174EA6;\n",
       "    }\n",
       "\n",
       "    [theme=dark] .colab-df-convert {\n",
       "      background-color: #3B4455;\n",
       "      fill: #D2E3FC;\n",
       "    }\n",
       "\n",
       "    [theme=dark] .colab-df-convert:hover {\n",
       "      background-color: #434B5C;\n",
       "      box-shadow: 0px 1px 3px 1px rgba(0, 0, 0, 0.15);\n",
       "      filter: drop-shadow(0px 1px 2px rgba(0, 0, 0, 0.3));\n",
       "      fill: #FFFFFF;\n",
       "    }\n",
       "  </style>\n",
       "\n",
       "      <script>\n",
       "        const buttonEl =\n",
       "          document.querySelector('#df-06054850-fdfd-49f2-9f28-c6102baf86f9 button.colab-df-convert');\n",
       "        buttonEl.style.display =\n",
       "          google.colab.kernel.accessAllowed ? 'block' : 'none';\n",
       "\n",
       "        async function convertToInteractive(key) {\n",
       "          const element = document.querySelector('#df-06054850-fdfd-49f2-9f28-c6102baf86f9');\n",
       "          const dataTable =\n",
       "            await google.colab.kernel.invokeFunction('convertToInteractive',\n",
       "                                                     [key], {});\n",
       "          if (!dataTable) return;\n",
       "\n",
       "          const docLinkHtml = 'Like what you see? Visit the ' +\n",
       "            '<a target=\"_blank\" href=https://colab.research.google.com/notebooks/data_table.ipynb>data table notebook</a>'\n",
       "            + ' to learn more about interactive tables.';\n",
       "          element.innerHTML = '';\n",
       "          dataTable['output_type'] = 'display_data';\n",
       "          await google.colab.output.renderOutput(dataTable, element);\n",
       "          const docLink = document.createElement('div');\n",
       "          docLink.innerHTML = docLinkHtml;\n",
       "          element.appendChild(docLink);\n",
       "        }\n",
       "      </script>\n",
       "    </div>\n",
       "  </div>\n",
       "  "
      ],
      "text/plain": [
       "                                                                            Review  \\\n",
       "0  [wow, loved, place]                                                               \n",
       "1  [crust, not, good]                                                                \n",
       "2  [not, tasty, texture, nasty]                                                      \n",
       "3  [stopped, during, late, may, bank, holiday, rick, steve, recommendation, loved]   \n",
       "4  [selection, menu, great, prices]                                                  \n",
       "\n",
       "   Liked  Length  \n",
       "0  1      24      \n",
       "1  0      18      \n",
       "2  0      41      \n",
       "3  1      87      \n",
       "4  1      59      "
      ]
     },
     "execution_count": 45,
     "metadata": {},
     "output_type": "execute_result"
    }
   ],
   "source": [
    "Rest_rev.head()"
   ]
  },
  {
   "cell_type": "markdown",
   "metadata": {
    "id": "ykhtYm6NUG0w"
   },
   "source": [
    "The stopwords have been removed from the **Review** column"
   ]
  },
  {
   "cell_type": "markdown",
   "metadata": {
    "id": "BRaME7eFUG0w"
   },
   "source": [
    "#### Lemmatization of Reviews"
   ]
  },
  {
   "cell_type": "markdown",
   "metadata": {
    "id": "RfuR8gP4UG0w"
   },
   "source": [
    "**Lemmatization** shorten words back to their root form. **Lemmatizing** maps common words into one base. It returns a proper word that can be found in the dictionary"
   ]
  },
  {
   "cell_type": "markdown",
   "metadata": {
    "id": "84fw8NTnUG0x"
   },
   "source": [
    "To implement Lemmatization using NLTK, we require **wordnet** and **WordNetLemmatizer**"
   ]
  },
  {
   "cell_type": "code",
   "execution_count": 46,
   "metadata": {
    "colab": {
     "base_uri": "https://localhost:8080/"
    },
    "id": "VLWiMQbEUG0x",
    "outputId": "34115dd9-eb67-4aeb-9323-a378d8a7e2fe"
   },
   "outputs": [
    {
     "name": "stderr",
     "output_type": "stream",
     "text": [
      "[nltk_data] Downloading package wordnet to /root/nltk_data...\n"
     ]
    },
    {
     "data": {
      "text/plain": [
       "True"
      ]
     },
     "execution_count": 46,
     "metadata": {},
     "output_type": "execute_result"
    }
   ],
   "source": [
    "nltk.download('wordnet')"
   ]
  },
  {
   "cell_type": "code",
   "execution_count": 47,
   "metadata": {
    "id": "KtvK3QeNUG0x"
   },
   "outputs": [],
   "source": [
    "from nltk.stem import WordNetLemmatizer"
   ]
  },
  {
   "cell_type": "code",
   "execution_count": 48,
   "metadata": {
    "id": "4DVKy1cQUG0y"
   },
   "outputs": [],
   "source": [
    "lemmatizer = WordNetLemmatizer()"
   ]
  },
  {
   "cell_type": "code",
   "execution_count": 49,
   "metadata": {
    "id": "8nMgVaIbUG0y"
   },
   "outputs": [],
   "source": [
    "def word_lemmatizer(text):\n",
    "    lem_text = [lemmatizer.lemmatize(i) for i in text]\n",
    "    return lem_text"
   ]
  },
  {
   "cell_type": "code",
   "execution_count": 50,
   "metadata": {
    "id": "es3VdzUVUG0y"
   },
   "outputs": [],
   "source": [
    "Rest_rev['Review'] = Rest_rev['Review'].apply(lambda x: word_lemmatizer(x))"
   ]
  },
  {
   "cell_type": "code",
   "execution_count": 51,
   "metadata": {
    "colab": {
     "base_uri": "https://localhost:8080/",
     "height": 206
    },
    "id": "rCHc81-bUG0z",
    "outputId": "841c00a3-1bbb-4e27-c699-704cfa4a0724"
   },
   "outputs": [
    {
     "data": {
      "text/html": [
       "\n",
       "  <div id=\"df-5036a6be-e7ba-45b6-99e8-45d996bb9620\">\n",
       "    <div class=\"colab-df-container\">\n",
       "      <div>\n",
       "<style scoped>\n",
       "    .dataframe tbody tr th:only-of-type {\n",
       "        vertical-align: middle;\n",
       "    }\n",
       "\n",
       "    .dataframe tbody tr th {\n",
       "        vertical-align: top;\n",
       "    }\n",
       "\n",
       "    .dataframe thead th {\n",
       "        text-align: right;\n",
       "    }\n",
       "</style>\n",
       "<table border=\"1\" class=\"dataframe\">\n",
       "  <thead>\n",
       "    <tr style=\"text-align: right;\">\n",
       "      <th></th>\n",
       "      <th>Review</th>\n",
       "      <th>Liked</th>\n",
       "      <th>Length</th>\n",
       "    </tr>\n",
       "  </thead>\n",
       "  <tbody>\n",
       "    <tr>\n",
       "      <th>0</th>\n",
       "      <td>[wow, loved, place]</td>\n",
       "      <td>1</td>\n",
       "      <td>24</td>\n",
       "    </tr>\n",
       "    <tr>\n",
       "      <th>1</th>\n",
       "      <td>[crust, not, good]</td>\n",
       "      <td>0</td>\n",
       "      <td>18</td>\n",
       "    </tr>\n",
       "    <tr>\n",
       "      <th>2</th>\n",
       "      <td>[not, tasty, texture, nasty]</td>\n",
       "      <td>0</td>\n",
       "      <td>41</td>\n",
       "    </tr>\n",
       "    <tr>\n",
       "      <th>3</th>\n",
       "      <td>[stopped, during, late, may, bank, holiday, rick, steve, recommendation, loved]</td>\n",
       "      <td>1</td>\n",
       "      <td>87</td>\n",
       "    </tr>\n",
       "    <tr>\n",
       "      <th>4</th>\n",
       "      <td>[selection, menu, great, price]</td>\n",
       "      <td>1</td>\n",
       "      <td>59</td>\n",
       "    </tr>\n",
       "  </tbody>\n",
       "</table>\n",
       "</div>\n",
       "      <button class=\"colab-df-convert\" onclick=\"convertToInteractive('df-5036a6be-e7ba-45b6-99e8-45d996bb9620')\"\n",
       "              title=\"Convert this dataframe to an interactive table.\"\n",
       "              style=\"display:none;\">\n",
       "        \n",
       "  <svg xmlns=\"http://www.w3.org/2000/svg\" height=\"24px\"viewBox=\"0 0 24 24\"\n",
       "       width=\"24px\">\n",
       "    <path d=\"M0 0h24v24H0V0z\" fill=\"none\"/>\n",
       "    <path d=\"M18.56 5.44l.94 2.06.94-2.06 2.06-.94-2.06-.94-.94-2.06-.94 2.06-2.06.94zm-11 1L8.5 8.5l.94-2.06 2.06-.94-2.06-.94L8.5 2.5l-.94 2.06-2.06.94zm10 10l.94 2.06.94-2.06 2.06-.94-2.06-.94-.94-2.06-.94 2.06-2.06.94z\"/><path d=\"M17.41 7.96l-1.37-1.37c-.4-.4-.92-.59-1.43-.59-.52 0-1.04.2-1.43.59L10.3 9.45l-7.72 7.72c-.78.78-.78 2.05 0 2.83L4 21.41c.39.39.9.59 1.41.59.51 0 1.02-.2 1.41-.59l7.78-7.78 2.81-2.81c.8-.78.8-2.07 0-2.86zM5.41 20L4 18.59l7.72-7.72 1.47 1.35L5.41 20z\"/>\n",
       "  </svg>\n",
       "      </button>\n",
       "      \n",
       "  <style>\n",
       "    .colab-df-container {\n",
       "      display:flex;\n",
       "      flex-wrap:wrap;\n",
       "      gap: 12px;\n",
       "    }\n",
       "\n",
       "    .colab-df-convert {\n",
       "      background-color: #E8F0FE;\n",
       "      border: none;\n",
       "      border-radius: 50%;\n",
       "      cursor: pointer;\n",
       "      display: none;\n",
       "      fill: #1967D2;\n",
       "      height: 32px;\n",
       "      padding: 0 0 0 0;\n",
       "      width: 32px;\n",
       "    }\n",
       "\n",
       "    .colab-df-convert:hover {\n",
       "      background-color: #E2EBFA;\n",
       "      box-shadow: 0px 1px 2px rgba(60, 64, 67, 0.3), 0px 1px 3px 1px rgba(60, 64, 67, 0.15);\n",
       "      fill: #174EA6;\n",
       "    }\n",
       "\n",
       "    [theme=dark] .colab-df-convert {\n",
       "      background-color: #3B4455;\n",
       "      fill: #D2E3FC;\n",
       "    }\n",
       "\n",
       "    [theme=dark] .colab-df-convert:hover {\n",
       "      background-color: #434B5C;\n",
       "      box-shadow: 0px 1px 3px 1px rgba(0, 0, 0, 0.15);\n",
       "      filter: drop-shadow(0px 1px 2px rgba(0, 0, 0, 0.3));\n",
       "      fill: #FFFFFF;\n",
       "    }\n",
       "  </style>\n",
       "\n",
       "      <script>\n",
       "        const buttonEl =\n",
       "          document.querySelector('#df-5036a6be-e7ba-45b6-99e8-45d996bb9620 button.colab-df-convert');\n",
       "        buttonEl.style.display =\n",
       "          google.colab.kernel.accessAllowed ? 'block' : 'none';\n",
       "\n",
       "        async function convertToInteractive(key) {\n",
       "          const element = document.querySelector('#df-5036a6be-e7ba-45b6-99e8-45d996bb9620');\n",
       "          const dataTable =\n",
       "            await google.colab.kernel.invokeFunction('convertToInteractive',\n",
       "                                                     [key], {});\n",
       "          if (!dataTable) return;\n",
       "\n",
       "          const docLinkHtml = 'Like what you see? Visit the ' +\n",
       "            '<a target=\"_blank\" href=https://colab.research.google.com/notebooks/data_table.ipynb>data table notebook</a>'\n",
       "            + ' to learn more about interactive tables.';\n",
       "          element.innerHTML = '';\n",
       "          dataTable['output_type'] = 'display_data';\n",
       "          await google.colab.output.renderOutput(dataTable, element);\n",
       "          const docLink = document.createElement('div');\n",
       "          docLink.innerHTML = docLinkHtml;\n",
       "          element.appendChild(docLink);\n",
       "        }\n",
       "      </script>\n",
       "    </div>\n",
       "  </div>\n",
       "  "
      ],
      "text/plain": [
       "                                                                            Review  \\\n",
       "0  [wow, loved, place]                                                               \n",
       "1  [crust, not, good]                                                                \n",
       "2  [not, tasty, texture, nasty]                                                      \n",
       "3  [stopped, during, late, may, bank, holiday, rick, steve, recommendation, loved]   \n",
       "4  [selection, menu, great, price]                                                   \n",
       "\n",
       "   Liked  Length  \n",
       "0  1      24      \n",
       "1  0      18      \n",
       "2  0      41      \n",
       "3  1      87      \n",
       "4  1      59      "
      ]
     },
     "execution_count": 51,
     "metadata": {},
     "output_type": "execute_result"
    }
   ],
   "source": [
    "Rest_rev.head()"
   ]
  },
  {
   "cell_type": "markdown",
   "metadata": {
    "id": "gCShYpqxUG0z"
   },
   "source": [
    "Renaming the preprocessed Review to **cleaned_Review**"
   ]
  },
  {
   "cell_type": "code",
   "execution_count": 52,
   "metadata": {
    "id": "ZvHcz5xjUG0z"
   },
   "outputs": [],
   "source": [
    "Rest_rev = Rest_rev.rename(columns={'Review':'cleaned_Review'})"
   ]
  },
  {
   "cell_type": "code",
   "execution_count": 53,
   "metadata": {
    "colab": {
     "base_uri": "https://localhost:8080/"
    },
    "id": "n8_uaUpSUG00",
    "outputId": "a8ca3103-7886-4dd0-8d56-12b4310e7163"
   },
   "outputs": [
    {
     "data": {
      "text/plain": [
       "Index(['cleaned_Review', 'Liked', 'Length'], dtype='object')"
      ]
     },
     "execution_count": 53,
     "metadata": {},
     "output_type": "execute_result"
    }
   ],
   "source": [
    "Rest_rev.columns"
   ]
  },
  {
   "cell_type": "code",
   "execution_count": 54,
   "metadata": {
    "id": "4toaJR8-UG00"
   },
   "outputs": [],
   "source": [
    "Rest_rev.to_csv('Rest_rev_1.csv', index=False)"
   ]
  },
  {
   "cell_type": "code",
   "execution_count": 55,
   "metadata": {
    "id": "XHAi0JFHUG00"
   },
   "outputs": [],
   "source": [
    "Rest_rev = pd.read_csv('Rest_rev_1.csv')"
   ]
  },
  {
   "cell_type": "markdown",
   "metadata": {
    "id": "w0E6cjHSUG01"
   },
   "source": [
    "#### WorldCloud"
   ]
  },
  {
   "cell_type": "code",
   "execution_count": 55,
   "metadata": {
    "id": "3o8APc0JUG01"
   },
   "outputs": [],
   "source": []
  },
  {
   "cell_type": "code",
   "execution_count": 55,
   "metadata": {
    "id": "AkVHU1X4UG02"
   },
   "outputs": [],
   "source": []
  },
  {
   "cell_type": "markdown",
   "metadata": {
    "id": "zvr2c7NKUG02"
   },
   "source": [
    "#### Train Test split"
   ]
  },
  {
   "cell_type": "markdown",
   "metadata": {
    "id": "xKqDcBOqUG02"
   },
   "source": [
    "Splitting the dataframe into train and test"
   ]
  },
  {
   "cell_type": "code",
   "execution_count": 56,
   "metadata": {
    "id": "rHQ-7zaXUG03"
   },
   "outputs": [],
   "source": [
    "from sklearn.model_selection import train_test_split, StratifiedShuffleSplit\n",
    "df_train_TfIdf, df_test_TfIdf = train_test_split(Rest_rev, test_size = 0.15, random_state = 42, shuffle=True)"
   ]
  },
  {
   "cell_type": "markdown",
   "metadata": {
    "id": "MAX8KavHUG03"
   },
   "source": [
    "Resetting the indices of the training and testing dataframes"
   ]
  },
  {
   "cell_type": "code",
   "execution_count": 57,
   "metadata": {
    "id": "YFsOnC1bUG03"
   },
   "outputs": [],
   "source": [
    "df_train_TfIdf.reset_index(inplace = True, drop = True)"
   ]
  },
  {
   "cell_type": "code",
   "execution_count": 58,
   "metadata": {
    "id": "Yz5pmvHEUG03"
   },
   "outputs": [],
   "source": [
    "df_test_TfIdf.reset_index(inplace = True, drop = True)"
   ]
  },
  {
   "cell_type": "code",
   "execution_count": 59,
   "metadata": {
    "colab": {
     "base_uri": "https://localhost:8080/",
     "height": 206
    },
    "id": "_No8u9mzUG04",
    "outputId": "627674de-c8f9-40a8-ac49-129cb6fcb45d"
   },
   "outputs": [
    {
     "data": {
      "text/html": [
       "\n",
       "  <div id=\"df-e6e11c7b-f84b-4453-a169-cb83ead848af\">\n",
       "    <div class=\"colab-df-container\">\n",
       "      <div>\n",
       "<style scoped>\n",
       "    .dataframe tbody tr th:only-of-type {\n",
       "        vertical-align: middle;\n",
       "    }\n",
       "\n",
       "    .dataframe tbody tr th {\n",
       "        vertical-align: top;\n",
       "    }\n",
       "\n",
       "    .dataframe thead th {\n",
       "        text-align: right;\n",
       "    }\n",
       "</style>\n",
       "<table border=\"1\" class=\"dataframe\">\n",
       "  <thead>\n",
       "    <tr style=\"text-align: right;\">\n",
       "      <th></th>\n",
       "      <th>cleaned_Review</th>\n",
       "      <th>Liked</th>\n",
       "      <th>Length</th>\n",
       "    </tr>\n",
       "  </thead>\n",
       "  <tbody>\n",
       "    <tr>\n",
       "      <th>0</th>\n",
       "      <td>['not', 'familiar', 'check']</td>\n",
       "      <td>1</td>\n",
       "      <td>37</td>\n",
       "    </tr>\n",
       "    <tr>\n",
       "      <th>1</th>\n",
       "      <td>['im', 'az', 'time', 'new', 'spot']</td>\n",
       "      <td>1</td>\n",
       "      <td>47</td>\n",
       "    </tr>\n",
       "    <tr>\n",
       "      <th>2</th>\n",
       "      <td>['extremely', 'crumby', 'pretty', 'tasteless']</td>\n",
       "      <td>0</td>\n",
       "      <td>47</td>\n",
       "    </tr>\n",
       "    <tr>\n",
       "      <th>3</th>\n",
       "      <td>['great', 'place', 'fo', 'take', 'eat']</td>\n",
       "      <td>1</td>\n",
       "      <td>34</td>\n",
       "    </tr>\n",
       "    <tr>\n",
       "      <th>4</th>\n",
       "      <td>['everything', 'menu', 'terrific', 'also', 'thrilled', 'made', 'amazing', 'accommodation', 'vegetarian', 'daughter']</td>\n",
       "      <td>1</td>\n",
       "      <td>127</td>\n",
       "    </tr>\n",
       "  </tbody>\n",
       "</table>\n",
       "</div>\n",
       "      <button class=\"colab-df-convert\" onclick=\"convertToInteractive('df-e6e11c7b-f84b-4453-a169-cb83ead848af')\"\n",
       "              title=\"Convert this dataframe to an interactive table.\"\n",
       "              style=\"display:none;\">\n",
       "        \n",
       "  <svg xmlns=\"http://www.w3.org/2000/svg\" height=\"24px\"viewBox=\"0 0 24 24\"\n",
       "       width=\"24px\">\n",
       "    <path d=\"M0 0h24v24H0V0z\" fill=\"none\"/>\n",
       "    <path d=\"M18.56 5.44l.94 2.06.94-2.06 2.06-.94-2.06-.94-.94-2.06-.94 2.06-2.06.94zm-11 1L8.5 8.5l.94-2.06 2.06-.94-2.06-.94L8.5 2.5l-.94 2.06-2.06.94zm10 10l.94 2.06.94-2.06 2.06-.94-2.06-.94-.94-2.06-.94 2.06-2.06.94z\"/><path d=\"M17.41 7.96l-1.37-1.37c-.4-.4-.92-.59-1.43-.59-.52 0-1.04.2-1.43.59L10.3 9.45l-7.72 7.72c-.78.78-.78 2.05 0 2.83L4 21.41c.39.39.9.59 1.41.59.51 0 1.02-.2 1.41-.59l7.78-7.78 2.81-2.81c.8-.78.8-2.07 0-2.86zM5.41 20L4 18.59l7.72-7.72 1.47 1.35L5.41 20z\"/>\n",
       "  </svg>\n",
       "      </button>\n",
       "      \n",
       "  <style>\n",
       "    .colab-df-container {\n",
       "      display:flex;\n",
       "      flex-wrap:wrap;\n",
       "      gap: 12px;\n",
       "    }\n",
       "\n",
       "    .colab-df-convert {\n",
       "      background-color: #E8F0FE;\n",
       "      border: none;\n",
       "      border-radius: 50%;\n",
       "      cursor: pointer;\n",
       "      display: none;\n",
       "      fill: #1967D2;\n",
       "      height: 32px;\n",
       "      padding: 0 0 0 0;\n",
       "      width: 32px;\n",
       "    }\n",
       "\n",
       "    .colab-df-convert:hover {\n",
       "      background-color: #E2EBFA;\n",
       "      box-shadow: 0px 1px 2px rgba(60, 64, 67, 0.3), 0px 1px 3px 1px rgba(60, 64, 67, 0.15);\n",
       "      fill: #174EA6;\n",
       "    }\n",
       "\n",
       "    [theme=dark] .colab-df-convert {\n",
       "      background-color: #3B4455;\n",
       "      fill: #D2E3FC;\n",
       "    }\n",
       "\n",
       "    [theme=dark] .colab-df-convert:hover {\n",
       "      background-color: #434B5C;\n",
       "      box-shadow: 0px 1px 3px 1px rgba(0, 0, 0, 0.15);\n",
       "      filter: drop-shadow(0px 1px 2px rgba(0, 0, 0, 0.3));\n",
       "      fill: #FFFFFF;\n",
       "    }\n",
       "  </style>\n",
       "\n",
       "      <script>\n",
       "        const buttonEl =\n",
       "          document.querySelector('#df-e6e11c7b-f84b-4453-a169-cb83ead848af button.colab-df-convert');\n",
       "        buttonEl.style.display =\n",
       "          google.colab.kernel.accessAllowed ? 'block' : 'none';\n",
       "\n",
       "        async function convertToInteractive(key) {\n",
       "          const element = document.querySelector('#df-e6e11c7b-f84b-4453-a169-cb83ead848af');\n",
       "          const dataTable =\n",
       "            await google.colab.kernel.invokeFunction('convertToInteractive',\n",
       "                                                     [key], {});\n",
       "          if (!dataTable) return;\n",
       "\n",
       "          const docLinkHtml = 'Like what you see? Visit the ' +\n",
       "            '<a target=\"_blank\" href=https://colab.research.google.com/notebooks/data_table.ipynb>data table notebook</a>'\n",
       "            + ' to learn more about interactive tables.';\n",
       "          element.innerHTML = '';\n",
       "          dataTable['output_type'] = 'display_data';\n",
       "          await google.colab.output.renderOutput(dataTable, element);\n",
       "          const docLink = document.createElement('div');\n",
       "          docLink.innerHTML = docLinkHtml;\n",
       "          element.appendChild(docLink);\n",
       "        }\n",
       "      </script>\n",
       "    </div>\n",
       "  </div>\n",
       "  "
      ],
      "text/plain": [
       "                                                                                                         cleaned_Review  \\\n",
       "0  ['not', 'familiar', 'check']                                                                                           \n",
       "1  ['im', 'az', 'time', 'new', 'spot']                                                                                    \n",
       "2  ['extremely', 'crumby', 'pretty', 'tasteless']                                                                         \n",
       "3  ['great', 'place', 'fo', 'take', 'eat']                                                                                \n",
       "4  ['everything', 'menu', 'terrific', 'also', 'thrilled', 'made', 'amazing', 'accommodation', 'vegetarian', 'daughter']   \n",
       "\n",
       "   Liked  Length  \n",
       "0  1      37      \n",
       "1  1      47      \n",
       "2  0      47      \n",
       "3  1      34      \n",
       "4  1      127     "
      ]
     },
     "execution_count": 59,
     "metadata": {},
     "output_type": "execute_result"
    }
   ],
   "source": [
    "df_train_TfIdf.head()"
   ]
  },
  {
   "cell_type": "code",
   "execution_count": 60,
   "metadata": {
    "colab": {
     "base_uri": "https://localhost:8080/",
     "height": 206
    },
    "id": "bf9sH4JlUG04",
    "outputId": "a0f9ae5c-b77d-4831-b543-bb25f6df499d"
   },
   "outputs": [
    {
     "data": {
      "text/html": [
       "\n",
       "  <div id=\"df-ab9a82bd-6557-4f8f-a0db-cc2c5fe2ec72\">\n",
       "    <div class=\"colab-df-container\">\n",
       "      <div>\n",
       "<style scoped>\n",
       "    .dataframe tbody tr th:only-of-type {\n",
       "        vertical-align: middle;\n",
       "    }\n",
       "\n",
       "    .dataframe tbody tr th {\n",
       "        vertical-align: top;\n",
       "    }\n",
       "\n",
       "    .dataframe thead th {\n",
       "        text-align: right;\n",
       "    }\n",
       "</style>\n",
       "<table border=\"1\" class=\"dataframe\">\n",
       "  <thead>\n",
       "    <tr style=\"text-align: right;\">\n",
       "      <th></th>\n",
       "      <th>cleaned_Review</th>\n",
       "      <th>Liked</th>\n",
       "      <th>Length</th>\n",
       "    </tr>\n",
       "  </thead>\n",
       "  <tbody>\n",
       "    <tr>\n",
       "      <th>0</th>\n",
       "      <td>['excellent']</td>\n",
       "      <td>1</td>\n",
       "      <td>20</td>\n",
       "    </tr>\n",
       "    <tr>\n",
       "      <th>1</th>\n",
       "      <td>['server', 'suck', 'wait', 'correction', 'server', 'heimer', 'sucked']</td>\n",
       "      <td>0</td>\n",
       "      <td>62</td>\n",
       "    </tr>\n",
       "    <tr>\n",
       "      <th>2</th>\n",
       "      <td>['back']</td>\n",
       "      <td>1</td>\n",
       "      <td>19</td>\n",
       "    </tr>\n",
       "    <tr>\n",
       "      <th>3</th>\n",
       "      <td>['hate', 'thing', 'much', 'cheap', 'quality', 'black', 'olive']</td>\n",
       "      <td>0</td>\n",
       "      <td>58</td>\n",
       "    </tr>\n",
       "    <tr>\n",
       "      <th>4</th>\n",
       "      <td>['think', 'going', 'back', 'anytime', 'soon']</td>\n",
       "      <td>0</td>\n",
       "      <td>47</td>\n",
       "    </tr>\n",
       "  </tbody>\n",
       "</table>\n",
       "</div>\n",
       "      <button class=\"colab-df-convert\" onclick=\"convertToInteractive('df-ab9a82bd-6557-4f8f-a0db-cc2c5fe2ec72')\"\n",
       "              title=\"Convert this dataframe to an interactive table.\"\n",
       "              style=\"display:none;\">\n",
       "        \n",
       "  <svg xmlns=\"http://www.w3.org/2000/svg\" height=\"24px\"viewBox=\"0 0 24 24\"\n",
       "       width=\"24px\">\n",
       "    <path d=\"M0 0h24v24H0V0z\" fill=\"none\"/>\n",
       "    <path d=\"M18.56 5.44l.94 2.06.94-2.06 2.06-.94-2.06-.94-.94-2.06-.94 2.06-2.06.94zm-11 1L8.5 8.5l.94-2.06 2.06-.94-2.06-.94L8.5 2.5l-.94 2.06-2.06.94zm10 10l.94 2.06.94-2.06 2.06-.94-2.06-.94-.94-2.06-.94 2.06-2.06.94z\"/><path d=\"M17.41 7.96l-1.37-1.37c-.4-.4-.92-.59-1.43-.59-.52 0-1.04.2-1.43.59L10.3 9.45l-7.72 7.72c-.78.78-.78 2.05 0 2.83L4 21.41c.39.39.9.59 1.41.59.51 0 1.02-.2 1.41-.59l7.78-7.78 2.81-2.81c.8-.78.8-2.07 0-2.86zM5.41 20L4 18.59l7.72-7.72 1.47 1.35L5.41 20z\"/>\n",
       "  </svg>\n",
       "      </button>\n",
       "      \n",
       "  <style>\n",
       "    .colab-df-container {\n",
       "      display:flex;\n",
       "      flex-wrap:wrap;\n",
       "      gap: 12px;\n",
       "    }\n",
       "\n",
       "    .colab-df-convert {\n",
       "      background-color: #E8F0FE;\n",
       "      border: none;\n",
       "      border-radius: 50%;\n",
       "      cursor: pointer;\n",
       "      display: none;\n",
       "      fill: #1967D2;\n",
       "      height: 32px;\n",
       "      padding: 0 0 0 0;\n",
       "      width: 32px;\n",
       "    }\n",
       "\n",
       "    .colab-df-convert:hover {\n",
       "      background-color: #E2EBFA;\n",
       "      box-shadow: 0px 1px 2px rgba(60, 64, 67, 0.3), 0px 1px 3px 1px rgba(60, 64, 67, 0.15);\n",
       "      fill: #174EA6;\n",
       "    }\n",
       "\n",
       "    [theme=dark] .colab-df-convert {\n",
       "      background-color: #3B4455;\n",
       "      fill: #D2E3FC;\n",
       "    }\n",
       "\n",
       "    [theme=dark] .colab-df-convert:hover {\n",
       "      background-color: #434B5C;\n",
       "      box-shadow: 0px 1px 3px 1px rgba(0, 0, 0, 0.15);\n",
       "      filter: drop-shadow(0px 1px 2px rgba(0, 0, 0, 0.3));\n",
       "      fill: #FFFFFF;\n",
       "    }\n",
       "  </style>\n",
       "\n",
       "      <script>\n",
       "        const buttonEl =\n",
       "          document.querySelector('#df-ab9a82bd-6557-4f8f-a0db-cc2c5fe2ec72 button.colab-df-convert');\n",
       "        buttonEl.style.display =\n",
       "          google.colab.kernel.accessAllowed ? 'block' : 'none';\n",
       "\n",
       "        async function convertToInteractive(key) {\n",
       "          const element = document.querySelector('#df-ab9a82bd-6557-4f8f-a0db-cc2c5fe2ec72');\n",
       "          const dataTable =\n",
       "            await google.colab.kernel.invokeFunction('convertToInteractive',\n",
       "                                                     [key], {});\n",
       "          if (!dataTable) return;\n",
       "\n",
       "          const docLinkHtml = 'Like what you see? Visit the ' +\n",
       "            '<a target=\"_blank\" href=https://colab.research.google.com/notebooks/data_table.ipynb>data table notebook</a>'\n",
       "            + ' to learn more about interactive tables.';\n",
       "          element.innerHTML = '';\n",
       "          dataTable['output_type'] = 'display_data';\n",
       "          await google.colab.output.renderOutput(dataTable, element);\n",
       "          const docLink = document.createElement('div');\n",
       "          docLink.innerHTML = docLinkHtml;\n",
       "          element.appendChild(docLink);\n",
       "        }\n",
       "      </script>\n",
       "    </div>\n",
       "  </div>\n",
       "  "
      ],
      "text/plain": [
       "                                                           cleaned_Review  \\\n",
       "0  ['excellent']                                                            \n",
       "1  ['server', 'suck', 'wait', 'correction', 'server', 'heimer', 'sucked']   \n",
       "2  ['back']                                                                 \n",
       "3  ['hate', 'thing', 'much', 'cheap', 'quality', 'black', 'olive']          \n",
       "4  ['think', 'going', 'back', 'anytime', 'soon']                            \n",
       "\n",
       "   Liked  Length  \n",
       "0  1      20      \n",
       "1  0      62      \n",
       "2  1      19      \n",
       "3  0      58      \n",
       "4  0      47      "
      ]
     },
     "execution_count": 60,
     "metadata": {},
     "output_type": "execute_result"
    }
   ],
   "source": [
    "df_test_TfIdf.head()"
   ]
  },
  {
   "cell_type": "markdown",
   "metadata": {
    "id": "eqFxu0e3UG04"
   },
   "source": [
    "The indices have been reset"
   ]
  },
  {
   "cell_type": "markdown",
   "metadata": {
    "id": "gkOr1lD2UG05"
   },
   "source": [
    "#### Creating a TF-IDF object"
   ]
  },
  {
   "cell_type": "markdown",
   "metadata": {
    "id": "3NtTdKJlUG05"
   },
   "source": [
    "We will create an object for **TfidfVectorizer** to convert the text data into a numeric representation/vector representation"
   ]
  },
  {
   "cell_type": "code",
   "execution_count": 61,
   "metadata": {
    "id": "JGwrRYeCUG05"
   },
   "outputs": [],
   "source": [
    "from sklearn.feature_extraction.text import TfidfVectorizer"
   ]
  },
  {
   "cell_type": "markdown",
   "metadata": {
    "id": "2qW1Fd-dUG06"
   },
   "source": [
    "Multinomial classifiers are quite useful when working with text data. Since **Multinomial Naive Bayes** algorithm is  useful for discrete counts, we can use **MultinomialNB**."
   ]
  },
  {
   "cell_type": "code",
   "execution_count": 62,
   "metadata": {
    "id": "5LIKxfDlUG06"
   },
   "outputs": [],
   "source": [
    "from sklearn.naive_bayes import MultinomialNB"
   ]
  },
  {
   "cell_type": "code",
   "execution_count": 63,
   "metadata": {
    "id": "1xjHF3gBUG07"
   },
   "outputs": [],
   "source": [
    "from sklearn.pipeline import make_pipeline"
   ]
  },
  {
   "cell_type": "markdown",
   "metadata": {
    "id": "485zYG6oUG07"
   },
   "source": [
    "We have set some parameters in the TfidfVectorizer. **max_df=0.15** means that only the words whose frequency of occurrence in the documents is a maximum of 0.15 will be considered whereas the words having frequency higher than 0.15 will not be considered as they will not matter much since they are commonly occurring in the document."
   ]
  },
  {
   "cell_type": "code",
   "execution_count": 64,
   "metadata": {
    "id": "_A3k7wlwUG07"
   },
   "outputs": [],
   "source": [
    "vectorizer_tf = TfidfVectorizer(max_df=0.15, min_df=0, max_features=10000, use_idf=False,norm=None)"
   ]
  },
  {
   "cell_type": "markdown",
   "metadata": {
    "id": "azPTeOUAUG08"
   },
   "source": [
    "We can use **make_pipeline()** function to take the output of **TfidfVectorizer()** and push that to the **MultinomialNB()**."
   ]
  },
  {
   "cell_type": "code",
   "execution_count": 65,
   "metadata": {
    "id": "r6cTczzZUG08"
   },
   "outputs": [],
   "source": [
    "pipeline_TfIdf = make_pipeline(vectorizer_tf, MultinomialNB())"
   ]
  },
  {
   "cell_type": "markdown",
   "metadata": {
    "id": "sABUBzRIUG08"
   },
   "source": [
    "Training the model"
   ]
  },
  {
   "cell_type": "code",
   "execution_count": 66,
   "metadata": {
    "colab": {
     "base_uri": "https://localhost:8080/",
     "height": 126
    },
    "id": "k9_RpHwgUG08",
    "outputId": "8fc390bc-7af8-4c09-9f84-f92cd2c7805d"
   },
   "outputs": [
    {
     "data": {
      "text/html": [
       "<style>#sk-container-id-1 {color: black;background-color: white;}#sk-container-id-1 pre{padding: 0;}#sk-container-id-1 div.sk-toggleable {background-color: white;}#sk-container-id-1 label.sk-toggleable__label {cursor: pointer;display: block;width: 100%;margin-bottom: 0;padding: 0.3em;box-sizing: border-box;text-align: center;}#sk-container-id-1 label.sk-toggleable__label-arrow:before {content: \"▸\";float: left;margin-right: 0.25em;color: #696969;}#sk-container-id-1 label.sk-toggleable__label-arrow:hover:before {color: black;}#sk-container-id-1 div.sk-estimator:hover label.sk-toggleable__label-arrow:before {color: black;}#sk-container-id-1 div.sk-toggleable__content {max-height: 0;max-width: 0;overflow: hidden;text-align: left;background-color: #f0f8ff;}#sk-container-id-1 div.sk-toggleable__content pre {margin: 0.2em;color: black;border-radius: 0.25em;background-color: #f0f8ff;}#sk-container-id-1 input.sk-toggleable__control:checked~div.sk-toggleable__content {max-height: 200px;max-width: 100%;overflow: auto;}#sk-container-id-1 input.sk-toggleable__control:checked~label.sk-toggleable__label-arrow:before {content: \"▾\";}#sk-container-id-1 div.sk-estimator input.sk-toggleable__control:checked~label.sk-toggleable__label {background-color: #d4ebff;}#sk-container-id-1 div.sk-label input.sk-toggleable__control:checked~label.sk-toggleable__label {background-color: #d4ebff;}#sk-container-id-1 input.sk-hidden--visually {border: 0;clip: rect(1px 1px 1px 1px);clip: rect(1px, 1px, 1px, 1px);height: 1px;margin: -1px;overflow: hidden;padding: 0;position: absolute;width: 1px;}#sk-container-id-1 div.sk-estimator {font-family: monospace;background-color: #f0f8ff;border: 1px dotted black;border-radius: 0.25em;box-sizing: border-box;margin-bottom: 0.5em;}#sk-container-id-1 div.sk-estimator:hover {background-color: #d4ebff;}#sk-container-id-1 div.sk-parallel-item::after {content: \"\";width: 100%;border-bottom: 1px solid gray;flex-grow: 1;}#sk-container-id-1 div.sk-label:hover label.sk-toggleable__label {background-color: #d4ebff;}#sk-container-id-1 div.sk-serial::before {content: \"\";position: absolute;border-left: 1px solid gray;box-sizing: border-box;top: 0;bottom: 0;left: 50%;z-index: 0;}#sk-container-id-1 div.sk-serial {display: flex;flex-direction: column;align-items: center;background-color: white;padding-right: 0.2em;padding-left: 0.2em;position: relative;}#sk-container-id-1 div.sk-item {position: relative;z-index: 1;}#sk-container-id-1 div.sk-parallel {display: flex;align-items: stretch;justify-content: center;background-color: white;position: relative;}#sk-container-id-1 div.sk-item::before, #sk-container-id-1 div.sk-parallel-item::before {content: \"\";position: absolute;border-left: 1px solid gray;box-sizing: border-box;top: 0;bottom: 0;left: 50%;z-index: -1;}#sk-container-id-1 div.sk-parallel-item {display: flex;flex-direction: column;z-index: 1;position: relative;background-color: white;}#sk-container-id-1 div.sk-parallel-item:first-child::after {align-self: flex-end;width: 50%;}#sk-container-id-1 div.sk-parallel-item:last-child::after {align-self: flex-start;width: 50%;}#sk-container-id-1 div.sk-parallel-item:only-child::after {width: 0;}#sk-container-id-1 div.sk-dashed-wrapped {border: 1px dashed gray;margin: 0 0.4em 0.5em 0.4em;box-sizing: border-box;padding-bottom: 0.4em;background-color: white;}#sk-container-id-1 div.sk-label label {font-family: monospace;font-weight: bold;display: inline-block;line-height: 1.2em;}#sk-container-id-1 div.sk-label-container {text-align: center;}#sk-container-id-1 div.sk-container {/* jupyter's `normalize.less` sets `[hidden] { display: none; }` but bootstrap.min.css set `[hidden] { display: none !important; }` so we also need the `!important` here to be able to override the default hidden behavior on the sphinx rendered scikit-learn.org. See: https://github.com/scikit-learn/scikit-learn/issues/21755 */display: inline-block !important;position: relative;}#sk-container-id-1 div.sk-text-repr-fallback {display: none;}</style><div id=\"sk-container-id-1\" class=\"sk-top-container\"><div class=\"sk-text-repr-fallback\"><pre>Pipeline(steps=[(&#x27;tfidfvectorizer&#x27;,\n",
       "                 TfidfVectorizer(max_df=0.15, max_features=10000, min_df=0,\n",
       "                                 norm=None, use_idf=False)),\n",
       "                (&#x27;multinomialnb&#x27;, MultinomialNB())])</pre><b>In a Jupyter environment, please rerun this cell to show the HTML representation or trust the notebook. <br />On GitHub, the HTML representation is unable to render, please try loading this page with nbviewer.org.</b></div><div class=\"sk-container\" hidden><div class=\"sk-item sk-dashed-wrapped\"><div class=\"sk-label-container\"><div class=\"sk-label sk-toggleable\"><input class=\"sk-toggleable__control sk-hidden--visually\" id=\"sk-estimator-id-1\" type=\"checkbox\" ><label for=\"sk-estimator-id-1\" class=\"sk-toggleable__label sk-toggleable__label-arrow\">Pipeline</label><div class=\"sk-toggleable__content\"><pre>Pipeline(steps=[(&#x27;tfidfvectorizer&#x27;,\n",
       "                 TfidfVectorizer(max_df=0.15, max_features=10000, min_df=0,\n",
       "                                 norm=None, use_idf=False)),\n",
       "                (&#x27;multinomialnb&#x27;, MultinomialNB())])</pre></div></div></div><div class=\"sk-serial\"><div class=\"sk-item\"><div class=\"sk-estimator sk-toggleable\"><input class=\"sk-toggleable__control sk-hidden--visually\" id=\"sk-estimator-id-2\" type=\"checkbox\" ><label for=\"sk-estimator-id-2\" class=\"sk-toggleable__label sk-toggleable__label-arrow\">TfidfVectorizer</label><div class=\"sk-toggleable__content\"><pre>TfidfVectorizer(max_df=0.15, max_features=10000, min_df=0, norm=None,\n",
       "                use_idf=False)</pre></div></div></div><div class=\"sk-item\"><div class=\"sk-estimator sk-toggleable\"><input class=\"sk-toggleable__control sk-hidden--visually\" id=\"sk-estimator-id-3\" type=\"checkbox\" ><label for=\"sk-estimator-id-3\" class=\"sk-toggleable__label sk-toggleable__label-arrow\">MultinomialNB</label><div class=\"sk-toggleable__content\"><pre>MultinomialNB()</pre></div></div></div></div></div></div></div>"
      ],
      "text/plain": [
       "Pipeline(steps=[('tfidfvectorizer',\n",
       "                 TfidfVectorizer(max_df=0.15, max_features=10000, min_df=0,\n",
       "                                 norm=None, use_idf=False)),\n",
       "                ('multinomialnb', MultinomialNB())])"
      ]
     },
     "execution_count": 66,
     "metadata": {},
     "output_type": "execute_result"
    }
   ],
   "source": [
    "pipeline_TfIdf.fit(df_train_TfIdf.cleaned_Review, df_train_TfIdf.Liked)"
   ]
  },
  {
   "cell_type": "markdown",
   "metadata": {
    "id": "Qoq9ioGYUG09"
   },
   "source": [
    "Making predictions on the testing dataset"
   ]
  },
  {
   "cell_type": "code",
   "execution_count": 67,
   "metadata": {
    "id": "VFqG-pNWUG09"
   },
   "outputs": [],
   "source": [
    "labels_TfIdf = pipeline_TfIdf.predict(df_test_TfIdf.cleaned_Review)"
   ]
  },
  {
   "cell_type": "markdown",
   "metadata": {
    "id": "wk-Qgai3UG09"
   },
   "source": [
    "Plotting a **confusion matrix**"
   ]
  },
  {
   "cell_type": "code",
   "execution_count": 68,
   "metadata": {
    "id": "DIFcJLhwUG0-"
   },
   "outputs": [],
   "source": [
    "from sklearn.metrics import confusion_matrix, classification_report, accuracy_score"
   ]
  },
  {
   "cell_type": "code",
   "execution_count": 69,
   "metadata": {
    "id": "XxUWnghHUG0-"
   },
   "outputs": [],
   "source": [
    "mat_TfIdf = confusion_matrix(df_test_TfIdf.Liked, labels_TfIdf)"
   ]
  },
  {
   "cell_type": "code",
   "execution_count": 70,
   "metadata": {
    "colab": {
     "base_uri": "https://localhost:8080/",
     "height": 296
    },
    "id": "a-5E9_vGUG0-",
    "outputId": "ca23d1c1-3952-4223-e5bf-2e37d3eda0b7"
   },
   "outputs": [
    {
     "data": {
      "text/plain": [
       "Text(91.68, 0.5, 'Predicted label')"
      ]
     },
     "execution_count": 70,
     "metadata": {},
     "output_type": "execute_result"
    },
    {
     "data": {
      "image/png": "[encoded data removed]",
      "text/plain": [
       "<Figure size 432x288 with 1 Axes>"
      ]
     },
     "metadata": {
      "needs_background": "light"
     },
     "output_type": "display_data"
    }
   ],
   "source": [
    "sns.heatmap(mat_TfIdf.T, square=True, annot=True, fmt='d', cbar=False)\n",
    "plt.xlabel('True label')\n",
    "plt.ylabel('Predicted label')"
   ]
  },
  {
   "cell_type": "markdown",
   "metadata": {
    "id": "Rn3Um8O9UG0_"
   },
   "source": [
    "The following observations can be concluded about the performance:\n",
    "    \n",
    " - 128 is the number of true positives i.e. The number of actual negative reviews that were predicted negatively be the model\n",
    " - 109 is the number of true negatives i.e. The number of actual positive reviews that were predicted positively be the model\n",
    " - 27 is the number of false positives i.e. The number of actual negative reviews that were predicted positively be the model\n",
    " - 35 is the number of false negatives i.e. The number of actual positive reviews that were predicted negatively be the model"
   ]
  },
  {
   "cell_type": "code",
   "execution_count": 71,
   "metadata": {
    "id": "KarIeZXQUG0_"
   },
   "outputs": [],
   "source": [
    "score_TfIdf = accuracy_score(df_test_TfIdf.Liked, labels_TfIdf)"
   ]
  },
  {
   "cell_type": "code",
   "execution_count": 72,
   "metadata": {
    "colab": {
     "base_uri": "https://localhost:8080/"
    },
    "id": "TLC77x_EUG0_",
    "outputId": "cc41a777-20c0-4fec-e9b8-9d409fcdb4b3"
   },
   "outputs": [
    {
     "data": {
      "text/plain": [
       "0.7733333333333333"
      ]
     },
     "execution_count": 72,
     "metadata": {},
     "output_type": "execute_result"
    }
   ],
   "source": [
    "score_TfIdf"
   ]
  },
  {
   "cell_type": "markdown",
   "metadata": {
    "id": "6znFEl6LUG1A"
   },
   "source": [
    "The accuracy score of the **MultinomialNB** model is 77.33%"
   ]
  },
  {
   "cell_type": "code",
   "execution_count": 73,
   "metadata": {
    "id": "W-AHoAaJUG1A"
   },
   "outputs": [],
   "source": [
    "report_TfIdf = classification_report(df_test_TfIdf.Liked, labels_TfIdf)"
   ]
  },
  {
   "cell_type": "code",
   "execution_count": 74,
   "metadata": {
    "colab": {
     "base_uri": "https://localhost:8080/"
    },
    "id": "tyRkKogEUG1A",
    "outputId": "de720691-cebc-4921-eadd-3dcadc5acfee"
   },
   "outputs": [
    {
     "name": "stdout",
     "output_type": "stream",
     "text": [
      "              precision    recall  f1-score   support\n",
      "\n",
      "           0       0.77      0.85      0.81        85\n",
      "           1       0.77      0.68      0.72        65\n",
      "\n",
      "    accuracy                           0.77       150\n",
      "   macro avg       0.77      0.76      0.77       150\n",
      "weighted avg       0.77      0.77      0.77       150\n",
      "\n"
     ]
    }
   ],
   "source": [
    "print(report_TfIdf)"
   ]
  },
  {
   "cell_type": "markdown",
   "metadata": {},
   "source": [
    "We will import **GridSearchCV** for Hyperparameter tuning"
   ]
  },
  {
   "cell_type": "code",
   "execution_count": 75,
   "metadata": {
    "id": "1xdUc5JBjg4I"
   },
   "outputs": [],
   "source": [
    "from sklearn.model_selection import GridSearchCV"
   ]
  },
  {
   "cell_type": "code",
   "execution_count": 76,
   "metadata": {
    "id": "dTeErOqSlL6O"
   },
   "outputs": [],
   "source": [
    "l = [0.5, 0.5] # Taking equal priority values"
   ]
  },
  {
   "cell_type": "code",
   "execution_count": 77,
   "metadata": {
    "id": "9DkuzumVjg6k"
   },
   "outputs": [],
   "source": [
    "neigh = MultinomialNB(fit_prior=False, class_prior=l)"
   ]
  },
  {
   "cell_type": "markdown",
   "metadata": {
    "id": "PPLDHZ4wkr1Y"
   },
   "source": [
    "The Parameter **fit_prior=False** means that the model will not calculate the prior probability values. If we want to assign our own probability values to the prior probability, we have to set **class_prior=l** "
   ]
  },
  {
   "cell_type": "code",
   "execution_count": 78,
   "metadata": {
    "id": "swPP34eUjg9C"
   },
   "outputs": [],
   "source": [
    "alphas = np.array([0.0001, 0.001, 0.01, 0.1, 1, 10, 100, 1000, 10000]) "
   ]
  },
  {
   "cell_type": "markdown",
   "metadata": {
    "id": "xoXet_oQmKkH"
   },
   "source": [
    "We have to identify the best alpha i.e. the learning rate. If alpha is going towards zero, then the model is overfitting. If alpha value is going up, then the model is underfitting"
   ]
  },
  {
   "cell_type": "code",
   "execution_count": 79,
   "metadata": {
    "id": "vovE7MtKjhAd"
   },
   "outputs": [],
   "source": [
    "# Placing alpha values in a dictionary\n",
    "tuned_parameters = {'alpha' : alphas}"
   ]
  },
  {
   "cell_type": "markdown",
   "metadata": {},
   "source": [
    "As arguments, the **GridSearchCV** will take the model, the dictionary of the alpha values, apply cross validation and the accuracy metric and iterate over combinations of these"
   ]
  },
  {
   "cell_type": "code",
   "execution_count": 80,
   "metadata": {
    "id": "716sR1dkmNOD"
   },
   "outputs": [],
   "source": [
    "clf = GridSearchCV(neigh, tuned_parameters, cv=5, scoring = 'roc_auc', return_train_score=True)"
   ]
  },
  {
   "cell_type": "code",
   "execution_count": 81,
   "metadata": {
    "id": "zZlzgdDOmNZT"
   },
   "outputs": [],
   "source": [
    "# Building the pipeline\n",
    "pipeline_TfIdf_hyperparameter_tuning = make_pipeline(vectorizer_tf, clf)"
   ]
  },
  {
   "cell_type": "code",
   "execution_count": 82,
   "metadata": {
    "colab": {
     "base_uri": "https://localhost:8080/",
     "height": 192
    },
    "id": "MFKfDPHNnGXV",
    "outputId": "01cfbc2e-cf91-4976-ae43-f62849795b57"
   },
   "outputs": [
    {
     "data": {
      "text/html": [
       "<style>#sk-container-id-2 {color: black;background-color: white;}#sk-container-id-2 pre{padding: 0;}#sk-container-id-2 div.sk-toggleable {background-color: white;}#sk-container-id-2 label.sk-toggleable__label {cursor: pointer;display: block;width: 100%;margin-bottom: 0;padding: 0.3em;box-sizing: border-box;text-align: center;}#sk-container-id-2 label.sk-toggleable__label-arrow:before {content: \"▸\";float: left;margin-right: 0.25em;color: #696969;}#sk-container-id-2 label.sk-toggleable__label-arrow:hover:before {color: black;}#sk-container-id-2 div.sk-estimator:hover label.sk-toggleable__label-arrow:before {color: black;}#sk-container-id-2 div.sk-toggleable__content {max-height: 0;max-width: 0;overflow: hidden;text-align: left;background-color: #f0f8ff;}#sk-container-id-2 div.sk-toggleable__content pre {margin: 0.2em;color: black;border-radius: 0.25em;background-color: #f0f8ff;}#sk-container-id-2 input.sk-toggleable__control:checked~div.sk-toggleable__content {max-height: 200px;max-width: 100%;overflow: auto;}#sk-container-id-2 input.sk-toggleable__control:checked~label.sk-toggleable__label-arrow:before {content: \"▾\";}#sk-container-id-2 div.sk-estimator input.sk-toggleable__control:checked~label.sk-toggleable__label {background-color: #d4ebff;}#sk-container-id-2 div.sk-label input.sk-toggleable__control:checked~label.sk-toggleable__label {background-color: #d4ebff;}#sk-container-id-2 input.sk-hidden--visually {border: 0;clip: rect(1px 1px 1px 1px);clip: rect(1px, 1px, 1px, 1px);height: 1px;margin: -1px;overflow: hidden;padding: 0;position: absolute;width: 1px;}#sk-container-id-2 div.sk-estimator {font-family: monospace;background-color: #f0f8ff;border: 1px dotted black;border-radius: 0.25em;box-sizing: border-box;margin-bottom: 0.5em;}#sk-container-id-2 div.sk-estimator:hover {background-color: #d4ebff;}#sk-container-id-2 div.sk-parallel-item::after {content: \"\";width: 100%;border-bottom: 1px solid gray;flex-grow: 1;}#sk-container-id-2 div.sk-label:hover label.sk-toggleable__label {background-color: #d4ebff;}#sk-container-id-2 div.sk-serial::before {content: \"\";position: absolute;border-left: 1px solid gray;box-sizing: border-box;top: 0;bottom: 0;left: 50%;z-index: 0;}#sk-container-id-2 div.sk-serial {display: flex;flex-direction: column;align-items: center;background-color: white;padding-right: 0.2em;padding-left: 0.2em;position: relative;}#sk-container-id-2 div.sk-item {position: relative;z-index: 1;}#sk-container-id-2 div.sk-parallel {display: flex;align-items: stretch;justify-content: center;background-color: white;position: relative;}#sk-container-id-2 div.sk-item::before, #sk-container-id-2 div.sk-parallel-item::before {content: \"\";position: absolute;border-left: 1px solid gray;box-sizing: border-box;top: 0;bottom: 0;left: 50%;z-index: -1;}#sk-container-id-2 div.sk-parallel-item {display: flex;flex-direction: column;z-index: 1;position: relative;background-color: white;}#sk-container-id-2 div.sk-parallel-item:first-child::after {align-self: flex-end;width: 50%;}#sk-container-id-2 div.sk-parallel-item:last-child::after {align-self: flex-start;width: 50%;}#sk-container-id-2 div.sk-parallel-item:only-child::after {width: 0;}#sk-container-id-2 div.sk-dashed-wrapped {border: 1px dashed gray;margin: 0 0.4em 0.5em 0.4em;box-sizing: border-box;padding-bottom: 0.4em;background-color: white;}#sk-container-id-2 div.sk-label label {font-family: monospace;font-weight: bold;display: inline-block;line-height: 1.2em;}#sk-container-id-2 div.sk-label-container {text-align: center;}#sk-container-id-2 div.sk-container {/* jupyter's `normalize.less` sets `[hidden] { display: none; }` but bootstrap.min.css set `[hidden] { display: none !important; }` so we also need the `!important` here to be able to override the default hidden behavior on the sphinx rendered scikit-learn.org. See: https://github.com/scikit-learn/scikit-learn/issues/21755 */display: inline-block !important;position: relative;}#sk-container-id-2 div.sk-text-repr-fallback {display: none;}</style><div id=\"sk-container-id-2\" class=\"sk-top-container\"><div class=\"sk-text-repr-fallback\"><pre>Pipeline(steps=[(&#x27;tfidfvectorizer&#x27;,\n",
       "                 TfidfVectorizer(max_df=0.15, max_features=10000, min_df=0,\n",
       "                                 norm=None, use_idf=False)),\n",
       "                (&#x27;gridsearchcv&#x27;,\n",
       "                 GridSearchCV(cv=5,\n",
       "                              estimator=MultinomialNB(class_prior=[0.5, 0.5],\n",
       "                                                      fit_prior=False),\n",
       "                              param_grid={&#x27;alpha&#x27;: array([1.e-04, 1.e-03, 1.e-02, 1.e-01, 1.e+00, 1.e+01, 1.e+02, 1.e+03,\n",
       "       1.e+04])},\n",
       "                              return_train_score=True, scoring=&#x27;roc_auc&#x27;))])</pre><b>In a Jupyter environment, please rerun this cell to show the HTML representation or trust the notebook. <br />On GitHub, the HTML representation is unable to render, please try loading this page with nbviewer.org.</b></div><div class=\"sk-container\" hidden><div class=\"sk-item sk-dashed-wrapped\"><div class=\"sk-label-container\"><div class=\"sk-label sk-toggleable\"><input class=\"sk-toggleable__control sk-hidden--visually\" id=\"sk-estimator-id-4\" type=\"checkbox\" ><label for=\"sk-estimator-id-4\" class=\"sk-toggleable__label sk-toggleable__label-arrow\">Pipeline</label><div class=\"sk-toggleable__content\"><pre>Pipeline(steps=[(&#x27;tfidfvectorizer&#x27;,\n",
       "                 TfidfVectorizer(max_df=0.15, max_features=10000, min_df=0,\n",
       "                                 norm=None, use_idf=False)),\n",
       "                (&#x27;gridsearchcv&#x27;,\n",
       "                 GridSearchCV(cv=5,\n",
       "                              estimator=MultinomialNB(class_prior=[0.5, 0.5],\n",
       "                                                      fit_prior=False),\n",
       "                              param_grid={&#x27;alpha&#x27;: array([1.e-04, 1.e-03, 1.e-02, 1.e-01, 1.e+00, 1.e+01, 1.e+02, 1.e+03,\n",
       "       1.e+04])},\n",
       "                              return_train_score=True, scoring=&#x27;roc_auc&#x27;))])</pre></div></div></div><div class=\"sk-serial\"><div class=\"sk-item\"><div class=\"sk-estimator sk-toggleable\"><input class=\"sk-toggleable__control sk-hidden--visually\" id=\"sk-estimator-id-5\" type=\"checkbox\" ><label for=\"sk-estimator-id-5\" class=\"sk-toggleable__label sk-toggleable__label-arrow\">TfidfVectorizer</label><div class=\"sk-toggleable__content\"><pre>TfidfVectorizer(max_df=0.15, max_features=10000, min_df=0, norm=None,\n",
       "                use_idf=False)</pre></div></div></div><div class=\"sk-item sk-dashed-wrapped\"><div class=\"sk-label-container\"><div class=\"sk-label sk-toggleable\"><input class=\"sk-toggleable__control sk-hidden--visually\" id=\"sk-estimator-id-6\" type=\"checkbox\" ><label for=\"sk-estimator-id-6\" class=\"sk-toggleable__label sk-toggleable__label-arrow\">gridsearchcv: GridSearchCV</label><div class=\"sk-toggleable__content\"><pre>GridSearchCV(cv=5,\n",
       "             estimator=MultinomialNB(class_prior=[0.5, 0.5], fit_prior=False),\n",
       "             param_grid={&#x27;alpha&#x27;: array([1.e-04, 1.e-03, 1.e-02, 1.e-01, 1.e+00, 1.e+01, 1.e+02, 1.e+03,\n",
       "       1.e+04])},\n",
       "             return_train_score=True, scoring=&#x27;roc_auc&#x27;)</pre></div></div></div><div class=\"sk-parallel\"><div class=\"sk-parallel-item\"><div class=\"sk-item\"><div class=\"sk-label-container\"><div class=\"sk-label sk-toggleable\"><input class=\"sk-toggleable__control sk-hidden--visually\" id=\"sk-estimator-id-7\" type=\"checkbox\" ><label for=\"sk-estimator-id-7\" class=\"sk-toggleable__label sk-toggleable__label-arrow\">estimator: MultinomialNB</label><div class=\"sk-toggleable__content\"><pre>MultinomialNB(class_prior=[0.5, 0.5], fit_prior=False)</pre></div></div></div><div class=\"sk-serial\"><div class=\"sk-item\"><div class=\"sk-estimator sk-toggleable\"><input class=\"sk-toggleable__control sk-hidden--visually\" id=\"sk-estimator-id-8\" type=\"checkbox\" ><label for=\"sk-estimator-id-8\" class=\"sk-toggleable__label sk-toggleable__label-arrow\">MultinomialNB</label><div class=\"sk-toggleable__content\"><pre>MultinomialNB(class_prior=[0.5, 0.5], fit_prior=False)</pre></div></div></div></div></div></div></div></div></div></div></div></div>"
      ],
      "text/plain": [
       "Pipeline(steps=[('tfidfvectorizer',\n",
       "                 TfidfVectorizer(max_df=0.15, max_features=10000, min_df=0,\n",
       "                                 norm=None, use_idf=False)),\n",
       "                ('gridsearchcv',\n",
       "                 GridSearchCV(cv=5,\n",
       "                              estimator=MultinomialNB(class_prior=[0.5, 0.5],\n",
       "                                                      fit_prior=False),\n",
       "                              param_grid={'alpha': array([1.e-04, 1.e-03, 1.e-02, 1.e-01, 1.e+00, 1.e+01, 1.e+02, 1.e+03,\n",
       "       1.e+04])},\n",
       "                              return_train_score=True, scoring='roc_auc'))])"
      ]
     },
     "execution_count": 82,
     "metadata": {},
     "output_type": "execute_result"
    }
   ],
   "source": [
    "pipeline_TfIdf_hyperparameter_tuning.fit(df_train_TfIdf.cleaned_Review, df_train_TfIdf.Liked)"
   ]
  },
  {
   "cell_type": "code",
   "execution_count": 83,
   "metadata": {
    "id": "HGzlehfLnGZs"
   },
   "outputs": [],
   "source": [
    "results = pd.DataFrame.from_dict(clf.cv_results_)"
   ]
  },
  {
   "cell_type": "code",
   "execution_count": 84,
   "metadata": {
    "id": "Wanh7TQynGcI"
   },
   "outputs": [],
   "source": [
    "#Sorting the results dataframe based on the param_alpha values\n",
    "results = results.sort_values(['param_alpha'])"
   ]
  },
  {
   "cell_type": "code",
   "execution_count": 85,
   "metadata": {
    "id": "BDz8Iwmup_rY"
   },
   "outputs": [],
   "source": [
    "train_auc = results['mean_train_score']"
   ]
  },
  {
   "cell_type": "code",
   "execution_count": 86,
   "metadata": {
    "id": "kmY-o6-ip_vK"
   },
   "outputs": [],
   "source": [
    "cv_auc = results['mean_test_score']"
   ]
  },
  {
   "cell_type": "markdown",
   "metadata": {},
   "source": [
    "We have obtained the **AUC** scores using which we will plot the AUC values to check if there is any overfitting or underfitting. Also, we can find the best value of alpha using AUC plot"
   ]
  },
  {
   "cell_type": "code",
   "execution_count": 87,
   "metadata": {
    "id": "xwQ2-eZup_x5"
   },
   "outputs": [],
   "source": [
    "k = results['param_alpha']"
   ]
  },
  {
   "cell_type": "code",
   "execution_count": 88,
   "metadata": {
    "id": "RPPnB8fsnGfZ"
   },
   "outputs": [],
   "source": [
    "import math\n",
    "\n",
    "#alpha value is taken log alpha value for better visualization\n",
    "alpha1 = []\n",
    "\n",
    "for i in range(0, len(k), 1):\n",
    "  j = math.log10(k[i])\n",
    "  alpha1.append(j)\n",
    "alpha1.sort()"
   ]
  },
  {
   "cell_type": "code",
   "execution_count": 89,
   "metadata": {
    "colab": {
     "base_uri": "https://localhost:8080/"
    },
    "id": "47Zjxe4gxL1o",
    "outputId": "8c3420c9-4939-438b-f5ec-0a98f73ca843"
   },
   "outputs": [
    {
     "name": "stdout",
     "output_type": "stream",
     "text": [
      "[-4.0, -3.0, -2.0, -1.0, 0.0, 1.0, 2.0, 3.0, 4.0]\n"
     ]
    }
   ],
   "source": [
    "print(alpha1)"
   ]
  },
  {
   "cell_type": "code",
   "execution_count": 90,
   "metadata": {
    "colab": {
     "base_uri": "https://localhost:8080/",
     "height": 364
    },
    "id": "lBc6m9IgxL4O",
    "outputId": "e86d0a5b-b6dc-4a95-9bf8-b813b666ff9b"
   },
   "outputs": [
    {
     "data": {
      "image/png": "[encoded data removed]",
      "text/plain": [
       "<Figure size 432x288 with 1 Axes>"
      ]
     },
     "metadata": {
      "needs_background": "light"
     },
     "output_type": "display_data"
    },
    {
     "name": "stdout",
     "output_type": "stream",
     "text": [
      "{'alpha': 1.0}\n",
      "0.8808385614749568\n",
      "Best alpha log value\n",
      "0.0\n"
     ]
    }
   ],
   "source": [
    "plt.plot(alpha1, train_auc, label='Train AUC')\n",
    "plt.plot(alpha1, cv_auc, label='CV AUC')\n",
    "plt.scatter(alpha1, train_auc, label='Train AUC *points')\n",
    "plt.scatter(alpha1, cv_auc, label='CV AUC')\n",
    "\n",
    "plt.legend()\n",
    "plt.xlabel('log alpha base 10: hyperparameter')\n",
    "plt.ylabel('AUC')\n",
    "plt.title('ROCAUC vs LOG Alpha plot')\n",
    "plt.grid()\n",
    "plt.show()\n",
    "\n",
    "print(clf.best_params_)\n",
    "print(clf.best_score_)\n",
    "print('Best alpha log value')\n",
    "a = math.log10(clf.best_params_.get('alpha'))\n",
    "print(a)"
   ]
  },
  {
   "cell_type": "markdown",
   "metadata": {
    "id": "3ztdwVo5zfpz"
   },
   "source": [
    "The blue line is training AUC meaning training data AUC values. The orange line is cross validation AUC values. We can observe that training accuracy is high whereas testing accuracy is low. This means that the model is overfitting. We can observe that at alpha = 1 i.e. log alpha = 0, the graph is bending down. So this can be taken as the best alpha value."
   ]
  },
  {
   "cell_type": "markdown",
   "metadata": {
    "id": "M4fIiwpi3d_q"
   },
   "source": [
    "On the best alpha value, we have to identify the best threshold value which will separate the 2 target classes. Based on the threshold value, we have to plot the confusion matrix."
   ]
  },
  {
   "cell_type": "code",
   "execution_count": 91,
   "metadata": {
    "id": "dz_8L9rZxL7j"
   },
   "outputs": [],
   "source": [
    "from sklearn.metrics import roc_curve, auc"
   ]
  },
  {
   "cell_type": "markdown",
   "metadata": {},
   "source": [
    "We will instantiate **MultinomialNB** model on **alpha=1**"
   ]
  },
  {
   "cell_type": "code",
   "execution_count": 92,
   "metadata": {
    "id": "QhmA8f-M3-Q8"
   },
   "outputs": [],
   "source": [
    "neigh_best_Hyperparameter = MultinomialNB(alpha=1, fit_prior=False, class_prior=l)"
   ]
  },
  {
   "cell_type": "code",
   "execution_count": 93,
   "metadata": {
    "id": "A_dzgXhp3-TF"
   },
   "outputs": [],
   "source": [
    "pipeline_TfIdf_best_Hyperparameter = make_pipeline(vectorizer_tf, neigh_best_Hyperparameter)"
   ]
  },
  {
   "cell_type": "code",
   "execution_count": 94,
   "metadata": {
    "colab": {
     "base_uri": "https://localhost:8080/",
     "height": 126
    },
    "id": "iIB0gNU13-W2",
    "outputId": "abe6c3d7-75ff-45a5-d2d7-856600229dfb"
   },
   "outputs": [
    {
     "data": {
      "text/html": [
       "<style>#sk-container-id-3 {color: black;background-color: white;}#sk-container-id-3 pre{padding: 0;}#sk-container-id-3 div.sk-toggleable {background-color: white;}#sk-container-id-3 label.sk-toggleable__label {cursor: pointer;display: block;width: 100%;margin-bottom: 0;padding: 0.3em;box-sizing: border-box;text-align: center;}#sk-container-id-3 label.sk-toggleable__label-arrow:before {content: \"▸\";float: left;margin-right: 0.25em;color: #696969;}#sk-container-id-3 label.sk-toggleable__label-arrow:hover:before {color: black;}#sk-container-id-3 div.sk-estimator:hover label.sk-toggleable__label-arrow:before {color: black;}#sk-container-id-3 div.sk-toggleable__content {max-height: 0;max-width: 0;overflow: hidden;text-align: left;background-color: #f0f8ff;}#sk-container-id-3 div.sk-toggleable__content pre {margin: 0.2em;color: black;border-radius: 0.25em;background-color: #f0f8ff;}#sk-container-id-3 input.sk-toggleable__control:checked~div.sk-toggleable__content {max-height: 200px;max-width: 100%;overflow: auto;}#sk-container-id-3 input.sk-toggleable__control:checked~label.sk-toggleable__label-arrow:before {content: \"▾\";}#sk-container-id-3 div.sk-estimator input.sk-toggleable__control:checked~label.sk-toggleable__label {background-color: #d4ebff;}#sk-container-id-3 div.sk-label input.sk-toggleable__control:checked~label.sk-toggleable__label {background-color: #d4ebff;}#sk-container-id-3 input.sk-hidden--visually {border: 0;clip: rect(1px 1px 1px 1px);clip: rect(1px, 1px, 1px, 1px);height: 1px;margin: -1px;overflow: hidden;padding: 0;position: absolute;width: 1px;}#sk-container-id-3 div.sk-estimator {font-family: monospace;background-color: #f0f8ff;border: 1px dotted black;border-radius: 0.25em;box-sizing: border-box;margin-bottom: 0.5em;}#sk-container-id-3 div.sk-estimator:hover {background-color: #d4ebff;}#sk-container-id-3 div.sk-parallel-item::after {content: \"\";width: 100%;border-bottom: 1px solid gray;flex-grow: 1;}#sk-container-id-3 div.sk-label:hover label.sk-toggleable__label {background-color: #d4ebff;}#sk-container-id-3 div.sk-serial::before {content: \"\";position: absolute;border-left: 1px solid gray;box-sizing: border-box;top: 0;bottom: 0;left: 50%;z-index: 0;}#sk-container-id-3 div.sk-serial {display: flex;flex-direction: column;align-items: center;background-color: white;padding-right: 0.2em;padding-left: 0.2em;position: relative;}#sk-container-id-3 div.sk-item {position: relative;z-index: 1;}#sk-container-id-3 div.sk-parallel {display: flex;align-items: stretch;justify-content: center;background-color: white;position: relative;}#sk-container-id-3 div.sk-item::before, #sk-container-id-3 div.sk-parallel-item::before {content: \"\";position: absolute;border-left: 1px solid gray;box-sizing: border-box;top: 0;bottom: 0;left: 50%;z-index: -1;}#sk-container-id-3 div.sk-parallel-item {display: flex;flex-direction: column;z-index: 1;position: relative;background-color: white;}#sk-container-id-3 div.sk-parallel-item:first-child::after {align-self: flex-end;width: 50%;}#sk-container-id-3 div.sk-parallel-item:last-child::after {align-self: flex-start;width: 50%;}#sk-container-id-3 div.sk-parallel-item:only-child::after {width: 0;}#sk-container-id-3 div.sk-dashed-wrapped {border: 1px dashed gray;margin: 0 0.4em 0.5em 0.4em;box-sizing: border-box;padding-bottom: 0.4em;background-color: white;}#sk-container-id-3 div.sk-label label {font-family: monospace;font-weight: bold;display: inline-block;line-height: 1.2em;}#sk-container-id-3 div.sk-label-container {text-align: center;}#sk-container-id-3 div.sk-container {/* jupyter's `normalize.less` sets `[hidden] { display: none; }` but bootstrap.min.css set `[hidden] { display: none !important; }` so we also need the `!important` here to be able to override the default hidden behavior on the sphinx rendered scikit-learn.org. See: https://github.com/scikit-learn/scikit-learn/issues/21755 */display: inline-block !important;position: relative;}#sk-container-id-3 div.sk-text-repr-fallback {display: none;}</style><div id=\"sk-container-id-3\" class=\"sk-top-container\"><div class=\"sk-text-repr-fallback\"><pre>Pipeline(steps=[(&#x27;tfidfvectorizer&#x27;,\n",
       "                 TfidfVectorizer(max_df=0.15, max_features=10000, min_df=0,\n",
       "                                 norm=None, use_idf=False)),\n",
       "                (&#x27;multinomialnb&#x27;,\n",
       "                 MultinomialNB(alpha=1, class_prior=[0.5, 0.5],\n",
       "                               fit_prior=False))])</pre><b>In a Jupyter environment, please rerun this cell to show the HTML representation or trust the notebook. <br />On GitHub, the HTML representation is unable to render, please try loading this page with nbviewer.org.</b></div><div class=\"sk-container\" hidden><div class=\"sk-item sk-dashed-wrapped\"><div class=\"sk-label-container\"><div class=\"sk-label sk-toggleable\"><input class=\"sk-toggleable__control sk-hidden--visually\" id=\"sk-estimator-id-9\" type=\"checkbox\" ><label for=\"sk-estimator-id-9\" class=\"sk-toggleable__label sk-toggleable__label-arrow\">Pipeline</label><div class=\"sk-toggleable__content\"><pre>Pipeline(steps=[(&#x27;tfidfvectorizer&#x27;,\n",
       "                 TfidfVectorizer(max_df=0.15, max_features=10000, min_df=0,\n",
       "                                 norm=None, use_idf=False)),\n",
       "                (&#x27;multinomialnb&#x27;,\n",
       "                 MultinomialNB(alpha=1, class_prior=[0.5, 0.5],\n",
       "                               fit_prior=False))])</pre></div></div></div><div class=\"sk-serial\"><div class=\"sk-item\"><div class=\"sk-estimator sk-toggleable\"><input class=\"sk-toggleable__control sk-hidden--visually\" id=\"sk-estimator-id-10\" type=\"checkbox\" ><label for=\"sk-estimator-id-10\" class=\"sk-toggleable__label sk-toggleable__label-arrow\">TfidfVectorizer</label><div class=\"sk-toggleable__content\"><pre>TfidfVectorizer(max_df=0.15, max_features=10000, min_df=0, norm=None,\n",
       "                use_idf=False)</pre></div></div></div><div class=\"sk-item\"><div class=\"sk-estimator sk-toggleable\"><input class=\"sk-toggleable__control sk-hidden--visually\" id=\"sk-estimator-id-11\" type=\"checkbox\" ><label for=\"sk-estimator-id-11\" class=\"sk-toggleable__label sk-toggleable__label-arrow\">MultinomialNB</label><div class=\"sk-toggleable__content\"><pre>MultinomialNB(alpha=1, class_prior=[0.5, 0.5], fit_prior=False)</pre></div></div></div></div></div></div></div>"
      ],
      "text/plain": [
       "Pipeline(steps=[('tfidfvectorizer',\n",
       "                 TfidfVectorizer(max_df=0.15, max_features=10000, min_df=0,\n",
       "                                 norm=None, use_idf=False)),\n",
       "                ('multinomialnb',\n",
       "                 MultinomialNB(alpha=1, class_prior=[0.5, 0.5],\n",
       "                               fit_prior=False))])"
      ]
     },
     "execution_count": 94,
     "metadata": {},
     "output_type": "execute_result"
    }
   ],
   "source": [
    "pipeline_TfIdf_best_Hyperparameter.fit(df_train_TfIdf.cleaned_Review, df_train_TfIdf.Liked)"
   ]
  },
  {
   "cell_type": "code",
   "execution_count": 95,
   "metadata": {
    "id": "gQkjN5Ed6w90"
   },
   "outputs": [],
   "source": [
    "D = vectorizer_tf.fit_transform(df_train_TfIdf.cleaned_Review)"
   ]
  },
  {
   "cell_type": "markdown",
   "metadata": {},
   "source": [
    "**predict_proba** is a function which will predict the probability values to draw the ROC curve"
   ]
  },
  {
   "cell_type": "code",
   "execution_count": 96,
   "metadata": {
    "id": "u0VUfqGqmNo5"
   },
   "outputs": [],
   "source": [
    "y_train_pred_TfIdf_best_Hyperparameter = neigh_best_Hyperparameter.predict_proba(D)[:,1]"
   ]
  },
  {
   "cell_type": "code",
   "execution_count": 97,
   "metadata": {
    "id": "2stK-Lmg7dOo"
   },
   "outputs": [],
   "source": [
    "E = vectorizer_tf.transform(df_test_TfIdf.cleaned_Review)"
   ]
  },
  {
   "cell_type": "code",
   "execution_count": 98,
   "metadata": {
    "id": "ObUq9IBW45aR"
   },
   "outputs": [],
   "source": [
    "y_test_pred_TfIdf_best_Hyperparameter = neigh_best_Hyperparameter.predict_proba(E)[:,1]"
   ]
  },
  {
   "cell_type": "markdown",
   "metadata": {},
   "source": [
    "We will now calculate the fpr value, tpr value and the threshold value for the training and the testing data"
   ]
  },
  {
   "cell_type": "code",
   "execution_count": 99,
   "metadata": {
    "id": "SLxl65ME45fM"
   },
   "outputs": [],
   "source": [
    "train_fpr, train_tpr, tr_thresholds = roc_curve(df_train_TfIdf.Liked, y_train_pred_TfIdf_best_Hyperparameter)"
   ]
  },
  {
   "cell_type": "code",
   "execution_count": 100,
   "metadata": {
    "id": "2BDdWC5J45h9"
   },
   "outputs": [],
   "source": [
    "test_fpr, test_tpr, te_thresholds = roc_curve(df_test_TfIdf.Liked, y_test_pred_TfIdf_best_Hyperparameter)"
   ]
  },
  {
   "cell_type": "code",
   "execution_count": 101,
   "metadata": {
    "colab": {
     "base_uri": "https://localhost:8080/",
     "height": 295
    },
    "id": "anq4wwXu45kR",
    "outputId": "ed48df52-2d2b-4ca1-957c-144370a760c9"
   },
   "outputs": [
    {
     "data": {
      "image/png": "[encoded data removed]",
      "text/plain": [
       "<Figure size 432x288 with 1 Axes>"
      ]
     },
     "metadata": {
      "needs_background": "light"
     },
     "output_type": "display_data"
    }
   ],
   "source": [
    "# auc function will calculate the area under curve\n",
    "plt.plot(train_fpr, train_tpr, label='train AUC = '+str(auc(train_fpr, train_tpr)))\n",
    "plt.plot(test_fpr, test_tpr, label='train AUC = '+str(auc(test_fpr, test_tpr)))\n",
    "plt.legend()\n",
    "plt.xlabel(\"FPR\")\n",
    "plt.ylabel(\"TPR\")\n",
    "plt.title(\"ROC PLOT\")\n",
    "plt.grid()\n",
    "plt.show()"
   ]
  },
  {
   "cell_type": "markdown",
   "metadata": {},
   "source": [
    "In the **ROC PLOT**, the blue line shows the training AUC curve and the orange line shows the testing curve"
   ]
  },
  {
   "cell_type": "markdown",
   "metadata": {
    "id": "jlRjN88m-LKk"
   },
   "source": [
    "For confusion matrix, we need the threshold value at which we have the best AUC value"
   ]
  },
  {
   "cell_type": "code",
   "execution_count": 102,
   "metadata": {
    "id": "8MdDEeen8-Be"
   },
   "outputs": [],
   "source": [
    "def bestthreshold(threshold, fpr, tpr):\n",
    "  #We will fetch the threshold value at which the the product of tpr and (1-fpr) is the maximum\n",
    "  t= threshold[np.argmax(tpr*(1-fpr))]\n",
    "  print('The maximum value of tpr*(1-tpr)', max(tpr*(1-fpr)))\n",
    "  return t"
   ]
  },
  {
   "cell_type": "code",
   "execution_count": 103,
   "metadata": {
    "id": "nucM5n7G8-D8"
   },
   "outputs": [],
   "source": [
    "# Defining function to predict using the threshold value \n",
    "def predictusingbestt(proba, threshold):\n",
    "  predictions = []\n",
    "  for i in proba:\n",
    "    if i >= threshold:\n",
    "      # Probabiity value greater than or equal to the threshold value is considered as class 1\n",
    "      predictions.append(1)\n",
    "    else:\n",
    "      # Probabiity value less than the threshold value is considered as class 0\n",
    "      predictions.append(0)\n",
    "  return predictions"
   ]
  },
  {
   "cell_type": "code",
   "execution_count": 104,
   "metadata": {
    "colab": {
     "base_uri": "https://localhost:8080/"
    },
    "id": "b5c0ePWS8-Hd",
    "outputId": "b82458c8-f481-4416-ab39-721a4b3818ce"
   },
   "outputs": [
    {
     "name": "stdout",
     "output_type": "stream",
     "text": [
      "The maximum value of tpr*(1-tpr) 0.9095230638450181\n"
     ]
    }
   ],
   "source": [
    "best_t = bestthreshold(tr_thresholds, train_fpr, train_tpr)"
   ]
  },
  {
   "cell_type": "code",
   "execution_count": 105,
   "metadata": {
    "colab": {
     "base_uri": "https://localhost:8080/"
    },
    "id": "wT3lTmGKQRlH",
    "outputId": "6527239d-46a3-4301-f531-f9e2548faf5b"
   },
   "outputs": [
    {
     "data": {
      "text/plain": [
       "(846,)"
      ]
     },
     "execution_count": 105,
     "metadata": {},
     "output_type": "execute_result"
    }
   ],
   "source": [
    "y_train_pred_TfIdf_best_Hyperparameter.shape"
   ]
  },
  {
   "cell_type": "markdown",
   "metadata": {},
   "source": [
    "Plotting the confusion matrix for training data"
   ]
  },
  {
   "cell_type": "code",
   "execution_count": 106,
   "metadata": {
    "colab": {
     "base_uri": "https://localhost:8080/",
     "height": 296
    },
    "id": "GFbkVMrg45ni",
    "outputId": "9a4328ad-4512-4047-a951-2f2fda205a68"
   },
   "outputs": [
    {
     "name": "stdout",
     "output_type": "stream",
     "text": [
      "Train confusion matrix\n"
     ]
    },
    {
     "data": {
      "image/png": "[encoded data removed]",
      "text/plain": [
       "<Figure size 432x288 with 2 Axes>"
      ]
     },
     "metadata": {
      "needs_background": "light"
     },
     "output_type": "display_data"
    }
   ],
   "source": [
    "print(\"Train confusion matrix\")\n",
    "ax = sns.heatmap(confusion_matrix(df_train_TfIdf.Liked, predictusingbestt(y_train_pred_TfIdf_best_Hyperparameter, best_t)),annot=True,fmt='d')\n",
    "ax.set_ylim([0,2])\n",
    "plt.ylabel('actual values')\n",
    "plt.xlabel('predicted values')\n",
    "plt.show()"
   ]
  },
  {
   "cell_type": "markdown",
   "metadata": {},
   "source": [
    "Plotting the confusion matrix for testing data"
   ]
  },
  {
   "cell_type": "code",
   "execution_count": 107,
   "metadata": {
    "colab": {
     "base_uri": "https://localhost:8080/",
     "height": 296
    },
    "id": "tYvJjNDtNWxi",
    "outputId": "6e3305cf-b06f-433c-df7e-8560095dd75d"
   },
   "outputs": [
    {
     "name": "stdout",
     "output_type": "stream",
     "text": [
      "Test confusion matrix\n"
     ]
    },
    {
     "data": {
      "image/png": "[encoded data removed]",
      "text/plain": [
       "<Figure size 432x288 with 2 Axes>"
      ]
     },
     "metadata": {
      "needs_background": "light"
     },
     "output_type": "display_data"
    }
   ],
   "source": [
    "print(\"Test confusion matrix\")\n",
    "ax = sns.heatmap(confusion_matrix(df_test_TfIdf.Liked, predictusingbestt(y_test_pred_TfIdf_best_Hyperparameter, best_t)),annot=True,fmt='d')\n",
    "ax.set_ylim([0,2])\n",
    "plt.ylabel('actual values')\n",
    "plt.xlabel('predicted values')\n",
    "plt.show()"
   ]
  },
  {
   "cell_type": "markdown",
   "metadata": {},
   "source": [
    "Based on the training and testing confusion matrix, it can be observed that the model performance is poor as it is underfitting. This could be because the dataset has less number of records and thus there is less data for training purpose"
   ]
  },
  {
   "cell_type": "markdown",
   "metadata": {
    "id": "oG9FeFm2UG1B"
   },
   "source": [
    "#### Creating a Word2Vec object"
   ]
  },
  {
   "cell_type": "markdown",
   "metadata": {
    "id": "JXgza0lIUG1B"
   },
   "source": [
    "Using TfIdf, we will not get much semantic information about the text. To overcome this drawback, we will use the concept of word embeddings. **Word2Vec** is a word embedding technique"
   ]
  },
  {
   "cell_type": "markdown",
   "metadata": {
    "id": "tdDhvKkPfN4L"
   },
   "source": [
    "Importing **gensim** library"
   ]
  },
  {
   "cell_type": "code",
   "execution_count": 108,
   "metadata": {
    "id": "LrnR7qFCUG1B"
   },
   "outputs": [],
   "source": [
    "import gensim"
   ]
  },
  {
   "cell_type": "markdown",
   "metadata": {
    "id": "_AsYjOJWfN4M"
   },
   "source": [
    "Importing **Word2Vec** from **gensim**"
   ]
  },
  {
   "cell_type": "code",
   "execution_count": 109,
   "metadata": {
    "id": "1dcQCtuAUG1B"
   },
   "outputs": [],
   "source": [
    "from gensim.models import  Word2Vec"
   ]
  },
  {
   "cell_type": "code",
   "execution_count": 110,
   "metadata": {
    "colab": {
     "base_uri": "https://localhost:8080/",
     "height": 206
    },
    "id": "V6rYOTJ5k-ob",
    "outputId": "0b1fd3e4-8cfa-421d-f668-cdf7e106811c"
   },
   "outputs": [
    {
     "data": {
      "text/html": [
       "\n",
       "  <div id=\"df-ad96226e-3458-4779-a6b4-72b1b95e5711\">\n",
       "    <div class=\"colab-df-container\">\n",
       "      <div>\n",
       "<style scoped>\n",
       "    .dataframe tbody tr th:only-of-type {\n",
       "        vertical-align: middle;\n",
       "    }\n",
       "\n",
       "    .dataframe tbody tr th {\n",
       "        vertical-align: top;\n",
       "    }\n",
       "\n",
       "    .dataframe thead th {\n",
       "        text-align: right;\n",
       "    }\n",
       "</style>\n",
       "<table border=\"1\" class=\"dataframe\">\n",
       "  <thead>\n",
       "    <tr style=\"text-align: right;\">\n",
       "      <th></th>\n",
       "      <th>cleaned_Review</th>\n",
       "      <th>Liked</th>\n",
       "      <th>Length</th>\n",
       "    </tr>\n",
       "  </thead>\n",
       "  <tbody>\n",
       "    <tr>\n",
       "      <th>0</th>\n",
       "      <td>['wow', 'loved', 'place']</td>\n",
       "      <td>1</td>\n",
       "      <td>24</td>\n",
       "    </tr>\n",
       "    <tr>\n",
       "      <th>1</th>\n",
       "      <td>['crust', 'not', 'good']</td>\n",
       "      <td>0</td>\n",
       "      <td>18</td>\n",
       "    </tr>\n",
       "    <tr>\n",
       "      <th>2</th>\n",
       "      <td>['not', 'tasty', 'texture', 'nasty']</td>\n",
       "      <td>0</td>\n",
       "      <td>41</td>\n",
       "    </tr>\n",
       "    <tr>\n",
       "      <th>3</th>\n",
       "      <td>['stopped', 'during', 'late', 'may', 'bank', 'holiday', 'rick', 'steve', 'recommendation', 'loved']</td>\n",
       "      <td>1</td>\n",
       "      <td>87</td>\n",
       "    </tr>\n",
       "    <tr>\n",
       "      <th>4</th>\n",
       "      <td>['selection', 'menu', 'great', 'price']</td>\n",
       "      <td>1</td>\n",
       "      <td>59</td>\n",
       "    </tr>\n",
       "  </tbody>\n",
       "</table>\n",
       "</div>\n",
       "      <button class=\"colab-df-convert\" onclick=\"convertToInteractive('df-ad96226e-3458-4779-a6b4-72b1b95e5711')\"\n",
       "              title=\"Convert this dataframe to an interactive table.\"\n",
       "              style=\"display:none;\">\n",
       "        \n",
       "  <svg xmlns=\"http://www.w3.org/2000/svg\" height=\"24px\"viewBox=\"0 0 24 24\"\n",
       "       width=\"24px\">\n",
       "    <path d=\"M0 0h24v24H0V0z\" fill=\"none\"/>\n",
       "    <path d=\"M18.56 5.44l.94 2.06.94-2.06 2.06-.94-2.06-.94-.94-2.06-.94 2.06-2.06.94zm-11 1L8.5 8.5l.94-2.06 2.06-.94-2.06-.94L8.5 2.5l-.94 2.06-2.06.94zm10 10l.94 2.06.94-2.06 2.06-.94-2.06-.94-.94-2.06-.94 2.06-2.06.94z\"/><path d=\"M17.41 7.96l-1.37-1.37c-.4-.4-.92-.59-1.43-.59-.52 0-1.04.2-1.43.59L10.3 9.45l-7.72 7.72c-.78.78-.78 2.05 0 2.83L4 21.41c.39.39.9.59 1.41.59.51 0 1.02-.2 1.41-.59l7.78-7.78 2.81-2.81c.8-.78.8-2.07 0-2.86zM5.41 20L4 18.59l7.72-7.72 1.47 1.35L5.41 20z\"/>\n",
       "  </svg>\n",
       "      </button>\n",
       "      \n",
       "  <style>\n",
       "    .colab-df-container {\n",
       "      display:flex;\n",
       "      flex-wrap:wrap;\n",
       "      gap: 12px;\n",
       "    }\n",
       "\n",
       "    .colab-df-convert {\n",
       "      background-color: #E8F0FE;\n",
       "      border: none;\n",
       "      border-radius: 50%;\n",
       "      cursor: pointer;\n",
       "      display: none;\n",
       "      fill: #1967D2;\n",
       "      height: 32px;\n",
       "      padding: 0 0 0 0;\n",
       "      width: 32px;\n",
       "    }\n",
       "\n",
       "    .colab-df-convert:hover {\n",
       "      background-color: #E2EBFA;\n",
       "      box-shadow: 0px 1px 2px rgba(60, 64, 67, 0.3), 0px 1px 3px 1px rgba(60, 64, 67, 0.15);\n",
       "      fill: #174EA6;\n",
       "    }\n",
       "\n",
       "    [theme=dark] .colab-df-convert {\n",
       "      background-color: #3B4455;\n",
       "      fill: #D2E3FC;\n",
       "    }\n",
       "\n",
       "    [theme=dark] .colab-df-convert:hover {\n",
       "      background-color: #434B5C;\n",
       "      box-shadow: 0px 1px 3px 1px rgba(0, 0, 0, 0.15);\n",
       "      filter: drop-shadow(0px 1px 2px rgba(0, 0, 0, 0.3));\n",
       "      fill: #FFFFFF;\n",
       "    }\n",
       "  </style>\n",
       "\n",
       "      <script>\n",
       "        const buttonEl =\n",
       "          document.querySelector('#df-ad96226e-3458-4779-a6b4-72b1b95e5711 button.colab-df-convert');\n",
       "        buttonEl.style.display =\n",
       "          google.colab.kernel.accessAllowed ? 'block' : 'none';\n",
       "\n",
       "        async function convertToInteractive(key) {\n",
       "          const element = document.querySelector('#df-ad96226e-3458-4779-a6b4-72b1b95e5711');\n",
       "          const dataTable =\n",
       "            await google.colab.kernel.invokeFunction('convertToInteractive',\n",
       "                                                     [key], {});\n",
       "          if (!dataTable) return;\n",
       "\n",
       "          const docLinkHtml = 'Like what you see? Visit the ' +\n",
       "            '<a target=\"_blank\" href=https://colab.research.google.com/notebooks/data_table.ipynb>data table notebook</a>'\n",
       "            + ' to learn more about interactive tables.';\n",
       "          element.innerHTML = '';\n",
       "          dataTable['output_type'] = 'display_data';\n",
       "          await google.colab.output.renderOutput(dataTable, element);\n",
       "          const docLink = document.createElement('div');\n",
       "          docLink.innerHTML = docLinkHtml;\n",
       "          element.appendChild(docLink);\n",
       "        }\n",
       "      </script>\n",
       "    </div>\n",
       "  </div>\n",
       "  "
      ],
      "text/plain": [
       "                                                                                        cleaned_Review  \\\n",
       "0  ['wow', 'loved', 'place']                                                                             \n",
       "1  ['crust', 'not', 'good']                                                                              \n",
       "2  ['not', 'tasty', 'texture', 'nasty']                                                                  \n",
       "3  ['stopped', 'during', 'late', 'may', 'bank', 'holiday', 'rick', 'steve', 'recommendation', 'loved']   \n",
       "4  ['selection', 'menu', 'great', 'price']                                                               \n",
       "\n",
       "   Liked  Length  \n",
       "0  1      24      \n",
       "1  0      18      \n",
       "2  0      41      \n",
       "3  1      87      \n",
       "4  1      59      "
      ]
     },
     "execution_count": 110,
     "metadata": {},
     "output_type": "execute_result"
    }
   ],
   "source": [
    "Rest_rev.head()"
   ]
  },
  {
   "cell_type": "code",
   "execution_count": 111,
   "metadata": {
    "id": "4pVc1a5qtO5D"
   },
   "outputs": [],
   "source": [
    "Rest_rev['cleaned_Review_processed'] = Rest_rev['cleaned_Review'].apply(eval)"
   ]
  },
  {
   "cell_type": "code",
   "execution_count": 112,
   "metadata": {
    "id": "Z6wWVPeEEzHj"
   },
   "outputs": [],
   "source": [
    "# Inserting the reviews into an empty list\n",
    "\n",
    "sentences = []\n",
    "for i in Rest_rev['cleaned_Review_processed']:\n",
    "  sentences.append(i)"
   ]
  },
  {
   "cell_type": "code",
   "execution_count": 113,
   "metadata": {
    "colab": {
     "base_uri": "https://localhost:8080/"
    },
    "id": "hz7zi8H-FMge",
    "outputId": "0e63ad80-a51e-429e-e3ae-fdcb4b156e84"
   },
   "outputs": [
    {
     "data": {
      "text/plain": [
       "996"
      ]
     },
     "execution_count": 113,
     "metadata": {},
     "output_type": "execute_result"
    }
   ],
   "source": [
    "len(sentences)"
   ]
  },
  {
   "cell_type": "markdown",
   "metadata": {
    "id": "KOm3GM30fN4P"
   },
   "source": [
    "There are a total of **996** sentences or reviews"
   ]
  },
  {
   "cell_type": "code",
   "execution_count": 114,
   "metadata": {
    "colab": {
     "base_uri": "https://localhost:8080/"
    },
    "id": "pN1z66Z9kL5v",
    "outputId": "605e0a7c-8ce7-423e-f5d9-b3a9b8597f3a"
   },
   "outputs": [
    {
     "data": {
      "text/plain": [
       "[['wow', 'loved', 'place'],\n",
       " ['crust', 'not', 'good'],\n",
       " ['not', 'tasty', 'texture', 'nasty'],\n",
       " ['stopped',\n",
       "  'during',\n",
       "  'late',\n",
       "  'may',\n",
       "  'bank',\n",
       "  'holiday',\n",
       "  'rick',\n",
       "  'steve',\n",
       "  'recommendation',\n",
       "  'loved'],\n",
       " ['selection', 'menu', 'great', 'price']]"
      ]
     },
     "execution_count": 114,
     "metadata": {},
     "output_type": "execute_result"
    }
   ],
   "source": [
    "sentences[:5]"
   ]
  },
  {
   "cell_type": "code",
   "execution_count": 115,
   "metadata": {
    "colab": {
     "base_uri": "https://localhost:8080/"
    },
    "id": "bF09F_E2z8iB",
    "outputId": "fb5e9d58-4c10-4f63-85dd-93dc33da6f18"
   },
   "outputs": [
    {
     "name": "stdout",
     "output_type": "stream",
     "text": [
      "4.3.1\n"
     ]
    }
   ],
   "source": [
    "# Checking the version of gensim\n",
    "print(gensim.__version__)"
   ]
  },
  {
   "cell_type": "code",
   "execution_count": 116,
   "metadata": {
    "id": "3X1DgKTRz8rZ"
   },
   "outputs": [],
   "source": [
    "# upgrade gensim library if the version is lower\n",
    "if gensim.__version__ != '4.3.1':\n",
    "  !pip install --upgrade gensim"
   ]
  },
  {
   "cell_type": "markdown",
   "metadata": {
    "id": "jErV9nb_fN4R"
   },
   "source": [
    "Creating a **Word2Vec** model"
   ]
  },
  {
   "cell_type": "code",
   "execution_count": 117,
   "metadata": {
    "id": "R4Tjv2c1W7Sm"
   },
   "outputs": [],
   "source": [
    "# Setting the vector size\n",
    "embedding_size = 58\n",
    "\n",
    "# If there is error while instantiating Word2Vec model, then try restarting the runtime and running entire code again \n",
    "model_Word2Vec = Word2Vec(sentences, vector_size = embedding_size, window=10, min_count=2, sg=0, workers=4)"
   ]
  },
  {
   "cell_type": "markdown",
   "metadata": {
    "id": "-mNLvY4_fN4R"
   },
   "source": [
    "The parameters of **Word2Vec** are explained as below:\n",
    "\n",
    " - **window** refers to the window size i.e. the number of words to be considered before and after     a given word in a document. The idea is to learn the context of this particular word by using     the neighbouring words which are before and after that word\n",
    " - **vector_size** is the embedding size which means we will encode or embed each of the words        into a vector of size **[1 x 58]** \n",
    " - **min_count=2** means the words appearing atleast twice in a document\n",
    " - **sg=0** means we are building a continuous bag of words model"
   ]
  },
  {
   "cell_type": "code",
   "execution_count": 118,
   "metadata": {
    "colab": {
     "base_uri": "https://localhost:8080/"
    },
    "id": "_zR1yCJEpt-S",
    "outputId": "be405ccf-e8c9-4076-ef0c-b11956467a62"
   },
   "outputs": [
    {
     "name": "stdout",
     "output_type": "stream",
     "text": [
      "Word2Vec<vocab=750, vector_size=58, alpha=0.025>\n"
     ]
    }
   ],
   "source": [
    "print(model_Word2Vec)"
   ]
  },
  {
   "cell_type": "markdown",
   "metadata": {
    "id": "Vv2jQteqfN4S"
   },
   "source": [
    "In the instantiated **Word2Vec** model, the model has been able to determine that there are **750** unique words in the vocabulary, each word has been constructed into a vector of size 1 x 58 and the learning rate **alpha** is 0.025."
   ]
  },
  {
   "cell_type": "markdown",
   "metadata": {
    "id": "8tL7y1BAfN4T"
   },
   "source": [
    "Printing the words in the vocabulary"
   ]
  },
  {
   "cell_type": "code",
   "execution_count": 119,
   "metadata": {
    "colab": {
     "base_uri": "https://localhost:8080/"
    },
    "id": "jNvvW2BWEf-k",
    "outputId": "3d47c10c-4527-4c08-9da3-441056ef465c"
   },
   "outputs": [
    {
     "name": "stdout",
     "output_type": "stream",
     "text": [
      "dict_keys(['food', 'not', 'place', 'good', 'service', 'great', 'back', 'time', 'like', 'go', 'really', 'best', 'would', 'restaurant', 'ever', 'one', 'friendly', 'also', 'never', 'nice', 'amazing', 'delicious', 'vega', 'pretty', 'came', 'experience', 'get', 'even', 'disappointed', 'u', 'definitely', 'eat', 'staff', 'minute', 'love', 'server', 'bad', 'going', 'got', 'chicken', 'steak', 'pizza', 'much', 'star', 'first', 'salad', 'price', 'made', 'say', 'dish', 'better', 'could', 'way', 'menu', 'burger', 'think', 'well', 'always', 'worst', 'wait', 'flavor', 'meal', 'table', 'fresh', 'want', 'ordered', 'quality', 'went', 'feel', 'thing', 'sushi', 'order', 'taste', 'fantastic', 'awesome', 'selection', 'enough', 'night', 'everything', 'after', 'buffet', 'still', 'fry', 'know', 'atmosphere', 'bland', 'slow', 'next', 'come', 'sauce', 'tasty', 'perfect', 'sandwich', 'side', 'waited', 'another', 'recommend', 'coming', 'loved', 'meat', 'breakfast', 'worth', 'little', 'lunch', 'excellent', 'probably', 'hot', 'day', 'many', 'bar', 'give', 'spot', 'bit', 'soon', 'cold', 'terrible', 'people', 'before', 'friend', 'clean', 'potato', 'lot', 'every', 'waitress', 'right', 'beer', 'two', 'eating', 'customer', 'owner', 'absolutely', 'tasted', 'impressed', 'quite', 'felt', 'happy', 'said', 'rude', 'getting', 'try', 'dining', 'chip', 'took', 'overall', 'while', 'hour', 'drink', 'since', 'dessert', 'spicy', 'around', 'make', 'special', 'take', 'sure', 'inside', 'warm', 'portion', 'need', 'waiter', 'nothing', 'ambiance', 'cooked', 'super', 'area', 'far', 'tender', 'tried', 'must', 'check', 'attentive', 'dinner', 'found', 'family', 'deal', 'seriously', 'wonderful', 'overpriced', 'town', 'pho', 'hit', 'mediocre', 'management', 'review', 'last', 'poor', 'authentic', 'see', 'hard', 'either', 'done', 'small', 'twice', 'shrimp', 'left', 'horrible', 'enjoy', 'served', 'pasta', 'money', 'taco', 'tell', 'old', 'home', 'kept', 'bread', 'thought', 'year', 'fast', 'egg', 'away', 'disappointing', 'barely', 'eaten', 'asked', 'chef', 'waiting', 'wine', 'thai', 'business', 'trip', 'wrong', 'fish', 'waste', 'tasteless', 'full', 'avoid', 'seafood', 'new', 'heart', 'soup', 'huge', 'suck', 'talk', 'may', 'outside', 'extremely', 'anytime', 'during', 'seated', 'bathroom', 'beef', 'enjoyed', 'sick', 'hand', 'real', 'reasonable', 'fried', 'expect', 'bring', 'ice', 'bacon', 'return', 'quick', 'long', 'zero', 'look', 'sat', 'sweet', 'bay', 'though', 'phoenix', 'highly', 'pay', 'thumb', 'incredible', 'sucked', 'something', 'unfortunately', 'piece', 'pork', 'damn', 'kind', 'average', 'wing', 'hope', 'drive', 'leave', 'cream', 'live', 'sad', 'fact', 'lady', 'thin', 'today', 'yummy', 'bean', 'green', 'running', 'everyone', 'large', 'ask', 'job', 'tea', 'party', 'salmon', 'location', 'close', 'manager', 'gave', 'least', 'visit', 'rice', 'bite', 'high', 'house', 'vegetable', 'dirty', 'considering', 'mouth', 'roll', 'dry', 'possible', 'someone', 'disappointment', 'folk', 'establishment', 'beat', 'fun', 'helpful', 'husband', 'couple', 'elsewhere', 'option', 'wall', 'rare', 'second', 'appetizer', 'greek', 'dressing', 'moist', 'pita', 'texture', 'cheese', 'water', 'hummus', 'checked', 'amount', 'perfectly', 'delight', 'duck', 'empty', 'flat', 'subway', 'nasty', 'ate', 'recommendation', 'top', 'lover', 'salt', 'brought', 'arrived', 'quickly', 'cafe', 'wife', 'liked', 'although', 'bartender', 'tip', 'recommended', 'ambience', 'beautiful', 'music', 'let', 'busy', 'fine', 'guy', 'melt', 'honest', 'chewy', 'expected', 'delish', 'min', 'belly', 'guess', 'strip', 'oh', 'sashimi', 'totally', 'word', 'break', 'walked', 'care', 'frozen', 'wow', 'setting', 'ok', 'half', 'big', 'list', 'world', 'vibe', 'stop', 'favorite', 'edible', 'none', 'course', 'seating', 'biscuit', 'especially', 'unless', 'work', 'mom', 'soggy', 'pleasant', 'pleased', 'white', 'until', 'mean', 'paper', 'regular', 'wanted', 'patio', 'gone', 'homemade', 'boyfriend', 'room', 'maybe', 'generous', 'pulled', 'please', 'believe', 'worse', 'received', 'par', 'stay', 'flavorful', 'point', 'bill', 'rather', 'boy', 'yet', 'group', 'brunch', 'lobster', 'literally', 'total', 'door', 'cool', 'salsa', 'vegetarian', 'used', 'else', 'treated', 'find', 'priced', 'immediately', 'awful', 'ago', 'several', 'deserves', 'stomach', 'different', 'kid', 'stale', 'told', 'lacked', 'watched', 'style', 'outstanding', 'healthy', 'interesting', 'insulted', 'equally', 'dog', 'pancake', 'gyro', 'lacking', 'butter', 'decor', 'crowd', 'impeccable', 'end', 'dont', 'week', 'nicest', 'mistake', 'worker', 'bunch', 'mall', 'filling', 'stuffed', 'char', 'driest', 'favor', 'familiar', 'anyone', 'completely', 'lovely', 'seems', 'judge', 'behind', 'blow', 'shop', 'anyway', 'inexpensive', 'grossed', 'cow', 'simply', 'assure', 'professional', 'tot', 'paid', 'acknowledged', 'whole', 'note', 'margarita', 'disappoint', 'trying', 'flower', 'perfection', 'combination', 'pop', 'crab', 'leg', 'sliced', 'become', 'decorated', 'decent', 'touch', 'mid', 'spice', 'complain', 'anything', 'chinese', 'fly', 'classic', 'simple', 'choose', 'longer', 'serving', 'needle', 'cashier', 'plate', 'fail', 'staying', 'definately', 'low', 'bother', 'offer', 'lost', 'crust', 'spend', 'three', 'started', 'heat', 'head', 'stopped', 'late', 'employee', 'fell', 'tribute', 'crazy', 'nacho', 'flavorless', 'ended', 'legit', 'italian', 'car', 'mexican', 'fan', 'guest', 'recently', 'helped', 'disgusting', 'baby', 'vinegrette', 'tapa', 'however', 'overwhelmed', 'recent', 'actually', 'combo', 'entree', 'rated', 'cheap', 'mmmm', 'presentation', 'promise', 'human', 'hair', 'sign', 'focused', 'non', 'grilled', 'satisfying', 'cute', 'fairly', 'sitting', 'red', 'cake', 'stuff', 'color', 'front', 'ten', 'realized', 'playing', 'cheeseburger', 'mary', 'double', 'dealing', 'main', 'date', 'cook', 'pepper', 'given', 'needed', 'filet', 'bisque', 'passed', 'between', 'mind', 'shower', 'single', 'picture', 'extra', 'added', 'mood', 'set', 'dark', 'building', 'bye', 'almost', 'stayed', 'honestly', 'mayo', 'serf', 'yum', 'event', 'roasted', 'garlic', 'marrow', 'gross', 'bug', 'die', 'cut', 'overcooked', 'tuna', 'hip', 'bagel', 'looking', 'reasonably', 'bakery', 'dine', 'puree', 'rarely', 'joint', 'highlight', 'curry', 'undercooked', 'greeted', 'cover', 'wrap', 'crispy', 'charcoal', 'decided', 'gold', 'mushroom', 'stepped', 'preparing', 'indian', 'boot', 'disrespected', 'bowl', 'valley', 'feeling', 'watch', 'reason', 'station', 'dirt', 'looked', 'sub', 'creamy', 'happened', 'black', 'refill', 'brick', 'omg', 'cocktail', 'seen', 'glad', 'serve', 'doubt', 'above', 'without', 'heard', 'pricing', 'batter', 'fare', 'joke', 'basically', 'oven', 'multiple', 'pace', 'ripped', 'part', 'attitude', 'towards', 'eggplant', 'comfortable', 'lukewarm', 'attack', 'grill', 'downtown', 'excuse', 'life', 'evening', 'treat', 'scallop', 'finally', 'finish', 'beyond', 'similar', 'grease', 'underwhelming', 'boba', 'person', 'cant', 'coffee', 'buck', 'plus', 'others', 'toasted', 'roast', 'tap', 'sugary', 'six', 'stick', 'peanut', 'complaint', 'company', 'bachi', 'opportunity', 'hate', 'delightful', 'summer', 'meh', 'box', 'stir', 'known', 'use', 'third', 'value', 'soooo', 'seasoned', 'convenient', 'neighborhood', 'later', 'wasting', 'seemed'])\n"
     ]
    }
   ],
   "source": [
    "print(model_Word2Vec.wv.key_to_index.keys())"
   ]
  },
  {
   "cell_type": "code",
   "execution_count": 120,
   "metadata": {
    "colab": {
     "base_uri": "https://localhost:8080/"
    },
    "id": "iw6TRaltMiWV",
    "outputId": "24bd69e2-e2d0-4c4a-ec22-d96fefde8128"
   },
   "outputs": [
    {
     "data": {
      "text/plain": [
       "750"
      ]
     },
     "execution_count": 120,
     "metadata": {},
     "output_type": "execute_result"
    }
   ],
   "source": [
    "len(model_Word2Vec.wv.index_to_key)"
   ]
  },
  {
   "cell_type": "markdown",
   "metadata": {
    "id": "itg-xvHbfN4V"
   },
   "source": [
    "Printing the word vector for the word **would** which is present in the vocabulary"
   ]
  },
  {
   "cell_type": "code",
   "execution_count": 121,
   "metadata": {
    "colab": {
     "base_uri": "https://localhost:8080/"
    },
    "id": "rzxxNck-HuPl",
    "outputId": "f54f31c4-3d78-4316-f3c0-38b2b4d63ec7"
   },
   "outputs": [
    {
     "data": {
      "text/plain": [
       "array([ 0.01514115, -0.00961324, -0.00660453,  0.00603276,  0.01852614,\n",
       "       -0.01069007,  0.01285774,  0.02042692, -0.01465452,  0.00351323,\n",
       "        0.00599983, -0.00313249, -0.00995846, -0.00843316,  0.00095628,\n",
       "       -0.00433648,  0.01034943, -0.00972805,  0.00560699,  0.0055531 ,\n",
       "        0.00647502, -0.00054925, -0.0134326 , -0.01639961,  0.00751316,\n",
       "        0.00944268, -0.00824922, -0.02143599, -0.01703957,  0.00579688,\n",
       "       -0.00285452,  0.01546   , -0.00699451,  0.01531813, -0.00690597,\n",
       "        0.01197001,  0.00191412, -0.01845955, -0.00562164,  0.00045019,\n",
       "       -0.00959364,  0.00189218, -0.01729416,  0.00124275,  0.01724606,\n",
       "        0.00382173, -0.0099143 ,  0.00651468,  0.01528347, -0.01314945,\n",
       "       -0.00945721, -0.00932372,  0.01733777, -0.00129032, -0.01784691,\n",
       "       -0.00743761,  0.02301976, -0.01067937], dtype=float32)"
      ]
     },
     "execution_count": 121,
     "metadata": {},
     "output_type": "execute_result"
    }
   ],
   "source": [
    "model_Word2Vec.wv.get_vector('would')"
   ]
  },
  {
   "cell_type": "markdown",
   "metadata": {
    "id": "r-MIxn8AfN4W"
   },
   "source": [
    "Printing the word vector for the word **burger** which is present in the vocabulary"
   ]
  },
  {
   "cell_type": "code",
   "execution_count": 122,
   "metadata": {
    "colab": {
     "base_uri": "https://localhost:8080/"
    },
    "id": "dk_3OrvhIanU",
    "outputId": "c2c34452-0375-41ab-f759-816dfb032de9"
   },
   "outputs": [
    {
     "data": {
      "text/plain": [
       "array([ 0.00613442, -0.00694826, -0.010933  ,  0.01257101,  0.00759333,\n",
       "       -0.01254189, -0.00170843,  0.00350105, -0.00418407, -0.01087684,\n",
       "        0.01156552,  0.0064156 ,  0.01249212,  0.01029224, -0.00549632,\n",
       "        0.00261995,  0.00111417, -0.02277492,  0.01981442,  0.01808374,\n",
       "        0.01515407, -0.00744275, -0.01657623,  0.008225  , -0.00618441,\n",
       "        0.01213085, -0.00571582,  0.00431126,  0.00705072, -0.00470236,\n",
       "        0.00030822,  0.00631908,  0.02162053, -0.0120799 ,  0.00083495,\n",
       "        0.00241429,  0.01215491,  0.00419304, -0.00693927,  0.00854627,\n",
       "       -0.0072486 ,  0.00977073,  0.00980621,  0.0027151 , -0.00606677,\n",
       "        0.00263634,  0.00513194,  0.01712318,  0.01063962, -0.00830426,\n",
       "       -0.000441  , -0.01533537, -0.00621262,  0.00222831, -0.0132033 ,\n",
       "       -0.0168477 ,  0.0209992 ,  0.01839776], dtype=float32)"
      ]
     },
     "execution_count": 122,
     "metadata": {},
     "output_type": "execute_result"
    }
   ],
   "source": [
    "model_Word2Vec.wv.get_vector('burger')"
   ]
  },
  {
   "cell_type": "code",
   "execution_count": 123,
   "metadata": {
    "colab": {
     "base_uri": "https://localhost:8080/"
    },
    "id": "CYmZfmZihpp-",
    "outputId": "499aa56d-c697-4413-aba8-93b0c56270c1"
   },
   "outputs": [
    {
     "data": {
      "text/plain": [
       "996"
      ]
     },
     "execution_count": 123,
     "metadata": {},
     "output_type": "execute_result"
    }
   ],
   "source": [
    "model_Word2Vec.corpus_count"
   ]
  },
  {
   "cell_type": "markdown",
   "metadata": {
    "id": "iYyIJIGHfN4Y"
   },
   "source": [
    "Number of epochs for which the **Word2Vec** model has been trained"
   ]
  },
  {
   "cell_type": "code",
   "execution_count": 124,
   "metadata": {
    "colab": {
     "base_uri": "https://localhost:8080/"
    },
    "id": "_iTdgdWRhptd",
    "outputId": "cf6934b2-0a45-4574-fa2d-0172babac762"
   },
   "outputs": [
    {
     "data": {
      "text/plain": [
       "5"
      ]
     },
     "execution_count": 124,
     "metadata": {},
     "output_type": "execute_result"
    }
   ],
   "source": [
    "model_Word2Vec.epochs"
   ]
  },
  {
   "cell_type": "markdown",
   "metadata": {
    "id": "HfAfLNpafN4Z"
   },
   "source": [
    "Defining the function **generate_vector** which will generate and fetch the word vectors of the 750 words in the vocabulary to generate the document vector so that we can convert the documents into a structured format. Each document vector is essentially an average of all the word vectors of all the words in that document"
   ]
  },
  {
   "cell_type": "code",
   "execution_count": 125,
   "metadata": {
    "id": "ZP6L6xQXHuU8"
   },
   "outputs": [],
   "source": [
    "def document_vector(doc):\n",
    "  #Create document vectors by averaging the word vectors. Remove the out of vocabulary words\n",
    "  doc1 = [word for word in doc if word in model_Word2Vec.wv.index_to_key]\n",
    "  #So essentially, doc1 is a collection of those words which are a part of the vocabulary\n",
    "\n",
    "  wv1 = []\n",
    "\n",
    "  for word in doc1:\n",
    "    wv1.append(model_Word2Vec.wv.get_vector(word)) #Fetching the word vector for all the words in the vocabulary\n",
    "  wv1 = np.array(wv1) #Converting wv1 into a numpy array\n",
    "  wv1_mean = wv1.mean(axis = 0) #Taking the mean/average row wise\n",
    "  return wv1_mean"
   ]
  },
  {
   "cell_type": "code",
   "execution_count": 126,
   "metadata": {
    "colab": {
     "base_uri": "https://localhost:8080/"
    },
    "id": "MYQGZS1BLUR9",
    "outputId": "3007b126-31cc-4963-fdd9-a6bd708a066b"
   },
   "outputs": [
    {
     "name": "stderr",
     "output_type": "stream",
     "text": [
      "<ipython-input-125-c5a7e79dc394>:11: RuntimeWarning: Mean of empty slice.\n",
      "  wv1_mean = wv1.mean(axis = 0) #Taking the mean/average row wise\n"
     ]
    }
   ],
   "source": [
    "# Generate word vectors for the documents\n",
    "Review_temp = Rest_rev['cleaned_Review_processed'].apply(document_vector)"
   ]
  },
  {
   "cell_type": "markdown",
   "metadata": {
    "id": "tij_rAhVfN4b"
   },
   "source": [
    "Fetching the document vectors from the above list **Review_temp** and convert it into a Numpy array"
   ]
  },
  {
   "cell_type": "code",
   "execution_count": 127,
   "metadata": {
    "id": "dnSyGzc-Qo-f"
   },
   "outputs": [],
   "source": [
    "Review_vec = np.ones((len(Review_temp), embedding_size))*np.nan"
   ]
  },
  {
   "cell_type": "code",
   "execution_count": 128,
   "metadata": {
    "id": "RURtLq2yQpBS"
   },
   "outputs": [],
   "source": [
    "for i in range(Review_vec.shape[0]):\n",
    "  Review_vec[i,:] = Review_temp.iloc[i]"
   ]
  },
  {
   "cell_type": "code",
   "execution_count": 129,
   "metadata": {
    "colab": {
     "base_uri": "https://localhost:8080/"
    },
    "id": "2Ai2m-StQpDv",
    "outputId": "3e491ba1-b564-4e09-e81f-2e94104e205d"
   },
   "outputs": [
    {
     "data": {
      "text/plain": [
       "(996, 58)"
      ]
     },
     "execution_count": 129,
     "metadata": {},
     "output_type": "execute_result"
    }
   ],
   "source": [
    "Review_vec.shape"
   ]
  },
  {
   "cell_type": "markdown",
   "metadata": {
    "id": "vyp-BgmxfN4e"
   },
   "source": [
    "Converting the Numpy array into a pandas dataframe"
   ]
  },
  {
   "cell_type": "code",
   "execution_count": 130,
   "metadata": {
    "id": "xPxiW8J2R1Gf"
   },
   "outputs": [],
   "source": [
    "Rest_rev_vectorized = pd.DataFrame(Review_vec)"
   ]
  },
  {
   "cell_type": "code",
   "execution_count": 131,
   "metadata": {
    "id": "xXVmY2C1R1JK"
   },
   "outputs": [],
   "source": [
    "#Adding the column for dependent feature in the Rest_rev_vectorized dataframe\n",
    "Rest_rev_vectorized['Liked'] = Rest_rev['Liked']"
   ]
  },
  {
   "cell_type": "code",
   "execution_count": 132,
   "metadata": {
    "id": "g-0NMIdhUx31"
   },
   "outputs": [],
   "source": [
    "Rest_rev_vectorized.dropna(how='any', axis=0, inplace=True)"
   ]
  },
  {
   "cell_type": "code",
   "execution_count": 133,
   "metadata": {
    "colab": {
     "base_uri": "https://localhost:8080/",
     "height": 300
    },
    "id": "zmYrbP2HR1Lk",
    "outputId": "487435f9-d02f-4479-ab3e-442ce2571f47"
   },
   "outputs": [
    {
     "data": {
      "text/html": [
       "\n",
       "  <div id=\"df-fa8b6d13-eff1-4658-9d4d-97beb4a24802\">\n",
       "    <div class=\"colab-df-container\">\n",
       "      <div>\n",
       "<style scoped>\n",
       "    .dataframe tbody tr th:only-of-type {\n",
       "        vertical-align: middle;\n",
       "    }\n",
       "\n",
       "    .dataframe tbody tr th {\n",
       "        vertical-align: top;\n",
       "    }\n",
       "\n",
       "    .dataframe thead th {\n",
       "        text-align: right;\n",
       "    }\n",
       "</style>\n",
       "<table border=\"1\" class=\"dataframe\">\n",
       "  <thead>\n",
       "    <tr style=\"text-align: right;\">\n",
       "      <th></th>\n",
       "      <th>0</th>\n",
       "      <th>1</th>\n",
       "      <th>2</th>\n",
       "      <th>3</th>\n",
       "      <th>4</th>\n",
       "      <th>5</th>\n",
       "      <th>6</th>\n",
       "      <th>7</th>\n",
       "      <th>8</th>\n",
       "      <th>9</th>\n",
       "      <th>...</th>\n",
       "      <th>49</th>\n",
       "      <th>50</th>\n",
       "      <th>51</th>\n",
       "      <th>52</th>\n",
       "      <th>53</th>\n",
       "      <th>54</th>\n",
       "      <th>55</th>\n",
       "      <th>56</th>\n",
       "      <th>57</th>\n",
       "      <th>Liked</th>\n",
       "    </tr>\n",
       "  </thead>\n",
       "  <tbody>\n",
       "    <tr>\n",
       "      <th>0</th>\n",
       "      <td>0.003592</td>\n",
       "      <td>0.006200</td>\n",
       "      <td>-0.013609</td>\n",
       "      <td>-0.004918</td>\n",
       "      <td>0.000450</td>\n",
       "      <td>-0.004865</td>\n",
       "      <td>0.004152</td>\n",
       "      <td>0.003265</td>\n",
       "      <td>-0.001836</td>\n",
       "      <td>0.000402</td>\n",
       "      <td>...</td>\n",
       "      <td>0.001226</td>\n",
       "      <td>0.013196</td>\n",
       "      <td>-0.012292</td>\n",
       "      <td>0.008281</td>\n",
       "      <td>-0.006230</td>\n",
       "      <td>-0.002041</td>\n",
       "      <td>-0.006412</td>\n",
       "      <td>0.004471</td>\n",
       "      <td>0.001397</td>\n",
       "      <td>1</td>\n",
       "    </tr>\n",
       "    <tr>\n",
       "      <th>1</th>\n",
       "      <td>0.002502</td>\n",
       "      <td>0.001749</td>\n",
       "      <td>-0.006505</td>\n",
       "      <td>-0.005505</td>\n",
       "      <td>0.004584</td>\n",
       "      <td>-0.012269</td>\n",
       "      <td>-0.009285</td>\n",
       "      <td>0.004965</td>\n",
       "      <td>-0.008709</td>\n",
       "      <td>0.007086</td>\n",
       "      <td>...</td>\n",
       "      <td>0.000537</td>\n",
       "      <td>0.001469</td>\n",
       "      <td>-0.005735</td>\n",
       "      <td>0.005812</td>\n",
       "      <td>-0.001860</td>\n",
       "      <td>-0.010096</td>\n",
       "      <td>0.006853</td>\n",
       "      <td>0.010440</td>\n",
       "      <td>0.003866</td>\n",
       "      <td>0</td>\n",
       "    </tr>\n",
       "    <tr>\n",
       "      <th>2</th>\n",
       "      <td>-0.001049</td>\n",
       "      <td>0.011581</td>\n",
       "      <td>0.001636</td>\n",
       "      <td>-0.007049</td>\n",
       "      <td>0.001204</td>\n",
       "      <td>-0.006640</td>\n",
       "      <td>-0.002933</td>\n",
       "      <td>0.006772</td>\n",
       "      <td>-0.002908</td>\n",
       "      <td>0.008271</td>\n",
       "      <td>...</td>\n",
       "      <td>0.004912</td>\n",
       "      <td>-0.006462</td>\n",
       "      <td>-0.014360</td>\n",
       "      <td>-0.000134</td>\n",
       "      <td>-0.003848</td>\n",
       "      <td>-0.006394</td>\n",
       "      <td>0.001559</td>\n",
       "      <td>0.003041</td>\n",
       "      <td>-0.000569</td>\n",
       "      <td>0</td>\n",
       "    </tr>\n",
       "    <tr>\n",
       "      <th>3</th>\n",
       "      <td>-0.003374</td>\n",
       "      <td>-0.000343</td>\n",
       "      <td>-0.002204</td>\n",
       "      <td>0.002629</td>\n",
       "      <td>0.000738</td>\n",
       "      <td>-0.001872</td>\n",
       "      <td>-0.001381</td>\n",
       "      <td>0.006825</td>\n",
       "      <td>0.000895</td>\n",
       "      <td>0.001059</td>\n",
       "      <td>...</td>\n",
       "      <td>0.002622</td>\n",
       "      <td>0.003508</td>\n",
       "      <td>0.001383</td>\n",
       "      <td>0.001170</td>\n",
       "      <td>-0.008589</td>\n",
       "      <td>-0.001474</td>\n",
       "      <td>-0.000349</td>\n",
       "      <td>0.007294</td>\n",
       "      <td>0.002740</td>\n",
       "      <td>1</td>\n",
       "    </tr>\n",
       "    <tr>\n",
       "      <th>4</th>\n",
       "      <td>0.000676</td>\n",
       "      <td>0.006174</td>\n",
       "      <td>-0.000149</td>\n",
       "      <td>0.000358</td>\n",
       "      <td>0.011925</td>\n",
       "      <td>-0.000339</td>\n",
       "      <td>0.000089</td>\n",
       "      <td>-0.003297</td>\n",
       "      <td>0.002364</td>\n",
       "      <td>0.004042</td>\n",
       "      <td>...</td>\n",
       "      <td>-0.002201</td>\n",
       "      <td>0.002006</td>\n",
       "      <td>0.002768</td>\n",
       "      <td>0.001092</td>\n",
       "      <td>0.007932</td>\n",
       "      <td>-0.000372</td>\n",
       "      <td>0.003050</td>\n",
       "      <td>0.007874</td>\n",
       "      <td>0.000308</td>\n",
       "      <td>1</td>\n",
       "    </tr>\n",
       "  </tbody>\n",
       "</table>\n",
       "<p>5 rows × 59 columns</p>\n",
       "</div>\n",
       "      <button class=\"colab-df-convert\" onclick=\"convertToInteractive('df-fa8b6d13-eff1-4658-9d4d-97beb4a24802')\"\n",
       "              title=\"Convert this dataframe to an interactive table.\"\n",
       "              style=\"display:none;\">\n",
       "        \n",
       "  <svg xmlns=\"http://www.w3.org/2000/svg\" height=\"24px\"viewBox=\"0 0 24 24\"\n",
       "       width=\"24px\">\n",
       "    <path d=\"M0 0h24v24H0V0z\" fill=\"none\"/>\n",
       "    <path d=\"M18.56 5.44l.94 2.06.94-2.06 2.06-.94-2.06-.94-.94-2.06-.94 2.06-2.06.94zm-11 1L8.5 8.5l.94-2.06 2.06-.94-2.06-.94L8.5 2.5l-.94 2.06-2.06.94zm10 10l.94 2.06.94-2.06 2.06-.94-2.06-.94-.94-2.06-.94 2.06-2.06.94z\"/><path d=\"M17.41 7.96l-1.37-1.37c-.4-.4-.92-.59-1.43-.59-.52 0-1.04.2-1.43.59L10.3 9.45l-7.72 7.72c-.78.78-.78 2.05 0 2.83L4 21.41c.39.39.9.59 1.41.59.51 0 1.02-.2 1.41-.59l7.78-7.78 2.81-2.81c.8-.78.8-2.07 0-2.86zM5.41 20L4 18.59l7.72-7.72 1.47 1.35L5.41 20z\"/>\n",
       "  </svg>\n",
       "      </button>\n",
       "      \n",
       "  <style>\n",
       "    .colab-df-container {\n",
       "      display:flex;\n",
       "      flex-wrap:wrap;\n",
       "      gap: 12px;\n",
       "    }\n",
       "\n",
       "    .colab-df-convert {\n",
       "      background-color: #E8F0FE;\n",
       "      border: none;\n",
       "      border-radius: 50%;\n",
       "      cursor: pointer;\n",
       "      display: none;\n",
       "      fill: #1967D2;\n",
       "      height: 32px;\n",
       "      padding: 0 0 0 0;\n",
       "      width: 32px;\n",
       "    }\n",
       "\n",
       "    .colab-df-convert:hover {\n",
       "      background-color: #E2EBFA;\n",
       "      box-shadow: 0px 1px 2px rgba(60, 64, 67, 0.3), 0px 1px 3px 1px rgba(60, 64, 67, 0.15);\n",
       "      fill: #174EA6;\n",
       "    }\n",
       "\n",
       "    [theme=dark] .colab-df-convert {\n",
       "      background-color: #3B4455;\n",
       "      fill: #D2E3FC;\n",
       "    }\n",
       "\n",
       "    [theme=dark] .colab-df-convert:hover {\n",
       "      background-color: #434B5C;\n",
       "      box-shadow: 0px 1px 3px 1px rgba(0, 0, 0, 0.15);\n",
       "      filter: drop-shadow(0px 1px 2px rgba(0, 0, 0, 0.3));\n",
       "      fill: #FFFFFF;\n",
       "    }\n",
       "  </style>\n",
       "\n",
       "      <script>\n",
       "        const buttonEl =\n",
       "          document.querySelector('#df-fa8b6d13-eff1-4658-9d4d-97beb4a24802 button.colab-df-convert');\n",
       "        buttonEl.style.display =\n",
       "          google.colab.kernel.accessAllowed ? 'block' : 'none';\n",
       "\n",
       "        async function convertToInteractive(key) {\n",
       "          const element = document.querySelector('#df-fa8b6d13-eff1-4658-9d4d-97beb4a24802');\n",
       "          const dataTable =\n",
       "            await google.colab.kernel.invokeFunction('convertToInteractive',\n",
       "                                                     [key], {});\n",
       "          if (!dataTable) return;\n",
       "\n",
       "          const docLinkHtml = 'Like what you see? Visit the ' +\n",
       "            '<a target=\"_blank\" href=https://colab.research.google.com/notebooks/data_table.ipynb>data table notebook</a>'\n",
       "            + ' to learn more about interactive tables.';\n",
       "          element.innerHTML = '';\n",
       "          dataTable['output_type'] = 'display_data';\n",
       "          await google.colab.output.renderOutput(dataTable, element);\n",
       "          const docLink = document.createElement('div');\n",
       "          docLink.innerHTML = docLinkHtml;\n",
       "          element.appendChild(docLink);\n",
       "        }\n",
       "      </script>\n",
       "    </div>\n",
       "  </div>\n",
       "  "
      ],
      "text/plain": [
       "          0         1         2         3         4         5         6  \\\n",
       "0  0.003592  0.006200 -0.013609 -0.004918  0.000450 -0.004865  0.004152   \n",
       "1  0.002502  0.001749 -0.006505 -0.005505  0.004584 -0.012269 -0.009285   \n",
       "2 -0.001049  0.011581  0.001636 -0.007049  0.001204 -0.006640 -0.002933   \n",
       "3 -0.003374 -0.000343 -0.002204  0.002629  0.000738 -0.001872 -0.001381   \n",
       "4  0.000676  0.006174 -0.000149  0.000358  0.011925 -0.000339  0.000089   \n",
       "\n",
       "          7         8         9  ...        49        50        51        52  \\\n",
       "0  0.003265 -0.001836  0.000402  ...  0.001226  0.013196 -0.012292  0.008281   \n",
       "1  0.004965 -0.008709  0.007086  ...  0.000537  0.001469 -0.005735  0.005812   \n",
       "2  0.006772 -0.002908  0.008271  ...  0.004912 -0.006462 -0.014360 -0.000134   \n",
       "3  0.006825  0.000895  0.001059  ...  0.002622  0.003508  0.001383  0.001170   \n",
       "4 -0.003297  0.002364  0.004042  ... -0.002201  0.002006  0.002768  0.001092   \n",
       "\n",
       "         53        54        55        56        57  Liked  \n",
       "0 -0.006230 -0.002041 -0.006412  0.004471  0.001397  1      \n",
       "1 -0.001860 -0.010096  0.006853  0.010440  0.003866  0      \n",
       "2 -0.003848 -0.006394  0.001559  0.003041 -0.000569  0      \n",
       "3 -0.008589 -0.001474 -0.000349  0.007294  0.002740  1      \n",
       "4  0.007932 -0.000372  0.003050  0.007874  0.000308  1      \n",
       "\n",
       "[5 rows x 59 columns]"
      ]
     },
     "execution_count": 133,
     "metadata": {},
     "output_type": "execute_result"
    }
   ],
   "source": [
    "Rest_rev_vectorized.head()"
   ]
  },
  {
   "cell_type": "code",
   "execution_count": 134,
   "metadata": {
    "id": "i5vXkaeW5U7Q"
   },
   "outputs": [],
   "source": [
    "from sklearn.model_selection import train_test_split, StratifiedShuffleSplit\n",
    "df_train_Word2Vec, df_test_Word2Vec = train_test_split(Rest_rev_vectorized, test_size = 0.15, random_state = 42, shuffle=True)"
   ]
  },
  {
   "cell_type": "code",
   "execution_count": 135,
   "metadata": {
    "id": "ycbYBd1p5jG_"
   },
   "outputs": [],
   "source": [
    "df_train_Word2Vec.reset_index(inplace = True, drop = True)"
   ]
  },
  {
   "cell_type": "code",
   "execution_count": 136,
   "metadata": {
    "id": "n2p5fPFb5jKY"
   },
   "outputs": [],
   "source": [
    "df_test_Word2Vec.reset_index(inplace = True, drop = True)"
   ]
  },
  {
   "cell_type": "code",
   "execution_count": 137,
   "metadata": {
    "colab": {
     "base_uri": "https://localhost:8080/",
     "height": 300
    },
    "id": "olm3CM5bR1Rx",
    "outputId": "5864151b-f7bb-46a1-825b-3ec200e0165d"
   },
   "outputs": [
    {
     "data": {
      "text/html": [
       "\n",
       "  <div id=\"df-f3a890f0-b418-448f-8f5e-c726d7b5875b\">\n",
       "    <div class=\"colab-df-container\">\n",
       "      <div>\n",
       "<style scoped>\n",
       "    .dataframe tbody tr th:only-of-type {\n",
       "        vertical-align: middle;\n",
       "    }\n",
       "\n",
       "    .dataframe tbody tr th {\n",
       "        vertical-align: top;\n",
       "    }\n",
       "\n",
       "    .dataframe thead th {\n",
       "        text-align: right;\n",
       "    }\n",
       "</style>\n",
       "<table border=\"1\" class=\"dataframe\">\n",
       "  <thead>\n",
       "    <tr style=\"text-align: right;\">\n",
       "      <th></th>\n",
       "      <th>0</th>\n",
       "      <th>1</th>\n",
       "      <th>2</th>\n",
       "      <th>3</th>\n",
       "      <th>4</th>\n",
       "      <th>5</th>\n",
       "      <th>6</th>\n",
       "      <th>7</th>\n",
       "      <th>8</th>\n",
       "      <th>9</th>\n",
       "      <th>...</th>\n",
       "      <th>49</th>\n",
       "      <th>50</th>\n",
       "      <th>51</th>\n",
       "      <th>52</th>\n",
       "      <th>53</th>\n",
       "      <th>54</th>\n",
       "      <th>55</th>\n",
       "      <th>56</th>\n",
       "      <th>57</th>\n",
       "      <th>Liked</th>\n",
       "    </tr>\n",
       "  </thead>\n",
       "  <tbody>\n",
       "    <tr>\n",
       "      <th>0</th>\n",
       "      <td>0.008035</td>\n",
       "      <td>-0.003850</td>\n",
       "      <td>-0.003342</td>\n",
       "      <td>-0.000936</td>\n",
       "      <td>0.002266</td>\n",
       "      <td>-0.012516</td>\n",
       "      <td>0.007263</td>\n",
       "      <td>0.013089</td>\n",
       "      <td>-0.004368</td>\n",
       "      <td>-0.005748</td>\n",
       "      <td>...</td>\n",
       "      <td>0.009466</td>\n",
       "      <td>-0.007482</td>\n",
       "      <td>-0.001331</td>\n",
       "      <td>0.000221</td>\n",
       "      <td>-0.009684</td>\n",
       "      <td>0.000273</td>\n",
       "      <td>-0.015466</td>\n",
       "      <td>0.002437</td>\n",
       "      <td>-0.008197</td>\n",
       "      <td>1</td>\n",
       "    </tr>\n",
       "    <tr>\n",
       "      <th>1</th>\n",
       "      <td>0.002690</td>\n",
       "      <td>-0.004097</td>\n",
       "      <td>-0.004989</td>\n",
       "      <td>-0.006400</td>\n",
       "      <td>0.002178</td>\n",
       "      <td>-0.006656</td>\n",
       "      <td>0.004311</td>\n",
       "      <td>0.001269</td>\n",
       "      <td>-0.004836</td>\n",
       "      <td>0.004008</td>\n",
       "      <td>...</td>\n",
       "      <td>0.002005</td>\n",
       "      <td>0.003320</td>\n",
       "      <td>-0.002327</td>\n",
       "      <td>0.002139</td>\n",
       "      <td>-0.006671</td>\n",
       "      <td>-0.004935</td>\n",
       "      <td>-0.002321</td>\n",
       "      <td>0.003031</td>\n",
       "      <td>-0.003555</td>\n",
       "      <td>1</td>\n",
       "    </tr>\n",
       "    <tr>\n",
       "      <th>2</th>\n",
       "      <td>0.001068</td>\n",
       "      <td>0.003947</td>\n",
       "      <td>-0.009668</td>\n",
       "      <td>0.006664</td>\n",
       "      <td>-0.000325</td>\n",
       "      <td>-0.001463</td>\n",
       "      <td>-0.000720</td>\n",
       "      <td>0.008670</td>\n",
       "      <td>-0.008646</td>\n",
       "      <td>0.006421</td>\n",
       "      <td>...</td>\n",
       "      <td>-0.009471</td>\n",
       "      <td>-0.004556</td>\n",
       "      <td>-0.005309</td>\n",
       "      <td>0.004270</td>\n",
       "      <td>-0.002787</td>\n",
       "      <td>0.001670</td>\n",
       "      <td>-0.004007</td>\n",
       "      <td>0.004868</td>\n",
       "      <td>-0.002843</td>\n",
       "      <td>0</td>\n",
       "    </tr>\n",
       "    <tr>\n",
       "      <th>3</th>\n",
       "      <td>-0.002640</td>\n",
       "      <td>0.003199</td>\n",
       "      <td>-0.003590</td>\n",
       "      <td>0.011966</td>\n",
       "      <td>-0.007213</td>\n",
       "      <td>0.004105</td>\n",
       "      <td>-0.005215</td>\n",
       "      <td>0.011858</td>\n",
       "      <td>-0.003364</td>\n",
       "      <td>0.001557</td>\n",
       "      <td>...</td>\n",
       "      <td>-0.013450</td>\n",
       "      <td>0.000502</td>\n",
       "      <td>-0.010602</td>\n",
       "      <td>-0.004692</td>\n",
       "      <td>-0.013443</td>\n",
       "      <td>0.007748</td>\n",
       "      <td>-0.003772</td>\n",
       "      <td>0.014131</td>\n",
       "      <td>0.009263</td>\n",
       "      <td>0</td>\n",
       "    </tr>\n",
       "    <tr>\n",
       "      <th>4</th>\n",
       "      <td>0.002872</td>\n",
       "      <td>-0.009333</td>\n",
       "      <td>-0.003300</td>\n",
       "      <td>-0.002693</td>\n",
       "      <td>0.004985</td>\n",
       "      <td>-0.002113</td>\n",
       "      <td>-0.002178</td>\n",
       "      <td>0.009453</td>\n",
       "      <td>-0.010559</td>\n",
       "      <td>0.002536</td>\n",
       "      <td>...</td>\n",
       "      <td>-0.003014</td>\n",
       "      <td>0.001767</td>\n",
       "      <td>-0.007506</td>\n",
       "      <td>0.001758</td>\n",
       "      <td>-0.002654</td>\n",
       "      <td>-0.007285</td>\n",
       "      <td>-0.008916</td>\n",
       "      <td>0.009560</td>\n",
       "      <td>-0.002671</td>\n",
       "      <td>1</td>\n",
       "    </tr>\n",
       "  </tbody>\n",
       "</table>\n",
       "<p>5 rows × 59 columns</p>\n",
       "</div>\n",
       "      <button class=\"colab-df-convert\" onclick=\"convertToInteractive('df-f3a890f0-b418-448f-8f5e-c726d7b5875b')\"\n",
       "              title=\"Convert this dataframe to an interactive table.\"\n",
       "              style=\"display:none;\">\n",
       "        \n",
       "  <svg xmlns=\"http://www.w3.org/2000/svg\" height=\"24px\"viewBox=\"0 0 24 24\"\n",
       "       width=\"24px\">\n",
       "    <path d=\"M0 0h24v24H0V0z\" fill=\"none\"/>\n",
       "    <path d=\"M18.56 5.44l.94 2.06.94-2.06 2.06-.94-2.06-.94-.94-2.06-.94 2.06-2.06.94zm-11 1L8.5 8.5l.94-2.06 2.06-.94-2.06-.94L8.5 2.5l-.94 2.06-2.06.94zm10 10l.94 2.06.94-2.06 2.06-.94-2.06-.94-.94-2.06-.94 2.06-2.06.94z\"/><path d=\"M17.41 7.96l-1.37-1.37c-.4-.4-.92-.59-1.43-.59-.52 0-1.04.2-1.43.59L10.3 9.45l-7.72 7.72c-.78.78-.78 2.05 0 2.83L4 21.41c.39.39.9.59 1.41.59.51 0 1.02-.2 1.41-.59l7.78-7.78 2.81-2.81c.8-.78.8-2.07 0-2.86zM5.41 20L4 18.59l7.72-7.72 1.47 1.35L5.41 20z\"/>\n",
       "  </svg>\n",
       "      </button>\n",
       "      \n",
       "  <style>\n",
       "    .colab-df-container {\n",
       "      display:flex;\n",
       "      flex-wrap:wrap;\n",
       "      gap: 12px;\n",
       "    }\n",
       "\n",
       "    .colab-df-convert {\n",
       "      background-color: #E8F0FE;\n",
       "      border: none;\n",
       "      border-radius: 50%;\n",
       "      cursor: pointer;\n",
       "      display: none;\n",
       "      fill: #1967D2;\n",
       "      height: 32px;\n",
       "      padding: 0 0 0 0;\n",
       "      width: 32px;\n",
       "    }\n",
       "\n",
       "    .colab-df-convert:hover {\n",
       "      background-color: #E2EBFA;\n",
       "      box-shadow: 0px 1px 2px rgba(60, 64, 67, 0.3), 0px 1px 3px 1px rgba(60, 64, 67, 0.15);\n",
       "      fill: #174EA6;\n",
       "    }\n",
       "\n",
       "    [theme=dark] .colab-df-convert {\n",
       "      background-color: #3B4455;\n",
       "      fill: #D2E3FC;\n",
       "    }\n",
       "\n",
       "    [theme=dark] .colab-df-convert:hover {\n",
       "      background-color: #434B5C;\n",
       "      box-shadow: 0px 1px 3px 1px rgba(0, 0, 0, 0.15);\n",
       "      filter: drop-shadow(0px 1px 2px rgba(0, 0, 0, 0.3));\n",
       "      fill: #FFFFFF;\n",
       "    }\n",
       "  </style>\n",
       "\n",
       "      <script>\n",
       "        const buttonEl =\n",
       "          document.querySelector('#df-f3a890f0-b418-448f-8f5e-c726d7b5875b button.colab-df-convert');\n",
       "        buttonEl.style.display =\n",
       "          google.colab.kernel.accessAllowed ? 'block' : 'none';\n",
       "\n",
       "        async function convertToInteractive(key) {\n",
       "          const element = document.querySelector('#df-f3a890f0-b418-448f-8f5e-c726d7b5875b');\n",
       "          const dataTable =\n",
       "            await google.colab.kernel.invokeFunction('convertToInteractive',\n",
       "                                                     [key], {});\n",
       "          if (!dataTable) return;\n",
       "\n",
       "          const docLinkHtml = 'Like what you see? Visit the ' +\n",
       "            '<a target=\"_blank\" href=https://colab.research.google.com/notebooks/data_table.ipynb>data table notebook</a>'\n",
       "            + ' to learn more about interactive tables.';\n",
       "          element.innerHTML = '';\n",
       "          dataTable['output_type'] = 'display_data';\n",
       "          await google.colab.output.renderOutput(dataTable, element);\n",
       "          const docLink = document.createElement('div');\n",
       "          docLink.innerHTML = docLinkHtml;\n",
       "          element.appendChild(docLink);\n",
       "        }\n",
       "      </script>\n",
       "    </div>\n",
       "  </div>\n",
       "  "
      ],
      "text/plain": [
       "          0         1         2         3         4         5         6  \\\n",
       "0  0.008035 -0.003850 -0.003342 -0.000936  0.002266 -0.012516  0.007263   \n",
       "1  0.002690 -0.004097 -0.004989 -0.006400  0.002178 -0.006656  0.004311   \n",
       "2  0.001068  0.003947 -0.009668  0.006664 -0.000325 -0.001463 -0.000720   \n",
       "3 -0.002640  0.003199 -0.003590  0.011966 -0.007213  0.004105 -0.005215   \n",
       "4  0.002872 -0.009333 -0.003300 -0.002693  0.004985 -0.002113 -0.002178   \n",
       "\n",
       "          7         8         9  ...        49        50        51        52  \\\n",
       "0  0.013089 -0.004368 -0.005748  ...  0.009466 -0.007482 -0.001331  0.000221   \n",
       "1  0.001269 -0.004836  0.004008  ...  0.002005  0.003320 -0.002327  0.002139   \n",
       "2  0.008670 -0.008646  0.006421  ... -0.009471 -0.004556 -0.005309  0.004270   \n",
       "3  0.011858 -0.003364  0.001557  ... -0.013450  0.000502 -0.010602 -0.004692   \n",
       "4  0.009453 -0.010559  0.002536  ... -0.003014  0.001767 -0.007506  0.001758   \n",
       "\n",
       "         53        54        55        56        57  Liked  \n",
       "0 -0.009684  0.000273 -0.015466  0.002437 -0.008197  1      \n",
       "1 -0.006671 -0.004935 -0.002321  0.003031 -0.003555  1      \n",
       "2 -0.002787  0.001670 -0.004007  0.004868 -0.002843  0      \n",
       "3 -0.013443  0.007748 -0.003772  0.014131  0.009263  0      \n",
       "4 -0.002654 -0.007285 -0.008916  0.009560 -0.002671  1      \n",
       "\n",
       "[5 rows x 59 columns]"
      ]
     },
     "execution_count": 137,
     "metadata": {},
     "output_type": "execute_result"
    }
   ],
   "source": [
    "df_train_Word2Vec.head()"
   ]
  },
  {
   "cell_type": "code",
   "execution_count": 138,
   "metadata": {
    "colab": {
     "base_uri": "https://localhost:8080/",
     "height": 300
    },
    "id": "9cvlFwiPQpHR",
    "outputId": "edf8954e-4a5a-4d42-b84e-00bc5da04d0d"
   },
   "outputs": [
    {
     "data": {
      "text/html": [
       "\n",
       "  <div id=\"df-f4b30962-0619-4916-bd7e-ad3ed6acdecb\">\n",
       "    <div class=\"colab-df-container\">\n",
       "      <div>\n",
       "<style scoped>\n",
       "    .dataframe tbody tr th:only-of-type {\n",
       "        vertical-align: middle;\n",
       "    }\n",
       "\n",
       "    .dataframe tbody tr th {\n",
       "        vertical-align: top;\n",
       "    }\n",
       "\n",
       "    .dataframe thead th {\n",
       "        text-align: right;\n",
       "    }\n",
       "</style>\n",
       "<table border=\"1\" class=\"dataframe\">\n",
       "  <thead>\n",
       "    <tr style=\"text-align: right;\">\n",
       "      <th></th>\n",
       "      <th>0</th>\n",
       "      <th>1</th>\n",
       "      <th>2</th>\n",
       "      <th>3</th>\n",
       "      <th>4</th>\n",
       "      <th>5</th>\n",
       "      <th>6</th>\n",
       "      <th>7</th>\n",
       "      <th>8</th>\n",
       "      <th>9</th>\n",
       "      <th>...</th>\n",
       "      <th>49</th>\n",
       "      <th>50</th>\n",
       "      <th>51</th>\n",
       "      <th>52</th>\n",
       "      <th>53</th>\n",
       "      <th>54</th>\n",
       "      <th>55</th>\n",
       "      <th>56</th>\n",
       "      <th>57</th>\n",
       "      <th>Liked</th>\n",
       "    </tr>\n",
       "  </thead>\n",
       "  <tbody>\n",
       "    <tr>\n",
       "      <th>0</th>\n",
       "      <td>0.009019</td>\n",
       "      <td>0.015043</td>\n",
       "      <td>-0.001697</td>\n",
       "      <td>0.003527</td>\n",
       "      <td>0.004379</td>\n",
       "      <td>-0.004334</td>\n",
       "      <td>-0.001727</td>\n",
       "      <td>0.017681</td>\n",
       "      <td>-0.005322</td>\n",
       "      <td>0.007757</td>\n",
       "      <td>...</td>\n",
       "      <td>-0.003315</td>\n",
       "      <td>0.016576</td>\n",
       "      <td>0.003404</td>\n",
       "      <td>-0.016255</td>\n",
       "      <td>-0.006841</td>\n",
       "      <td>-0.010042</td>\n",
       "      <td>0.003220</td>\n",
       "      <td>-0.004463</td>\n",
       "      <td>0.008135</td>\n",
       "      <td>0</td>\n",
       "    </tr>\n",
       "    <tr>\n",
       "      <th>1</th>\n",
       "      <td>0.003830</td>\n",
       "      <td>0.007007</td>\n",
       "      <td>-0.003462</td>\n",
       "      <td>-0.013122</td>\n",
       "      <td>0.013055</td>\n",
       "      <td>-0.005710</td>\n",
       "      <td>-0.003722</td>\n",
       "      <td>0.008124</td>\n",
       "      <td>-0.001790</td>\n",
       "      <td>-0.011298</td>\n",
       "      <td>...</td>\n",
       "      <td>0.005368</td>\n",
       "      <td>0.007101</td>\n",
       "      <td>-0.007117</td>\n",
       "      <td>0.002455</td>\n",
       "      <td>-0.010168</td>\n",
       "      <td>0.011496</td>\n",
       "      <td>-0.009973</td>\n",
       "      <td>0.013363</td>\n",
       "      <td>-0.000836</td>\n",
       "      <td>1</td>\n",
       "    </tr>\n",
       "    <tr>\n",
       "      <th>2</th>\n",
       "      <td>-0.005493</td>\n",
       "      <td>0.007423</td>\n",
       "      <td>-0.009414</td>\n",
       "      <td>-0.001704</td>\n",
       "      <td>0.004094</td>\n",
       "      <td>0.002563</td>\n",
       "      <td>0.000903</td>\n",
       "      <td>0.008062</td>\n",
       "      <td>-0.009580</td>\n",
       "      <td>0.018646</td>\n",
       "      <td>...</td>\n",
       "      <td>0.004868</td>\n",
       "      <td>0.008023</td>\n",
       "      <td>-0.001219</td>\n",
       "      <td>0.006014</td>\n",
       "      <td>-0.001435</td>\n",
       "      <td>-0.006654</td>\n",
       "      <td>0.002052</td>\n",
       "      <td>0.004817</td>\n",
       "      <td>-0.005159</td>\n",
       "      <td>1</td>\n",
       "    </tr>\n",
       "    <tr>\n",
       "      <th>3</th>\n",
       "      <td>-0.001423</td>\n",
       "      <td>0.001791</td>\n",
       "      <td>-0.011134</td>\n",
       "      <td>0.006362</td>\n",
       "      <td>0.007273</td>\n",
       "      <td>0.003615</td>\n",
       "      <td>0.008489</td>\n",
       "      <td>0.003788</td>\n",
       "      <td>-0.013533</td>\n",
       "      <td>0.006854</td>\n",
       "      <td>...</td>\n",
       "      <td>0.006743</td>\n",
       "      <td>0.004705</td>\n",
       "      <td>0.001386</td>\n",
       "      <td>0.010047</td>\n",
       "      <td>-0.007717</td>\n",
       "      <td>-0.004867</td>\n",
       "      <td>0.002452</td>\n",
       "      <td>0.010315</td>\n",
       "      <td>-0.000554</td>\n",
       "      <td>1</td>\n",
       "    </tr>\n",
       "    <tr>\n",
       "      <th>4</th>\n",
       "      <td>0.000536</td>\n",
       "      <td>0.009768</td>\n",
       "      <td>-0.010319</td>\n",
       "      <td>0.001572</td>\n",
       "      <td>-0.000409</td>\n",
       "      <td>-0.007702</td>\n",
       "      <td>-0.007633</td>\n",
       "      <td>-0.001926</td>\n",
       "      <td>-0.008482</td>\n",
       "      <td>0.005568</td>\n",
       "      <td>...</td>\n",
       "      <td>-0.004592</td>\n",
       "      <td>0.004905</td>\n",
       "      <td>-0.004906</td>\n",
       "      <td>0.000526</td>\n",
       "      <td>-0.007790</td>\n",
       "      <td>-0.001776</td>\n",
       "      <td>-0.008898</td>\n",
       "      <td>0.015796</td>\n",
       "      <td>0.007979</td>\n",
       "      <td>0</td>\n",
       "    </tr>\n",
       "  </tbody>\n",
       "</table>\n",
       "<p>5 rows × 59 columns</p>\n",
       "</div>\n",
       "      <button class=\"colab-df-convert\" onclick=\"convertToInteractive('df-f4b30962-0619-4916-bd7e-ad3ed6acdecb')\"\n",
       "              title=\"Convert this dataframe to an interactive table.\"\n",
       "              style=\"display:none;\">\n",
       "        \n",
       "  <svg xmlns=\"http://www.w3.org/2000/svg\" height=\"24px\"viewBox=\"0 0 24 24\"\n",
       "       width=\"24px\">\n",
       "    <path d=\"M0 0h24v24H0V0z\" fill=\"none\"/>\n",
       "    <path d=\"M18.56 5.44l.94 2.06.94-2.06 2.06-.94-2.06-.94-.94-2.06-.94 2.06-2.06.94zm-11 1L8.5 8.5l.94-2.06 2.06-.94-2.06-.94L8.5 2.5l-.94 2.06-2.06.94zm10 10l.94 2.06.94-2.06 2.06-.94-2.06-.94-.94-2.06-.94 2.06-2.06.94z\"/><path d=\"M17.41 7.96l-1.37-1.37c-.4-.4-.92-.59-1.43-.59-.52 0-1.04.2-1.43.59L10.3 9.45l-7.72 7.72c-.78.78-.78 2.05 0 2.83L4 21.41c.39.39.9.59 1.41.59.51 0 1.02-.2 1.41-.59l7.78-7.78 2.81-2.81c.8-.78.8-2.07 0-2.86zM5.41 20L4 18.59l7.72-7.72 1.47 1.35L5.41 20z\"/>\n",
       "  </svg>\n",
       "      </button>\n",
       "      \n",
       "  <style>\n",
       "    .colab-df-container {\n",
       "      display:flex;\n",
       "      flex-wrap:wrap;\n",
       "      gap: 12px;\n",
       "    }\n",
       "\n",
       "    .colab-df-convert {\n",
       "      background-color: #E8F0FE;\n",
       "      border: none;\n",
       "      border-radius: 50%;\n",
       "      cursor: pointer;\n",
       "      display: none;\n",
       "      fill: #1967D2;\n",
       "      height: 32px;\n",
       "      padding: 0 0 0 0;\n",
       "      width: 32px;\n",
       "    }\n",
       "\n",
       "    .colab-df-convert:hover {\n",
       "      background-color: #E2EBFA;\n",
       "      box-shadow: 0px 1px 2px rgba(60, 64, 67, 0.3), 0px 1px 3px 1px rgba(60, 64, 67, 0.15);\n",
       "      fill: #174EA6;\n",
       "    }\n",
       "\n",
       "    [theme=dark] .colab-df-convert {\n",
       "      background-color: #3B4455;\n",
       "      fill: #D2E3FC;\n",
       "    }\n",
       "\n",
       "    [theme=dark] .colab-df-convert:hover {\n",
       "      background-color: #434B5C;\n",
       "      box-shadow: 0px 1px 3px 1px rgba(0, 0, 0, 0.15);\n",
       "      filter: drop-shadow(0px 1px 2px rgba(0, 0, 0, 0.3));\n",
       "      fill: #FFFFFF;\n",
       "    }\n",
       "  </style>\n",
       "\n",
       "      <script>\n",
       "        const buttonEl =\n",
       "          document.querySelector('#df-f4b30962-0619-4916-bd7e-ad3ed6acdecb button.colab-df-convert');\n",
       "        buttonEl.style.display =\n",
       "          google.colab.kernel.accessAllowed ? 'block' : 'none';\n",
       "\n",
       "        async function convertToInteractive(key) {\n",
       "          const element = document.querySelector('#df-f4b30962-0619-4916-bd7e-ad3ed6acdecb');\n",
       "          const dataTable =\n",
       "            await google.colab.kernel.invokeFunction('convertToInteractive',\n",
       "                                                     [key], {});\n",
       "          if (!dataTable) return;\n",
       "\n",
       "          const docLinkHtml = 'Like what you see? Visit the ' +\n",
       "            '<a target=\"_blank\" href=https://colab.research.google.com/notebooks/data_table.ipynb>data table notebook</a>'\n",
       "            + ' to learn more about interactive tables.';\n",
       "          element.innerHTML = '';\n",
       "          dataTable['output_type'] = 'display_data';\n",
       "          await google.colab.output.renderOutput(dataTable, element);\n",
       "          const docLink = document.createElement('div');\n",
       "          docLink.innerHTML = docLinkHtml;\n",
       "          element.appendChild(docLink);\n",
       "        }\n",
       "      </script>\n",
       "    </div>\n",
       "  </div>\n",
       "  "
      ],
      "text/plain": [
       "          0         1         2         3         4         5         6  \\\n",
       "0  0.009019  0.015043 -0.001697  0.003527  0.004379 -0.004334 -0.001727   \n",
       "1  0.003830  0.007007 -0.003462 -0.013122  0.013055 -0.005710 -0.003722   \n",
       "2 -0.005493  0.007423 -0.009414 -0.001704  0.004094  0.002563  0.000903   \n",
       "3 -0.001423  0.001791 -0.011134  0.006362  0.007273  0.003615  0.008489   \n",
       "4  0.000536  0.009768 -0.010319  0.001572 -0.000409 -0.007702 -0.007633   \n",
       "\n",
       "          7         8         9  ...        49        50        51        52  \\\n",
       "0  0.017681 -0.005322  0.007757  ... -0.003315  0.016576  0.003404 -0.016255   \n",
       "1  0.008124 -0.001790 -0.011298  ...  0.005368  0.007101 -0.007117  0.002455   \n",
       "2  0.008062 -0.009580  0.018646  ...  0.004868  0.008023 -0.001219  0.006014   \n",
       "3  0.003788 -0.013533  0.006854  ...  0.006743  0.004705  0.001386  0.010047   \n",
       "4 -0.001926 -0.008482  0.005568  ... -0.004592  0.004905 -0.004906  0.000526   \n",
       "\n",
       "         53        54        55        56        57  Liked  \n",
       "0 -0.006841 -0.010042  0.003220 -0.004463  0.008135  0      \n",
       "1 -0.010168  0.011496 -0.009973  0.013363 -0.000836  1      \n",
       "2 -0.001435 -0.006654  0.002052  0.004817 -0.005159  1      \n",
       "3 -0.007717 -0.004867  0.002452  0.010315 -0.000554  1      \n",
       "4 -0.007790 -0.001776 -0.008898  0.015796  0.007979  0      \n",
       "\n",
       "[5 rows x 59 columns]"
      ]
     },
     "execution_count": 138,
     "metadata": {},
     "output_type": "execute_result"
    }
   ],
   "source": [
    "df_test_Word2Vec.head()"
   ]
  },
  {
   "cell_type": "markdown",
   "metadata": {
    "id": "-64CzEE8fN4i"
   },
   "source": [
    "Implementing **MinMaxScaler** to scale the document vectors to the range of 0 to 1."
   ]
  },
  {
   "cell_type": "code",
   "execution_count": 139,
   "metadata": {
    "id": "PMoY1GkQq5z_"
   },
   "outputs": [],
   "source": [
    "from sklearn.preprocessing import MinMaxScaler"
   ]
  },
  {
   "cell_type": "code",
   "execution_count": 140,
   "metadata": {
    "id": "BIOin0ih1acU"
   },
   "outputs": [],
   "source": [
    "scaling = MinMaxScaler()"
   ]
  },
  {
   "cell_type": "code",
   "execution_count": 141,
   "metadata": {
    "id": "4wCZPC5q1afl"
   },
   "outputs": [],
   "source": [
    "X_train_scaled = scaling.fit_transform(df_train_Word2Vec.iloc[:,:-1])"
   ]
  },
  {
   "cell_type": "code",
   "execution_count": 142,
   "metadata": {
    "colab": {
     "base_uri": "https://localhost:8080/"
    },
    "id": "AjXtoUSn2aPi",
    "outputId": "885d378e-6203-4dd7-e9c0-609191f2d44d"
   },
   "outputs": [
    {
     "data": {
      "text/plain": [
       "array([[0.72482223, 0.32923621, 0.46158962, ..., 0.22105675, 0.47961401,\n",
       "        0.19626772],\n",
       "       [0.566062  , 0.32118085, 0.4150962 , ..., 0.54381128, 0.49579445,\n",
       "        0.33758311],\n",
       "       [0.51790409, 0.58373054, 0.28304736, ..., 0.5024264 , 0.54581806,\n",
       "        0.35926786],\n",
       "       ...,\n",
       "       [0.59761232, 0.61961108, 0.38828027, ..., 0.52590496, 0.45972414,\n",
       "        0.38627663],\n",
       "       [0.6586812 , 0.47895685, 0.33018522, ..., 0.47997096, 0.51753602,\n",
       "        0.6012719 ],\n",
       "       [0.15488892, 0.46586378, 0.41969748, ..., 0.42398501, 0.52662433,\n",
       "        0.8685595 ]])"
      ]
     },
     "execution_count": 142,
     "metadata": {},
     "output_type": "execute_result"
    }
   ],
   "source": [
    "X_train_scaled"
   ]
  },
  {
   "cell_type": "code",
   "execution_count": 143,
   "metadata": {
    "id": "WBlxYGSW2aTG"
   },
   "outputs": [],
   "source": [
    "X_train = pd.DataFrame(X_train_scaled, columns=df_train_Word2Vec.iloc[:,:-1].columns)"
   ]
  },
  {
   "cell_type": "code",
   "execution_count": 144,
   "metadata": {
    "colab": {
     "base_uri": "https://localhost:8080/",
     "height": 394
    },
    "id": "E5zaVlLY2mVi",
    "outputId": "78ee6e24-c762-48dd-c589-89691a8f7dae"
   },
   "outputs": [
    {
     "data": {
      "text/html": [
       "\n",
       "  <div id=\"df-1e30e295-8011-4684-868d-a8e8b0ce7307\">\n",
       "    <div class=\"colab-df-container\">\n",
       "      <div>\n",
       "<style scoped>\n",
       "    .dataframe tbody tr th:only-of-type {\n",
       "        vertical-align: middle;\n",
       "    }\n",
       "\n",
       "    .dataframe tbody tr th {\n",
       "        vertical-align: top;\n",
       "    }\n",
       "\n",
       "    .dataframe thead th {\n",
       "        text-align: right;\n",
       "    }\n",
       "</style>\n",
       "<table border=\"1\" class=\"dataframe\">\n",
       "  <thead>\n",
       "    <tr style=\"text-align: right;\">\n",
       "      <th></th>\n",
       "      <th>0</th>\n",
       "      <th>1</th>\n",
       "      <th>2</th>\n",
       "      <th>3</th>\n",
       "      <th>4</th>\n",
       "      <th>5</th>\n",
       "      <th>6</th>\n",
       "      <th>7</th>\n",
       "      <th>8</th>\n",
       "      <th>9</th>\n",
       "      <th>...</th>\n",
       "      <th>48</th>\n",
       "      <th>49</th>\n",
       "      <th>50</th>\n",
       "      <th>51</th>\n",
       "      <th>52</th>\n",
       "      <th>53</th>\n",
       "      <th>54</th>\n",
       "      <th>55</th>\n",
       "      <th>56</th>\n",
       "      <th>57</th>\n",
       "    </tr>\n",
       "  </thead>\n",
       "  <tbody>\n",
       "    <tr>\n",
       "      <th>count</th>\n",
       "      <td>837.000000</td>\n",
       "      <td>837.000000</td>\n",
       "      <td>837.000000</td>\n",
       "      <td>837.000000</td>\n",
       "      <td>837.000000</td>\n",
       "      <td>837.000000</td>\n",
       "      <td>837.000000</td>\n",
       "      <td>837.000000</td>\n",
       "      <td>837.000000</td>\n",
       "      <td>837.000000</td>\n",
       "      <td>...</td>\n",
       "      <td>837.000000</td>\n",
       "      <td>837.000000</td>\n",
       "      <td>837.000000</td>\n",
       "      <td>837.000000</td>\n",
       "      <td>837.000000</td>\n",
       "      <td>837.000000</td>\n",
       "      <td>837.000000</td>\n",
       "      <td>837.000000</td>\n",
       "      <td>837.000000</td>\n",
       "      <td>837.000000</td>\n",
       "    </tr>\n",
       "    <tr>\n",
       "      <th>mean</th>\n",
       "      <td>0.496872</td>\n",
       "      <td>0.493598</td>\n",
       "      <td>0.468348</td>\n",
       "      <td>0.468938</td>\n",
       "      <td>0.516338</td>\n",
       "      <td>0.474034</td>\n",
       "      <td>0.498232</td>\n",
       "      <td>0.501904</td>\n",
       "      <td>0.489747</td>\n",
       "      <td>0.516379</td>\n",
       "      <td>...</td>\n",
       "      <td>0.510181</td>\n",
       "      <td>0.510844</td>\n",
       "      <td>0.508875</td>\n",
       "      <td>0.479678</td>\n",
       "      <td>0.523081</td>\n",
       "      <td>0.486549</td>\n",
       "      <td>0.436878</td>\n",
       "      <td>0.498500</td>\n",
       "      <td>0.574280</td>\n",
       "      <td>0.486556</td>\n",
       "    </tr>\n",
       "    <tr>\n",
       "      <th>std</th>\n",
       "      <td>0.168740</td>\n",
       "      <td>0.177831</td>\n",
       "      <td>0.158143</td>\n",
       "      <td>0.153983</td>\n",
       "      <td>0.160608</td>\n",
       "      <td>0.174158</td>\n",
       "      <td>0.158857</td>\n",
       "      <td>0.146087</td>\n",
       "      <td>0.143182</td>\n",
       "      <td>0.163636</td>\n",
       "      <td>...</td>\n",
       "      <td>0.166533</td>\n",
       "      <td>0.163241</td>\n",
       "      <td>0.178770</td>\n",
       "      <td>0.151033</td>\n",
       "      <td>0.178777</td>\n",
       "      <td>0.153046</td>\n",
       "      <td>0.170467</td>\n",
       "      <td>0.139402</td>\n",
       "      <td>0.163905</td>\n",
       "      <td>0.171119</td>\n",
       "    </tr>\n",
       "    <tr>\n",
       "      <th>min</th>\n",
       "      <td>0.000000</td>\n",
       "      <td>0.000000</td>\n",
       "      <td>0.000000</td>\n",
       "      <td>0.000000</td>\n",
       "      <td>0.000000</td>\n",
       "      <td>0.000000</td>\n",
       "      <td>0.000000</td>\n",
       "      <td>0.000000</td>\n",
       "      <td>0.000000</td>\n",
       "      <td>0.000000</td>\n",
       "      <td>...</td>\n",
       "      <td>0.000000</td>\n",
       "      <td>0.000000</td>\n",
       "      <td>0.000000</td>\n",
       "      <td>0.000000</td>\n",
       "      <td>0.000000</td>\n",
       "      <td>0.000000</td>\n",
       "      <td>0.000000</td>\n",
       "      <td>0.000000</td>\n",
       "      <td>0.000000</td>\n",
       "      <td>0.000000</td>\n",
       "    </tr>\n",
       "    <tr>\n",
       "      <th>25%</th>\n",
       "      <td>0.390073</td>\n",
       "      <td>0.382882</td>\n",
       "      <td>0.368631</td>\n",
       "      <td>0.378306</td>\n",
       "      <td>0.417578</td>\n",
       "      <td>0.359413</td>\n",
       "      <td>0.392128</td>\n",
       "      <td>0.413490</td>\n",
       "      <td>0.404268</td>\n",
       "      <td>0.412455</td>\n",
       "      <td>...</td>\n",
       "      <td>0.409262</td>\n",
       "      <td>0.417292</td>\n",
       "      <td>0.400690</td>\n",
       "      <td>0.389713</td>\n",
       "      <td>0.411120</td>\n",
       "      <td>0.391890</td>\n",
       "      <td>0.325690</td>\n",
       "      <td>0.408025</td>\n",
       "      <td>0.475682</td>\n",
       "      <td>0.372150</td>\n",
       "    </tr>\n",
       "    <tr>\n",
       "      <th>50%</th>\n",
       "      <td>0.497629</td>\n",
       "      <td>0.485849</td>\n",
       "      <td>0.465010</td>\n",
       "      <td>0.465246</td>\n",
       "      <td>0.515865</td>\n",
       "      <td>0.480111</td>\n",
       "      <td>0.501487</td>\n",
       "      <td>0.503466</td>\n",
       "      <td>0.489545</td>\n",
       "      <td>0.521421</td>\n",
       "      <td>...</td>\n",
       "      <td>0.508502</td>\n",
       "      <td>0.509642</td>\n",
       "      <td>0.514596</td>\n",
       "      <td>0.477151</td>\n",
       "      <td>0.527611</td>\n",
       "      <td>0.493305</td>\n",
       "      <td>0.433220</td>\n",
       "      <td>0.499580</td>\n",
       "      <td>0.573676</td>\n",
       "      <td>0.486139</td>\n",
       "    </tr>\n",
       "    <tr>\n",
       "      <th>75%</th>\n",
       "      <td>0.596521</td>\n",
       "      <td>0.599582</td>\n",
       "      <td>0.566755</td>\n",
       "      <td>0.557492</td>\n",
       "      <td>0.613033</td>\n",
       "      <td>0.577570</td>\n",
       "      <td>0.597475</td>\n",
       "      <td>0.590813</td>\n",
       "      <td>0.577991</td>\n",
       "      <td>0.622325</td>\n",
       "      <td>...</td>\n",
       "      <td>0.613577</td>\n",
       "      <td>0.603407</td>\n",
       "      <td>0.616123</td>\n",
       "      <td>0.567242</td>\n",
       "      <td>0.634739</td>\n",
       "      <td>0.589073</td>\n",
       "      <td>0.540080</td>\n",
       "      <td>0.586832</td>\n",
       "      <td>0.682147</td>\n",
       "      <td>0.593303</td>\n",
       "    </tr>\n",
       "    <tr>\n",
       "      <th>max</th>\n",
       "      <td>1.000000</td>\n",
       "      <td>1.000000</td>\n",
       "      <td>1.000000</td>\n",
       "      <td>1.000000</td>\n",
       "      <td>1.000000</td>\n",
       "      <td>1.000000</td>\n",
       "      <td>1.000000</td>\n",
       "      <td>1.000000</td>\n",
       "      <td>1.000000</td>\n",
       "      <td>1.000000</td>\n",
       "      <td>...</td>\n",
       "      <td>1.000000</td>\n",
       "      <td>1.000000</td>\n",
       "      <td>1.000000</td>\n",
       "      <td>1.000000</td>\n",
       "      <td>1.000000</td>\n",
       "      <td>1.000000</td>\n",
       "      <td>1.000000</td>\n",
       "      <td>1.000000</td>\n",
       "      <td>1.000000</td>\n",
       "      <td>1.000000</td>\n",
       "    </tr>\n",
       "  </tbody>\n",
       "</table>\n",
       "<p>8 rows × 58 columns</p>\n",
       "</div>\n",
       "      <button class=\"colab-df-convert\" onclick=\"convertToInteractive('df-1e30e295-8011-4684-868d-a8e8b0ce7307')\"\n",
       "              title=\"Convert this dataframe to an interactive table.\"\n",
       "              style=\"display:none;\">\n",
       "        \n",
       "  <svg xmlns=\"http://www.w3.org/2000/svg\" height=\"24px\"viewBox=\"0 0 24 24\"\n",
       "       width=\"24px\">\n",
       "    <path d=\"M0 0h24v24H0V0z\" fill=\"none\"/>\n",
       "    <path d=\"M18.56 5.44l.94 2.06.94-2.06 2.06-.94-2.06-.94-.94-2.06-.94 2.06-2.06.94zm-11 1L8.5 8.5l.94-2.06 2.06-.94-2.06-.94L8.5 2.5l-.94 2.06-2.06.94zm10 10l.94 2.06.94-2.06 2.06-.94-2.06-.94-.94-2.06-.94 2.06-2.06.94z\"/><path d=\"M17.41 7.96l-1.37-1.37c-.4-.4-.92-.59-1.43-.59-.52 0-1.04.2-1.43.59L10.3 9.45l-7.72 7.72c-.78.78-.78 2.05 0 2.83L4 21.41c.39.39.9.59 1.41.59.51 0 1.02-.2 1.41-.59l7.78-7.78 2.81-2.81c.8-.78.8-2.07 0-2.86zM5.41 20L4 18.59l7.72-7.72 1.47 1.35L5.41 20z\"/>\n",
       "  </svg>\n",
       "      </button>\n",
       "      \n",
       "  <style>\n",
       "    .colab-df-container {\n",
       "      display:flex;\n",
       "      flex-wrap:wrap;\n",
       "      gap: 12px;\n",
       "    }\n",
       "\n",
       "    .colab-df-convert {\n",
       "      background-color: #E8F0FE;\n",
       "      border: none;\n",
       "      border-radius: 50%;\n",
       "      cursor: pointer;\n",
       "      display: none;\n",
       "      fill: #1967D2;\n",
       "      height: 32px;\n",
       "      padding: 0 0 0 0;\n",
       "      width: 32px;\n",
       "    }\n",
       "\n",
       "    .colab-df-convert:hover {\n",
       "      background-color: #E2EBFA;\n",
       "      box-shadow: 0px 1px 2px rgba(60, 64, 67, 0.3), 0px 1px 3px 1px rgba(60, 64, 67, 0.15);\n",
       "      fill: #174EA6;\n",
       "    }\n",
       "\n",
       "    [theme=dark] .colab-df-convert {\n",
       "      background-color: #3B4455;\n",
       "      fill: #D2E3FC;\n",
       "    }\n",
       "\n",
       "    [theme=dark] .colab-df-convert:hover {\n",
       "      background-color: #434B5C;\n",
       "      box-shadow: 0px 1px 3px 1px rgba(0, 0, 0, 0.15);\n",
       "      filter: drop-shadow(0px 1px 2px rgba(0, 0, 0, 0.3));\n",
       "      fill: #FFFFFF;\n",
       "    }\n",
       "  </style>\n",
       "\n",
       "      <script>\n",
       "        const buttonEl =\n",
       "          document.querySelector('#df-1e30e295-8011-4684-868d-a8e8b0ce7307 button.colab-df-convert');\n",
       "        buttonEl.style.display =\n",
       "          google.colab.kernel.accessAllowed ? 'block' : 'none';\n",
       "\n",
       "        async function convertToInteractive(key) {\n",
       "          const element = document.querySelector('#df-1e30e295-8011-4684-868d-a8e8b0ce7307');\n",
       "          const dataTable =\n",
       "            await google.colab.kernel.invokeFunction('convertToInteractive',\n",
       "                                                     [key], {});\n",
       "          if (!dataTable) return;\n",
       "\n",
       "          const docLinkHtml = 'Like what you see? Visit the ' +\n",
       "            '<a target=\"_blank\" href=https://colab.research.google.com/notebooks/data_table.ipynb>data table notebook</a>'\n",
       "            + ' to learn more about interactive tables.';\n",
       "          element.innerHTML = '';\n",
       "          dataTable['output_type'] = 'display_data';\n",
       "          await google.colab.output.renderOutput(dataTable, element);\n",
       "          const docLink = document.createElement('div');\n",
       "          docLink.innerHTML = docLinkHtml;\n",
       "          element.appendChild(docLink);\n",
       "        }\n",
       "      </script>\n",
       "    </div>\n",
       "  </div>\n",
       "  "
      ],
      "text/plain": [
       "                0           1           2           3           4           5  \\\n",
       "count  837.000000  837.000000  837.000000  837.000000  837.000000  837.000000   \n",
       "mean   0.496872    0.493598    0.468348    0.468938    0.516338    0.474034     \n",
       "std    0.168740    0.177831    0.158143    0.153983    0.160608    0.174158     \n",
       "min    0.000000    0.000000    0.000000    0.000000    0.000000    0.000000     \n",
       "25%    0.390073    0.382882    0.368631    0.378306    0.417578    0.359413     \n",
       "50%    0.497629    0.485849    0.465010    0.465246    0.515865    0.480111     \n",
       "75%    0.596521    0.599582    0.566755    0.557492    0.613033    0.577570     \n",
       "max    1.000000    1.000000    1.000000    1.000000    1.000000    1.000000     \n",
       "\n",
       "                6           7           8           9  ...          48  \\\n",
       "count  837.000000  837.000000  837.000000  837.000000  ...  837.000000   \n",
       "mean   0.498232    0.501904    0.489747    0.516379    ...  0.510181     \n",
       "std    0.158857    0.146087    0.143182    0.163636    ...  0.166533     \n",
       "min    0.000000    0.000000    0.000000    0.000000    ...  0.000000     \n",
       "25%    0.392128    0.413490    0.404268    0.412455    ...  0.409262     \n",
       "50%    0.501487    0.503466    0.489545    0.521421    ...  0.508502     \n",
       "75%    0.597475    0.590813    0.577991    0.622325    ...  0.613577     \n",
       "max    1.000000    1.000000    1.000000    1.000000    ...  1.000000     \n",
       "\n",
       "               49          50          51          52          53          54  \\\n",
       "count  837.000000  837.000000  837.000000  837.000000  837.000000  837.000000   \n",
       "mean   0.510844    0.508875    0.479678    0.523081    0.486549    0.436878     \n",
       "std    0.163241    0.178770    0.151033    0.178777    0.153046    0.170467     \n",
       "min    0.000000    0.000000    0.000000    0.000000    0.000000    0.000000     \n",
       "25%    0.417292    0.400690    0.389713    0.411120    0.391890    0.325690     \n",
       "50%    0.509642    0.514596    0.477151    0.527611    0.493305    0.433220     \n",
       "75%    0.603407    0.616123    0.567242    0.634739    0.589073    0.540080     \n",
       "max    1.000000    1.000000    1.000000    1.000000    1.000000    1.000000     \n",
       "\n",
       "               55          56          57  \n",
       "count  837.000000  837.000000  837.000000  \n",
       "mean   0.498500    0.574280    0.486556    \n",
       "std    0.139402    0.163905    0.171119    \n",
       "min    0.000000    0.000000    0.000000    \n",
       "25%    0.408025    0.475682    0.372150    \n",
       "50%    0.499580    0.573676    0.486139    \n",
       "75%    0.586832    0.682147    0.593303    \n",
       "max    1.000000    1.000000    1.000000    \n",
       "\n",
       "[8 rows x 58 columns]"
      ]
     },
     "execution_count": 144,
     "metadata": {},
     "output_type": "execute_result"
    }
   ],
   "source": [
    "X_train.describe()"
   ]
  },
  {
   "cell_type": "code",
   "execution_count": 145,
   "metadata": {
    "id": "8oAhBBkm3G-H"
   },
   "outputs": [],
   "source": [
    "X_test_scaled = scaling.transform(df_test_Word2Vec.iloc[:,:-1])"
   ]
  },
  {
   "cell_type": "code",
   "execution_count": 146,
   "metadata": {
    "colab": {
     "base_uri": "https://localhost:8080/"
    },
    "id": "H3eZ29wp3Xt7",
    "outputId": "49effd62-40ac-4ac2-c9ff-13f4c00d364e"
   },
   "outputs": [
    {
     "data": {
      "text/plain": [
       "array([[0.75402157, 0.9458886 , 0.50801467, ..., 0.67988813, 0.29170694,\n",
       "        0.69343529],\n",
       "       [0.59992005, 0.68360172, 0.45819925, ..., 0.35593596, 0.77714285,\n",
       "        0.42033882],\n",
       "       [0.32303755, 0.69715977, 0.29021555, ..., 0.65120068, 0.5444268 ,\n",
       "        0.28876062],\n",
       "       ...,\n",
       "       [0.7805947 , 0.68381485, 0.52509652, ..., 0.4418654 , 0.46716236,\n",
       "        0.27065166],\n",
       "       [0.38449693, 0.66037306, 0.75398527, ..., 0.39588041, 0.8403677 ,\n",
       "        0.28732816],\n",
       "       [0.4876393 , 0.37460994, 0.15383425, ..., 0.75847847, 0.82380242,\n",
       "        0.5286621 ]])"
      ]
     },
     "execution_count": 146,
     "metadata": {},
     "output_type": "execute_result"
    }
   ],
   "source": [
    "X_test_scaled"
   ]
  },
  {
   "cell_type": "code",
   "execution_count": 147,
   "metadata": {
    "id": "sXezeq1a3XxL"
   },
   "outputs": [],
   "source": [
    "X_test = pd.DataFrame(X_test_scaled, columns=df_train_Word2Vec.iloc[:,:-1].columns)"
   ]
  },
  {
   "cell_type": "code",
   "execution_count": 148,
   "metadata": {
    "colab": {
     "base_uri": "https://localhost:8080/",
     "height": 394
    },
    "id": "NMdHANxo3i4a",
    "outputId": "b279b15c-422c-46cb-a3d7-00c8fc110455"
   },
   "outputs": [
    {
     "data": {
      "text/html": [
       "\n",
       "  <div id=\"df-942a1de2-2a5d-4a23-9463-44f502908906\">\n",
       "    <div class=\"colab-df-container\">\n",
       "      <div>\n",
       "<style scoped>\n",
       "    .dataframe tbody tr th:only-of-type {\n",
       "        vertical-align: middle;\n",
       "    }\n",
       "\n",
       "    .dataframe tbody tr th {\n",
       "        vertical-align: top;\n",
       "    }\n",
       "\n",
       "    .dataframe thead th {\n",
       "        text-align: right;\n",
       "    }\n",
       "</style>\n",
       "<table border=\"1\" class=\"dataframe\">\n",
       "  <thead>\n",
       "    <tr style=\"text-align: right;\">\n",
       "      <th></th>\n",
       "      <th>0</th>\n",
       "      <th>1</th>\n",
       "      <th>2</th>\n",
       "      <th>3</th>\n",
       "      <th>4</th>\n",
       "      <th>5</th>\n",
       "      <th>6</th>\n",
       "      <th>7</th>\n",
       "      <th>8</th>\n",
       "      <th>9</th>\n",
       "      <th>...</th>\n",
       "      <th>48</th>\n",
       "      <th>49</th>\n",
       "      <th>50</th>\n",
       "      <th>51</th>\n",
       "      <th>52</th>\n",
       "      <th>53</th>\n",
       "      <th>54</th>\n",
       "      <th>55</th>\n",
       "      <th>56</th>\n",
       "      <th>57</th>\n",
       "    </tr>\n",
       "  </thead>\n",
       "  <tbody>\n",
       "    <tr>\n",
       "      <th>count</th>\n",
       "      <td>148.000000</td>\n",
       "      <td>148.000000</td>\n",
       "      <td>148.000000</td>\n",
       "      <td>148.000000</td>\n",
       "      <td>148.000000</td>\n",
       "      <td>148.000000</td>\n",
       "      <td>148.000000</td>\n",
       "      <td>148.000000</td>\n",
       "      <td>148.000000</td>\n",
       "      <td>148.000000</td>\n",
       "      <td>...</td>\n",
       "      <td>148.000000</td>\n",
       "      <td>148.000000</td>\n",
       "      <td>148.000000</td>\n",
       "      <td>148.000000</td>\n",
       "      <td>148.000000</td>\n",
       "      <td>148.000000</td>\n",
       "      <td>148.000000</td>\n",
       "      <td>148.000000</td>\n",
       "      <td>148.000000</td>\n",
       "      <td>148.000000</td>\n",
       "    </tr>\n",
       "    <tr>\n",
       "      <th>mean</th>\n",
       "      <td>0.517922</td>\n",
       "      <td>0.468004</td>\n",
       "      <td>0.458879</td>\n",
       "      <td>0.471699</td>\n",
       "      <td>0.541178</td>\n",
       "      <td>0.454702</td>\n",
       "      <td>0.509705</td>\n",
       "      <td>0.504797</td>\n",
       "      <td>0.497458</td>\n",
       "      <td>0.531855</td>\n",
       "      <td>...</td>\n",
       "      <td>0.507386</td>\n",
       "      <td>0.516420</td>\n",
       "      <td>0.530729</td>\n",
       "      <td>0.471546</td>\n",
       "      <td>0.528915</td>\n",
       "      <td>0.488781</td>\n",
       "      <td>0.427351</td>\n",
       "      <td>0.498654</td>\n",
       "      <td>0.570136</td>\n",
       "      <td>0.515300</td>\n",
       "    </tr>\n",
       "    <tr>\n",
       "      <th>std</th>\n",
       "      <td>0.146696</td>\n",
       "      <td>0.169756</td>\n",
       "      <td>0.165467</td>\n",
       "      <td>0.150058</td>\n",
       "      <td>0.162236</td>\n",
       "      <td>0.185542</td>\n",
       "      <td>0.171869</td>\n",
       "      <td>0.146112</td>\n",
       "      <td>0.131245</td>\n",
       "      <td>0.146485</td>\n",
       "      <td>...</td>\n",
       "      <td>0.168903</td>\n",
       "      <td>0.171243</td>\n",
       "      <td>0.181572</td>\n",
       "      <td>0.156414</td>\n",
       "      <td>0.192403</td>\n",
       "      <td>0.136205</td>\n",
       "      <td>0.171981</td>\n",
       "      <td>0.125089</td>\n",
       "      <td>0.169297</td>\n",
       "      <td>0.168001</td>\n",
       "    </tr>\n",
       "    <tr>\n",
       "      <th>min</th>\n",
       "      <td>0.062609</td>\n",
       "      <td>-0.077006</td>\n",
       "      <td>0.061811</td>\n",
       "      <td>0.064865</td>\n",
       "      <td>0.072479</td>\n",
       "      <td>0.010649</td>\n",
       "      <td>0.000000</td>\n",
       "      <td>0.100475</td>\n",
       "      <td>0.108098</td>\n",
       "      <td>0.123428</td>\n",
       "      <td>...</td>\n",
       "      <td>-0.002794</td>\n",
       "      <td>0.077274</td>\n",
       "      <td>0.087005</td>\n",
       "      <td>0.120974</td>\n",
       "      <td>-0.037527</td>\n",
       "      <td>0.070471</td>\n",
       "      <td>0.076655</td>\n",
       "      <td>0.150749</td>\n",
       "      <td>0.027873</td>\n",
       "      <td>0.115196</td>\n",
       "    </tr>\n",
       "    <tr>\n",
       "      <th>25%</th>\n",
       "      <td>0.414628</td>\n",
       "      <td>0.358510</td>\n",
       "      <td>0.347374</td>\n",
       "      <td>0.375684</td>\n",
       "      <td>0.434052</td>\n",
       "      <td>0.335664</td>\n",
       "      <td>0.405244</td>\n",
       "      <td>0.414284</td>\n",
       "      <td>0.423550</td>\n",
       "      <td>0.439109</td>\n",
       "      <td>...</td>\n",
       "      <td>0.398039</td>\n",
       "      <td>0.405931</td>\n",
       "      <td>0.428048</td>\n",
       "      <td>0.365147</td>\n",
       "      <td>0.412664</td>\n",
       "      <td>0.406249</td>\n",
       "      <td>0.315378</td>\n",
       "      <td>0.424482</td>\n",
       "      <td>0.467827</td>\n",
       "      <td>0.420687</td>\n",
       "    </tr>\n",
       "    <tr>\n",
       "      <th>50%</th>\n",
       "      <td>0.512535</td>\n",
       "      <td>0.475113</td>\n",
       "      <td>0.459966</td>\n",
       "      <td>0.477490</td>\n",
       "      <td>0.546210</td>\n",
       "      <td>0.444065</td>\n",
       "      <td>0.491150</td>\n",
       "      <td>0.513577</td>\n",
       "      <td>0.490205</td>\n",
       "      <td>0.534340</td>\n",
       "      <td>...</td>\n",
       "      <td>0.501462</td>\n",
       "      <td>0.531898</td>\n",
       "      <td>0.523604</td>\n",
       "      <td>0.477986</td>\n",
       "      <td>0.530059</td>\n",
       "      <td>0.489738</td>\n",
       "      <td>0.413320</td>\n",
       "      <td>0.503544</td>\n",
       "      <td>0.577543</td>\n",
       "      <td>0.512901</td>\n",
       "    </tr>\n",
       "    <tr>\n",
       "      <th>75%</th>\n",
       "      <td>0.623202</td>\n",
       "      <td>0.581138</td>\n",
       "      <td>0.550046</td>\n",
       "      <td>0.561807</td>\n",
       "      <td>0.638645</td>\n",
       "      <td>0.565785</td>\n",
       "      <td>0.631010</td>\n",
       "      <td>0.587683</td>\n",
       "      <td>0.582043</td>\n",
       "      <td>0.616499</td>\n",
       "      <td>...</td>\n",
       "      <td>0.615576</td>\n",
       "      <td>0.620800</td>\n",
       "      <td>0.642013</td>\n",
       "      <td>0.587541</td>\n",
       "      <td>0.634438</td>\n",
       "      <td>0.560876</td>\n",
       "      <td>0.523372</td>\n",
       "      <td>0.587187</td>\n",
       "      <td>0.699132</td>\n",
       "      <td>0.621907</td>\n",
       "    </tr>\n",
       "    <tr>\n",
       "      <th>max</th>\n",
       "      <td>0.974539</td>\n",
       "      <td>0.945889</td>\n",
       "      <td>0.878246</td>\n",
       "      <td>0.939864</td>\n",
       "      <td>1.039311</td>\n",
       "      <td>0.972211</td>\n",
       "      <td>0.998720</td>\n",
       "      <td>0.978583</td>\n",
       "      <td>0.823310</td>\n",
       "      <td>0.992447</td>\n",
       "      <td>...</td>\n",
       "      <td>1.021676</td>\n",
       "      <td>1.006643</td>\n",
       "      <td>0.986480</td>\n",
       "      <td>0.895016</td>\n",
       "      <td>0.986562</td>\n",
       "      <td>0.837719</td>\n",
       "      <td>0.841535</td>\n",
       "      <td>0.758478</td>\n",
       "      <td>0.885422</td>\n",
       "      <td>0.936492</td>\n",
       "    </tr>\n",
       "  </tbody>\n",
       "</table>\n",
       "<p>8 rows × 58 columns</p>\n",
       "</div>\n",
       "      <button class=\"colab-df-convert\" onclick=\"convertToInteractive('df-942a1de2-2a5d-4a23-9463-44f502908906')\"\n",
       "              title=\"Convert this dataframe to an interactive table.\"\n",
       "              style=\"display:none;\">\n",
       "        \n",
       "  <svg xmlns=\"http://www.w3.org/2000/svg\" height=\"24px\"viewBox=\"0 0 24 24\"\n",
       "       width=\"24px\">\n",
       "    <path d=\"M0 0h24v24H0V0z\" fill=\"none\"/>\n",
       "    <path d=\"M18.56 5.44l.94 2.06.94-2.06 2.06-.94-2.06-.94-.94-2.06-.94 2.06-2.06.94zm-11 1L8.5 8.5l.94-2.06 2.06-.94-2.06-.94L8.5 2.5l-.94 2.06-2.06.94zm10 10l.94 2.06.94-2.06 2.06-.94-2.06-.94-.94-2.06-.94 2.06-2.06.94z\"/><path d=\"M17.41 7.96l-1.37-1.37c-.4-.4-.92-.59-1.43-.59-.52 0-1.04.2-1.43.59L10.3 9.45l-7.72 7.72c-.78.78-.78 2.05 0 2.83L4 21.41c.39.39.9.59 1.41.59.51 0 1.02-.2 1.41-.59l7.78-7.78 2.81-2.81c.8-.78.8-2.07 0-2.86zM5.41 20L4 18.59l7.72-7.72 1.47 1.35L5.41 20z\"/>\n",
       "  </svg>\n",
       "      </button>\n",
       "      \n",
       "  <style>\n",
       "    .colab-df-container {\n",
       "      display:flex;\n",
       "      flex-wrap:wrap;\n",
       "      gap: 12px;\n",
       "    }\n",
       "\n",
       "    .colab-df-convert {\n",
       "      background-color: #E8F0FE;\n",
       "      border: none;\n",
       "      border-radius: 50%;\n",
       "      cursor: pointer;\n",
       "      display: none;\n",
       "      fill: #1967D2;\n",
       "      height: 32px;\n",
       "      padding: 0 0 0 0;\n",
       "      width: 32px;\n",
       "    }\n",
       "\n",
       "    .colab-df-convert:hover {\n",
       "      background-color: #E2EBFA;\n",
       "      box-shadow: 0px 1px 2px rgba(60, 64, 67, 0.3), 0px 1px 3px 1px rgba(60, 64, 67, 0.15);\n",
       "      fill: #174EA6;\n",
       "    }\n",
       "\n",
       "    [theme=dark] .colab-df-convert {\n",
       "      background-color: #3B4455;\n",
       "      fill: #D2E3FC;\n",
       "    }\n",
       "\n",
       "    [theme=dark] .colab-df-convert:hover {\n",
       "      background-color: #434B5C;\n",
       "      box-shadow: 0px 1px 3px 1px rgba(0, 0, 0, 0.15);\n",
       "      filter: drop-shadow(0px 1px 2px rgba(0, 0, 0, 0.3));\n",
       "      fill: #FFFFFF;\n",
       "    }\n",
       "  </style>\n",
       "\n",
       "      <script>\n",
       "        const buttonEl =\n",
       "          document.querySelector('#df-942a1de2-2a5d-4a23-9463-44f502908906 button.colab-df-convert');\n",
       "        buttonEl.style.display =\n",
       "          google.colab.kernel.accessAllowed ? 'block' : 'none';\n",
       "\n",
       "        async function convertToInteractive(key) {\n",
       "          const element = document.querySelector('#df-942a1de2-2a5d-4a23-9463-44f502908906');\n",
       "          const dataTable =\n",
       "            await google.colab.kernel.invokeFunction('convertToInteractive',\n",
       "                                                     [key], {});\n",
       "          if (!dataTable) return;\n",
       "\n",
       "          const docLinkHtml = 'Like what you see? Visit the ' +\n",
       "            '<a target=\"_blank\" href=https://colab.research.google.com/notebooks/data_table.ipynb>data table notebook</a>'\n",
       "            + ' to learn more about interactive tables.';\n",
       "          element.innerHTML = '';\n",
       "          dataTable['output_type'] = 'display_data';\n",
       "          await google.colab.output.renderOutput(dataTable, element);\n",
       "          const docLink = document.createElement('div');\n",
       "          docLink.innerHTML = docLinkHtml;\n",
       "          element.appendChild(docLink);\n",
       "        }\n",
       "      </script>\n",
       "    </div>\n",
       "  </div>\n",
       "  "
      ],
      "text/plain": [
       "                0           1           2           3           4           5  \\\n",
       "count  148.000000  148.000000  148.000000  148.000000  148.000000  148.000000   \n",
       "mean   0.517922    0.468004    0.458879    0.471699    0.541178    0.454702     \n",
       "std    0.146696    0.169756    0.165467    0.150058    0.162236    0.185542     \n",
       "min    0.062609   -0.077006    0.061811    0.064865    0.072479    0.010649     \n",
       "25%    0.414628    0.358510    0.347374    0.375684    0.434052    0.335664     \n",
       "50%    0.512535    0.475113    0.459966    0.477490    0.546210    0.444065     \n",
       "75%    0.623202    0.581138    0.550046    0.561807    0.638645    0.565785     \n",
       "max    0.974539    0.945889    0.878246    0.939864    1.039311    0.972211     \n",
       "\n",
       "                6           7           8           9  ...          48  \\\n",
       "count  148.000000  148.000000  148.000000  148.000000  ...  148.000000   \n",
       "mean   0.509705    0.504797    0.497458    0.531855    ...  0.507386     \n",
       "std    0.171869    0.146112    0.131245    0.146485    ...  0.168903     \n",
       "min    0.000000    0.100475    0.108098    0.123428    ... -0.002794     \n",
       "25%    0.405244    0.414284    0.423550    0.439109    ...  0.398039     \n",
       "50%    0.491150    0.513577    0.490205    0.534340    ...  0.501462     \n",
       "75%    0.631010    0.587683    0.582043    0.616499    ...  0.615576     \n",
       "max    0.998720    0.978583    0.823310    0.992447    ...  1.021676     \n",
       "\n",
       "               49          50          51          52          53          54  \\\n",
       "count  148.000000  148.000000  148.000000  148.000000  148.000000  148.000000   \n",
       "mean   0.516420    0.530729    0.471546    0.528915    0.488781    0.427351     \n",
       "std    0.171243    0.181572    0.156414    0.192403    0.136205    0.171981     \n",
       "min    0.077274    0.087005    0.120974   -0.037527    0.070471    0.076655     \n",
       "25%    0.405931    0.428048    0.365147    0.412664    0.406249    0.315378     \n",
       "50%    0.531898    0.523604    0.477986    0.530059    0.489738    0.413320     \n",
       "75%    0.620800    0.642013    0.587541    0.634438    0.560876    0.523372     \n",
       "max    1.006643    0.986480    0.895016    0.986562    0.837719    0.841535     \n",
       "\n",
       "               55          56          57  \n",
       "count  148.000000  148.000000  148.000000  \n",
       "mean   0.498654    0.570136    0.515300    \n",
       "std    0.125089    0.169297    0.168001    \n",
       "min    0.150749    0.027873    0.115196    \n",
       "25%    0.424482    0.467827    0.420687    \n",
       "50%    0.503544    0.577543    0.512901    \n",
       "75%    0.587187    0.699132    0.621907    \n",
       "max    0.758478    0.885422    0.936492    \n",
       "\n",
       "[8 rows x 58 columns]"
      ]
     },
     "execution_count": 148,
     "metadata": {},
     "output_type": "execute_result"
    }
   ],
   "source": [
    "X_test.describe()"
   ]
  },
  {
   "cell_type": "markdown",
   "metadata": {
    "id": "uVgBEm8BfN4m"
   },
   "source": [
    "Instantiating the **Multinomial Navie Bayes** model"
   ]
  },
  {
   "cell_type": "code",
   "execution_count": 149,
   "metadata": {
    "id": "Hny5obZv1uyC"
   },
   "outputs": [],
   "source": [
    "mnb = MultinomialNB()"
   ]
  },
  {
   "cell_type": "markdown",
   "metadata": {
    "id": "xU9oK_0_fN4m"
   },
   "source": [
    "Training the model"
   ]
  },
  {
   "cell_type": "code",
   "execution_count": 150,
   "metadata": {
    "colab": {
     "base_uri": "https://localhost:8080/",
     "height": 75
    },
    "id": "oIITxDwZoWmq",
    "outputId": "ccf5bcdf-6ac0-4eb6-964a-bf6c461c8cad"
   },
   "outputs": [
    {
     "data": {
      "text/html": [
       "<style>#sk-container-id-4 {color: black;background-color: white;}#sk-container-id-4 pre{padding: 0;}#sk-container-id-4 div.sk-toggleable {background-color: white;}#sk-container-id-4 label.sk-toggleable__label {cursor: pointer;display: block;width: 100%;margin-bottom: 0;padding: 0.3em;box-sizing: border-box;text-align: center;}#sk-container-id-4 label.sk-toggleable__label-arrow:before {content: \"▸\";float: left;margin-right: 0.25em;color: #696969;}#sk-container-id-4 label.sk-toggleable__label-arrow:hover:before {color: black;}#sk-container-id-4 div.sk-estimator:hover label.sk-toggleable__label-arrow:before {color: black;}#sk-container-id-4 div.sk-toggleable__content {max-height: 0;max-width: 0;overflow: hidden;text-align: left;background-color: #f0f8ff;}#sk-container-id-4 div.sk-toggleable__content pre {margin: 0.2em;color: black;border-radius: 0.25em;background-color: #f0f8ff;}#sk-container-id-4 input.sk-toggleable__control:checked~div.sk-toggleable__content {max-height: 200px;max-width: 100%;overflow: auto;}#sk-container-id-4 input.sk-toggleable__control:checked~label.sk-toggleable__label-arrow:before {content: \"▾\";}#sk-container-id-4 div.sk-estimator input.sk-toggleable__control:checked~label.sk-toggleable__label {background-color: #d4ebff;}#sk-container-id-4 div.sk-label input.sk-toggleable__control:checked~label.sk-toggleable__label {background-color: #d4ebff;}#sk-container-id-4 input.sk-hidden--visually {border: 0;clip: rect(1px 1px 1px 1px);clip: rect(1px, 1px, 1px, 1px);height: 1px;margin: -1px;overflow: hidden;padding: 0;position: absolute;width: 1px;}#sk-container-id-4 div.sk-estimator {font-family: monospace;background-color: #f0f8ff;border: 1px dotted black;border-radius: 0.25em;box-sizing: border-box;margin-bottom: 0.5em;}#sk-container-id-4 div.sk-estimator:hover {background-color: #d4ebff;}#sk-container-id-4 div.sk-parallel-item::after {content: \"\";width: 100%;border-bottom: 1px solid gray;flex-grow: 1;}#sk-container-id-4 div.sk-label:hover label.sk-toggleable__label {background-color: #d4ebff;}#sk-container-id-4 div.sk-serial::before {content: \"\";position: absolute;border-left: 1px solid gray;box-sizing: border-box;top: 0;bottom: 0;left: 50%;z-index: 0;}#sk-container-id-4 div.sk-serial {display: flex;flex-direction: column;align-items: center;background-color: white;padding-right: 0.2em;padding-left: 0.2em;position: relative;}#sk-container-id-4 div.sk-item {position: relative;z-index: 1;}#sk-container-id-4 div.sk-parallel {display: flex;align-items: stretch;justify-content: center;background-color: white;position: relative;}#sk-container-id-4 div.sk-item::before, #sk-container-id-4 div.sk-parallel-item::before {content: \"\";position: absolute;border-left: 1px solid gray;box-sizing: border-box;top: 0;bottom: 0;left: 50%;z-index: -1;}#sk-container-id-4 div.sk-parallel-item {display: flex;flex-direction: column;z-index: 1;position: relative;background-color: white;}#sk-container-id-4 div.sk-parallel-item:first-child::after {align-self: flex-end;width: 50%;}#sk-container-id-4 div.sk-parallel-item:last-child::after {align-self: flex-start;width: 50%;}#sk-container-id-4 div.sk-parallel-item:only-child::after {width: 0;}#sk-container-id-4 div.sk-dashed-wrapped {border: 1px dashed gray;margin: 0 0.4em 0.5em 0.4em;box-sizing: border-box;padding-bottom: 0.4em;background-color: white;}#sk-container-id-4 div.sk-label label {font-family: monospace;font-weight: bold;display: inline-block;line-height: 1.2em;}#sk-container-id-4 div.sk-label-container {text-align: center;}#sk-container-id-4 div.sk-container {/* jupyter's `normalize.less` sets `[hidden] { display: none; }` but bootstrap.min.css set `[hidden] { display: none !important; }` so we also need the `!important` here to be able to override the default hidden behavior on the sphinx rendered scikit-learn.org. See: https://github.com/scikit-learn/scikit-learn/issues/21755 */display: inline-block !important;position: relative;}#sk-container-id-4 div.sk-text-repr-fallback {display: none;}</style><div id=\"sk-container-id-4\" class=\"sk-top-container\"><div class=\"sk-text-repr-fallback\"><pre>MultinomialNB()</pre><b>In a Jupyter environment, please rerun this cell to show the HTML representation or trust the notebook. <br />On GitHub, the HTML representation is unable to render, please try loading this page with nbviewer.org.</b></div><div class=\"sk-container\" hidden><div class=\"sk-item\"><div class=\"sk-estimator sk-toggleable\"><input class=\"sk-toggleable__control sk-hidden--visually\" id=\"sk-estimator-id-12\" type=\"checkbox\" checked><label for=\"sk-estimator-id-12\" class=\"sk-toggleable__label sk-toggleable__label-arrow\">MultinomialNB</label><div class=\"sk-toggleable__content\"><pre>MultinomialNB()</pre></div></div></div></div></div>"
      ],
      "text/plain": [
       "MultinomialNB()"
      ]
     },
     "execution_count": 150,
     "metadata": {},
     "output_type": "execute_result"
    }
   ],
   "source": [
    "mnb.fit(X_train, df_train_Word2Vec.Liked)"
   ]
  },
  {
   "cell_type": "markdown",
   "metadata": {
    "id": "ICalXk8PfN4n"
   },
   "source": [
    "Predicting on the test dataframe"
   ]
  },
  {
   "cell_type": "code",
   "execution_count": 151,
   "metadata": {
    "id": "YGUdpgX830Y1"
   },
   "outputs": [],
   "source": [
    "labels_Word2Vec = mnb.predict(X_test)"
   ]
  },
  {
   "cell_type": "code",
   "execution_count": 152,
   "metadata": {
    "id": "iLN_rHA430a6"
   },
   "outputs": [],
   "source": [
    "mat_Word2Vec = confusion_matrix(df_test_Word2Vec.Liked, labels_Word2Vec)"
   ]
  },
  {
   "cell_type": "code",
   "execution_count": 153,
   "metadata": {
    "colab": {
     "base_uri": "https://localhost:8080/",
     "height": 296
    },
    "id": "vFutZ1ZbFb31",
    "outputId": "ddd6545d-3486-4720-ff44-4119c60d84d4"
   },
   "outputs": [
    {
     "data": {
      "text/plain": [
       "Text(91.68, 0.5, 'Predicted label')"
      ]
     },
     "execution_count": 153,
     "metadata": {},
     "output_type": "execute_result"
    },
    {
     "data": {
      "image/png": "[encoded data removed]",
      "text/plain": [
       "<Figure size 432x288 with 1 Axes>"
      ]
     },
     "metadata": {
      "needs_background": "light"
     },
     "output_type": "display_data"
    }
   ],
   "source": [
    "sns.heatmap(mat_Word2Vec.T, square=True, annot=True, fmt='d', cbar=False)\n",
    "plt.xlabel('True label')\n",
    "plt.ylabel('Predicted label')"
   ]
  },
  {
   "cell_type": "markdown",
   "metadata": {
    "id": "i28l0VdUFvQn"
   },
   "source": [
    "The following observations can be concluded about the performance:\n",
    "\n",
    " - 39 is the number of true positives i.e. The number of actual negative reviews that were predicted negatively be the model\n",
    "\n",
    " - 125 is the number of true negatives i.e. The number of actual positive reviews that were predicted positively be the model\n",
    "\n",
    " - 116 is the number of false positives i.e. The number of actual negative reviews that were predicted positively be the model\n",
    "\n",
    " - 16 is the number of false negatives i.e. The number of actual positive reviews that were predicted negatively be the model"
   ]
  },
  {
   "cell_type": "code",
   "execution_count": 154,
   "metadata": {
    "id": "4vrWjpXxFb6D"
   },
   "outputs": [],
   "source": [
    "score_Word2Vec = accuracy_score(df_test_Word2Vec.Liked, labels_Word2Vec)"
   ]
  },
  {
   "cell_type": "code",
   "execution_count": 155,
   "metadata": {
    "colab": {
     "base_uri": "https://localhost:8080/"
    },
    "id": "MLmksHjaFb9z",
    "outputId": "c5b8705c-3aff-49bf-fb56-8b8960c003a6"
   },
   "outputs": [
    {
     "data": {
      "text/plain": [
       "0.6756756756756757"
      ]
     },
     "execution_count": 155,
     "metadata": {},
     "output_type": "execute_result"
    }
   ],
   "source": [
    "score_Word2Vec"
   ]
  },
  {
   "cell_type": "code",
   "execution_count": 156,
   "metadata": {
    "id": "Qjv8L_m6GRar"
   },
   "outputs": [],
   "source": [
    "report_Word2Vec = classification_report(df_test_Word2Vec.Liked, labels_Word2Vec)"
   ]
  },
  {
   "cell_type": "code",
   "execution_count": 157,
   "metadata": {
    "colab": {
     "base_uri": "https://localhost:8080/"
    },
    "id": "8S0P60f0GRcR",
    "outputId": "8859a92d-2c30-47d8-b423-58c1cd9f05d9"
   },
   "outputs": [
    {
     "name": "stdout",
     "output_type": "stream",
     "text": [
      "              precision    recall  f1-score   support\n",
      "\n",
      "           0       0.74      0.54      0.62        74\n",
      "           1       0.64      0.81      0.71        74\n",
      "\n",
      "    accuracy                           0.68       148\n",
      "   macro avg       0.69      0.68      0.67       148\n",
      "weighted avg       0.69      0.68      0.67       148\n",
      "\n"
     ]
    }
   ],
   "source": [
    "print(report_Word2Vec)"
   ]
  }
 ],
 "metadata": {
  "colab": {
   "provenance": []
  },
  "kernelspec": {
   "display_name": "Python 3",
   "language": "python",
   "name": "python3"
  },
  "language_info": {
   "codemirror_mode": {
    "name": "ipython",
    "version": 3
   },
   "file_extension": ".py",
   "mimetype": "text/x-python",
   "name": "python",
   "nbconvert_exporter": "python",
   "pygments_lexer": "ipython3",
   "version": "3.6.5"
  }
 },
 "nbformat": 4,
 "nbformat_minor": 1
}
