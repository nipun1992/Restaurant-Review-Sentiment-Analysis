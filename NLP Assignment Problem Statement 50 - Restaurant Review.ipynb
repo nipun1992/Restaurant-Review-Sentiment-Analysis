{
  "cells": [
    {
      "cell_type": "markdown",
      "metadata": {
        "id": "-1glbD8hUG0H"
      },
      "source": [
        "### Group Members:\n",
        "    \n",
        " - Aiswarya S Parvathy\n",
        " - Vengadesh S\n",
        " - Nipun Gupta   "
      ]
    },
    {
      "cell_type": "markdown",
      "metadata": {
        "id": "ri_cZFTkUG0L"
      },
      "source": [
        "### Objective: \n",
        "\n",
        "Build a prediction model to predict whether a review on the restaurant is positive or negative."
      ]
    },
    {
      "cell_type": "markdown",
      "metadata": {
        "id": "49zKzmoRUG0M"
      },
      "source": [
        "### Importing pandas"
      ]
    },
    {
      "cell_type": "code",
      "execution_count": 1,
      "metadata": {
        "id": "3dQA3srOUG0M"
      },
      "outputs": [],
      "source": [
        "import pandas as pd\n",
        "import numpy as np"
      ]
    },
    {
      "cell_type": "markdown",
      "metadata": {
        "id": "HpT_Av-BUG0O"
      },
      "source": [
        "Reading the csv dataset as a pandas dataframe"
      ]
    },
    {
      "cell_type": "code",
      "execution_count": 2,
      "metadata": {
        "id": "A0fZvfpHUG0O"
      },
      "outputs": [],
      "source": [
        "Rest_rev = pd.read_csv('RestaurantReview.csv')"
      ]
    },
    {
      "cell_type": "code",
      "execution_count": 3,
      "metadata": {
        "colab": {
          "base_uri": "https://localhost:8080/"
        },
        "id": "92Lp9VYdUG0P",
        "outputId": "9eabe41c-a9e4-465f-f7cb-047f329fcca5"
      },
      "outputs": [
        {
          "output_type": "stream",
          "name": "stderr",
          "text": [
            "<ipython-input-3-0891b765a168>:1: FutureWarning: Passing a negative integer is deprecated in version 1.0 and will not be supported in future version. Instead, use None to not limit the column width.\n",
            "  pd.set_option('display.max_colwidth', -1)\n"
          ]
        }
      ],
      "source": [
        "pd.set_option('display.max_colwidth', -1)"
      ]
    },
    {
      "cell_type": "code",
      "execution_count": 4,
      "metadata": {
        "colab": {
          "base_uri": "https://localhost:8080/",
          "height": 206
        },
        "id": "_REkiZBTUG0P",
        "outputId": "10aecbfe-fe66-4adc-8434-b6e31520d355"
      },
      "outputs": [
        {
          "output_type": "execute_result",
          "data": {
            "text/plain": [
              "                                                                                    Review  \\\n",
              "0  Wow... Loved this place.                                                                  \n",
              "1  Crust is not good.                                                                        \n",
              "2  Not tasty and the texture was just nasty.                                                 \n",
              "3  Stopped by during the late May bank holiday off Rick Steve recommendation and loved it.   \n",
              "4  The selection on the menu was great and so were the prices.                               \n",
              "\n",
              "   Liked  \n",
              "0  1      \n",
              "1  0      \n",
              "2  0      \n",
              "3  1      \n",
              "4  1      "
            ],
            "text/html": [
              "\n",
              "  <div id=\"df-5d187713-3711-4b66-a67f-a6a739678c52\">\n",
              "    <div class=\"colab-df-container\">\n",
              "      <div>\n",
              "<style scoped>\n",
              "    .dataframe tbody tr th:only-of-type {\n",
              "        vertical-align: middle;\n",
              "    }\n",
              "\n",
              "    .dataframe tbody tr th {\n",
              "        vertical-align: top;\n",
              "    }\n",
              "\n",
              "    .dataframe thead th {\n",
              "        text-align: right;\n",
              "    }\n",
              "</style>\n",
              "<table border=\"1\" class=\"dataframe\">\n",
              "  <thead>\n",
              "    <tr style=\"text-align: right;\">\n",
              "      <th></th>\n",
              "      <th>Review</th>\n",
              "      <th>Liked</th>\n",
              "    </tr>\n",
              "  </thead>\n",
              "  <tbody>\n",
              "    <tr>\n",
              "      <th>0</th>\n",
              "      <td>Wow... Loved this place.</td>\n",
              "      <td>1</td>\n",
              "    </tr>\n",
              "    <tr>\n",
              "      <th>1</th>\n",
              "      <td>Crust is not good.</td>\n",
              "      <td>0</td>\n",
              "    </tr>\n",
              "    <tr>\n",
              "      <th>2</th>\n",
              "      <td>Not tasty and the texture was just nasty.</td>\n",
              "      <td>0</td>\n",
              "    </tr>\n",
              "    <tr>\n",
              "      <th>3</th>\n",
              "      <td>Stopped by during the late May bank holiday off Rick Steve recommendation and loved it.</td>\n",
              "      <td>1</td>\n",
              "    </tr>\n",
              "    <tr>\n",
              "      <th>4</th>\n",
              "      <td>The selection on the menu was great and so were the prices.</td>\n",
              "      <td>1</td>\n",
              "    </tr>\n",
              "  </tbody>\n",
              "</table>\n",
              "</div>\n",
              "      <button class=\"colab-df-convert\" onclick=\"convertToInteractive('df-5d187713-3711-4b66-a67f-a6a739678c52')\"\n",
              "              title=\"Convert this dataframe to an interactive table.\"\n",
              "              style=\"display:none;\">\n",
              "        \n",
              "  <svg xmlns=\"http://www.w3.org/2000/svg\" height=\"24px\"viewBox=\"0 0 24 24\"\n",
              "       width=\"24px\">\n",
              "    <path d=\"M0 0h24v24H0V0z\" fill=\"none\"/>\n",
              "    <path d=\"M18.56 5.44l.94 2.06.94-2.06 2.06-.94-2.06-.94-.94-2.06-.94 2.06-2.06.94zm-11 1L8.5 8.5l.94-2.06 2.06-.94-2.06-.94L8.5 2.5l-.94 2.06-2.06.94zm10 10l.94 2.06.94-2.06 2.06-.94-2.06-.94-.94-2.06-.94 2.06-2.06.94z\"/><path d=\"M17.41 7.96l-1.37-1.37c-.4-.4-.92-.59-1.43-.59-.52 0-1.04.2-1.43.59L10.3 9.45l-7.72 7.72c-.78.78-.78 2.05 0 2.83L4 21.41c.39.39.9.59 1.41.59.51 0 1.02-.2 1.41-.59l7.78-7.78 2.81-2.81c.8-.78.8-2.07 0-2.86zM5.41 20L4 18.59l7.72-7.72 1.47 1.35L5.41 20z\"/>\n",
              "  </svg>\n",
              "      </button>\n",
              "      \n",
              "  <style>\n",
              "    .colab-df-container {\n",
              "      display:flex;\n",
              "      flex-wrap:wrap;\n",
              "      gap: 12px;\n",
              "    }\n",
              "\n",
              "    .colab-df-convert {\n",
              "      background-color: #E8F0FE;\n",
              "      border: none;\n",
              "      border-radius: 50%;\n",
              "      cursor: pointer;\n",
              "      display: none;\n",
              "      fill: #1967D2;\n",
              "      height: 32px;\n",
              "      padding: 0 0 0 0;\n",
              "      width: 32px;\n",
              "    }\n",
              "\n",
              "    .colab-df-convert:hover {\n",
              "      background-color: #E2EBFA;\n",
              "      box-shadow: 0px 1px 2px rgba(60, 64, 67, 0.3), 0px 1px 3px 1px rgba(60, 64, 67, 0.15);\n",
              "      fill: #174EA6;\n",
              "    }\n",
              "\n",
              "    [theme=dark] .colab-df-convert {\n",
              "      background-color: #3B4455;\n",
              "      fill: #D2E3FC;\n",
              "    }\n",
              "\n",
              "    [theme=dark] .colab-df-convert:hover {\n",
              "      background-color: #434B5C;\n",
              "      box-shadow: 0px 1px 3px 1px rgba(0, 0, 0, 0.15);\n",
              "      filter: drop-shadow(0px 1px 2px rgba(0, 0, 0, 0.3));\n",
              "      fill: #FFFFFF;\n",
              "    }\n",
              "  </style>\n",
              "\n",
              "      <script>\n",
              "        const buttonEl =\n",
              "          document.querySelector('#df-5d187713-3711-4b66-a67f-a6a739678c52 button.colab-df-convert');\n",
              "        buttonEl.style.display =\n",
              "          google.colab.kernel.accessAllowed ? 'block' : 'none';\n",
              "\n",
              "        async function convertToInteractive(key) {\n",
              "          const element = document.querySelector('#df-5d187713-3711-4b66-a67f-a6a739678c52');\n",
              "          const dataTable =\n",
              "            await google.colab.kernel.invokeFunction('convertToInteractive',\n",
              "                                                     [key], {});\n",
              "          if (!dataTable) return;\n",
              "\n",
              "          const docLinkHtml = 'Like what you see? Visit the ' +\n",
              "            '<a target=\"_blank\" href=https://colab.research.google.com/notebooks/data_table.ipynb>data table notebook</a>'\n",
              "            + ' to learn more about interactive tables.';\n",
              "          element.innerHTML = '';\n",
              "          dataTable['output_type'] = 'display_data';\n",
              "          await google.colab.output.renderOutput(dataTable, element);\n",
              "          const docLink = document.createElement('div');\n",
              "          docLink.innerHTML = docLinkHtml;\n",
              "          element.appendChild(docLink);\n",
              "        }\n",
              "      </script>\n",
              "    </div>\n",
              "  </div>\n",
              "  "
            ]
          },
          "metadata": {},
          "execution_count": 4
        }
      ],
      "source": [
        "Rest_rev.head()"
      ]
    },
    {
      "cell_type": "markdown",
      "metadata": {
        "id": "lZhFEpvHUG0R"
      },
      "source": [
        "Checking details of the dataframe"
      ]
    },
    {
      "cell_type": "code",
      "execution_count": 5,
      "metadata": {
        "colab": {
          "base_uri": "https://localhost:8080/"
        },
        "id": "N2IX3f_9UG0S",
        "outputId": "2cd1c8e6-f6f5-42c0-a2af-cd3c3ca83d00"
      },
      "outputs": [
        {
          "output_type": "stream",
          "name": "stdout",
          "text": [
            "<class 'pandas.core.frame.DataFrame'>\n",
            "RangeIndex: 1000 entries, 0 to 999\n",
            "Data columns (total 2 columns):\n",
            " #   Column   Non-Null Count  Dtype \n",
            "---  ------   --------------  ----- \n",
            " 0    Review  1000 non-null   object\n",
            " 1   Liked    1000 non-null   int64 \n",
            "dtypes: int64(1), object(1)\n",
            "memory usage: 15.8+ KB\n"
          ]
        }
      ],
      "source": [
        "Rest_rev.info()"
      ]
    },
    {
      "cell_type": "code",
      "execution_count": 6,
      "metadata": {
        "colab": {
          "base_uri": "https://localhost:8080/"
        },
        "id": "cqBZV9xiUG0S",
        "outputId": "f8b1f9dc-7916-444a-ec6c-f62efca5d0ec"
      },
      "outputs": [
        {
          "output_type": "execute_result",
          "data": {
            "text/plain": [
              "Index([' Review', 'Liked'], dtype='object')"
            ]
          },
          "metadata": {},
          "execution_count": 6
        }
      ],
      "source": [
        "Rest_rev.columns"
      ]
    },
    {
      "cell_type": "markdown",
      "metadata": {
        "id": "PvW_t1dTUG0T"
      },
      "source": [
        "The column **Review** has a leading space in its name. So we can rename the column to remove this leading space"
      ]
    },
    {
      "cell_type": "code",
      "execution_count": 7,
      "metadata": {
        "id": "XJLGrY_xUG0T"
      },
      "outputs": [],
      "source": [
        "Rest_rev = Rest_rev.rename(columns={' Review':'Review'})"
      ]
    },
    {
      "cell_type": "code",
      "execution_count": 8,
      "metadata": {
        "colab": {
          "base_uri": "https://localhost:8080/"
        },
        "id": "tHVRQAcdUG0U",
        "outputId": "b225db5b-5520-4722-b455-995e6183fa5a"
      },
      "outputs": [
        {
          "output_type": "execute_result",
          "data": {
            "text/plain": [
              "Index(['Review', 'Liked'], dtype='object')"
            ]
          },
          "metadata": {},
          "execution_count": 8
        }
      ],
      "source": [
        "Rest_rev.columns"
      ]
    },
    {
      "cell_type": "markdown",
      "metadata": {
        "id": "-IeqlzXnUG0V"
      },
      "source": [
        "The leading space has been removed from the **Review** column"
      ]
    },
    {
      "cell_type": "markdown",
      "metadata": {
        "id": "7PKc3Ws9UG0V"
      },
      "source": [
        "Checking for presence of missing values"
      ]
    },
    {
      "cell_type": "code",
      "execution_count": 9,
      "metadata": {
        "colab": {
          "base_uri": "https://localhost:8080/"
        },
        "id": "YmA31ij1UG0W",
        "outputId": "53b86065-6c1b-4e65-f18f-00f0ba4c413d"
      },
      "outputs": [
        {
          "output_type": "execute_result",
          "data": {
            "text/plain": [
              "Review    0\n",
              "Liked     0\n",
              "dtype: int64"
            ]
          },
          "metadata": {},
          "execution_count": 9
        }
      ],
      "source": [
        "Rest_rev.isnull().sum()"
      ]
    },
    {
      "cell_type": "markdown",
      "metadata": {
        "id": "n0U-Cg-fUG0W"
      },
      "source": [
        "There are no missing values in the dataframe"
      ]
    },
    {
      "cell_type": "markdown",
      "metadata": {
        "id": "QDVyjhszUG0X"
      },
      "source": [
        "Checking for presence of duplicates"
      ]
    },
    {
      "cell_type": "code",
      "execution_count": 10,
      "metadata": {
        "colab": {
          "base_uri": "https://localhost:8080/"
        },
        "id": "wQ6hZ1MiUG0X",
        "outputId": "2115ca73-7325-4435-f02e-7db5affeab0f"
      },
      "outputs": [
        {
          "output_type": "execute_result",
          "data": {
            "text/plain": [
              "4"
            ]
          },
          "metadata": {},
          "execution_count": 10
        }
      ],
      "source": [
        "Rest_rev.duplicated(subset=None, keep='first').sum()"
      ]
    },
    {
      "cell_type": "markdown",
      "metadata": {
        "id": "JVQs3TkIUG0X"
      },
      "source": [
        "There are 4 duplicate records in the dataframe"
      ]
    },
    {
      "cell_type": "code",
      "execution_count": 11,
      "metadata": {
        "colab": {
          "base_uri": "https://localhost:8080/"
        },
        "id": "4kMsCOEzUG0Y",
        "outputId": "66d62fa3-107f-457a-8e62-e475d4ecbb33"
      },
      "outputs": [
        {
          "output_type": "execute_result",
          "data": {
            "text/plain": [
              "(1000, 2)"
            ]
          },
          "metadata": {},
          "execution_count": 11
        }
      ],
      "source": [
        "Rest_rev.shape"
      ]
    },
    {
      "cell_type": "markdown",
      "metadata": {
        "id": "oRjeXcZUUG0Z"
      },
      "source": [
        "Removing the duplicate records"
      ]
    },
    {
      "cell_type": "code",
      "execution_count": 12,
      "metadata": {
        "id": "58Nj9H2sUG0Z"
      },
      "outputs": [],
      "source": [
        "Rest_rev = Rest_rev[Rest_rev.duplicated(Rest_rev.columns.tolist(), keep='first')==False]"
      ]
    },
    {
      "cell_type": "code",
      "execution_count": 13,
      "metadata": {
        "colab": {
          "base_uri": "https://localhost:8080/"
        },
        "id": "L1pYaQ6ZUG0a",
        "outputId": "0ecbf4f3-0b90-4749-d5ee-217075c68411"
      },
      "outputs": [
        {
          "output_type": "execute_result",
          "data": {
            "text/plain": [
              "0"
            ]
          },
          "metadata": {},
          "execution_count": 13
        }
      ],
      "source": [
        "Rest_rev.duplicated(subset=None, keep='first').sum()"
      ]
    },
    {
      "cell_type": "code",
      "execution_count": 14,
      "metadata": {
        "colab": {
          "base_uri": "https://localhost:8080/"
        },
        "id": "BbXLg7GBUG0a",
        "outputId": "b09a9a08-61fb-445f-9782-28550e960103"
      },
      "outputs": [
        {
          "output_type": "execute_result",
          "data": {
            "text/plain": [
              "(996, 2)"
            ]
          },
          "metadata": {},
          "execution_count": 14
        }
      ],
      "source": [
        "Rest_rev.shape"
      ]
    },
    {
      "cell_type": "markdown",
      "metadata": {
        "id": "TYhULLHoUG0b"
      },
      "source": [
        "Duplicate records have been removed from the dataframe"
      ]
    },
    {
      "cell_type": "code",
      "execution_count": 15,
      "metadata": {
        "id": "aPHvovs7UG0b"
      },
      "outputs": [],
      "source": [
        "Rest_rev.reset_index(inplace = True, drop = True)"
      ]
    },
    {
      "cell_type": "markdown",
      "metadata": {
        "id": "rBcbZDlwUG0b"
      },
      "source": [
        "Indices have been reset"
      ]
    },
    {
      "cell_type": "code",
      "execution_count": 16,
      "metadata": {
        "colab": {
          "base_uri": "https://localhost:8080/",
          "height": 175
        },
        "id": "SN8oKcuZUG0c",
        "outputId": "cdd09471-b04e-40d4-e52b-5dd55f9359ae"
      },
      "outputs": [
        {
          "output_type": "execute_result",
          "data": {
            "text/plain": [
              "      Review                                      \n",
              "       count unique                       top freq\n",
              "Liked                                             \n",
              "0      497    497    Crust is not good.        1  \n",
              "1      499    499    Wow... Loved this place.  1  "
            ],
            "text/html": [
              "\n",
              "  <div id=\"df-dfe1f7cb-cbfc-4d83-b3cf-15103f2738ed\">\n",
              "    <div class=\"colab-df-container\">\n",
              "      <div>\n",
              "<style scoped>\n",
              "    .dataframe tbody tr th:only-of-type {\n",
              "        vertical-align: middle;\n",
              "    }\n",
              "\n",
              "    .dataframe tbody tr th {\n",
              "        vertical-align: top;\n",
              "    }\n",
              "\n",
              "    .dataframe thead tr th {\n",
              "        text-align: left;\n",
              "    }\n",
              "\n",
              "    .dataframe thead tr:last-of-type th {\n",
              "        text-align: right;\n",
              "    }\n",
              "</style>\n",
              "<table border=\"1\" class=\"dataframe\">\n",
              "  <thead>\n",
              "    <tr>\n",
              "      <th></th>\n",
              "      <th colspan=\"4\" halign=\"left\">Review</th>\n",
              "    </tr>\n",
              "    <tr>\n",
              "      <th></th>\n",
              "      <th>count</th>\n",
              "      <th>unique</th>\n",
              "      <th>top</th>\n",
              "      <th>freq</th>\n",
              "    </tr>\n",
              "    <tr>\n",
              "      <th>Liked</th>\n",
              "      <th></th>\n",
              "      <th></th>\n",
              "      <th></th>\n",
              "      <th></th>\n",
              "    </tr>\n",
              "  </thead>\n",
              "  <tbody>\n",
              "    <tr>\n",
              "      <th>0</th>\n",
              "      <td>497</td>\n",
              "      <td>497</td>\n",
              "      <td>Crust is not good.</td>\n",
              "      <td>1</td>\n",
              "    </tr>\n",
              "    <tr>\n",
              "      <th>1</th>\n",
              "      <td>499</td>\n",
              "      <td>499</td>\n",
              "      <td>Wow... Loved this place.</td>\n",
              "      <td>1</td>\n",
              "    </tr>\n",
              "  </tbody>\n",
              "</table>\n",
              "</div>\n",
              "      <button class=\"colab-df-convert\" onclick=\"convertToInteractive('df-dfe1f7cb-cbfc-4d83-b3cf-15103f2738ed')\"\n",
              "              title=\"Convert this dataframe to an interactive table.\"\n",
              "              style=\"display:none;\">\n",
              "        \n",
              "  <svg xmlns=\"http://www.w3.org/2000/svg\" height=\"24px\"viewBox=\"0 0 24 24\"\n",
              "       width=\"24px\">\n",
              "    <path d=\"M0 0h24v24H0V0z\" fill=\"none\"/>\n",
              "    <path d=\"M18.56 5.44l.94 2.06.94-2.06 2.06-.94-2.06-.94-.94-2.06-.94 2.06-2.06.94zm-11 1L8.5 8.5l.94-2.06 2.06-.94-2.06-.94L8.5 2.5l-.94 2.06-2.06.94zm10 10l.94 2.06.94-2.06 2.06-.94-2.06-.94-.94-2.06-.94 2.06-2.06.94z\"/><path d=\"M17.41 7.96l-1.37-1.37c-.4-.4-.92-.59-1.43-.59-.52 0-1.04.2-1.43.59L10.3 9.45l-7.72 7.72c-.78.78-.78 2.05 0 2.83L4 21.41c.39.39.9.59 1.41.59.51 0 1.02-.2 1.41-.59l7.78-7.78 2.81-2.81c.8-.78.8-2.07 0-2.86zM5.41 20L4 18.59l7.72-7.72 1.47 1.35L5.41 20z\"/>\n",
              "  </svg>\n",
              "      </button>\n",
              "      \n",
              "  <style>\n",
              "    .colab-df-container {\n",
              "      display:flex;\n",
              "      flex-wrap:wrap;\n",
              "      gap: 12px;\n",
              "    }\n",
              "\n",
              "    .colab-df-convert {\n",
              "      background-color: #E8F0FE;\n",
              "      border: none;\n",
              "      border-radius: 50%;\n",
              "      cursor: pointer;\n",
              "      display: none;\n",
              "      fill: #1967D2;\n",
              "      height: 32px;\n",
              "      padding: 0 0 0 0;\n",
              "      width: 32px;\n",
              "    }\n",
              "\n",
              "    .colab-df-convert:hover {\n",
              "      background-color: #E2EBFA;\n",
              "      box-shadow: 0px 1px 2px rgba(60, 64, 67, 0.3), 0px 1px 3px 1px rgba(60, 64, 67, 0.15);\n",
              "      fill: #174EA6;\n",
              "    }\n",
              "\n",
              "    [theme=dark] .colab-df-convert {\n",
              "      background-color: #3B4455;\n",
              "      fill: #D2E3FC;\n",
              "    }\n",
              "\n",
              "    [theme=dark] .colab-df-convert:hover {\n",
              "      background-color: #434B5C;\n",
              "      box-shadow: 0px 1px 3px 1px rgba(0, 0, 0, 0.15);\n",
              "      filter: drop-shadow(0px 1px 2px rgba(0, 0, 0, 0.3));\n",
              "      fill: #FFFFFF;\n",
              "    }\n",
              "  </style>\n",
              "\n",
              "      <script>\n",
              "        const buttonEl =\n",
              "          document.querySelector('#df-dfe1f7cb-cbfc-4d83-b3cf-15103f2738ed button.colab-df-convert');\n",
              "        buttonEl.style.display =\n",
              "          google.colab.kernel.accessAllowed ? 'block' : 'none';\n",
              "\n",
              "        async function convertToInteractive(key) {\n",
              "          const element = document.querySelector('#df-dfe1f7cb-cbfc-4d83-b3cf-15103f2738ed');\n",
              "          const dataTable =\n",
              "            await google.colab.kernel.invokeFunction('convertToInteractive',\n",
              "                                                     [key], {});\n",
              "          if (!dataTable) return;\n",
              "\n",
              "          const docLinkHtml = 'Like what you see? Visit the ' +\n",
              "            '<a target=\"_blank\" href=https://colab.research.google.com/notebooks/data_table.ipynb>data table notebook</a>'\n",
              "            + ' to learn more about interactive tables.';\n",
              "          element.innerHTML = '';\n",
              "          dataTable['output_type'] = 'display_data';\n",
              "          await google.colab.output.renderOutput(dataTable, element);\n",
              "          const docLink = document.createElement('div');\n",
              "          docLink.innerHTML = docLinkHtml;\n",
              "          element.appendChild(docLink);\n",
              "        }\n",
              "      </script>\n",
              "    </div>\n",
              "  </div>\n",
              "  "
            ]
          },
          "metadata": {},
          "execution_count": 16
        }
      ],
      "source": [
        "Rest_rev.groupby('Liked').describe()"
      ]
    },
    {
      "cell_type": "markdown",
      "metadata": {
        "id": "Wv3u8ZD8UG0c"
      },
      "source": [
        "The following conclusions can be drawn from the above result:\n",
        "\n",
        " - The count of negative reviews is 497\n",
        " - The count of positive reviews is 499"
      ]
    },
    {
      "cell_type": "markdown",
      "metadata": {
        "id": "YzwrRXJWUG0d"
      },
      "source": [
        "Let's create a new column to detect how long the text messages are"
      ]
    },
    {
      "cell_type": "code",
      "execution_count": 17,
      "metadata": {
        "id": "UV_um9hnUG0d"
      },
      "outputs": [],
      "source": [
        "Rest_rev['Length'] = Rest_rev['Review'].apply(len)"
      ]
    },
    {
      "cell_type": "code",
      "execution_count": 18,
      "metadata": {
        "colab": {
          "base_uri": "https://localhost:8080/",
          "height": 363
        },
        "id": "oK3KB4VoUG0d",
        "outputId": "cb9cffff-a86c-433e-df57-e38880a3ef99"
      },
      "outputs": [
        {
          "output_type": "execute_result",
          "data": {
            "text/plain": [
              "                                                                                                            Review  \\\n",
              "0  Wow... Loved this place.                                                                                          \n",
              "1  Crust is not good.                                                                                                \n",
              "2  Not tasty and the texture was just nasty.                                                                         \n",
              "3  Stopped by during the late May bank holiday off Rick Steve recommendation and loved it.                           \n",
              "4  The selection on the menu was great and so were the prices.                                                       \n",
              "5  Now I am getting angry and I want my damn pho.                                                                    \n",
              "6  Honeslty it didn't taste THAT fresh.)                                                                             \n",
              "7  The potatoes were like rubber and you could tell they had been made up ahead of time being kept under a warmer.   \n",
              "8  The fries were great too.                                                                                         \n",
              "9  A great touch.                                                                                                    \n",
              "\n",
              "   Liked  Length  \n",
              "0  1      24      \n",
              "1  0      18      \n",
              "2  0      41      \n",
              "3  1      87      \n",
              "4  1      59      \n",
              "5  0      46      \n",
              "6  0      37      \n",
              "7  0      111     \n",
              "8  1      25      \n",
              "9  1      14      "
            ],
            "text/html": [
              "\n",
              "  <div id=\"df-27df9dfa-67c1-4802-b9b3-abaf79003bfb\">\n",
              "    <div class=\"colab-df-container\">\n",
              "      <div>\n",
              "<style scoped>\n",
              "    .dataframe tbody tr th:only-of-type {\n",
              "        vertical-align: middle;\n",
              "    }\n",
              "\n",
              "    .dataframe tbody tr th {\n",
              "        vertical-align: top;\n",
              "    }\n",
              "\n",
              "    .dataframe thead th {\n",
              "        text-align: right;\n",
              "    }\n",
              "</style>\n",
              "<table border=\"1\" class=\"dataframe\">\n",
              "  <thead>\n",
              "    <tr style=\"text-align: right;\">\n",
              "      <th></th>\n",
              "      <th>Review</th>\n",
              "      <th>Liked</th>\n",
              "      <th>Length</th>\n",
              "    </tr>\n",
              "  </thead>\n",
              "  <tbody>\n",
              "    <tr>\n",
              "      <th>0</th>\n",
              "      <td>Wow... Loved this place.</td>\n",
              "      <td>1</td>\n",
              "      <td>24</td>\n",
              "    </tr>\n",
              "    <tr>\n",
              "      <th>1</th>\n",
              "      <td>Crust is not good.</td>\n",
              "      <td>0</td>\n",
              "      <td>18</td>\n",
              "    </tr>\n",
              "    <tr>\n",
              "      <th>2</th>\n",
              "      <td>Not tasty and the texture was just nasty.</td>\n",
              "      <td>0</td>\n",
              "      <td>41</td>\n",
              "    </tr>\n",
              "    <tr>\n",
              "      <th>3</th>\n",
              "      <td>Stopped by during the late May bank holiday off Rick Steve recommendation and loved it.</td>\n",
              "      <td>1</td>\n",
              "      <td>87</td>\n",
              "    </tr>\n",
              "    <tr>\n",
              "      <th>4</th>\n",
              "      <td>The selection on the menu was great and so were the prices.</td>\n",
              "      <td>1</td>\n",
              "      <td>59</td>\n",
              "    </tr>\n",
              "    <tr>\n",
              "      <th>5</th>\n",
              "      <td>Now I am getting angry and I want my damn pho.</td>\n",
              "      <td>0</td>\n",
              "      <td>46</td>\n",
              "    </tr>\n",
              "    <tr>\n",
              "      <th>6</th>\n",
              "      <td>Honeslty it didn't taste THAT fresh.)</td>\n",
              "      <td>0</td>\n",
              "      <td>37</td>\n",
              "    </tr>\n",
              "    <tr>\n",
              "      <th>7</th>\n",
              "      <td>The potatoes were like rubber and you could tell they had been made up ahead of time being kept under a warmer.</td>\n",
              "      <td>0</td>\n",
              "      <td>111</td>\n",
              "    </tr>\n",
              "    <tr>\n",
              "      <th>8</th>\n",
              "      <td>The fries were great too.</td>\n",
              "      <td>1</td>\n",
              "      <td>25</td>\n",
              "    </tr>\n",
              "    <tr>\n",
              "      <th>9</th>\n",
              "      <td>A great touch.</td>\n",
              "      <td>1</td>\n",
              "      <td>14</td>\n",
              "    </tr>\n",
              "  </tbody>\n",
              "</table>\n",
              "</div>\n",
              "      <button class=\"colab-df-convert\" onclick=\"convertToInteractive('df-27df9dfa-67c1-4802-b9b3-abaf79003bfb')\"\n",
              "              title=\"Convert this dataframe to an interactive table.\"\n",
              "              style=\"display:none;\">\n",
              "        \n",
              "  <svg xmlns=\"http://www.w3.org/2000/svg\" height=\"24px\"viewBox=\"0 0 24 24\"\n",
              "       width=\"24px\">\n",
              "    <path d=\"M0 0h24v24H0V0z\" fill=\"none\"/>\n",
              "    <path d=\"M18.56 5.44l.94 2.06.94-2.06 2.06-.94-2.06-.94-.94-2.06-.94 2.06-2.06.94zm-11 1L8.5 8.5l.94-2.06 2.06-.94-2.06-.94L8.5 2.5l-.94 2.06-2.06.94zm10 10l.94 2.06.94-2.06 2.06-.94-2.06-.94-.94-2.06-.94 2.06-2.06.94z\"/><path d=\"M17.41 7.96l-1.37-1.37c-.4-.4-.92-.59-1.43-.59-.52 0-1.04.2-1.43.59L10.3 9.45l-7.72 7.72c-.78.78-.78 2.05 0 2.83L4 21.41c.39.39.9.59 1.41.59.51 0 1.02-.2 1.41-.59l7.78-7.78 2.81-2.81c.8-.78.8-2.07 0-2.86zM5.41 20L4 18.59l7.72-7.72 1.47 1.35L5.41 20z\"/>\n",
              "  </svg>\n",
              "      </button>\n",
              "      \n",
              "  <style>\n",
              "    .colab-df-container {\n",
              "      display:flex;\n",
              "      flex-wrap:wrap;\n",
              "      gap: 12px;\n",
              "    }\n",
              "\n",
              "    .colab-df-convert {\n",
              "      background-color: #E8F0FE;\n",
              "      border: none;\n",
              "      border-radius: 50%;\n",
              "      cursor: pointer;\n",
              "      display: none;\n",
              "      fill: #1967D2;\n",
              "      height: 32px;\n",
              "      padding: 0 0 0 0;\n",
              "      width: 32px;\n",
              "    }\n",
              "\n",
              "    .colab-df-convert:hover {\n",
              "      background-color: #E2EBFA;\n",
              "      box-shadow: 0px 1px 2px rgba(60, 64, 67, 0.3), 0px 1px 3px 1px rgba(60, 64, 67, 0.15);\n",
              "      fill: #174EA6;\n",
              "    }\n",
              "\n",
              "    [theme=dark] .colab-df-convert {\n",
              "      background-color: #3B4455;\n",
              "      fill: #D2E3FC;\n",
              "    }\n",
              "\n",
              "    [theme=dark] .colab-df-convert:hover {\n",
              "      background-color: #434B5C;\n",
              "      box-shadow: 0px 1px 3px 1px rgba(0, 0, 0, 0.15);\n",
              "      filter: drop-shadow(0px 1px 2px rgba(0, 0, 0, 0.3));\n",
              "      fill: #FFFFFF;\n",
              "    }\n",
              "  </style>\n",
              "\n",
              "      <script>\n",
              "        const buttonEl =\n",
              "          document.querySelector('#df-27df9dfa-67c1-4802-b9b3-abaf79003bfb button.colab-df-convert');\n",
              "        buttonEl.style.display =\n",
              "          google.colab.kernel.accessAllowed ? 'block' : 'none';\n",
              "\n",
              "        async function convertToInteractive(key) {\n",
              "          const element = document.querySelector('#df-27df9dfa-67c1-4802-b9b3-abaf79003bfb');\n",
              "          const dataTable =\n",
              "            await google.colab.kernel.invokeFunction('convertToInteractive',\n",
              "                                                     [key], {});\n",
              "          if (!dataTable) return;\n",
              "\n",
              "          const docLinkHtml = 'Like what you see? Visit the ' +\n",
              "            '<a target=\"_blank\" href=https://colab.research.google.com/notebooks/data_table.ipynb>data table notebook</a>'\n",
              "            + ' to learn more about interactive tables.';\n",
              "          element.innerHTML = '';\n",
              "          dataTable['output_type'] = 'display_data';\n",
              "          await google.colab.output.renderOutput(dataTable, element);\n",
              "          const docLink = document.createElement('div');\n",
              "          docLink.innerHTML = docLinkHtml;\n",
              "          element.appendChild(docLink);\n",
              "        }\n",
              "      </script>\n",
              "    </div>\n",
              "  </div>\n",
              "  "
            ]
          },
          "metadata": {},
          "execution_count": 18
        }
      ],
      "source": [
        "Rest_rev.head(10)"
      ]
    },
    {
      "cell_type": "markdown",
      "metadata": {
        "id": "Sevcr5LuUG0e"
      },
      "source": [
        "As we can observe that there is no specific pattern of length that determines whether a review is positive or negative, so the legnth of a review does not help much in determining the sentiment of the review for this use case"
      ]
    },
    {
      "cell_type": "markdown",
      "metadata": {
        "id": "if7JyUCjUG0e"
      },
      "source": [
        "## Data Visualization"
      ]
    },
    {
      "cell_type": "code",
      "execution_count": 19,
      "metadata": {
        "id": "Zg3X41JLUG0f"
      },
      "outputs": [],
      "source": [
        "from matplotlib import pyplot as plt\n",
        "import seaborn as sns\n",
        "\n",
        "%matplotlib inline"
      ]
    },
    {
      "cell_type": "markdown",
      "metadata": {
        "id": "IX3KL9tdUG0f"
      },
      "source": [
        "#### Plotting histogram"
      ]
    },
    {
      "cell_type": "code",
      "execution_count": 20,
      "metadata": {
        "colab": {
          "base_uri": "https://localhost:8080/",
          "height": 296
        },
        "id": "G5hUsn-RUG0f",
        "outputId": "4324ce01-67cc-4599-a026-a63bf7974dbb"
      },
      "outputs": [
        {
          "output_type": "execute_result",
          "data": {
            "text/plain": [
              "Text(0.5, 0, 'Length of Review')"
            ]
          },
          "metadata": {},
          "execution_count": 20
        },
        {
          "output_type": "display_data",
          "data": {
            "text/plain": [
              "<Figure size 432x288 with 1 Axes>"
            ],
            "image/png": "[encoded data removed]"
          },
          "metadata": {
            "needs_background": "light"
          }
        }
      ],
      "source": [
        "Rest_rev['Length'].plot(bins=100, kind='hist')\n",
        "plt.xlabel('Length of Review')"
      ]
    },
    {
      "cell_type": "code",
      "execution_count": 21,
      "metadata": {
        "colab": {
          "base_uri": "https://localhost:8080/",
          "height": 378
        },
        "id": "57C3W0j3UG0g",
        "outputId": "28b8905c-8077-47fc-f9d9-760e4fcafce6"
      },
      "outputs": [
        {
          "output_type": "execute_result",
          "data": {
            "text/plain": [
              "array([<Axes: title={'center': '0'}>, <Axes: title={'center': '1'}>],\n",
              "      dtype=object)"
            ]
          },
          "metadata": {},
          "execution_count": 21
        },
        {
          "output_type": "display_data",
          "data": {
            "text/plain": [
              "<Figure size 1080x360 with 2 Axes>"
            ],
            "image/png": "[encoded data removed]"
          },
          "metadata": {
            "needs_background": "light"
          }
        }
      ],
      "source": [
        "Rest_rev.hist(column='Length', by='Liked', bins=50, figsize=(15,5))"
      ]
    },
    {
      "cell_type": "markdown",
      "metadata": {
        "id": "2TPkFtDAUG0g"
      },
      "source": [
        "It can be observed from the above histogram that most of the Reviews are having lengths ranging from **20** to **60**"
      ]
    },
    {
      "cell_type": "code",
      "execution_count": 22,
      "metadata": {
        "colab": {
          "base_uri": "https://localhost:8080/"
        },
        "id": "7grNyPv6UG0h",
        "outputId": "35111bcd-ed5f-4794-8dca-2f6277fd9b58"
      },
      "outputs": [
        {
          "output_type": "execute_result",
          "data": {
            "text/plain": [
              "count    996.000000\n",
              "mean     58.459839 \n",
              "std      32.341292 \n",
              "min      11.000000 \n",
              "25%      33.000000 \n",
              "50%      51.000000 \n",
              "75%      80.000000 \n",
              "max      149.000000\n",
              "Name: Length, dtype: float64"
            ]
          },
          "metadata": {},
          "execution_count": 22
        }
      ],
      "source": [
        "Rest_rev.Length.describe()"
      ]
    },
    {
      "cell_type": "markdown",
      "metadata": {
        "id": "-vhtxPPPUG0h"
      },
      "source": [
        "The following conclusions can be drawn from the above result:\n",
        "\n",
        " - The mean length of reviews is 58\n",
        " - The minimum length of a reviews is 11\n",
        " - The maximum length of a review is 149"
      ]
    },
    {
      "cell_type": "markdown",
      "metadata": {
        "id": "uaMuqtvzUG0h"
      },
      "source": [
        "#### Plotting countplot"
      ]
    },
    {
      "cell_type": "code",
      "execution_count": 23,
      "metadata": {
        "colab": {
          "base_uri": "https://localhost:8080/",
          "height": 366
        },
        "id": "HRCCYF5OUG0i",
        "outputId": "618dd67e-e557-4612-8698-29a8d0660fcf"
      },
      "outputs": [
        {
          "output_type": "stream",
          "name": "stdout",
          "text": [
            "Value count for feature Liked\n",
            "1    499\n",
            "0    497\n",
            "Name: Liked, dtype: int64\n"
          ]
        },
        {
          "output_type": "execute_result",
          "data": {
            "text/plain": [
              "<Axes: xlabel='Liked', ylabel='count'>"
            ]
          },
          "metadata": {},
          "execution_count": 23
        },
        {
          "output_type": "display_data",
          "data": {
            "text/plain": [
              "<Figure size 288x288 with 1 Axes>"
            ],
            "image/png": "[encoded data removed]"
          },
          "metadata": {
            "needs_background": "light"
          }
        }
      ],
      "source": [
        "plt.figure(figsize=(4,4))\n",
        "print(\"Value count for feature Liked\")\n",
        "print(Rest_rev['Liked'].value_counts())\n",
        "sns.countplot(x='Liked',data=Rest_rev)"
      ]
    },
    {
      "cell_type": "markdown",
      "metadata": {
        "id": "CbcrCDnNUG0i"
      },
      "source": [
        "It can be observed that the dataframe is balanced"
      ]
    },
    {
      "cell_type": "markdown",
      "metadata": {
        "id": "VT--yOUYUG0j"
      },
      "source": [
        "**Text preprocessing**"
      ]
    },
    {
      "cell_type": "markdown",
      "metadata": {
        "id": "IRsG6tg63uP6"
      },
      "source": [
        "Cleaning the punctuation marks"
      ]
    },
    {
      "cell_type": "code",
      "execution_count": 24,
      "metadata": {
        "id": "qO-o-Y-QUG0j"
      },
      "outputs": [],
      "source": [
        "import re\n",
        "import string"
      ]
    },
    {
      "cell_type": "markdown",
      "metadata": {
        "id": "MEfM0x6JUG0j"
      },
      "source": [
        "List of punctuation marks to be removed"
      ]
    },
    {
      "cell_type": "code",
      "execution_count": 25,
      "metadata": {
        "colab": {
          "base_uri": "https://localhost:8080/"
        },
        "id": "kKsAAR-PUG0k",
        "outputId": "0de2f589-0c89-4cfb-f08b-d25427a4140c"
      },
      "outputs": [
        {
          "output_type": "stream",
          "name": "stdout",
          "text": [
            "['!', '\"', '#', '$', '%', '&', \"'\", '(', ')', '*', '+', ',', '-', '.', '/', ':', ';', '<', '=', '>', '?', '@', '[', '\\\\', ']', '^', '_', '`', '{', '|', '}', '~']\n"
          ]
        }
      ],
      "source": [
        "print(list(string.punctuation))"
      ]
    },
    {
      "cell_type": "code",
      "execution_count": 26,
      "metadata": {
        "id": "Nfuli-ClUG0k"
      },
      "outputs": [],
      "source": [
        "def remove_punctuation(text):\n",
        "    no_punct = \"\".join([c if c not in string.punctuation else \" \" for c in text])\n",
        "    return no_punct"
      ]
    },
    {
      "cell_type": "code",
      "execution_count": 27,
      "metadata": {
        "id": "ME4hw-OxUG0l"
      },
      "outputs": [],
      "source": [
        "Rest_rev['Review'] = Rest_rev['Review'].apply(lambda x: remove_punctuation(x))"
      ]
    },
    {
      "cell_type": "markdown",
      "metadata": {
        "id": "CLJ099g1UG0l"
      },
      "source": [
        "Converting all uppercase characters to lowercase"
      ]
    },
    {
      "cell_type": "code",
      "execution_count": 28,
      "metadata": {
        "id": "5QBIjkDtUG0l"
      },
      "outputs": [],
      "source": [
        "Rest_rev['Review'] = Rest_rev['Review'].str.lower()"
      ]
    },
    {
      "cell_type": "markdown",
      "metadata": {
        "id": "LFfFb2ivUG0l"
      },
      "source": [
        "Eliminating the numbers from the **Review** column as they do not contribute in predicting the sentiment of a review"
      ]
    },
    {
      "cell_type": "code",
      "execution_count": 29,
      "metadata": {
        "id": "T--8CymPUG0m"
      },
      "outputs": [],
      "source": [
        "Rest_rev['Review'] = [re.sub('\\d+', '', e) for e in Rest_rev['Review']]"
      ]
    },
    {
      "cell_type": "markdown",
      "metadata": {
        "id": "q08kJYTZUG0m"
      },
      "source": [
        "Removing unnecessary spaces from the text"
      ]
    },
    {
      "cell_type": "code",
      "execution_count": 30,
      "metadata": {
        "id": "ooEffQv_UG0m"
      },
      "outputs": [],
      "source": [
        "Rest_rev['Review'] = [re.sub('\\s+', ' ', e) for e in Rest_rev['Review']]"
      ]
    },
    {
      "cell_type": "markdown",
      "metadata": {
        "id": "3-X0c_ViUG0n"
      },
      "source": [
        "Removing leading or trailing spaces from the text"
      ]
    },
    {
      "cell_type": "code",
      "execution_count": 31,
      "metadata": {
        "id": "HpEF0hZcUG0n"
      },
      "outputs": [],
      "source": [
        "Rest_rev['Review'] = Rest_rev['Review'].str.strip()"
      ]
    },
    {
      "cell_type": "markdown",
      "metadata": {
        "id": "LrQR7j3XUG0n"
      },
      "source": [
        "#### Importing nltk"
      ]
    },
    {
      "cell_type": "code",
      "execution_count": 32,
      "metadata": {
        "colab": {
          "base_uri": "https://localhost:8080/"
        },
        "id": "HYoVmoeXUG0o",
        "outputId": "56370543-9754-406a-cea5-4a27ac315995"
      },
      "outputs": [
        {
          "output_type": "stream",
          "name": "stderr",
          "text": [
            "[nltk_data] Downloading package punkt to /root/nltk_data...\n",
            "[nltk_data]   Package punkt is already up-to-date!\n"
          ]
        },
        {
          "output_type": "execute_result",
          "data": {
            "text/plain": [
              "True"
            ]
          },
          "metadata": {},
          "execution_count": 32
        }
      ],
      "source": [
        "import nltk\n",
        "nltk.download('punkt')"
      ]
    },
    {
      "cell_type": "markdown",
      "metadata": {
        "id": "NbTkTcS8UG0o"
      },
      "source": [
        "#### Tokenization"
      ]
    },
    {
      "cell_type": "code",
      "execution_count": 33,
      "metadata": {
        "id": "CNFE72rcUG0o"
      },
      "outputs": [],
      "source": [
        "from nltk.tokenize import word_tokenize"
      ]
    },
    {
      "cell_type": "code",
      "execution_count": 34,
      "metadata": {
        "id": "ITm3_S-IUG0p"
      },
      "outputs": [],
      "source": [
        "Rest_rev['Review'] = Rest_rev['Review'].apply(word_tokenize)"
      ]
    },
    {
      "cell_type": "code",
      "execution_count": 35,
      "metadata": {
        "colab": {
          "base_uri": "https://localhost:8080/",
          "height": 206
        },
        "id": "IFQLuBUrUG0p",
        "outputId": "80d723f5-febc-450b-a634-916dbb4ce1f6"
      },
      "outputs": [
        {
          "output_type": "execute_result",
          "data": {
            "text/plain": [
              "                                                                                                   Review  \\\n",
              "0  [wow, loved, this, place]                                                                                \n",
              "1  [crust, is, not, good]                                                                                   \n",
              "2  [not, tasty, and, the, texture, was, just, nasty]                                                        \n",
              "3  [stopped, by, during, the, late, may, bank, holiday, off, rick, steve, recommendation, and, loved, it]   \n",
              "4  [the, selection, on, the, menu, was, great, and, so, were, the, prices]                                  \n",
              "\n",
              "   Liked  Length  \n",
              "0  1      24      \n",
              "1  0      18      \n",
              "2  0      41      \n",
              "3  1      87      \n",
              "4  1      59      "
            ],
            "text/html": [
              "\n",
              "  <div id=\"df-46c2974b-10b9-4883-92a8-9ff068ca2669\">\n",
              "    <div class=\"colab-df-container\">\n",
              "      <div>\n",
              "<style scoped>\n",
              "    .dataframe tbody tr th:only-of-type {\n",
              "        vertical-align: middle;\n",
              "    }\n",
              "\n",
              "    .dataframe tbody tr th {\n",
              "        vertical-align: top;\n",
              "    }\n",
              "\n",
              "    .dataframe thead th {\n",
              "        text-align: right;\n",
              "    }\n",
              "</style>\n",
              "<table border=\"1\" class=\"dataframe\">\n",
              "  <thead>\n",
              "    <tr style=\"text-align: right;\">\n",
              "      <th></th>\n",
              "      <th>Review</th>\n",
              "      <th>Liked</th>\n",
              "      <th>Length</th>\n",
              "    </tr>\n",
              "  </thead>\n",
              "  <tbody>\n",
              "    <tr>\n",
              "      <th>0</th>\n",
              "      <td>[wow, loved, this, place]</td>\n",
              "      <td>1</td>\n",
              "      <td>24</td>\n",
              "    </tr>\n",
              "    <tr>\n",
              "      <th>1</th>\n",
              "      <td>[crust, is, not, good]</td>\n",
              "      <td>0</td>\n",
              "      <td>18</td>\n",
              "    </tr>\n",
              "    <tr>\n",
              "      <th>2</th>\n",
              "      <td>[not, tasty, and, the, texture, was, just, nasty]</td>\n",
              "      <td>0</td>\n",
              "      <td>41</td>\n",
              "    </tr>\n",
              "    <tr>\n",
              "      <th>3</th>\n",
              "      <td>[stopped, by, during, the, late, may, bank, holiday, off, rick, steve, recommendation, and, loved, it]</td>\n",
              "      <td>1</td>\n",
              "      <td>87</td>\n",
              "    </tr>\n",
              "    <tr>\n",
              "      <th>4</th>\n",
              "      <td>[the, selection, on, the, menu, was, great, and, so, were, the, prices]</td>\n",
              "      <td>1</td>\n",
              "      <td>59</td>\n",
              "    </tr>\n",
              "  </tbody>\n",
              "</table>\n",
              "</div>\n",
              "      <button class=\"colab-df-convert\" onclick=\"convertToInteractive('df-46c2974b-10b9-4883-92a8-9ff068ca2669')\"\n",
              "              title=\"Convert this dataframe to an interactive table.\"\n",
              "              style=\"display:none;\">\n",
              "        \n",
              "  <svg xmlns=\"http://www.w3.org/2000/svg\" height=\"24px\"viewBox=\"0 0 24 24\"\n",
              "       width=\"24px\">\n",
              "    <path d=\"M0 0h24v24H0V0z\" fill=\"none\"/>\n",
              "    <path d=\"M18.56 5.44l.94 2.06.94-2.06 2.06-.94-2.06-.94-.94-2.06-.94 2.06-2.06.94zm-11 1L8.5 8.5l.94-2.06 2.06-.94-2.06-.94L8.5 2.5l-.94 2.06-2.06.94zm10 10l.94 2.06.94-2.06 2.06-.94-2.06-.94-.94-2.06-.94 2.06-2.06.94z\"/><path d=\"M17.41 7.96l-1.37-1.37c-.4-.4-.92-.59-1.43-.59-.52 0-1.04.2-1.43.59L10.3 9.45l-7.72 7.72c-.78.78-.78 2.05 0 2.83L4 21.41c.39.39.9.59 1.41.59.51 0 1.02-.2 1.41-.59l7.78-7.78 2.81-2.81c.8-.78.8-2.07 0-2.86zM5.41 20L4 18.59l7.72-7.72 1.47 1.35L5.41 20z\"/>\n",
              "  </svg>\n",
              "      </button>\n",
              "      \n",
              "  <style>\n",
              "    .colab-df-container {\n",
              "      display:flex;\n",
              "      flex-wrap:wrap;\n",
              "      gap: 12px;\n",
              "    }\n",
              "\n",
              "    .colab-df-convert {\n",
              "      background-color: #E8F0FE;\n",
              "      border: none;\n",
              "      border-radius: 50%;\n",
              "      cursor: pointer;\n",
              "      display: none;\n",
              "      fill: #1967D2;\n",
              "      height: 32px;\n",
              "      padding: 0 0 0 0;\n",
              "      width: 32px;\n",
              "    }\n",
              "\n",
              "    .colab-df-convert:hover {\n",
              "      background-color: #E2EBFA;\n",
              "      box-shadow: 0px 1px 2px rgba(60, 64, 67, 0.3), 0px 1px 3px 1px rgba(60, 64, 67, 0.15);\n",
              "      fill: #174EA6;\n",
              "    }\n",
              "\n",
              "    [theme=dark] .colab-df-convert {\n",
              "      background-color: #3B4455;\n",
              "      fill: #D2E3FC;\n",
              "    }\n",
              "\n",
              "    [theme=dark] .colab-df-convert:hover {\n",
              "      background-color: #434B5C;\n",
              "      box-shadow: 0px 1px 3px 1px rgba(0, 0, 0, 0.15);\n",
              "      filter: drop-shadow(0px 1px 2px rgba(0, 0, 0, 0.3));\n",
              "      fill: #FFFFFF;\n",
              "    }\n",
              "  </style>\n",
              "\n",
              "      <script>\n",
              "        const buttonEl =\n",
              "          document.querySelector('#df-46c2974b-10b9-4883-92a8-9ff068ca2669 button.colab-df-convert');\n",
              "        buttonEl.style.display =\n",
              "          google.colab.kernel.accessAllowed ? 'block' : 'none';\n",
              "\n",
              "        async function convertToInteractive(key) {\n",
              "          const element = document.querySelector('#df-46c2974b-10b9-4883-92a8-9ff068ca2669');\n",
              "          const dataTable =\n",
              "            await google.colab.kernel.invokeFunction('convertToInteractive',\n",
              "                                                     [key], {});\n",
              "          if (!dataTable) return;\n",
              "\n",
              "          const docLinkHtml = 'Like what you see? Visit the ' +\n",
              "            '<a target=\"_blank\" href=https://colab.research.google.com/notebooks/data_table.ipynb>data table notebook</a>'\n",
              "            + ' to learn more about interactive tables.';\n",
              "          element.innerHTML = '';\n",
              "          dataTable['output_type'] = 'display_data';\n",
              "          await google.colab.output.renderOutput(dataTable, element);\n",
              "          const docLink = document.createElement('div');\n",
              "          docLink.innerHTML = docLinkHtml;\n",
              "          element.appendChild(docLink);\n",
              "        }\n",
              "      </script>\n",
              "    </div>\n",
              "  </div>\n",
              "  "
            ]
          },
          "metadata": {},
          "execution_count": 35
        }
      ],
      "source": [
        "Rest_rev.head()"
      ]
    },
    {
      "cell_type": "markdown",
      "metadata": {
        "id": "hG4iDxsvUG0q"
      },
      "source": [
        "The **Review** column has been tokenized i.e. split into tokens/pieces"
      ]
    },
    {
      "cell_type": "markdown",
      "metadata": {
        "id": "-wz1BpxmUG0r"
      },
      "source": [
        "#### Removing the stopwords"
      ]
    },
    {
      "cell_type": "code",
      "execution_count": 36,
      "metadata": {
        "colab": {
          "base_uri": "https://localhost:8080/"
        },
        "id": "fwW-zNy0UG0r",
        "outputId": "cf412f6c-8d40-431a-e4d6-bc21e477c8a2"
      },
      "outputs": [
        {
          "output_type": "stream",
          "name": "stderr",
          "text": [
            "[nltk_data] Downloading package stopwords to /root/nltk_data...\n",
            "[nltk_data]   Package stopwords is already up-to-date!\n"
          ]
        }
      ],
      "source": [
        "nltk.download('stopwords')\n",
        "from nltk.corpus import stopwords"
      ]
    },
    {
      "cell_type": "markdown",
      "metadata": {
        "id": "zgY2ZXEwUG0s"
      },
      "source": [
        "Loading the **English** language stopwords"
      ]
    },
    {
      "cell_type": "code",
      "execution_count": 37,
      "metadata": {
        "id": "pH1tRK4NUG0s"
      },
      "outputs": [],
      "source": [
        "stopwords_english = stopwords.words('english')"
      ]
    },
    {
      "cell_type": "markdown",
      "metadata": {
        "id": "kPEkQHHOUG0s"
      },
      "source": [
        "List of english stopwords"
      ]
    },
    {
      "cell_type": "code",
      "execution_count": 38,
      "metadata": {
        "colab": {
          "base_uri": "https://localhost:8080/"
        },
        "id": "G3ZMtLtlUG0t",
        "outputId": "0ebd1f64-0792-4ae6-f74b-e54fd0c17445"
      },
      "outputs": [
        {
          "output_type": "stream",
          "name": "stdout",
          "text": [
            "['i', 'me', 'my', 'myself', 'we', 'our', 'ours', 'ourselves', 'you', \"you're\", \"you've\", \"you'll\", \"you'd\", 'your', 'yours', 'yourself', 'yourselves', 'he', 'him', 'his', 'himself', 'she', \"she's\", 'her', 'hers', 'herself', 'it', \"it's\", 'its', 'itself', 'they', 'them', 'their', 'theirs', 'themselves', 'what', 'which', 'who', 'whom', 'this', 'that', \"that'll\", 'these', 'those', 'am', 'is', 'are', 'was', 'were', 'be', 'been', 'being', 'have', 'has', 'had', 'having', 'do', 'does', 'did', 'doing', 'a', 'an', 'the', 'and', 'but', 'if', 'or', 'because', 'as', 'until', 'while', 'of', 'at', 'by', 'for', 'with', 'about', 'against', 'between', 'into', 'through', 'during', 'before', 'after', 'above', 'below', 'to', 'from', 'up', 'down', 'in', 'out', 'on', 'off', 'over', 'under', 'again', 'further', 'then', 'once', 'here', 'there', 'when', 'where', 'why', 'how', 'all', 'any', 'both', 'each', 'few', 'more', 'most', 'other', 'some', 'such', 'no', 'nor', 'not', 'only', 'own', 'same', 'so', 'than', 'too', 'very', 's', 't', 'can', 'will', 'just', 'don', \"don't\", 'should', \"should've\", 'now', 'd', 'll', 'm', 'o', 're', 've', 'y', 'ain', 'aren', \"aren't\", 'couldn', \"couldn't\", 'didn', \"didn't\", 'doesn', \"doesn't\", 'hadn', \"hadn't\", 'hasn', \"hasn't\", 'haven', \"haven't\", 'isn', \"isn't\", 'ma', 'mightn', \"mightn't\", 'mustn', \"mustn't\", 'needn', \"needn't\", 'shan', \"shan't\", 'shouldn', \"shouldn't\", 'wasn', \"wasn't\", 'weren', \"weren't\", 'won', \"won't\", 'wouldn', \"wouldn't\"]\n"
          ]
        }
      ],
      "source": [
        "print(stopwords_english)"
      ]
    },
    {
      "cell_type": "markdown",
      "metadata": {
        "id": "WIr3zR4-UG0t"
      },
      "source": [
        "Certain words in the above including **not**, **until**, **while**, **against** etc may contribute to the sentiment of a review. So they may need to be retained in the review and thus need to be removed from the above list"
      ]
    },
    {
      "cell_type": "code",
      "execution_count": 39,
      "metadata": {
        "id": "OKP0oV8vUG0t"
      },
      "outputs": [],
      "source": [
        "stopwords_english_set = set(stopwords_english)"
      ]
    },
    {
      "cell_type": "code",
      "execution_count": 40,
      "metadata": {
        "id": "7yFEh4eLUG0u"
      },
      "outputs": [],
      "source": [
        "stopwords_english_set = stopwords_english_set.difference({'until', 'while', 'against', 'between', 'during', 'before', 'after', 'above', 'below', 'not'})"
      ]
    },
    {
      "cell_type": "code",
      "execution_count": 41,
      "metadata": {
        "id": "tuSp6pwuUG0u"
      },
      "outputs": [],
      "source": [
        "stopwords_english = list(stopwords_english_set)"
      ]
    },
    {
      "cell_type": "code",
      "execution_count": 42,
      "metadata": {
        "colab": {
          "base_uri": "https://localhost:8080/"
        },
        "id": "-rUT58ndUG0u",
        "outputId": "ae998d14-e724-49f7-a0c4-4e60a2178ed9"
      },
      "outputs": [
        {
          "output_type": "stream",
          "name": "stdout",
          "text": [
            "['any', 'himself', 'y', 'if', 'when', 'he', 'does', \"she's\", 'the', 'own', 'by', 'hasn', \"won't\", 'their', 'did', 'don', 'through', 'very', 'me', 'll', \"you'd\", \"you've\", \"didn't\", 'yourself', 'other', 'didn', 'up', 'ours', 'few', \"mustn't\", 'this', \"shan't\", 'doing', 'itself', 'isn', 'nor', 'about', 'there', 'your', 'for', 'only', 'whom', 'now', 'hers', 'just', 'and', 'wouldn', 'ma', 'again', 'can', 'some', 'myself', 'those', 'him', 'its', 'o', 've', 'that', 'where', 'at', 'but', 'each', 'ain', 'been', 'haven', 'of', 'be', \"it's\", 'i', 'or', 'over', 'in', 'more', \"haven't\", 'so', \"should've\", 'once', 'were', 'was', 'wasn', 'which', 'they', 'how', 'will', \"weren't\", 'them', 're', \"that'll\", 'doesn', 'because', \"mightn't\", 'herself', \"wouldn't\", 'what', 'an', 'theirs', 'is', 'yourselves', 'her', 'further', 'should', 'it', 'with', 'why', 'mightn', 'out', \"isn't\", 'yours', 'who', 'have', 'a', 'you', 'same', 'most', 'do', 't', 'such', 'ourselves', \"needn't\", 'shan', 's', \"you'll\", 'are', 'under', 'off', 'no', 'into', 'his', 'am', 'mustn', \"wasn't\", 'being', 'as', 'shouldn', \"hadn't\", 'has', 'my', 'on', 'had', 'our', 'themselves', 'd', 'both', 'here', 'these', 'hadn', \"hasn't\", 'than', 'she', \"couldn't\", \"doesn't\", 'down', 'needn', \"shouldn't\", 'having', 'from', 'aren', 'm', 'too', \"don't\", 'then', 'we', 'to', \"you're\", 'all', \"aren't\", 'weren', 'won', 'couldn']\n"
          ]
        }
      ],
      "source": [
        "print(stopwords_english)"
      ]
    },
    {
      "cell_type": "code",
      "execution_count": 43,
      "metadata": {
        "id": "NAqjxJ_fUG0v"
      },
      "outputs": [],
      "source": [
        "def remove_stopwords(text):        \n",
        "    words = [w for w in text if w not in stopwords_english]\n",
        "    return words"
      ]
    },
    {
      "cell_type": "code",
      "execution_count": 44,
      "metadata": {
        "id": "IjwN6zm4UG0v"
      },
      "outputs": [],
      "source": [
        "Rest_rev['Review'] = Rest_rev['Review'].apply(lambda x: remove_stopwords(x))"
      ]
    },
    {
      "cell_type": "code",
      "execution_count": 45,
      "metadata": {
        "colab": {
          "base_uri": "https://localhost:8080/",
          "height": 206
        },
        "id": "hoz1ayl4UG0v",
        "outputId": "a77ac20e-55d5-4bd7-8775-a8017f5b7b9c"
      },
      "outputs": [
        {
          "output_type": "execute_result",
          "data": {
            "text/plain": [
              "                                                                            Review  \\\n",
              "0  [wow, loved, place]                                                               \n",
              "1  [crust, not, good]                                                                \n",
              "2  [not, tasty, texture, nasty]                                                      \n",
              "3  [stopped, during, late, may, bank, holiday, rick, steve, recommendation, loved]   \n",
              "4  [selection, menu, great, prices]                                                  \n",
              "\n",
              "   Liked  Length  \n",
              "0  1      24      \n",
              "1  0      18      \n",
              "2  0      41      \n",
              "3  1      87      \n",
              "4  1      59      "
            ],
            "text/html": [
              "\n",
              "  <div id=\"df-625dbac5-d750-4b0d-bbbc-8dabc0b7d4a5\">\n",
              "    <div class=\"colab-df-container\">\n",
              "      <div>\n",
              "<style scoped>\n",
              "    .dataframe tbody tr th:only-of-type {\n",
              "        vertical-align: middle;\n",
              "    }\n",
              "\n",
              "    .dataframe tbody tr th {\n",
              "        vertical-align: top;\n",
              "    }\n",
              "\n",
              "    .dataframe thead th {\n",
              "        text-align: right;\n",
              "    }\n",
              "</style>\n",
              "<table border=\"1\" class=\"dataframe\">\n",
              "  <thead>\n",
              "    <tr style=\"text-align: right;\">\n",
              "      <th></th>\n",
              "      <th>Review</th>\n",
              "      <th>Liked</th>\n",
              "      <th>Length</th>\n",
              "    </tr>\n",
              "  </thead>\n",
              "  <tbody>\n",
              "    <tr>\n",
              "      <th>0</th>\n",
              "      <td>[wow, loved, place]</td>\n",
              "      <td>1</td>\n",
              "      <td>24</td>\n",
              "    </tr>\n",
              "    <tr>\n",
              "      <th>1</th>\n",
              "      <td>[crust, not, good]</td>\n",
              "      <td>0</td>\n",
              "      <td>18</td>\n",
              "    </tr>\n",
              "    <tr>\n",
              "      <th>2</th>\n",
              "      <td>[not, tasty, texture, nasty]</td>\n",
              "      <td>0</td>\n",
              "      <td>41</td>\n",
              "    </tr>\n",
              "    <tr>\n",
              "      <th>3</th>\n",
              "      <td>[stopped, during, late, may, bank, holiday, rick, steve, recommendation, loved]</td>\n",
              "      <td>1</td>\n",
              "      <td>87</td>\n",
              "    </tr>\n",
              "    <tr>\n",
              "      <th>4</th>\n",
              "      <td>[selection, menu, great, prices]</td>\n",
              "      <td>1</td>\n",
              "      <td>59</td>\n",
              "    </tr>\n",
              "  </tbody>\n",
              "</table>\n",
              "</div>\n",
              "      <button class=\"colab-df-convert\" onclick=\"convertToInteractive('df-625dbac5-d750-4b0d-bbbc-8dabc0b7d4a5')\"\n",
              "              title=\"Convert this dataframe to an interactive table.\"\n",
              "              style=\"display:none;\">\n",
              "        \n",
              "  <svg xmlns=\"http://www.w3.org/2000/svg\" height=\"24px\"viewBox=\"0 0 24 24\"\n",
              "       width=\"24px\">\n",
              "    <path d=\"M0 0h24v24H0V0z\" fill=\"none\"/>\n",
              "    <path d=\"M18.56 5.44l.94 2.06.94-2.06 2.06-.94-2.06-.94-.94-2.06-.94 2.06-2.06.94zm-11 1L8.5 8.5l.94-2.06 2.06-.94-2.06-.94L8.5 2.5l-.94 2.06-2.06.94zm10 10l.94 2.06.94-2.06 2.06-.94-2.06-.94-.94-2.06-.94 2.06-2.06.94z\"/><path d=\"M17.41 7.96l-1.37-1.37c-.4-.4-.92-.59-1.43-.59-.52 0-1.04.2-1.43.59L10.3 9.45l-7.72 7.72c-.78.78-.78 2.05 0 2.83L4 21.41c.39.39.9.59 1.41.59.51 0 1.02-.2 1.41-.59l7.78-7.78 2.81-2.81c.8-.78.8-2.07 0-2.86zM5.41 20L4 18.59l7.72-7.72 1.47 1.35L5.41 20z\"/>\n",
              "  </svg>\n",
              "      </button>\n",
              "      \n",
              "  <style>\n",
              "    .colab-df-container {\n",
              "      display:flex;\n",
              "      flex-wrap:wrap;\n",
              "      gap: 12px;\n",
              "    }\n",
              "\n",
              "    .colab-df-convert {\n",
              "      background-color: #E8F0FE;\n",
              "      border: none;\n",
              "      border-radius: 50%;\n",
              "      cursor: pointer;\n",
              "      display: none;\n",
              "      fill: #1967D2;\n",
              "      height: 32px;\n",
              "      padding: 0 0 0 0;\n",
              "      width: 32px;\n",
              "    }\n",
              "\n",
              "    .colab-df-convert:hover {\n",
              "      background-color: #E2EBFA;\n",
              "      box-shadow: 0px 1px 2px rgba(60, 64, 67, 0.3), 0px 1px 3px 1px rgba(60, 64, 67, 0.15);\n",
              "      fill: #174EA6;\n",
              "    }\n",
              "\n",
              "    [theme=dark] .colab-df-convert {\n",
              "      background-color: #3B4455;\n",
              "      fill: #D2E3FC;\n",
              "    }\n",
              "\n",
              "    [theme=dark] .colab-df-convert:hover {\n",
              "      background-color: #434B5C;\n",
              "      box-shadow: 0px 1px 3px 1px rgba(0, 0, 0, 0.15);\n",
              "      filter: drop-shadow(0px 1px 2px rgba(0, 0, 0, 0.3));\n",
              "      fill: #FFFFFF;\n",
              "    }\n",
              "  </style>\n",
              "\n",
              "      <script>\n",
              "        const buttonEl =\n",
              "          document.querySelector('#df-625dbac5-d750-4b0d-bbbc-8dabc0b7d4a5 button.colab-df-convert');\n",
              "        buttonEl.style.display =\n",
              "          google.colab.kernel.accessAllowed ? 'block' : 'none';\n",
              "\n",
              "        async function convertToInteractive(key) {\n",
              "          const element = document.querySelector('#df-625dbac5-d750-4b0d-bbbc-8dabc0b7d4a5');\n",
              "          const dataTable =\n",
              "            await google.colab.kernel.invokeFunction('convertToInteractive',\n",
              "                                                     [key], {});\n",
              "          if (!dataTable) return;\n",
              "\n",
              "          const docLinkHtml = 'Like what you see? Visit the ' +\n",
              "            '<a target=\"_blank\" href=https://colab.research.google.com/notebooks/data_table.ipynb>data table notebook</a>'\n",
              "            + ' to learn more about interactive tables.';\n",
              "          element.innerHTML = '';\n",
              "          dataTable['output_type'] = 'display_data';\n",
              "          await google.colab.output.renderOutput(dataTable, element);\n",
              "          const docLink = document.createElement('div');\n",
              "          docLink.innerHTML = docLinkHtml;\n",
              "          element.appendChild(docLink);\n",
              "        }\n",
              "      </script>\n",
              "    </div>\n",
              "  </div>\n",
              "  "
            ]
          },
          "metadata": {},
          "execution_count": 45
        }
      ],
      "source": [
        "Rest_rev.head()"
      ]
    },
    {
      "cell_type": "markdown",
      "metadata": {
        "id": "ykhtYm6NUG0w"
      },
      "source": [
        "The stopwords have been removed from the **Review** column"
      ]
    },
    {
      "cell_type": "markdown",
      "metadata": {
        "id": "BRaME7eFUG0w"
      },
      "source": [
        "#### Lemmatization of Reviews"
      ]
    },
    {
      "cell_type": "markdown",
      "metadata": {
        "id": "RfuR8gP4UG0w"
      },
      "source": [
        "**Lemmatization** shorten words back to their root form. **Lemmatizing** maps common words into one base. It returns a proper word that can be found in the dictionary"
      ]
    },
    {
      "cell_type": "markdown",
      "metadata": {
        "id": "84fw8NTnUG0x"
      },
      "source": [
        "To implement Lemmatization using NLTK, we require **wordnet** and **WordNetLemmatizer**"
      ]
    },
    {
      "cell_type": "code",
      "execution_count": 46,
      "metadata": {
        "colab": {
          "base_uri": "https://localhost:8080/"
        },
        "id": "VLWiMQbEUG0x",
        "outputId": "c9d4e065-42c4-4450-b662-0f562bf8d245"
      },
      "outputs": [
        {
          "output_type": "stream",
          "name": "stderr",
          "text": [
            "[nltk_data] Downloading package wordnet to /root/nltk_data...\n",
            "[nltk_data]   Package wordnet is already up-to-date!\n"
          ]
        },
        {
          "output_type": "execute_result",
          "data": {
            "text/plain": [
              "True"
            ]
          },
          "metadata": {},
          "execution_count": 46
        }
      ],
      "source": [
        "nltk.download('wordnet')"
      ]
    },
    {
      "cell_type": "code",
      "execution_count": 47,
      "metadata": {
        "id": "KtvK3QeNUG0x"
      },
      "outputs": [],
      "source": [
        "from nltk.stem import WordNetLemmatizer"
      ]
    },
    {
      "cell_type": "code",
      "execution_count": 48,
      "metadata": {
        "id": "4DVKy1cQUG0y"
      },
      "outputs": [],
      "source": [
        "lemmatizer = WordNetLemmatizer()"
      ]
    },
    {
      "cell_type": "code",
      "execution_count": 49,
      "metadata": {
        "id": "8nMgVaIbUG0y"
      },
      "outputs": [],
      "source": [
        "def word_lemmatizer(text):\n",
        "    lem_text = [lemmatizer.lemmatize(i) for i in text]\n",
        "    return lem_text"
      ]
    },
    {
      "cell_type": "code",
      "execution_count": 50,
      "metadata": {
        "id": "es3VdzUVUG0y"
      },
      "outputs": [],
      "source": [
        "Rest_rev['Review'] = Rest_rev['Review'].apply(lambda x: word_lemmatizer(x))"
      ]
    },
    {
      "cell_type": "code",
      "execution_count": 51,
      "metadata": {
        "colab": {
          "base_uri": "https://localhost:8080/",
          "height": 206
        },
        "id": "rCHc81-bUG0z",
        "outputId": "12a3e6ea-d4cf-47a3-d83d-ec0377d5de73"
      },
      "outputs": [
        {
          "output_type": "execute_result",
          "data": {
            "text/plain": [
              "                                                                            Review  \\\n",
              "0  [wow, loved, place]                                                               \n",
              "1  [crust, not, good]                                                                \n",
              "2  [not, tasty, texture, nasty]                                                      \n",
              "3  [stopped, during, late, may, bank, holiday, rick, steve, recommendation, loved]   \n",
              "4  [selection, menu, great, price]                                                   \n",
              "\n",
              "   Liked  Length  \n",
              "0  1      24      \n",
              "1  0      18      \n",
              "2  0      41      \n",
              "3  1      87      \n",
              "4  1      59      "
            ],
            "text/html": [
              "\n",
              "  <div id=\"df-31448231-fbab-4051-9ba0-790b6176cd3c\">\n",
              "    <div class=\"colab-df-container\">\n",
              "      <div>\n",
              "<style scoped>\n",
              "    .dataframe tbody tr th:only-of-type {\n",
              "        vertical-align: middle;\n",
              "    }\n",
              "\n",
              "    .dataframe tbody tr th {\n",
              "        vertical-align: top;\n",
              "    }\n",
              "\n",
              "    .dataframe thead th {\n",
              "        text-align: right;\n",
              "    }\n",
              "</style>\n",
              "<table border=\"1\" class=\"dataframe\">\n",
              "  <thead>\n",
              "    <tr style=\"text-align: right;\">\n",
              "      <th></th>\n",
              "      <th>Review</th>\n",
              "      <th>Liked</th>\n",
              "      <th>Length</th>\n",
              "    </tr>\n",
              "  </thead>\n",
              "  <tbody>\n",
              "    <tr>\n",
              "      <th>0</th>\n",
              "      <td>[wow, loved, place]</td>\n",
              "      <td>1</td>\n",
              "      <td>24</td>\n",
              "    </tr>\n",
              "    <tr>\n",
              "      <th>1</th>\n",
              "      <td>[crust, not, good]</td>\n",
              "      <td>0</td>\n",
              "      <td>18</td>\n",
              "    </tr>\n",
              "    <tr>\n",
              "      <th>2</th>\n",
              "      <td>[not, tasty, texture, nasty]</td>\n",
              "      <td>0</td>\n",
              "      <td>41</td>\n",
              "    </tr>\n",
              "    <tr>\n",
              "      <th>3</th>\n",
              "      <td>[stopped, during, late, may, bank, holiday, rick, steve, recommendation, loved]</td>\n",
              "      <td>1</td>\n",
              "      <td>87</td>\n",
              "    </tr>\n",
              "    <tr>\n",
              "      <th>4</th>\n",
              "      <td>[selection, menu, great, price]</td>\n",
              "      <td>1</td>\n",
              "      <td>59</td>\n",
              "    </tr>\n",
              "  </tbody>\n",
              "</table>\n",
              "</div>\n",
              "      <button class=\"colab-df-convert\" onclick=\"convertToInteractive('df-31448231-fbab-4051-9ba0-790b6176cd3c')\"\n",
              "              title=\"Convert this dataframe to an interactive table.\"\n",
              "              style=\"display:none;\">\n",
              "        \n",
              "  <svg xmlns=\"http://www.w3.org/2000/svg\" height=\"24px\"viewBox=\"0 0 24 24\"\n",
              "       width=\"24px\">\n",
              "    <path d=\"M0 0h24v24H0V0z\" fill=\"none\"/>\n",
              "    <path d=\"M18.56 5.44l.94 2.06.94-2.06 2.06-.94-2.06-.94-.94-2.06-.94 2.06-2.06.94zm-11 1L8.5 8.5l.94-2.06 2.06-.94-2.06-.94L8.5 2.5l-.94 2.06-2.06.94zm10 10l.94 2.06.94-2.06 2.06-.94-2.06-.94-.94-2.06-.94 2.06-2.06.94z\"/><path d=\"M17.41 7.96l-1.37-1.37c-.4-.4-.92-.59-1.43-.59-.52 0-1.04.2-1.43.59L10.3 9.45l-7.72 7.72c-.78.78-.78 2.05 0 2.83L4 21.41c.39.39.9.59 1.41.59.51 0 1.02-.2 1.41-.59l7.78-7.78 2.81-2.81c.8-.78.8-2.07 0-2.86zM5.41 20L4 18.59l7.72-7.72 1.47 1.35L5.41 20z\"/>\n",
              "  </svg>\n",
              "      </button>\n",
              "      \n",
              "  <style>\n",
              "    .colab-df-container {\n",
              "      display:flex;\n",
              "      flex-wrap:wrap;\n",
              "      gap: 12px;\n",
              "    }\n",
              "\n",
              "    .colab-df-convert {\n",
              "      background-color: #E8F0FE;\n",
              "      border: none;\n",
              "      border-radius: 50%;\n",
              "      cursor: pointer;\n",
              "      display: none;\n",
              "      fill: #1967D2;\n",
              "      height: 32px;\n",
              "      padding: 0 0 0 0;\n",
              "      width: 32px;\n",
              "    }\n",
              "\n",
              "    .colab-df-convert:hover {\n",
              "      background-color: #E2EBFA;\n",
              "      box-shadow: 0px 1px 2px rgba(60, 64, 67, 0.3), 0px 1px 3px 1px rgba(60, 64, 67, 0.15);\n",
              "      fill: #174EA6;\n",
              "    }\n",
              "\n",
              "    [theme=dark] .colab-df-convert {\n",
              "      background-color: #3B4455;\n",
              "      fill: #D2E3FC;\n",
              "    }\n",
              "\n",
              "    [theme=dark] .colab-df-convert:hover {\n",
              "      background-color: #434B5C;\n",
              "      box-shadow: 0px 1px 3px 1px rgba(0, 0, 0, 0.15);\n",
              "      filter: drop-shadow(0px 1px 2px rgba(0, 0, 0, 0.3));\n",
              "      fill: #FFFFFF;\n",
              "    }\n",
              "  </style>\n",
              "\n",
              "      <script>\n",
              "        const buttonEl =\n",
              "          document.querySelector('#df-31448231-fbab-4051-9ba0-790b6176cd3c button.colab-df-convert');\n",
              "        buttonEl.style.display =\n",
              "          google.colab.kernel.accessAllowed ? 'block' : 'none';\n",
              "\n",
              "        async function convertToInteractive(key) {\n",
              "          const element = document.querySelector('#df-31448231-fbab-4051-9ba0-790b6176cd3c');\n",
              "          const dataTable =\n",
              "            await google.colab.kernel.invokeFunction('convertToInteractive',\n",
              "                                                     [key], {});\n",
              "          if (!dataTable) return;\n",
              "\n",
              "          const docLinkHtml = 'Like what you see? Visit the ' +\n",
              "            '<a target=\"_blank\" href=https://colab.research.google.com/notebooks/data_table.ipynb>data table notebook</a>'\n",
              "            + ' to learn more about interactive tables.';\n",
              "          element.innerHTML = '';\n",
              "          dataTable['output_type'] = 'display_data';\n",
              "          await google.colab.output.renderOutput(dataTable, element);\n",
              "          const docLink = document.createElement('div');\n",
              "          docLink.innerHTML = docLinkHtml;\n",
              "          element.appendChild(docLink);\n",
              "        }\n",
              "      </script>\n",
              "    </div>\n",
              "  </div>\n",
              "  "
            ]
          },
          "metadata": {},
          "execution_count": 51
        }
      ],
      "source": [
        "Rest_rev.head()"
      ]
    },
    {
      "cell_type": "markdown",
      "metadata": {
        "id": "gCShYpqxUG0z"
      },
      "source": [
        "Renaming the preprocessed Review to **cleaned_Review**"
      ]
    },
    {
      "cell_type": "code",
      "execution_count": 52,
      "metadata": {
        "id": "ZvHcz5xjUG0z"
      },
      "outputs": [],
      "source": [
        "Rest_rev = Rest_rev.rename(columns={'Review':'cleaned_Review'})"
      ]
    },
    {
      "cell_type": "code",
      "execution_count": 53,
      "metadata": {
        "colab": {
          "base_uri": "https://localhost:8080/"
        },
        "id": "n8_uaUpSUG00",
        "outputId": "3803a0b4-be8e-4fd4-f955-5f2e609b3bc0"
      },
      "outputs": [
        {
          "output_type": "execute_result",
          "data": {
            "text/plain": [
              "Index(['cleaned_Review', 'Liked', 'Length'], dtype='object')"
            ]
          },
          "metadata": {},
          "execution_count": 53
        }
      ],
      "source": [
        "Rest_rev.columns"
      ]
    },
    {
      "cell_type": "code",
      "execution_count": 54,
      "metadata": {
        "id": "4toaJR8-UG00"
      },
      "outputs": [],
      "source": [
        "Rest_rev.to_csv('Rest_rev_1.csv', index=False)"
      ]
    },
    {
      "cell_type": "code",
      "execution_count": 55,
      "metadata": {
        "id": "XHAi0JFHUG00"
      },
      "outputs": [],
      "source": [
        "Rest_rev = pd.read_csv('Rest_rev_1.csv')"
      ]
    },
    {
      "cell_type": "markdown",
      "metadata": {
        "id": "vtj9LwR3t07B"
      },
      "source": [
        "#### WorldCloud"
      ]
    },
    {
      "cell_type": "code",
      "execution_count": 55,
      "metadata": {
        "id": "UGTmxCLJt1JW"
      },
      "outputs": [],
      "source": []
    },
    {
      "cell_type": "code",
      "execution_count": 55,
      "metadata": {
        "id": "2XJ1jY4xt1Mz"
      },
      "outputs": [],
      "source": []
    },
    {
      "cell_type": "markdown",
      "metadata": {
        "id": "kB-IGvUIt69M"
      },
      "source": [
        "Creating two objects X and Y. X will be the ‘cleaned_Review ' column of Rest_rev data frame and Y will be the ' liked' column"
      ]
    },
    {
      "cell_type": "code",
      "execution_count": 56,
      "metadata": {
        "id": "WJI0EZJ7tC1o"
      },
      "outputs": [],
      "source": [
        "X = Rest_rev.cleaned_Review"
      ]
    },
    {
      "cell_type": "code",
      "execution_count": 57,
      "metadata": {
        "colab": {
          "base_uri": "https://localhost:8080/"
        },
        "id": "1BYwV2tYtOn5",
        "outputId": "43e75ad2-d9f5-41a7-cefd-4b237c396a16"
      },
      "outputs": [
        {
          "output_type": "execute_result",
          "data": {
            "text/plain": [
              "0      ['wow', 'loved', 'place']                                                                           \n",
              "1      ['crust', 'not', 'good']                                                                            \n",
              "2      ['not', 'tasty', 'texture', 'nasty']                                                                \n",
              "3      ['stopped', 'during', 'late', 'may', 'bank', 'holiday', 'rick', 'steve', 'recommendation', 'loved'] \n",
              "4      ['selection', 'menu', 'great', 'price']                                                             \n",
              "                        ...                                                                                \n",
              "991    ['think', 'food', 'flavor', 'texture', 'lacking']                                                   \n",
              "992    ['appetite', 'instantly', 'gone']                                                                   \n",
              "993    ['overall', 'not', 'impressed', 'would', 'not', 'go', 'back']                                       \n",
              "994    ['whole', 'experience', 'underwhelming', 'think', 'go', 'ninja', 'sushi', 'next', 'time']           \n",
              "995    ['wasted', 'enough', 'life', 'poured', 'salt', 'wound', 'drawing', 'time', 'took', 'bring', 'check']\n",
              "Name: cleaned_Review, Length: 996, dtype: object"
            ]
          },
          "metadata": {},
          "execution_count": 57
        }
      ],
      "source": [
        "X"
      ]
    },
    {
      "cell_type": "code",
      "execution_count": 58,
      "metadata": {
        "id": "c07dRz2VtOrH"
      },
      "outputs": [],
      "source": [
        "Y = Rest_rev.Liked"
      ]
    },
    {
      "cell_type": "code",
      "execution_count": 59,
      "metadata": {
        "colab": {
          "base_uri": "https://localhost:8080/"
        },
        "id": "MCdOE6MAtOt9",
        "outputId": "71515844-867c-458b-ae60-ff09994fbf73"
      },
      "outputs": [
        {
          "output_type": "execute_result",
          "data": {
            "text/plain": [
              "0      1\n",
              "1      0\n",
              "2      0\n",
              "3      1\n",
              "4      1\n",
              "      ..\n",
              "991    0\n",
              "992    0\n",
              "993    0\n",
              "994    0\n",
              "995    0\n",
              "Name: Liked, Length: 996, dtype: int64"
            ]
          },
          "metadata": {},
          "execution_count": 59
        }
      ],
      "source": [
        "Y"
      ]
    },
    {
      "cell_type": "markdown",
      "metadata": {
        "id": "zvr2c7NKUG02"
      },
      "source": [
        "#### Train Test split"
      ]
    },
    {
      "cell_type": "markdown",
      "metadata": {
        "id": "xKqDcBOqUG02"
      },
      "source": [
        "Splitting the dataframe into train and test"
      ]
    },
    {
      "cell_type": "code",
      "execution_count": 60,
      "metadata": {
        "id": "rHQ-7zaXUG03"
      },
      "outputs": [],
      "source": [
        "from sklearn.model_selection import train_test_split\n",
        "df_train_TfIdf, df_test_TfIdf = train_test_split(Rest_rev, test_size = 0.15, random_state = 42, shuffle=True)"
      ]
    },
    {
      "cell_type": "markdown",
      "metadata": {
        "id": "MAX8KavHUG03"
      },
      "source": [
        "Resetting the indices of the training and testing dataframes"
      ]
    },
    {
      "cell_type": "code",
      "execution_count": 61,
      "metadata": {
        "id": "YFsOnC1bUG03"
      },
      "outputs": [],
      "source": [
        "df_train_TfIdf.reset_index(inplace = True, drop = True)"
      ]
    },
    {
      "cell_type": "code",
      "execution_count": 62,
      "metadata": {
        "id": "Yz5pmvHEUG03"
      },
      "outputs": [],
      "source": [
        "df_test_TfIdf.reset_index(inplace = True, drop = True)"
      ]
    },
    {
      "cell_type": "code",
      "execution_count": 63,
      "metadata": {
        "colab": {
          "base_uri": "https://localhost:8080/",
          "height": 206
        },
        "id": "_No8u9mzUG04",
        "outputId": "2cf23e56-96ef-4606-988d-0197c3a83c31"
      },
      "outputs": [
        {
          "output_type": "execute_result",
          "data": {
            "text/plain": [
              "                                                                                                         cleaned_Review  \\\n",
              "0  ['not', 'familiar', 'check']                                                                                           \n",
              "1  ['im', 'az', 'time', 'new', 'spot']                                                                                    \n",
              "2  ['extremely', 'crumby', 'pretty', 'tasteless']                                                                         \n",
              "3  ['great', 'place', 'fo', 'take', 'eat']                                                                                \n",
              "4  ['everything', 'menu', 'terrific', 'also', 'thrilled', 'made', 'amazing', 'accommodation', 'vegetarian', 'daughter']   \n",
              "\n",
              "   Liked  Length  \n",
              "0  1      37      \n",
              "1  1      47      \n",
              "2  0      47      \n",
              "3  1      34      \n",
              "4  1      127     "
            ],
            "text/html": [
              "\n",
              "  <div id=\"df-5e60f708-fb98-457c-873f-65acdf0c42f5\">\n",
              "    <div class=\"colab-df-container\">\n",
              "      <div>\n",
              "<style scoped>\n",
              "    .dataframe tbody tr th:only-of-type {\n",
              "        vertical-align: middle;\n",
              "    }\n",
              "\n",
              "    .dataframe tbody tr th {\n",
              "        vertical-align: top;\n",
              "    }\n",
              "\n",
              "    .dataframe thead th {\n",
              "        text-align: right;\n",
              "    }\n",
              "</style>\n",
              "<table border=\"1\" class=\"dataframe\">\n",
              "  <thead>\n",
              "    <tr style=\"text-align: right;\">\n",
              "      <th></th>\n",
              "      <th>cleaned_Review</th>\n",
              "      <th>Liked</th>\n",
              "      <th>Length</th>\n",
              "    </tr>\n",
              "  </thead>\n",
              "  <tbody>\n",
              "    <tr>\n",
              "      <th>0</th>\n",
              "      <td>['not', 'familiar', 'check']</td>\n",
              "      <td>1</td>\n",
              "      <td>37</td>\n",
              "    </tr>\n",
              "    <tr>\n",
              "      <th>1</th>\n",
              "      <td>['im', 'az', 'time', 'new', 'spot']</td>\n",
              "      <td>1</td>\n",
              "      <td>47</td>\n",
              "    </tr>\n",
              "    <tr>\n",
              "      <th>2</th>\n",
              "      <td>['extremely', 'crumby', 'pretty', 'tasteless']</td>\n",
              "      <td>0</td>\n",
              "      <td>47</td>\n",
              "    </tr>\n",
              "    <tr>\n",
              "      <th>3</th>\n",
              "      <td>['great', 'place', 'fo', 'take', 'eat']</td>\n",
              "      <td>1</td>\n",
              "      <td>34</td>\n",
              "    </tr>\n",
              "    <tr>\n",
              "      <th>4</th>\n",
              "      <td>['everything', 'menu', 'terrific', 'also', 'thrilled', 'made', 'amazing', 'accommodation', 'vegetarian', 'daughter']</td>\n",
              "      <td>1</td>\n",
              "      <td>127</td>\n",
              "    </tr>\n",
              "  </tbody>\n",
              "</table>\n",
              "</div>\n",
              "      <button class=\"colab-df-convert\" onclick=\"convertToInteractive('df-5e60f708-fb98-457c-873f-65acdf0c42f5')\"\n",
              "              title=\"Convert this dataframe to an interactive table.\"\n",
              "              style=\"display:none;\">\n",
              "        \n",
              "  <svg xmlns=\"http://www.w3.org/2000/svg\" height=\"24px\"viewBox=\"0 0 24 24\"\n",
              "       width=\"24px\">\n",
              "    <path d=\"M0 0h24v24H0V0z\" fill=\"none\"/>\n",
              "    <path d=\"M18.56 5.44l.94 2.06.94-2.06 2.06-.94-2.06-.94-.94-2.06-.94 2.06-2.06.94zm-11 1L8.5 8.5l.94-2.06 2.06-.94-2.06-.94L8.5 2.5l-.94 2.06-2.06.94zm10 10l.94 2.06.94-2.06 2.06-.94-2.06-.94-.94-2.06-.94 2.06-2.06.94z\"/><path d=\"M17.41 7.96l-1.37-1.37c-.4-.4-.92-.59-1.43-.59-.52 0-1.04.2-1.43.59L10.3 9.45l-7.72 7.72c-.78.78-.78 2.05 0 2.83L4 21.41c.39.39.9.59 1.41.59.51 0 1.02-.2 1.41-.59l7.78-7.78 2.81-2.81c.8-.78.8-2.07 0-2.86zM5.41 20L4 18.59l7.72-7.72 1.47 1.35L5.41 20z\"/>\n",
              "  </svg>\n",
              "      </button>\n",
              "      \n",
              "  <style>\n",
              "    .colab-df-container {\n",
              "      display:flex;\n",
              "      flex-wrap:wrap;\n",
              "      gap: 12px;\n",
              "    }\n",
              "\n",
              "    .colab-df-convert {\n",
              "      background-color: #E8F0FE;\n",
              "      border: none;\n",
              "      border-radius: 50%;\n",
              "      cursor: pointer;\n",
              "      display: none;\n",
              "      fill: #1967D2;\n",
              "      height: 32px;\n",
              "      padding: 0 0 0 0;\n",
              "      width: 32px;\n",
              "    }\n",
              "\n",
              "    .colab-df-convert:hover {\n",
              "      background-color: #E2EBFA;\n",
              "      box-shadow: 0px 1px 2px rgba(60, 64, 67, 0.3), 0px 1px 3px 1px rgba(60, 64, 67, 0.15);\n",
              "      fill: #174EA6;\n",
              "    }\n",
              "\n",
              "    [theme=dark] .colab-df-convert {\n",
              "      background-color: #3B4455;\n",
              "      fill: #D2E3FC;\n",
              "    }\n",
              "\n",
              "    [theme=dark] .colab-df-convert:hover {\n",
              "      background-color: #434B5C;\n",
              "      box-shadow: 0px 1px 3px 1px rgba(0, 0, 0, 0.15);\n",
              "      filter: drop-shadow(0px 1px 2px rgba(0, 0, 0, 0.3));\n",
              "      fill: #FFFFFF;\n",
              "    }\n",
              "  </style>\n",
              "\n",
              "      <script>\n",
              "        const buttonEl =\n",
              "          document.querySelector('#df-5e60f708-fb98-457c-873f-65acdf0c42f5 button.colab-df-convert');\n",
              "        buttonEl.style.display =\n",
              "          google.colab.kernel.accessAllowed ? 'block' : 'none';\n",
              "\n",
              "        async function convertToInteractive(key) {\n",
              "          const element = document.querySelector('#df-5e60f708-fb98-457c-873f-65acdf0c42f5');\n",
              "          const dataTable =\n",
              "            await google.colab.kernel.invokeFunction('convertToInteractive',\n",
              "                                                     [key], {});\n",
              "          if (!dataTable) return;\n",
              "\n",
              "          const docLinkHtml = 'Like what you see? Visit the ' +\n",
              "            '<a target=\"_blank\" href=https://colab.research.google.com/notebooks/data_table.ipynb>data table notebook</a>'\n",
              "            + ' to learn more about interactive tables.';\n",
              "          element.innerHTML = '';\n",
              "          dataTable['output_type'] = 'display_data';\n",
              "          await google.colab.output.renderOutput(dataTable, element);\n",
              "          const docLink = document.createElement('div');\n",
              "          docLink.innerHTML = docLinkHtml;\n",
              "          element.appendChild(docLink);\n",
              "        }\n",
              "      </script>\n",
              "    </div>\n",
              "  </div>\n",
              "  "
            ]
          },
          "metadata": {},
          "execution_count": 63
        }
      ],
      "source": [
        "df_train_TfIdf.head()"
      ]
    },
    {
      "cell_type": "code",
      "execution_count": 64,
      "metadata": {
        "colab": {
          "base_uri": "https://localhost:8080/",
          "height": 206
        },
        "id": "bf9sH4JlUG04",
        "outputId": "0753925d-a961-4c67-9740-603bfefefb56"
      },
      "outputs": [
        {
          "output_type": "execute_result",
          "data": {
            "text/plain": [
              "                                                           cleaned_Review  \\\n",
              "0  ['excellent']                                                            \n",
              "1  ['server', 'suck', 'wait', 'correction', 'server', 'heimer', 'sucked']   \n",
              "2  ['back']                                                                 \n",
              "3  ['hate', 'thing', 'much', 'cheap', 'quality', 'black', 'olive']          \n",
              "4  ['think', 'going', 'back', 'anytime', 'soon']                            \n",
              "\n",
              "   Liked  Length  \n",
              "0  1      20      \n",
              "1  0      62      \n",
              "2  1      19      \n",
              "3  0      58      \n",
              "4  0      47      "
            ],
            "text/html": [
              "\n",
              "  <div id=\"df-bee276ea-2889-4d07-b322-88a3d8ccace9\">\n",
              "    <div class=\"colab-df-container\">\n",
              "      <div>\n",
              "<style scoped>\n",
              "    .dataframe tbody tr th:only-of-type {\n",
              "        vertical-align: middle;\n",
              "    }\n",
              "\n",
              "    .dataframe tbody tr th {\n",
              "        vertical-align: top;\n",
              "    }\n",
              "\n",
              "    .dataframe thead th {\n",
              "        text-align: right;\n",
              "    }\n",
              "</style>\n",
              "<table border=\"1\" class=\"dataframe\">\n",
              "  <thead>\n",
              "    <tr style=\"text-align: right;\">\n",
              "      <th></th>\n",
              "      <th>cleaned_Review</th>\n",
              "      <th>Liked</th>\n",
              "      <th>Length</th>\n",
              "    </tr>\n",
              "  </thead>\n",
              "  <tbody>\n",
              "    <tr>\n",
              "      <th>0</th>\n",
              "      <td>['excellent']</td>\n",
              "      <td>1</td>\n",
              "      <td>20</td>\n",
              "    </tr>\n",
              "    <tr>\n",
              "      <th>1</th>\n",
              "      <td>['server', 'suck', 'wait', 'correction', 'server', 'heimer', 'sucked']</td>\n",
              "      <td>0</td>\n",
              "      <td>62</td>\n",
              "    </tr>\n",
              "    <tr>\n",
              "      <th>2</th>\n",
              "      <td>['back']</td>\n",
              "      <td>1</td>\n",
              "      <td>19</td>\n",
              "    </tr>\n",
              "    <tr>\n",
              "      <th>3</th>\n",
              "      <td>['hate', 'thing', 'much', 'cheap', 'quality', 'black', 'olive']</td>\n",
              "      <td>0</td>\n",
              "      <td>58</td>\n",
              "    </tr>\n",
              "    <tr>\n",
              "      <th>4</th>\n",
              "      <td>['think', 'going', 'back', 'anytime', 'soon']</td>\n",
              "      <td>0</td>\n",
              "      <td>47</td>\n",
              "    </tr>\n",
              "  </tbody>\n",
              "</table>\n",
              "</div>\n",
              "      <button class=\"colab-df-convert\" onclick=\"convertToInteractive('df-bee276ea-2889-4d07-b322-88a3d8ccace9')\"\n",
              "              title=\"Convert this dataframe to an interactive table.\"\n",
              "              style=\"display:none;\">\n",
              "        \n",
              "  <svg xmlns=\"http://www.w3.org/2000/svg\" height=\"24px\"viewBox=\"0 0 24 24\"\n",
              "       width=\"24px\">\n",
              "    <path d=\"M0 0h24v24H0V0z\" fill=\"none\"/>\n",
              "    <path d=\"M18.56 5.44l.94 2.06.94-2.06 2.06-.94-2.06-.94-.94-2.06-.94 2.06-2.06.94zm-11 1L8.5 8.5l.94-2.06 2.06-.94-2.06-.94L8.5 2.5l-.94 2.06-2.06.94zm10 10l.94 2.06.94-2.06 2.06-.94-2.06-.94-.94-2.06-.94 2.06-2.06.94z\"/><path d=\"M17.41 7.96l-1.37-1.37c-.4-.4-.92-.59-1.43-.59-.52 0-1.04.2-1.43.59L10.3 9.45l-7.72 7.72c-.78.78-.78 2.05 0 2.83L4 21.41c.39.39.9.59 1.41.59.51 0 1.02-.2 1.41-.59l7.78-7.78 2.81-2.81c.8-.78.8-2.07 0-2.86zM5.41 20L4 18.59l7.72-7.72 1.47 1.35L5.41 20z\"/>\n",
              "  </svg>\n",
              "      </button>\n",
              "      \n",
              "  <style>\n",
              "    .colab-df-container {\n",
              "      display:flex;\n",
              "      flex-wrap:wrap;\n",
              "      gap: 12px;\n",
              "    }\n",
              "\n",
              "    .colab-df-convert {\n",
              "      background-color: #E8F0FE;\n",
              "      border: none;\n",
              "      border-radius: 50%;\n",
              "      cursor: pointer;\n",
              "      display: none;\n",
              "      fill: #1967D2;\n",
              "      height: 32px;\n",
              "      padding: 0 0 0 0;\n",
              "      width: 32px;\n",
              "    }\n",
              "\n",
              "    .colab-df-convert:hover {\n",
              "      background-color: #E2EBFA;\n",
              "      box-shadow: 0px 1px 2px rgba(60, 64, 67, 0.3), 0px 1px 3px 1px rgba(60, 64, 67, 0.15);\n",
              "      fill: #174EA6;\n",
              "    }\n",
              "\n",
              "    [theme=dark] .colab-df-convert {\n",
              "      background-color: #3B4455;\n",
              "      fill: #D2E3FC;\n",
              "    }\n",
              "\n",
              "    [theme=dark] .colab-df-convert:hover {\n",
              "      background-color: #434B5C;\n",
              "      box-shadow: 0px 1px 3px 1px rgba(0, 0, 0, 0.15);\n",
              "      filter: drop-shadow(0px 1px 2px rgba(0, 0, 0, 0.3));\n",
              "      fill: #FFFFFF;\n",
              "    }\n",
              "  </style>\n",
              "\n",
              "      <script>\n",
              "        const buttonEl =\n",
              "          document.querySelector('#df-bee276ea-2889-4d07-b322-88a3d8ccace9 button.colab-df-convert');\n",
              "        buttonEl.style.display =\n",
              "          google.colab.kernel.accessAllowed ? 'block' : 'none';\n",
              "\n",
              "        async function convertToInteractive(key) {\n",
              "          const element = document.querySelector('#df-bee276ea-2889-4d07-b322-88a3d8ccace9');\n",
              "          const dataTable =\n",
              "            await google.colab.kernel.invokeFunction('convertToInteractive',\n",
              "                                                     [key], {});\n",
              "          if (!dataTable) return;\n",
              "\n",
              "          const docLinkHtml = 'Like what you see? Visit the ' +\n",
              "            '<a target=\"_blank\" href=https://colab.research.google.com/notebooks/data_table.ipynb>data table notebook</a>'\n",
              "            + ' to learn more about interactive tables.';\n",
              "          element.innerHTML = '';\n",
              "          dataTable['output_type'] = 'display_data';\n",
              "          await google.colab.output.renderOutput(dataTable, element);\n",
              "          const docLink = document.createElement('div');\n",
              "          docLink.innerHTML = docLinkHtml;\n",
              "          element.appendChild(docLink);\n",
              "        }\n",
              "      </script>\n",
              "    </div>\n",
              "  </div>\n",
              "  "
            ]
          },
          "metadata": {},
          "execution_count": 64
        }
      ],
      "source": [
        "df_test_TfIdf.head()"
      ]
    },
    {
      "cell_type": "markdown",
      "metadata": {
        "id": "eqFxu0e3UG04"
      },
      "source": [
        "The indices have been reset"
      ]
    },
    {
      "cell_type": "markdown",
      "metadata": {
        "id": "gkOr1lD2UG05"
      },
      "source": [
        "#### Creating a TF-IDF object"
      ]
    },
    {
      "cell_type": "markdown",
      "metadata": {
        "id": "3NtTdKJlUG05"
      },
      "source": [
        "We will create an object for **TfidfVectorizer** to convert the text data into a numeric representation/vector representation"
      ]
    },
    {
      "cell_type": "code",
      "execution_count": 65,
      "metadata": {
        "id": "JGwrRYeCUG05"
      },
      "outputs": [],
      "source": [
        "from sklearn.feature_extraction.text import TfidfVectorizer"
      ]
    },
    {
      "cell_type": "markdown",
      "metadata": {
        "id": "2qW1Fd-dUG06"
      },
      "source": [
        "Multinomial classifiers are quite useful when working with text data. Since **Multinomial Naive Bayes** algorithm is  useful for discrete counts, we can use **MultinomialNB**."
      ]
    },
    {
      "cell_type": "code",
      "execution_count": 66,
      "metadata": {
        "id": "5LIKxfDlUG06"
      },
      "outputs": [],
      "source": [
        "from sklearn.naive_bayes import MultinomialNB"
      ]
    },
    {
      "cell_type": "code",
      "execution_count": 67,
      "metadata": {
        "id": "1xjHF3gBUG07"
      },
      "outputs": [],
      "source": [
        "from sklearn.pipeline import make_pipeline"
      ]
    },
    {
      "cell_type": "markdown",
      "metadata": {
        "id": "485zYG6oUG07"
      },
      "source": [
        "We have set some parameters in the TfidfVectorizer. **max_df=0.15** means that only the words whose frequency of occurrence in the documents is a maximum of 0.15 will be considered whereas the words having frequency higher than 0.15 will not be considered as they will not matter much since they are commonly occurring in the document."
      ]
    },
    {
      "cell_type": "code",
      "execution_count": 68,
      "metadata": {
        "id": "_A3k7wlwUG07"
      },
      "outputs": [],
      "source": [
        "vectorizer_tf = TfidfVectorizer(max_df=0.15, min_df=0, max_features=10000, use_idf=False,norm=None)"
      ]
    },
    {
      "cell_type": "markdown",
      "metadata": {
        "id": "azPTeOUAUG08"
      },
      "source": [
        "We can use **make_pipeline()** function to take the output of **TfidfVectorizer()** and push that to the **MultinomialNB()**."
      ]
    },
    {
      "cell_type": "code",
      "execution_count": 69,
      "metadata": {
        "id": "r6cTczzZUG08"
      },
      "outputs": [],
      "source": [
        "pipeline_TfIdf = make_pipeline(vectorizer_tf, MultinomialNB())"
      ]
    },
    {
      "cell_type": "markdown",
      "metadata": {
        "id": "sABUBzRIUG08"
      },
      "source": [
        "Training the model"
      ]
    },
    {
      "cell_type": "code",
      "execution_count": 70,
      "metadata": {
        "colab": {
          "base_uri": "https://localhost:8080/",
          "height": 126
        },
        "id": "k9_RpHwgUG08",
        "outputId": "d3318f66-0770-4652-c3af-8ac9ebe71bca"
      },
      "outputs": [
        {
          "output_type": "execute_result",
          "data": {
            "text/plain": [
              "Pipeline(steps=[('tfidfvectorizer',\n",
              "                 TfidfVectorizer(max_df=0.15, max_features=10000, min_df=0,\n",
              "                                 norm=None, use_idf=False)),\n",
              "                ('multinomialnb', MultinomialNB())])"
            ],
            "text/html": [
              "<style>#sk-container-id-1 {color: black;background-color: white;}#sk-container-id-1 pre{padding: 0;}#sk-container-id-1 div.sk-toggleable {background-color: white;}#sk-container-id-1 label.sk-toggleable__label {cursor: pointer;display: block;width: 100%;margin-bottom: 0;padding: 0.3em;box-sizing: border-box;text-align: center;}#sk-container-id-1 label.sk-toggleable__label-arrow:before {content: \"▸\";float: left;margin-right: 0.25em;color: #696969;}#sk-container-id-1 label.sk-toggleable__label-arrow:hover:before {color: black;}#sk-container-id-1 div.sk-estimator:hover label.sk-toggleable__label-arrow:before {color: black;}#sk-container-id-1 div.sk-toggleable__content {max-height: 0;max-width: 0;overflow: hidden;text-align: left;background-color: #f0f8ff;}#sk-container-id-1 div.sk-toggleable__content pre {margin: 0.2em;color: black;border-radius: 0.25em;background-color: #f0f8ff;}#sk-container-id-1 input.sk-toggleable__control:checked~div.sk-toggleable__content {max-height: 200px;max-width: 100%;overflow: auto;}#sk-container-id-1 input.sk-toggleable__control:checked~label.sk-toggleable__label-arrow:before {content: \"▾\";}#sk-container-id-1 div.sk-estimator input.sk-toggleable__control:checked~label.sk-toggleable__label {background-color: #d4ebff;}#sk-container-id-1 div.sk-label input.sk-toggleable__control:checked~label.sk-toggleable__label {background-color: #d4ebff;}#sk-container-id-1 input.sk-hidden--visually {border: 0;clip: rect(1px 1px 1px 1px);clip: rect(1px, 1px, 1px, 1px);height: 1px;margin: -1px;overflow: hidden;padding: 0;position: absolute;width: 1px;}#sk-container-id-1 div.sk-estimator {font-family: monospace;background-color: #f0f8ff;border: 1px dotted black;border-radius: 0.25em;box-sizing: border-box;margin-bottom: 0.5em;}#sk-container-id-1 div.sk-estimator:hover {background-color: #d4ebff;}#sk-container-id-1 div.sk-parallel-item::after {content: \"\";width: 100%;border-bottom: 1px solid gray;flex-grow: 1;}#sk-container-id-1 div.sk-label:hover label.sk-toggleable__label {background-color: #d4ebff;}#sk-container-id-1 div.sk-serial::before {content: \"\";position: absolute;border-left: 1px solid gray;box-sizing: border-box;top: 0;bottom: 0;left: 50%;z-index: 0;}#sk-container-id-1 div.sk-serial {display: flex;flex-direction: column;align-items: center;background-color: white;padding-right: 0.2em;padding-left: 0.2em;position: relative;}#sk-container-id-1 div.sk-item {position: relative;z-index: 1;}#sk-container-id-1 div.sk-parallel {display: flex;align-items: stretch;justify-content: center;background-color: white;position: relative;}#sk-container-id-1 div.sk-item::before, #sk-container-id-1 div.sk-parallel-item::before {content: \"\";position: absolute;border-left: 1px solid gray;box-sizing: border-box;top: 0;bottom: 0;left: 50%;z-index: -1;}#sk-container-id-1 div.sk-parallel-item {display: flex;flex-direction: column;z-index: 1;position: relative;background-color: white;}#sk-container-id-1 div.sk-parallel-item:first-child::after {align-self: flex-end;width: 50%;}#sk-container-id-1 div.sk-parallel-item:last-child::after {align-self: flex-start;width: 50%;}#sk-container-id-1 div.sk-parallel-item:only-child::after {width: 0;}#sk-container-id-1 div.sk-dashed-wrapped {border: 1px dashed gray;margin: 0 0.4em 0.5em 0.4em;box-sizing: border-box;padding-bottom: 0.4em;background-color: white;}#sk-container-id-1 div.sk-label label {font-family: monospace;font-weight: bold;display: inline-block;line-height: 1.2em;}#sk-container-id-1 div.sk-label-container {text-align: center;}#sk-container-id-1 div.sk-container {/* jupyter's `normalize.less` sets `[hidden] { display: none; }` but bootstrap.min.css set `[hidden] { display: none !important; }` so we also need the `!important` here to be able to override the default hidden behavior on the sphinx rendered scikit-learn.org. See: https://github.com/scikit-learn/scikit-learn/issues/21755 */display: inline-block !important;position: relative;}#sk-container-id-1 div.sk-text-repr-fallback {display: none;}</style><div id=\"sk-container-id-1\" class=\"sk-top-container\"><div class=\"sk-text-repr-fallback\"><pre>Pipeline(steps=[(&#x27;tfidfvectorizer&#x27;,\n",
              "                 TfidfVectorizer(max_df=0.15, max_features=10000, min_df=0,\n",
              "                                 norm=None, use_idf=False)),\n",
              "                (&#x27;multinomialnb&#x27;, MultinomialNB())])</pre><b>In a Jupyter environment, please rerun this cell to show the HTML representation or trust the notebook. <br />On GitHub, the HTML representation is unable to render, please try loading this page with nbviewer.org.</b></div><div class=\"sk-container\" hidden><div class=\"sk-item sk-dashed-wrapped\"><div class=\"sk-label-container\"><div class=\"sk-label sk-toggleable\"><input class=\"sk-toggleable__control sk-hidden--visually\" id=\"sk-estimator-id-1\" type=\"checkbox\" ><label for=\"sk-estimator-id-1\" class=\"sk-toggleable__label sk-toggleable__label-arrow\">Pipeline</label><div class=\"sk-toggleable__content\"><pre>Pipeline(steps=[(&#x27;tfidfvectorizer&#x27;,\n",
              "                 TfidfVectorizer(max_df=0.15, max_features=10000, min_df=0,\n",
              "                                 norm=None, use_idf=False)),\n",
              "                (&#x27;multinomialnb&#x27;, MultinomialNB())])</pre></div></div></div><div class=\"sk-serial\"><div class=\"sk-item\"><div class=\"sk-estimator sk-toggleable\"><input class=\"sk-toggleable__control sk-hidden--visually\" id=\"sk-estimator-id-2\" type=\"checkbox\" ><label for=\"sk-estimator-id-2\" class=\"sk-toggleable__label sk-toggleable__label-arrow\">TfidfVectorizer</label><div class=\"sk-toggleable__content\"><pre>TfidfVectorizer(max_df=0.15, max_features=10000, min_df=0, norm=None,\n",
              "                use_idf=False)</pre></div></div></div><div class=\"sk-item\"><div class=\"sk-estimator sk-toggleable\"><input class=\"sk-toggleable__control sk-hidden--visually\" id=\"sk-estimator-id-3\" type=\"checkbox\" ><label for=\"sk-estimator-id-3\" class=\"sk-toggleable__label sk-toggleable__label-arrow\">MultinomialNB</label><div class=\"sk-toggleable__content\"><pre>MultinomialNB()</pre></div></div></div></div></div></div></div>"
            ]
          },
          "metadata": {},
          "execution_count": 70
        }
      ],
      "source": [
        "pipeline_TfIdf.fit(df_train_TfIdf.cleaned_Review, df_train_TfIdf.Liked)"
      ]
    },
    {
      "cell_type": "markdown",
      "metadata": {
        "id": "Qoq9ioGYUG09"
      },
      "source": [
        "Making predictions on the testing dataset"
      ]
    },
    {
      "cell_type": "code",
      "execution_count": 71,
      "metadata": {
        "id": "VFqG-pNWUG09"
      },
      "outputs": [],
      "source": [
        "labels_TfIdf = pipeline_TfIdf.predict(df_test_TfIdf.cleaned_Review)"
      ]
    },
    {
      "cell_type": "markdown",
      "metadata": {
        "id": "wk-Qgai3UG09"
      },
      "source": [
        "Plotting a **confusion matrix**"
      ]
    },
    {
      "cell_type": "code",
      "execution_count": 72,
      "metadata": {
        "id": "DIFcJLhwUG0-"
      },
      "outputs": [],
      "source": [
        "from sklearn.metrics import confusion_matrix, classification_report, accuracy_score"
      ]
    },
    {
      "cell_type": "code",
      "source": [
        "from sklearn.metrics import precision_recall_fscore_support as score"
      ],
      "metadata": {
        "id": "ZbtyKD4wgQ-B"
      },
      "execution_count": 73,
      "outputs": []
    },
    {
      "cell_type": "code",
      "execution_count": 74,
      "metadata": {
        "id": "XxUWnghHUG0-"
      },
      "outputs": [],
      "source": [
        "mat_TfIdf = confusion_matrix(df_test_TfIdf.Liked, labels_TfIdf)"
      ]
    },
    {
      "cell_type": "code",
      "execution_count": 75,
      "metadata": {
        "colab": {
          "base_uri": "https://localhost:8080/",
          "height": 296
        },
        "id": "a-5E9_vGUG0-",
        "outputId": "27f44eb4-273c-42c7-8d3a-a64edca5fcdc"
      },
      "outputs": [
        {
          "output_type": "execute_result",
          "data": {
            "text/plain": [
              "Text(91.68, 0.5, 'Predicted label')"
            ]
          },
          "metadata": {},
          "execution_count": 75
        },
        {
          "output_type": "display_data",
          "data": {
            "text/plain": [
              "<Figure size 432x288 with 1 Axes>"
            ],
            "image/png": "[encoded data removed]"
          },
          "metadata": {
            "needs_background": "light"
          }
        }
      ],
      "source": [
        "sns.heatmap(mat_TfIdf.T, square=True, annot=True, fmt='d', cbar=False)\n",
        "plt.xlabel('True label')\n",
        "plt.ylabel('Predicted label')"
      ]
    },
    {
      "cell_type": "markdown",
      "metadata": {
        "id": "Rn3Um8O9UG0_"
      },
      "source": [
        "The following observations can be concluded about the performance:\n",
        "    \n",
        " - 72 is the number of true positives i.e. The number of actual negative reviews that were predicted negatively be the model\n",
        " - 44 is the number of true negatives i.e. The number of actual positive reviews that were predicted positively be the model\n",
        " - 13 is the number of false positives i.e. The number of actual negative reviews that were predicted positively be the model\n",
        " - 21 is the number of false negatives i.e. The number of actual positive reviews that were predicted negatively be the model"
      ]
    },
    {
      "cell_type": "code",
      "execution_count": 76,
      "metadata": {
        "id": "KarIeZXQUG0_"
      },
      "outputs": [],
      "source": [
        "score_TfIdf = accuracy_score(df_test_TfIdf.Liked, labels_TfIdf)"
      ]
    },
    {
      "cell_type": "code",
      "execution_count": 77,
      "metadata": {
        "colab": {
          "base_uri": "https://localhost:8080/"
        },
        "id": "TLC77x_EUG0_",
        "outputId": "cbf824d4-25a4-4906-97f1-02986650b64a"
      },
      "outputs": [
        {
          "output_type": "execute_result",
          "data": {
            "text/plain": [
              "0.7733333333333333"
            ]
          },
          "metadata": {},
          "execution_count": 77
        }
      ],
      "source": [
        "score_TfIdf"
      ]
    },
    {
      "cell_type": "markdown",
      "metadata": {
        "id": "6znFEl6LUG1A"
      },
      "source": [
        "The accuracy score of the **MultinomialNB** model is 77.33%"
      ]
    },
    {
      "cell_type": "code",
      "execution_count": 78,
      "metadata": {
        "id": "W-AHoAaJUG1A"
      },
      "outputs": [],
      "source": [
        "report_TfIdf = classification_report(df_test_TfIdf.Liked, labels_TfIdf)"
      ]
    },
    {
      "cell_type": "code",
      "execution_count": 79,
      "metadata": {
        "colab": {
          "base_uri": "https://localhost:8080/"
        },
        "id": "tyRkKogEUG1A",
        "outputId": "f11a4cde-f926-429e-e0d3-cdc51c55f371"
      },
      "outputs": [
        {
          "output_type": "stream",
          "name": "stdout",
          "text": [
            "              precision    recall  f1-score   support\n",
            "\n",
            "           0       0.77      0.85      0.81        85\n",
            "           1       0.77      0.68      0.72        65\n",
            "\n",
            "    accuracy                           0.77       150\n",
            "   macro avg       0.77      0.76      0.77       150\n",
            "weighted avg       0.77      0.77      0.77       150\n",
            "\n"
          ]
        }
      ],
      "source": [
        "print(report_TfIdf)"
      ]
    },
    {
      "cell_type": "code",
      "source": [
        "precision_TfIdf,recall_TfIdf,fscore_TfIdf,support_TfIdf=score(df_test_TfIdf.Liked, labels_TfIdf,average='macro')"
      ],
      "metadata": {
        "id": "4qWAuJbtgXkI"
      },
      "execution_count": 80,
      "outputs": []
    },
    {
      "cell_type": "markdown",
      "metadata": {
        "id": "96tf4qk3EK9k"
      },
      "source": [
        "We will import **GridSearchCV** for Hyperparameter tuning"
      ]
    },
    {
      "cell_type": "code",
      "execution_count": 81,
      "metadata": {
        "id": "1xdUc5JBjg4I"
      },
      "outputs": [],
      "source": [
        "from sklearn.model_selection import GridSearchCV"
      ]
    },
    {
      "cell_type": "code",
      "execution_count": 82,
      "metadata": {
        "id": "dTeErOqSlL6O"
      },
      "outputs": [],
      "source": [
        "l = [0.5, 0.5] # Taking equal priority values"
      ]
    },
    {
      "cell_type": "code",
      "execution_count": 83,
      "metadata": {
        "id": "9DkuzumVjg6k"
      },
      "outputs": [],
      "source": [
        "neigh_TfIdf = MultinomialNB(fit_prior=False, class_prior=l)"
      ]
    },
    {
      "cell_type": "markdown",
      "metadata": {
        "id": "PPLDHZ4wkr1Y"
      },
      "source": [
        "The Parameter **fit_prior=False** means that the model will not calculate the prior probability values. If we want to assign our own probability values to the prior probability, we have to set **class_prior=l** "
      ]
    },
    {
      "cell_type": "code",
      "execution_count": 84,
      "metadata": {
        "id": "swPP34eUjg9C"
      },
      "outputs": [],
      "source": [
        "alphas = np.array([0.0001, 0.001, 0.01, 0.1, 1, 10, 100, 1000, 10000]) "
      ]
    },
    {
      "cell_type": "markdown",
      "metadata": {
        "id": "xoXet_oQmKkH"
      },
      "source": [
        "We have to identify the best alpha i.e. the learning rate. If alpha is going towards zero, then the model is overfitting. If alpha value is going up, then the model is underfitting"
      ]
    },
    {
      "cell_type": "code",
      "execution_count": 85,
      "metadata": {
        "id": "vovE7MtKjhAd"
      },
      "outputs": [],
      "source": [
        "# Placing alpha values in a dictionary\n",
        "tuned_parameters = {'alpha' : alphas}"
      ]
    },
    {
      "cell_type": "markdown",
      "metadata": {
        "id": "dW5mBoBiEK9l"
      },
      "source": [
        "As arguments, the **GridSearchCV** will take the model, the dictionary of the alpha values, apply cross validation and the accuracy metric and iterate over combinations of these"
      ]
    },
    {
      "cell_type": "code",
      "execution_count": 86,
      "metadata": {
        "id": "716sR1dkmNOD"
      },
      "outputs": [],
      "source": [
        "clf_TfIdf = GridSearchCV(neigh_TfIdf, tuned_parameters, cv=5, scoring = 'roc_auc', return_train_score=True)"
      ]
    },
    {
      "cell_type": "code",
      "execution_count": 87,
      "metadata": {
        "id": "zZlzgdDOmNZT"
      },
      "outputs": [],
      "source": [
        "# Building the pipeline\n",
        "pipeline_TfIdf_hyperparameter_tuning = make_pipeline(vectorizer_tf, clf_TfIdf)"
      ]
    },
    {
      "cell_type": "code",
      "execution_count": 88,
      "metadata": {
        "colab": {
          "base_uri": "https://localhost:8080/",
          "height": 192
        },
        "id": "MFKfDPHNnGXV",
        "outputId": "54c91f07-da29-47aa-8fdd-a76c0c20e614"
      },
      "outputs": [
        {
          "output_type": "execute_result",
          "data": {
            "text/plain": [
              "Pipeline(steps=[('tfidfvectorizer',\n",
              "                 TfidfVectorizer(max_df=0.15, max_features=10000, min_df=0,\n",
              "                                 norm=None, use_idf=False)),\n",
              "                ('gridsearchcv',\n",
              "                 GridSearchCV(cv=5,\n",
              "                              estimator=MultinomialNB(class_prior=[0.5, 0.5],\n",
              "                                                      fit_prior=False),\n",
              "                              param_grid={'alpha': array([1.e-04, 1.e-03, 1.e-02, 1.e-01, 1.e+00, 1.e+01, 1.e+02, 1.e+03,\n",
              "       1.e+04])},\n",
              "                              return_train_score=True, scoring='roc_auc'))])"
            ],
            "text/html": [
              "<style>#sk-container-id-2 {color: black;background-color: white;}#sk-container-id-2 pre{padding: 0;}#sk-container-id-2 div.sk-toggleable {background-color: white;}#sk-container-id-2 label.sk-toggleable__label {cursor: pointer;display: block;width: 100%;margin-bottom: 0;padding: 0.3em;box-sizing: border-box;text-align: center;}#sk-container-id-2 label.sk-toggleable__label-arrow:before {content: \"▸\";float: left;margin-right: 0.25em;color: #696969;}#sk-container-id-2 label.sk-toggleable__label-arrow:hover:before {color: black;}#sk-container-id-2 div.sk-estimator:hover label.sk-toggleable__label-arrow:before {color: black;}#sk-container-id-2 div.sk-toggleable__content {max-height: 0;max-width: 0;overflow: hidden;text-align: left;background-color: #f0f8ff;}#sk-container-id-2 div.sk-toggleable__content pre {margin: 0.2em;color: black;border-radius: 0.25em;background-color: #f0f8ff;}#sk-container-id-2 input.sk-toggleable__control:checked~div.sk-toggleable__content {max-height: 200px;max-width: 100%;overflow: auto;}#sk-container-id-2 input.sk-toggleable__control:checked~label.sk-toggleable__label-arrow:before {content: \"▾\";}#sk-container-id-2 div.sk-estimator input.sk-toggleable__control:checked~label.sk-toggleable__label {background-color: #d4ebff;}#sk-container-id-2 div.sk-label input.sk-toggleable__control:checked~label.sk-toggleable__label {background-color: #d4ebff;}#sk-container-id-2 input.sk-hidden--visually {border: 0;clip: rect(1px 1px 1px 1px);clip: rect(1px, 1px, 1px, 1px);height: 1px;margin: -1px;overflow: hidden;padding: 0;position: absolute;width: 1px;}#sk-container-id-2 div.sk-estimator {font-family: monospace;background-color: #f0f8ff;border: 1px dotted black;border-radius: 0.25em;box-sizing: border-box;margin-bottom: 0.5em;}#sk-container-id-2 div.sk-estimator:hover {background-color: #d4ebff;}#sk-container-id-2 div.sk-parallel-item::after {content: \"\";width: 100%;border-bottom: 1px solid gray;flex-grow: 1;}#sk-container-id-2 div.sk-label:hover label.sk-toggleable__label {background-color: #d4ebff;}#sk-container-id-2 div.sk-serial::before {content: \"\";position: absolute;border-left: 1px solid gray;box-sizing: border-box;top: 0;bottom: 0;left: 50%;z-index: 0;}#sk-container-id-2 div.sk-serial {display: flex;flex-direction: column;align-items: center;background-color: white;padding-right: 0.2em;padding-left: 0.2em;position: relative;}#sk-container-id-2 div.sk-item {position: relative;z-index: 1;}#sk-container-id-2 div.sk-parallel {display: flex;align-items: stretch;justify-content: center;background-color: white;position: relative;}#sk-container-id-2 div.sk-item::before, #sk-container-id-2 div.sk-parallel-item::before {content: \"\";position: absolute;border-left: 1px solid gray;box-sizing: border-box;top: 0;bottom: 0;left: 50%;z-index: -1;}#sk-container-id-2 div.sk-parallel-item {display: flex;flex-direction: column;z-index: 1;position: relative;background-color: white;}#sk-container-id-2 div.sk-parallel-item:first-child::after {align-self: flex-end;width: 50%;}#sk-container-id-2 div.sk-parallel-item:last-child::after {align-self: flex-start;width: 50%;}#sk-container-id-2 div.sk-parallel-item:only-child::after {width: 0;}#sk-container-id-2 div.sk-dashed-wrapped {border: 1px dashed gray;margin: 0 0.4em 0.5em 0.4em;box-sizing: border-box;padding-bottom: 0.4em;background-color: white;}#sk-container-id-2 div.sk-label label {font-family: monospace;font-weight: bold;display: inline-block;line-height: 1.2em;}#sk-container-id-2 div.sk-label-container {text-align: center;}#sk-container-id-2 div.sk-container {/* jupyter's `normalize.less` sets `[hidden] { display: none; }` but bootstrap.min.css set `[hidden] { display: none !important; }` so we also need the `!important` here to be able to override the default hidden behavior on the sphinx rendered scikit-learn.org. See: https://github.com/scikit-learn/scikit-learn/issues/21755 */display: inline-block !important;position: relative;}#sk-container-id-2 div.sk-text-repr-fallback {display: none;}</style><div id=\"sk-container-id-2\" class=\"sk-top-container\"><div class=\"sk-text-repr-fallback\"><pre>Pipeline(steps=[(&#x27;tfidfvectorizer&#x27;,\n",
              "                 TfidfVectorizer(max_df=0.15, max_features=10000, min_df=0,\n",
              "                                 norm=None, use_idf=False)),\n",
              "                (&#x27;gridsearchcv&#x27;,\n",
              "                 GridSearchCV(cv=5,\n",
              "                              estimator=MultinomialNB(class_prior=[0.5, 0.5],\n",
              "                                                      fit_prior=False),\n",
              "                              param_grid={&#x27;alpha&#x27;: array([1.e-04, 1.e-03, 1.e-02, 1.e-01, 1.e+00, 1.e+01, 1.e+02, 1.e+03,\n",
              "       1.e+04])},\n",
              "                              return_train_score=True, scoring=&#x27;roc_auc&#x27;))])</pre><b>In a Jupyter environment, please rerun this cell to show the HTML representation or trust the notebook. <br />On GitHub, the HTML representation is unable to render, please try loading this page with nbviewer.org.</b></div><div class=\"sk-container\" hidden><div class=\"sk-item sk-dashed-wrapped\"><div class=\"sk-label-container\"><div class=\"sk-label sk-toggleable\"><input class=\"sk-toggleable__control sk-hidden--visually\" id=\"sk-estimator-id-4\" type=\"checkbox\" ><label for=\"sk-estimator-id-4\" class=\"sk-toggleable__label sk-toggleable__label-arrow\">Pipeline</label><div class=\"sk-toggleable__content\"><pre>Pipeline(steps=[(&#x27;tfidfvectorizer&#x27;,\n",
              "                 TfidfVectorizer(max_df=0.15, max_features=10000, min_df=0,\n",
              "                                 norm=None, use_idf=False)),\n",
              "                (&#x27;gridsearchcv&#x27;,\n",
              "                 GridSearchCV(cv=5,\n",
              "                              estimator=MultinomialNB(class_prior=[0.5, 0.5],\n",
              "                                                      fit_prior=False),\n",
              "                              param_grid={&#x27;alpha&#x27;: array([1.e-04, 1.e-03, 1.e-02, 1.e-01, 1.e+00, 1.e+01, 1.e+02, 1.e+03,\n",
              "       1.e+04])},\n",
              "                              return_train_score=True, scoring=&#x27;roc_auc&#x27;))])</pre></div></div></div><div class=\"sk-serial\"><div class=\"sk-item\"><div class=\"sk-estimator sk-toggleable\"><input class=\"sk-toggleable__control sk-hidden--visually\" id=\"sk-estimator-id-5\" type=\"checkbox\" ><label for=\"sk-estimator-id-5\" class=\"sk-toggleable__label sk-toggleable__label-arrow\">TfidfVectorizer</label><div class=\"sk-toggleable__content\"><pre>TfidfVectorizer(max_df=0.15, max_features=10000, min_df=0, norm=None,\n",
              "                use_idf=False)</pre></div></div></div><div class=\"sk-item sk-dashed-wrapped\"><div class=\"sk-label-container\"><div class=\"sk-label sk-toggleable\"><input class=\"sk-toggleable__control sk-hidden--visually\" id=\"sk-estimator-id-6\" type=\"checkbox\" ><label for=\"sk-estimator-id-6\" class=\"sk-toggleable__label sk-toggleable__label-arrow\">gridsearchcv: GridSearchCV</label><div class=\"sk-toggleable__content\"><pre>GridSearchCV(cv=5,\n",
              "             estimator=MultinomialNB(class_prior=[0.5, 0.5], fit_prior=False),\n",
              "             param_grid={&#x27;alpha&#x27;: array([1.e-04, 1.e-03, 1.e-02, 1.e-01, 1.e+00, 1.e+01, 1.e+02, 1.e+03,\n",
              "       1.e+04])},\n",
              "             return_train_score=True, scoring=&#x27;roc_auc&#x27;)</pre></div></div></div><div class=\"sk-parallel\"><div class=\"sk-parallel-item\"><div class=\"sk-item\"><div class=\"sk-label-container\"><div class=\"sk-label sk-toggleable\"><input class=\"sk-toggleable__control sk-hidden--visually\" id=\"sk-estimator-id-7\" type=\"checkbox\" ><label for=\"sk-estimator-id-7\" class=\"sk-toggleable__label sk-toggleable__label-arrow\">estimator: MultinomialNB</label><div class=\"sk-toggleable__content\"><pre>MultinomialNB(class_prior=[0.5, 0.5], fit_prior=False)</pre></div></div></div><div class=\"sk-serial\"><div class=\"sk-item\"><div class=\"sk-estimator sk-toggleable\"><input class=\"sk-toggleable__control sk-hidden--visually\" id=\"sk-estimator-id-8\" type=\"checkbox\" ><label for=\"sk-estimator-id-8\" class=\"sk-toggleable__label sk-toggleable__label-arrow\">MultinomialNB</label><div class=\"sk-toggleable__content\"><pre>MultinomialNB(class_prior=[0.5, 0.5], fit_prior=False)</pre></div></div></div></div></div></div></div></div></div></div></div></div>"
            ]
          },
          "metadata": {},
          "execution_count": 88
        }
      ],
      "source": [
        "pipeline_TfIdf_hyperparameter_tuning.fit(df_train_TfIdf.cleaned_Review, df_train_TfIdf.Liked)"
      ]
    },
    {
      "cell_type": "code",
      "execution_count": 89,
      "metadata": {
        "id": "HGzlehfLnGZs"
      },
      "outputs": [],
      "source": [
        "results_TfIdf = pd.DataFrame.from_dict(clf_TfIdf.cv_results_)"
      ]
    },
    {
      "cell_type": "code",
      "execution_count": 90,
      "metadata": {
        "id": "Wanh7TQynGcI"
      },
      "outputs": [],
      "source": [
        "#Sorting the results dataframe based on the param_alpha values\n",
        "results_TfIdf = results_TfIdf.sort_values(['param_alpha'])"
      ]
    },
    {
      "cell_type": "code",
      "execution_count": 91,
      "metadata": {
        "id": "BDz8Iwmup_rY"
      },
      "outputs": [],
      "source": [
        "train_auc_TfIdf = results_TfIdf['mean_train_score']"
      ]
    },
    {
      "cell_type": "code",
      "execution_count": 92,
      "metadata": {
        "id": "kmY-o6-ip_vK"
      },
      "outputs": [],
      "source": [
        "cv_auc_TfIdf = results_TfIdf['mean_test_score']"
      ]
    },
    {
      "cell_type": "markdown",
      "metadata": {
        "id": "bhh-VwwyEK9n"
      },
      "source": [
        "We have obtained the **AUC** scores using which we will plot the AUC values to check if there is any overfitting or underfitting. Also, we can find the best value of alpha using AUC plot"
      ]
    },
    {
      "cell_type": "code",
      "execution_count": 93,
      "metadata": {
        "id": "xwQ2-eZup_x5"
      },
      "outputs": [],
      "source": [
        "k_TfIdf = results_TfIdf['param_alpha']"
      ]
    },
    {
      "cell_type": "code",
      "execution_count": 94,
      "metadata": {
        "id": "RPPnB8fsnGfZ"
      },
      "outputs": [],
      "source": [
        "import math\n",
        "\n",
        "#alpha value is taken log alpha value for better visualization\n",
        "alpha1 = []\n",
        "\n",
        "for i in range(0, len(k_TfIdf), 1):\n",
        "  j = math.log10(k_TfIdf[i])\n",
        "  alpha1.append(j)\n",
        "alpha1.sort()"
      ]
    },
    {
      "cell_type": "code",
      "execution_count": 95,
      "metadata": {
        "colab": {
          "base_uri": "https://localhost:8080/"
        },
        "id": "47Zjxe4gxL1o",
        "outputId": "687c084f-e923-469c-e685-645201775f5e"
      },
      "outputs": [
        {
          "output_type": "stream",
          "name": "stdout",
          "text": [
            "[-4.0, -3.0, -2.0, -1.0, 0.0, 1.0, 2.0, 3.0, 4.0]\n"
          ]
        }
      ],
      "source": [
        "print(alpha1)"
      ]
    },
    {
      "cell_type": "code",
      "execution_count": 96,
      "metadata": {
        "colab": {
          "base_uri": "https://localhost:8080/",
          "height": 364
        },
        "id": "lBc6m9IgxL4O",
        "outputId": "9f5784b9-54aa-4212-833b-f44aafa84cc5"
      },
      "outputs": [
        {
          "output_type": "display_data",
          "data": {
            "text/plain": [
              "<Figure size 432x288 with 1 Axes>"
            ],
            "image/png": "[encoded data removed]"
          },
          "metadata": {
            "needs_background": "light"
          }
        },
        {
          "output_type": "stream",
          "name": "stdout",
          "text": [
            "{'alpha': 1.0}\n",
            "0.8808385614749568\n",
            "Best alpha log value\n",
            "0.0\n"
          ]
        }
      ],
      "source": [
        "plt.plot(alpha1, train_auc_TfIdf, label='Train AUC')\n",
        "plt.plot(alpha1, cv_auc_TfIdf, label='CV AUC')\n",
        "plt.scatter(alpha1, train_auc_TfIdf, label='Train AUC *points')\n",
        "plt.scatter(alpha1, cv_auc_TfIdf, label='CV AUC')\n",
        "\n",
        "plt.legend()\n",
        "plt.xlabel('log alpha base 10: hyperparameter')\n",
        "plt.ylabel('AUC')\n",
        "plt.title('ROC AUC vs LOG Alpha plot')\n",
        "plt.grid()\n",
        "plt.show()\n",
        "\n",
        "print(clf_TfIdf.best_params_)\n",
        "print(clf_TfIdf.best_score_)\n",
        "print('Best alpha log value')\n",
        "a_TfIdf = math.log10(clf_TfIdf.best_params_.get('alpha'))\n",
        "print(a_TfIdf)"
      ]
    },
    {
      "cell_type": "markdown",
      "metadata": {
        "id": "3ztdwVo5zfpz"
      },
      "source": [
        "The blue line is training AUC meaning training data AUC values. The orange line is cross validation AUC values. We can observe that training accuracy is high whereas testing accuracy is low. This means that the model is overfitting. We can observe that at alpha = 1 i.e. log alpha = 0, the graph is bending down. So this can be taken as the best alpha value."
      ]
    },
    {
      "cell_type": "markdown",
      "metadata": {
        "id": "M4fIiwpi3d_q"
      },
      "source": [
        "On the best alpha value, we have to identify the best threshold value which will separate the 2 target classes. Based on the threshold value, we have to plot the confusion matrix."
      ]
    },
    {
      "cell_type": "code",
      "execution_count": 97,
      "metadata": {
        "id": "dz_8L9rZxL7j"
      },
      "outputs": [],
      "source": [
        "from sklearn.metrics import roc_curve, auc"
      ]
    },
    {
      "cell_type": "markdown",
      "metadata": {
        "id": "6R0R-LWBEK9o"
      },
      "source": [
        "We will instantiate **MultinomialNB** model on **alpha=1**"
      ]
    },
    {
      "cell_type": "code",
      "execution_count": 98,
      "metadata": {
        "id": "QhmA8f-M3-Q8"
      },
      "outputs": [],
      "source": [
        "neigh_best_Hyperparameter = MultinomialNB(alpha=1, fit_prior=False, class_prior=l)"
      ]
    },
    {
      "cell_type": "code",
      "execution_count": 99,
      "metadata": {
        "id": "A_dzgXhp3-TF"
      },
      "outputs": [],
      "source": [
        "pipeline_TfIdf_best_Hyperparameter = make_pipeline(vectorizer_tf, neigh_best_Hyperparameter)"
      ]
    },
    {
      "cell_type": "code",
      "execution_count": 100,
      "metadata": {
        "colab": {
          "base_uri": "https://localhost:8080/",
          "height": 126
        },
        "id": "iIB0gNU13-W2",
        "outputId": "2042b6fa-41a4-4808-c9fd-b1e8379042a8"
      },
      "outputs": [
        {
          "output_type": "execute_result",
          "data": {
            "text/plain": [
              "Pipeline(steps=[('tfidfvectorizer',\n",
              "                 TfidfVectorizer(max_df=0.15, max_features=10000, min_df=0,\n",
              "                                 norm=None, use_idf=False)),\n",
              "                ('multinomialnb',\n",
              "                 MultinomialNB(alpha=1, class_prior=[0.5, 0.5],\n",
              "                               fit_prior=False))])"
            ],
            "text/html": [
              "<style>#sk-container-id-3 {color: black;background-color: white;}#sk-container-id-3 pre{padding: 0;}#sk-container-id-3 div.sk-toggleable {background-color: white;}#sk-container-id-3 label.sk-toggleable__label {cursor: pointer;display: block;width: 100%;margin-bottom: 0;padding: 0.3em;box-sizing: border-box;text-align: center;}#sk-container-id-3 label.sk-toggleable__label-arrow:before {content: \"▸\";float: left;margin-right: 0.25em;color: #696969;}#sk-container-id-3 label.sk-toggleable__label-arrow:hover:before {color: black;}#sk-container-id-3 div.sk-estimator:hover label.sk-toggleable__label-arrow:before {color: black;}#sk-container-id-3 div.sk-toggleable__content {max-height: 0;max-width: 0;overflow: hidden;text-align: left;background-color: #f0f8ff;}#sk-container-id-3 div.sk-toggleable__content pre {margin: 0.2em;color: black;border-radius: 0.25em;background-color: #f0f8ff;}#sk-container-id-3 input.sk-toggleable__control:checked~div.sk-toggleable__content {max-height: 200px;max-width: 100%;overflow: auto;}#sk-container-id-3 input.sk-toggleable__control:checked~label.sk-toggleable__label-arrow:before {content: \"▾\";}#sk-container-id-3 div.sk-estimator input.sk-toggleable__control:checked~label.sk-toggleable__label {background-color: #d4ebff;}#sk-container-id-3 div.sk-label input.sk-toggleable__control:checked~label.sk-toggleable__label {background-color: #d4ebff;}#sk-container-id-3 input.sk-hidden--visually {border: 0;clip: rect(1px 1px 1px 1px);clip: rect(1px, 1px, 1px, 1px);height: 1px;margin: -1px;overflow: hidden;padding: 0;position: absolute;width: 1px;}#sk-container-id-3 div.sk-estimator {font-family: monospace;background-color: #f0f8ff;border: 1px dotted black;border-radius: 0.25em;box-sizing: border-box;margin-bottom: 0.5em;}#sk-container-id-3 div.sk-estimator:hover {background-color: #d4ebff;}#sk-container-id-3 div.sk-parallel-item::after {content: \"\";width: 100%;border-bottom: 1px solid gray;flex-grow: 1;}#sk-container-id-3 div.sk-label:hover label.sk-toggleable__label {background-color: #d4ebff;}#sk-container-id-3 div.sk-serial::before {content: \"\";position: absolute;border-left: 1px solid gray;box-sizing: border-box;top: 0;bottom: 0;left: 50%;z-index: 0;}#sk-container-id-3 div.sk-serial {display: flex;flex-direction: column;align-items: center;background-color: white;padding-right: 0.2em;padding-left: 0.2em;position: relative;}#sk-container-id-3 div.sk-item {position: relative;z-index: 1;}#sk-container-id-3 div.sk-parallel {display: flex;align-items: stretch;justify-content: center;background-color: white;position: relative;}#sk-container-id-3 div.sk-item::before, #sk-container-id-3 div.sk-parallel-item::before {content: \"\";position: absolute;border-left: 1px solid gray;box-sizing: border-box;top: 0;bottom: 0;left: 50%;z-index: -1;}#sk-container-id-3 div.sk-parallel-item {display: flex;flex-direction: column;z-index: 1;position: relative;background-color: white;}#sk-container-id-3 div.sk-parallel-item:first-child::after {align-self: flex-end;width: 50%;}#sk-container-id-3 div.sk-parallel-item:last-child::after {align-self: flex-start;width: 50%;}#sk-container-id-3 div.sk-parallel-item:only-child::after {width: 0;}#sk-container-id-3 div.sk-dashed-wrapped {border: 1px dashed gray;margin: 0 0.4em 0.5em 0.4em;box-sizing: border-box;padding-bottom: 0.4em;background-color: white;}#sk-container-id-3 div.sk-label label {font-family: monospace;font-weight: bold;display: inline-block;line-height: 1.2em;}#sk-container-id-3 div.sk-label-container {text-align: center;}#sk-container-id-3 div.sk-container {/* jupyter's `normalize.less` sets `[hidden] { display: none; }` but bootstrap.min.css set `[hidden] { display: none !important; }` so we also need the `!important` here to be able to override the default hidden behavior on the sphinx rendered scikit-learn.org. See: https://github.com/scikit-learn/scikit-learn/issues/21755 */display: inline-block !important;position: relative;}#sk-container-id-3 div.sk-text-repr-fallback {display: none;}</style><div id=\"sk-container-id-3\" class=\"sk-top-container\"><div class=\"sk-text-repr-fallback\"><pre>Pipeline(steps=[(&#x27;tfidfvectorizer&#x27;,\n",
              "                 TfidfVectorizer(max_df=0.15, max_features=10000, min_df=0,\n",
              "                                 norm=None, use_idf=False)),\n",
              "                (&#x27;multinomialnb&#x27;,\n",
              "                 MultinomialNB(alpha=1, class_prior=[0.5, 0.5],\n",
              "                               fit_prior=False))])</pre><b>In a Jupyter environment, please rerun this cell to show the HTML representation or trust the notebook. <br />On GitHub, the HTML representation is unable to render, please try loading this page with nbviewer.org.</b></div><div class=\"sk-container\" hidden><div class=\"sk-item sk-dashed-wrapped\"><div class=\"sk-label-container\"><div class=\"sk-label sk-toggleable\"><input class=\"sk-toggleable__control sk-hidden--visually\" id=\"sk-estimator-id-9\" type=\"checkbox\" ><label for=\"sk-estimator-id-9\" class=\"sk-toggleable__label sk-toggleable__label-arrow\">Pipeline</label><div class=\"sk-toggleable__content\"><pre>Pipeline(steps=[(&#x27;tfidfvectorizer&#x27;,\n",
              "                 TfidfVectorizer(max_df=0.15, max_features=10000, min_df=0,\n",
              "                                 norm=None, use_idf=False)),\n",
              "                (&#x27;multinomialnb&#x27;,\n",
              "                 MultinomialNB(alpha=1, class_prior=[0.5, 0.5],\n",
              "                               fit_prior=False))])</pre></div></div></div><div class=\"sk-serial\"><div class=\"sk-item\"><div class=\"sk-estimator sk-toggleable\"><input class=\"sk-toggleable__control sk-hidden--visually\" id=\"sk-estimator-id-10\" type=\"checkbox\" ><label for=\"sk-estimator-id-10\" class=\"sk-toggleable__label sk-toggleable__label-arrow\">TfidfVectorizer</label><div class=\"sk-toggleable__content\"><pre>TfidfVectorizer(max_df=0.15, max_features=10000, min_df=0, norm=None,\n",
              "                use_idf=False)</pre></div></div></div><div class=\"sk-item\"><div class=\"sk-estimator sk-toggleable\"><input class=\"sk-toggleable__control sk-hidden--visually\" id=\"sk-estimator-id-11\" type=\"checkbox\" ><label for=\"sk-estimator-id-11\" class=\"sk-toggleable__label sk-toggleable__label-arrow\">MultinomialNB</label><div class=\"sk-toggleable__content\"><pre>MultinomialNB(alpha=1, class_prior=[0.5, 0.5], fit_prior=False)</pre></div></div></div></div></div></div></div>"
            ]
          },
          "metadata": {},
          "execution_count": 100
        }
      ],
      "source": [
        "pipeline_TfIdf_best_Hyperparameter.fit(df_train_TfIdf.cleaned_Review, df_train_TfIdf.Liked)"
      ]
    },
    {
      "cell_type": "code",
      "execution_count": 101,
      "metadata": {
        "id": "gQkjN5Ed6w90"
      },
      "outputs": [],
      "source": [
        "df_train_TfIdf_cleaned_Review_transformed = vectorizer_tf.fit_transform(df_train_TfIdf.cleaned_Review)"
      ]
    },
    {
      "cell_type": "markdown",
      "metadata": {
        "id": "PBISM8fbEK9p"
      },
      "source": [
        "**predict_proba** is a function which will predict the probability values to draw the ROC curve"
      ]
    },
    {
      "cell_type": "code",
      "execution_count": 102,
      "metadata": {
        "id": "u0VUfqGqmNo5"
      },
      "outputs": [],
      "source": [
        "y_train_pred_TfIdf_best_Hyperparameter = neigh_best_Hyperparameter.predict_proba(df_train_TfIdf_cleaned_Review_transformed)[:,1]"
      ]
    },
    {
      "cell_type": "code",
      "execution_count": 103,
      "metadata": {
        "id": "2stK-Lmg7dOo"
      },
      "outputs": [],
      "source": [
        "df_test_TfIdf_cleaned_Review_transformed = vectorizer_tf.transform(df_test_TfIdf.cleaned_Review)"
      ]
    },
    {
      "cell_type": "code",
      "execution_count": 104,
      "metadata": {
        "id": "ObUq9IBW45aR"
      },
      "outputs": [],
      "source": [
        "y_test_pred_TfIdf_best_Hyperparameter = neigh_best_Hyperparameter.predict_proba(df_test_TfIdf_cleaned_Review_transformed)[:,1]"
      ]
    },
    {
      "cell_type": "markdown",
      "metadata": {
        "id": "U7UNBHnoEK9q"
      },
      "source": [
        "We will now calculate the fpr value, tpr value and the threshold value for the training and the testing data"
      ]
    },
    {
      "cell_type": "code",
      "execution_count": 105,
      "metadata": {
        "id": "SLxl65ME45fM"
      },
      "outputs": [],
      "source": [
        "train_fpr_TfIdf, train_tpr_TfIdf, tr_thresholds_TfIdf = roc_curve(df_train_TfIdf.Liked, y_train_pred_TfIdf_best_Hyperparameter)"
      ]
    },
    {
      "cell_type": "code",
      "execution_count": 106,
      "metadata": {
        "id": "2BDdWC5J45h9"
      },
      "outputs": [],
      "source": [
        "test_fpr_TfIdf, test_tpr_TfIdf, te_thresholds_TfIdf = roc_curve(df_test_TfIdf.Liked, y_test_pred_TfIdf_best_Hyperparameter)"
      ]
    },
    {
      "cell_type": "code",
      "execution_count": 107,
      "metadata": {
        "colab": {
          "base_uri": "https://localhost:8080/",
          "height": 295
        },
        "id": "anq4wwXu45kR",
        "outputId": "38f2fb8d-9b9b-411d-d040-580908b6d4cc"
      },
      "outputs": [
        {
          "output_type": "display_data",
          "data": {
            "text/plain": [
              "<Figure size 432x288 with 1 Axes>"
            ],
            "image/png": "[encoded data removed]"
          },
          "metadata": {
            "needs_background": "light"
          }
        }
      ],
      "source": [
        "# auc function will calculate the area under curve\n",
        "plt.plot(train_fpr_TfIdf, train_tpr_TfIdf, label='train AUC = '+str(auc(train_fpr_TfIdf, train_tpr_TfIdf)))\n",
        "plt.plot(test_fpr_TfIdf, test_tpr_TfIdf, label='train AUC = '+str(auc(test_fpr_TfIdf, test_tpr_TfIdf)))\n",
        "plt.legend()\n",
        "plt.xlabel(\"FPR\")\n",
        "plt.ylabel(\"TPR\")\n",
        "plt.title(\"ROC PLOT\")\n",
        "plt.grid()\n",
        "plt.show()"
      ]
    },
    {
      "cell_type": "markdown",
      "metadata": {
        "id": "_OclyimLEK9q"
      },
      "source": [
        "In the **ROC PLOT**, the blue line shows the training AUC curve and the orange line shows the testing curve"
      ]
    },
    {
      "cell_type": "markdown",
      "metadata": {
        "id": "jlRjN88m-LKk"
      },
      "source": [
        "For confusion matrix, we need the threshold value at which we have the best AUC value"
      ]
    },
    {
      "cell_type": "code",
      "execution_count": 108,
      "metadata": {
        "id": "8MdDEeen8-Be"
      },
      "outputs": [],
      "source": [
        "def bestthreshold(threshold, fpr, tpr):\n",
        "  #We will fetch the threshold value at which the the product of tpr and (1-fpr) is the maximum\n",
        "  t= threshold[np.argmax(tpr*(1-fpr))]\n",
        "  print('The maximum value of tpr*(1-tpr) = ', max(tpr*(1-fpr)))\n",
        "  return t"
      ]
    },
    {
      "cell_type": "code",
      "execution_count": 109,
      "metadata": {
        "id": "nucM5n7G8-D8"
      },
      "outputs": [],
      "source": [
        "# Defining function to predict using the threshold value \n",
        "def predictusingbestt(proba, threshold):\n",
        "  predictions = []\n",
        "  for i in proba:\n",
        "    if i >= threshold:\n",
        "      # Probabiity value greater than or equal to the threshold value is considered as class 1\n",
        "      predictions.append(1)\n",
        "    else:\n",
        "      # Probabiity value less than the threshold value is considered as class 0\n",
        "      predictions.append(0)\n",
        "  return predictions"
      ]
    },
    {
      "cell_type": "code",
      "execution_count": 110,
      "metadata": {
        "colab": {
          "base_uri": "https://localhost:8080/"
        },
        "id": "b5c0ePWS8-Hd",
        "outputId": "2e26df6d-d1d5-4756-ca08-bab3ab3ba45f"
      },
      "outputs": [
        {
          "output_type": "stream",
          "name": "stdout",
          "text": [
            "The maximum value of tpr*(1-tpr) =  0.9095230638450181\n"
          ]
        }
      ],
      "source": [
        "best_t_TfIdf = bestthreshold(tr_thresholds_TfIdf, train_fpr_TfIdf, train_tpr_TfIdf)"
      ]
    },
    {
      "cell_type": "markdown",
      "metadata": {
        "id": "Qych9eCSEK9r"
      },
      "source": [
        "Plotting the confusion matrix for training data"
      ]
    },
    {
      "cell_type": "code",
      "execution_count": 111,
      "metadata": {
        "colab": {
          "base_uri": "https://localhost:8080/",
          "height": 296
        },
        "id": "GFbkVMrg45ni",
        "outputId": "577bdac8-a3b6-4915-e9a3-7b8233989ea2"
      },
      "outputs": [
        {
          "output_type": "stream",
          "name": "stdout",
          "text": [
            "Train confusion matrix\n"
          ]
        },
        {
          "output_type": "display_data",
          "data": {
            "text/plain": [
              "<Figure size 432x288 with 2 Axes>"
            ],
            "image/png": "[encoded data removed]"
          },
          "metadata": {
            "needs_background": "light"
          }
        }
      ],
      "source": [
        "print(\"Train confusion matrix\")\n",
        "ax = sns.heatmap(confusion_matrix(df_train_TfIdf.Liked, predictusingbestt(y_train_pred_TfIdf_best_Hyperparameter, best_t_TfIdf)),annot=True,fmt='d')\n",
        "ax.set_ylim([0,2])\n",
        "plt.ylabel('actual values')\n",
        "plt.xlabel('predicted values')\n",
        "plt.show()"
      ]
    },
    {
      "cell_type": "markdown",
      "metadata": {
        "id": "5kf1ElU6EK9r"
      },
      "source": [
        "Plotting the confusion matrix for testing data"
      ]
    },
    {
      "cell_type": "code",
      "execution_count": 112,
      "metadata": {
        "colab": {
          "base_uri": "https://localhost:8080/",
          "height": 296
        },
        "id": "tYvJjNDtNWxi",
        "outputId": "1e41af59-be1f-43ae-989b-f4006892b0a4"
      },
      "outputs": [
        {
          "output_type": "stream",
          "name": "stdout",
          "text": [
            "Test confusion matrix\n"
          ]
        },
        {
          "output_type": "display_data",
          "data": {
            "text/plain": [
              "<Figure size 432x288 with 2 Axes>"
            ],
            "image/png": "[encoded data removed]"
          },
          "metadata": {
            "needs_background": "light"
          }
        }
      ],
      "source": [
        "print(\"Test confusion matrix\")\n",
        "ax = sns.heatmap(confusion_matrix(df_test_TfIdf.Liked, predictusingbestt(y_test_pred_TfIdf_best_Hyperparameter, best_t_TfIdf)),annot=True,fmt='d')\n",
        "ax.set_ylim([0,2])\n",
        "plt.ylabel('actual values')\n",
        "plt.xlabel('predicted values')\n",
        "plt.show()"
      ]
    },
    {
      "cell_type": "markdown",
      "metadata": {
        "id": "wA5GPwBfEK9r"
      },
      "source": [
        "Based on the training and testing confusion matrix, it can be observed that the model performance is poor as it is underfitting. This could be because the dataset has less number of records and thus there is less data for training purpose"
      ]
    },
    {
      "cell_type": "markdown",
      "metadata": {
        "id": "oG9FeFm2UG1B"
      },
      "source": [
        "#### Creating a Word2Vec object"
      ]
    },
    {
      "cell_type": "markdown",
      "metadata": {
        "id": "tdDhvKkPfN4L"
      },
      "source": [
        "Importing **gensim** library"
      ]
    },
    {
      "cell_type": "code",
      "execution_count": 113,
      "metadata": {
        "id": "LrnR7qFCUG1B"
      },
      "outputs": [],
      "source": [
        "import gensim"
      ]
    },
    {
      "cell_type": "markdown",
      "metadata": {
        "id": "_AsYjOJWfN4M"
      },
      "source": [
        "Importing **Word2Vec** from **gensim**"
      ]
    },
    {
      "cell_type": "code",
      "execution_count": 114,
      "metadata": {
        "id": "1dcQCtuAUG1B"
      },
      "outputs": [],
      "source": [
        "from gensim.models import  Word2Vec"
      ]
    },
    {
      "cell_type": "code",
      "execution_count": 115,
      "metadata": {
        "colab": {
          "base_uri": "https://localhost:8080/",
          "height": 206
        },
        "id": "V6rYOTJ5k-ob",
        "outputId": "a6aea7f9-ca24-4173-a276-61c640fdec41"
      },
      "outputs": [
        {
          "output_type": "execute_result",
          "data": {
            "text/plain": [
              "                                                                                        cleaned_Review  \\\n",
              "0  ['wow', 'loved', 'place']                                                                             \n",
              "1  ['crust', 'not', 'good']                                                                              \n",
              "2  ['not', 'tasty', 'texture', 'nasty']                                                                  \n",
              "3  ['stopped', 'during', 'late', 'may', 'bank', 'holiday', 'rick', 'steve', 'recommendation', 'loved']   \n",
              "4  ['selection', 'menu', 'great', 'price']                                                               \n",
              "\n",
              "   Liked  Length  \n",
              "0  1      24      \n",
              "1  0      18      \n",
              "2  0      41      \n",
              "3  1      87      \n",
              "4  1      59      "
            ],
            "text/html": [
              "\n",
              "  <div id=\"df-d11121b0-7bb8-4d1c-b144-6254b2efa209\">\n",
              "    <div class=\"colab-df-container\">\n",
              "      <div>\n",
              "<style scoped>\n",
              "    .dataframe tbody tr th:only-of-type {\n",
              "        vertical-align: middle;\n",
              "    }\n",
              "\n",
              "    .dataframe tbody tr th {\n",
              "        vertical-align: top;\n",
              "    }\n",
              "\n",
              "    .dataframe thead th {\n",
              "        text-align: right;\n",
              "    }\n",
              "</style>\n",
              "<table border=\"1\" class=\"dataframe\">\n",
              "  <thead>\n",
              "    <tr style=\"text-align: right;\">\n",
              "      <th></th>\n",
              "      <th>cleaned_Review</th>\n",
              "      <th>Liked</th>\n",
              "      <th>Length</th>\n",
              "    </tr>\n",
              "  </thead>\n",
              "  <tbody>\n",
              "    <tr>\n",
              "      <th>0</th>\n",
              "      <td>['wow', 'loved', 'place']</td>\n",
              "      <td>1</td>\n",
              "      <td>24</td>\n",
              "    </tr>\n",
              "    <tr>\n",
              "      <th>1</th>\n",
              "      <td>['crust', 'not', 'good']</td>\n",
              "      <td>0</td>\n",
              "      <td>18</td>\n",
              "    </tr>\n",
              "    <tr>\n",
              "      <th>2</th>\n",
              "      <td>['not', 'tasty', 'texture', 'nasty']</td>\n",
              "      <td>0</td>\n",
              "      <td>41</td>\n",
              "    </tr>\n",
              "    <tr>\n",
              "      <th>3</th>\n",
              "      <td>['stopped', 'during', 'late', 'may', 'bank', 'holiday', 'rick', 'steve', 'recommendation', 'loved']</td>\n",
              "      <td>1</td>\n",
              "      <td>87</td>\n",
              "    </tr>\n",
              "    <tr>\n",
              "      <th>4</th>\n",
              "      <td>['selection', 'menu', 'great', 'price']</td>\n",
              "      <td>1</td>\n",
              "      <td>59</td>\n",
              "    </tr>\n",
              "  </tbody>\n",
              "</table>\n",
              "</div>\n",
              "      <button class=\"colab-df-convert\" onclick=\"convertToInteractive('df-d11121b0-7bb8-4d1c-b144-6254b2efa209')\"\n",
              "              title=\"Convert this dataframe to an interactive table.\"\n",
              "              style=\"display:none;\">\n",
              "        \n",
              "  <svg xmlns=\"http://www.w3.org/2000/svg\" height=\"24px\"viewBox=\"0 0 24 24\"\n",
              "       width=\"24px\">\n",
              "    <path d=\"M0 0h24v24H0V0z\" fill=\"none\"/>\n",
              "    <path d=\"M18.56 5.44l.94 2.06.94-2.06 2.06-.94-2.06-.94-.94-2.06-.94 2.06-2.06.94zm-11 1L8.5 8.5l.94-2.06 2.06-.94-2.06-.94L8.5 2.5l-.94 2.06-2.06.94zm10 10l.94 2.06.94-2.06 2.06-.94-2.06-.94-.94-2.06-.94 2.06-2.06.94z\"/><path d=\"M17.41 7.96l-1.37-1.37c-.4-.4-.92-.59-1.43-.59-.52 0-1.04.2-1.43.59L10.3 9.45l-7.72 7.72c-.78.78-.78 2.05 0 2.83L4 21.41c.39.39.9.59 1.41.59.51 0 1.02-.2 1.41-.59l7.78-7.78 2.81-2.81c.8-.78.8-2.07 0-2.86zM5.41 20L4 18.59l7.72-7.72 1.47 1.35L5.41 20z\"/>\n",
              "  </svg>\n",
              "      </button>\n",
              "      \n",
              "  <style>\n",
              "    .colab-df-container {\n",
              "      display:flex;\n",
              "      flex-wrap:wrap;\n",
              "      gap: 12px;\n",
              "    }\n",
              "\n",
              "    .colab-df-convert {\n",
              "      background-color: #E8F0FE;\n",
              "      border: none;\n",
              "      border-radius: 50%;\n",
              "      cursor: pointer;\n",
              "      display: none;\n",
              "      fill: #1967D2;\n",
              "      height: 32px;\n",
              "      padding: 0 0 0 0;\n",
              "      width: 32px;\n",
              "    }\n",
              "\n",
              "    .colab-df-convert:hover {\n",
              "      background-color: #E2EBFA;\n",
              "      box-shadow: 0px 1px 2px rgba(60, 64, 67, 0.3), 0px 1px 3px 1px rgba(60, 64, 67, 0.15);\n",
              "      fill: #174EA6;\n",
              "    }\n",
              "\n",
              "    [theme=dark] .colab-df-convert {\n",
              "      background-color: #3B4455;\n",
              "      fill: #D2E3FC;\n",
              "    }\n",
              "\n",
              "    [theme=dark] .colab-df-convert:hover {\n",
              "      background-color: #434B5C;\n",
              "      box-shadow: 0px 1px 3px 1px rgba(0, 0, 0, 0.15);\n",
              "      filter: drop-shadow(0px 1px 2px rgba(0, 0, 0, 0.3));\n",
              "      fill: #FFFFFF;\n",
              "    }\n",
              "  </style>\n",
              "\n",
              "      <script>\n",
              "        const buttonEl =\n",
              "          document.querySelector('#df-d11121b0-7bb8-4d1c-b144-6254b2efa209 button.colab-df-convert');\n",
              "        buttonEl.style.display =\n",
              "          google.colab.kernel.accessAllowed ? 'block' : 'none';\n",
              "\n",
              "        async function convertToInteractive(key) {\n",
              "          const element = document.querySelector('#df-d11121b0-7bb8-4d1c-b144-6254b2efa209');\n",
              "          const dataTable =\n",
              "            await google.colab.kernel.invokeFunction('convertToInteractive',\n",
              "                                                     [key], {});\n",
              "          if (!dataTable) return;\n",
              "\n",
              "          const docLinkHtml = 'Like what you see? Visit the ' +\n",
              "            '<a target=\"_blank\" href=https://colab.research.google.com/notebooks/data_table.ipynb>data table notebook</a>'\n",
              "            + ' to learn more about interactive tables.';\n",
              "          element.innerHTML = '';\n",
              "          dataTable['output_type'] = 'display_data';\n",
              "          await google.colab.output.renderOutput(dataTable, element);\n",
              "          const docLink = document.createElement('div');\n",
              "          docLink.innerHTML = docLinkHtml;\n",
              "          element.appendChild(docLink);\n",
              "        }\n",
              "      </script>\n",
              "    </div>\n",
              "  </div>\n",
              "  "
            ]
          },
          "metadata": {},
          "execution_count": 115
        }
      ],
      "source": [
        "Rest_rev.head()"
      ]
    },
    {
      "cell_type": "code",
      "execution_count": 116,
      "metadata": {
        "id": "4pVc1a5qtO5D"
      },
      "outputs": [],
      "source": [
        "Rest_rev['cleaned_Review_processed'] = Rest_rev['cleaned_Review'].apply(eval)"
      ]
    },
    {
      "cell_type": "code",
      "execution_count": 117,
      "metadata": {
        "colab": {
          "base_uri": "https://localhost:8080/",
          "height": 268
        },
        "id": "fum6Utzoz534",
        "outputId": "cf08d885-5aff-46c0-bf27-4f21f9fe2277"
      },
      "outputs": [
        {
          "output_type": "execute_result",
          "data": {
            "text/plain": [
              "                                                                                        cleaned_Review  \\\n",
              "0  ['wow', 'loved', 'place']                                                                             \n",
              "1  ['crust', 'not', 'good']                                                                              \n",
              "2  ['not', 'tasty', 'texture', 'nasty']                                                                  \n",
              "3  ['stopped', 'during', 'late', 'may', 'bank', 'holiday', 'rick', 'steve', 'recommendation', 'loved']   \n",
              "4  ['selection', 'menu', 'great', 'price']                                                               \n",
              "\n",
              "   Liked  Length  \\\n",
              "0  1      24       \n",
              "1  0      18       \n",
              "2  0      41       \n",
              "3  1      87       \n",
              "4  1      59       \n",
              "\n",
              "                                                          cleaned_Review_processed  \n",
              "0  [wow, loved, place]                                                              \n",
              "1  [crust, not, good]                                                               \n",
              "2  [not, tasty, texture, nasty]                                                     \n",
              "3  [stopped, during, late, may, bank, holiday, rick, steve, recommendation, loved]  \n",
              "4  [selection, menu, great, price]                                                  "
            ],
            "text/html": [
              "\n",
              "  <div id=\"df-e15522a5-9e91-4ae0-a1cc-7b37a5de0e38\">\n",
              "    <div class=\"colab-df-container\">\n",
              "      <div>\n",
              "<style scoped>\n",
              "    .dataframe tbody tr th:only-of-type {\n",
              "        vertical-align: middle;\n",
              "    }\n",
              "\n",
              "    .dataframe tbody tr th {\n",
              "        vertical-align: top;\n",
              "    }\n",
              "\n",
              "    .dataframe thead th {\n",
              "        text-align: right;\n",
              "    }\n",
              "</style>\n",
              "<table border=\"1\" class=\"dataframe\">\n",
              "  <thead>\n",
              "    <tr style=\"text-align: right;\">\n",
              "      <th></th>\n",
              "      <th>cleaned_Review</th>\n",
              "      <th>Liked</th>\n",
              "      <th>Length</th>\n",
              "      <th>cleaned_Review_processed</th>\n",
              "    </tr>\n",
              "  </thead>\n",
              "  <tbody>\n",
              "    <tr>\n",
              "      <th>0</th>\n",
              "      <td>['wow', 'loved', 'place']</td>\n",
              "      <td>1</td>\n",
              "      <td>24</td>\n",
              "      <td>[wow, loved, place]</td>\n",
              "    </tr>\n",
              "    <tr>\n",
              "      <th>1</th>\n",
              "      <td>['crust', 'not', 'good']</td>\n",
              "      <td>0</td>\n",
              "      <td>18</td>\n",
              "      <td>[crust, not, good]</td>\n",
              "    </tr>\n",
              "    <tr>\n",
              "      <th>2</th>\n",
              "      <td>['not', 'tasty', 'texture', 'nasty']</td>\n",
              "      <td>0</td>\n",
              "      <td>41</td>\n",
              "      <td>[not, tasty, texture, nasty]</td>\n",
              "    </tr>\n",
              "    <tr>\n",
              "      <th>3</th>\n",
              "      <td>['stopped', 'during', 'late', 'may', 'bank', 'holiday', 'rick', 'steve', 'recommendation', 'loved']</td>\n",
              "      <td>1</td>\n",
              "      <td>87</td>\n",
              "      <td>[stopped, during, late, may, bank, holiday, rick, steve, recommendation, loved]</td>\n",
              "    </tr>\n",
              "    <tr>\n",
              "      <th>4</th>\n",
              "      <td>['selection', 'menu', 'great', 'price']</td>\n",
              "      <td>1</td>\n",
              "      <td>59</td>\n",
              "      <td>[selection, menu, great, price]</td>\n",
              "    </tr>\n",
              "  </tbody>\n",
              "</table>\n",
              "</div>\n",
              "      <button class=\"colab-df-convert\" onclick=\"convertToInteractive('df-e15522a5-9e91-4ae0-a1cc-7b37a5de0e38')\"\n",
              "              title=\"Convert this dataframe to an interactive table.\"\n",
              "              style=\"display:none;\">\n",
              "        \n",
              "  <svg xmlns=\"http://www.w3.org/2000/svg\" height=\"24px\"viewBox=\"0 0 24 24\"\n",
              "       width=\"24px\">\n",
              "    <path d=\"M0 0h24v24H0V0z\" fill=\"none\"/>\n",
              "    <path d=\"M18.56 5.44l.94 2.06.94-2.06 2.06-.94-2.06-.94-.94-2.06-.94 2.06-2.06.94zm-11 1L8.5 8.5l.94-2.06 2.06-.94-2.06-.94L8.5 2.5l-.94 2.06-2.06.94zm10 10l.94 2.06.94-2.06 2.06-.94-2.06-.94-.94-2.06-.94 2.06-2.06.94z\"/><path d=\"M17.41 7.96l-1.37-1.37c-.4-.4-.92-.59-1.43-.59-.52 0-1.04.2-1.43.59L10.3 9.45l-7.72 7.72c-.78.78-.78 2.05 0 2.83L4 21.41c.39.39.9.59 1.41.59.51 0 1.02-.2 1.41-.59l7.78-7.78 2.81-2.81c.8-.78.8-2.07 0-2.86zM5.41 20L4 18.59l7.72-7.72 1.47 1.35L5.41 20z\"/>\n",
              "  </svg>\n",
              "      </button>\n",
              "      \n",
              "  <style>\n",
              "    .colab-df-container {\n",
              "      display:flex;\n",
              "      flex-wrap:wrap;\n",
              "      gap: 12px;\n",
              "    }\n",
              "\n",
              "    .colab-df-convert {\n",
              "      background-color: #E8F0FE;\n",
              "      border: none;\n",
              "      border-radius: 50%;\n",
              "      cursor: pointer;\n",
              "      display: none;\n",
              "      fill: #1967D2;\n",
              "      height: 32px;\n",
              "      padding: 0 0 0 0;\n",
              "      width: 32px;\n",
              "    }\n",
              "\n",
              "    .colab-df-convert:hover {\n",
              "      background-color: #E2EBFA;\n",
              "      box-shadow: 0px 1px 2px rgba(60, 64, 67, 0.3), 0px 1px 3px 1px rgba(60, 64, 67, 0.15);\n",
              "      fill: #174EA6;\n",
              "    }\n",
              "\n",
              "    [theme=dark] .colab-df-convert {\n",
              "      background-color: #3B4455;\n",
              "      fill: #D2E3FC;\n",
              "    }\n",
              "\n",
              "    [theme=dark] .colab-df-convert:hover {\n",
              "      background-color: #434B5C;\n",
              "      box-shadow: 0px 1px 3px 1px rgba(0, 0, 0, 0.15);\n",
              "      filter: drop-shadow(0px 1px 2px rgba(0, 0, 0, 0.3));\n",
              "      fill: #FFFFFF;\n",
              "    }\n",
              "  </style>\n",
              "\n",
              "      <script>\n",
              "        const buttonEl =\n",
              "          document.querySelector('#df-e15522a5-9e91-4ae0-a1cc-7b37a5de0e38 button.colab-df-convert');\n",
              "        buttonEl.style.display =\n",
              "          google.colab.kernel.accessAllowed ? 'block' : 'none';\n",
              "\n",
              "        async function convertToInteractive(key) {\n",
              "          const element = document.querySelector('#df-e15522a5-9e91-4ae0-a1cc-7b37a5de0e38');\n",
              "          const dataTable =\n",
              "            await google.colab.kernel.invokeFunction('convertToInteractive',\n",
              "                                                     [key], {});\n",
              "          if (!dataTable) return;\n",
              "\n",
              "          const docLinkHtml = 'Like what you see? Visit the ' +\n",
              "            '<a target=\"_blank\" href=https://colab.research.google.com/notebooks/data_table.ipynb>data table notebook</a>'\n",
              "            + ' to learn more about interactive tables.';\n",
              "          element.innerHTML = '';\n",
              "          dataTable['output_type'] = 'display_data';\n",
              "          await google.colab.output.renderOutput(dataTable, element);\n",
              "          const docLink = document.createElement('div');\n",
              "          docLink.innerHTML = docLinkHtml;\n",
              "          element.appendChild(docLink);\n",
              "        }\n",
              "      </script>\n",
              "    </div>\n",
              "  </div>\n",
              "  "
            ]
          },
          "metadata": {},
          "execution_count": 117
        }
      ],
      "source": [
        "Rest_rev.head()"
      ]
    },
    {
      "cell_type": "code",
      "execution_count": 118,
      "metadata": {
        "id": "Z6wWVPeEEzHj"
      },
      "outputs": [],
      "source": [
        "# Inserting the reviews into an empty list\n",
        "\n",
        "sentences = []\n",
        "for i in Rest_rev['cleaned_Review_processed']:\n",
        "  sentences.append(i)"
      ]
    },
    {
      "cell_type": "code",
      "execution_count": 119,
      "metadata": {
        "colab": {
          "base_uri": "https://localhost:8080/"
        },
        "id": "hz7zi8H-FMge",
        "outputId": "d5715b5d-023c-4302-e0ee-eb2c10043018"
      },
      "outputs": [
        {
          "output_type": "execute_result",
          "data": {
            "text/plain": [
              "996"
            ]
          },
          "metadata": {},
          "execution_count": 119
        }
      ],
      "source": [
        "len(sentences)"
      ]
    },
    {
      "cell_type": "markdown",
      "metadata": {
        "id": "KOm3GM30fN4P"
      },
      "source": [
        "There are a total of **996** sentences or reviews"
      ]
    },
    {
      "cell_type": "code",
      "execution_count": 120,
      "metadata": {
        "colab": {
          "base_uri": "https://localhost:8080/"
        },
        "id": "pN1z66Z9kL5v",
        "outputId": "ed7c7442-5147-4835-c25e-61232b8a0bdb"
      },
      "outputs": [
        {
          "output_type": "execute_result",
          "data": {
            "text/plain": [
              "[['wow', 'loved', 'place'],\n",
              " ['crust', 'not', 'good'],\n",
              " ['not', 'tasty', 'texture', 'nasty'],\n",
              " ['stopped',\n",
              "  'during',\n",
              "  'late',\n",
              "  'may',\n",
              "  'bank',\n",
              "  'holiday',\n",
              "  'rick',\n",
              "  'steve',\n",
              "  'recommendation',\n",
              "  'loved'],\n",
              " ['selection', 'menu', 'great', 'price']]"
            ]
          },
          "metadata": {},
          "execution_count": 120
        }
      ],
      "source": [
        "sentences[:5]"
      ]
    },
    {
      "cell_type": "code",
      "execution_count": 121,
      "metadata": {
        "colab": {
          "base_uri": "https://localhost:8080/"
        },
        "id": "bF09F_E2z8iB",
        "outputId": "75511804-bbc6-4348-8e4b-9619f0f89b1b"
      },
      "outputs": [
        {
          "output_type": "stream",
          "name": "stdout",
          "text": [
            "4.3.1\n"
          ]
        }
      ],
      "source": [
        "# Checking the version of gensim\n",
        "print(gensim.__version__)"
      ]
    },
    {
      "cell_type": "code",
      "execution_count": 122,
      "metadata": {
        "id": "3X1DgKTRz8rZ"
      },
      "outputs": [],
      "source": [
        "# upgrade gensim library if the version is lower\n",
        "if gensim.__version__ != '4.3.1':\n",
        "  !pip install --upgrade gensim"
      ]
    },
    {
      "cell_type": "markdown",
      "metadata": {
        "id": "jErV9nb_fN4R"
      },
      "source": [
        "Creating a **Word2Vec** model"
      ]
    },
    {
      "cell_type": "code",
      "execution_count": 123,
      "metadata": {
        "id": "R4Tjv2c1W7Sm"
      },
      "outputs": [],
      "source": [
        "# Setting the vector size\n",
        "embedding_size = 58\n",
        "\n",
        "# If there is error while instantiating Word2Vec model, then try restarting the runtime and running entire code again \n",
        "model_Word2Vec = Word2Vec(sentences, vector_size = embedding_size, window=10, min_count=2, sg=0, workers=4)"
      ]
    },
    {
      "cell_type": "markdown",
      "metadata": {
        "id": "-mNLvY4_fN4R"
      },
      "source": [
        "The parameters of **Word2Vec** are explained as below:\n",
        "\n",
        " - **window** refers to the window size i.e. the number of words to be considered before and after     a given word in a document. The idea is to learn the context of this particular word by using     the neighbouring words which are before and after that word\n",
        " - **vector_size** is the embedding size which means we will encode or embed each of the words        into a vector of size **[1 x 58]** \n",
        " - **min_count=2** means the words appearing atleast twice in a document\n",
        " - **sg=0** means we are building a continuous bag of words model"
      ]
    },
    {
      "cell_type": "code",
      "execution_count": 124,
      "metadata": {
        "colab": {
          "base_uri": "https://localhost:8080/"
        },
        "id": "_zR1yCJEpt-S",
        "outputId": "a372f8d1-89f1-47d1-c84d-e469cfe5942c"
      },
      "outputs": [
        {
          "output_type": "stream",
          "name": "stdout",
          "text": [
            "Word2Vec<vocab=750, vector_size=58, alpha=0.025>\n"
          ]
        }
      ],
      "source": [
        "print(model_Word2Vec)"
      ]
    },
    {
      "cell_type": "markdown",
      "metadata": {
        "id": "Vv2jQteqfN4S"
      },
      "source": [
        "In the instantiated **Word2Vec** model, the model has been able to determine that there are **750** unique words in the vocabulary, each word has been constructed into a vector of size 1 x 58 and the learning rate **alpha** is 0.025."
      ]
    },
    {
      "cell_type": "markdown",
      "metadata": {
        "id": "8tL7y1BAfN4T"
      },
      "source": [
        "Printing the words in the vocabulary"
      ]
    },
    {
      "cell_type": "code",
      "execution_count": 125,
      "metadata": {
        "colab": {
          "base_uri": "https://localhost:8080/"
        },
        "id": "jNvvW2BWEf-k",
        "outputId": "1f8f1003-74ff-45ef-d4f2-0205ca3f1db8"
      },
      "outputs": [
        {
          "output_type": "stream",
          "name": "stdout",
          "text": [
            "dict_keys(['food', 'not', 'place', 'good', 'service', 'great', 'back', 'time', 'like', 'go', 'really', 'best', 'would', 'restaurant', 'ever', 'one', 'friendly', 'also', 'never', 'nice', 'amazing', 'delicious', 'vega', 'pretty', 'came', 'experience', 'get', 'even', 'disappointed', 'u', 'definitely', 'eat', 'staff', 'minute', 'love', 'server', 'bad', 'going', 'got', 'chicken', 'steak', 'pizza', 'much', 'star', 'first', 'salad', 'price', 'made', 'say', 'dish', 'better', 'could', 'way', 'menu', 'burger', 'think', 'well', 'always', 'worst', 'wait', 'flavor', 'meal', 'table', 'fresh', 'want', 'ordered', 'quality', 'went', 'feel', 'thing', 'sushi', 'order', 'taste', 'fantastic', 'awesome', 'selection', 'enough', 'night', 'everything', 'after', 'buffet', 'still', 'fry', 'know', 'atmosphere', 'bland', 'slow', 'next', 'come', 'sauce', 'tasty', 'perfect', 'sandwich', 'side', 'waited', 'another', 'recommend', 'coming', 'loved', 'meat', 'breakfast', 'worth', 'little', 'lunch', 'excellent', 'probably', 'hot', 'day', 'many', 'bar', 'give', 'spot', 'bit', 'soon', 'cold', 'terrible', 'people', 'before', 'friend', 'clean', 'potato', 'lot', 'every', 'waitress', 'right', 'beer', 'two', 'eating', 'customer', 'owner', 'absolutely', 'tasted', 'impressed', 'quite', 'felt', 'happy', 'said', 'rude', 'getting', 'try', 'dining', 'chip', 'took', 'overall', 'while', 'hour', 'drink', 'since', 'dessert', 'spicy', 'around', 'make', 'special', 'take', 'sure', 'inside', 'warm', 'portion', 'need', 'waiter', 'nothing', 'ambiance', 'cooked', 'super', 'area', 'far', 'tender', 'tried', 'must', 'check', 'attentive', 'dinner', 'found', 'family', 'deal', 'seriously', 'wonderful', 'overpriced', 'town', 'pho', 'hit', 'mediocre', 'management', 'review', 'last', 'poor', 'authentic', 'see', 'hard', 'either', 'done', 'small', 'twice', 'shrimp', 'left', 'horrible', 'enjoy', 'served', 'pasta', 'money', 'taco', 'tell', 'old', 'home', 'kept', 'bread', 'thought', 'year', 'fast', 'egg', 'away', 'disappointing', 'barely', 'eaten', 'asked', 'chef', 'waiting', 'wine', 'thai', 'business', 'trip', 'wrong', 'fish', 'waste', 'tasteless', 'full', 'avoid', 'seafood', 'new', 'heart', 'soup', 'huge', 'suck', 'talk', 'may', 'outside', 'extremely', 'anytime', 'during', 'seated', 'bathroom', 'beef', 'enjoyed', 'sick', 'hand', 'real', 'reasonable', 'fried', 'expect', 'bring', 'ice', 'bacon', 'return', 'quick', 'long', 'zero', 'look', 'sat', 'sweet', 'bay', 'though', 'phoenix', 'highly', 'pay', 'thumb', 'incredible', 'sucked', 'something', 'unfortunately', 'piece', 'pork', 'damn', 'kind', 'average', 'wing', 'hope', 'drive', 'leave', 'cream', 'live', 'sad', 'fact', 'lady', 'thin', 'today', 'yummy', 'bean', 'green', 'running', 'everyone', 'large', 'ask', 'job', 'tea', 'party', 'salmon', 'location', 'close', 'manager', 'gave', 'least', 'visit', 'rice', 'bite', 'high', 'house', 'vegetable', 'dirty', 'considering', 'mouth', 'roll', 'dry', 'possible', 'someone', 'disappointment', 'folk', 'establishment', 'beat', 'fun', 'helpful', 'husband', 'couple', 'elsewhere', 'option', 'wall', 'rare', 'second', 'appetizer', 'greek', 'dressing', 'moist', 'pita', 'texture', 'cheese', 'water', 'hummus', 'checked', 'amount', 'perfectly', 'delight', 'duck', 'empty', 'flat', 'subway', 'nasty', 'ate', 'recommendation', 'top', 'lover', 'salt', 'brought', 'arrived', 'quickly', 'cafe', 'wife', 'liked', 'although', 'bartender', 'tip', 'recommended', 'ambience', 'beautiful', 'music', 'let', 'busy', 'fine', 'guy', 'melt', 'honest', 'chewy', 'expected', 'delish', 'min', 'belly', 'guess', 'strip', 'oh', 'sashimi', 'totally', 'word', 'break', 'walked', 'care', 'frozen', 'wow', 'setting', 'ok', 'half', 'big', 'list', 'world', 'vibe', 'stop', 'favorite', 'edible', 'none', 'course', 'seating', 'biscuit', 'especially', 'unless', 'work', 'mom', 'soggy', 'pleasant', 'pleased', 'white', 'until', 'mean', 'paper', 'regular', 'wanted', 'patio', 'gone', 'homemade', 'boyfriend', 'room', 'maybe', 'generous', 'pulled', 'please', 'believe', 'worse', 'received', 'par', 'stay', 'flavorful', 'point', 'bill', 'rather', 'boy', 'yet', 'group', 'brunch', 'lobster', 'literally', 'total', 'door', 'cool', 'salsa', 'vegetarian', 'used', 'else', 'treated', 'find', 'priced', 'immediately', 'awful', 'ago', 'several', 'deserves', 'stomach', 'different', 'kid', 'stale', 'told', 'lacked', 'watched', 'style', 'outstanding', 'healthy', 'interesting', 'insulted', 'equally', 'dog', 'pancake', 'gyro', 'lacking', 'butter', 'decor', 'crowd', 'impeccable', 'end', 'dont', 'week', 'nicest', 'mistake', 'worker', 'bunch', 'mall', 'filling', 'stuffed', 'char', 'driest', 'favor', 'familiar', 'anyone', 'completely', 'lovely', 'seems', 'judge', 'behind', 'blow', 'shop', 'anyway', 'inexpensive', 'grossed', 'cow', 'simply', 'assure', 'professional', 'tot', 'paid', 'acknowledged', 'whole', 'note', 'margarita', 'disappoint', 'trying', 'flower', 'perfection', 'combination', 'pop', 'crab', 'leg', 'sliced', 'become', 'decorated', 'decent', 'touch', 'mid', 'spice', 'complain', 'anything', 'chinese', 'fly', 'classic', 'simple', 'choose', 'longer', 'serving', 'needle', 'cashier', 'plate', 'fail', 'staying', 'definately', 'low', 'bother', 'offer', 'lost', 'crust', 'spend', 'three', 'started', 'heat', 'head', 'stopped', 'late', 'employee', 'fell', 'tribute', 'crazy', 'nacho', 'flavorless', 'ended', 'legit', 'italian', 'car', 'mexican', 'fan', 'guest', 'recently', 'helped', 'disgusting', 'baby', 'vinegrette', 'tapa', 'however', 'overwhelmed', 'recent', 'actually', 'combo', 'entree', 'rated', 'cheap', 'mmmm', 'presentation', 'promise', 'human', 'hair', 'sign', 'focused', 'non', 'grilled', 'satisfying', 'cute', 'fairly', 'sitting', 'red', 'cake', 'stuff', 'color', 'front', 'ten', 'realized', 'playing', 'cheeseburger', 'mary', 'double', 'dealing', 'main', 'date', 'cook', 'pepper', 'given', 'needed', 'filet', 'bisque', 'passed', 'between', 'mind', 'shower', 'single', 'picture', 'extra', 'added', 'mood', 'set', 'dark', 'building', 'bye', 'almost', 'stayed', 'honestly', 'mayo', 'serf', 'yum', 'event', 'roasted', 'garlic', 'marrow', 'gross', 'bug', 'die', 'cut', 'overcooked', 'tuna', 'hip', 'bagel', 'looking', 'reasonably', 'bakery', 'dine', 'puree', 'rarely', 'joint', 'highlight', 'curry', 'undercooked', 'greeted', 'cover', 'wrap', 'crispy', 'charcoal', 'decided', 'gold', 'mushroom', 'stepped', 'preparing', 'indian', 'boot', 'disrespected', 'bowl', 'valley', 'feeling', 'watch', 'reason', 'station', 'dirt', 'looked', 'sub', 'creamy', 'happened', 'black', 'refill', 'brick', 'omg', 'cocktail', 'seen', 'glad', 'serve', 'doubt', 'above', 'without', 'heard', 'pricing', 'batter', 'fare', 'joke', 'basically', 'oven', 'multiple', 'pace', 'ripped', 'part', 'attitude', 'towards', 'eggplant', 'comfortable', 'lukewarm', 'attack', 'grill', 'downtown', 'excuse', 'life', 'evening', 'treat', 'scallop', 'finally', 'finish', 'beyond', 'similar', 'grease', 'underwhelming', 'boba', 'person', 'cant', 'coffee', 'buck', 'plus', 'others', 'toasted', 'roast', 'tap', 'sugary', 'six', 'stick', 'peanut', 'complaint', 'company', 'bachi', 'opportunity', 'hate', 'delightful', 'summer', 'meh', 'box', 'stir', 'known', 'use', 'third', 'value', 'soooo', 'seasoned', 'convenient', 'neighborhood', 'later', 'wasting', 'seemed'])\n"
          ]
        }
      ],
      "source": [
        "print(model_Word2Vec.wv.key_to_index.keys())"
      ]
    },
    {
      "cell_type": "code",
      "execution_count": 126,
      "metadata": {
        "colab": {
          "base_uri": "https://localhost:8080/"
        },
        "id": "iw6TRaltMiWV",
        "outputId": "297348f8-da50-43cd-8560-030c0e266e03"
      },
      "outputs": [
        {
          "output_type": "execute_result",
          "data": {
            "text/plain": [
              "750"
            ]
          },
          "metadata": {},
          "execution_count": 126
        }
      ],
      "source": [
        "len(model_Word2Vec.wv.index_to_key)"
      ]
    },
    {
      "cell_type": "markdown",
      "metadata": {
        "id": "itg-xvHbfN4V"
      },
      "source": [
        "Printing the word vector for the word **would** which is present in the vocabulary"
      ]
    },
    {
      "cell_type": "code",
      "execution_count": 127,
      "metadata": {
        "colab": {
          "base_uri": "https://localhost:8080/"
        },
        "id": "rzxxNck-HuPl",
        "outputId": "572bc640-acf7-47c1-e019-cc1269267611"
      },
      "outputs": [
        {
          "output_type": "execute_result",
          "data": {
            "text/plain": [
              "array([ 0.01514115, -0.00961324, -0.00660453,  0.00603276,  0.01852614,\n",
              "       -0.01069007,  0.01285774,  0.02042692, -0.01465452,  0.00351323,\n",
              "        0.00599983, -0.00313249, -0.00995846, -0.00843316,  0.00095628,\n",
              "       -0.00433648,  0.01034943, -0.00972805,  0.00560699,  0.0055531 ,\n",
              "        0.00647502, -0.00054925, -0.0134326 , -0.01639961,  0.00751316,\n",
              "        0.00944268, -0.00824922, -0.02143599, -0.01703957,  0.00579688,\n",
              "       -0.00285452,  0.01546   , -0.00699451,  0.01531813, -0.00690597,\n",
              "        0.01197001,  0.00191412, -0.01845955, -0.00562164,  0.00045019,\n",
              "       -0.00959364,  0.00189218, -0.01729416,  0.00124275,  0.01724606,\n",
              "        0.00382173, -0.0099143 ,  0.00651468,  0.01528347, -0.01314945,\n",
              "       -0.00945721, -0.00932372,  0.01733777, -0.00129032, -0.01784691,\n",
              "       -0.00743761,  0.02301976, -0.01067937], dtype=float32)"
            ]
          },
          "metadata": {},
          "execution_count": 127
        }
      ],
      "source": [
        "model_Word2Vec.wv.get_vector('would')"
      ]
    },
    {
      "cell_type": "markdown",
      "metadata": {
        "id": "r-MIxn8AfN4W"
      },
      "source": [
        "Printing the word vector for the word **burger** which is present in the vocabulary"
      ]
    },
    {
      "cell_type": "code",
      "execution_count": 128,
      "metadata": {
        "colab": {
          "base_uri": "https://localhost:8080/"
        },
        "id": "dk_3OrvhIanU",
        "outputId": "3d11c4d6-021f-45e8-bb03-5b8b7f4bbe91"
      },
      "outputs": [
        {
          "output_type": "execute_result",
          "data": {
            "text/plain": [
              "array([ 0.00613442, -0.00694826, -0.010933  ,  0.01257101,  0.00759333,\n",
              "       -0.01254189, -0.00170843,  0.00350105, -0.00418407, -0.01087684,\n",
              "        0.01156552,  0.0064156 ,  0.01249212,  0.01029224, -0.00549632,\n",
              "        0.00261995,  0.00111417, -0.02277492,  0.01981442,  0.01808374,\n",
              "        0.01515407, -0.00744275, -0.01657623,  0.008225  , -0.00618441,\n",
              "        0.01213085, -0.00571582,  0.00431126,  0.00705072, -0.00470236,\n",
              "        0.00030822,  0.00631908,  0.02162053, -0.0120799 ,  0.00083495,\n",
              "        0.00241429,  0.01215491,  0.00419304, -0.00693927,  0.00854627,\n",
              "       -0.0072486 ,  0.00977073,  0.00980621,  0.0027151 , -0.00606677,\n",
              "        0.00263634,  0.00513194,  0.01712318,  0.01063962, -0.00830426,\n",
              "       -0.000441  , -0.01533537, -0.00621262,  0.00222831, -0.0132033 ,\n",
              "       -0.0168477 ,  0.0209992 ,  0.01839776], dtype=float32)"
            ]
          },
          "metadata": {},
          "execution_count": 128
        }
      ],
      "source": [
        "model_Word2Vec.wv.get_vector('burger')"
      ]
    },
    {
      "cell_type": "code",
      "execution_count": 129,
      "metadata": {
        "colab": {
          "base_uri": "https://localhost:8080/"
        },
        "id": "CYmZfmZihpp-",
        "outputId": "34351f57-f6b6-477e-8b5c-7a5783e76d8c"
      },
      "outputs": [
        {
          "output_type": "execute_result",
          "data": {
            "text/plain": [
              "996"
            ]
          },
          "metadata": {},
          "execution_count": 129
        }
      ],
      "source": [
        "model_Word2Vec.corpus_count"
      ]
    },
    {
      "cell_type": "markdown",
      "metadata": {
        "id": "iYyIJIGHfN4Y"
      },
      "source": [
        "Number of epochs for which the **Word2Vec** model has been trained"
      ]
    },
    {
      "cell_type": "code",
      "execution_count": 130,
      "metadata": {
        "colab": {
          "base_uri": "https://localhost:8080/"
        },
        "id": "_iTdgdWRhptd",
        "outputId": "f095b9fe-151d-462a-8153-08e1ab0069d6"
      },
      "outputs": [
        {
          "output_type": "execute_result",
          "data": {
            "text/plain": [
              "5"
            ]
          },
          "metadata": {},
          "execution_count": 130
        }
      ],
      "source": [
        "model_Word2Vec.epochs"
      ]
    },
    {
      "cell_type": "markdown",
      "metadata": {
        "id": "HfAfLNpafN4Z"
      },
      "source": [
        "Defining the function **generate_vector** which will generate and fetch the word vectors of the 750 words in the vocabulary to generate the document vector so that we can convert the documents into a structured format. Each document vector is essentially an average of all the word vectors of all the words in that document"
      ]
    },
    {
      "cell_type": "code",
      "execution_count": 131,
      "metadata": {
        "id": "ZP6L6xQXHuU8"
      },
      "outputs": [],
      "source": [
        "def document_vector(doc):\n",
        "  #Create document vectors by averaging the word vectors. Remove the out of vocabulary words\n",
        "  doc1 = [word for word in doc if word in model_Word2Vec.wv.index_to_key]\n",
        "  #So essentially, doc1 is a collection of those words which are a part of the vocabulary\n",
        "\n",
        "  wv1 = []\n",
        "\n",
        "  for word in doc1:\n",
        "    wv1.append(model_Word2Vec.wv.get_vector(word)) #Fetching the word vector for all the words in the vocabulary\n",
        "  wv1 = np.array(wv1) #Converting wv1 into a numpy array\n",
        "  wv1_mean = wv1.mean(axis = 0) #Taking the mean/average row wise\n",
        "  return wv1_mean"
      ]
    },
    {
      "cell_type": "code",
      "execution_count": 132,
      "metadata": {
        "colab": {
          "base_uri": "https://localhost:8080/"
        },
        "id": "MYQGZS1BLUR9",
        "outputId": "b18544fd-ff9e-44f3-e83c-e8ad3367207c"
      },
      "outputs": [
        {
          "output_type": "stream",
          "name": "stderr",
          "text": [
            "<ipython-input-131-c5a7e79dc394>:11: RuntimeWarning: Mean of empty slice.\n",
            "  wv1_mean = wv1.mean(axis = 0) #Taking the mean/average row wise\n"
          ]
        }
      ],
      "source": [
        "# Generate word vectors for the documents\n",
        "Review_temp = Rest_rev['cleaned_Review_processed'].apply(document_vector)"
      ]
    },
    {
      "cell_type": "markdown",
      "metadata": {
        "id": "tij_rAhVfN4b"
      },
      "source": [
        "Fetching the document vectors from the above list **Review_temp** and convert it into a Numpy array"
      ]
    },
    {
      "cell_type": "code",
      "execution_count": 133,
      "metadata": {
        "id": "dnSyGzc-Qo-f"
      },
      "outputs": [],
      "source": [
        "Review_vec = np.ones((len(Review_temp), embedding_size))*np.nan"
      ]
    },
    {
      "cell_type": "code",
      "execution_count": 134,
      "metadata": {
        "id": "RURtLq2yQpBS"
      },
      "outputs": [],
      "source": [
        "for i in range(Review_vec.shape[0]):\n",
        "  Review_vec[i,:] = Review_temp.iloc[i]"
      ]
    },
    {
      "cell_type": "code",
      "execution_count": 135,
      "metadata": {
        "colab": {
          "base_uri": "https://localhost:8080/"
        },
        "id": "2Ai2m-StQpDv",
        "outputId": "6bf8610f-84d2-4236-c7bb-22a24c5d30d0"
      },
      "outputs": [
        {
          "output_type": "execute_result",
          "data": {
            "text/plain": [
              "(996, 58)"
            ]
          },
          "metadata": {},
          "execution_count": 135
        }
      ],
      "source": [
        "Review_vec.shape"
      ]
    },
    {
      "cell_type": "markdown",
      "metadata": {
        "id": "vyp-BgmxfN4e"
      },
      "source": [
        "Converting the Numpy array into a pandas dataframe"
      ]
    },
    {
      "cell_type": "code",
      "execution_count": 136,
      "metadata": {
        "id": "xPxiW8J2R1Gf"
      },
      "outputs": [],
      "source": [
        "Rest_rev_vectorized = pd.DataFrame(Review_vec)"
      ]
    },
    {
      "cell_type": "code",
      "execution_count": 137,
      "metadata": {
        "id": "xXVmY2C1R1JK"
      },
      "outputs": [],
      "source": [
        "#Adding the column for dependent feature in the Rest_rev_vectorized dataframe\n",
        "Rest_rev_vectorized['Liked'] = Rest_rev['Liked']"
      ]
    },
    {
      "cell_type": "code",
      "execution_count": 138,
      "metadata": {
        "id": "g-0NMIdhUx31"
      },
      "outputs": [],
      "source": [
        "Rest_rev_vectorized.dropna(how='any', axis=0, inplace=True)"
      ]
    },
    {
      "cell_type": "code",
      "execution_count": 139,
      "metadata": {
        "colab": {
          "base_uri": "https://localhost:8080/",
          "height": 300
        },
        "id": "zmYrbP2HR1Lk",
        "outputId": "ad8c79e0-8682-4ed1-e648-e15d10181cd5"
      },
      "outputs": [
        {
          "output_type": "execute_result",
          "data": {
            "text/plain": [
              "          0         1         2         3         4         5         6  \\\n",
              "0  0.003592  0.006200 -0.013609 -0.004918  0.000450 -0.004865  0.004152   \n",
              "1  0.002502  0.001749 -0.006505 -0.005505  0.004584 -0.012269 -0.009285   \n",
              "2 -0.001049  0.011581  0.001636 -0.007049  0.001204 -0.006640 -0.002933   \n",
              "3 -0.003374 -0.000343 -0.002204  0.002629  0.000738 -0.001872 -0.001381   \n",
              "4  0.000676  0.006174 -0.000149  0.000358  0.011925 -0.000339  0.000089   \n",
              "\n",
              "          7         8         9  ...        49        50        51        52  \\\n",
              "0  0.003265 -0.001836  0.000402  ...  0.001226  0.013196 -0.012292  0.008281   \n",
              "1  0.004965 -0.008709  0.007086  ...  0.000537  0.001469 -0.005735  0.005812   \n",
              "2  0.006772 -0.002908  0.008271  ...  0.004912 -0.006462 -0.014360 -0.000134   \n",
              "3  0.006825  0.000895  0.001059  ...  0.002622  0.003508  0.001383  0.001170   \n",
              "4 -0.003297  0.002364  0.004042  ... -0.002201  0.002006  0.002768  0.001092   \n",
              "\n",
              "         53        54        55        56        57  Liked  \n",
              "0 -0.006230 -0.002041 -0.006412  0.004471  0.001397  1      \n",
              "1 -0.001860 -0.010096  0.006853  0.010440  0.003866  0      \n",
              "2 -0.003848 -0.006394  0.001559  0.003041 -0.000569  0      \n",
              "3 -0.008589 -0.001474 -0.000349  0.007294  0.002740  1      \n",
              "4  0.007932 -0.000372  0.003050  0.007874  0.000308  1      \n",
              "\n",
              "[5 rows x 59 columns]"
            ],
            "text/html": [
              "\n",
              "  <div id=\"df-76c969e1-6514-49ed-b8ac-54254ca4d4e4\">\n",
              "    <div class=\"colab-df-container\">\n",
              "      <div>\n",
              "<style scoped>\n",
              "    .dataframe tbody tr th:only-of-type {\n",
              "        vertical-align: middle;\n",
              "    }\n",
              "\n",
              "    .dataframe tbody tr th {\n",
              "        vertical-align: top;\n",
              "    }\n",
              "\n",
              "    .dataframe thead th {\n",
              "        text-align: right;\n",
              "    }\n",
              "</style>\n",
              "<table border=\"1\" class=\"dataframe\">\n",
              "  <thead>\n",
              "    <tr style=\"text-align: right;\">\n",
              "      <th></th>\n",
              "      <th>0</th>\n",
              "      <th>1</th>\n",
              "      <th>2</th>\n",
              "      <th>3</th>\n",
              "      <th>4</th>\n",
              "      <th>5</th>\n",
              "      <th>6</th>\n",
              "      <th>7</th>\n",
              "      <th>8</th>\n",
              "      <th>9</th>\n",
              "      <th>...</th>\n",
              "      <th>49</th>\n",
              "      <th>50</th>\n",
              "      <th>51</th>\n",
              "      <th>52</th>\n",
              "      <th>53</th>\n",
              "      <th>54</th>\n",
              "      <th>55</th>\n",
              "      <th>56</th>\n",
              "      <th>57</th>\n",
              "      <th>Liked</th>\n",
              "    </tr>\n",
              "  </thead>\n",
              "  <tbody>\n",
              "    <tr>\n",
              "      <th>0</th>\n",
              "      <td>0.003592</td>\n",
              "      <td>0.006200</td>\n",
              "      <td>-0.013609</td>\n",
              "      <td>-0.004918</td>\n",
              "      <td>0.000450</td>\n",
              "      <td>-0.004865</td>\n",
              "      <td>0.004152</td>\n",
              "      <td>0.003265</td>\n",
              "      <td>-0.001836</td>\n",
              "      <td>0.000402</td>\n",
              "      <td>...</td>\n",
              "      <td>0.001226</td>\n",
              "      <td>0.013196</td>\n",
              "      <td>-0.012292</td>\n",
              "      <td>0.008281</td>\n",
              "      <td>-0.006230</td>\n",
              "      <td>-0.002041</td>\n",
              "      <td>-0.006412</td>\n",
              "      <td>0.004471</td>\n",
              "      <td>0.001397</td>\n",
              "      <td>1</td>\n",
              "    </tr>\n",
              "    <tr>\n",
              "      <th>1</th>\n",
              "      <td>0.002502</td>\n",
              "      <td>0.001749</td>\n",
              "      <td>-0.006505</td>\n",
              "      <td>-0.005505</td>\n",
              "      <td>0.004584</td>\n",
              "      <td>-0.012269</td>\n",
              "      <td>-0.009285</td>\n",
              "      <td>0.004965</td>\n",
              "      <td>-0.008709</td>\n",
              "      <td>0.007086</td>\n",
              "      <td>...</td>\n",
              "      <td>0.000537</td>\n",
              "      <td>0.001469</td>\n",
              "      <td>-0.005735</td>\n",
              "      <td>0.005812</td>\n",
              "      <td>-0.001860</td>\n",
              "      <td>-0.010096</td>\n",
              "      <td>0.006853</td>\n",
              "      <td>0.010440</td>\n",
              "      <td>0.003866</td>\n",
              "      <td>0</td>\n",
              "    </tr>\n",
              "    <tr>\n",
              "      <th>2</th>\n",
              "      <td>-0.001049</td>\n",
              "      <td>0.011581</td>\n",
              "      <td>0.001636</td>\n",
              "      <td>-0.007049</td>\n",
              "      <td>0.001204</td>\n",
              "      <td>-0.006640</td>\n",
              "      <td>-0.002933</td>\n",
              "      <td>0.006772</td>\n",
              "      <td>-0.002908</td>\n",
              "      <td>0.008271</td>\n",
              "      <td>...</td>\n",
              "      <td>0.004912</td>\n",
              "      <td>-0.006462</td>\n",
              "      <td>-0.014360</td>\n",
              "      <td>-0.000134</td>\n",
              "      <td>-0.003848</td>\n",
              "      <td>-0.006394</td>\n",
              "      <td>0.001559</td>\n",
              "      <td>0.003041</td>\n",
              "      <td>-0.000569</td>\n",
              "      <td>0</td>\n",
              "    </tr>\n",
              "    <tr>\n",
              "      <th>3</th>\n",
              "      <td>-0.003374</td>\n",
              "      <td>-0.000343</td>\n",
              "      <td>-0.002204</td>\n",
              "      <td>0.002629</td>\n",
              "      <td>0.000738</td>\n",
              "      <td>-0.001872</td>\n",
              "      <td>-0.001381</td>\n",
              "      <td>0.006825</td>\n",
              "      <td>0.000895</td>\n",
              "      <td>0.001059</td>\n",
              "      <td>...</td>\n",
              "      <td>0.002622</td>\n",
              "      <td>0.003508</td>\n",
              "      <td>0.001383</td>\n",
              "      <td>0.001170</td>\n",
              "      <td>-0.008589</td>\n",
              "      <td>-0.001474</td>\n",
              "      <td>-0.000349</td>\n",
              "      <td>0.007294</td>\n",
              "      <td>0.002740</td>\n",
              "      <td>1</td>\n",
              "    </tr>\n",
              "    <tr>\n",
              "      <th>4</th>\n",
              "      <td>0.000676</td>\n",
              "      <td>0.006174</td>\n",
              "      <td>-0.000149</td>\n",
              "      <td>0.000358</td>\n",
              "      <td>0.011925</td>\n",
              "      <td>-0.000339</td>\n",
              "      <td>0.000089</td>\n",
              "      <td>-0.003297</td>\n",
              "      <td>0.002364</td>\n",
              "      <td>0.004042</td>\n",
              "      <td>...</td>\n",
              "      <td>-0.002201</td>\n",
              "      <td>0.002006</td>\n",
              "      <td>0.002768</td>\n",
              "      <td>0.001092</td>\n",
              "      <td>0.007932</td>\n",
              "      <td>-0.000372</td>\n",
              "      <td>0.003050</td>\n",
              "      <td>0.007874</td>\n",
              "      <td>0.000308</td>\n",
              "      <td>1</td>\n",
              "    </tr>\n",
              "  </tbody>\n",
              "</table>\n",
              "<p>5 rows × 59 columns</p>\n",
              "</div>\n",
              "      <button class=\"colab-df-convert\" onclick=\"convertToInteractive('df-76c969e1-6514-49ed-b8ac-54254ca4d4e4')\"\n",
              "              title=\"Convert this dataframe to an interactive table.\"\n",
              "              style=\"display:none;\">\n",
              "        \n",
              "  <svg xmlns=\"http://www.w3.org/2000/svg\" height=\"24px\"viewBox=\"0 0 24 24\"\n",
              "       width=\"24px\">\n",
              "    <path d=\"M0 0h24v24H0V0z\" fill=\"none\"/>\n",
              "    <path d=\"M18.56 5.44l.94 2.06.94-2.06 2.06-.94-2.06-.94-.94-2.06-.94 2.06-2.06.94zm-11 1L8.5 8.5l.94-2.06 2.06-.94-2.06-.94L8.5 2.5l-.94 2.06-2.06.94zm10 10l.94 2.06.94-2.06 2.06-.94-2.06-.94-.94-2.06-.94 2.06-2.06.94z\"/><path d=\"M17.41 7.96l-1.37-1.37c-.4-.4-.92-.59-1.43-.59-.52 0-1.04.2-1.43.59L10.3 9.45l-7.72 7.72c-.78.78-.78 2.05 0 2.83L4 21.41c.39.39.9.59 1.41.59.51 0 1.02-.2 1.41-.59l7.78-7.78 2.81-2.81c.8-.78.8-2.07 0-2.86zM5.41 20L4 18.59l7.72-7.72 1.47 1.35L5.41 20z\"/>\n",
              "  </svg>\n",
              "      </button>\n",
              "      \n",
              "  <style>\n",
              "    .colab-df-container {\n",
              "      display:flex;\n",
              "      flex-wrap:wrap;\n",
              "      gap: 12px;\n",
              "    }\n",
              "\n",
              "    .colab-df-convert {\n",
              "      background-color: #E8F0FE;\n",
              "      border: none;\n",
              "      border-radius: 50%;\n",
              "      cursor: pointer;\n",
              "      display: none;\n",
              "      fill: #1967D2;\n",
              "      height: 32px;\n",
              "      padding: 0 0 0 0;\n",
              "      width: 32px;\n",
              "    }\n",
              "\n",
              "    .colab-df-convert:hover {\n",
              "      background-color: #E2EBFA;\n",
              "      box-shadow: 0px 1px 2px rgba(60, 64, 67, 0.3), 0px 1px 3px 1px rgba(60, 64, 67, 0.15);\n",
              "      fill: #174EA6;\n",
              "    }\n",
              "\n",
              "    [theme=dark] .colab-df-convert {\n",
              "      background-color: #3B4455;\n",
              "      fill: #D2E3FC;\n",
              "    }\n",
              "\n",
              "    [theme=dark] .colab-df-convert:hover {\n",
              "      background-color: #434B5C;\n",
              "      box-shadow: 0px 1px 3px 1px rgba(0, 0, 0, 0.15);\n",
              "      filter: drop-shadow(0px 1px 2px rgba(0, 0, 0, 0.3));\n",
              "      fill: #FFFFFF;\n",
              "    }\n",
              "  </style>\n",
              "\n",
              "      <script>\n",
              "        const buttonEl =\n",
              "          document.querySelector('#df-76c969e1-6514-49ed-b8ac-54254ca4d4e4 button.colab-df-convert');\n",
              "        buttonEl.style.display =\n",
              "          google.colab.kernel.accessAllowed ? 'block' : 'none';\n",
              "\n",
              "        async function convertToInteractive(key) {\n",
              "          const element = document.querySelector('#df-76c969e1-6514-49ed-b8ac-54254ca4d4e4');\n",
              "          const dataTable =\n",
              "            await google.colab.kernel.invokeFunction('convertToInteractive',\n",
              "                                                     [key], {});\n",
              "          if (!dataTable) return;\n",
              "\n",
              "          const docLinkHtml = 'Like what you see? Visit the ' +\n",
              "            '<a target=\"_blank\" href=https://colab.research.google.com/notebooks/data_table.ipynb>data table notebook</a>'\n",
              "            + ' to learn more about interactive tables.';\n",
              "          element.innerHTML = '';\n",
              "          dataTable['output_type'] = 'display_data';\n",
              "          await google.colab.output.renderOutput(dataTable, element);\n",
              "          const docLink = document.createElement('div');\n",
              "          docLink.innerHTML = docLinkHtml;\n",
              "          element.appendChild(docLink);\n",
              "        }\n",
              "      </script>\n",
              "    </div>\n",
              "  </div>\n",
              "  "
            ]
          },
          "metadata": {},
          "execution_count": 139
        }
      ],
      "source": [
        "Rest_rev_vectorized.head()"
      ]
    },
    {
      "cell_type": "code",
      "execution_count": 140,
      "metadata": {
        "id": "i5vXkaeW5U7Q"
      },
      "outputs": [],
      "source": [
        "from sklearn.model_selection import train_test_split\n",
        "df_train_Word2Vec, df_test_Word2Vec = train_test_split(Rest_rev_vectorized, test_size = 0.15, random_state = 42, shuffle=True)"
      ]
    },
    {
      "cell_type": "code",
      "execution_count": 141,
      "metadata": {
        "id": "ycbYBd1p5jG_"
      },
      "outputs": [],
      "source": [
        "df_train_Word2Vec.reset_index(inplace = True, drop = True)"
      ]
    },
    {
      "cell_type": "code",
      "execution_count": 142,
      "metadata": {
        "id": "n2p5fPFb5jKY"
      },
      "outputs": [],
      "source": [
        "df_test_Word2Vec.reset_index(inplace = True, drop = True)"
      ]
    },
    {
      "cell_type": "code",
      "execution_count": 143,
      "metadata": {
        "colab": {
          "base_uri": "https://localhost:8080/",
          "height": 300
        },
        "id": "olm3CM5bR1Rx",
        "outputId": "7b9156a2-5a84-4cac-83f6-678cfdef413c"
      },
      "outputs": [
        {
          "output_type": "execute_result",
          "data": {
            "text/plain": [
              "          0         1         2         3         4         5         6  \\\n",
              "0  0.008035 -0.003850 -0.003342 -0.000936  0.002266 -0.012516  0.007263   \n",
              "1  0.002690 -0.004097 -0.004989 -0.006400  0.002178 -0.006656  0.004311   \n",
              "2  0.001068  0.003947 -0.009668  0.006664 -0.000325 -0.001463 -0.000720   \n",
              "3 -0.002640  0.003199 -0.003590  0.011966 -0.007213  0.004105 -0.005215   \n",
              "4  0.002872 -0.009333 -0.003300 -0.002693  0.004985 -0.002113 -0.002178   \n",
              "\n",
              "          7         8         9  ...        49        50        51        52  \\\n",
              "0  0.013089 -0.004368 -0.005748  ...  0.009466 -0.007482 -0.001331  0.000221   \n",
              "1  0.001269 -0.004836  0.004008  ...  0.002005  0.003320 -0.002327  0.002139   \n",
              "2  0.008670 -0.008646  0.006421  ... -0.009471 -0.004556 -0.005309  0.004270   \n",
              "3  0.011858 -0.003364  0.001557  ... -0.013450  0.000502 -0.010602 -0.004692   \n",
              "4  0.009453 -0.010559  0.002536  ... -0.003014  0.001767 -0.007506  0.001758   \n",
              "\n",
              "         53        54        55        56        57  Liked  \n",
              "0 -0.009684  0.000273 -0.015466  0.002437 -0.008197  1      \n",
              "1 -0.006671 -0.004935 -0.002321  0.003031 -0.003555  1      \n",
              "2 -0.002787  0.001670 -0.004007  0.004868 -0.002843  0      \n",
              "3 -0.013443  0.007748 -0.003772  0.014131  0.009263  0      \n",
              "4 -0.002654 -0.007285 -0.008916  0.009560 -0.002671  1      \n",
              "\n",
              "[5 rows x 59 columns]"
            ],
            "text/html": [
              "\n",
              "  <div id=\"df-7c7158c1-4f38-4ca1-9d19-dc105f6a4817\">\n",
              "    <div class=\"colab-df-container\">\n",
              "      <div>\n",
              "<style scoped>\n",
              "    .dataframe tbody tr th:only-of-type {\n",
              "        vertical-align: middle;\n",
              "    }\n",
              "\n",
              "    .dataframe tbody tr th {\n",
              "        vertical-align: top;\n",
              "    }\n",
              "\n",
              "    .dataframe thead th {\n",
              "        text-align: right;\n",
              "    }\n",
              "</style>\n",
              "<table border=\"1\" class=\"dataframe\">\n",
              "  <thead>\n",
              "    <tr style=\"text-align: right;\">\n",
              "      <th></th>\n",
              "      <th>0</th>\n",
              "      <th>1</th>\n",
              "      <th>2</th>\n",
              "      <th>3</th>\n",
              "      <th>4</th>\n",
              "      <th>5</th>\n",
              "      <th>6</th>\n",
              "      <th>7</th>\n",
              "      <th>8</th>\n",
              "      <th>9</th>\n",
              "      <th>...</th>\n",
              "      <th>49</th>\n",
              "      <th>50</th>\n",
              "      <th>51</th>\n",
              "      <th>52</th>\n",
              "      <th>53</th>\n",
              "      <th>54</th>\n",
              "      <th>55</th>\n",
              "      <th>56</th>\n",
              "      <th>57</th>\n",
              "      <th>Liked</th>\n",
              "    </tr>\n",
              "  </thead>\n",
              "  <tbody>\n",
              "    <tr>\n",
              "      <th>0</th>\n",
              "      <td>0.008035</td>\n",
              "      <td>-0.003850</td>\n",
              "      <td>-0.003342</td>\n",
              "      <td>-0.000936</td>\n",
              "      <td>0.002266</td>\n",
              "      <td>-0.012516</td>\n",
              "      <td>0.007263</td>\n",
              "      <td>0.013089</td>\n",
              "      <td>-0.004368</td>\n",
              "      <td>-0.005748</td>\n",
              "      <td>...</td>\n",
              "      <td>0.009466</td>\n",
              "      <td>-0.007482</td>\n",
              "      <td>-0.001331</td>\n",
              "      <td>0.000221</td>\n",
              "      <td>-0.009684</td>\n",
              "      <td>0.000273</td>\n",
              "      <td>-0.015466</td>\n",
              "      <td>0.002437</td>\n",
              "      <td>-0.008197</td>\n",
              "      <td>1</td>\n",
              "    </tr>\n",
              "    <tr>\n",
              "      <th>1</th>\n",
              "      <td>0.002690</td>\n",
              "      <td>-0.004097</td>\n",
              "      <td>-0.004989</td>\n",
              "      <td>-0.006400</td>\n",
              "      <td>0.002178</td>\n",
              "      <td>-0.006656</td>\n",
              "      <td>0.004311</td>\n",
              "      <td>0.001269</td>\n",
              "      <td>-0.004836</td>\n",
              "      <td>0.004008</td>\n",
              "      <td>...</td>\n",
              "      <td>0.002005</td>\n",
              "      <td>0.003320</td>\n",
              "      <td>-0.002327</td>\n",
              "      <td>0.002139</td>\n",
              "      <td>-0.006671</td>\n",
              "      <td>-0.004935</td>\n",
              "      <td>-0.002321</td>\n",
              "      <td>0.003031</td>\n",
              "      <td>-0.003555</td>\n",
              "      <td>1</td>\n",
              "    </tr>\n",
              "    <tr>\n",
              "      <th>2</th>\n",
              "      <td>0.001068</td>\n",
              "      <td>0.003947</td>\n",
              "      <td>-0.009668</td>\n",
              "      <td>0.006664</td>\n",
              "      <td>-0.000325</td>\n",
              "      <td>-0.001463</td>\n",
              "      <td>-0.000720</td>\n",
              "      <td>0.008670</td>\n",
              "      <td>-0.008646</td>\n",
              "      <td>0.006421</td>\n",
              "      <td>...</td>\n",
              "      <td>-0.009471</td>\n",
              "      <td>-0.004556</td>\n",
              "      <td>-0.005309</td>\n",
              "      <td>0.004270</td>\n",
              "      <td>-0.002787</td>\n",
              "      <td>0.001670</td>\n",
              "      <td>-0.004007</td>\n",
              "      <td>0.004868</td>\n",
              "      <td>-0.002843</td>\n",
              "      <td>0</td>\n",
              "    </tr>\n",
              "    <tr>\n",
              "      <th>3</th>\n",
              "      <td>-0.002640</td>\n",
              "      <td>0.003199</td>\n",
              "      <td>-0.003590</td>\n",
              "      <td>0.011966</td>\n",
              "      <td>-0.007213</td>\n",
              "      <td>0.004105</td>\n",
              "      <td>-0.005215</td>\n",
              "      <td>0.011858</td>\n",
              "      <td>-0.003364</td>\n",
              "      <td>0.001557</td>\n",
              "      <td>...</td>\n",
              "      <td>-0.013450</td>\n",
              "      <td>0.000502</td>\n",
              "      <td>-0.010602</td>\n",
              "      <td>-0.004692</td>\n",
              "      <td>-0.013443</td>\n",
              "      <td>0.007748</td>\n",
              "      <td>-0.003772</td>\n",
              "      <td>0.014131</td>\n",
              "      <td>0.009263</td>\n",
              "      <td>0</td>\n",
              "    </tr>\n",
              "    <tr>\n",
              "      <th>4</th>\n",
              "      <td>0.002872</td>\n",
              "      <td>-0.009333</td>\n",
              "      <td>-0.003300</td>\n",
              "      <td>-0.002693</td>\n",
              "      <td>0.004985</td>\n",
              "      <td>-0.002113</td>\n",
              "      <td>-0.002178</td>\n",
              "      <td>0.009453</td>\n",
              "      <td>-0.010559</td>\n",
              "      <td>0.002536</td>\n",
              "      <td>...</td>\n",
              "      <td>-0.003014</td>\n",
              "      <td>0.001767</td>\n",
              "      <td>-0.007506</td>\n",
              "      <td>0.001758</td>\n",
              "      <td>-0.002654</td>\n",
              "      <td>-0.007285</td>\n",
              "      <td>-0.008916</td>\n",
              "      <td>0.009560</td>\n",
              "      <td>-0.002671</td>\n",
              "      <td>1</td>\n",
              "    </tr>\n",
              "  </tbody>\n",
              "</table>\n",
              "<p>5 rows × 59 columns</p>\n",
              "</div>\n",
              "      <button class=\"colab-df-convert\" onclick=\"convertToInteractive('df-7c7158c1-4f38-4ca1-9d19-dc105f6a4817')\"\n",
              "              title=\"Convert this dataframe to an interactive table.\"\n",
              "              style=\"display:none;\">\n",
              "        \n",
              "  <svg xmlns=\"http://www.w3.org/2000/svg\" height=\"24px\"viewBox=\"0 0 24 24\"\n",
              "       width=\"24px\">\n",
              "    <path d=\"M0 0h24v24H0V0z\" fill=\"none\"/>\n",
              "    <path d=\"M18.56 5.44l.94 2.06.94-2.06 2.06-.94-2.06-.94-.94-2.06-.94 2.06-2.06.94zm-11 1L8.5 8.5l.94-2.06 2.06-.94-2.06-.94L8.5 2.5l-.94 2.06-2.06.94zm10 10l.94 2.06.94-2.06 2.06-.94-2.06-.94-.94-2.06-.94 2.06-2.06.94z\"/><path d=\"M17.41 7.96l-1.37-1.37c-.4-.4-.92-.59-1.43-.59-.52 0-1.04.2-1.43.59L10.3 9.45l-7.72 7.72c-.78.78-.78 2.05 0 2.83L4 21.41c.39.39.9.59 1.41.59.51 0 1.02-.2 1.41-.59l7.78-7.78 2.81-2.81c.8-.78.8-2.07 0-2.86zM5.41 20L4 18.59l7.72-7.72 1.47 1.35L5.41 20z\"/>\n",
              "  </svg>\n",
              "      </button>\n",
              "      \n",
              "  <style>\n",
              "    .colab-df-container {\n",
              "      display:flex;\n",
              "      flex-wrap:wrap;\n",
              "      gap: 12px;\n",
              "    }\n",
              "\n",
              "    .colab-df-convert {\n",
              "      background-color: #E8F0FE;\n",
              "      border: none;\n",
              "      border-radius: 50%;\n",
              "      cursor: pointer;\n",
              "      display: none;\n",
              "      fill: #1967D2;\n",
              "      height: 32px;\n",
              "      padding: 0 0 0 0;\n",
              "      width: 32px;\n",
              "    }\n",
              "\n",
              "    .colab-df-convert:hover {\n",
              "      background-color: #E2EBFA;\n",
              "      box-shadow: 0px 1px 2px rgba(60, 64, 67, 0.3), 0px 1px 3px 1px rgba(60, 64, 67, 0.15);\n",
              "      fill: #174EA6;\n",
              "    }\n",
              "\n",
              "    [theme=dark] .colab-df-convert {\n",
              "      background-color: #3B4455;\n",
              "      fill: #D2E3FC;\n",
              "    }\n",
              "\n",
              "    [theme=dark] .colab-df-convert:hover {\n",
              "      background-color: #434B5C;\n",
              "      box-shadow: 0px 1px 3px 1px rgba(0, 0, 0, 0.15);\n",
              "      filter: drop-shadow(0px 1px 2px rgba(0, 0, 0, 0.3));\n",
              "      fill: #FFFFFF;\n",
              "    }\n",
              "  </style>\n",
              "\n",
              "      <script>\n",
              "        const buttonEl =\n",
              "          document.querySelector('#df-7c7158c1-4f38-4ca1-9d19-dc105f6a4817 button.colab-df-convert');\n",
              "        buttonEl.style.display =\n",
              "          google.colab.kernel.accessAllowed ? 'block' : 'none';\n",
              "\n",
              "        async function convertToInteractive(key) {\n",
              "          const element = document.querySelector('#df-7c7158c1-4f38-4ca1-9d19-dc105f6a4817');\n",
              "          const dataTable =\n",
              "            await google.colab.kernel.invokeFunction('convertToInteractive',\n",
              "                                                     [key], {});\n",
              "          if (!dataTable) return;\n",
              "\n",
              "          const docLinkHtml = 'Like what you see? Visit the ' +\n",
              "            '<a target=\"_blank\" href=https://colab.research.google.com/notebooks/data_table.ipynb>data table notebook</a>'\n",
              "            + ' to learn more about interactive tables.';\n",
              "          element.innerHTML = '';\n",
              "          dataTable['output_type'] = 'display_data';\n",
              "          await google.colab.output.renderOutput(dataTable, element);\n",
              "          const docLink = document.createElement('div');\n",
              "          docLink.innerHTML = docLinkHtml;\n",
              "          element.appendChild(docLink);\n",
              "        }\n",
              "      </script>\n",
              "    </div>\n",
              "  </div>\n",
              "  "
            ]
          },
          "metadata": {},
          "execution_count": 143
        }
      ],
      "source": [
        "df_train_Word2Vec.head()"
      ]
    },
    {
      "cell_type": "code",
      "execution_count": 144,
      "metadata": {
        "colab": {
          "base_uri": "https://localhost:8080/",
          "height": 300
        },
        "id": "9cvlFwiPQpHR",
        "outputId": "60a98b7d-4576-4909-eb07-3a7a7ba42fa8"
      },
      "outputs": [
        {
          "output_type": "execute_result",
          "data": {
            "text/plain": [
              "          0         1         2         3         4         5         6  \\\n",
              "0  0.009019  0.015043 -0.001697  0.003527  0.004379 -0.004334 -0.001727   \n",
              "1  0.003830  0.007007 -0.003462 -0.013122  0.013055 -0.005710 -0.003722   \n",
              "2 -0.005493  0.007423 -0.009414 -0.001704  0.004094  0.002563  0.000903   \n",
              "3 -0.001423  0.001791 -0.011134  0.006362  0.007273  0.003615  0.008489   \n",
              "4  0.000536  0.009768 -0.010319  0.001572 -0.000409 -0.007702 -0.007633   \n",
              "\n",
              "          7         8         9  ...        49        50        51        52  \\\n",
              "0  0.017681 -0.005322  0.007757  ... -0.003315  0.016576  0.003404 -0.016255   \n",
              "1  0.008124 -0.001790 -0.011298  ...  0.005368  0.007101 -0.007117  0.002455   \n",
              "2  0.008062 -0.009580  0.018646  ...  0.004868  0.008023 -0.001219  0.006014   \n",
              "3  0.003788 -0.013533  0.006854  ...  0.006743  0.004705  0.001386  0.010047   \n",
              "4 -0.001926 -0.008482  0.005568  ... -0.004592  0.004905 -0.004906  0.000526   \n",
              "\n",
              "         53        54        55        56        57  Liked  \n",
              "0 -0.006841 -0.010042  0.003220 -0.004463  0.008135  0      \n",
              "1 -0.010168  0.011496 -0.009973  0.013363 -0.000836  1      \n",
              "2 -0.001435 -0.006654  0.002052  0.004817 -0.005159  1      \n",
              "3 -0.007717 -0.004867  0.002452  0.010315 -0.000554  1      \n",
              "4 -0.007790 -0.001776 -0.008898  0.015796  0.007979  0      \n",
              "\n",
              "[5 rows x 59 columns]"
            ],
            "text/html": [
              "\n",
              "  <div id=\"df-286fe0a2-7107-458b-98bc-42834af3b202\">\n",
              "    <div class=\"colab-df-container\">\n",
              "      <div>\n",
              "<style scoped>\n",
              "    .dataframe tbody tr th:only-of-type {\n",
              "        vertical-align: middle;\n",
              "    }\n",
              "\n",
              "    .dataframe tbody tr th {\n",
              "        vertical-align: top;\n",
              "    }\n",
              "\n",
              "    .dataframe thead th {\n",
              "        text-align: right;\n",
              "    }\n",
              "</style>\n",
              "<table border=\"1\" class=\"dataframe\">\n",
              "  <thead>\n",
              "    <tr style=\"text-align: right;\">\n",
              "      <th></th>\n",
              "      <th>0</th>\n",
              "      <th>1</th>\n",
              "      <th>2</th>\n",
              "      <th>3</th>\n",
              "      <th>4</th>\n",
              "      <th>5</th>\n",
              "      <th>6</th>\n",
              "      <th>7</th>\n",
              "      <th>8</th>\n",
              "      <th>9</th>\n",
              "      <th>...</th>\n",
              "      <th>49</th>\n",
              "      <th>50</th>\n",
              "      <th>51</th>\n",
              "      <th>52</th>\n",
              "      <th>53</th>\n",
              "      <th>54</th>\n",
              "      <th>55</th>\n",
              "      <th>56</th>\n",
              "      <th>57</th>\n",
              "      <th>Liked</th>\n",
              "    </tr>\n",
              "  </thead>\n",
              "  <tbody>\n",
              "    <tr>\n",
              "      <th>0</th>\n",
              "      <td>0.009019</td>\n",
              "      <td>0.015043</td>\n",
              "      <td>-0.001697</td>\n",
              "      <td>0.003527</td>\n",
              "      <td>0.004379</td>\n",
              "      <td>-0.004334</td>\n",
              "      <td>-0.001727</td>\n",
              "      <td>0.017681</td>\n",
              "      <td>-0.005322</td>\n",
              "      <td>0.007757</td>\n",
              "      <td>...</td>\n",
              "      <td>-0.003315</td>\n",
              "      <td>0.016576</td>\n",
              "      <td>0.003404</td>\n",
              "      <td>-0.016255</td>\n",
              "      <td>-0.006841</td>\n",
              "      <td>-0.010042</td>\n",
              "      <td>0.003220</td>\n",
              "      <td>-0.004463</td>\n",
              "      <td>0.008135</td>\n",
              "      <td>0</td>\n",
              "    </tr>\n",
              "    <tr>\n",
              "      <th>1</th>\n",
              "      <td>0.003830</td>\n",
              "      <td>0.007007</td>\n",
              "      <td>-0.003462</td>\n",
              "      <td>-0.013122</td>\n",
              "      <td>0.013055</td>\n",
              "      <td>-0.005710</td>\n",
              "      <td>-0.003722</td>\n",
              "      <td>0.008124</td>\n",
              "      <td>-0.001790</td>\n",
              "      <td>-0.011298</td>\n",
              "      <td>...</td>\n",
              "      <td>0.005368</td>\n",
              "      <td>0.007101</td>\n",
              "      <td>-0.007117</td>\n",
              "      <td>0.002455</td>\n",
              "      <td>-0.010168</td>\n",
              "      <td>0.011496</td>\n",
              "      <td>-0.009973</td>\n",
              "      <td>0.013363</td>\n",
              "      <td>-0.000836</td>\n",
              "      <td>1</td>\n",
              "    </tr>\n",
              "    <tr>\n",
              "      <th>2</th>\n",
              "      <td>-0.005493</td>\n",
              "      <td>0.007423</td>\n",
              "      <td>-0.009414</td>\n",
              "      <td>-0.001704</td>\n",
              "      <td>0.004094</td>\n",
              "      <td>0.002563</td>\n",
              "      <td>0.000903</td>\n",
              "      <td>0.008062</td>\n",
              "      <td>-0.009580</td>\n",
              "      <td>0.018646</td>\n",
              "      <td>...</td>\n",
              "      <td>0.004868</td>\n",
              "      <td>0.008023</td>\n",
              "      <td>-0.001219</td>\n",
              "      <td>0.006014</td>\n",
              "      <td>-0.001435</td>\n",
              "      <td>-0.006654</td>\n",
              "      <td>0.002052</td>\n",
              "      <td>0.004817</td>\n",
              "      <td>-0.005159</td>\n",
              "      <td>1</td>\n",
              "    </tr>\n",
              "    <tr>\n",
              "      <th>3</th>\n",
              "      <td>-0.001423</td>\n",
              "      <td>0.001791</td>\n",
              "      <td>-0.011134</td>\n",
              "      <td>0.006362</td>\n",
              "      <td>0.007273</td>\n",
              "      <td>0.003615</td>\n",
              "      <td>0.008489</td>\n",
              "      <td>0.003788</td>\n",
              "      <td>-0.013533</td>\n",
              "      <td>0.006854</td>\n",
              "      <td>...</td>\n",
              "      <td>0.006743</td>\n",
              "      <td>0.004705</td>\n",
              "      <td>0.001386</td>\n",
              "      <td>0.010047</td>\n",
              "      <td>-0.007717</td>\n",
              "      <td>-0.004867</td>\n",
              "      <td>0.002452</td>\n",
              "      <td>0.010315</td>\n",
              "      <td>-0.000554</td>\n",
              "      <td>1</td>\n",
              "    </tr>\n",
              "    <tr>\n",
              "      <th>4</th>\n",
              "      <td>0.000536</td>\n",
              "      <td>0.009768</td>\n",
              "      <td>-0.010319</td>\n",
              "      <td>0.001572</td>\n",
              "      <td>-0.000409</td>\n",
              "      <td>-0.007702</td>\n",
              "      <td>-0.007633</td>\n",
              "      <td>-0.001926</td>\n",
              "      <td>-0.008482</td>\n",
              "      <td>0.005568</td>\n",
              "      <td>...</td>\n",
              "      <td>-0.004592</td>\n",
              "      <td>0.004905</td>\n",
              "      <td>-0.004906</td>\n",
              "      <td>0.000526</td>\n",
              "      <td>-0.007790</td>\n",
              "      <td>-0.001776</td>\n",
              "      <td>-0.008898</td>\n",
              "      <td>0.015796</td>\n",
              "      <td>0.007979</td>\n",
              "      <td>0</td>\n",
              "    </tr>\n",
              "  </tbody>\n",
              "</table>\n",
              "<p>5 rows × 59 columns</p>\n",
              "</div>\n",
              "      <button class=\"colab-df-convert\" onclick=\"convertToInteractive('df-286fe0a2-7107-458b-98bc-42834af3b202')\"\n",
              "              title=\"Convert this dataframe to an interactive table.\"\n",
              "              style=\"display:none;\">\n",
              "        \n",
              "  <svg xmlns=\"http://www.w3.org/2000/svg\" height=\"24px\"viewBox=\"0 0 24 24\"\n",
              "       width=\"24px\">\n",
              "    <path d=\"M0 0h24v24H0V0z\" fill=\"none\"/>\n",
              "    <path d=\"M18.56 5.44l.94 2.06.94-2.06 2.06-.94-2.06-.94-.94-2.06-.94 2.06-2.06.94zm-11 1L8.5 8.5l.94-2.06 2.06-.94-2.06-.94L8.5 2.5l-.94 2.06-2.06.94zm10 10l.94 2.06.94-2.06 2.06-.94-2.06-.94-.94-2.06-.94 2.06-2.06.94z\"/><path d=\"M17.41 7.96l-1.37-1.37c-.4-.4-.92-.59-1.43-.59-.52 0-1.04.2-1.43.59L10.3 9.45l-7.72 7.72c-.78.78-.78 2.05 0 2.83L4 21.41c.39.39.9.59 1.41.59.51 0 1.02-.2 1.41-.59l7.78-7.78 2.81-2.81c.8-.78.8-2.07 0-2.86zM5.41 20L4 18.59l7.72-7.72 1.47 1.35L5.41 20z\"/>\n",
              "  </svg>\n",
              "      </button>\n",
              "      \n",
              "  <style>\n",
              "    .colab-df-container {\n",
              "      display:flex;\n",
              "      flex-wrap:wrap;\n",
              "      gap: 12px;\n",
              "    }\n",
              "\n",
              "    .colab-df-convert {\n",
              "      background-color: #E8F0FE;\n",
              "      border: none;\n",
              "      border-radius: 50%;\n",
              "      cursor: pointer;\n",
              "      display: none;\n",
              "      fill: #1967D2;\n",
              "      height: 32px;\n",
              "      padding: 0 0 0 0;\n",
              "      width: 32px;\n",
              "    }\n",
              "\n",
              "    .colab-df-convert:hover {\n",
              "      background-color: #E2EBFA;\n",
              "      box-shadow: 0px 1px 2px rgba(60, 64, 67, 0.3), 0px 1px 3px 1px rgba(60, 64, 67, 0.15);\n",
              "      fill: #174EA6;\n",
              "    }\n",
              "\n",
              "    [theme=dark] .colab-df-convert {\n",
              "      background-color: #3B4455;\n",
              "      fill: #D2E3FC;\n",
              "    }\n",
              "\n",
              "    [theme=dark] .colab-df-convert:hover {\n",
              "      background-color: #434B5C;\n",
              "      box-shadow: 0px 1px 3px 1px rgba(0, 0, 0, 0.15);\n",
              "      filter: drop-shadow(0px 1px 2px rgba(0, 0, 0, 0.3));\n",
              "      fill: #FFFFFF;\n",
              "    }\n",
              "  </style>\n",
              "\n",
              "      <script>\n",
              "        const buttonEl =\n",
              "          document.querySelector('#df-286fe0a2-7107-458b-98bc-42834af3b202 button.colab-df-convert');\n",
              "        buttonEl.style.display =\n",
              "          google.colab.kernel.accessAllowed ? 'block' : 'none';\n",
              "\n",
              "        async function convertToInteractive(key) {\n",
              "          const element = document.querySelector('#df-286fe0a2-7107-458b-98bc-42834af3b202');\n",
              "          const dataTable =\n",
              "            await google.colab.kernel.invokeFunction('convertToInteractive',\n",
              "                                                     [key], {});\n",
              "          if (!dataTable) return;\n",
              "\n",
              "          const docLinkHtml = 'Like what you see? Visit the ' +\n",
              "            '<a target=\"_blank\" href=https://colab.research.google.com/notebooks/data_table.ipynb>data table notebook</a>'\n",
              "            + ' to learn more about interactive tables.';\n",
              "          element.innerHTML = '';\n",
              "          dataTable['output_type'] = 'display_data';\n",
              "          await google.colab.output.renderOutput(dataTable, element);\n",
              "          const docLink = document.createElement('div');\n",
              "          docLink.innerHTML = docLinkHtml;\n",
              "          element.appendChild(docLink);\n",
              "        }\n",
              "      </script>\n",
              "    </div>\n",
              "  </div>\n",
              "  "
            ]
          },
          "metadata": {},
          "execution_count": 144
        }
      ],
      "source": [
        "df_test_Word2Vec.head()"
      ]
    },
    {
      "cell_type": "markdown",
      "metadata": {
        "id": "-64CzEE8fN4i"
      },
      "source": [
        "Implementing **MinMaxScaler** to scale the document vectors to the range of 0 to 1."
      ]
    },
    {
      "cell_type": "code",
      "execution_count": 145,
      "metadata": {
        "id": "PMoY1GkQq5z_"
      },
      "outputs": [],
      "source": [
        "from sklearn.preprocessing import MinMaxScaler"
      ]
    },
    {
      "cell_type": "code",
      "execution_count": 146,
      "metadata": {
        "id": "BIOin0ih1acU"
      },
      "outputs": [],
      "source": [
        "scaling = MinMaxScaler()"
      ]
    },
    {
      "cell_type": "code",
      "execution_count": 147,
      "metadata": {
        "id": "4wCZPC5q1afl"
      },
      "outputs": [],
      "source": [
        "X_train_scaled = scaling.fit_transform(df_train_Word2Vec.iloc[:,:-1])"
      ]
    },
    {
      "cell_type": "code",
      "execution_count": 148,
      "metadata": {
        "colab": {
          "base_uri": "https://localhost:8080/"
        },
        "id": "AjXtoUSn2aPi",
        "outputId": "4782543b-0655-4353-c794-87bb2822a92a"
      },
      "outputs": [
        {
          "output_type": "execute_result",
          "data": {
            "text/plain": [
              "array([[0.72482223, 0.32923621, 0.46158962, ..., 0.22105675, 0.47961401,\n",
              "        0.19626772],\n",
              "       [0.566062  , 0.32118085, 0.4150962 , ..., 0.54381128, 0.49579445,\n",
              "        0.33758311],\n",
              "       [0.51790409, 0.58373054, 0.28304736, ..., 0.5024264 , 0.54581806,\n",
              "        0.35926786],\n",
              "       ...,\n",
              "       [0.59761232, 0.61961108, 0.38828027, ..., 0.52590496, 0.45972414,\n",
              "        0.38627663],\n",
              "       [0.6586812 , 0.47895685, 0.33018522, ..., 0.47997096, 0.51753602,\n",
              "        0.6012719 ],\n",
              "       [0.15488892, 0.46586378, 0.41969748, ..., 0.42398501, 0.52662433,\n",
              "        0.8685595 ]])"
            ]
          },
          "metadata": {},
          "execution_count": 148
        }
      ],
      "source": [
        "X_train_scaled"
      ]
    },
    {
      "cell_type": "code",
      "execution_count": 149,
      "metadata": {
        "id": "WBlxYGSW2aTG"
      },
      "outputs": [],
      "source": [
        "X_train = pd.DataFrame(X_train_scaled, columns=df_train_Word2Vec.iloc[:,:-1].columns)"
      ]
    },
    {
      "cell_type": "code",
      "execution_count": 150,
      "metadata": {
        "colab": {
          "base_uri": "https://localhost:8080/",
          "height": 394
        },
        "id": "E5zaVlLY2mVi",
        "outputId": "a56aa096-2c8a-4dea-b4bf-82539573bc62"
      },
      "outputs": [
        {
          "output_type": "execute_result",
          "data": {
            "text/plain": [
              "                0           1           2           3           4           5  \\\n",
              "count  837.000000  837.000000  837.000000  837.000000  837.000000  837.000000   \n",
              "mean   0.496872    0.493598    0.468348    0.468938    0.516338    0.474034     \n",
              "std    0.168740    0.177831    0.158143    0.153983    0.160608    0.174158     \n",
              "min    0.000000    0.000000    0.000000    0.000000    0.000000    0.000000     \n",
              "25%    0.390073    0.382882    0.368631    0.378306    0.417578    0.359413     \n",
              "50%    0.497629    0.485849    0.465010    0.465246    0.515865    0.480111     \n",
              "75%    0.596521    0.599582    0.566755    0.557492    0.613033    0.577570     \n",
              "max    1.000000    1.000000    1.000000    1.000000    1.000000    1.000000     \n",
              "\n",
              "                6           7           8           9  ...          48  \\\n",
              "count  837.000000  837.000000  837.000000  837.000000  ...  837.000000   \n",
              "mean   0.498232    0.501904    0.489747    0.516379    ...  0.510181     \n",
              "std    0.158857    0.146087    0.143182    0.163636    ...  0.166533     \n",
              "min    0.000000    0.000000    0.000000    0.000000    ...  0.000000     \n",
              "25%    0.392128    0.413490    0.404268    0.412455    ...  0.409262     \n",
              "50%    0.501487    0.503466    0.489545    0.521421    ...  0.508502     \n",
              "75%    0.597475    0.590813    0.577991    0.622325    ...  0.613577     \n",
              "max    1.000000    1.000000    1.000000    1.000000    ...  1.000000     \n",
              "\n",
              "               49          50          51          52          53          54  \\\n",
              "count  837.000000  837.000000  837.000000  837.000000  837.000000  837.000000   \n",
              "mean   0.510844    0.508875    0.479678    0.523081    0.486549    0.436878     \n",
              "std    0.163241    0.178770    0.151033    0.178777    0.153046    0.170467     \n",
              "min    0.000000    0.000000    0.000000    0.000000    0.000000    0.000000     \n",
              "25%    0.417292    0.400690    0.389713    0.411120    0.391890    0.325690     \n",
              "50%    0.509642    0.514596    0.477151    0.527611    0.493305    0.433220     \n",
              "75%    0.603407    0.616123    0.567242    0.634739    0.589073    0.540080     \n",
              "max    1.000000    1.000000    1.000000    1.000000    1.000000    1.000000     \n",
              "\n",
              "               55          56          57  \n",
              "count  837.000000  837.000000  837.000000  \n",
              "mean   0.498500    0.574280    0.486556    \n",
              "std    0.139402    0.163905    0.171119    \n",
              "min    0.000000    0.000000    0.000000    \n",
              "25%    0.408025    0.475682    0.372150    \n",
              "50%    0.499580    0.573676    0.486139    \n",
              "75%    0.586832    0.682147    0.593303    \n",
              "max    1.000000    1.000000    1.000000    \n",
              "\n",
              "[8 rows x 58 columns]"
            ],
            "text/html": [
              "\n",
              "  <div id=\"df-6051ac34-57d7-40e0-ab77-47c4783c8d87\">\n",
              "    <div class=\"colab-df-container\">\n",
              "      <div>\n",
              "<style scoped>\n",
              "    .dataframe tbody tr th:only-of-type {\n",
              "        vertical-align: middle;\n",
              "    }\n",
              "\n",
              "    .dataframe tbody tr th {\n",
              "        vertical-align: top;\n",
              "    }\n",
              "\n",
              "    .dataframe thead th {\n",
              "        text-align: right;\n",
              "    }\n",
              "</style>\n",
              "<table border=\"1\" class=\"dataframe\">\n",
              "  <thead>\n",
              "    <tr style=\"text-align: right;\">\n",
              "      <th></th>\n",
              "      <th>0</th>\n",
              "      <th>1</th>\n",
              "      <th>2</th>\n",
              "      <th>3</th>\n",
              "      <th>4</th>\n",
              "      <th>5</th>\n",
              "      <th>6</th>\n",
              "      <th>7</th>\n",
              "      <th>8</th>\n",
              "      <th>9</th>\n",
              "      <th>...</th>\n",
              "      <th>48</th>\n",
              "      <th>49</th>\n",
              "      <th>50</th>\n",
              "      <th>51</th>\n",
              "      <th>52</th>\n",
              "      <th>53</th>\n",
              "      <th>54</th>\n",
              "      <th>55</th>\n",
              "      <th>56</th>\n",
              "      <th>57</th>\n",
              "    </tr>\n",
              "  </thead>\n",
              "  <tbody>\n",
              "    <tr>\n",
              "      <th>count</th>\n",
              "      <td>837.000000</td>\n",
              "      <td>837.000000</td>\n",
              "      <td>837.000000</td>\n",
              "      <td>837.000000</td>\n",
              "      <td>837.000000</td>\n",
              "      <td>837.000000</td>\n",
              "      <td>837.000000</td>\n",
              "      <td>837.000000</td>\n",
              "      <td>837.000000</td>\n",
              "      <td>837.000000</td>\n",
              "      <td>...</td>\n",
              "      <td>837.000000</td>\n",
              "      <td>837.000000</td>\n",
              "      <td>837.000000</td>\n",
              "      <td>837.000000</td>\n",
              "      <td>837.000000</td>\n",
              "      <td>837.000000</td>\n",
              "      <td>837.000000</td>\n",
              "      <td>837.000000</td>\n",
              "      <td>837.000000</td>\n",
              "      <td>837.000000</td>\n",
              "    </tr>\n",
              "    <tr>\n",
              "      <th>mean</th>\n",
              "      <td>0.496872</td>\n",
              "      <td>0.493598</td>\n",
              "      <td>0.468348</td>\n",
              "      <td>0.468938</td>\n",
              "      <td>0.516338</td>\n",
              "      <td>0.474034</td>\n",
              "      <td>0.498232</td>\n",
              "      <td>0.501904</td>\n",
              "      <td>0.489747</td>\n",
              "      <td>0.516379</td>\n",
              "      <td>...</td>\n",
              "      <td>0.510181</td>\n",
              "      <td>0.510844</td>\n",
              "      <td>0.508875</td>\n",
              "      <td>0.479678</td>\n",
              "      <td>0.523081</td>\n",
              "      <td>0.486549</td>\n",
              "      <td>0.436878</td>\n",
              "      <td>0.498500</td>\n",
              "      <td>0.574280</td>\n",
              "      <td>0.486556</td>\n",
              "    </tr>\n",
              "    <tr>\n",
              "      <th>std</th>\n",
              "      <td>0.168740</td>\n",
              "      <td>0.177831</td>\n",
              "      <td>0.158143</td>\n",
              "      <td>0.153983</td>\n",
              "      <td>0.160608</td>\n",
              "      <td>0.174158</td>\n",
              "      <td>0.158857</td>\n",
              "      <td>0.146087</td>\n",
              "      <td>0.143182</td>\n",
              "      <td>0.163636</td>\n",
              "      <td>...</td>\n",
              "      <td>0.166533</td>\n",
              "      <td>0.163241</td>\n",
              "      <td>0.178770</td>\n",
              "      <td>0.151033</td>\n",
              "      <td>0.178777</td>\n",
              "      <td>0.153046</td>\n",
              "      <td>0.170467</td>\n",
              "      <td>0.139402</td>\n",
              "      <td>0.163905</td>\n",
              "      <td>0.171119</td>\n",
              "    </tr>\n",
              "    <tr>\n",
              "      <th>min</th>\n",
              "      <td>0.000000</td>\n",
              "      <td>0.000000</td>\n",
              "      <td>0.000000</td>\n",
              "      <td>0.000000</td>\n",
              "      <td>0.000000</td>\n",
              "      <td>0.000000</td>\n",
              "      <td>0.000000</td>\n",
              "      <td>0.000000</td>\n",
              "      <td>0.000000</td>\n",
              "      <td>0.000000</td>\n",
              "      <td>...</td>\n",
              "      <td>0.000000</td>\n",
              "      <td>0.000000</td>\n",
              "      <td>0.000000</td>\n",
              "      <td>0.000000</td>\n",
              "      <td>0.000000</td>\n",
              "      <td>0.000000</td>\n",
              "      <td>0.000000</td>\n",
              "      <td>0.000000</td>\n",
              "      <td>0.000000</td>\n",
              "      <td>0.000000</td>\n",
              "    </tr>\n",
              "    <tr>\n",
              "      <th>25%</th>\n",
              "      <td>0.390073</td>\n",
              "      <td>0.382882</td>\n",
              "      <td>0.368631</td>\n",
              "      <td>0.378306</td>\n",
              "      <td>0.417578</td>\n",
              "      <td>0.359413</td>\n",
              "      <td>0.392128</td>\n",
              "      <td>0.413490</td>\n",
              "      <td>0.404268</td>\n",
              "      <td>0.412455</td>\n",
              "      <td>...</td>\n",
              "      <td>0.409262</td>\n",
              "      <td>0.417292</td>\n",
              "      <td>0.400690</td>\n",
              "      <td>0.389713</td>\n",
              "      <td>0.411120</td>\n",
              "      <td>0.391890</td>\n",
              "      <td>0.325690</td>\n",
              "      <td>0.408025</td>\n",
              "      <td>0.475682</td>\n",
              "      <td>0.372150</td>\n",
              "    </tr>\n",
              "    <tr>\n",
              "      <th>50%</th>\n",
              "      <td>0.497629</td>\n",
              "      <td>0.485849</td>\n",
              "      <td>0.465010</td>\n",
              "      <td>0.465246</td>\n",
              "      <td>0.515865</td>\n",
              "      <td>0.480111</td>\n",
              "      <td>0.501487</td>\n",
              "      <td>0.503466</td>\n",
              "      <td>0.489545</td>\n",
              "      <td>0.521421</td>\n",
              "      <td>...</td>\n",
              "      <td>0.508502</td>\n",
              "      <td>0.509642</td>\n",
              "      <td>0.514596</td>\n",
              "      <td>0.477151</td>\n",
              "      <td>0.527611</td>\n",
              "      <td>0.493305</td>\n",
              "      <td>0.433220</td>\n",
              "      <td>0.499580</td>\n",
              "      <td>0.573676</td>\n",
              "      <td>0.486139</td>\n",
              "    </tr>\n",
              "    <tr>\n",
              "      <th>75%</th>\n",
              "      <td>0.596521</td>\n",
              "      <td>0.599582</td>\n",
              "      <td>0.566755</td>\n",
              "      <td>0.557492</td>\n",
              "      <td>0.613033</td>\n",
              "      <td>0.577570</td>\n",
              "      <td>0.597475</td>\n",
              "      <td>0.590813</td>\n",
              "      <td>0.577991</td>\n",
              "      <td>0.622325</td>\n",
              "      <td>...</td>\n",
              "      <td>0.613577</td>\n",
              "      <td>0.603407</td>\n",
              "      <td>0.616123</td>\n",
              "      <td>0.567242</td>\n",
              "      <td>0.634739</td>\n",
              "      <td>0.589073</td>\n",
              "      <td>0.540080</td>\n",
              "      <td>0.586832</td>\n",
              "      <td>0.682147</td>\n",
              "      <td>0.593303</td>\n",
              "    </tr>\n",
              "    <tr>\n",
              "      <th>max</th>\n",
              "      <td>1.000000</td>\n",
              "      <td>1.000000</td>\n",
              "      <td>1.000000</td>\n",
              "      <td>1.000000</td>\n",
              "      <td>1.000000</td>\n",
              "      <td>1.000000</td>\n",
              "      <td>1.000000</td>\n",
              "      <td>1.000000</td>\n",
              "      <td>1.000000</td>\n",
              "      <td>1.000000</td>\n",
              "      <td>...</td>\n",
              "      <td>1.000000</td>\n",
              "      <td>1.000000</td>\n",
              "      <td>1.000000</td>\n",
              "      <td>1.000000</td>\n",
              "      <td>1.000000</td>\n",
              "      <td>1.000000</td>\n",
              "      <td>1.000000</td>\n",
              "      <td>1.000000</td>\n",
              "      <td>1.000000</td>\n",
              "      <td>1.000000</td>\n",
              "    </tr>\n",
              "  </tbody>\n",
              "</table>\n",
              "<p>8 rows × 58 columns</p>\n",
              "</div>\n",
              "      <button class=\"colab-df-convert\" onclick=\"convertToInteractive('df-6051ac34-57d7-40e0-ab77-47c4783c8d87')\"\n",
              "              title=\"Convert this dataframe to an interactive table.\"\n",
              "              style=\"display:none;\">\n",
              "        \n",
              "  <svg xmlns=\"http://www.w3.org/2000/svg\" height=\"24px\"viewBox=\"0 0 24 24\"\n",
              "       width=\"24px\">\n",
              "    <path d=\"M0 0h24v24H0V0z\" fill=\"none\"/>\n",
              "    <path d=\"M18.56 5.44l.94 2.06.94-2.06 2.06-.94-2.06-.94-.94-2.06-.94 2.06-2.06.94zm-11 1L8.5 8.5l.94-2.06 2.06-.94-2.06-.94L8.5 2.5l-.94 2.06-2.06.94zm10 10l.94 2.06.94-2.06 2.06-.94-2.06-.94-.94-2.06-.94 2.06-2.06.94z\"/><path d=\"M17.41 7.96l-1.37-1.37c-.4-.4-.92-.59-1.43-.59-.52 0-1.04.2-1.43.59L10.3 9.45l-7.72 7.72c-.78.78-.78 2.05 0 2.83L4 21.41c.39.39.9.59 1.41.59.51 0 1.02-.2 1.41-.59l7.78-7.78 2.81-2.81c.8-.78.8-2.07 0-2.86zM5.41 20L4 18.59l7.72-7.72 1.47 1.35L5.41 20z\"/>\n",
              "  </svg>\n",
              "      </button>\n",
              "      \n",
              "  <style>\n",
              "    .colab-df-container {\n",
              "      display:flex;\n",
              "      flex-wrap:wrap;\n",
              "      gap: 12px;\n",
              "    }\n",
              "\n",
              "    .colab-df-convert {\n",
              "      background-color: #E8F0FE;\n",
              "      border: none;\n",
              "      border-radius: 50%;\n",
              "      cursor: pointer;\n",
              "      display: none;\n",
              "      fill: #1967D2;\n",
              "      height: 32px;\n",
              "      padding: 0 0 0 0;\n",
              "      width: 32px;\n",
              "    }\n",
              "\n",
              "    .colab-df-convert:hover {\n",
              "      background-color: #E2EBFA;\n",
              "      box-shadow: 0px 1px 2px rgba(60, 64, 67, 0.3), 0px 1px 3px 1px rgba(60, 64, 67, 0.15);\n",
              "      fill: #174EA6;\n",
              "    }\n",
              "\n",
              "    [theme=dark] .colab-df-convert {\n",
              "      background-color: #3B4455;\n",
              "      fill: #D2E3FC;\n",
              "    }\n",
              "\n",
              "    [theme=dark] .colab-df-convert:hover {\n",
              "      background-color: #434B5C;\n",
              "      box-shadow: 0px 1px 3px 1px rgba(0, 0, 0, 0.15);\n",
              "      filter: drop-shadow(0px 1px 2px rgba(0, 0, 0, 0.3));\n",
              "      fill: #FFFFFF;\n",
              "    }\n",
              "  </style>\n",
              "\n",
              "      <script>\n",
              "        const buttonEl =\n",
              "          document.querySelector('#df-6051ac34-57d7-40e0-ab77-47c4783c8d87 button.colab-df-convert');\n",
              "        buttonEl.style.display =\n",
              "          google.colab.kernel.accessAllowed ? 'block' : 'none';\n",
              "\n",
              "        async function convertToInteractive(key) {\n",
              "          const element = document.querySelector('#df-6051ac34-57d7-40e0-ab77-47c4783c8d87');\n",
              "          const dataTable =\n",
              "            await google.colab.kernel.invokeFunction('convertToInteractive',\n",
              "                                                     [key], {});\n",
              "          if (!dataTable) return;\n",
              "\n",
              "          const docLinkHtml = 'Like what you see? Visit the ' +\n",
              "            '<a target=\"_blank\" href=https://colab.research.google.com/notebooks/data_table.ipynb>data table notebook</a>'\n",
              "            + ' to learn more about interactive tables.';\n",
              "          element.innerHTML = '';\n",
              "          dataTable['output_type'] = 'display_data';\n",
              "          await google.colab.output.renderOutput(dataTable, element);\n",
              "          const docLink = document.createElement('div');\n",
              "          docLink.innerHTML = docLinkHtml;\n",
              "          element.appendChild(docLink);\n",
              "        }\n",
              "      </script>\n",
              "    </div>\n",
              "  </div>\n",
              "  "
            ]
          },
          "metadata": {},
          "execution_count": 150
        }
      ],
      "source": [
        "X_train.describe()"
      ]
    },
    {
      "cell_type": "code",
      "execution_count": 151,
      "metadata": {
        "id": "8oAhBBkm3G-H"
      },
      "outputs": [],
      "source": [
        "X_test_scaled = scaling.transform(df_test_Word2Vec.iloc[:,:-1])"
      ]
    },
    {
      "cell_type": "code",
      "execution_count": 152,
      "metadata": {
        "colab": {
          "base_uri": "https://localhost:8080/"
        },
        "id": "H3eZ29wp3Xt7",
        "outputId": "b12d2403-bf8e-4397-c9e5-c7da43a3f54d"
      },
      "outputs": [
        {
          "output_type": "execute_result",
          "data": {
            "text/plain": [
              "array([[0.75402157, 0.9458886 , 0.50801467, ..., 0.67988813, 0.29170694,\n",
              "        0.69343529],\n",
              "       [0.59992005, 0.68360172, 0.45819925, ..., 0.35593596, 0.77714285,\n",
              "        0.42033882],\n",
              "       [0.32303755, 0.69715977, 0.29021555, ..., 0.65120068, 0.5444268 ,\n",
              "        0.28876062],\n",
              "       ...,\n",
              "       [0.7805947 , 0.68381485, 0.52509652, ..., 0.4418654 , 0.46716236,\n",
              "        0.27065166],\n",
              "       [0.38449693, 0.66037306, 0.75398527, ..., 0.39588041, 0.8403677 ,\n",
              "        0.28732816],\n",
              "       [0.4876393 , 0.37460994, 0.15383425, ..., 0.75847847, 0.82380242,\n",
              "        0.5286621 ]])"
            ]
          },
          "metadata": {},
          "execution_count": 152
        }
      ],
      "source": [
        "X_test_scaled"
      ]
    },
    {
      "cell_type": "code",
      "execution_count": 153,
      "metadata": {
        "id": "sXezeq1a3XxL"
      },
      "outputs": [],
      "source": [
        "X_test = pd.DataFrame(X_test_scaled, columns=df_train_Word2Vec.iloc[:,:-1].columns)"
      ]
    },
    {
      "cell_type": "code",
      "execution_count": 154,
      "metadata": {
        "colab": {
          "base_uri": "https://localhost:8080/",
          "height": 394
        },
        "id": "NMdHANxo3i4a",
        "outputId": "77ce7985-1e03-4ac8-8edb-070731b979a4"
      },
      "outputs": [
        {
          "output_type": "execute_result",
          "data": {
            "text/plain": [
              "                0           1           2           3           4           5  \\\n",
              "count  148.000000  148.000000  148.000000  148.000000  148.000000  148.000000   \n",
              "mean   0.517922    0.468004    0.458879    0.471699    0.541178    0.454702     \n",
              "std    0.146696    0.169756    0.165467    0.150058    0.162236    0.185542     \n",
              "min    0.062609   -0.077006    0.061811    0.064865    0.072479    0.010649     \n",
              "25%    0.414628    0.358510    0.347374    0.375684    0.434052    0.335664     \n",
              "50%    0.512535    0.475113    0.459966    0.477490    0.546210    0.444065     \n",
              "75%    0.623202    0.581138    0.550046    0.561807    0.638645    0.565785     \n",
              "max    0.974539    0.945889    0.878246    0.939864    1.039311    0.972211     \n",
              "\n",
              "                6           7           8           9  ...          48  \\\n",
              "count  148.000000  148.000000  148.000000  148.000000  ...  148.000000   \n",
              "mean   0.509705    0.504797    0.497458    0.531855    ...  0.507386     \n",
              "std    0.171869    0.146112    0.131245    0.146485    ...  0.168903     \n",
              "min    0.000000    0.100475    0.108098    0.123428    ... -0.002794     \n",
              "25%    0.405244    0.414284    0.423550    0.439109    ...  0.398039     \n",
              "50%    0.491150    0.513577    0.490205    0.534340    ...  0.501462     \n",
              "75%    0.631010    0.587683    0.582043    0.616499    ...  0.615576     \n",
              "max    0.998720    0.978583    0.823310    0.992447    ...  1.021676     \n",
              "\n",
              "               49          50          51          52          53          54  \\\n",
              "count  148.000000  148.000000  148.000000  148.000000  148.000000  148.000000   \n",
              "mean   0.516420    0.530729    0.471546    0.528915    0.488781    0.427351     \n",
              "std    0.171243    0.181572    0.156414    0.192403    0.136205    0.171981     \n",
              "min    0.077274    0.087005    0.120974   -0.037527    0.070471    0.076655     \n",
              "25%    0.405931    0.428048    0.365147    0.412664    0.406249    0.315378     \n",
              "50%    0.531898    0.523604    0.477986    0.530059    0.489738    0.413320     \n",
              "75%    0.620800    0.642013    0.587541    0.634438    0.560876    0.523372     \n",
              "max    1.006643    0.986480    0.895016    0.986562    0.837719    0.841535     \n",
              "\n",
              "               55          56          57  \n",
              "count  148.000000  148.000000  148.000000  \n",
              "mean   0.498654    0.570136    0.515300    \n",
              "std    0.125089    0.169297    0.168001    \n",
              "min    0.150749    0.027873    0.115196    \n",
              "25%    0.424482    0.467827    0.420687    \n",
              "50%    0.503544    0.577543    0.512901    \n",
              "75%    0.587187    0.699132    0.621907    \n",
              "max    0.758478    0.885422    0.936492    \n",
              "\n",
              "[8 rows x 58 columns]"
            ],
            "text/html": [
              "\n",
              "  <div id=\"df-beda911d-c31c-4f98-9763-4b0de67ddc36\">\n",
              "    <div class=\"colab-df-container\">\n",
              "      <div>\n",
              "<style scoped>\n",
              "    .dataframe tbody tr th:only-of-type {\n",
              "        vertical-align: middle;\n",
              "    }\n",
              "\n",
              "    .dataframe tbody tr th {\n",
              "        vertical-align: top;\n",
              "    }\n",
              "\n",
              "    .dataframe thead th {\n",
              "        text-align: right;\n",
              "    }\n",
              "</style>\n",
              "<table border=\"1\" class=\"dataframe\">\n",
              "  <thead>\n",
              "    <tr style=\"text-align: right;\">\n",
              "      <th></th>\n",
              "      <th>0</th>\n",
              "      <th>1</th>\n",
              "      <th>2</th>\n",
              "      <th>3</th>\n",
              "      <th>4</th>\n",
              "      <th>5</th>\n",
              "      <th>6</th>\n",
              "      <th>7</th>\n",
              "      <th>8</th>\n",
              "      <th>9</th>\n",
              "      <th>...</th>\n",
              "      <th>48</th>\n",
              "      <th>49</th>\n",
              "      <th>50</th>\n",
              "      <th>51</th>\n",
              "      <th>52</th>\n",
              "      <th>53</th>\n",
              "      <th>54</th>\n",
              "      <th>55</th>\n",
              "      <th>56</th>\n",
              "      <th>57</th>\n",
              "    </tr>\n",
              "  </thead>\n",
              "  <tbody>\n",
              "    <tr>\n",
              "      <th>count</th>\n",
              "      <td>148.000000</td>\n",
              "      <td>148.000000</td>\n",
              "      <td>148.000000</td>\n",
              "      <td>148.000000</td>\n",
              "      <td>148.000000</td>\n",
              "      <td>148.000000</td>\n",
              "      <td>148.000000</td>\n",
              "      <td>148.000000</td>\n",
              "      <td>148.000000</td>\n",
              "      <td>148.000000</td>\n",
              "      <td>...</td>\n",
              "      <td>148.000000</td>\n",
              "      <td>148.000000</td>\n",
              "      <td>148.000000</td>\n",
              "      <td>148.000000</td>\n",
              "      <td>148.000000</td>\n",
              "      <td>148.000000</td>\n",
              "      <td>148.000000</td>\n",
              "      <td>148.000000</td>\n",
              "      <td>148.000000</td>\n",
              "      <td>148.000000</td>\n",
              "    </tr>\n",
              "    <tr>\n",
              "      <th>mean</th>\n",
              "      <td>0.517922</td>\n",
              "      <td>0.468004</td>\n",
              "      <td>0.458879</td>\n",
              "      <td>0.471699</td>\n",
              "      <td>0.541178</td>\n",
              "      <td>0.454702</td>\n",
              "      <td>0.509705</td>\n",
              "      <td>0.504797</td>\n",
              "      <td>0.497458</td>\n",
              "      <td>0.531855</td>\n",
              "      <td>...</td>\n",
              "      <td>0.507386</td>\n",
              "      <td>0.516420</td>\n",
              "      <td>0.530729</td>\n",
              "      <td>0.471546</td>\n",
              "      <td>0.528915</td>\n",
              "      <td>0.488781</td>\n",
              "      <td>0.427351</td>\n",
              "      <td>0.498654</td>\n",
              "      <td>0.570136</td>\n",
              "      <td>0.515300</td>\n",
              "    </tr>\n",
              "    <tr>\n",
              "      <th>std</th>\n",
              "      <td>0.146696</td>\n",
              "      <td>0.169756</td>\n",
              "      <td>0.165467</td>\n",
              "      <td>0.150058</td>\n",
              "      <td>0.162236</td>\n",
              "      <td>0.185542</td>\n",
              "      <td>0.171869</td>\n",
              "      <td>0.146112</td>\n",
              "      <td>0.131245</td>\n",
              "      <td>0.146485</td>\n",
              "      <td>...</td>\n",
              "      <td>0.168903</td>\n",
              "      <td>0.171243</td>\n",
              "      <td>0.181572</td>\n",
              "      <td>0.156414</td>\n",
              "      <td>0.192403</td>\n",
              "      <td>0.136205</td>\n",
              "      <td>0.171981</td>\n",
              "      <td>0.125089</td>\n",
              "      <td>0.169297</td>\n",
              "      <td>0.168001</td>\n",
              "    </tr>\n",
              "    <tr>\n",
              "      <th>min</th>\n",
              "      <td>0.062609</td>\n",
              "      <td>-0.077006</td>\n",
              "      <td>0.061811</td>\n",
              "      <td>0.064865</td>\n",
              "      <td>0.072479</td>\n",
              "      <td>0.010649</td>\n",
              "      <td>0.000000</td>\n",
              "      <td>0.100475</td>\n",
              "      <td>0.108098</td>\n",
              "      <td>0.123428</td>\n",
              "      <td>...</td>\n",
              "      <td>-0.002794</td>\n",
              "      <td>0.077274</td>\n",
              "      <td>0.087005</td>\n",
              "      <td>0.120974</td>\n",
              "      <td>-0.037527</td>\n",
              "      <td>0.070471</td>\n",
              "      <td>0.076655</td>\n",
              "      <td>0.150749</td>\n",
              "      <td>0.027873</td>\n",
              "      <td>0.115196</td>\n",
              "    </tr>\n",
              "    <tr>\n",
              "      <th>25%</th>\n",
              "      <td>0.414628</td>\n",
              "      <td>0.358510</td>\n",
              "      <td>0.347374</td>\n",
              "      <td>0.375684</td>\n",
              "      <td>0.434052</td>\n",
              "      <td>0.335664</td>\n",
              "      <td>0.405244</td>\n",
              "      <td>0.414284</td>\n",
              "      <td>0.423550</td>\n",
              "      <td>0.439109</td>\n",
              "      <td>...</td>\n",
              "      <td>0.398039</td>\n",
              "      <td>0.405931</td>\n",
              "      <td>0.428048</td>\n",
              "      <td>0.365147</td>\n",
              "      <td>0.412664</td>\n",
              "      <td>0.406249</td>\n",
              "      <td>0.315378</td>\n",
              "      <td>0.424482</td>\n",
              "      <td>0.467827</td>\n",
              "      <td>0.420687</td>\n",
              "    </tr>\n",
              "    <tr>\n",
              "      <th>50%</th>\n",
              "      <td>0.512535</td>\n",
              "      <td>0.475113</td>\n",
              "      <td>0.459966</td>\n",
              "      <td>0.477490</td>\n",
              "      <td>0.546210</td>\n",
              "      <td>0.444065</td>\n",
              "      <td>0.491150</td>\n",
              "      <td>0.513577</td>\n",
              "      <td>0.490205</td>\n",
              "      <td>0.534340</td>\n",
              "      <td>...</td>\n",
              "      <td>0.501462</td>\n",
              "      <td>0.531898</td>\n",
              "      <td>0.523604</td>\n",
              "      <td>0.477986</td>\n",
              "      <td>0.530059</td>\n",
              "      <td>0.489738</td>\n",
              "      <td>0.413320</td>\n",
              "      <td>0.503544</td>\n",
              "      <td>0.577543</td>\n",
              "      <td>0.512901</td>\n",
              "    </tr>\n",
              "    <tr>\n",
              "      <th>75%</th>\n",
              "      <td>0.623202</td>\n",
              "      <td>0.581138</td>\n",
              "      <td>0.550046</td>\n",
              "      <td>0.561807</td>\n",
              "      <td>0.638645</td>\n",
              "      <td>0.565785</td>\n",
              "      <td>0.631010</td>\n",
              "      <td>0.587683</td>\n",
              "      <td>0.582043</td>\n",
              "      <td>0.616499</td>\n",
              "      <td>...</td>\n",
              "      <td>0.615576</td>\n",
              "      <td>0.620800</td>\n",
              "      <td>0.642013</td>\n",
              "      <td>0.587541</td>\n",
              "      <td>0.634438</td>\n",
              "      <td>0.560876</td>\n",
              "      <td>0.523372</td>\n",
              "      <td>0.587187</td>\n",
              "      <td>0.699132</td>\n",
              "      <td>0.621907</td>\n",
              "    </tr>\n",
              "    <tr>\n",
              "      <th>max</th>\n",
              "      <td>0.974539</td>\n",
              "      <td>0.945889</td>\n",
              "      <td>0.878246</td>\n",
              "      <td>0.939864</td>\n",
              "      <td>1.039311</td>\n",
              "      <td>0.972211</td>\n",
              "      <td>0.998720</td>\n",
              "      <td>0.978583</td>\n",
              "      <td>0.823310</td>\n",
              "      <td>0.992447</td>\n",
              "      <td>...</td>\n",
              "      <td>1.021676</td>\n",
              "      <td>1.006643</td>\n",
              "      <td>0.986480</td>\n",
              "      <td>0.895016</td>\n",
              "      <td>0.986562</td>\n",
              "      <td>0.837719</td>\n",
              "      <td>0.841535</td>\n",
              "      <td>0.758478</td>\n",
              "      <td>0.885422</td>\n",
              "      <td>0.936492</td>\n",
              "    </tr>\n",
              "  </tbody>\n",
              "</table>\n",
              "<p>8 rows × 58 columns</p>\n",
              "</div>\n",
              "      <button class=\"colab-df-convert\" onclick=\"convertToInteractive('df-beda911d-c31c-4f98-9763-4b0de67ddc36')\"\n",
              "              title=\"Convert this dataframe to an interactive table.\"\n",
              "              style=\"display:none;\">\n",
              "        \n",
              "  <svg xmlns=\"http://www.w3.org/2000/svg\" height=\"24px\"viewBox=\"0 0 24 24\"\n",
              "       width=\"24px\">\n",
              "    <path d=\"M0 0h24v24H0V0z\" fill=\"none\"/>\n",
              "    <path d=\"M18.56 5.44l.94 2.06.94-2.06 2.06-.94-2.06-.94-.94-2.06-.94 2.06-2.06.94zm-11 1L8.5 8.5l.94-2.06 2.06-.94-2.06-.94L8.5 2.5l-.94 2.06-2.06.94zm10 10l.94 2.06.94-2.06 2.06-.94-2.06-.94-.94-2.06-.94 2.06-2.06.94z\"/><path d=\"M17.41 7.96l-1.37-1.37c-.4-.4-.92-.59-1.43-.59-.52 0-1.04.2-1.43.59L10.3 9.45l-7.72 7.72c-.78.78-.78 2.05 0 2.83L4 21.41c.39.39.9.59 1.41.59.51 0 1.02-.2 1.41-.59l7.78-7.78 2.81-2.81c.8-.78.8-2.07 0-2.86zM5.41 20L4 18.59l7.72-7.72 1.47 1.35L5.41 20z\"/>\n",
              "  </svg>\n",
              "      </button>\n",
              "      \n",
              "  <style>\n",
              "    .colab-df-container {\n",
              "      display:flex;\n",
              "      flex-wrap:wrap;\n",
              "      gap: 12px;\n",
              "    }\n",
              "\n",
              "    .colab-df-convert {\n",
              "      background-color: #E8F0FE;\n",
              "      border: none;\n",
              "      border-radius: 50%;\n",
              "      cursor: pointer;\n",
              "      display: none;\n",
              "      fill: #1967D2;\n",
              "      height: 32px;\n",
              "      padding: 0 0 0 0;\n",
              "      width: 32px;\n",
              "    }\n",
              "\n",
              "    .colab-df-convert:hover {\n",
              "      background-color: #E2EBFA;\n",
              "      box-shadow: 0px 1px 2px rgba(60, 64, 67, 0.3), 0px 1px 3px 1px rgba(60, 64, 67, 0.15);\n",
              "      fill: #174EA6;\n",
              "    }\n",
              "\n",
              "    [theme=dark] .colab-df-convert {\n",
              "      background-color: #3B4455;\n",
              "      fill: #D2E3FC;\n",
              "    }\n",
              "\n",
              "    [theme=dark] .colab-df-convert:hover {\n",
              "      background-color: #434B5C;\n",
              "      box-shadow: 0px 1px 3px 1px rgba(0, 0, 0, 0.15);\n",
              "      filter: drop-shadow(0px 1px 2px rgba(0, 0, 0, 0.3));\n",
              "      fill: #FFFFFF;\n",
              "    }\n",
              "  </style>\n",
              "\n",
              "      <script>\n",
              "        const buttonEl =\n",
              "          document.querySelector('#df-beda911d-c31c-4f98-9763-4b0de67ddc36 button.colab-df-convert');\n",
              "        buttonEl.style.display =\n",
              "          google.colab.kernel.accessAllowed ? 'block' : 'none';\n",
              "\n",
              "        async function convertToInteractive(key) {\n",
              "          const element = document.querySelector('#df-beda911d-c31c-4f98-9763-4b0de67ddc36');\n",
              "          const dataTable =\n",
              "            await google.colab.kernel.invokeFunction('convertToInteractive',\n",
              "                                                     [key], {});\n",
              "          if (!dataTable) return;\n",
              "\n",
              "          const docLinkHtml = 'Like what you see? Visit the ' +\n",
              "            '<a target=\"_blank\" href=https://colab.research.google.com/notebooks/data_table.ipynb>data table notebook</a>'\n",
              "            + ' to learn more about interactive tables.';\n",
              "          element.innerHTML = '';\n",
              "          dataTable['output_type'] = 'display_data';\n",
              "          await google.colab.output.renderOutput(dataTable, element);\n",
              "          const docLink = document.createElement('div');\n",
              "          docLink.innerHTML = docLinkHtml;\n",
              "          element.appendChild(docLink);\n",
              "        }\n",
              "      </script>\n",
              "    </div>\n",
              "  </div>\n",
              "  "
            ]
          },
          "metadata": {},
          "execution_count": 154
        }
      ],
      "source": [
        "X_test.describe()"
      ]
    },
    {
      "cell_type": "markdown",
      "metadata": {
        "id": "uVgBEm8BfN4m"
      },
      "source": [
        "Instantiating the **Multinomial Navie Bayes** model"
      ]
    },
    {
      "cell_type": "code",
      "execution_count": 155,
      "metadata": {
        "id": "Hny5obZv1uyC"
      },
      "outputs": [],
      "source": [
        "mnb = MultinomialNB()"
      ]
    },
    {
      "cell_type": "markdown",
      "metadata": {
        "id": "xU9oK_0_fN4m"
      },
      "source": [
        "Training the model"
      ]
    },
    {
      "cell_type": "code",
      "execution_count": 156,
      "metadata": {
        "colab": {
          "base_uri": "https://localhost:8080/",
          "height": 75
        },
        "id": "oIITxDwZoWmq",
        "outputId": "581c1dd0-99a3-418d-c49b-6e2ebb875598"
      },
      "outputs": [
        {
          "output_type": "execute_result",
          "data": {
            "text/plain": [
              "MultinomialNB()"
            ],
            "text/html": [
              "<style>#sk-container-id-4 {color: black;background-color: white;}#sk-container-id-4 pre{padding: 0;}#sk-container-id-4 div.sk-toggleable {background-color: white;}#sk-container-id-4 label.sk-toggleable__label {cursor: pointer;display: block;width: 100%;margin-bottom: 0;padding: 0.3em;box-sizing: border-box;text-align: center;}#sk-container-id-4 label.sk-toggleable__label-arrow:before {content: \"▸\";float: left;margin-right: 0.25em;color: #696969;}#sk-container-id-4 label.sk-toggleable__label-arrow:hover:before {color: black;}#sk-container-id-4 div.sk-estimator:hover label.sk-toggleable__label-arrow:before {color: black;}#sk-container-id-4 div.sk-toggleable__content {max-height: 0;max-width: 0;overflow: hidden;text-align: left;background-color: #f0f8ff;}#sk-container-id-4 div.sk-toggleable__content pre {margin: 0.2em;color: black;border-radius: 0.25em;background-color: #f0f8ff;}#sk-container-id-4 input.sk-toggleable__control:checked~div.sk-toggleable__content {max-height: 200px;max-width: 100%;overflow: auto;}#sk-container-id-4 input.sk-toggleable__control:checked~label.sk-toggleable__label-arrow:before {content: \"▾\";}#sk-container-id-4 div.sk-estimator input.sk-toggleable__control:checked~label.sk-toggleable__label {background-color: #d4ebff;}#sk-container-id-4 div.sk-label input.sk-toggleable__control:checked~label.sk-toggleable__label {background-color: #d4ebff;}#sk-container-id-4 input.sk-hidden--visually {border: 0;clip: rect(1px 1px 1px 1px);clip: rect(1px, 1px, 1px, 1px);height: 1px;margin: -1px;overflow: hidden;padding: 0;position: absolute;width: 1px;}#sk-container-id-4 div.sk-estimator {font-family: monospace;background-color: #f0f8ff;border: 1px dotted black;border-radius: 0.25em;box-sizing: border-box;margin-bottom: 0.5em;}#sk-container-id-4 div.sk-estimator:hover {background-color: #d4ebff;}#sk-container-id-4 div.sk-parallel-item::after {content: \"\";width: 100%;border-bottom: 1px solid gray;flex-grow: 1;}#sk-container-id-4 div.sk-label:hover label.sk-toggleable__label {background-color: #d4ebff;}#sk-container-id-4 div.sk-serial::before {content: \"\";position: absolute;border-left: 1px solid gray;box-sizing: border-box;top: 0;bottom: 0;left: 50%;z-index: 0;}#sk-container-id-4 div.sk-serial {display: flex;flex-direction: column;align-items: center;background-color: white;padding-right: 0.2em;padding-left: 0.2em;position: relative;}#sk-container-id-4 div.sk-item {position: relative;z-index: 1;}#sk-container-id-4 div.sk-parallel {display: flex;align-items: stretch;justify-content: center;background-color: white;position: relative;}#sk-container-id-4 div.sk-item::before, #sk-container-id-4 div.sk-parallel-item::before {content: \"\";position: absolute;border-left: 1px solid gray;box-sizing: border-box;top: 0;bottom: 0;left: 50%;z-index: -1;}#sk-container-id-4 div.sk-parallel-item {display: flex;flex-direction: column;z-index: 1;position: relative;background-color: white;}#sk-container-id-4 div.sk-parallel-item:first-child::after {align-self: flex-end;width: 50%;}#sk-container-id-4 div.sk-parallel-item:last-child::after {align-self: flex-start;width: 50%;}#sk-container-id-4 div.sk-parallel-item:only-child::after {width: 0;}#sk-container-id-4 div.sk-dashed-wrapped {border: 1px dashed gray;margin: 0 0.4em 0.5em 0.4em;box-sizing: border-box;padding-bottom: 0.4em;background-color: white;}#sk-container-id-4 div.sk-label label {font-family: monospace;font-weight: bold;display: inline-block;line-height: 1.2em;}#sk-container-id-4 div.sk-label-container {text-align: center;}#sk-container-id-4 div.sk-container {/* jupyter's `normalize.less` sets `[hidden] { display: none; }` but bootstrap.min.css set `[hidden] { display: none !important; }` so we also need the `!important` here to be able to override the default hidden behavior on the sphinx rendered scikit-learn.org. See: https://github.com/scikit-learn/scikit-learn/issues/21755 */display: inline-block !important;position: relative;}#sk-container-id-4 div.sk-text-repr-fallback {display: none;}</style><div id=\"sk-container-id-4\" class=\"sk-top-container\"><div class=\"sk-text-repr-fallback\"><pre>MultinomialNB()</pre><b>In a Jupyter environment, please rerun this cell to show the HTML representation or trust the notebook. <br />On GitHub, the HTML representation is unable to render, please try loading this page with nbviewer.org.</b></div><div class=\"sk-container\" hidden><div class=\"sk-item\"><div class=\"sk-estimator sk-toggleable\"><input class=\"sk-toggleable__control sk-hidden--visually\" id=\"sk-estimator-id-12\" type=\"checkbox\" checked><label for=\"sk-estimator-id-12\" class=\"sk-toggleable__label sk-toggleable__label-arrow\">MultinomialNB</label><div class=\"sk-toggleable__content\"><pre>MultinomialNB()</pre></div></div></div></div></div>"
            ]
          },
          "metadata": {},
          "execution_count": 156
        }
      ],
      "source": [
        "mnb.fit(X_train, df_train_Word2Vec.Liked)"
      ]
    },
    {
      "cell_type": "markdown",
      "metadata": {
        "id": "ICalXk8PfN4n"
      },
      "source": [
        "Predicting on the test dataframe"
      ]
    },
    {
      "cell_type": "code",
      "execution_count": 157,
      "metadata": {
        "id": "YGUdpgX830Y1"
      },
      "outputs": [],
      "source": [
        "labels_Word2Vec = mnb.predict(X_test)"
      ]
    },
    {
      "cell_type": "code",
      "execution_count": 158,
      "metadata": {
        "id": "iLN_rHA430a6"
      },
      "outputs": [],
      "source": [
        "mat_Word2Vec = confusion_matrix(df_test_Word2Vec.Liked, labels_Word2Vec)"
      ]
    },
    {
      "cell_type": "code",
      "execution_count": 159,
      "metadata": {
        "colab": {
          "base_uri": "https://localhost:8080/",
          "height": 296
        },
        "id": "vFutZ1ZbFb31",
        "outputId": "4b3b3504-f114-47fc-e58e-ee72c8fcc22d"
      },
      "outputs": [
        {
          "output_type": "execute_result",
          "data": {
            "text/plain": [
              "Text(91.68, 0.5, 'Predicted label')"
            ]
          },
          "metadata": {},
          "execution_count": 159
        },
        {
          "output_type": "display_data",
          "data": {
            "text/plain": [
              "<Figure size 432x288 with 1 Axes>"
            ],
            "image/png": "[encoded data removed]"
          },
          "metadata": {
            "needs_background": "light"
          }
        }
      ],
      "source": [
        "sns.heatmap(mat_Word2Vec.T, square=True, annot=True, fmt='d', cbar=False)\n",
        "plt.xlabel('True label')\n",
        "plt.ylabel('Predicted label')"
      ]
    },
    {
      "cell_type": "markdown",
      "metadata": {
        "id": "i28l0VdUFvQn"
      },
      "source": [
        "The following observations can be concluded about the performance:\n",
        "\n",
        " - 40 is the number of true positives i.e. The number of actual negative reviews that were predicted negatively be the model\n",
        "\n",
        " - 60 is the number of true negatives i.e. The number of actual positive reviews that were predicted positively be the model\n",
        "\n",
        " - 34 is the number of false positives i.e. The number of actual negative reviews that were predicted positively be the model\n",
        "\n",
        " - 14 is the number of false negatives i.e. The number of actual positive reviews that were predicted negatively be the model"
      ]
    },
    {
      "cell_type": "code",
      "execution_count": 160,
      "metadata": {
        "id": "4vrWjpXxFb6D"
      },
      "outputs": [],
      "source": [
        "score_Word2Vec = accuracy_score(df_test_Word2Vec.Liked, labels_Word2Vec)"
      ]
    },
    {
      "cell_type": "code",
      "execution_count": 161,
      "metadata": {
        "colab": {
          "base_uri": "https://localhost:8080/"
        },
        "id": "MLmksHjaFb9z",
        "outputId": "956dfe72-9d40-4af5-ff3d-e24e21a5b07f"
      },
      "outputs": [
        {
          "output_type": "execute_result",
          "data": {
            "text/plain": [
              "0.6756756756756757"
            ]
          },
          "metadata": {},
          "execution_count": 161
        }
      ],
      "source": [
        "score_Word2Vec"
      ]
    },
    {
      "cell_type": "code",
      "execution_count": 162,
      "metadata": {
        "id": "Qjv8L_m6GRar"
      },
      "outputs": [],
      "source": [
        "report_Word2Vec = classification_report(df_test_Word2Vec.Liked, labels_Word2Vec)"
      ]
    },
    {
      "cell_type": "code",
      "execution_count": 163,
      "metadata": {
        "colab": {
          "base_uri": "https://localhost:8080/"
        },
        "id": "8S0P60f0GRcR",
        "outputId": "c80d2de6-7cc0-409f-e0be-804673f91c81"
      },
      "outputs": [
        {
          "output_type": "stream",
          "name": "stdout",
          "text": [
            "              precision    recall  f1-score   support\n",
            "\n",
            "           0       0.74      0.54      0.62        74\n",
            "           1       0.64      0.81      0.71        74\n",
            "\n",
            "    accuracy                           0.68       148\n",
            "   macro avg       0.69      0.68      0.67       148\n",
            "weighted avg       0.69      0.68      0.67       148\n",
            "\n"
          ]
        }
      ],
      "source": [
        "print(report_Word2Vec)"
      ]
    },
    {
      "cell_type": "code",
      "source": [
        "precision_Word2Vec,recall_Word2Vec,fscore_Word2Vec,support_Word2Vec=score(df_test_Word2Vec.Liked, labels_Word2Vec,average='macro')"
      ],
      "metadata": {
        "id": "-WRPlNlDfxrR"
      },
      "execution_count": 164,
      "outputs": []
    },
    {
      "cell_type": "markdown",
      "metadata": {
        "id": "_lnNbHhoFsOn"
      },
      "source": [
        "We will use **GridSearchCV** for Hyperparameter tuning"
      ]
    },
    {
      "cell_type": "code",
      "execution_count": 165,
      "metadata": {
        "id": "DJ6_d84MFraS"
      },
      "outputs": [],
      "source": [
        "m = [0.5, 0.5] # Taking equal priority values"
      ]
    },
    {
      "cell_type": "code",
      "execution_count": 166,
      "metadata": {
        "id": "1eT8N-XPFrnM"
      },
      "outputs": [],
      "source": [
        "neigh_Word2Vec = MultinomialNB(fit_prior=False, class_prior=l)"
      ]
    },
    {
      "cell_type": "code",
      "execution_count": 167,
      "metadata": {
        "id": "LtJzZ5h5FrqE"
      },
      "outputs": [],
      "source": [
        "alphas_Word2Vec = np.array([0.0001, 0.001, 0.01, 0.1, 1, 10, 100, 1000, 10000]) "
      ]
    },
    {
      "cell_type": "code",
      "execution_count": 168,
      "metadata": {
        "id": "l4x9_GjfFrsq"
      },
      "outputs": [],
      "source": [
        "# Placing alpha values in a dictionary\n",
        "tuned_parameters_Word2Vec = {'alpha' : alphas_Word2Vec}"
      ]
    },
    {
      "cell_type": "code",
      "execution_count": 169,
      "metadata": {
        "id": "NsRJgP6AHCAL"
      },
      "outputs": [],
      "source": [
        "clf_Word2Vec = GridSearchCV(neigh_Word2Vec, tuned_parameters_Word2Vec, cv=5, scoring = 'roc_auc', return_train_score=True)"
      ]
    },
    {
      "cell_type": "code",
      "execution_count": 170,
      "metadata": {
        "colab": {
          "base_uri": "https://localhost:8080/",
          "height": 118
        },
        "id": "Ub8_iQqjHCGe",
        "outputId": "32f2ab73-1d00-40ff-cad9-d0f226042dff"
      },
      "outputs": [
        {
          "output_type": "execute_result",
          "data": {
            "text/plain": [
              "GridSearchCV(cv=5,\n",
              "             estimator=MultinomialNB(class_prior=[0.5, 0.5], fit_prior=False),\n",
              "             param_grid={'alpha': array([1.e-04, 1.e-03, 1.e-02, 1.e-01, 1.e+00, 1.e+01, 1.e+02, 1.e+03,\n",
              "       1.e+04])},\n",
              "             return_train_score=True, scoring='roc_auc')"
            ],
            "text/html": [
              "<style>#sk-container-id-5 {color: black;background-color: white;}#sk-container-id-5 pre{padding: 0;}#sk-container-id-5 div.sk-toggleable {background-color: white;}#sk-container-id-5 label.sk-toggleable__label {cursor: pointer;display: block;width: 100%;margin-bottom: 0;padding: 0.3em;box-sizing: border-box;text-align: center;}#sk-container-id-5 label.sk-toggleable__label-arrow:before {content: \"▸\";float: left;margin-right: 0.25em;color: #696969;}#sk-container-id-5 label.sk-toggleable__label-arrow:hover:before {color: black;}#sk-container-id-5 div.sk-estimator:hover label.sk-toggleable__label-arrow:before {color: black;}#sk-container-id-5 div.sk-toggleable__content {max-height: 0;max-width: 0;overflow: hidden;text-align: left;background-color: #f0f8ff;}#sk-container-id-5 div.sk-toggleable__content pre {margin: 0.2em;color: black;border-radius: 0.25em;background-color: #f0f8ff;}#sk-container-id-5 input.sk-toggleable__control:checked~div.sk-toggleable__content {max-height: 200px;max-width: 100%;overflow: auto;}#sk-container-id-5 input.sk-toggleable__control:checked~label.sk-toggleable__label-arrow:before {content: \"▾\";}#sk-container-id-5 div.sk-estimator input.sk-toggleable__control:checked~label.sk-toggleable__label {background-color: #d4ebff;}#sk-container-id-5 div.sk-label input.sk-toggleable__control:checked~label.sk-toggleable__label {background-color: #d4ebff;}#sk-container-id-5 input.sk-hidden--visually {border: 0;clip: rect(1px 1px 1px 1px);clip: rect(1px, 1px, 1px, 1px);height: 1px;margin: -1px;overflow: hidden;padding: 0;position: absolute;width: 1px;}#sk-container-id-5 div.sk-estimator {font-family: monospace;background-color: #f0f8ff;border: 1px dotted black;border-radius: 0.25em;box-sizing: border-box;margin-bottom: 0.5em;}#sk-container-id-5 div.sk-estimator:hover {background-color: #d4ebff;}#sk-container-id-5 div.sk-parallel-item::after {content: \"\";width: 100%;border-bottom: 1px solid gray;flex-grow: 1;}#sk-container-id-5 div.sk-label:hover label.sk-toggleable__label {background-color: #d4ebff;}#sk-container-id-5 div.sk-serial::before {content: \"\";position: absolute;border-left: 1px solid gray;box-sizing: border-box;top: 0;bottom: 0;left: 50%;z-index: 0;}#sk-container-id-5 div.sk-serial {display: flex;flex-direction: column;align-items: center;background-color: white;padding-right: 0.2em;padding-left: 0.2em;position: relative;}#sk-container-id-5 div.sk-item {position: relative;z-index: 1;}#sk-container-id-5 div.sk-parallel {display: flex;align-items: stretch;justify-content: center;background-color: white;position: relative;}#sk-container-id-5 div.sk-item::before, #sk-container-id-5 div.sk-parallel-item::before {content: \"\";position: absolute;border-left: 1px solid gray;box-sizing: border-box;top: 0;bottom: 0;left: 50%;z-index: -1;}#sk-container-id-5 div.sk-parallel-item {display: flex;flex-direction: column;z-index: 1;position: relative;background-color: white;}#sk-container-id-5 div.sk-parallel-item:first-child::after {align-self: flex-end;width: 50%;}#sk-container-id-5 div.sk-parallel-item:last-child::after {align-self: flex-start;width: 50%;}#sk-container-id-5 div.sk-parallel-item:only-child::after {width: 0;}#sk-container-id-5 div.sk-dashed-wrapped {border: 1px dashed gray;margin: 0 0.4em 0.5em 0.4em;box-sizing: border-box;padding-bottom: 0.4em;background-color: white;}#sk-container-id-5 div.sk-label label {font-family: monospace;font-weight: bold;display: inline-block;line-height: 1.2em;}#sk-container-id-5 div.sk-label-container {text-align: center;}#sk-container-id-5 div.sk-container {/* jupyter's `normalize.less` sets `[hidden] { display: none; }` but bootstrap.min.css set `[hidden] { display: none !important; }` so we also need the `!important` here to be able to override the default hidden behavior on the sphinx rendered scikit-learn.org. See: https://github.com/scikit-learn/scikit-learn/issues/21755 */display: inline-block !important;position: relative;}#sk-container-id-5 div.sk-text-repr-fallback {display: none;}</style><div id=\"sk-container-id-5\" class=\"sk-top-container\"><div class=\"sk-text-repr-fallback\"><pre>GridSearchCV(cv=5,\n",
              "             estimator=MultinomialNB(class_prior=[0.5, 0.5], fit_prior=False),\n",
              "             param_grid={&#x27;alpha&#x27;: array([1.e-04, 1.e-03, 1.e-02, 1.e-01, 1.e+00, 1.e+01, 1.e+02, 1.e+03,\n",
              "       1.e+04])},\n",
              "             return_train_score=True, scoring=&#x27;roc_auc&#x27;)</pre><b>In a Jupyter environment, please rerun this cell to show the HTML representation or trust the notebook. <br />On GitHub, the HTML representation is unable to render, please try loading this page with nbviewer.org.</b></div><div class=\"sk-container\" hidden><div class=\"sk-item sk-dashed-wrapped\"><div class=\"sk-label-container\"><div class=\"sk-label sk-toggleable\"><input class=\"sk-toggleable__control sk-hidden--visually\" id=\"sk-estimator-id-13\" type=\"checkbox\" ><label for=\"sk-estimator-id-13\" class=\"sk-toggleable__label sk-toggleable__label-arrow\">GridSearchCV</label><div class=\"sk-toggleable__content\"><pre>GridSearchCV(cv=5,\n",
              "             estimator=MultinomialNB(class_prior=[0.5, 0.5], fit_prior=False),\n",
              "             param_grid={&#x27;alpha&#x27;: array([1.e-04, 1.e-03, 1.e-02, 1.e-01, 1.e+00, 1.e+01, 1.e+02, 1.e+03,\n",
              "       1.e+04])},\n",
              "             return_train_score=True, scoring=&#x27;roc_auc&#x27;)</pre></div></div></div><div class=\"sk-parallel\"><div class=\"sk-parallel-item\"><div class=\"sk-item\"><div class=\"sk-label-container\"><div class=\"sk-label sk-toggleable\"><input class=\"sk-toggleable__control sk-hidden--visually\" id=\"sk-estimator-id-14\" type=\"checkbox\" ><label for=\"sk-estimator-id-14\" class=\"sk-toggleable__label sk-toggleable__label-arrow\">estimator: MultinomialNB</label><div class=\"sk-toggleable__content\"><pre>MultinomialNB(class_prior=[0.5, 0.5], fit_prior=False)</pre></div></div></div><div class=\"sk-serial\"><div class=\"sk-item\"><div class=\"sk-estimator sk-toggleable\"><input class=\"sk-toggleable__control sk-hidden--visually\" id=\"sk-estimator-id-15\" type=\"checkbox\" ><label for=\"sk-estimator-id-15\" class=\"sk-toggleable__label sk-toggleable__label-arrow\">MultinomialNB</label><div class=\"sk-toggleable__content\"><pre>MultinomialNB(class_prior=[0.5, 0.5], fit_prior=False)</pre></div></div></div></div></div></div></div></div></div></div>"
            ]
          },
          "metadata": {},
          "execution_count": 170
        }
      ],
      "source": [
        "clf_Word2Vec.fit(X_train, df_train_Word2Vec.Liked)"
      ]
    },
    {
      "cell_type": "code",
      "execution_count": 171,
      "metadata": {
        "id": "hF3-Ya2-HCLZ"
      },
      "outputs": [],
      "source": [
        "results_Word2Vec = pd.DataFrame.from_dict(clf_Word2Vec.cv_results_)"
      ]
    },
    {
      "cell_type": "code",
      "execution_count": 172,
      "metadata": {
        "id": "fnSOGuvSHvhr"
      },
      "outputs": [],
      "source": [
        "#Sorting the results dataframe based on the param_alpha values\n",
        "results_Word2Vec = results_Word2Vec.sort_values(['param_alpha'])"
      ]
    },
    {
      "cell_type": "code",
      "execution_count": 173,
      "metadata": {
        "id": "buBMzUV5HvkZ"
      },
      "outputs": [],
      "source": [
        "train_auc_Word2Vec = results_Word2Vec['mean_train_score']"
      ]
    },
    {
      "cell_type": "code",
      "execution_count": 174,
      "metadata": {
        "id": "l3IWyVUKHvnz"
      },
      "outputs": [],
      "source": [
        "cv_auc_Word2Vec = results_Word2Vec['mean_test_score']"
      ]
    },
    {
      "cell_type": "code",
      "execution_count": 175,
      "metadata": {
        "id": "e6KdsoDjFrwA"
      },
      "outputs": [],
      "source": [
        "k_Word2Vec = results_Word2Vec['param_alpha']"
      ]
    },
    {
      "cell_type": "code",
      "execution_count": 176,
      "metadata": {
        "id": "hIVfXPj6KfX5"
      },
      "outputs": [],
      "source": [
        "#alpha value is taken log alpha value for better visualization\n",
        "alpha2 = []\n",
        "\n",
        "for i in range(0, len(k_Word2Vec), 1):\n",
        "  o = math.log10(k_Word2Vec[i])\n",
        "  alpha2.append(o)\n",
        "alpha2.sort()"
      ]
    },
    {
      "cell_type": "code",
      "execution_count": 177,
      "metadata": {
        "colab": {
          "base_uri": "https://localhost:8080/"
        },
        "id": "ZGISXTfHKfer",
        "outputId": "9bf9d5ed-2784-43c4-f923-e57184651c3a"
      },
      "outputs": [
        {
          "output_type": "stream",
          "name": "stdout",
          "text": [
            "[-4.0, -3.0, -2.0, -1.0, 0.0, 1.0, 2.0, 3.0, 4.0]\n"
          ]
        }
      ],
      "source": [
        "print(alpha2)"
      ]
    },
    {
      "cell_type": "code",
      "execution_count": 178,
      "metadata": {
        "colab": {
          "base_uri": "https://localhost:8080/",
          "height": 364
        },
        "id": "Kcl2sXwDK0gt",
        "outputId": "e30175a2-c093-462e-b866-df07f6b770a3"
      },
      "outputs": [
        {
          "output_type": "display_data",
          "data": {
            "text/plain": [
              "<Figure size 432x288 with 1 Axes>"
            ],
            "image/png": "[encoded data removed]"
          },
          "metadata": {
            "needs_background": "light"
          }
        },
        {
          "output_type": "stream",
          "name": "stdout",
          "text": [
            "{'alpha': 0.1}\n",
            "0.6887902995462069\n",
            "Best alpha log value\n",
            "-1.0\n"
          ]
        }
      ],
      "source": [
        "plt.plot(alpha2, train_auc_Word2Vec, label='Train AUC')\n",
        "plt.plot(alpha2, cv_auc_Word2Vec, label='CV AUC')\n",
        "plt.scatter(alpha2, train_auc_Word2Vec, label='Train AUC *points')\n",
        "plt.scatter(alpha1, cv_auc_Word2Vec, label='CV AUC')\n",
        "\n",
        "plt.legend()\n",
        "plt.xlabel('log alpha base 10: hyperparameter')\n",
        "plt.ylabel('AUC')\n",
        "plt.title('ROCAUC vs LOG Alpha plot')\n",
        "plt.grid()\n",
        "plt.show()\n",
        "\n",
        "print(clf_Word2Vec.best_params_)\n",
        "print(clf_Word2Vec.best_score_)\n",
        "print('Best alpha log value')\n",
        "a_Word2Vec = math.log10(clf_Word2Vec.best_params_.get('alpha'))\n",
        "print(a_Word2Vec)"
      ]
    },
    {
      "cell_type": "markdown",
      "metadata": {
        "id": "5huoEfxy3uR1"
      },
      "source": [
        "As per the above output, the best value of alpha = 0.1"
      ]
    },
    {
      "cell_type": "code",
      "execution_count": 179,
      "metadata": {
        "id": "HVbv7zi8K0jU"
      },
      "outputs": [],
      "source": [
        "neigh_Word2Vec_best_Hyperparameter = MultinomialNB(alpha=0.1, fit_prior=False, class_prior=l)"
      ]
    },
    {
      "cell_type": "code",
      "execution_count": 180,
      "metadata": {
        "colab": {
          "base_uri": "https://localhost:8080/",
          "height": 75
        },
        "id": "FbMPb6RXK0ls",
        "outputId": "7c1e81f5-ae3c-4259-9982-7987b4faad08"
      },
      "outputs": [
        {
          "output_type": "execute_result",
          "data": {
            "text/plain": [
              "MultinomialNB(alpha=0.1, class_prior=[0.5, 0.5], fit_prior=False)"
            ],
            "text/html": [
              "<style>#sk-container-id-6 {color: black;background-color: white;}#sk-container-id-6 pre{padding: 0;}#sk-container-id-6 div.sk-toggleable {background-color: white;}#sk-container-id-6 label.sk-toggleable__label {cursor: pointer;display: block;width: 100%;margin-bottom: 0;padding: 0.3em;box-sizing: border-box;text-align: center;}#sk-container-id-6 label.sk-toggleable__label-arrow:before {content: \"▸\";float: left;margin-right: 0.25em;color: #696969;}#sk-container-id-6 label.sk-toggleable__label-arrow:hover:before {color: black;}#sk-container-id-6 div.sk-estimator:hover label.sk-toggleable__label-arrow:before {color: black;}#sk-container-id-6 div.sk-toggleable__content {max-height: 0;max-width: 0;overflow: hidden;text-align: left;background-color: #f0f8ff;}#sk-container-id-6 div.sk-toggleable__content pre {margin: 0.2em;color: black;border-radius: 0.25em;background-color: #f0f8ff;}#sk-container-id-6 input.sk-toggleable__control:checked~div.sk-toggleable__content {max-height: 200px;max-width: 100%;overflow: auto;}#sk-container-id-6 input.sk-toggleable__control:checked~label.sk-toggleable__label-arrow:before {content: \"▾\";}#sk-container-id-6 div.sk-estimator input.sk-toggleable__control:checked~label.sk-toggleable__label {background-color: #d4ebff;}#sk-container-id-6 div.sk-label input.sk-toggleable__control:checked~label.sk-toggleable__label {background-color: #d4ebff;}#sk-container-id-6 input.sk-hidden--visually {border: 0;clip: rect(1px 1px 1px 1px);clip: rect(1px, 1px, 1px, 1px);height: 1px;margin: -1px;overflow: hidden;padding: 0;position: absolute;width: 1px;}#sk-container-id-6 div.sk-estimator {font-family: monospace;background-color: #f0f8ff;border: 1px dotted black;border-radius: 0.25em;box-sizing: border-box;margin-bottom: 0.5em;}#sk-container-id-6 div.sk-estimator:hover {background-color: #d4ebff;}#sk-container-id-6 div.sk-parallel-item::after {content: \"\";width: 100%;border-bottom: 1px solid gray;flex-grow: 1;}#sk-container-id-6 div.sk-label:hover label.sk-toggleable__label {background-color: #d4ebff;}#sk-container-id-6 div.sk-serial::before {content: \"\";position: absolute;border-left: 1px solid gray;box-sizing: border-box;top: 0;bottom: 0;left: 50%;z-index: 0;}#sk-container-id-6 div.sk-serial {display: flex;flex-direction: column;align-items: center;background-color: white;padding-right: 0.2em;padding-left: 0.2em;position: relative;}#sk-container-id-6 div.sk-item {position: relative;z-index: 1;}#sk-container-id-6 div.sk-parallel {display: flex;align-items: stretch;justify-content: center;background-color: white;position: relative;}#sk-container-id-6 div.sk-item::before, #sk-container-id-6 div.sk-parallel-item::before {content: \"\";position: absolute;border-left: 1px solid gray;box-sizing: border-box;top: 0;bottom: 0;left: 50%;z-index: -1;}#sk-container-id-6 div.sk-parallel-item {display: flex;flex-direction: column;z-index: 1;position: relative;background-color: white;}#sk-container-id-6 div.sk-parallel-item:first-child::after {align-self: flex-end;width: 50%;}#sk-container-id-6 div.sk-parallel-item:last-child::after {align-self: flex-start;width: 50%;}#sk-container-id-6 div.sk-parallel-item:only-child::after {width: 0;}#sk-container-id-6 div.sk-dashed-wrapped {border: 1px dashed gray;margin: 0 0.4em 0.5em 0.4em;box-sizing: border-box;padding-bottom: 0.4em;background-color: white;}#sk-container-id-6 div.sk-label label {font-family: monospace;font-weight: bold;display: inline-block;line-height: 1.2em;}#sk-container-id-6 div.sk-label-container {text-align: center;}#sk-container-id-6 div.sk-container {/* jupyter's `normalize.less` sets `[hidden] { display: none; }` but bootstrap.min.css set `[hidden] { display: none !important; }` so we also need the `!important` here to be able to override the default hidden behavior on the sphinx rendered scikit-learn.org. See: https://github.com/scikit-learn/scikit-learn/issues/21755 */display: inline-block !important;position: relative;}#sk-container-id-6 div.sk-text-repr-fallback {display: none;}</style><div id=\"sk-container-id-6\" class=\"sk-top-container\"><div class=\"sk-text-repr-fallback\"><pre>MultinomialNB(alpha=0.1, class_prior=[0.5, 0.5], fit_prior=False)</pre><b>In a Jupyter environment, please rerun this cell to show the HTML representation or trust the notebook. <br />On GitHub, the HTML representation is unable to render, please try loading this page with nbviewer.org.</b></div><div class=\"sk-container\" hidden><div class=\"sk-item\"><div class=\"sk-estimator sk-toggleable\"><input class=\"sk-toggleable__control sk-hidden--visually\" id=\"sk-estimator-id-16\" type=\"checkbox\" checked><label for=\"sk-estimator-id-16\" class=\"sk-toggleable__label sk-toggleable__label-arrow\">MultinomialNB</label><div class=\"sk-toggleable__content\"><pre>MultinomialNB(alpha=0.1, class_prior=[0.5, 0.5], fit_prior=False)</pre></div></div></div></div></div>"
            ]
          },
          "metadata": {},
          "execution_count": 180
        }
      ],
      "source": [
        "neigh_Word2Vec_best_Hyperparameter.fit(X_train, df_train_Word2Vec.Liked)"
      ]
    },
    {
      "cell_type": "code",
      "execution_count": 181,
      "metadata": {
        "id": "jQWYYgYvL-KA"
      },
      "outputs": [],
      "source": [
        "y_train_pred_Word2Vec_best_Hyperparameter = neigh_Word2Vec_best_Hyperparameter.predict_proba(X_train)[:,1]"
      ]
    },
    {
      "cell_type": "code",
      "execution_count": 182,
      "metadata": {
        "id": "5E86RDIPL-Mb"
      },
      "outputs": [],
      "source": [
        "y_test_pred_Word2Vec_best_Hyperparameter = neigh_Word2Vec_best_Hyperparameter.predict_proba(X_test)[:,1]"
      ]
    },
    {
      "cell_type": "code",
      "execution_count": 183,
      "metadata": {
        "id": "5-OCRXJsL-P0"
      },
      "outputs": [],
      "source": [
        "train_fpr_Word2Vec, train_tpr_Word2Vec, tr_thresholds_Word2Vec = roc_curve(df_train_Word2Vec.Liked, y_train_pred_Word2Vec_best_Hyperparameter)"
      ]
    },
    {
      "cell_type": "code",
      "execution_count": 184,
      "metadata": {
        "id": "1SZzEePWQfKs"
      },
      "outputs": [],
      "source": [
        "test_fpr_Word2Vec, test_tpr_Word2Vec, te_thresholds_Word2Vec = roc_curve(df_test_Word2Vec.Liked, y_test_pred_Word2Vec_best_Hyperparameter)"
      ]
    },
    {
      "cell_type": "code",
      "execution_count": 185,
      "metadata": {
        "colab": {
          "base_uri": "https://localhost:8080/",
          "height": 295
        },
        "id": "F-EYcj0UQfNA",
        "outputId": "81738f8e-ca34-4c6e-d6a7-6792a0e94402"
      },
      "outputs": [
        {
          "output_type": "display_data",
          "data": {
            "text/plain": [
              "<Figure size 432x288 with 1 Axes>"
            ],
            "image/png": "[encoded data removed]"
          },
          "metadata": {
            "needs_background": "light"
          }
        }
      ],
      "source": [
        "# auc function will calculate the area under curve\n",
        "plt.plot(train_fpr_Word2Vec, train_tpr_Word2Vec, label='train AUC = '+str(auc(train_fpr_Word2Vec, train_tpr_Word2Vec)))\n",
        "plt.plot(test_fpr_Word2Vec, test_tpr_Word2Vec, label='train AUC = '+str(auc(test_fpr_Word2Vec, test_tpr_Word2Vec)))\n",
        "plt.legend()\n",
        "plt.xlabel(\"FPR\")\n",
        "plt.ylabel(\"TPR\")\n",
        "plt.title(\"ROC PLOT\")\n",
        "plt.grid()\n",
        "plt.show()"
      ]
    },
    {
      "cell_type": "code",
      "execution_count": 186,
      "metadata": {
        "colab": {
          "base_uri": "https://localhost:8080/"
        },
        "id": "DFVzym6HQfQb",
        "outputId": "73188786-45f8-460f-bd0e-bd6277a173c5"
      },
      "outputs": [
        {
          "output_type": "stream",
          "name": "stdout",
          "text": [
            "The maximum value of tpr*(1-tpr) =  0.46036477427165057\n"
          ]
        }
      ],
      "source": [
        "best_t_Word2Vec = bestthreshold(tr_thresholds_Word2Vec, train_fpr_Word2Vec, train_tpr_Word2Vec)"
      ]
    },
    {
      "cell_type": "code",
      "execution_count": 187,
      "metadata": {
        "colab": {
          "base_uri": "https://localhost:8080/",
          "height": 296
        },
        "id": "1Lvz90HXRv4S",
        "outputId": "b598083a-43a5-4a32-cbc3-efc6c1f9ff3e"
      },
      "outputs": [
        {
          "output_type": "stream",
          "name": "stdout",
          "text": [
            "Train confusion matrix\n"
          ]
        },
        {
          "output_type": "display_data",
          "data": {
            "text/plain": [
              "<Figure size 432x288 with 2 Axes>"
            ],
            "image/png": "[encoded data removed]"
          },
          "metadata": {
            "needs_background": "light"
          }
        }
      ],
      "source": [
        "print(\"Train confusion matrix\")\n",
        "ax = sns.heatmap(confusion_matrix(df_train_Word2Vec.Liked, predictusingbestt(y_train_pred_Word2Vec_best_Hyperparameter, best_t_Word2Vec)),annot=True,fmt='d')\n",
        "ax.set_ylim([0,2])\n",
        "plt.ylabel('actual values')\n",
        "plt.xlabel('predicted values')\n",
        "plt.show()"
      ]
    },
    {
      "cell_type": "code",
      "source": [
        "print(\"Test confusion matrix\")\n",
        "ax = sns.heatmap(confusion_matrix(df_test_Word2Vec.Liked, predictusingbestt(y_test_pred_Word2Vec_best_Hyperparameter, best_t_Word2Vec)),annot=True,fmt='d')\n",
        "ax.set_ylim([0,2])\n",
        "plt.ylabel('actual values')\n",
        "plt.xlabel('predicted values')\n",
        "plt.show()"
      ],
      "metadata": {
        "colab": {
          "base_uri": "https://localhost:8080/",
          "height": 300
        },
        "id": "Me2Qp08tfD2z",
        "outputId": "8c5c074d-be9b-4a62-90fe-fd6080aa5151"
      },
      "execution_count": 188,
      "outputs": [
        {
          "output_type": "stream",
          "name": "stdout",
          "text": [
            "Test confusion matrix\n"
          ]
        },
        {
          "output_type": "display_data",
          "data": {
            "text/plain": [
              "<Figure size 432x288 with 2 Axes>"
            ],
            "image/png": "[encoded data removed]"
          },
          "metadata": {
            "needs_background": "light"
          }
        }
      ]
    },
    {
      "cell_type": "markdown",
      "source": [
        "Based on the training and testing confusion matrix, it can be observed that the model performance is poor as it is underfitting. This could be because the dataset has less number of records and thus there is less data for training purpose"
      ],
      "metadata": {
        "id": "dtcdzBY2fHvG"
      }
    },
    {
      "cell_type": "markdown",
      "source": [
        "### Formatted table to compare the models"
      ],
      "metadata": {
        "id": "tn9lOn1sesF8"
      }
    },
    {
      "cell_type": "code",
      "source": [
        "from prettytable import PrettyTable"
      ],
      "metadata": {
        "id": "94LKSrbGek6P"
      },
      "execution_count": 189,
      "outputs": []
    },
    {
      "cell_type": "code",
      "source": [
        "# Specify the Column Names while initializing the Table\n",
        "myTable = PrettyTable([\"Model Name\", \"Testing Accuracy\", \"Precision\", \"Recall\", \"F-score\", \"Support\"])"
      ],
      "metadata": {
        "id": "nh95u8mrek9m"
      },
      "execution_count": 190,
      "outputs": []
    },
    {
      "cell_type": "code",
      "source": [
        "# Adding rows to the table\n",
        "myTable.add_row([\"MultinomialNB using TfIDF\", round(score_TfIdf*100, 3), precision_TfIdf, recall_TfIdf, fscore_TfIdf, support_TfIdf])\n",
        "myTable.add_row([\"MultinomialNB using Word2Vec\", round(score_Word2Vec*100,3), precision_Word2Vec, recall_Word2Vec, fscore_Word2Vec, support_Word2Vec])"
      ],
      "metadata": {
        "id": "b7BeAMRoelAf"
      },
      "execution_count": 191,
      "outputs": []
    },
    {
      "cell_type": "code",
      "source": [
        "print(myTable)"
      ],
      "metadata": {
        "colab": {
          "base_uri": "https://localhost:8080/"
        },
        "id": "QtXpymdUelGb",
        "outputId": "76db5459-6741-44f3-9177-297156d1d59b"
      },
      "execution_count": 192,
      "outputs": [
        {
          "output_type": "stream",
          "name": "stdout",
          "text": [
            "+------------------------------+------------------+--------------------+--------------------+--------------------+---------+\n",
            "|          Model Name          | Testing Accuracy |     Precision      |       Recall       |      F-score       | Support |\n",
            "+------------------------------+------------------+--------------------+--------------------+--------------------+---------+\n",
            "|  MultinomialNB using TfIDF   |      77.333      | 0.7730616864742501 | 0.7619909502262443 |  0.76515011972739  |   None  |\n",
            "| MultinomialNB using Word2Vec |      67.568      | 0.6895193065405831 | 0.6756756756756757 | 0.6696428571428572 |   None  |\n",
            "+------------------------------+------------------+--------------------+--------------------+--------------------+---------+\n"
          ]
        }
      ]
    },
    {
      "cell_type": "markdown",
      "source": [
        "## Comparison between TfIDF Vectorizer and Word2Vec Vectorizer"
      ],
      "metadata": {
        "id": "-qQY9tw3kw5H"
      }
    },
    {
      "cell_type": "markdown",
      "source": [
        "**TfIdf vectorizer** takes the importance of words by considering 2 things.\n",
        "First is the frequency of a word in the document. The words which are common will have more frequency and they will be less important. But the model may consider those words to be very important.\n",
        "\n",
        "Suppose a document is about electric cars. In such a document, the word car, automobile, vehicle etc are domain specific words and these may occur many times in this document. So these words may not impact much meaning to the document. To reduce the importance given to such words, we can do inverse document frequency using TfIdf vectorizer.\n",
        "\n",
        "But while using TfIdf vectorizer, the sequence information of the text is lost. This will reduce the accuracy.\n",
        "\n",
        "Using TfIdf, we will not get much semantic information about the text. To overcome this drawback, we will use the concept of word embeddings. Word2Vec is a word embedding technique"
      ],
      "metadata": {
        "id": "Y2JMDMQBh5q3"
      }
    },
    {
      "cell_type": "markdown",
      "source": [
        "**Word2Vec vectorizer** follows 2 different process of predicting the vector representation of the word :\n",
        "\n",
        "- Continuous bag of words (CBOW)\n",
        "- Skipgram\n",
        "\n",
        "Both CBOW and skip gram use a neural network.\n",
        "\n",
        "In CBOW, we predict a word based on the context.\n",
        "\n",
        "In Skip gram, we predict the context based on the word.\n",
        "\n",
        "Suppose we have a dictionary that has 10,000 words. Suppose the word man is present in this dictionary at the 5000th position. We can convert this word man into a vector representation in a one hot encoded form. Suppose we have a word woman which is present in the 9000th position. We can convert this word woman into a vector representation in a one hot encoded form.\n",
        "\n",
        "The one hot representation has a lot of zero i.e. it is a sparse matrix. The size of this matrix is very huge. The ML algorithm will find it difficult to generalize this representation.\n",
        "\n",
        "To overcome the above drawbacks, we will use the word embedding\n",
        "\n",
        "In word embedding, there is a concept of feature representation.\n",
        "\n",
        "Suppose we have some words. We will convert these words into vectors based on some features. We can consider any number of random features like Gender, Age, Food etc. The feature gender is related to Boy, Girl, King and Queen. But this feature is not related to Apple and Mango. The feature royal is related to the King and Queen.\n",
        "\n",
        "The advantage of feature representation is that the dimension of the vector is equal to the number of features. Also the matrix obtained is a dense matrix."
      ],
      "metadata": {
        "id": "Kd4_vdzYh8Hs"
      }
    }
  ],
  "metadata": {
    "colab": {
      "provenance": []
    },
    "kernelspec": {
      "display_name": "Python 3",
      "language": "python",
      "name": "python3"
    },
    "language_info": {
      "codemirror_mode": {
        "name": "ipython",
        "version": 3
      },
      "file_extension": ".py",
      "mimetype": "text/x-python",
      "name": "python",
      "nbconvert_exporter": "python",
      "pygments_lexer": "ipython3",
      "version": "3.6.5"
    }
  },
  "nbformat": 4,
  "nbformat_minor": 0
}